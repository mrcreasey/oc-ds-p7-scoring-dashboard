{
 "cells": [
  {
   "cell_type": "markdown",
   "metadata": {
    "id": "DFji9bO_eJMR"
   },
   "source": [
    "# Implémentez un modèle de scoring\n",
    "\n",
    "- **Projet 7 du parcours « Data Scientist » d’OpenClassrooms**\n",
    "- **Mark Creasey**\n",
    "\n",
    "## Étape 2 : Modélisation\n"
   ]
  },
  {
   "cell_type": "markdown",
   "metadata": {},
   "source": [
    "## 1.1 Compréhension du problème\n",
    "\n",
    "### 1.1.1 Problématique\n",
    "\n",
    "La société financière, nommée **\"Prêt à dépenser\"**, propose des crédits à la consommation pour des\n",
    "personnes ayant peu ou pas du tout d'historique de prêt.\n",
    "\n",
    "L’entreprise souhaite mettre en œuvre **un outil de “scoring crédit”** pour calculer la qu’un client\n",
    "rembourse son crédit, puis classifie la demande en crédit accordé ou refusé. Elle souhaite donc\n",
    "développer **un algorithme de classification** en s’appuyant sur des sources de données variées (données\n",
    "comportementales, données provenant d'autres institutions financières, etc.).\n",
    "\n",
    "### 1.1.2 Les données\n",
    "\n",
    "Voici [les données](https://www.kaggle.com/c/home-credit-default-risk/data) pour réaliser le\n",
    "dashboard. Pour plus de simplicité, vous pouvez les télécharger à\n",
    "[cette adresse](https://s3-eu-west-1.amazonaws.com/static.oc-static.com/prod/courses/files/Parcours_data_scientist/Projet+-+Impl%C3%A9menter+un+mod%C3%A8le+de+scoring/Projet+Mise+en+prod+-+home-credit-default-risk.zip).\n",
    "\n",
    "### 1.1.1 Mission\n",
    "\n",
    "- Sélectionner un kernel Kaggle pour faciliter la préparation des données nécessaires à l’élaboration du modèle de scoring.\n",
    "- Analyser ce kernel et l’adapter aux besoins de votre mission.\n",
    "\n",
    "Focalise sur :\n",
    "\n",
    "1. La construction d'un **modèle de scoring** qui donnera une prédiction sur la probabilité de faillite\n",
    "   d'un client de façon automatique.\n",
    "   - élaboration\n",
    "   - optimisation\n",
    "   - comprehension (interpretabilité)\n",
    "2. Construction d'un **dashboard interactif** qui montre avec transparence les décisions d’octroi de\n",
    "   crédit, à destination des gestionnaires de la relation client permettant d'interpréter les\n",
    "   prédictions faites par le modèle et d’améliorer la connaissance client des chargés de relation\n",
    "   client.\n"
   ]
  },
  {
   "cell_type": "markdown",
   "metadata": {
    "id": "wM6z7uUfebpT"
   },
   "source": [
    "## 1.2 Definition de l'environnement\n",
    "\n",
    "- `local` : Développement local (avec échantillon de 50 Mo de données)\n",
    "- `colab` : Google Colab\n",
    "- `kaggle` : Kaggle Kernel\n"
   ]
  },
  {
   "cell_type": "code",
   "execution_count": 1,
   "metadata": {
    "colab": {
     "base_uri": "https://localhost:8080/"
    },
    "id": "EMeZBFf2eTfz",
    "outputId": "2657b460-a736-4de6-de5f-1bf9ceb1ea36"
   },
   "outputs": [],
   "source": [
    "ENV = 'local'\n",
    "\n",
    "if ENV == 'local':\n",
    "    # local development\n",
    "    DATA_FOLDER = '../data/raw'\n",
    "    OUT_FOLDER = '../data/out'\n",
    "    IMAGE_FOLDER = '../images/modelisation'\n",
    "\n",
    "if ENV == 'colab':\n",
    "    # Colaboratory - uncomment les 2 lignes suivant pour connecter à votre drive\n",
    "    # from google.colab import drive\n",
    "    # drive.mount('/content/drive')\n",
    "    DATA_FOLDER = '/content/drive/MyDrive/data/OC7'\n",
    "    OUT_FOLDER = '/content/drive/MyDrive/data/OC7'\n",
    "    IMAGE_FOLDER = '/content/drive/MyDrive/images/OC7/modelisation'\n"
   ]
  },
  {
   "cell_type": "markdown",
   "metadata": {
    "id": "HvnInn3XfWQ2"
   },
   "source": [
    "## 1.3 Fichiers de données\n",
    "\n",
    "1. Les données en format CSV (>700Mb compactés) sont à télecharger de ce lien:\n",
    "\n",
    "- https://www.kaggle.com/c/home-credit-default-risk/data\n",
    "- Pour plus de simplicité, vous pouvez les télécharger à [cette adresse.](https://s3-eu-west-1.amazonaws.com/static.oc-static.com/prod/courses/files/Parcours_data_scientist/Projet+-+Impl%C3%A9menter+un+mod%C3%A8le+de+scoring/Projet+Mise+en+prod+-+home-credit-default-risk.zip)\n",
    "\n",
    "2.  Placer le fichier compacté (**.zip**) dans le **DATA_FOLDER** défini ci-dessous\n"
   ]
  },
  {
   "cell_type": "markdown",
   "metadata": {
    "id": "ELwbVYvAgSMU"
   },
   "source": [
    "### Noms des fichiers de données (identique pour nettoyage et l'analyse exploratoire)\n",
    "\n",
    "- Le grand fichier zip des données doit être placé dans `DATA_FOLDER` au préalable\n",
    "- Tous les autres fichiers de données sont téléchargés ou crées pendant le nettoyage, puis enregistrés dans `OUT_FOLDER`\n"
   ]
  },
  {
   "cell_type": "code",
   "execution_count": 2,
   "metadata": {
    "id": "F_iJnVSEfKma"
   },
   "outputs": [],
   "source": [
    "# Données (DATA_FOLDER)\n",
    "ZIPPED_DATA_FILENAME = f'Projet+Mise+en+prod+-+home-credit-default-risk.zip'\n",
    "RAW_DATA_FILENAME = 'HomeCredit_columns_description.csv'\n",
    "SAMPLE_DATA_FILENAME = 'HomeCredit_columns_description.csv'\n",
    "\n",
    "\n",
    "# Données nettoyés (OUT_FOLDER)\n",
    "CLEAN_DATA_FILENAME = 'cleaned_data_scoring.csv'\n",
    "CLEAN_DATA_SAMPLE = 'cleaned_data_sample.csv'  # 100,000 registres\n",
    "CLEAN_DATA_FEATURES = 'cleaned_data_features.csv'  # 100 meilleur features\n",
    "SAMPLE_SIZE = 10000\n"
   ]
  },
  {
   "cell_type": "markdown",
   "metadata": {
    "id": "aMFxPWtagxDT"
   },
   "source": [
    "## 1.4 Requirements: Bibliothèques utilisées dans ce notebook\n",
    "\n",
    "Ce notebook marche a été testé en developpement local, sur Google Colab et Kaggle\n",
    "\n",
    "```txt\n",
    "# copy dans un fichier requirements.txt, puis\n",
    "# !pip install -r requirements.txt\n",
    "```\n"
   ]
  },
  {
   "cell_type": "code",
   "execution_count": 3,
   "metadata": {
    "id": "pIP-XhqSgyC_"
   },
   "outputs": [],
   "source": [
    "# Decommentarise la ligne suivant si vous ne voulez pas changer vos versions existants\n",
    "# !pip install numpy pandas matplotlib seaborn scipy sklearn missingno requests\n"
   ]
  },
  {
   "cell_type": "code",
   "execution_count": 4,
   "metadata": {
    "colab": {
     "base_uri": "https://localhost:8080/"
    },
    "id": "kvsIMU0Ihglo",
    "outputId": "dee247f2-f59d-4167-c0fc-922e84b453fe"
   },
   "outputs": [
    {
     "name": "stdout",
     "output_type": "stream",
     "text": [
      "required modules: ['seaborn', 'sklearn', 'matplotlib', 'pandas', 'numpy']\n",
      "missing modules: []\n"
     ]
    }
   ],
   "source": [
    "# import local functions\n",
    "import outils_io\n",
    "outils_io.install_libraries({'numpy', 'pandas', 'matplotlib',\n",
    "                             'seaborn', 'sklearn'})\n"
   ]
  },
  {
   "cell_type": "markdown",
   "metadata": {
    "id": "s8kXrZGCg6h1"
   },
   "source": [
    "## 1.5 Import dependencies\n"
   ]
  },
  {
   "cell_type": "markdown",
   "metadata": {
    "id": "KPt54cG5g7Up"
   },
   "source": [
    "### 1.5.1 Import des bibliothèques utilisées par ce notebook\n"
   ]
  },
  {
   "cell_type": "code",
   "execution_count": 5,
   "metadata": {
    "id": "XtukhHGIg-Ag"
   },
   "outputs": [],
   "source": [
    "# suppress furture warnings de pandas 1.3.0\n",
    "from contextlib import contextmanager\n",
    "import time\n",
    "import gc\n",
    "import os\n",
    "import warnings\n",
    "import platform\n",
    "warnings.simplefilter(action='ignore', category=FutureWarning)\n"
   ]
  },
  {
   "cell_type": "code",
   "execution_count": 6,
   "metadata": {},
   "outputs": [],
   "source": [
    "import sklearn\n",
    "import seaborn as sns\n",
    "import pandas as pd\n",
    "import numpy as np\n",
    "import matplotlib.pyplot as plt\n",
    "\n",
    "# feature preprocessing\n",
    "from sklearn import impute\n",
    "from sklearn import preprocessing\n",
    "\n",
    "# feature et parameter selection\n",
    "from sklearn.model_selection import train_test_split, GridSearchCV\n",
    "\n",
    "# Sampling (SMOTE : Synthetic Minority Oversampling TEchnique)\n",
    "import imblearn\n",
    "from imblearn.over_sampling import SMOTE, RandomOverSampler\n",
    "from imblearn.under_sampling import RandomUnderSampler, TomekLinks\n",
    "from imblearn.combine import SMOTETomek\n"
   ]
  },
  {
   "cell_type": "markdown",
   "metadata": {
    "id": "FhE8BZ1ihG2I"
   },
   "source": [
    "### 1.5.2 Liste des versions des bibliothèques utilisées\n"
   ]
  },
  {
   "cell_type": "code",
   "execution_count": 7,
   "metadata": {
    "colab": {
     "base_uri": "https://localhost:8080/"
    },
    "id": "FJXh67-FhIwI",
    "outputId": "cf659d51-6099-46fb-c9fb-56d2067fe4a6"
   },
   "outputs": [
    {
     "name": "stdout",
     "output_type": "stream",
     "text": [
      "python version = 3.7.0\n",
      "versions des bibliothèques utilisées:\n",
      "platform==1.0.8; sklearn==1.0.2; seaborn==0.11.2; pandas==1.1.5; numpy==1.21.5; imblearn==0.9.0\n"
     ]
    }
   ],
   "source": [
    "print(f'python version = {platform.python_version()}')\n",
    "print('versions des bibliothèques utilisées:')\n",
    "print('; '.join(f'{m.__name__}=={m.__version__}' for m in globals(\n",
    ").values() if getattr(m, '__version__', None)))\n"
   ]
  },
  {
   "cell_type": "markdown",
   "metadata": {
    "id": "5f04qBPghSsr"
   },
   "source": [
    "### 1.5.3 Configuration défauts d'affichage\n"
   ]
  },
  {
   "cell_type": "code",
   "execution_count": 8,
   "metadata": {
    "id": "mIoSzAqXhMEV"
   },
   "outputs": [],
   "source": [
    "from sklearn import set_config\n",
    "pd.set_option('display.max_columns', 200)  # pour afficher toutes les colonnes\n",
    "pd.set_option('display.max_rows', 20)  # pour afficher max 20 lignes\n",
    "pd.set_option('display.max_colwidth', 800)\n",
    "\n",
    "%matplotlib inline\n",
    "sns.set_theme(style=\"white\", context=\"notebook\")\n",
    "sns.set_color_codes(\"pastel\")\n",
    "sns.set_palette(\"tab10\")\n",
    "\n",
    "set_config(display='diagram')\n",
    "# displays HTML representation in a jupyter context\n"
   ]
  },
  {
   "cell_type": "markdown",
   "metadata": {},
   "source": [
    "### Bibliothèque personelle\n",
    "\n",
    "On utilise un nom non standard\n"
   ]
  },
  {
   "cell_type": "code",
   "execution_count": 9,
   "metadata": {},
   "outputs": [],
   "source": [
    "import outils_io\n",
    "import outils_preprocess\n",
    "import outils_stats\n",
    "import outils_timed\n",
    "import outils_vis\n",
    "\n",
    "# frequently used functions\n",
    "from outils_vis import to_png\n",
    "from outils_timed import timer\n"
   ]
  },
  {
   "cell_type": "markdown",
   "metadata": {},
   "source": [
    "### Configuration personelle\n"
   ]
  },
  {
   "cell_type": "code",
   "execution_count": 10,
   "metadata": {},
   "outputs": [],
   "source": [
    "\n",
    "# Enregistre parametres globals dans outils\n",
    "outils_vis.set_option('IMAGE_FOLDER', IMAGE_FOLDER)\n",
    "outils_vis.set_option('SAVE_IMAGES', True)\n",
    "\n",
    "if ENV != 'kaggle':\n",
    "    outils_io.os_make_dir(DATA_FOLDER)\n",
    "    outils_io.os_make_dir(OUT_FOLDER)\n",
    "\n",
    "outils_io.os_make_dir(IMAGE_FOLDER)\n",
    "\n",
    "RANDOM_SEED = 42"
   ]
  },
  {
   "cell_type": "markdown",
   "metadata": {},
   "source": [
    "## Fonctions utilitaires\n"
   ]
  },
  {
   "cell_type": "markdown",
   "metadata": {},
   "source": [
    "### Test si un séries est log scale\n",
    "\n",
    "- utilisé pour l'échelle des validation curves des hyperparamètres\n"
   ]
  },
  {
   "cell_type": "code",
   "execution_count": 11,
   "metadata": {},
   "outputs": [
    {
     "name": "stdout",
     "output_type": "stream",
     "text": [
      "False\n",
      "False\n",
      "True\n"
     ]
    }
   ],
   "source": [
    "# import numpy as np\n",
    "def is_log_scale(series):\n",
    "    \"\"\"Test si series est log scale\"\"\"\n",
    "    try:\n",
    "        if isinstance(series, pd.Series):\n",
    "            series = series.values\n",
    "        # suppose les valeurs au fin sont plus grand\n",
    "        dif1 = series[-1] / series[-2]\n",
    "        dif2 = series[-2] / series[-3]\n",
    "        return round(dif1/dif2, 2) == 1.\n",
    "    except:\n",
    "        return False\n",
    "\n",
    "\n",
    "print(is_log_scale([0, 1]))\n",
    "print(is_log_scale(range(1, 10)))\n",
    "print(is_log_scale(np.logspace(2, 8, 10)))\n"
   ]
  },
  {
   "cell_type": "markdown",
   "metadata": {},
   "source": [
    "# Import des données nettoyés\n"
   ]
  },
  {
   "cell_type": "code",
   "execution_count": 12,
   "metadata": {},
   "outputs": [
    {
     "name": "stdout",
     "output_type": "stream",
     "text": [
      "Load cleaned data - done in 0s\n"
     ]
    }
   ],
   "source": [
    "# Set SAMPLE=True for Rapid Development\n",
    "SAMPLE = True\n",
    "\n",
    "full_data_path = f'{OUT_FOLDER}/{CLEAN_DATA_FILENAME}'  # > 700 variables\n",
    "best_data_path = f'{OUT_FOLDER}/{CLEAN_DATA_FEATURES}'  # les top 100 features\n",
    "# echantillon pour developpement rapide\n",
    "sample_data_path = f'{OUT_FOLDER}/{CLEAN_DATA_SAMPLE}'\n",
    "\n",
    "cleaned_data_path = sample_data_path if SAMPLE else best_data_path\n",
    "with timer('Load cleaned data'):\n",
    "    df_data = pd.read_csv(cleaned_data_path)\n"
   ]
  },
  {
   "cell_type": "code",
   "execution_count": 13,
   "metadata": {},
   "outputs": [
    {
     "name": "stdout",
     "output_type": "stream",
     "text": [
      "Initial df memory usage is 6.49 MB for 85 columns\n",
      "Final memory usage is: 1.88 MB - decreased by 71.0%\n",
      "Reduce memory - done in 0s\n"
     ]
    }
   ],
   "source": [
    "with timer('Reduce memory'):\n",
    "    df_data = outils_preprocess.reduce_memory(df_data)\n"
   ]
  },
  {
   "cell_type": "markdown",
   "metadata": {},
   "source": [
    "## Create X (fields), y (target)\n"
   ]
  },
  {
   "cell_type": "code",
   "execution_count": 14,
   "metadata": {},
   "outputs": [
    {
     "name": "stdout",
     "output_type": "stream",
     "text": [
      "(10000, 83)\n",
      "(10000,)\n"
     ]
    }
   ],
   "source": [
    "def create_X_y(df: pd.DataFrame):\n",
    "    target = df['TARGET'].copy()\n",
    "    fields = df.drop(columns=['TARGET', 'SK_ID_CURR'])\n",
    "    return fields, target\n",
    "\n",
    "\n",
    "X, y = create_X_y(df_data)\n",
    "print(X.shape)\n",
    "print(y.shape)\n"
   ]
  },
  {
   "cell_type": "code",
   "execution_count": 15,
   "metadata": {},
   "outputs": [
    {
     "name": "stdout",
     "output_type": "stream",
     "text": [
      "(1000, 83)\n",
      "(1000,)\n"
     ]
    }
   ],
   "source": [
    "def sample_data(df_x:pd.DataFrame,y_:pd.Series, nb=1000):\n",
    "    \"\"\"\n",
    "    Obtenir un échantillon de X et y pour des statistiques\n",
    "    pour eviter d'alourdir la traitement\n",
    "    \"\"\"\n",
    "    nb=min(nb, len(df_x))\n",
    "    target=y_.name\n",
    "    df_x = df_x.join(y_)\n",
    "    df_sample=df_x.sample(n=nb)\n",
    "    y_sample=df_sample[target]\n",
    "    x_sample=df_sample.drop(columns=target)\n",
    "    return x_sample,y_sample\n",
    "\n",
    "# test\n",
    "x_sample, y_sample=sample_data(X,y)\n",
    "print(x_sample.shape)\n",
    "print(y_sample.shape)\n",
    "\n",
    "# del x_sample,y_sample\n"
   ]
  },
  {
   "cell_type": "code",
   "execution_count": 16,
   "metadata": {},
   "outputs": [
    {
     "name": "stdout",
     "output_type": "stream",
     "text": [
      "[0 1]\n"
     ]
    }
   ],
   "source": [
    "TARGET_CLASSES = ['0=repaid', '1=not repaid']\n",
    "le = preprocessing.LabelEncoder()\n",
    "target_classes = le.fit_transform(TARGET_CLASSES)\n",
    "print(target_classes)\n"
   ]
  },
  {
   "cell_type": "markdown",
   "metadata": {},
   "source": [
    "## Division en jeux de données d'entraînement et de test\n",
    "\n",
    "Avant d'encoder les variables catégoriques, et normaliser les variables, il faut diviser entre données d'entrainement et test, pour éviter 'data leakage' :\n",
    "\n",
    "- Entrainement sur les données train\n",
    "- Utilise les jeux de données test pour simuler des nouvelles observations (donc aucun partage de connaissance entre données train et test)\n",
    "\n",
    "Pour division entre données d'entrainement et test, on a plusieurs stratégies :\n",
    "\n",
    "- une division aléatoire (ex 80% entrainement, 20% test) : Mais on risque de mettre beaucoup de créer de bias dans le jeu d'entrainement si il n'est pas répresentatif des classes à prédire\n",
    "\n",
    "- stratification : Essayer de garantie que le jeu de données d'entrainement ont le même distribution de classes cibles\n",
    "\n",
    "#### Références\n",
    "\n",
    "- <https://scikit-learn.org/stable/common_pitfalls.html#data-leakage>\n",
    "- <https://scikit-learn.org/stable/modules/generated/sklearn.model_selection.train_test_split.html>\n",
    "- <https://towardsdatascience.com/how-to-master-the-subtle-art-of-train-test-set-generation-7a8408bcd578>\n"
   ]
  },
  {
   "cell_type": "code",
   "execution_count": 17,
   "metadata": {},
   "outputs": [],
   "source": [
    "# Split the data into train and test sets\n",
    "x_train, x_test, y_train, y_test = train_test_split(\n",
    "    X, y, stratify=y, test_size=0.2, random_state=RANDOM_SEED)\n",
    "\n"
   ]
  },
  {
   "cell_type": "markdown",
   "metadata": {},
   "source": [
    "Verifier que la stratification a produit l'effet désiré :"
   ]
  },
  {
   "cell_type": "code",
   "execution_count": 18,
   "metadata": {},
   "outputs": [
    {
     "name": "stdout",
     "output_type": "stream",
     "text": [
      "0    0.91725\n",
      "1    0.08275\n",
      "Name: TARGET, dtype: float64\n",
      "0    0.9175\n",
      "1    0.0825\n",
      "Name: TARGET, dtype: float64\n"
     ]
    }
   ],
   "source": [
    "print(y_train.value_counts(normalize=True))\n",
    "print(y_test.value_counts(normalize=True))"
   ]
  },
  {
   "cell_type": "markdown",
   "metadata": {},
   "source": [
    "## Preprocessing de données\n",
    "\n",
    "On crée un preprocessor pour pouvoir ajuster les paramètres de preprocessing\n"
   ]
  },
  {
   "cell_type": "code",
   "execution_count": 19,
   "metadata": {},
   "outputs": [
    {
     "name": "stdout",
     "output_type": "stream",
     "text": [
      "numerical_features : 83\n",
      "category_features : 0\n",
      "target_features : TARGET\n"
     ]
    }
   ],
   "source": [
    "from sklearn.compose import make_column_selector\n",
    "\n",
    "cat_selector = make_column_selector(dtype_include=object)\n",
    "num_selector = make_column_selector(dtype_include=np.number)\n",
    "\n",
    "category_features = cat_selector(x_train)\n",
    "numerical_features = num_selector(x_train)\n",
    "target_features = y_train.name\n",
    "\n",
    "print(f'numerical_features : {len(numerical_features)}')\n",
    "print(f'category_features : {len(category_features)}')\n",
    "print(f'target_features : {target_features}')\n"
   ]
  },
  {
   "cell_type": "code",
   "execution_count": 20,
   "metadata": {},
   "outputs": [
    {
     "data": {
      "text/html": [
       "<style>#sk-ed76232b-384c-4653-bf66-a7331c9b4230 {color: black;background-color: white;}#sk-ed76232b-384c-4653-bf66-a7331c9b4230 pre{padding: 0;}#sk-ed76232b-384c-4653-bf66-a7331c9b4230 div.sk-toggleable {background-color: white;}#sk-ed76232b-384c-4653-bf66-a7331c9b4230 label.sk-toggleable__label {cursor: pointer;display: block;width: 100%;margin-bottom: 0;padding: 0.3em;box-sizing: border-box;text-align: center;}#sk-ed76232b-384c-4653-bf66-a7331c9b4230 label.sk-toggleable__label-arrow:before {content: \"▸\";float: left;margin-right: 0.25em;color: #696969;}#sk-ed76232b-384c-4653-bf66-a7331c9b4230 label.sk-toggleable__label-arrow:hover:before {color: black;}#sk-ed76232b-384c-4653-bf66-a7331c9b4230 div.sk-estimator:hover label.sk-toggleable__label-arrow:before {color: black;}#sk-ed76232b-384c-4653-bf66-a7331c9b4230 div.sk-toggleable__content {max-height: 0;max-width: 0;overflow: hidden;text-align: left;background-color: #f0f8ff;}#sk-ed76232b-384c-4653-bf66-a7331c9b4230 div.sk-toggleable__content pre {margin: 0.2em;color: black;border-radius: 0.25em;background-color: #f0f8ff;}#sk-ed76232b-384c-4653-bf66-a7331c9b4230 input.sk-toggleable__control:checked~div.sk-toggleable__content {max-height: 200px;max-width: 100%;overflow: auto;}#sk-ed76232b-384c-4653-bf66-a7331c9b4230 input.sk-toggleable__control:checked~label.sk-toggleable__label-arrow:before {content: \"▾\";}#sk-ed76232b-384c-4653-bf66-a7331c9b4230 div.sk-estimator input.sk-toggleable__control:checked~label.sk-toggleable__label {background-color: #d4ebff;}#sk-ed76232b-384c-4653-bf66-a7331c9b4230 div.sk-label input.sk-toggleable__control:checked~label.sk-toggleable__label {background-color: #d4ebff;}#sk-ed76232b-384c-4653-bf66-a7331c9b4230 input.sk-hidden--visually {border: 0;clip: rect(1px 1px 1px 1px);clip: rect(1px, 1px, 1px, 1px);height: 1px;margin: -1px;overflow: hidden;padding: 0;position: absolute;width: 1px;}#sk-ed76232b-384c-4653-bf66-a7331c9b4230 div.sk-estimator {font-family: monospace;background-color: #f0f8ff;border: 1px dotted black;border-radius: 0.25em;box-sizing: border-box;margin-bottom: 0.5em;}#sk-ed76232b-384c-4653-bf66-a7331c9b4230 div.sk-estimator:hover {background-color: #d4ebff;}#sk-ed76232b-384c-4653-bf66-a7331c9b4230 div.sk-parallel-item::after {content: \"\";width: 100%;border-bottom: 1px solid gray;flex-grow: 1;}#sk-ed76232b-384c-4653-bf66-a7331c9b4230 div.sk-label:hover label.sk-toggleable__label {background-color: #d4ebff;}#sk-ed76232b-384c-4653-bf66-a7331c9b4230 div.sk-serial::before {content: \"\";position: absolute;border-left: 1px solid gray;box-sizing: border-box;top: 2em;bottom: 0;left: 50%;}#sk-ed76232b-384c-4653-bf66-a7331c9b4230 div.sk-serial {display: flex;flex-direction: column;align-items: center;background-color: white;padding-right: 0.2em;padding-left: 0.2em;}#sk-ed76232b-384c-4653-bf66-a7331c9b4230 div.sk-item {z-index: 1;}#sk-ed76232b-384c-4653-bf66-a7331c9b4230 div.sk-parallel {display: flex;align-items: stretch;justify-content: center;background-color: white;}#sk-ed76232b-384c-4653-bf66-a7331c9b4230 div.sk-parallel::before {content: \"\";position: absolute;border-left: 1px solid gray;box-sizing: border-box;top: 2em;bottom: 0;left: 50%;}#sk-ed76232b-384c-4653-bf66-a7331c9b4230 div.sk-parallel-item {display: flex;flex-direction: column;position: relative;background-color: white;}#sk-ed76232b-384c-4653-bf66-a7331c9b4230 div.sk-parallel-item:first-child::after {align-self: flex-end;width: 50%;}#sk-ed76232b-384c-4653-bf66-a7331c9b4230 div.sk-parallel-item:last-child::after {align-self: flex-start;width: 50%;}#sk-ed76232b-384c-4653-bf66-a7331c9b4230 div.sk-parallel-item:only-child::after {width: 0;}#sk-ed76232b-384c-4653-bf66-a7331c9b4230 div.sk-dashed-wrapped {border: 1px dashed gray;margin: 0 0.4em 0.5em 0.4em;box-sizing: border-box;padding-bottom: 0.4em;background-color: white;position: relative;}#sk-ed76232b-384c-4653-bf66-a7331c9b4230 div.sk-label label {font-family: monospace;font-weight: bold;background-color: white;display: inline-block;line-height: 1.2em;}#sk-ed76232b-384c-4653-bf66-a7331c9b4230 div.sk-label-container {position: relative;z-index: 2;text-align: center;}#sk-ed76232b-384c-4653-bf66-a7331c9b4230 div.sk-container {/* jupyter's `normalize.less` sets `[hidden] { display: none; }` but bootstrap.min.css set `[hidden] { display: none !important; }` so we also need the `!important` here to be able to override the default hidden behavior on the sphinx rendered scikit-learn.org. See: https://github.com/scikit-learn/scikit-learn/issues/21755 */display: inline-block !important;position: relative;}#sk-ed76232b-384c-4653-bf66-a7331c9b4230 div.sk-text-repr-fallback {display: none;}</style><div id=\"sk-ed76232b-384c-4653-bf66-a7331c9b4230\" class=\"sk-top-container\"><div class=\"sk-text-repr-fallback\"><pre>ColumnTransformer(remainder=&#x27;passthrough&#x27;,\n",
       "                  transformers=[(&#x27;num&#x27;,\n",
       "                                 Pipeline(steps=[(&#x27;imputer&#x27;,\n",
       "                                                  SimpleImputer(strategy=&#x27;median&#x27;)),\n",
       "                                                 (&#x27;scaler&#x27;, StandardScaler())]),\n",
       "                                 &lt;sklearn.compose._column_transformer.make_column_selector object at 0x0000021E6C1D9CC0&gt;),\n",
       "                                (&#x27;cat&#x27;,\n",
       "                                 Pipeline(steps=[(&#x27;imputer&#x27;,\n",
       "                                                  SimpleImputer(fill_value=&#x27;missing&#x27;,\n",
       "                                                                strategy=&#x27;constant&#x27;)),\n",
       "                                                 (&#x27;encoding&#x27;,\n",
       "                                                  OneHotEncoder(dtype=&lt;class &#x27;int&#x27;&gt;,\n",
       "                                                                handle_unknown=&#x27;ignore&#x27;))]),\n",
       "                                 &lt;sklearn.compose._column_transformer.make_column_selector object at 0x0000021E770D6DA0&gt;)])</pre><b>Please rerun this cell to show the HTML repr or trust the notebook.</b></div><div class=\"sk-container\" hidden><div class=\"sk-item sk-dashed-wrapped\"><div class=\"sk-label-container\"><div class=\"sk-label sk-toggleable\"><input class=\"sk-toggleable__control sk-hidden--visually\" id=\"9acbdb37-611c-450d-9fdf-a6e3e1576f9c\" type=\"checkbox\" ><label for=\"9acbdb37-611c-450d-9fdf-a6e3e1576f9c\" class=\"sk-toggleable__label sk-toggleable__label-arrow\">ColumnTransformer</label><div class=\"sk-toggleable__content\"><pre>ColumnTransformer(remainder=&#x27;passthrough&#x27;,\n",
       "                  transformers=[(&#x27;num&#x27;,\n",
       "                                 Pipeline(steps=[(&#x27;imputer&#x27;,\n",
       "                                                  SimpleImputer(strategy=&#x27;median&#x27;)),\n",
       "                                                 (&#x27;scaler&#x27;, StandardScaler())]),\n",
       "                                 &lt;sklearn.compose._column_transformer.make_column_selector object at 0x0000021E6C1D9CC0&gt;),\n",
       "                                (&#x27;cat&#x27;,\n",
       "                                 Pipeline(steps=[(&#x27;imputer&#x27;,\n",
       "                                                  SimpleImputer(fill_value=&#x27;missing&#x27;,\n",
       "                                                                strategy=&#x27;constant&#x27;)),\n",
       "                                                 (&#x27;encoding&#x27;,\n",
       "                                                  OneHotEncoder(dtype=&lt;class &#x27;int&#x27;&gt;,\n",
       "                                                                handle_unknown=&#x27;ignore&#x27;))]),\n",
       "                                 &lt;sklearn.compose._column_transformer.make_column_selector object at 0x0000021E770D6DA0&gt;)])</pre></div></div></div><div class=\"sk-parallel\"><div class=\"sk-parallel-item\"><div class=\"sk-item\"><div class=\"sk-label-container\"><div class=\"sk-label sk-toggleable\"><input class=\"sk-toggleable__control sk-hidden--visually\" id=\"ba829fa9-780a-46be-9858-163f3bc1ab60\" type=\"checkbox\" ><label for=\"ba829fa9-780a-46be-9858-163f3bc1ab60\" class=\"sk-toggleable__label sk-toggleable__label-arrow\">num</label><div class=\"sk-toggleable__content\"><pre>&lt;sklearn.compose._column_transformer.make_column_selector object at 0x0000021E6C1D9CC0&gt;</pre></div></div></div><div class=\"sk-serial\"><div class=\"sk-item\"><div class=\"sk-serial\"><div class=\"sk-item\"><div class=\"sk-estimator sk-toggleable\"><input class=\"sk-toggleable__control sk-hidden--visually\" id=\"a33a81d7-0a9d-4cd6-ad82-5c16baf12d2d\" type=\"checkbox\" ><label for=\"a33a81d7-0a9d-4cd6-ad82-5c16baf12d2d\" class=\"sk-toggleable__label sk-toggleable__label-arrow\">SimpleImputer</label><div class=\"sk-toggleable__content\"><pre>SimpleImputer(strategy=&#x27;median&#x27;)</pre></div></div></div><div class=\"sk-item\"><div class=\"sk-estimator sk-toggleable\"><input class=\"sk-toggleable__control sk-hidden--visually\" id=\"037d2f65-d02b-4ce8-b081-f1ff3117c43d\" type=\"checkbox\" ><label for=\"037d2f65-d02b-4ce8-b081-f1ff3117c43d\" class=\"sk-toggleable__label sk-toggleable__label-arrow\">StandardScaler</label><div class=\"sk-toggleable__content\"><pre>StandardScaler()</pre></div></div></div></div></div></div></div></div><div class=\"sk-parallel-item\"><div class=\"sk-item\"><div class=\"sk-label-container\"><div class=\"sk-label sk-toggleable\"><input class=\"sk-toggleable__control sk-hidden--visually\" id=\"58e7ef4b-5da2-4036-9ed4-300ac66daff3\" type=\"checkbox\" ><label for=\"58e7ef4b-5da2-4036-9ed4-300ac66daff3\" class=\"sk-toggleable__label sk-toggleable__label-arrow\">cat</label><div class=\"sk-toggleable__content\"><pre>&lt;sklearn.compose._column_transformer.make_column_selector object at 0x0000021E770D6DA0&gt;</pre></div></div></div><div class=\"sk-serial\"><div class=\"sk-item\"><div class=\"sk-serial\"><div class=\"sk-item\"><div class=\"sk-estimator sk-toggleable\"><input class=\"sk-toggleable__control sk-hidden--visually\" id=\"b9a1471f-0cc6-4216-998e-6b59e52bdb7c\" type=\"checkbox\" ><label for=\"b9a1471f-0cc6-4216-998e-6b59e52bdb7c\" class=\"sk-toggleable__label sk-toggleable__label-arrow\">SimpleImputer</label><div class=\"sk-toggleable__content\"><pre>SimpleImputer(fill_value=&#x27;missing&#x27;, strategy=&#x27;constant&#x27;)</pre></div></div></div><div class=\"sk-item\"><div class=\"sk-estimator sk-toggleable\"><input class=\"sk-toggleable__control sk-hidden--visually\" id=\"007a17e5-5e17-4991-b3b6-0bbb83ca9cd5\" type=\"checkbox\" ><label for=\"007a17e5-5e17-4991-b3b6-0bbb83ca9cd5\" class=\"sk-toggleable__label sk-toggleable__label-arrow\">OneHotEncoder</label><div class=\"sk-toggleable__content\"><pre>OneHotEncoder(dtype=&lt;class &#x27;int&#x27;&gt;, handle_unknown=&#x27;ignore&#x27;)</pre></div></div></div></div></div></div></div></div><div class=\"sk-parallel-item\"><div class=\"sk-item\"><div class=\"sk-label-container\"><div class=\"sk-label sk-toggleable\"><input class=\"sk-toggleable__control sk-hidden--visually\" id=\"57e95323-b293-4d4c-a77b-3b3fda280140\" type=\"checkbox\" ><label for=\"57e95323-b293-4d4c-a77b-3b3fda280140\" class=\"sk-toggleable__label sk-toggleable__label-arrow\">remainder</label><div class=\"sk-toggleable__content\"><pre></pre></div></div></div><div class=\"sk-serial\"><div class=\"sk-item\"><div class=\"sk-estimator sk-toggleable\"><input class=\"sk-toggleable__control sk-hidden--visually\" id=\"dec51323-0383-4895-9687-56f3ad8b9f9b\" type=\"checkbox\" ><label for=\"dec51323-0383-4895-9687-56f3ad8b9f9b\" class=\"sk-toggleable__label sk-toggleable__label-arrow\">passthrough</label><div class=\"sk-toggleable__content\"><pre>passthrough</pre></div></div></div></div></div></div></div></div></div></div>"
      ],
      "text/plain": [
       "ColumnTransformer(remainder='passthrough',\n",
       "                  transformers=[('num',\n",
       "                                 Pipeline(steps=[('imputer',\n",
       "                                                  SimpleImputer(strategy='median')),\n",
       "                                                 ('scaler', StandardScaler())]),\n",
       "                                 <sklearn.compose._column_transformer.make_column_selector object at 0x0000021E6C1D9CC0>),\n",
       "                                ('cat',\n",
       "                                 Pipeline(steps=[('imputer',\n",
       "                                                  SimpleImputer(fill_value='missing',\n",
       "                                                                strategy='constant')),\n",
       "                                                 ('encoding',\n",
       "                                                  OneHotEncoder(dtype=<class 'int'>,\n",
       "                                                                handle_unknown='ignore'))]),\n",
       "                                 <sklearn.compose._column_transformer.make_column_selector object at 0x0000021E770D6DA0>)])"
      ]
     },
     "execution_count": 20,
     "metadata": {},
     "output_type": "execute_result"
    }
   ],
   "source": [
    "from sklearn.pipeline import Pipeline\n",
    "from sklearn.preprocessing import MinMaxScaler, StandardScaler, OneHotEncoder\n",
    "from sklearn.compose import ColumnTransformer\n",
    "from sklearn.impute import SimpleImputer\n",
    "\n",
    "\n",
    "def create_preprocessor(num_cols=num_selector, cat_cols=cat_selector):\n",
    "    \"\"\"Preprocessor \"\"\"\n",
    "    num_pipe = Pipeline(steps=[\n",
    "        ('imputer', SimpleImputer(strategy='median')),\n",
    "        ('scaler', StandardScaler())\n",
    "    ])\n",
    "    cat_pipe = Pipeline(steps=[\n",
    "        ('imputer', SimpleImputer(strategy='constant', fill_value='missing')),\n",
    "        ('encoding', OneHotEncoder(dtype=int, sparse=True, handle_unknown='ignore'))\n",
    "    ])\n",
    "    preprocessor = ColumnTransformer(transformers=[\n",
    "        ('num', num_pipe, num_cols),\n",
    "        ('cat', cat_pipe, cat_cols)\n",
    "    ],\n",
    "        remainder='passthrough')\n",
    "    return preprocessor\n",
    "\n",
    "\n",
    "preprocessor = create_preprocessor()\n",
    "preprocessor\n"
   ]
  },
  {
   "cell_type": "code",
   "execution_count": 21,
   "metadata": {},
   "outputs": [
    {
     "data": {
      "text/html": [
       "<style>#sk-548974d2-60a0-4d1e-a10b-4ff74b3c27a6 {color: black;background-color: white;}#sk-548974d2-60a0-4d1e-a10b-4ff74b3c27a6 pre{padding: 0;}#sk-548974d2-60a0-4d1e-a10b-4ff74b3c27a6 div.sk-toggleable {background-color: white;}#sk-548974d2-60a0-4d1e-a10b-4ff74b3c27a6 label.sk-toggleable__label {cursor: pointer;display: block;width: 100%;margin-bottom: 0;padding: 0.3em;box-sizing: border-box;text-align: center;}#sk-548974d2-60a0-4d1e-a10b-4ff74b3c27a6 label.sk-toggleable__label-arrow:before {content: \"▸\";float: left;margin-right: 0.25em;color: #696969;}#sk-548974d2-60a0-4d1e-a10b-4ff74b3c27a6 label.sk-toggleable__label-arrow:hover:before {color: black;}#sk-548974d2-60a0-4d1e-a10b-4ff74b3c27a6 div.sk-estimator:hover label.sk-toggleable__label-arrow:before {color: black;}#sk-548974d2-60a0-4d1e-a10b-4ff74b3c27a6 div.sk-toggleable__content {max-height: 0;max-width: 0;overflow: hidden;text-align: left;background-color: #f0f8ff;}#sk-548974d2-60a0-4d1e-a10b-4ff74b3c27a6 div.sk-toggleable__content pre {margin: 0.2em;color: black;border-radius: 0.25em;background-color: #f0f8ff;}#sk-548974d2-60a0-4d1e-a10b-4ff74b3c27a6 input.sk-toggleable__control:checked~div.sk-toggleable__content {max-height: 200px;max-width: 100%;overflow: auto;}#sk-548974d2-60a0-4d1e-a10b-4ff74b3c27a6 input.sk-toggleable__control:checked~label.sk-toggleable__label-arrow:before {content: \"▾\";}#sk-548974d2-60a0-4d1e-a10b-4ff74b3c27a6 div.sk-estimator input.sk-toggleable__control:checked~label.sk-toggleable__label {background-color: #d4ebff;}#sk-548974d2-60a0-4d1e-a10b-4ff74b3c27a6 div.sk-label input.sk-toggleable__control:checked~label.sk-toggleable__label {background-color: #d4ebff;}#sk-548974d2-60a0-4d1e-a10b-4ff74b3c27a6 input.sk-hidden--visually {border: 0;clip: rect(1px 1px 1px 1px);clip: rect(1px, 1px, 1px, 1px);height: 1px;margin: -1px;overflow: hidden;padding: 0;position: absolute;width: 1px;}#sk-548974d2-60a0-4d1e-a10b-4ff74b3c27a6 div.sk-estimator {font-family: monospace;background-color: #f0f8ff;border: 1px dotted black;border-radius: 0.25em;box-sizing: border-box;margin-bottom: 0.5em;}#sk-548974d2-60a0-4d1e-a10b-4ff74b3c27a6 div.sk-estimator:hover {background-color: #d4ebff;}#sk-548974d2-60a0-4d1e-a10b-4ff74b3c27a6 div.sk-parallel-item::after {content: \"\";width: 100%;border-bottom: 1px solid gray;flex-grow: 1;}#sk-548974d2-60a0-4d1e-a10b-4ff74b3c27a6 div.sk-label:hover label.sk-toggleable__label {background-color: #d4ebff;}#sk-548974d2-60a0-4d1e-a10b-4ff74b3c27a6 div.sk-serial::before {content: \"\";position: absolute;border-left: 1px solid gray;box-sizing: border-box;top: 2em;bottom: 0;left: 50%;}#sk-548974d2-60a0-4d1e-a10b-4ff74b3c27a6 div.sk-serial {display: flex;flex-direction: column;align-items: center;background-color: white;padding-right: 0.2em;padding-left: 0.2em;}#sk-548974d2-60a0-4d1e-a10b-4ff74b3c27a6 div.sk-item {z-index: 1;}#sk-548974d2-60a0-4d1e-a10b-4ff74b3c27a6 div.sk-parallel {display: flex;align-items: stretch;justify-content: center;background-color: white;}#sk-548974d2-60a0-4d1e-a10b-4ff74b3c27a6 div.sk-parallel::before {content: \"\";position: absolute;border-left: 1px solid gray;box-sizing: border-box;top: 2em;bottom: 0;left: 50%;}#sk-548974d2-60a0-4d1e-a10b-4ff74b3c27a6 div.sk-parallel-item {display: flex;flex-direction: column;position: relative;background-color: white;}#sk-548974d2-60a0-4d1e-a10b-4ff74b3c27a6 div.sk-parallel-item:first-child::after {align-self: flex-end;width: 50%;}#sk-548974d2-60a0-4d1e-a10b-4ff74b3c27a6 div.sk-parallel-item:last-child::after {align-self: flex-start;width: 50%;}#sk-548974d2-60a0-4d1e-a10b-4ff74b3c27a6 div.sk-parallel-item:only-child::after {width: 0;}#sk-548974d2-60a0-4d1e-a10b-4ff74b3c27a6 div.sk-dashed-wrapped {border: 1px dashed gray;margin: 0 0.4em 0.5em 0.4em;box-sizing: border-box;padding-bottom: 0.4em;background-color: white;position: relative;}#sk-548974d2-60a0-4d1e-a10b-4ff74b3c27a6 div.sk-label label {font-family: monospace;font-weight: bold;background-color: white;display: inline-block;line-height: 1.2em;}#sk-548974d2-60a0-4d1e-a10b-4ff74b3c27a6 div.sk-label-container {position: relative;z-index: 2;text-align: center;}#sk-548974d2-60a0-4d1e-a10b-4ff74b3c27a6 div.sk-container {/* jupyter's `normalize.less` sets `[hidden] { display: none; }` but bootstrap.min.css set `[hidden] { display: none !important; }` so we also need the `!important` here to be able to override the default hidden behavior on the sphinx rendered scikit-learn.org. See: https://github.com/scikit-learn/scikit-learn/issues/21755 */display: inline-block !important;position: relative;}#sk-548974d2-60a0-4d1e-a10b-4ff74b3c27a6 div.sk-text-repr-fallback {display: none;}</style><div id=\"sk-548974d2-60a0-4d1e-a10b-4ff74b3c27a6\" class=\"sk-top-container\"><div class=\"sk-text-repr-fallback\"><pre>Pipeline(steps=[(&#x27;preprocessor&#x27;,\n",
       "                 ColumnTransformer(transformers=[(&#x27;num&#x27;,\n",
       "                                                  Pipeline(steps=[(&#x27;imputer&#x27;,\n",
       "                                                                   SimpleImputer(strategy=&#x27;median&#x27;)),\n",
       "                                                                  (&#x27;simple_scale&#x27;,\n",
       "                                                                   StandardScaler())]),\n",
       "                                                  &lt;sklearn.compose._column_transformer.make_column_selector object at 0x0000021E6C1D9CC0&gt;)]))])</pre><b>Please rerun this cell to show the HTML repr or trust the notebook.</b></div><div class=\"sk-container\" hidden><div class=\"sk-item sk-dashed-wrapped\"><div class=\"sk-label-container\"><div class=\"sk-label sk-toggleable\"><input class=\"sk-toggleable__control sk-hidden--visually\" id=\"abad0e10-2996-46e4-9740-e9205713ef10\" type=\"checkbox\" ><label for=\"abad0e10-2996-46e4-9740-e9205713ef10\" class=\"sk-toggleable__label sk-toggleable__label-arrow\">Pipeline</label><div class=\"sk-toggleable__content\"><pre>Pipeline(steps=[(&#x27;preprocessor&#x27;,\n",
       "                 ColumnTransformer(transformers=[(&#x27;num&#x27;,\n",
       "                                                  Pipeline(steps=[(&#x27;imputer&#x27;,\n",
       "                                                                   SimpleImputer(strategy=&#x27;median&#x27;)),\n",
       "                                                                  (&#x27;simple_scale&#x27;,\n",
       "                                                                   StandardScaler())]),\n",
       "                                                  &lt;sklearn.compose._column_transformer.make_column_selector object at 0x0000021E6C1D9CC0&gt;)]))])</pre></div></div></div><div class=\"sk-serial\"><div class=\"sk-item sk-dashed-wrapped\"><div class=\"sk-label-container\"><div class=\"sk-label sk-toggleable\"><input class=\"sk-toggleable__control sk-hidden--visually\" id=\"6c0dc902-2884-4cbd-a94b-6146c1d48784\" type=\"checkbox\" ><label for=\"6c0dc902-2884-4cbd-a94b-6146c1d48784\" class=\"sk-toggleable__label sk-toggleable__label-arrow\">preprocessor: ColumnTransformer</label><div class=\"sk-toggleable__content\"><pre>ColumnTransformer(transformers=[(&#x27;num&#x27;,\n",
       "                                 Pipeline(steps=[(&#x27;imputer&#x27;,\n",
       "                                                  SimpleImputer(strategy=&#x27;median&#x27;)),\n",
       "                                                 (&#x27;simple_scale&#x27;,\n",
       "                                                  StandardScaler())]),\n",
       "                                 &lt;sklearn.compose._column_transformer.make_column_selector object at 0x0000021E6C1D9CC0&gt;)])</pre></div></div></div><div class=\"sk-parallel\"><div class=\"sk-parallel-item\"><div class=\"sk-item\"><div class=\"sk-label-container\"><div class=\"sk-label sk-toggleable\"><input class=\"sk-toggleable__control sk-hidden--visually\" id=\"639e1fe9-326f-49de-9cdd-eea6df1f0baa\" type=\"checkbox\" ><label for=\"639e1fe9-326f-49de-9cdd-eea6df1f0baa\" class=\"sk-toggleable__label sk-toggleable__label-arrow\">num</label><div class=\"sk-toggleable__content\"><pre>&lt;sklearn.compose._column_transformer.make_column_selector object at 0x0000021E6C1D9CC0&gt;</pre></div></div></div><div class=\"sk-serial\"><div class=\"sk-item\"><div class=\"sk-serial\"><div class=\"sk-item\"><div class=\"sk-estimator sk-toggleable\"><input class=\"sk-toggleable__control sk-hidden--visually\" id=\"b06819fd-818c-4635-bac4-7512806d8274\" type=\"checkbox\" ><label for=\"b06819fd-818c-4635-bac4-7512806d8274\" class=\"sk-toggleable__label sk-toggleable__label-arrow\">SimpleImputer</label><div class=\"sk-toggleable__content\"><pre>SimpleImputer(strategy=&#x27;median&#x27;)</pre></div></div></div><div class=\"sk-item\"><div class=\"sk-estimator sk-toggleable\"><input class=\"sk-toggleable__control sk-hidden--visually\" id=\"e074c326-397c-4f14-a5cd-81c945d3185a\" type=\"checkbox\" ><label for=\"e074c326-397c-4f14-a5cd-81c945d3185a\" class=\"sk-toggleable__label sk-toggleable__label-arrow\">StandardScaler</label><div class=\"sk-toggleable__content\"><pre>StandardScaler()</pre></div></div></div></div></div></div></div></div></div></div></div></div></div></div>"
      ],
      "text/plain": [
       "Pipeline(steps=[('preprocessor',\n",
       "                 ColumnTransformer(transformers=[('num',\n",
       "                                                  Pipeline(steps=[('imputer',\n",
       "                                                                   SimpleImputer(strategy='median')),\n",
       "                                                                  ('simple_scale',\n",
       "                                                                   StandardScaler())]),\n",
       "                                                  <sklearn.compose._column_transformer.make_column_selector object at 0x0000021E6C1D9CC0>)]))])"
      ]
     },
     "execution_count": 21,
     "metadata": {},
     "output_type": "execute_result"
    }
   ],
   "source": [
    "numeric_pipeline = Pipeline(steps=[\n",
    "    ('preprocessor', ColumnTransformer(transformers=[\n",
    "        ('num', Pipeline([\n",
    "            ('imputer', SimpleImputer(strategy=\"median\")),\n",
    "            ('simple_scale', StandardScaler())\n",
    "        ]), num_selector),\n",
    "    ]))\n",
    "])\n",
    "numeric_pipeline\n"
   ]
  },
  {
   "cell_type": "code",
   "execution_count": 22,
   "metadata": {},
   "outputs": [
    {
     "name": "stdout",
     "output_type": "stream",
     "text": [
      "['EXT_SOURCE_3' 'EXT_SOURCE_2' 'EXT_SOURCE_1' 'PREV_DAYS_DECISION_MIN'\n",
      " 'PREV_AMT_ANNUITY_MEAN']\n"
     ]
    }
   ],
   "source": [
    "numeric_pipeline.fit(x_train)\n",
    "print(numeric_pipeline.feature_names_in_[:5])\n",
    "\n",
    "# Erreur si on essaie de récuperer les noms de colonnes\n",
    "# numeric_pipeline.get_feature_names_out(numeric_pipeline.feature_names_in_)\n"
   ]
  },
  {
   "cell_type": "markdown",
   "metadata": {},
   "source": [
    "### Get feature names pour les preprocessors\n",
    "\n",
    "Pour interpreter les models, il faut savoir les variables après preprocessing.\n",
    "\n",
    "Malheureusement, beaucoup des transformers de `sklearn` perd leurs feature names\n",
    "\n",
    "- SimpleImputer, FunctionTransformer, StandardScalar do not implement `get_feature_names_out`\n",
    "- Ça pose des problèmes pour l'interprétabilité des modèles\n",
    "\n",
    "L'ordre des features dépend des column selectors et l'ordre des ColumnTransformers\n",
    "\n",
    "- Avec des 'named transformers' et 'named steps' dans un ordre spécifique, on peut récupérer les noms des features dans l'ordre\n"
   ]
  },
  {
   "cell_type": "code",
   "execution_count": 23,
   "metadata": {},
   "outputs": [],
   "source": [
    "def get_features_out(pipe, xtrain_):\n",
    "    \"\"\"\n",
    "    Get column names after preprocessing\n",
    "\n",
    "    assumes (requires preprocessors with following structure):\n",
    "    - all named transformers, if present, are in same order as listed below\n",
    "    - if preprocessor has other transformers, add to list below\n",
    "    - only final transformer (named 'cat') adds columns, via an encoder step named 'ohe'\n",
    "    - if imputer is used, it does not add indicator columns\n",
    "    \"\"\"\n",
    "\n",
    "    def get_features_in_(trans: ColumnTransformer, name=None):\n",
    "        try:\n",
    "            features = list(trans.named_transformers_[name].feature_names_in_)\n",
    "        except:\n",
    "            # named transformer doesn't exist in pipeline, return empty list\n",
    "            features = []\n",
    "        return features\n",
    "\n",
    "    pipe.fit(xtrain_)\n",
    "    if hasattr(pipe, 'named_steps'):\n",
    "        trans: ColumnTransformer = pipe.named_steps['preprocessor']\n",
    "    else:\n",
    "        trans = pipe\n",
    "    # SimpleImputer, FunctionTransformer, StandardScalar do not implement get_feature_names_out\n",
    "\n",
    "    # Get feature names of numeric columns\n",
    "    num_features = get_features_in_(trans, 'num')\n",
    "    scale_features = get_features_in_(trans, 'simple_scale')\n",
    "    log_features = get_features_in_(trans, 'log_scale')\n",
    "    ordinal_features = get_features_in_(trans, 'ordinal')\n",
    "    try:\n",
    "        cat_encoder = trans.named_transformers_['cat']\n",
    "        ohe = cat_encoder.named_steps['ohe']\n",
    "        category_features = list(\n",
    "            ohe.get_feature_names_out(cat_encoder.feature_names_in_))\n",
    "    except:\n",
    "        category_features = []\n",
    "    features_out = (num_features+scale_features + log_features\n",
    "                    + ordinal_features + category_features)\n",
    "    return features_out\n"
   ]
  },
  {
   "cell_type": "markdown",
   "metadata": {},
   "source": [
    "Test get_features_out\n"
   ]
  },
  {
   "cell_type": "code",
   "execution_count": 24,
   "metadata": {},
   "outputs": [
    {
     "name": "stdout",
     "output_type": "stream",
     "text": [
      "(8000, 83)\n",
      "83\n",
      "['EXT_SOURCE_3', 'EXT_SOURCE_2', 'EXT_SOURCE_1']\n"
     ]
    }
   ],
   "source": [
    "x_transformed = numeric_pipeline.fit_transform(x_train)\n",
    "x_transformed_columns = get_features_out(numeric_pipeline, x_train)\n",
    "print(x_transformed.shape)\n",
    "print(len(x_transformed_columns))\n",
    "print(x_transformed_columns[:3])\n"
   ]
  },
  {
   "cell_type": "markdown",
   "metadata": {},
   "source": [
    "#### Preprocessor avec feature names\n"
   ]
  },
  {
   "cell_type": "code",
   "execution_count": 25,
   "metadata": {},
   "outputs": [],
   "source": [
    "def preprocess(pipe:Pipeline, x_train_, x_test_):\n",
    "    \"\"\"Preprocess x_train et x_test séparament.\n",
    "    Exige un pipeline\n",
    "    Retourner les données transformés comme pandas DataFrames avec feature names\"\"\"\n",
    "    features_out = get_features_out(pipe, x_train_)\n",
    "    x_train_out = pd.DataFrame(pipe.fit_transform(\n",
    "        x_train_), columns=features_out, index=x_train_.index) \n",
    "    x_test_out = pd.DataFrame(pipe.transform(\n",
    "        x_test_), columns=features_out, index=x_test_.index)\n",
    "    return x_train_out, x_test_out\n"
   ]
  },
  {
   "cell_type": "code",
   "execution_count": 26,
   "metadata": {},
   "outputs": [],
   "source": [
    "def fit_transform_df(df: pd.DataFrame, processor) -> pd.DataFrame:\n",
    "    \"\"\"\n",
    "    Fit et transform un dataframe, sans changer son shape\n",
    "     Retourner les données transformés comme panda DataFrame\n",
    "     sans perdre les noms de colonnes et index\n",
    "\n",
    "     Note, la plupart de processors (MinMaxScalar, Imputer, ...) \n",
    "     retourne un numpy array\n",
    "     Rapidement on perd les noms des features\n",
    "     \"\"\"\n",
    "    return pd.DataFrame(processor.fit_transform(\n",
    "        df), index=df.index, columns=df.columns)\n"
   ]
  },
  {
   "cell_type": "markdown",
   "metadata": {},
   "source": [
    "### Impute NaN avant oversampling\n",
    "\n",
    "Pour oversampling, il ne faut pas avoir des NaN\n",
    "\n",
    "On les remplis avec SimpleImputer (median), puis un rescale\n"
   ]
  },
  {
   "cell_type": "code",
   "execution_count": 27,
   "metadata": {},
   "outputs": [
    {
     "name": "stdout",
     "output_type": "stream",
     "text": [
      "preprocess data - done in 0s\n"
     ]
    }
   ],
   "source": [
    "with timer('preprocess data'):\n",
    "    x_train_prep, x_test_prep = preprocess(preprocessor, x_train, x_test)\n"
   ]
  },
  {
   "cell_type": "markdown",
   "metadata": {},
   "source": [
    "## Options de sampling : Ré-equilibration des classes cible\n",
    "\n",
    "Il y a environ 800 colonnes de données, la plupart seront insignifiant en importance pour la modèle.\n",
    "\n",
    "On peut faire feature selection basé sur les données, mais comme les données sont pour la plupart target = 0, ça met plus de poid sur la classe 'loan repaid.\n",
    "\n",
    "La référence ci-dessous recommande faire la ré-equilibration des classes, via oversampling AVANT feature selection.\n",
    "\n",
    "#### Références\n",
    "\n",
    "- [SMOTE for high-dimensional class-imbalanced data](https://www.ncbi.nlm.nih.gov/pmc/articles/PMC3648438/)\n"
   ]
  },
  {
   "cell_type": "markdown",
   "metadata": {},
   "source": [
    "### Oversample les données sans valeurs manquantes (NaN)\n"
   ]
  },
  {
   "cell_type": "markdown",
   "metadata": {},
   "source": [
    "On a plusieurs stratégies de sampling possible pour équilibré le poid des classes\n",
    "\n",
    "**Weights**\n",
    "\n",
    "- ajout plus de poids pour les observations minoritaires\n",
    "\n",
    "**Random undersampling**\n",
    "\n",
    "- éliminaire aléatoirement des observations majoritaires\n",
    "\n",
    "**Random oversampling**\n",
    "\n",
    "- ajout aleatoirement aux données des copies d'observations minoritaires\n",
    "\n",
    "**Synthetic Minority Oversampling Technique (SMOTE)**\n",
    "\n",
    "- ajout des observations minoritaires similaires mais distinctes des observations minoritaires existantes\n",
    "\n",
    "**SMOTE Tomek**\n",
    "\n",
    "- oversample, puis undersample les bordeline cas\n"
   ]
  },
  {
   "cell_type": "markdown",
   "metadata": {},
   "source": [
    "# Créer des instances des samplers\n"
   ]
  },
  {
   "cell_type": "code",
   "execution_count": 28,
   "metadata": {},
   "outputs": [],
   "source": [
    "# Random undersampling\n",
    "undersampler = RandomUnderSampler(sampling_strategy='majority')\n",
    "\n",
    "# Random oversampling\n",
    "oversampler = RandomOverSampler(sampling_strategy='minority')\n",
    "\n",
    "# Synthetic Minority Oversampling Technique (SMOTE)\n",
    "smote_adasyn = SMOTE(sampling_strategy='ADASYN')\n",
    "\n",
    "# over-sample borderline, then undersample)\n",
    "smote_tomek = SMOTETomek(tomek=TomekLinks(sampling_strategy='majority'))\n"
   ]
  },
  {
   "cell_type": "code",
   "execution_count": 29,
   "metadata": {},
   "outputs": [
    {
     "name": "stdout",
     "output_type": "stream",
     "text": [
      "oversample - done in 0s\n",
      "(10000, 83)\n",
      "(8000, 83)\n",
      "(14676, 83)\n"
     ]
    }
   ],
   "source": [
    "from imblearn import over_sampling\n",
    "\n",
    "oversampler = over_sampling.SMOTE()\n",
    "with timer(title='oversample'):\n",
    "    x_train_smote, y_train_smote = oversampler.fit_resample(\n",
    "        x_train_prep, y_train)\n",
    "\n",
    "\n",
    "print(X.shape)\n",
    "print(x_train.shape)\n",
    "print(x_train_smote.shape)\n"
   ]
  },
  {
   "cell_type": "code",
   "execution_count": 30,
   "metadata": {},
   "outputs": [],
   "source": [
    "\n",
    "undersampler = RandomUnderSampler(sampling_strategy='majority')\n",
    "oversampler = RandomOverSampler(sampling_strategy='minority')\n",
    "\n",
    "# SMOTE :\n",
    "# oversample with ADASYN\n",
    "smote_adasyn = SMOTE(sampling_strategy='ADASYN')\n",
    "\n",
    "\n",
    "# over-sample borderline, then undersample)\n",
    "smote_tomek = SMOTETomek(tomek=TomekLinks(sampling_strategy='majority'))\n"
   ]
  },
  {
   "cell_type": "markdown",
   "metadata": {},
   "source": [
    "## Construction d'un model pipeline avec SMOTE\n",
    "\n",
    "References\n",
    "\n",
    "- <https://towardsdatascience.com/the-right-way-of-using-smote-with-cross-validation-92a8d09d00c7>\n"
   ]
  },
  {
   "cell_type": "code",
   "execution_count": 31,
   "metadata": {},
   "outputs": [
    {
     "data": {
      "text/html": [
       "<style>#sk-f03eb426-0580-4a07-a473-f4d8589f2769 {color: black;background-color: white;}#sk-f03eb426-0580-4a07-a473-f4d8589f2769 pre{padding: 0;}#sk-f03eb426-0580-4a07-a473-f4d8589f2769 div.sk-toggleable {background-color: white;}#sk-f03eb426-0580-4a07-a473-f4d8589f2769 label.sk-toggleable__label {cursor: pointer;display: block;width: 100%;margin-bottom: 0;padding: 0.3em;box-sizing: border-box;text-align: center;}#sk-f03eb426-0580-4a07-a473-f4d8589f2769 label.sk-toggleable__label-arrow:before {content: \"▸\";float: left;margin-right: 0.25em;color: #696969;}#sk-f03eb426-0580-4a07-a473-f4d8589f2769 label.sk-toggleable__label-arrow:hover:before {color: black;}#sk-f03eb426-0580-4a07-a473-f4d8589f2769 div.sk-estimator:hover label.sk-toggleable__label-arrow:before {color: black;}#sk-f03eb426-0580-4a07-a473-f4d8589f2769 div.sk-toggleable__content {max-height: 0;max-width: 0;overflow: hidden;text-align: left;background-color: #f0f8ff;}#sk-f03eb426-0580-4a07-a473-f4d8589f2769 div.sk-toggleable__content pre {margin: 0.2em;color: black;border-radius: 0.25em;background-color: #f0f8ff;}#sk-f03eb426-0580-4a07-a473-f4d8589f2769 input.sk-toggleable__control:checked~div.sk-toggleable__content {max-height: 200px;max-width: 100%;overflow: auto;}#sk-f03eb426-0580-4a07-a473-f4d8589f2769 input.sk-toggleable__control:checked~label.sk-toggleable__label-arrow:before {content: \"▾\";}#sk-f03eb426-0580-4a07-a473-f4d8589f2769 div.sk-estimator input.sk-toggleable__control:checked~label.sk-toggleable__label {background-color: #d4ebff;}#sk-f03eb426-0580-4a07-a473-f4d8589f2769 div.sk-label input.sk-toggleable__control:checked~label.sk-toggleable__label {background-color: #d4ebff;}#sk-f03eb426-0580-4a07-a473-f4d8589f2769 input.sk-hidden--visually {border: 0;clip: rect(1px 1px 1px 1px);clip: rect(1px, 1px, 1px, 1px);height: 1px;margin: -1px;overflow: hidden;padding: 0;position: absolute;width: 1px;}#sk-f03eb426-0580-4a07-a473-f4d8589f2769 div.sk-estimator {font-family: monospace;background-color: #f0f8ff;border: 1px dotted black;border-radius: 0.25em;box-sizing: border-box;margin-bottom: 0.5em;}#sk-f03eb426-0580-4a07-a473-f4d8589f2769 div.sk-estimator:hover {background-color: #d4ebff;}#sk-f03eb426-0580-4a07-a473-f4d8589f2769 div.sk-parallel-item::after {content: \"\";width: 100%;border-bottom: 1px solid gray;flex-grow: 1;}#sk-f03eb426-0580-4a07-a473-f4d8589f2769 div.sk-label:hover label.sk-toggleable__label {background-color: #d4ebff;}#sk-f03eb426-0580-4a07-a473-f4d8589f2769 div.sk-serial::before {content: \"\";position: absolute;border-left: 1px solid gray;box-sizing: border-box;top: 2em;bottom: 0;left: 50%;}#sk-f03eb426-0580-4a07-a473-f4d8589f2769 div.sk-serial {display: flex;flex-direction: column;align-items: center;background-color: white;padding-right: 0.2em;padding-left: 0.2em;}#sk-f03eb426-0580-4a07-a473-f4d8589f2769 div.sk-item {z-index: 1;}#sk-f03eb426-0580-4a07-a473-f4d8589f2769 div.sk-parallel {display: flex;align-items: stretch;justify-content: center;background-color: white;}#sk-f03eb426-0580-4a07-a473-f4d8589f2769 div.sk-parallel::before {content: \"\";position: absolute;border-left: 1px solid gray;box-sizing: border-box;top: 2em;bottom: 0;left: 50%;}#sk-f03eb426-0580-4a07-a473-f4d8589f2769 div.sk-parallel-item {display: flex;flex-direction: column;position: relative;background-color: white;}#sk-f03eb426-0580-4a07-a473-f4d8589f2769 div.sk-parallel-item:first-child::after {align-self: flex-end;width: 50%;}#sk-f03eb426-0580-4a07-a473-f4d8589f2769 div.sk-parallel-item:last-child::after {align-self: flex-start;width: 50%;}#sk-f03eb426-0580-4a07-a473-f4d8589f2769 div.sk-parallel-item:only-child::after {width: 0;}#sk-f03eb426-0580-4a07-a473-f4d8589f2769 div.sk-dashed-wrapped {border: 1px dashed gray;margin: 0 0.4em 0.5em 0.4em;box-sizing: border-box;padding-bottom: 0.4em;background-color: white;position: relative;}#sk-f03eb426-0580-4a07-a473-f4d8589f2769 div.sk-label label {font-family: monospace;font-weight: bold;background-color: white;display: inline-block;line-height: 1.2em;}#sk-f03eb426-0580-4a07-a473-f4d8589f2769 div.sk-label-container {position: relative;z-index: 2;text-align: center;}#sk-f03eb426-0580-4a07-a473-f4d8589f2769 div.sk-container {/* jupyter's `normalize.less` sets `[hidden] { display: none; }` but bootstrap.min.css set `[hidden] { display: none !important; }` so we also need the `!important` here to be able to override the default hidden behavior on the sphinx rendered scikit-learn.org. See: https://github.com/scikit-learn/scikit-learn/issues/21755 */display: inline-block !important;position: relative;}#sk-f03eb426-0580-4a07-a473-f4d8589f2769 div.sk-text-repr-fallback {display: none;}</style><div id=\"sk-f03eb426-0580-4a07-a473-f4d8589f2769\" class=\"sk-top-container\"><div class=\"sk-text-repr-fallback\"><pre>Pipeline(steps=[(&#x27;smote&#x27;, SMOTE(random_state=11)),\n",
       "                (&#x27;preprocess&#x27;,\n",
       "                 ColumnTransformer(remainder=&#x27;passthrough&#x27;,\n",
       "                                   transformers=[(&#x27;num&#x27;,\n",
       "                                                  Pipeline(steps=[(&#x27;imputer&#x27;,\n",
       "                                                                   SimpleImputer(strategy=&#x27;median&#x27;)),\n",
       "                                                                  (&#x27;scaler&#x27;,\n",
       "                                                                   StandardScaler())]),\n",
       "                                                  &lt;sklearn.compose._column_transformer.make_column_selector object at 0x0000021E6C1D9CC0&gt;),\n",
       "                                                 (&#x27;cat&#x27;,\n",
       "                                                  Pipeline(steps=[(&#x27;imputer&#x27;,\n",
       "                                                                   SimpleImputer(fill_value=&#x27;missing&#x27;,\n",
       "                                                                                 strategy=&#x27;constant&#x27;)),\n",
       "                                                                  (&#x27;encoding&#x27;,\n",
       "                                                                   OneHotEncoder(dtype=&lt;class &#x27;int&#x27;&gt;,\n",
       "                                                                                 handle_unknown=&#x27;ignore&#x27;))]),\n",
       "                                                  &lt;sklearn.compose._column_transformer.make_column_selector object at 0x0000021E770D6DA0&gt;)])),\n",
       "                (&#x27;feat_select&#x27;, SelectKBest(k=50)),\n",
       "                (&#x27;clf&#x27;, RidgeClassifier())])</pre><b>Please rerun this cell to show the HTML repr or trust the notebook.</b></div><div class=\"sk-container\" hidden><div class=\"sk-item sk-dashed-wrapped\"><div class=\"sk-label-container\"><div class=\"sk-label sk-toggleable\"><input class=\"sk-toggleable__control sk-hidden--visually\" id=\"c147277a-e931-4c72-b4dc-02670b02953d\" type=\"checkbox\" ><label for=\"c147277a-e931-4c72-b4dc-02670b02953d\" class=\"sk-toggleable__label sk-toggleable__label-arrow\">Pipeline</label><div class=\"sk-toggleable__content\"><pre>Pipeline(steps=[(&#x27;smote&#x27;, SMOTE(random_state=11)),\n",
       "                (&#x27;preprocess&#x27;,\n",
       "                 ColumnTransformer(remainder=&#x27;passthrough&#x27;,\n",
       "                                   transformers=[(&#x27;num&#x27;,\n",
       "                                                  Pipeline(steps=[(&#x27;imputer&#x27;,\n",
       "                                                                   SimpleImputer(strategy=&#x27;median&#x27;)),\n",
       "                                                                  (&#x27;scaler&#x27;,\n",
       "                                                                   StandardScaler())]),\n",
       "                                                  &lt;sklearn.compose._column_transformer.make_column_selector object at 0x0000021E6C1D9CC0&gt;),\n",
       "                                                 (&#x27;cat&#x27;,\n",
       "                                                  Pipeline(steps=[(&#x27;imputer&#x27;,\n",
       "                                                                   SimpleImputer(fill_value=&#x27;missing&#x27;,\n",
       "                                                                                 strategy=&#x27;constant&#x27;)),\n",
       "                                                                  (&#x27;encoding&#x27;,\n",
       "                                                                   OneHotEncoder(dtype=&lt;class &#x27;int&#x27;&gt;,\n",
       "                                                                                 handle_unknown=&#x27;ignore&#x27;))]),\n",
       "                                                  &lt;sklearn.compose._column_transformer.make_column_selector object at 0x0000021E770D6DA0&gt;)])),\n",
       "                (&#x27;feat_select&#x27;, SelectKBest(k=50)),\n",
       "                (&#x27;clf&#x27;, RidgeClassifier())])</pre></div></div></div><div class=\"sk-serial\"><div class=\"sk-item\"><div class=\"sk-estimator sk-toggleable\"><input class=\"sk-toggleable__control sk-hidden--visually\" id=\"cc4fd6f3-6339-47d3-82fa-d64a209fb4c3\" type=\"checkbox\" ><label for=\"cc4fd6f3-6339-47d3-82fa-d64a209fb4c3\" class=\"sk-toggleable__label sk-toggleable__label-arrow\">SMOTE</label><div class=\"sk-toggleable__content\"><pre>SMOTE(random_state=11)</pre></div></div></div><div class=\"sk-item sk-dashed-wrapped\"><div class=\"sk-label-container\"><div class=\"sk-label sk-toggleable\"><input class=\"sk-toggleable__control sk-hidden--visually\" id=\"99da3b3b-354e-4948-9ac0-3412d6e5eb96\" type=\"checkbox\" ><label for=\"99da3b3b-354e-4948-9ac0-3412d6e5eb96\" class=\"sk-toggleable__label sk-toggleable__label-arrow\">preprocess: ColumnTransformer</label><div class=\"sk-toggleable__content\"><pre>ColumnTransformer(remainder=&#x27;passthrough&#x27;,\n",
       "                  transformers=[(&#x27;num&#x27;,\n",
       "                                 Pipeline(steps=[(&#x27;imputer&#x27;,\n",
       "                                                  SimpleImputer(strategy=&#x27;median&#x27;)),\n",
       "                                                 (&#x27;scaler&#x27;, StandardScaler())]),\n",
       "                                 &lt;sklearn.compose._column_transformer.make_column_selector object at 0x0000021E6C1D9CC0&gt;),\n",
       "                                (&#x27;cat&#x27;,\n",
       "                                 Pipeline(steps=[(&#x27;imputer&#x27;,\n",
       "                                                  SimpleImputer(fill_value=&#x27;missing&#x27;,\n",
       "                                                                strategy=&#x27;constant&#x27;)),\n",
       "                                                 (&#x27;encoding&#x27;,\n",
       "                                                  OneHotEncoder(dtype=&lt;class &#x27;int&#x27;&gt;,\n",
       "                                                                handle_unknown=&#x27;ignore&#x27;))]),\n",
       "                                 &lt;sklearn.compose._column_transformer.make_column_selector object at 0x0000021E770D6DA0&gt;)])</pre></div></div></div><div class=\"sk-parallel\"><div class=\"sk-parallel-item\"><div class=\"sk-item\"><div class=\"sk-label-container\"><div class=\"sk-label sk-toggleable\"><input class=\"sk-toggleable__control sk-hidden--visually\" id=\"e9884361-5eeb-408b-a08c-2179e35c1b92\" type=\"checkbox\" ><label for=\"e9884361-5eeb-408b-a08c-2179e35c1b92\" class=\"sk-toggleable__label sk-toggleable__label-arrow\">num</label><div class=\"sk-toggleable__content\"><pre>&lt;sklearn.compose._column_transformer.make_column_selector object at 0x0000021E6C1D9CC0&gt;</pre></div></div></div><div class=\"sk-serial\"><div class=\"sk-item\"><div class=\"sk-serial\"><div class=\"sk-item\"><div class=\"sk-estimator sk-toggleable\"><input class=\"sk-toggleable__control sk-hidden--visually\" id=\"b8aeb08b-d6fd-4f74-8274-24baab256baf\" type=\"checkbox\" ><label for=\"b8aeb08b-d6fd-4f74-8274-24baab256baf\" class=\"sk-toggleable__label sk-toggleable__label-arrow\">SimpleImputer</label><div class=\"sk-toggleable__content\"><pre>SimpleImputer(strategy=&#x27;median&#x27;)</pre></div></div></div><div class=\"sk-item\"><div class=\"sk-estimator sk-toggleable\"><input class=\"sk-toggleable__control sk-hidden--visually\" id=\"26f10132-4f15-4de3-9f3f-6bba3734a531\" type=\"checkbox\" ><label for=\"26f10132-4f15-4de3-9f3f-6bba3734a531\" class=\"sk-toggleable__label sk-toggleable__label-arrow\">StandardScaler</label><div class=\"sk-toggleable__content\"><pre>StandardScaler()</pre></div></div></div></div></div></div></div></div><div class=\"sk-parallel-item\"><div class=\"sk-item\"><div class=\"sk-label-container\"><div class=\"sk-label sk-toggleable\"><input class=\"sk-toggleable__control sk-hidden--visually\" id=\"098c086c-ece1-44e6-9963-869bfa834959\" type=\"checkbox\" ><label for=\"098c086c-ece1-44e6-9963-869bfa834959\" class=\"sk-toggleable__label sk-toggleable__label-arrow\">cat</label><div class=\"sk-toggleable__content\"><pre>&lt;sklearn.compose._column_transformer.make_column_selector object at 0x0000021E770D6DA0&gt;</pre></div></div></div><div class=\"sk-serial\"><div class=\"sk-item\"><div class=\"sk-serial\"><div class=\"sk-item\"><div class=\"sk-estimator sk-toggleable\"><input class=\"sk-toggleable__control sk-hidden--visually\" id=\"56e7c322-2a50-4171-9637-dd61e453fef1\" type=\"checkbox\" ><label for=\"56e7c322-2a50-4171-9637-dd61e453fef1\" class=\"sk-toggleable__label sk-toggleable__label-arrow\">SimpleImputer</label><div class=\"sk-toggleable__content\"><pre>SimpleImputer(fill_value=&#x27;missing&#x27;, strategy=&#x27;constant&#x27;)</pre></div></div></div><div class=\"sk-item\"><div class=\"sk-estimator sk-toggleable\"><input class=\"sk-toggleable__control sk-hidden--visually\" id=\"b78e5a14-4468-496d-b664-3c4e80ae0a5a\" type=\"checkbox\" ><label for=\"b78e5a14-4468-496d-b664-3c4e80ae0a5a\" class=\"sk-toggleable__label sk-toggleable__label-arrow\">OneHotEncoder</label><div class=\"sk-toggleable__content\"><pre>OneHotEncoder(dtype=&lt;class &#x27;int&#x27;&gt;, handle_unknown=&#x27;ignore&#x27;)</pre></div></div></div></div></div></div></div></div><div class=\"sk-parallel-item\"><div class=\"sk-item\"><div class=\"sk-label-container\"><div class=\"sk-label sk-toggleable\"><input class=\"sk-toggleable__control sk-hidden--visually\" id=\"f12bc57d-e16a-41cc-86fb-da90d20d88de\" type=\"checkbox\" ><label for=\"f12bc57d-e16a-41cc-86fb-da90d20d88de\" class=\"sk-toggleable__label sk-toggleable__label-arrow\">remainder</label><div class=\"sk-toggleable__content\"><pre>[]</pre></div></div></div><div class=\"sk-serial\"><div class=\"sk-item\"><div class=\"sk-estimator sk-toggleable\"><input class=\"sk-toggleable__control sk-hidden--visually\" id=\"9bb99ff5-b0ce-41d4-aeae-8b62622c7e9f\" type=\"checkbox\" ><label for=\"9bb99ff5-b0ce-41d4-aeae-8b62622c7e9f\" class=\"sk-toggleable__label sk-toggleable__label-arrow\">passthrough</label><div class=\"sk-toggleable__content\"><pre>passthrough</pre></div></div></div></div></div></div></div></div><div class=\"sk-item\"><div class=\"sk-estimator sk-toggleable\"><input class=\"sk-toggleable__control sk-hidden--visually\" id=\"99d0902e-85da-4f8e-89d5-b10d14691485\" type=\"checkbox\" ><label for=\"99d0902e-85da-4f8e-89d5-b10d14691485\" class=\"sk-toggleable__label sk-toggleable__label-arrow\">SelectKBest</label><div class=\"sk-toggleable__content\"><pre>SelectKBest(k=50)</pre></div></div></div><div class=\"sk-item\"><div class=\"sk-estimator sk-toggleable\"><input class=\"sk-toggleable__control sk-hidden--visually\" id=\"c93fe2db-4e3e-4bb9-b682-1466d057a291\" type=\"checkbox\" ><label for=\"c93fe2db-4e3e-4bb9-b682-1466d057a291\" class=\"sk-toggleable__label sk-toggleable__label-arrow\">RidgeClassifier</label><div class=\"sk-toggleable__content\"><pre>RidgeClassifier()</pre></div></div></div></div></div></div></div>"
      ],
      "text/plain": [
       "Pipeline(steps=[('smote', SMOTE(random_state=11)),\n",
       "                ('preprocess',\n",
       "                 ColumnTransformer(remainder='passthrough',\n",
       "                                   transformers=[('num',\n",
       "                                                  Pipeline(steps=[('imputer',\n",
       "                                                                   SimpleImputer(strategy='median')),\n",
       "                                                                  ('scaler',\n",
       "                                                                   StandardScaler())]),\n",
       "                                                  <sklearn.compose._column_transformer.make_column_selector object at 0x0000021E6C1D9CC0>),\n",
       "                                                 ('cat',\n",
       "                                                  Pipeline(steps=[('imputer',\n",
       "                                                                   SimpleImputer(fill_value='missing',\n",
       "                                                                                 strategy='constant')),\n",
       "                                                                  ('encoding',\n",
       "                                                                   OneHotEncoder(dtype=<class 'int'>,\n",
       "                                                                                 handle_unknown='ignore'))]),\n",
       "                                                  <sklearn.compose._column_transformer.make_column_selector object at 0x0000021E770D6DA0>)])),\n",
       "                ('feat_select', SelectKBest(k=50)),\n",
       "                ('clf', RidgeClassifier())])"
      ]
     },
     "execution_count": 31,
     "metadata": {},
     "output_type": "execute_result"
    }
   ],
   "source": [
    "from imblearn import pipeline as imbpipeline\n",
    "from sklearn.feature_selection import SelectFromModel, SelectKBest, f_classif, chi2, mutual_info_classif\n",
    "from sklearn.model_selection import StratifiedKFold\n",
    "# from sklearn.svm import LinearSVC\n",
    "# test model pipeline avec un classifier rapide\n",
    "from sklearn.linear_model import RidgeClassifier\n",
    "\n",
    "\n",
    "def create_model(\n",
    "    sampler=SMOTE(random_state=11),\n",
    "    preprocessor=numeric_pipeline,\n",
    "    feature_selector=SelectKBest(score_func=f_classif, k=50),\n",
    "    classifier=RidgeClassifier()\n",
    "):\n",
    "    model = imbpipeline.Pipeline(steps=[\n",
    "        ('smote', sampler),\n",
    "        ('preprocess', preprocessor),\n",
    "        ('feat_select', feature_selector),\n",
    "        ('clf', classifier)\n",
    "    ])\n",
    "    # ('feat_select', SelectFromModel(LGBMClassifier, max_features=100)),\n",
    "    return model\n",
    "\n",
    "\n",
    "test_model = create_model(preprocessor=preprocessor)\n",
    "test_model\n"
   ]
  },
  {
   "cell_type": "code",
   "execution_count": 32,
   "metadata": {},
   "outputs": [
    {
     "name": "stdout",
     "output_type": "stream",
     "text": [
      "Fitting 5 folds for each of 7 candidates, totalling 35 fits\n"
     ]
    }
   ],
   "source": [
    "\n",
    "\n",
    "stratified_kfold = StratifiedKFold(n_splits=5,\n",
    "                                   shuffle=True,\n",
    "                                   random_state=11)\n",
    "\n",
    "\n",
    "param_grid = {'clf__alpha': [0.001, 0.01, 0.1, 1, 10, 100, 1000]}\n",
    "grid_search = GridSearchCV(estimator=test_model,\n",
    "                           param_grid=param_grid,\n",
    "                           scoring='roc_auc',\n",
    "                           cv=stratified_kfold,\n",
    "                           verbose=2,\n",
    "                           return_train_score=True,\n",
    "                           n_jobs=-1)\n",
    "\n",
    "\n",
    "grid_search.fit(x_train_prep, y_train)\n",
    "cv_score = grid_search.best_score_\n",
    "test_score = grid_search.score(x_test_prep, y_test)\n",
    "# return {'cv_score':cv_score, 'test_score':test_score}\n"
   ]
  },
  {
   "cell_type": "markdown",
   "metadata": {},
   "source": [
    "# Les métriques d'évaluation\n"
   ]
  },
  {
   "cell_type": "code",
   "execution_count": 33,
   "metadata": {},
   "outputs": [
    {
     "name": "stdout",
     "output_type": "stream",
     "text": [
      "['explained_variance', 'r2', 'max_error', 'neg_median_absolute_error', 'neg_mean_absolute_error', 'neg_mean_absolute_percentage_error', 'neg_mean_squared_error', 'neg_mean_squared_log_error', 'neg_root_mean_squared_error', 'neg_mean_poisson_deviance', 'neg_mean_gamma_deviance', 'accuracy', 'top_k_accuracy', 'roc_auc', 'roc_auc_ovr', 'roc_auc_ovo', 'roc_auc_ovr_weighted', 'roc_auc_ovo_weighted', 'balanced_accuracy', 'average_precision', 'neg_log_loss', 'neg_brier_score', 'adjusted_rand_score', 'rand_score', 'homogeneity_score', 'completeness_score', 'v_measure_score', 'mutual_info_score', 'adjusted_mutual_info_score', 'normalized_mutual_info_score', 'fowlkes_mallows_score', 'precision', 'precision_macro', 'precision_micro', 'precision_samples', 'precision_weighted', 'recall', 'recall_macro', 'recall_micro', 'recall_samples', 'recall_weighted', 'f1', 'f1_macro', 'f1_micro', 'f1_samples', 'f1_weighted', 'jaccard', 'jaccard_macro', 'jaccard_micro', 'jaccard_samples', 'jaccard_weighted']\n"
     ]
    }
   ],
   "source": [
    "from sklearn.metrics import SCORERS\n",
    "\n",
    "print(list(SCORERS))"
   ]
  },
  {
   "cell_type": "markdown",
   "metadata": {},
   "source": [
    "\n",
    "Pour la classification binaire, les métriques pour estimer les erreurs entre y_pred et y_test sont :\n",
    "\n",
    "**ROC AUC (Area Under the Curve)**\n",
    "\n",
    "- peut être comparé entre modèles\n",
    "\n",
    "**log loss**\n",
    "\n",
    "- logistic loss or cross-entropy loss. Normalement utilisé s'il y a plus de 2 classes dans TARGET\n",
    "\n",
    "**precision**\n",
    "Quelle portion du target prédit sont du vrai classe ?\n",
    "\n",
    "- precision = TP / (TP + FP)\n",
    "\n",
    "**recall**\n",
    "Quelle portion du vrai classe sont présent dans le classe prédit ?\n",
    "\n",
    "- recall = TP / (TP + FN)\n",
    "\n",
    "**F1-score**\n",
    "Accuracy équilibré\n",
    "\n",
    "- F1 = 2 _ (precision _ recall) / (precision + recall)\n",
    "- F1 = (2 _ TP) / (2 _ TP + FP + FN)\n",
    "\n",
    "**Fbeta-score**\n",
    "Generalisation de F1-score pour mettre plus de poids sur precision (ex beta=0.5), ou pour mettre plus de poid sur recall (ex: beta=2)\n"
   ]
  },
  {
   "cell_type": "markdown",
   "metadata": {},
   "source": [
    "### Custom Credit Scorer\n",
    "\n",
    "Pour la banque, le cout d'un faux positif (donner un prêt à un mauvais payeur) est plus que le cout d'un faux negatif (refuser un prêt à un bon client)\n",
    "\n",
    "Donc, il faut penaliser les faux positif plus que les faux negatif\n"
   ]
  },
  {
   "cell_type": "code",
   "execution_count": 34,
   "metadata": {},
   "outputs": [],
   "source": [
    "def custom_credit_score(y_test, y_pred):\n",
    "    \"\"\"\n",
    "    Penalise les prêts qui ne sont pas repayés (perte plus importante que si on ne prend pas un client bon)\n",
    "    (TN - FP - 3*FN)\n",
    "    \"\"\"\n",
    "    cm = metrics.confusion_matrix(y_test, y_pred)\n",
    "    # y_true=0 (bon), y_pred=0 (bon) - ce que le banque veut donner un pret\n",
    "    TN = cm[0, 0]\n",
    "    # y_true=1 (mauvais), y_pred=1 (bon) - grand perte pour la banque\n",
    "    FN = cm[1, 0]\n",
    "    # y_true=0 (bon), y_pred=1 (mauvais) - petit perte (manque de preter à un bon client\n",
    "    FP = cm[0, 1]\n",
    "    # y_true=1 (mauvais), y_pred=1 (mauvais) - ce que la banque veut refuser\n",
    "    TP = cm[1, 1]\n",
    "    # bank_profit = TN * valeur_par_pret_fait\n",
    "    # bank_loss = FN * grand_pert_mauvais_pret + FP * valeur_par_pret_perdu\n",
    "    # bank_net_profit = bank_profit - bank loss\n",
    "    # bank_net_profit = (TN - FP) * valeur_par_pret - FN * grand_pert_mauvais_pret\n",
    "    # normalise par la taille de l'echantillon (cm.sum())\n",
    "    valeur_par_pret = 1  # suppose la valeur des prêts fait ou perdus sont identiques\n",
    "    # (on suppose que la cout d'un mauvais prêt et 3 fois le rentabilité d'un bon prêt)\n",
    "    grand_pert_mauvais_pret = 3\n",
    "    profit_score = (TN - FP - 3*FN)/cm.sum()\n",
    "    return profit_score\n"
   ]
  },
  {
   "cell_type": "code",
   "execution_count": 35,
   "metadata": {},
   "outputs": [
    {
     "name": "stdout",
     "output_type": "stream",
     "text": [
      "[[1 1]\n",
      " [1 1]]\n",
      "{'roc_auc': 0.5, 'logloss': 17.27, 'precision': 0.5, 'recall': 0.5, 'f1': 0.5, 'f2': 0.5, 'f05': 0.5, 'custom_score': -0.75}\n"
     ]
    }
   ],
   "source": [
    "from sklearn import metrics\n",
    "\n",
    "# mise en constant pour référence ailleurs\n",
    "ROC_AUC = 'roc_auc'\n",
    "CV_SCORING = ''\n",
    "\n",
    "\n",
    "def performance_metrics(y_true_, y_pred_):\n",
    "    \"\"\"Plusieurs functions de cout (Loss)\"\"\"\n",
    "    loss = dict(\n",
    "        roc_auc=metrics.roc_auc_score(y_true_, y_pred_),\n",
    "        logloss=metrics.log_loss(y_true_, y_pred_),\n",
    "        precision=metrics.precision_score(y_true_, y_pred_),\n",
    "        recall=metrics.recall_score(y_true_, y_pred_),\n",
    "        f1=metrics.f1_score(y_true_, y_pred_),\n",
    "        f2=metrics.fbeta_score(y_true_, y_pred_, beta=2),\n",
    "        f05=metrics.fbeta_score(y_true_, y_pred_, beta=0.5),\n",
    "        custom_score=custom_credit_score(y_true_, y_pred_),\n",
    "    )\n",
    "    for metric in loss.keys():\n",
    "        loss[metric] = round(loss[metric], 3)\n",
    "    return loss\n",
    "\n",
    "\n",
    "y_true1 = [0, 0, 1, 1]\n",
    "y_pred1 = [0, 1, 0, 1]\n",
    "print(metrics.confusion_matrix(y_true1, y_pred1))\n",
    "print(performance_metrics(y_true1, y_pred1))\n"
   ]
  },
  {
   "cell_type": "markdown",
   "metadata": {},
   "source": [
    "### Accumulation des performances des modèles\n"
   ]
  },
  {
   "cell_type": "code",
   "execution_count": 36,
   "metadata": {},
   "outputs": [
    {
     "data": {
      "text/html": [
       "<div>\n",
       "<style scoped>\n",
       "    .dataframe tbody tr th:only-of-type {\n",
       "        vertical-align: middle;\n",
       "    }\n",
       "\n",
       "    .dataframe tbody tr th {\n",
       "        vertical-align: top;\n",
       "    }\n",
       "\n",
       "    .dataframe thead th {\n",
       "        text-align: right;\n",
       "    }\n",
       "</style>\n",
       "<table border=\"1\" class=\"dataframe\">\n",
       "  <thead>\n",
       "    <tr style=\"text-align: right;\">\n",
       "      <th></th>\n",
       "      <th>model</th>\n",
       "      <th>optimizer</th>\n",
       "    </tr>\n",
       "  </thead>\n",
       "  <tbody>\n",
       "    <tr>\n",
       "      <th>0</th>\n",
       "      <td>none</td>\n",
       "      <td>adam</td>\n",
       "    </tr>\n",
       "  </tbody>\n",
       "</table>\n",
       "</div>"
      ],
      "text/plain": [
       "  model optimizer\n",
       "0  none      adam"
      ]
     },
     "execution_count": 36,
     "metadata": {},
     "output_type": "execute_result"
    }
   ],
   "source": [
    "df_resultats = pd.DataFrame()\n",
    "\n",
    "\n",
    "def add_model_score(df: pd.DataFrame = None, model_name: str = 'none', ARI: float = 0, k: int = 0, **kwargs):\n",
    "    global df_resultats\n",
    "    if df is None:\n",
    "        df = df_resultats\n",
    "    \"\"\"ajout les resultats d'un model \"\"\"\n",
    "    resultats = dict(model=model_name)\n",
    "    resultats = dict(**resultats, **kwargs)\n",
    "    df = df.append(resultats, ignore_index=True)\n",
    "    return df\n",
    "\n",
    "\n",
    "# test\n",
    "add_model_score(pd.DataFrame(), optimizer='adam', k=7)\n"
   ]
  },
  {
   "cell_type": "markdown",
   "metadata": {},
   "source": [
    "## Teste des métriques de performance\n"
   ]
  },
  {
   "cell_type": "code",
   "execution_count": 37,
   "metadata": {},
   "outputs": [
    {
     "data": {
      "text/html": [
       "<div>\n",
       "<style scoped>\n",
       "    .dataframe tbody tr th:only-of-type {\n",
       "        vertical-align: middle;\n",
       "    }\n",
       "\n",
       "    .dataframe tbody tr th {\n",
       "        vertical-align: top;\n",
       "    }\n",
       "\n",
       "    .dataframe thead th {\n",
       "        text-align: right;\n",
       "    }\n",
       "</style>\n",
       "<table border=\"1\" class=\"dataframe\">\n",
       "  <thead>\n",
       "    <tr style=\"text-align: right;\">\n",
       "      <th></th>\n",
       "      <th>custom_score</th>\n",
       "      <th>f05</th>\n",
       "      <th>f1</th>\n",
       "      <th>f2</th>\n",
       "      <th>logloss</th>\n",
       "      <th>model</th>\n",
       "      <th>precision</th>\n",
       "      <th>recall</th>\n",
       "      <th>roc_auc</th>\n",
       "    </tr>\n",
       "  </thead>\n",
       "  <tbody>\n",
       "    <tr>\n",
       "      <th>3</th>\n",
       "      <td>-1.833</td>\n",
       "      <td>0.556</td>\n",
       "      <td>0.333</td>\n",
       "      <td>0.238</td>\n",
       "      <td>23.026</td>\n",
       "      <td>many bad payers</td>\n",
       "      <td>1.000</td>\n",
       "      <td>0.200</td>\n",
       "      <td>0.600</td>\n",
       "    </tr>\n",
       "    <tr>\n",
       "      <th>2</th>\n",
       "      <td>-1.250</td>\n",
       "      <td>0.714</td>\n",
       "      <td>0.500</td>\n",
       "      <td>0.385</td>\n",
       "      <td>17.269</td>\n",
       "      <td>a few bad payers</td>\n",
       "      <td>1.000</td>\n",
       "      <td>0.333</td>\n",
       "      <td>0.667</td>\n",
       "    </tr>\n",
       "    <tr>\n",
       "      <th>1</th>\n",
       "      <td>-0.750</td>\n",
       "      <td>0.500</td>\n",
       "      <td>0.500</td>\n",
       "      <td>0.500</td>\n",
       "      <td>17.270</td>\n",
       "      <td>1-each (TN,FN,FP,TP)</td>\n",
       "      <td>0.500</td>\n",
       "      <td>0.500</td>\n",
       "      <td>0.500</td>\n",
       "    </tr>\n",
       "    <tr>\n",
       "      <th>5</th>\n",
       "      <td>-0.500</td>\n",
       "      <td>0.238</td>\n",
       "      <td>0.333</td>\n",
       "      <td>0.556</td>\n",
       "      <td>23.026</td>\n",
       "      <td>many wrong refusals</td>\n",
       "      <td>0.200</td>\n",
       "      <td>1.000</td>\n",
       "      <td>0.600</td>\n",
       "    </tr>\n",
       "    <tr>\n",
       "      <th>4</th>\n",
       "      <td>-0.250</td>\n",
       "      <td>0.385</td>\n",
       "      <td>0.500</td>\n",
       "      <td>0.714</td>\n",
       "      <td>17.270</td>\n",
       "      <td>a few wrong refusals</td>\n",
       "      <td>0.333</td>\n",
       "      <td>1.000</td>\n",
       "      <td>0.667</td>\n",
       "    </tr>\n",
       "    <tr>\n",
       "      <th>0</th>\n",
       "      <td>0.500</td>\n",
       "      <td>1.000</td>\n",
       "      <td>1.000</td>\n",
       "      <td>1.000</td>\n",
       "      <td>0.000</td>\n",
       "      <td>perfect</td>\n",
       "      <td>1.000</td>\n",
       "      <td>1.000</td>\n",
       "      <td>1.000</td>\n",
       "    </tr>\n",
       "  </tbody>\n",
       "</table>\n",
       "</div>"
      ],
      "text/plain": [
       "   custom_score    f05     f1     f2  logloss                 model  \\\n",
       "3        -1.833  0.556  0.333  0.238   23.026       many bad payers   \n",
       "2        -1.250  0.714  0.500  0.385   17.269      a few bad payers   \n",
       "1        -0.750  0.500  0.500  0.500   17.270  1-each (TN,FN,FP,TP)   \n",
       "5        -0.500  0.238  0.333  0.556   23.026   many wrong refusals   \n",
       "4        -0.250  0.385  0.500  0.714   17.270  a few wrong refusals   \n",
       "0         0.500  1.000  1.000  1.000    0.000               perfect   \n",
       "\n",
       "   precision  recall  roc_auc  \n",
       "3      1.000   0.200    0.600  \n",
       "2      1.000   0.333    0.667  \n",
       "1      0.500   0.500    0.500  \n",
       "5      0.200   1.000    0.600  \n",
       "4      0.333   1.000    0.667  \n",
       "0      1.000   1.000    1.000  "
      ]
     },
     "execution_count": 37,
     "metadata": {},
     "output_type": "execute_result"
    }
   ],
   "source": [
    "y_true1 = [0, 0, 1, 1]\n",
    "y_pred1 = [0, 0, 1, 1]\n",
    "perf = performance_metrics(y_true1, y_pred1)\n",
    "df_test = add_model_score(pd.DataFrame(), 'perfect', **perf)\n",
    "y_true1 = [0, 0, 1, 1]\n",
    "y_pred1 = [0, 1, 0, 1]\n",
    "perf = performance_metrics(y_true1, y_pred1)\n",
    "df_test = add_model_score(df_test, '1-each (TN,FN,FP,TP)', **perf)\n",
    "y_true1 = [1, 1, 0, 1]\n",
    "y_pred1 = [0, 0, 0, 1]\n",
    "perf = performance_metrics(y_true1, y_pred1)\n",
    "df_test = add_model_score(df_test, 'a few bad payers', **perf)\n",
    "y_true1 = [1, 1, 1, 1, 0, 1]\n",
    "y_pred1 = [0, 0, 0, 0, 0, 1]\n",
    "perf = performance_metrics(y_true1, y_pred1)\n",
    "df_test = add_model_score(df_test, 'many bad payers', **perf)\n",
    "y_true1 = [0, 0, 0, 1]\n",
    "y_pred1 = [0, 1, 1, 1]\n",
    "perf = performance_metrics(y_true1, y_pred1)\n",
    "df_test = add_model_score(df_test, 'a few wrong refusals', **perf)\n",
    "y_true1 = [0, 0, 0, 0, 0, 1]\n",
    "y_pred1 = [0, 1, 1, 1, 1, 1]\n",
    "perf = performance_metrics(y_true1, y_pred1)\n",
    "df_test = add_model_score(df_test, 'many wrong refusals', **perf)\n",
    "df_test.sort_values(by='custom_score')\n"
   ]
  },
  {
   "cell_type": "markdown",
   "metadata": {},
   "source": [
    "On voit qu'on peut utiliser F2-score, par exemple, au lieu de custom scorer\n",
    "\n",
    "On essaie d'optimiser roc_auc, en suivant custom_score et f2_score\n"
   ]
  },
  {
   "cell_type": "code",
   "execution_count": 38,
   "metadata": {},
   "outputs": [],
   "source": [
    "custom_scorer = metrics.make_scorer(\n",
    "    custom_credit_score, greater_is_better=True)\n",
    "f2_scorer = metrics.make_scorer(\n",
    "    metrics.fbeta_score, greater_is_better=True, beta=2)\n",
    "\n",
    "# GridsearchCV attend un dictionnaire si on fourni plusieurs scorers\n",
    "CV_SCORERS = {\n",
    "    'roc_auc': 'roc_auc',\n",
    "    'custom_scorer': custom_scorer,\n",
    "    'f2_scorer': f2_scorer\n",
    "}\n"
   ]
  },
  {
   "cell_type": "code",
   "execution_count": 39,
   "metadata": {},
   "outputs": [
    {
     "name": "stdout",
     "output_type": "stream",
     "text": [
      "Fitting 5 folds for each of 7 candidates, totalling 35 fits\n"
     ]
    },
    {
     "data": {
      "text/html": [
       "<div>\n",
       "<style scoped>\n",
       "    .dataframe tbody tr th:only-of-type {\n",
       "        vertical-align: middle;\n",
       "    }\n",
       "\n",
       "    .dataframe tbody tr th {\n",
       "        vertical-align: top;\n",
       "    }\n",
       "\n",
       "    .dataframe thead th {\n",
       "        text-align: right;\n",
       "    }\n",
       "</style>\n",
       "<table border=\"1\" class=\"dataframe\">\n",
       "  <thead>\n",
       "    <tr style=\"text-align: right;\">\n",
       "      <th></th>\n",
       "      <th>mean_fit_time</th>\n",
       "      <th>std_fit_time</th>\n",
       "      <th>mean_score_time</th>\n",
       "      <th>std_score_time</th>\n",
       "      <th>param_clf__alpha</th>\n",
       "      <th>params</th>\n",
       "      <th>split0_test_roc_auc</th>\n",
       "      <th>split1_test_roc_auc</th>\n",
       "      <th>split2_test_roc_auc</th>\n",
       "      <th>split3_test_roc_auc</th>\n",
       "      <th>split4_test_roc_auc</th>\n",
       "      <th>mean_test_roc_auc</th>\n",
       "      <th>std_test_roc_auc</th>\n",
       "      <th>rank_test_roc_auc</th>\n",
       "      <th>split0_train_roc_auc</th>\n",
       "      <th>split1_train_roc_auc</th>\n",
       "      <th>split2_train_roc_auc</th>\n",
       "      <th>split3_train_roc_auc</th>\n",
       "      <th>split4_train_roc_auc</th>\n",
       "      <th>mean_train_roc_auc</th>\n",
       "      <th>std_train_roc_auc</th>\n",
       "      <th>split0_test_custom_scorer</th>\n",
       "      <th>split1_test_custom_scorer</th>\n",
       "      <th>split2_test_custom_scorer</th>\n",
       "      <th>split3_test_custom_scorer</th>\n",
       "      <th>split4_test_custom_scorer</th>\n",
       "      <th>mean_test_custom_scorer</th>\n",
       "      <th>std_test_custom_scorer</th>\n",
       "      <th>rank_test_custom_scorer</th>\n",
       "      <th>split0_train_custom_scorer</th>\n",
       "      <th>split1_train_custom_scorer</th>\n",
       "      <th>split2_train_custom_scorer</th>\n",
       "      <th>split3_train_custom_scorer</th>\n",
       "      <th>split4_train_custom_scorer</th>\n",
       "      <th>mean_train_custom_scorer</th>\n",
       "      <th>std_train_custom_scorer</th>\n",
       "      <th>split0_test_f2_scorer</th>\n",
       "      <th>split1_test_f2_scorer</th>\n",
       "      <th>split2_test_f2_scorer</th>\n",
       "      <th>split3_test_f2_scorer</th>\n",
       "      <th>split4_test_f2_scorer</th>\n",
       "      <th>mean_test_f2_scorer</th>\n",
       "      <th>std_test_f2_scorer</th>\n",
       "      <th>rank_test_f2_scorer</th>\n",
       "      <th>split0_train_f2_scorer</th>\n",
       "      <th>split1_train_f2_scorer</th>\n",
       "      <th>split2_train_f2_scorer</th>\n",
       "      <th>split3_train_f2_scorer</th>\n",
       "      <th>split4_train_f2_scorer</th>\n",
       "      <th>mean_train_f2_scorer</th>\n",
       "      <th>std_train_f2_scorer</th>\n",
       "    </tr>\n",
       "  </thead>\n",
       "  <tbody>\n",
       "    <tr>\n",
       "      <th>0</th>\n",
       "      <td>0.630885</td>\n",
       "      <td>0.051067</td>\n",
       "      <td>0.048085</td>\n",
       "      <td>0.006213</td>\n",
       "      <td>0.001</td>\n",
       "      <td>{'clf__alpha': 0.001}</td>\n",
       "      <td>0.721538</td>\n",
       "      <td>0.727617</td>\n",
       "      <td>0.743224</td>\n",
       "      <td>0.745841</td>\n",
       "      <td>0.751079</td>\n",
       "      <td>0.737860</td>\n",
       "      <td>0.011301</td>\n",
       "      <td>5</td>\n",
       "      <td>0.768127</td>\n",
       "      <td>0.772258</td>\n",
       "      <td>0.762696</td>\n",
       "      <td>0.764425</td>\n",
       "      <td>0.762997</td>\n",
       "      <td>0.766101</td>\n",
       "      <td>0.003635</td>\n",
       "      <td>0.294375</td>\n",
       "      <td>0.235625</td>\n",
       "      <td>0.301875</td>\n",
       "      <td>0.31875</td>\n",
       "      <td>0.319375</td>\n",
       "      <td>0.294000</td>\n",
       "      <td>0.030745</td>\n",
       "      <td>4</td>\n",
       "      <td>0.311406</td>\n",
       "      <td>0.322656</td>\n",
       "      <td>0.302500</td>\n",
       "      <td>0.306563</td>\n",
       "      <td>0.305</td>\n",
       "      <td>0.309625</td>\n",
       "      <td>0.007135</td>\n",
       "      <td>0.415076</td>\n",
       "      <td>0.397260</td>\n",
       "      <td>0.418269</td>\n",
       "      <td>0.419922</td>\n",
       "      <td>0.43162</td>\n",
       "      <td>0.416430</td>\n",
       "      <td>0.011096</td>\n",
       "      <td>4</td>\n",
       "      <td>0.442826</td>\n",
       "      <td>0.450396</td>\n",
       "      <td>0.434989</td>\n",
       "      <td>0.434471</td>\n",
       "      <td>0.439534</td>\n",
       "      <td>0.440444</td>\n",
       "      <td>0.005848</td>\n",
       "    </tr>\n",
       "    <tr>\n",
       "      <th>1</th>\n",
       "      <td>0.541954</td>\n",
       "      <td>0.051582</td>\n",
       "      <td>0.043671</td>\n",
       "      <td>0.002151</td>\n",
       "      <td>0.01</td>\n",
       "      <td>{'clf__alpha': 0.01}</td>\n",
       "      <td>0.721538</td>\n",
       "      <td>0.727617</td>\n",
       "      <td>0.743224</td>\n",
       "      <td>0.745841</td>\n",
       "      <td>0.751079</td>\n",
       "      <td>0.737860</td>\n",
       "      <td>0.011301</td>\n",
       "      <td>5</td>\n",
       "      <td>0.768127</td>\n",
       "      <td>0.772258</td>\n",
       "      <td>0.762696</td>\n",
       "      <td>0.764426</td>\n",
       "      <td>0.762997</td>\n",
       "      <td>0.766101</td>\n",
       "      <td>0.003635</td>\n",
       "      <td>0.294375</td>\n",
       "      <td>0.235625</td>\n",
       "      <td>0.301875</td>\n",
       "      <td>0.31875</td>\n",
       "      <td>0.319375</td>\n",
       "      <td>0.294000</td>\n",
       "      <td>0.030745</td>\n",
       "      <td>4</td>\n",
       "      <td>0.311406</td>\n",
       "      <td>0.322656</td>\n",
       "      <td>0.302500</td>\n",
       "      <td>0.306563</td>\n",
       "      <td>0.305</td>\n",
       "      <td>0.309625</td>\n",
       "      <td>0.007135</td>\n",
       "      <td>0.415076</td>\n",
       "      <td>0.397260</td>\n",
       "      <td>0.418269</td>\n",
       "      <td>0.419922</td>\n",
       "      <td>0.43162</td>\n",
       "      <td>0.416430</td>\n",
       "      <td>0.011096</td>\n",
       "      <td>4</td>\n",
       "      <td>0.442826</td>\n",
       "      <td>0.450396</td>\n",
       "      <td>0.434989</td>\n",
       "      <td>0.434471</td>\n",
       "      <td>0.439534</td>\n",
       "      <td>0.440444</td>\n",
       "      <td>0.005848</td>\n",
       "    </tr>\n",
       "    <tr>\n",
       "      <th>2</th>\n",
       "      <td>0.495000</td>\n",
       "      <td>0.005375</td>\n",
       "      <td>0.047488</td>\n",
       "      <td>0.006443</td>\n",
       "      <td>0.1</td>\n",
       "      <td>{'clf__alpha': 0.1}</td>\n",
       "      <td>0.721548</td>\n",
       "      <td>0.727617</td>\n",
       "      <td>0.743229</td>\n",
       "      <td>0.745846</td>\n",
       "      <td>0.751079</td>\n",
       "      <td>0.737864</td>\n",
       "      <td>0.011299</td>\n",
       "      <td>4</td>\n",
       "      <td>0.768127</td>\n",
       "      <td>0.772257</td>\n",
       "      <td>0.762696</td>\n",
       "      <td>0.764425</td>\n",
       "      <td>0.762998</td>\n",
       "      <td>0.766101</td>\n",
       "      <td>0.003634</td>\n",
       "      <td>0.294375</td>\n",
       "      <td>0.235625</td>\n",
       "      <td>0.301875</td>\n",
       "      <td>0.31875</td>\n",
       "      <td>0.319375</td>\n",
       "      <td>0.294000</td>\n",
       "      <td>0.030745</td>\n",
       "      <td>4</td>\n",
       "      <td>0.311406</td>\n",
       "      <td>0.322656</td>\n",
       "      <td>0.302500</td>\n",
       "      <td>0.306563</td>\n",
       "      <td>0.305</td>\n",
       "      <td>0.309625</td>\n",
       "      <td>0.007135</td>\n",
       "      <td>0.415076</td>\n",
       "      <td>0.397260</td>\n",
       "      <td>0.418269</td>\n",
       "      <td>0.419922</td>\n",
       "      <td>0.43162</td>\n",
       "      <td>0.416430</td>\n",
       "      <td>0.011096</td>\n",
       "      <td>4</td>\n",
       "      <td>0.442826</td>\n",
       "      <td>0.450396</td>\n",
       "      <td>0.434989</td>\n",
       "      <td>0.434471</td>\n",
       "      <td>0.439534</td>\n",
       "      <td>0.440444</td>\n",
       "      <td>0.005848</td>\n",
       "    </tr>\n",
       "    <tr>\n",
       "      <th>3</th>\n",
       "      <td>0.506432</td>\n",
       "      <td>0.011813</td>\n",
       "      <td>0.047694</td>\n",
       "      <td>0.010840</td>\n",
       "      <td>1</td>\n",
       "      <td>{'clf__alpha': 1}</td>\n",
       "      <td>0.721574</td>\n",
       "      <td>0.727591</td>\n",
       "      <td>0.743214</td>\n",
       "      <td>0.745851</td>\n",
       "      <td>0.751068</td>\n",
       "      <td>0.737860</td>\n",
       "      <td>0.011293</td>\n",
       "      <td>7</td>\n",
       "      <td>0.768124</td>\n",
       "      <td>0.772257</td>\n",
       "      <td>0.762695</td>\n",
       "      <td>0.764419</td>\n",
       "      <td>0.763003</td>\n",
       "      <td>0.766100</td>\n",
       "      <td>0.003634</td>\n",
       "      <td>0.294375</td>\n",
       "      <td>0.234375</td>\n",
       "      <td>0.301875</td>\n",
       "      <td>0.31875</td>\n",
       "      <td>0.319375</td>\n",
       "      <td>0.293750</td>\n",
       "      <td>0.031220</td>\n",
       "      <td>7</td>\n",
       "      <td>0.311406</td>\n",
       "      <td>0.322969</td>\n",
       "      <td>0.302500</td>\n",
       "      <td>0.306563</td>\n",
       "      <td>0.305</td>\n",
       "      <td>0.309688</td>\n",
       "      <td>0.007249</td>\n",
       "      <td>0.415076</td>\n",
       "      <td>0.396898</td>\n",
       "      <td>0.418269</td>\n",
       "      <td>0.419922</td>\n",
       "      <td>0.43162</td>\n",
       "      <td>0.416357</td>\n",
       "      <td>0.011222</td>\n",
       "      <td>7</td>\n",
       "      <td>0.442826</td>\n",
       "      <td>0.450505</td>\n",
       "      <td>0.434989</td>\n",
       "      <td>0.434471</td>\n",
       "      <td>0.439534</td>\n",
       "      <td>0.440465</td>\n",
       "      <td>0.005885</td>\n",
       "    </tr>\n",
       "    <tr>\n",
       "      <th>4</th>\n",
       "      <td>0.492297</td>\n",
       "      <td>0.016021</td>\n",
       "      <td>0.044302</td>\n",
       "      <td>0.004934</td>\n",
       "      <td>10</td>\n",
       "      <td>{'clf__alpha': 10}</td>\n",
       "      <td>0.721543</td>\n",
       "      <td>0.727596</td>\n",
       "      <td>0.743214</td>\n",
       "      <td>0.745980</td>\n",
       "      <td>0.751073</td>\n",
       "      <td>0.737881</td>\n",
       "      <td>0.011321</td>\n",
       "      <td>3</td>\n",
       "      <td>0.768119</td>\n",
       "      <td>0.772270</td>\n",
       "      <td>0.762696</td>\n",
       "      <td>0.764405</td>\n",
       "      <td>0.763011</td>\n",
       "      <td>0.766100</td>\n",
       "      <td>0.003637</td>\n",
       "      <td>0.296250</td>\n",
       "      <td>0.234375</td>\n",
       "      <td>0.301875</td>\n",
       "      <td>0.32000</td>\n",
       "      <td>0.319375</td>\n",
       "      <td>0.294375</td>\n",
       "      <td>0.031437</td>\n",
       "      <td>3</td>\n",
       "      <td>0.311719</td>\n",
       "      <td>0.322969</td>\n",
       "      <td>0.302344</td>\n",
       "      <td>0.305625</td>\n",
       "      <td>0.305</td>\n",
       "      <td>0.309531</td>\n",
       "      <td>0.007387</td>\n",
       "      <td>0.419447</td>\n",
       "      <td>0.396898</td>\n",
       "      <td>0.418269</td>\n",
       "      <td>0.420332</td>\n",
       "      <td>0.43162</td>\n",
       "      <td>0.417313</td>\n",
       "      <td>0.011279</td>\n",
       "      <td>1</td>\n",
       "      <td>0.442932</td>\n",
       "      <td>0.450505</td>\n",
       "      <td>0.435867</td>\n",
       "      <td>0.434160</td>\n",
       "      <td>0.439534</td>\n",
       "      <td>0.440600</td>\n",
       "      <td>0.005806</td>\n",
       "    </tr>\n",
       "  </tbody>\n",
       "</table>\n",
       "</div>"
      ],
      "text/plain": [
       "   mean_fit_time  std_fit_time  mean_score_time  std_score_time  \\\n",
       "0       0.630885      0.051067         0.048085        0.006213   \n",
       "1       0.541954      0.051582         0.043671        0.002151   \n",
       "2       0.495000      0.005375         0.047488        0.006443   \n",
       "3       0.506432      0.011813         0.047694        0.010840   \n",
       "4       0.492297      0.016021         0.044302        0.004934   \n",
       "\n",
       "  param_clf__alpha                 params  split0_test_roc_auc  \\\n",
       "0            0.001  {'clf__alpha': 0.001}             0.721538   \n",
       "1             0.01   {'clf__alpha': 0.01}             0.721538   \n",
       "2              0.1    {'clf__alpha': 0.1}             0.721548   \n",
       "3                1      {'clf__alpha': 1}             0.721574   \n",
       "4               10     {'clf__alpha': 10}             0.721543   \n",
       "\n",
       "   split1_test_roc_auc  split2_test_roc_auc  split3_test_roc_auc  \\\n",
       "0             0.727617             0.743224             0.745841   \n",
       "1             0.727617             0.743224             0.745841   \n",
       "2             0.727617             0.743229             0.745846   \n",
       "3             0.727591             0.743214             0.745851   \n",
       "4             0.727596             0.743214             0.745980   \n",
       "\n",
       "   split4_test_roc_auc  mean_test_roc_auc  std_test_roc_auc  \\\n",
       "0             0.751079           0.737860          0.011301   \n",
       "1             0.751079           0.737860          0.011301   \n",
       "2             0.751079           0.737864          0.011299   \n",
       "3             0.751068           0.737860          0.011293   \n",
       "4             0.751073           0.737881          0.011321   \n",
       "\n",
       "   rank_test_roc_auc  split0_train_roc_auc  split1_train_roc_auc  \\\n",
       "0                  5              0.768127              0.772258   \n",
       "1                  5              0.768127              0.772258   \n",
       "2                  4              0.768127              0.772257   \n",
       "3                  7              0.768124              0.772257   \n",
       "4                  3              0.768119              0.772270   \n",
       "\n",
       "   split2_train_roc_auc  split3_train_roc_auc  split4_train_roc_auc  \\\n",
       "0              0.762696              0.764425              0.762997   \n",
       "1              0.762696              0.764426              0.762997   \n",
       "2              0.762696              0.764425              0.762998   \n",
       "3              0.762695              0.764419              0.763003   \n",
       "4              0.762696              0.764405              0.763011   \n",
       "\n",
       "   mean_train_roc_auc  std_train_roc_auc  split0_test_custom_scorer  \\\n",
       "0            0.766101           0.003635                   0.294375   \n",
       "1            0.766101           0.003635                   0.294375   \n",
       "2            0.766101           0.003634                   0.294375   \n",
       "3            0.766100           0.003634                   0.294375   \n",
       "4            0.766100           0.003637                   0.296250   \n",
       "\n",
       "   split1_test_custom_scorer  split2_test_custom_scorer  \\\n",
       "0                   0.235625                   0.301875   \n",
       "1                   0.235625                   0.301875   \n",
       "2                   0.235625                   0.301875   \n",
       "3                   0.234375                   0.301875   \n",
       "4                   0.234375                   0.301875   \n",
       "\n",
       "   split3_test_custom_scorer  split4_test_custom_scorer  \\\n",
       "0                    0.31875                   0.319375   \n",
       "1                    0.31875                   0.319375   \n",
       "2                    0.31875                   0.319375   \n",
       "3                    0.31875                   0.319375   \n",
       "4                    0.32000                   0.319375   \n",
       "\n",
       "   mean_test_custom_scorer  std_test_custom_scorer  rank_test_custom_scorer  \\\n",
       "0                 0.294000                0.030745                        4   \n",
       "1                 0.294000                0.030745                        4   \n",
       "2                 0.294000                0.030745                        4   \n",
       "3                 0.293750                0.031220                        7   \n",
       "4                 0.294375                0.031437                        3   \n",
       "\n",
       "   split0_train_custom_scorer  split1_train_custom_scorer  \\\n",
       "0                    0.311406                    0.322656   \n",
       "1                    0.311406                    0.322656   \n",
       "2                    0.311406                    0.322656   \n",
       "3                    0.311406                    0.322969   \n",
       "4                    0.311719                    0.322969   \n",
       "\n",
       "   split2_train_custom_scorer  split3_train_custom_scorer  \\\n",
       "0                    0.302500                    0.306563   \n",
       "1                    0.302500                    0.306563   \n",
       "2                    0.302500                    0.306563   \n",
       "3                    0.302500                    0.306563   \n",
       "4                    0.302344                    0.305625   \n",
       "\n",
       "   split4_train_custom_scorer  mean_train_custom_scorer  \\\n",
       "0                       0.305                  0.309625   \n",
       "1                       0.305                  0.309625   \n",
       "2                       0.305                  0.309625   \n",
       "3                       0.305                  0.309688   \n",
       "4                       0.305                  0.309531   \n",
       "\n",
       "   std_train_custom_scorer  split0_test_f2_scorer  split1_test_f2_scorer  \\\n",
       "0                 0.007135               0.415076               0.397260   \n",
       "1                 0.007135               0.415076               0.397260   \n",
       "2                 0.007135               0.415076               0.397260   \n",
       "3                 0.007249               0.415076               0.396898   \n",
       "4                 0.007387               0.419447               0.396898   \n",
       "\n",
       "   split2_test_f2_scorer  split3_test_f2_scorer  split4_test_f2_scorer  \\\n",
       "0               0.418269               0.419922                0.43162   \n",
       "1               0.418269               0.419922                0.43162   \n",
       "2               0.418269               0.419922                0.43162   \n",
       "3               0.418269               0.419922                0.43162   \n",
       "4               0.418269               0.420332                0.43162   \n",
       "\n",
       "   mean_test_f2_scorer  std_test_f2_scorer  rank_test_f2_scorer  \\\n",
       "0             0.416430            0.011096                    4   \n",
       "1             0.416430            0.011096                    4   \n",
       "2             0.416430            0.011096                    4   \n",
       "3             0.416357            0.011222                    7   \n",
       "4             0.417313            0.011279                    1   \n",
       "\n",
       "   split0_train_f2_scorer  split1_train_f2_scorer  split2_train_f2_scorer  \\\n",
       "0                0.442826                0.450396                0.434989   \n",
       "1                0.442826                0.450396                0.434989   \n",
       "2                0.442826                0.450396                0.434989   \n",
       "3                0.442826                0.450505                0.434989   \n",
       "4                0.442932                0.450505                0.435867   \n",
       "\n",
       "   split3_train_f2_scorer  split4_train_f2_scorer  mean_train_f2_scorer  \\\n",
       "0                0.434471                0.439534              0.440444   \n",
       "1                0.434471                0.439534              0.440444   \n",
       "2                0.434471                0.439534              0.440444   \n",
       "3                0.434471                0.439534              0.440465   \n",
       "4                0.434160                0.439534              0.440600   \n",
       "\n",
       "   std_train_f2_scorer  \n",
       "0             0.005848  \n",
       "1             0.005848  \n",
       "2             0.005848  \n",
       "3             0.005885  \n",
       "4             0.005806  "
      ]
     },
     "execution_count": 39,
     "metadata": {},
     "output_type": "execute_result"
    }
   ],
   "source": [
    "# Test GridSearch\n",
    "grid_search = GridSearchCV(estimator=test_model,\n",
    "                           param_grid=param_grid,\n",
    "                           scoring=CV_SCORERS,\n",
    "                           refit='roc_auc',\n",
    "                           cv=stratified_kfold,\n",
    "                           verbose=2,\n",
    "                           return_train_score=True,\n",
    "                           n_jobs=-1)\n",
    "\n",
    "\n",
    "grid_search.fit(x_train_prep, y_train)\n",
    "cv_score = grid_search.best_score_\n",
    "test_score = grid_search.score(x_test_prep, y_test)\n",
    "df_cv = pd.DataFrame(grid_search.cv_results_)\n",
    "df_cv.head()\n"
   ]
  },
  {
   "cell_type": "markdown",
   "metadata": {},
   "source": [
    "## Cross-validation parameter selection\n",
    "\n",
    "- il faut valider les paramètres sélectionnés pendant grid search\n",
    "\n",
    "### Validation curves (pour sélection d'hyperparamètres)\n"
   ]
  },
  {
   "cell_type": "code",
   "execution_count": 40,
   "metadata": {},
   "outputs": [],
   "source": [
    "def plot_best_param_scores(gs, param='alpha', model_name='', score='roc_auc', logx=False):\n",
    "    cv = pd.DataFrame.from_dict(gs.cv_results_)\n",
    "    param_key = f'param_{param}'\n",
    "    if not param_key in cv.columns:\n",
    "        return f'{param_key} not in cross-validation results'\n",
    "\n",
    "    # filter by all best params, except chosen param\n",
    "    filtre = cv.index == cv.index\n",
    "    best_param = gs.best_params_[param]\n",
    "    if not isinstance(best_param, (int, float)):\n",
    "        return 'param is not a number'\n",
    "    for key in gs.best_params_.keys():\n",
    "        # print(f'key={key}, param_key={param_key}')\n",
    "        if key != param:\n",
    "            filtre &= cv[f'param_{key}'] == gs.best_params_[key]\n",
    "\n",
    "    res = cv[filtre]\n",
    "    if len(res) < 3:\n",
    "        print('filter < 3 results')\n",
    "        return res\n",
    "\n",
    "    if f'mean_train_{score}' in res.columns:\n",
    "        plt.errorbar(x=res[param_key], y=res[f'mean_train_{score}'],\n",
    "                     yerr=res[f'std_train_{score}'], label='cv train')\n",
    "    plt.errorbar(x=res[param_key], y=res[f'mean_test_{score}'],\n",
    "                 yerr=res[f'std_test_{score}'], label='cv test')\n",
    "    ax = plt.gca()\n",
    "\n",
    "    y_min, y_max = plt.ylim()\n",
    "    ax.vlines(best_param, y_min, y_max,\n",
    "              label=f'best value : {param} = {best_param:.3f}', linestyle=\"--\", color=\"tab:orange\")\n",
    "    plt.legend(loc='best')\n",
    "    plt.xlabel(f'paramètre : {param}')\n",
    "    if is_log_scale(res[param_key].values) or logx:\n",
    "        plt.xscale('log')\n",
    "    plt.ylabel(f'score ({score})')\n",
    "    plt.suptitle(f'{model_name}')\n",
    "    plt.title(f'Validation Curve (paramètre : {param})')\n",
    "    to_png(f'{model_name} - Validation Curve (paramètre : {param})')\n",
    "    plt.show()\n"
   ]
  },
  {
   "cell_type": "code",
   "execution_count": 41,
   "metadata": {},
   "outputs": [
    {
     "data": {
      "text/html": [
       "<div>\n",
       "<style scoped>\n",
       "    .dataframe tbody tr th:only-of-type {\n",
       "        vertical-align: middle;\n",
       "    }\n",
       "\n",
       "    .dataframe tbody tr th {\n",
       "        vertical-align: top;\n",
       "    }\n",
       "\n",
       "    .dataframe thead th {\n",
       "        text-align: right;\n",
       "    }\n",
       "</style>\n",
       "<table border=\"1\" class=\"dataframe\">\n",
       "  <thead>\n",
       "    <tr style=\"text-align: right;\">\n",
       "      <th></th>\n",
       "      <th>mean_fit_time</th>\n",
       "      <th>std_fit_time</th>\n",
       "      <th>mean_score_time</th>\n",
       "      <th>std_score_time</th>\n",
       "      <th>param_clf__alpha</th>\n",
       "      <th>params</th>\n",
       "      <th>split0_test_roc_auc</th>\n",
       "      <th>split1_test_roc_auc</th>\n",
       "      <th>split2_test_roc_auc</th>\n",
       "      <th>split3_test_roc_auc</th>\n",
       "      <th>split4_test_roc_auc</th>\n",
       "      <th>mean_test_roc_auc</th>\n",
       "      <th>std_test_roc_auc</th>\n",
       "      <th>rank_test_roc_auc</th>\n",
       "      <th>split0_train_roc_auc</th>\n",
       "      <th>split1_train_roc_auc</th>\n",
       "      <th>split2_train_roc_auc</th>\n",
       "      <th>split3_train_roc_auc</th>\n",
       "      <th>split4_train_roc_auc</th>\n",
       "      <th>mean_train_roc_auc</th>\n",
       "      <th>std_train_roc_auc</th>\n",
       "      <th>split0_test_custom_scorer</th>\n",
       "      <th>split1_test_custom_scorer</th>\n",
       "      <th>split2_test_custom_scorer</th>\n",
       "      <th>split3_test_custom_scorer</th>\n",
       "      <th>split4_test_custom_scorer</th>\n",
       "      <th>mean_test_custom_scorer</th>\n",
       "      <th>std_test_custom_scorer</th>\n",
       "      <th>rank_test_custom_scorer</th>\n",
       "      <th>split0_train_custom_scorer</th>\n",
       "      <th>split1_train_custom_scorer</th>\n",
       "      <th>split2_train_custom_scorer</th>\n",
       "      <th>split3_train_custom_scorer</th>\n",
       "      <th>split4_train_custom_scorer</th>\n",
       "      <th>mean_train_custom_scorer</th>\n",
       "      <th>std_train_custom_scorer</th>\n",
       "      <th>split0_test_f2_scorer</th>\n",
       "      <th>split1_test_f2_scorer</th>\n",
       "      <th>split2_test_f2_scorer</th>\n",
       "      <th>split3_test_f2_scorer</th>\n",
       "      <th>split4_test_f2_scorer</th>\n",
       "      <th>mean_test_f2_scorer</th>\n",
       "      <th>std_test_f2_scorer</th>\n",
       "      <th>rank_test_f2_scorer</th>\n",
       "      <th>split0_train_f2_scorer</th>\n",
       "      <th>split1_train_f2_scorer</th>\n",
       "      <th>split2_train_f2_scorer</th>\n",
       "      <th>split3_train_f2_scorer</th>\n",
       "      <th>split4_train_f2_scorer</th>\n",
       "      <th>mean_train_f2_scorer</th>\n",
       "      <th>std_train_f2_scorer</th>\n",
       "    </tr>\n",
       "  </thead>\n",
       "  <tbody>\n",
       "    <tr>\n",
       "      <th>0</th>\n",
       "      <td>0.253862</td>\n",
       "      <td>0.017984</td>\n",
       "      <td>0.021609</td>\n",
       "      <td>0.005340</td>\n",
       "      <td>0.001</td>\n",
       "      <td>{'clf__alpha': 0.001}</td>\n",
       "      <td>0.707305</td>\n",
       "      <td>0.723732</td>\n",
       "      <td>0.799340</td>\n",
       "      <td>0.719697</td>\n",
       "      <td>0.759883</td>\n",
       "      <td>0.741991</td>\n",
       "      <td>0.033593</td>\n",
       "      <td>13</td>\n",
       "      <td>0.771533</td>\n",
       "      <td>0.771696</td>\n",
       "      <td>0.751149</td>\n",
       "      <td>0.770931</td>\n",
       "      <td>0.760779</td>\n",
       "      <td>0.765218</td>\n",
       "      <td>0.00815</td>\n",
       "      <td>0.265625</td>\n",
       "      <td>0.2825</td>\n",
       "      <td>0.331875</td>\n",
       "      <td>0.29125</td>\n",
       "      <td>0.30125</td>\n",
       "      <td>0.2945</td>\n",
       "      <td>0.022049</td>\n",
       "      <td>6</td>\n",
       "      <td>0.314688</td>\n",
       "      <td>0.325</td>\n",
       "      <td>0.296563</td>\n",
       "      <td>0.314375</td>\n",
       "      <td>0.303594</td>\n",
       "      <td>0.310844</td>\n",
       "      <td>0.00984</td>\n",
       "      <td>0.39114</td>\n",
       "      <td>0.392344</td>\n",
       "      <td>0.473231</td>\n",
       "      <td>0.387973</td>\n",
       "      <td>0.42186</td>\n",
       "      <td>0.41331</td>\n",
       "      <td>0.032363</td>\n",
       "      <td>8</td>\n",
       "      <td>0.446727</td>\n",
       "      <td>0.446536</td>\n",
       "      <td>0.431177</td>\n",
       "      <td>0.440824</td>\n",
       "      <td>0.436282</td>\n",
       "      <td>0.440309</td>\n",
       "      <td>0.005997</td>\n",
       "    </tr>\n",
       "    <tr>\n",
       "      <th>1</th>\n",
       "      <td>0.252292</td>\n",
       "      <td>0.010045</td>\n",
       "      <td>0.019723</td>\n",
       "      <td>0.002614</td>\n",
       "      <td>0.00263665</td>\n",
       "      <td>{'clf__alpha': 0.0026366508987303583}</td>\n",
       "      <td>0.707305</td>\n",
       "      <td>0.723732</td>\n",
       "      <td>0.799340</td>\n",
       "      <td>0.719697</td>\n",
       "      <td>0.759883</td>\n",
       "      <td>0.741991</td>\n",
       "      <td>0.033593</td>\n",
       "      <td>13</td>\n",
       "      <td>0.771533</td>\n",
       "      <td>0.771696</td>\n",
       "      <td>0.751149</td>\n",
       "      <td>0.770931</td>\n",
       "      <td>0.760779</td>\n",
       "      <td>0.765218</td>\n",
       "      <td>0.00815</td>\n",
       "      <td>0.265625</td>\n",
       "      <td>0.2825</td>\n",
       "      <td>0.331875</td>\n",
       "      <td>0.29125</td>\n",
       "      <td>0.30125</td>\n",
       "      <td>0.2945</td>\n",
       "      <td>0.022049</td>\n",
       "      <td>6</td>\n",
       "      <td>0.314688</td>\n",
       "      <td>0.325</td>\n",
       "      <td>0.296563</td>\n",
       "      <td>0.314375</td>\n",
       "      <td>0.303594</td>\n",
       "      <td>0.310844</td>\n",
       "      <td>0.00984</td>\n",
       "      <td>0.39114</td>\n",
       "      <td>0.392344</td>\n",
       "      <td>0.473231</td>\n",
       "      <td>0.387973</td>\n",
       "      <td>0.42186</td>\n",
       "      <td>0.41331</td>\n",
       "      <td>0.032363</td>\n",
       "      <td>8</td>\n",
       "      <td>0.446727</td>\n",
       "      <td>0.446536</td>\n",
       "      <td>0.431177</td>\n",
       "      <td>0.440824</td>\n",
       "      <td>0.436282</td>\n",
       "      <td>0.440309</td>\n",
       "      <td>0.005997</td>\n",
       "    </tr>\n",
       "    <tr>\n",
       "      <th>2</th>\n",
       "      <td>0.264624</td>\n",
       "      <td>0.031879</td>\n",
       "      <td>0.026557</td>\n",
       "      <td>0.004980</td>\n",
       "      <td>0.00695193</td>\n",
       "      <td>{'clf__alpha': 0.0069519279617756054}</td>\n",
       "      <td>0.707305</td>\n",
       "      <td>0.723732</td>\n",
       "      <td>0.799340</td>\n",
       "      <td>0.719697</td>\n",
       "      <td>0.759883</td>\n",
       "      <td>0.741991</td>\n",
       "      <td>0.033593</td>\n",
       "      <td>13</td>\n",
       "      <td>0.771533</td>\n",
       "      <td>0.771696</td>\n",
       "      <td>0.751148</td>\n",
       "      <td>0.770931</td>\n",
       "      <td>0.760779</td>\n",
       "      <td>0.765217</td>\n",
       "      <td>0.00815</td>\n",
       "      <td>0.265625</td>\n",
       "      <td>0.2825</td>\n",
       "      <td>0.331875</td>\n",
       "      <td>0.29125</td>\n",
       "      <td>0.30125</td>\n",
       "      <td>0.2945</td>\n",
       "      <td>0.022049</td>\n",
       "      <td>6</td>\n",
       "      <td>0.314688</td>\n",
       "      <td>0.325</td>\n",
       "      <td>0.296563</td>\n",
       "      <td>0.314375</td>\n",
       "      <td>0.303594</td>\n",
       "      <td>0.310844</td>\n",
       "      <td>0.00984</td>\n",
       "      <td>0.39114</td>\n",
       "      <td>0.392344</td>\n",
       "      <td>0.473231</td>\n",
       "      <td>0.387973</td>\n",
       "      <td>0.42186</td>\n",
       "      <td>0.41331</td>\n",
       "      <td>0.032363</td>\n",
       "      <td>8</td>\n",
       "      <td>0.446727</td>\n",
       "      <td>0.446536</td>\n",
       "      <td>0.431177</td>\n",
       "      <td>0.440824</td>\n",
       "      <td>0.436282</td>\n",
       "      <td>0.440309</td>\n",
       "      <td>0.005997</td>\n",
       "    </tr>\n",
       "    <tr>\n",
       "      <th>3</th>\n",
       "      <td>0.250101</td>\n",
       "      <td>0.005668</td>\n",
       "      <td>0.020173</td>\n",
       "      <td>0.003407</td>\n",
       "      <td>0.0183298</td>\n",
       "      <td>{'clf__alpha': 0.018329807108324356}</td>\n",
       "      <td>0.707305</td>\n",
       "      <td>0.723732</td>\n",
       "      <td>0.799340</td>\n",
       "      <td>0.719697</td>\n",
       "      <td>0.759883</td>\n",
       "      <td>0.741991</td>\n",
       "      <td>0.033593</td>\n",
       "      <td>13</td>\n",
       "      <td>0.771533</td>\n",
       "      <td>0.771696</td>\n",
       "      <td>0.751149</td>\n",
       "      <td>0.770931</td>\n",
       "      <td>0.760778</td>\n",
       "      <td>0.765217</td>\n",
       "      <td>0.00815</td>\n",
       "      <td>0.265625</td>\n",
       "      <td>0.2825</td>\n",
       "      <td>0.331875</td>\n",
       "      <td>0.29125</td>\n",
       "      <td>0.30125</td>\n",
       "      <td>0.2945</td>\n",
       "      <td>0.022049</td>\n",
       "      <td>6</td>\n",
       "      <td>0.314688</td>\n",
       "      <td>0.325</td>\n",
       "      <td>0.296563</td>\n",
       "      <td>0.314375</td>\n",
       "      <td>0.303594</td>\n",
       "      <td>0.310844</td>\n",
       "      <td>0.00984</td>\n",
       "      <td>0.39114</td>\n",
       "      <td>0.392344</td>\n",
       "      <td>0.473231</td>\n",
       "      <td>0.387973</td>\n",
       "      <td>0.42186</td>\n",
       "      <td>0.41331</td>\n",
       "      <td>0.032363</td>\n",
       "      <td>8</td>\n",
       "      <td>0.446727</td>\n",
       "      <td>0.446536</td>\n",
       "      <td>0.431177</td>\n",
       "      <td>0.440824</td>\n",
       "      <td>0.436282</td>\n",
       "      <td>0.440309</td>\n",
       "      <td>0.005997</td>\n",
       "    </tr>\n",
       "    <tr>\n",
       "      <th>4</th>\n",
       "      <td>0.240389</td>\n",
       "      <td>0.011399</td>\n",
       "      <td>0.019063</td>\n",
       "      <td>0.002104</td>\n",
       "      <td>0.0483293</td>\n",
       "      <td>{'clf__alpha': 0.04832930238571752}</td>\n",
       "      <td>0.707305</td>\n",
       "      <td>0.723732</td>\n",
       "      <td>0.799335</td>\n",
       "      <td>0.719697</td>\n",
       "      <td>0.759883</td>\n",
       "      <td>0.741990</td>\n",
       "      <td>0.033592</td>\n",
       "      <td>17</td>\n",
       "      <td>0.771533</td>\n",
       "      <td>0.771697</td>\n",
       "      <td>0.751149</td>\n",
       "      <td>0.770931</td>\n",
       "      <td>0.760778</td>\n",
       "      <td>0.765218</td>\n",
       "      <td>0.00815</td>\n",
       "      <td>0.265625</td>\n",
       "      <td>0.2825</td>\n",
       "      <td>0.331875</td>\n",
       "      <td>0.29125</td>\n",
       "      <td>0.30125</td>\n",
       "      <td>0.2945</td>\n",
       "      <td>0.022049</td>\n",
       "      <td>6</td>\n",
       "      <td>0.314688</td>\n",
       "      <td>0.325</td>\n",
       "      <td>0.296563</td>\n",
       "      <td>0.314375</td>\n",
       "      <td>0.303594</td>\n",
       "      <td>0.310844</td>\n",
       "      <td>0.00984</td>\n",
       "      <td>0.39114</td>\n",
       "      <td>0.392344</td>\n",
       "      <td>0.473231</td>\n",
       "      <td>0.387973</td>\n",
       "      <td>0.42186</td>\n",
       "      <td>0.41331</td>\n",
       "      <td>0.032363</td>\n",
       "      <td>8</td>\n",
       "      <td>0.446727</td>\n",
       "      <td>0.446536</td>\n",
       "      <td>0.431177</td>\n",
       "      <td>0.440824</td>\n",
       "      <td>0.436282</td>\n",
       "      <td>0.440309</td>\n",
       "      <td>0.005997</td>\n",
       "    </tr>\n",
       "  </tbody>\n",
       "</table>\n",
       "</div>"
      ],
      "text/plain": [
       "   mean_fit_time  std_fit_time  mean_score_time  std_score_time  \\\n",
       "0       0.253862      0.017984         0.021609        0.005340   \n",
       "1       0.252292      0.010045         0.019723        0.002614   \n",
       "2       0.264624      0.031879         0.026557        0.004980   \n",
       "3       0.250101      0.005668         0.020173        0.003407   \n",
       "4       0.240389      0.011399         0.019063        0.002104   \n",
       "\n",
       "  param_clf__alpha                                 params  \\\n",
       "0            0.001                  {'clf__alpha': 0.001}   \n",
       "1       0.00263665  {'clf__alpha': 0.0026366508987303583}   \n",
       "2       0.00695193  {'clf__alpha': 0.0069519279617756054}   \n",
       "3        0.0183298   {'clf__alpha': 0.018329807108324356}   \n",
       "4        0.0483293    {'clf__alpha': 0.04832930238571752}   \n",
       "\n",
       "   split0_test_roc_auc  split1_test_roc_auc  split2_test_roc_auc  \\\n",
       "0             0.707305             0.723732             0.799340   \n",
       "1             0.707305             0.723732             0.799340   \n",
       "2             0.707305             0.723732             0.799340   \n",
       "3             0.707305             0.723732             0.799340   \n",
       "4             0.707305             0.723732             0.799335   \n",
       "\n",
       "   split3_test_roc_auc  split4_test_roc_auc  mean_test_roc_auc  \\\n",
       "0             0.719697             0.759883           0.741991   \n",
       "1             0.719697             0.759883           0.741991   \n",
       "2             0.719697             0.759883           0.741991   \n",
       "3             0.719697             0.759883           0.741991   \n",
       "4             0.719697             0.759883           0.741990   \n",
       "\n",
       "   std_test_roc_auc  rank_test_roc_auc  split0_train_roc_auc  \\\n",
       "0          0.033593                 13              0.771533   \n",
       "1          0.033593                 13              0.771533   \n",
       "2          0.033593                 13              0.771533   \n",
       "3          0.033593                 13              0.771533   \n",
       "4          0.033592                 17              0.771533   \n",
       "\n",
       "   split1_train_roc_auc  split2_train_roc_auc  split3_train_roc_auc  \\\n",
       "0              0.771696              0.751149              0.770931   \n",
       "1              0.771696              0.751149              0.770931   \n",
       "2              0.771696              0.751148              0.770931   \n",
       "3              0.771696              0.751149              0.770931   \n",
       "4              0.771697              0.751149              0.770931   \n",
       "\n",
       "   split4_train_roc_auc  mean_train_roc_auc  std_train_roc_auc  \\\n",
       "0              0.760779            0.765218            0.00815   \n",
       "1              0.760779            0.765218            0.00815   \n",
       "2              0.760779            0.765217            0.00815   \n",
       "3              0.760778            0.765217            0.00815   \n",
       "4              0.760778            0.765218            0.00815   \n",
       "\n",
       "   split0_test_custom_scorer  split1_test_custom_scorer  \\\n",
       "0                   0.265625                     0.2825   \n",
       "1                   0.265625                     0.2825   \n",
       "2                   0.265625                     0.2825   \n",
       "3                   0.265625                     0.2825   \n",
       "4                   0.265625                     0.2825   \n",
       "\n",
       "   split2_test_custom_scorer  split3_test_custom_scorer  \\\n",
       "0                   0.331875                    0.29125   \n",
       "1                   0.331875                    0.29125   \n",
       "2                   0.331875                    0.29125   \n",
       "3                   0.331875                    0.29125   \n",
       "4                   0.331875                    0.29125   \n",
       "\n",
       "   split4_test_custom_scorer  mean_test_custom_scorer  std_test_custom_scorer  \\\n",
       "0                    0.30125                   0.2945                0.022049   \n",
       "1                    0.30125                   0.2945                0.022049   \n",
       "2                    0.30125                   0.2945                0.022049   \n",
       "3                    0.30125                   0.2945                0.022049   \n",
       "4                    0.30125                   0.2945                0.022049   \n",
       "\n",
       "   rank_test_custom_scorer  split0_train_custom_scorer  \\\n",
       "0                        6                    0.314688   \n",
       "1                        6                    0.314688   \n",
       "2                        6                    0.314688   \n",
       "3                        6                    0.314688   \n",
       "4                        6                    0.314688   \n",
       "\n",
       "   split1_train_custom_scorer  split2_train_custom_scorer  \\\n",
       "0                       0.325                    0.296563   \n",
       "1                       0.325                    0.296563   \n",
       "2                       0.325                    0.296563   \n",
       "3                       0.325                    0.296563   \n",
       "4                       0.325                    0.296563   \n",
       "\n",
       "   split3_train_custom_scorer  split4_train_custom_scorer  \\\n",
       "0                    0.314375                    0.303594   \n",
       "1                    0.314375                    0.303594   \n",
       "2                    0.314375                    0.303594   \n",
       "3                    0.314375                    0.303594   \n",
       "4                    0.314375                    0.303594   \n",
       "\n",
       "   mean_train_custom_scorer  std_train_custom_scorer  split0_test_f2_scorer  \\\n",
       "0                  0.310844                  0.00984                0.39114   \n",
       "1                  0.310844                  0.00984                0.39114   \n",
       "2                  0.310844                  0.00984                0.39114   \n",
       "3                  0.310844                  0.00984                0.39114   \n",
       "4                  0.310844                  0.00984                0.39114   \n",
       "\n",
       "   split1_test_f2_scorer  split2_test_f2_scorer  split3_test_f2_scorer  \\\n",
       "0               0.392344               0.473231               0.387973   \n",
       "1               0.392344               0.473231               0.387973   \n",
       "2               0.392344               0.473231               0.387973   \n",
       "3               0.392344               0.473231               0.387973   \n",
       "4               0.392344               0.473231               0.387973   \n",
       "\n",
       "   split4_test_f2_scorer  mean_test_f2_scorer  std_test_f2_scorer  \\\n",
       "0                0.42186              0.41331            0.032363   \n",
       "1                0.42186              0.41331            0.032363   \n",
       "2                0.42186              0.41331            0.032363   \n",
       "3                0.42186              0.41331            0.032363   \n",
       "4                0.42186              0.41331            0.032363   \n",
       "\n",
       "   rank_test_f2_scorer  split0_train_f2_scorer  split1_train_f2_scorer  \\\n",
       "0                    8                0.446727                0.446536   \n",
       "1                    8                0.446727                0.446536   \n",
       "2                    8                0.446727                0.446536   \n",
       "3                    8                0.446727                0.446536   \n",
       "4                    8                0.446727                0.446536   \n",
       "\n",
       "   split2_train_f2_scorer  split3_train_f2_scorer  split4_train_f2_scorer  \\\n",
       "0                0.431177                0.440824                0.436282   \n",
       "1                0.431177                0.440824                0.436282   \n",
       "2                0.431177                0.440824                0.436282   \n",
       "3                0.431177                0.440824                0.436282   \n",
       "4                0.431177                0.440824                0.436282   \n",
       "\n",
       "   mean_train_f2_scorer  std_train_f2_scorer  \n",
       "0              0.440309             0.005997  \n",
       "1              0.440309             0.005997  \n",
       "2              0.440309             0.005997  \n",
       "3              0.440309             0.005997  \n",
       "4              0.440309             0.005997  "
      ]
     },
     "execution_count": 41,
     "metadata": {},
     "output_type": "execute_result"
    }
   ],
   "source": [
    "# Test\n",
    "from sklearn.model_selection import GridSearchCV\n",
    "from sklearn.linear_model import RidgeClassifier\n",
    "\n",
    "param_grid = {\n",
    "    # 'fit_intercept': [True, False],\n",
    "    # 'clf__class_weight': [None, 'balanced'],\n",
    "    'clf__alpha': np.logspace(-3, 5, 20)\n",
    "},\n",
    "\n",
    "gs = GridSearchCV(test_model,\n",
    "                  param_grid=param_grid,\n",
    "                  return_train_score=True,\n",
    "                  scoring=CV_SCORERS,\n",
    "                  refit='roc_auc')\n",
    "\n",
    "\n",
    "gs.fit(x_train_prep, y_train)\n",
    "gs.score(x_test_prep, y_test)\n",
    "cv = pd.DataFrame.from_dict(gs.cv_results_)\n",
    "cv.head()\n"
   ]
  },
  {
   "cell_type": "code",
   "execution_count": 42,
   "metadata": {},
   "outputs": [
    {
     "name": "stdout",
     "output_type": "stream",
     "text": [
      "\"RidgeClassifier_-_Validation_Curve_(paramètre_-_clf__alpha).png\"\n"
     ]
    },
    {
     "data": {
      "image/png": "[encoded data removed]",
      "text/plain": [
       "<Figure size 432x288 with 1 Axes>"
      ]
     },
     "metadata": {},
     "output_type": "display_data"
    }
   ],
   "source": [
    "# plot_best_param_scores(gs, param='alpha', score='roc_auc', model_name='RidgeClassifier')\n",
    "plot_best_param_scores(\n",
    "    gs, param='clf__alpha', score='custom_scorer', model_name='RidgeClassifier')\n"
   ]
  },
  {
   "cell_type": "markdown",
   "metadata": {},
   "source": [
    "## Feature sélection\n",
    "\n",
    "Les performances des modèles ne peuvent pas être comparés basés sur toutes les features, car un modèle utilisant tous les features risque de faire d'overfit, ou ils auront de la variance ajoutée par des features qui n'ont aucun pouvoir prédictif (du 'bruit')\n",
    "\n",
    "- Filter mèthodes\n",
    "- Embedded mèthodes\n",
    "- Wrapper mèthodes"
   ]
  },
  {
   "cell_type": "markdown",
   "metadata": {},
   "source": [
    "### Filter, Embedded et Wrapper Feature Selection\n",
    "\n",
    "Il faut donc appliquer une feature selection **avant**, **pendant** ou **pos entrainement** de chaque modèle pour arriver au _**meilleur modèle**_ pour chaque Classifier :\n",
    "\n",
    "- Pour toutes les modèles, on peut utiliser:\n",
    "- un 'Filter': par exemple `KBest` Features\n",
    "- Pour Ridge et LogisticRegression, le feature sélection est 'Embedded' penalty : L1 ou L2 regularisation\n",
    "- Pour SVC, on peut utiliser 'Wrapper' Recursive Feature Elimination\n",
    "- Les méthodes ensemblistes (RandomForest, LGBM) utilisent 'Embedded' feature importance selection\n",
    "  "
   ]
  },
  {
   "cell_type": "markdown",
   "metadata": {},
   "source": [
    "Pour n'alourdir pas ce notebook, des tests de feature selection pré-entrainement on été ajoutés au notebook de nettoyage"
   ]
  },
  {
   "cell_type": "code",
   "execution_count": 43,
   "metadata": {},
   "outputs": [],
   "source": [
    "from sklearn.feature_selection import SelectKBest, f_classif, mutual_info_classif, chi2\n",
    "\n",
    "\n",
    "def select_k_best_features(x_, y_, k=5, score_func=mutual_info_classif):\n",
    "    # sel_=SelectKBest(mutual_info_regression,k=k)\n",
    "    np.seterr(divide='ignore', invalid='ignore')\n",
    "    sel_ = SelectKBest(score_func=score_func, k=k)\n",
    "    sel_.fit(x_, y_)\n",
    "    np.seterr(divide='warn', invalid='warn')\n",
    "    return x_[x_.columns[sel_.get_support()]]"
   ]
  },
  {
   "cell_type": "code",
   "execution_count": 44,
   "metadata": {},
   "outputs": [
    {
     "name": "stdout",
     "output_type": "stream",
     "text": [
      "(14676, 83)\n",
      "(10000, 83)\n",
      "\n",
      "Best 10 features basé sur mutual info classification : \n",
      "['EXT_SOURCE_3', 'PREV_NAME_CONTRACT_STATUS_Approved_MEAN', 'PREV_CNT_PAYMENT_MEAN', 'PAYMENT_RATE', 'BURO_CREDIT_ACTIVE_Closed_MEAN', 'AMT_GOODS_PRICE', 'REGION_POPULATION_RELATIVE', 'PREV_APP_CREDIT_PERC_MEAN', 'POS_MONTHS_BALANCE_SIZE', 'APPROVED_CNT_PAYMENT_SUM']\n",
      "Mutual Info Classification - done in 5s\n",
      "\n",
      "Best 10 features basé sur classifications individuelle : \n",
      "['EXT_SOURCE_3', 'EXT_SOURCE_2', 'EXT_SOURCE_1', 'DAYS_BIRTH', 'PREV_CODE_REJECT_REASON_XAP_MEAN', 'NAME_INCOME_TYPE_Working', 'NAME_EDUCATION_TYPE_Secondary_secondary_special', 'NAME_EDUCATION_TYPE_Higher_education', 'FLAG_DOCUMENT_3', 'EMERGENCYSTATE_MODE_No']\n",
      "F_Classification - done in 0s\n",
      "\n",
      "Best 10 features basé sur chi2 individuelle : \n",
      "['EXT_SOURCE_2', 'WALLSMATERIAL_MODE_Panel', 'PREV_NAME_PRODUCT_TYPE_walkin_MEAN', 'OCCUPATION_TYPE_Laborers', 'NAME_INCOME_TYPE_Working', 'NAME_EDUCATION_TYPE_Higher_education', 'NAME_CONTRACT_TYPE_Revolving_loans', 'FLAG_DOCUMENT_3', 'EMERGENCYSTATE_MODE_No', 'REG_CITY_NOT_WORK_CITY']\n",
      "Chi2 Classification - done in 0s\n"
     ]
    }
   ],
   "source": [
    "x_sample,y_sample=sample_data(x_train_smote,y_train_smote, nb=10000)\n",
    "print(x_train_smote.shape)\n",
    "print(x_sample.shape)\n",
    "# make non_negative for chi2\n",
    "x_sample=fit_transform_df(x_sample,MinMaxScaler())\n",
    "\n",
    "nb = 10\n",
    "# display features\n",
    "with timer('Mutual Info Classification'):\n",
    "      print(f'\\nBest {nb} features basé sur mutual info classification : ')\n",
    "      print(select_k_best_features(x_sample, y_sample, k=nb,\n",
    "            score_func=mutual_info_classif).columns.tolist())\n",
    "\n",
    "with timer('F_Classification'):\n",
    "      print(f'\\nBest {nb} features basé sur classifications individuelle : ')\n",
    "      print(select_k_best_features(x_sample, y_sample,\n",
    "            k=nb, score_func=f_classif).columns.tolist())\n",
    "\n",
    "with timer('Chi2 Classification'):            \n",
    "      print(f'\\nBest {nb} features basé sur chi2 individuelle : ')\n",
    "      print(select_k_best_features(x_sample, y_sample,\n",
    "      k=nb, score_func=chi2).columns.tolist())"
   ]
  },
  {
   "cell_type": "markdown",
   "metadata": {},
   "source": [
    "On voit que la fonction utilisée par KBest change la sélection de features\n",
    "\n",
    "- mutual_info_regression utilise KNN_regressor (non-lineaire)\n",
    "- f_regression utilise LinearRegression"
   ]
  },
  {
   "cell_type": "markdown",
   "metadata": {},
   "source": [
    "### Plot mutual information\n"
   ]
  },
  {
   "cell_type": "code",
   "execution_count": 45,
   "metadata": {},
   "outputs": [],
   "source": [
    "from sklearn.feature_selection import mutual_info_classif\n",
    "\n",
    "\n",
    "def plot_mutual_information(x_, y_,sample_size=10000):\n",
    "    \"\"\"Plot mutual information, requires no missing values\"\"\"\n",
    "    # mutual_info_classif peut prend beaucoup de temps \n",
    "    # pour des grands quantités de données\n",
    "    nb=min(sample_size, len(x_))\n",
    "    x_,y_=sample_data(x_,y_)\n",
    "    mi = pd.DataFrame(\n",
    "        {'mutual information': mutual_info_classif(x_, y_)},\n",
    "        index=x_.columns)\n",
    "    nb = min(len(mi), 20)\n",
    "    mi = mi.sort_values(by='mutual information', ascending=False).head(nb)\n",
    "    sns.barplot(x=mi['mutual information'], y=mi.index)\n",
    "    sns.despine()\n",
    "    plt.grid(axis='x')\n"
   ]
  },
  {
   "cell_type": "code",
   "execution_count": 46,
   "metadata": {},
   "outputs": [
    {
     "name": "stdout",
     "output_type": "stream",
     "text": [
      "Mutual Information - done in 1s\n",
      "\"mutual_info_classification,_x_resampled_vs-_TARGET.png\"\n"
     ]
    },
    {
     "data": {
      "image/png": "[encoded data removed]",
      "text/plain": [
       "<Figure size 432x288 with 1 Axes>"
      ]
     },
     "metadata": {},
     "output_type": "display_data"
    }
   ],
   "source": [
    "with timer('Mutual Information'):\n",
    "    plot_mutual_information(x_sample, y_sample)\n",
    "plt.suptitle(f'mutual info classification, x_resampled vs. TARGET')\n",
    "to_png()\n",
    "plt.show()\n"
   ]
  },
  {
   "cell_type": "markdown",
   "metadata": {},
   "source": [
    "### Influence d'ajouter des features pour chaque model candidat\n",
    "\n",
    "- Dans un premier temps, on essayer de determiner l'effet additif des nouveaux variables sur le score du model"
   ]
  },
  {
   "cell_type": "code",
   "execution_count": 47,
   "metadata": {},
   "outputs": [],
   "source": [
    "\n",
    "from sklearn.model_selection import cross_val_score\n",
    "\n",
    "\n",
    "def plot_k_best(model_, x_, y_, kmax=10, scoring_='roc_auc',\n",
    "                kbest_score_func=mutual_info_classif, error_bars=True, show_features=True):\n",
    "    \"\"\"Plot la meilleure features pour un modèle donné, basé sur 10 cross_validations\"\"\"\n",
    "    kmax = min(x_.shape[1], kmax)\n",
    "    k_range = range(1, kmax+1)\n",
    "    scores = pd.DataFrame([], columns={'k', 'col', 'score_mean', 'score_std'})\n",
    "    cols = []\n",
    "    for k in k_range:\n",
    "        x_best = select_k_best_features(x_, y_, k)\n",
    "        new_cols = set(x_best.columns)-set(cols)\n",
    "        # print(f'k={k}, new cols = {new_cols}')\n",
    "        for col in new_cols:\n",
    "            cols.append(col)\n",
    "        cv_scores = cross_val_score(\n",
    "            model_, x_best, y_, cv=10, scoring=scoring_, error_score=0)\n",
    "        score_mean = cv_scores.mean()\n",
    "        score_std = cv_scores.std()\n",
    "        if scoring_ == 'r2':\n",
    "            score_mean *= 100\n",
    "            score_std *= 100\n",
    "        # elif scoring_.startswith('neg_'):\n",
    "        #     score_mean *= -1\n",
    "        scores = scores.append({'k': k, 'col': ','.join(\n",
    "            new_cols), 'score_mean': score_mean, 'score_std': score_std}, ignore_index=True)\n",
    "\n",
    "    if show_features:\n",
    "        sns.scatterplot(data=scores, x='k', y='score_mean', hue='col', alpha=1)\n",
    "        plt.legend(title='variable ajoutée',\n",
    "                   bbox_to_anchor=(1.1, 0.5), loc=\"center left\")\n",
    "    elif error_bars:\n",
    "        plt.errorbar(data=scores, x='k', y='score_mean', yerr='score_std')\n",
    "    else:\n",
    "        sns.scatterplot(data=scores, x='k', y='score_mean')\n",
    "\n",
    "    if scoring_ == 'r2':\n",
    "        plt.ylabel(\"r2 score (% variance explained)\")\n",
    "    # elif scoring_.startswith('neg_'):\n",
    "    #     plt.ylabel(f'score ({scoring_[4:]})')\n",
    "    else:\n",
    "        plt.ylabel(f'score ({scoring_})')\n",
    "\n",
    "    plt.title(\"Performance du modèle en fonction de nombre de variables\")\n",
    "    plt.xlabel(\"nombre de variables sélectionnées (k)\")\n",
    "    sns.despine()\n",
    "    return scores"
   ]
  },
  {
   "cell_type": "code",
   "execution_count": 48,
   "metadata": {},
   "outputs": [],
   "source": [
    "def plot_kbest_adaboost():\n",
    "    from sklearn.ensemble import AdaBoostClassifier\n",
    "    with timer('AdaBoost - KBest(f_classif)'):\n",
    "        # quelque minutes\n",
    "        x_sample, y_sample=sample_data(x_train_prep,y_train, nb=10000)\n",
    "        cols = plot_k_best(AdaBoostClassifier(), x_sample,\n",
    "                        y_sample, scoring_='roc_auc', kbest_score_func=f_classif)\n",
    "    print(cols[:5])\n",
    "    plt.suptitle('AdaBoost - KBest(f_classif), scoring = roc_auc')\n",
    "    to_png()\n",
    "\n",
    "# plot_kbest_adaboost()"
   ]
  },
  {
   "cell_type": "code",
   "execution_count": 49,
   "metadata": {},
   "outputs": [
    {
     "name": "stdout",
     "output_type": "stream",
     "text": [
      "Ridge - KBest(f_classif) - done in 27s\n",
      "   k  score_std  score_mean                                               col\n",
      "0  1   0.041659    0.530831                                      PAYMENT_RATE\n",
      "1  2   0.021086    0.651089                                      EXT_SOURCE_3\n",
      "2  3   0.026829    0.709445                                      EXT_SOURCE_2\n",
      "3  4   0.027894    0.722404                                      EXT_SOURCE_1\n",
      "4  5   0.025612    0.715973  AMT_ANNUITY,NAME_EDUCATION_TYPE_Higher_education\n",
      "\"RidgeClassifier_-_KBest(f_classif),_scoring_=_roc_auc.png\"\n"
     ]
    },
    {
     "data": {
      "image/png": "[encoded data removed]",
      "text/plain": [
       "<Figure size 432x288 with 1 Axes>"
      ]
     },
     "metadata": {},
     "output_type": "display_data"
    }
   ],
   "source": [
    "def plot_kbest_ridge():\n",
    "    from sklearn.linear_model import RidgeClassifier\n",
    "    with timer('Ridge - KBest(f_classif)'):\n",
    "        # quelque minutes\n",
    "        x_sample, y_sample=sample_data(x_train_prep,y_train, nb=10000)\n",
    "        cols = plot_k_best(RidgeClassifier(), x_sample,\n",
    "                        y_sample, scoring_='roc_auc',kmax=7, kbest_score_func=f_classif)\n",
    "    print(cols[:5])\n",
    "    plt.suptitle('RidgeClassifier - KBest(f_classif), scoring = roc_auc')\n",
    "    to_png()\n",
    "\n",
    "plot_kbest_ridge()"
   ]
  },
  {
   "cell_type": "code",
   "execution_count": 53,
   "metadata": {},
   "outputs": [
    {
     "name": "stdout",
     "output_type": "stream",
     "text": [
      "Ridge - KBest(f_classif) - done in 25s\n",
      "   k  score_std  score_mean                               col\n",
      "0  1      0.002       0.669                      PAYMENT_RATE\n",
      "1  2      0.002       0.669                      EXT_SOURCE_3\n",
      "2  3      0.002       0.669                      EXT_SOURCE_2\n",
      "3  4      0.002       0.669  PREV_CODE_REJECT_REASON_XAP_MEAN\n",
      "4  5      0.002       0.669      AMT_GOODS_PRICE,EXT_SOURCE_1\n",
      "\"RidgeClassifier_-_KBest(f_classif),_scoring_=_custom_scorer.png\"\n"
     ]
    },
    {
     "data": {
      "image/png": "[encoded data removed]",
      "text/plain": [
       "<Figure size 576x396 with 1 Axes>"
      ]
     },
     "metadata": {},
     "output_type": "display_data"
    }
   ],
   "source": [
    "def plot_kbest_ridge2():\n",
    "    from sklearn.linear_model import RidgeClassifier\n",
    "    with timer('Ridge - KBest(f_classif)'):\n",
    "        # quelque minutes\n",
    "        x_sample, y_sample=sample_data(x_train_prep,y_train, nb=10000)\n",
    "        x_sample=fit_transform_df(x_sample,MinMaxScaler())\n",
    "        cols = plot_k_best(RidgeClassifier(), x_sample,y_sample,\n",
    "                         scoring_=metrics.make_scorer(custom_credit_score),\n",
    "                        kmax=7, kbest_score_func=f_classif)\n",
    "    print(cols[:5])\n",
    "    plt.suptitle('RidgeClassifier - KBest(f_classif), scoring = custom_scorer')\n",
    "    to_png()\n",
    "\n",
    "plot_kbest_ridge2()"
   ]
  },
  {
   "cell_type": "markdown",
   "metadata": {},
   "source": [
    "Sans optimisation des hyperparamètres, on voit que 4 ou 5 variables domine la performance des modeles (ROC_AUC)"
   ]
  },
  {
   "cell_type": "markdown",
   "metadata": {},
   "source": [
    "## Visualisations"
   ]
  },
  {
   "cell_type": "markdown",
   "metadata": {},
   "source": [
    "### AUC (Area Under the Curve)\n",
    "\n",
    "Comme pour clustering, la bibliothèque Yellowbrick contient des visualisations de ROC AUC curves"
   ]
  },
  {
   "cell_type": "code",
   "execution_count": 51,
   "metadata": {},
   "outputs": [
    {
     "data": {
      "image/png": "[encoded data removed]",
      "text/plain": [
       "<Figure size 576x396 with 1 Axes>"
      ]
     },
     "metadata": {},
     "output_type": "display_data"
    },
    {
     "data": {
      "text/plain": [
       "<AxesSubplot:title={'center':'ROC Curves for RidgeClassifier'}, xlabel='False Positive Rate', ylabel='True Positive Rate'>"
      ]
     },
     "execution_count": 51,
     "metadata": {},
     "output_type": "execute_result"
    }
   ],
   "source": [
    "from sklearn.linear_model import RidgeClassifier\n",
    "model = RidgeClassifier()\n",
    "from yellowbrick.classifier import ROCAUC\n",
    "visualizer = ROCAUC(model, classes=['loan repaid', 'bad loan'], binary=True)\n",
    "\n",
    "visualizer.fit(x_train_smote, y_train_smote)        # Fit the training data to the visualizer\n",
    "visualizer.score(x_test_prep, y_test)        # Evaluate the model on the test data\n",
    "visualizer.show()   "
   ]
  },
  {
   "cell_type": "code",
   "execution_count": 52,
   "metadata": {},
   "outputs": [
    {
     "data": {
      "image/png": "[encoded data removed]",
      "text/plain": [
       "<Figure size 576x396 with 1 Axes>"
      ]
     },
     "metadata": {},
     "output_type": "display_data"
    },
    {
     "data": {
      "text/html": [
       "<style>#sk-434edc7b-3d76-4cd5-a413-b88f8fd07d14 {color: black;background-color: white;}#sk-434edc7b-3d76-4cd5-a413-b88f8fd07d14 pre{padding: 0;}#sk-434edc7b-3d76-4cd5-a413-b88f8fd07d14 div.sk-toggleable {background-color: white;}#sk-434edc7b-3d76-4cd5-a413-b88f8fd07d14 label.sk-toggleable__label {cursor: pointer;display: block;width: 100%;margin-bottom: 0;padding: 0.3em;box-sizing: border-box;text-align: center;}#sk-434edc7b-3d76-4cd5-a413-b88f8fd07d14 label.sk-toggleable__label-arrow:before {content: \"▸\";float: left;margin-right: 0.25em;color: #696969;}#sk-434edc7b-3d76-4cd5-a413-b88f8fd07d14 label.sk-toggleable__label-arrow:hover:before {color: black;}#sk-434edc7b-3d76-4cd5-a413-b88f8fd07d14 div.sk-estimator:hover label.sk-toggleable__label-arrow:before {color: black;}#sk-434edc7b-3d76-4cd5-a413-b88f8fd07d14 div.sk-toggleable__content {max-height: 0;max-width: 0;overflow: hidden;text-align: left;background-color: #f0f8ff;}#sk-434edc7b-3d76-4cd5-a413-b88f8fd07d14 div.sk-toggleable__content pre {margin: 0.2em;color: black;border-radius: 0.25em;background-color: #f0f8ff;}#sk-434edc7b-3d76-4cd5-a413-b88f8fd07d14 input.sk-toggleable__control:checked~div.sk-toggleable__content {max-height: 200px;max-width: 100%;overflow: auto;}#sk-434edc7b-3d76-4cd5-a413-b88f8fd07d14 input.sk-toggleable__control:checked~label.sk-toggleable__label-arrow:before {content: \"▾\";}#sk-434edc7b-3d76-4cd5-a413-b88f8fd07d14 div.sk-estimator input.sk-toggleable__control:checked~label.sk-toggleable__label {background-color: #d4ebff;}#sk-434edc7b-3d76-4cd5-a413-b88f8fd07d14 div.sk-label input.sk-toggleable__control:checked~label.sk-toggleable__label {background-color: #d4ebff;}#sk-434edc7b-3d76-4cd5-a413-b88f8fd07d14 input.sk-hidden--visually {border: 0;clip: rect(1px 1px 1px 1px);clip: rect(1px, 1px, 1px, 1px);height: 1px;margin: -1px;overflow: hidden;padding: 0;position: absolute;width: 1px;}#sk-434edc7b-3d76-4cd5-a413-b88f8fd07d14 div.sk-estimator {font-family: monospace;background-color: #f0f8ff;border: 1px dotted black;border-radius: 0.25em;box-sizing: border-box;margin-bottom: 0.5em;}#sk-434edc7b-3d76-4cd5-a413-b88f8fd07d14 div.sk-estimator:hover {background-color: #d4ebff;}#sk-434edc7b-3d76-4cd5-a413-b88f8fd07d14 div.sk-parallel-item::after {content: \"\";width: 100%;border-bottom: 1px solid gray;flex-grow: 1;}#sk-434edc7b-3d76-4cd5-a413-b88f8fd07d14 div.sk-label:hover label.sk-toggleable__label {background-color: #d4ebff;}#sk-434edc7b-3d76-4cd5-a413-b88f8fd07d14 div.sk-serial::before {content: \"\";position: absolute;border-left: 1px solid gray;box-sizing: border-box;top: 2em;bottom: 0;left: 50%;}#sk-434edc7b-3d76-4cd5-a413-b88f8fd07d14 div.sk-serial {display: flex;flex-direction: column;align-items: center;background-color: white;padding-right: 0.2em;padding-left: 0.2em;}#sk-434edc7b-3d76-4cd5-a413-b88f8fd07d14 div.sk-item {z-index: 1;}#sk-434edc7b-3d76-4cd5-a413-b88f8fd07d14 div.sk-parallel {display: flex;align-items: stretch;justify-content: center;background-color: white;}#sk-434edc7b-3d76-4cd5-a413-b88f8fd07d14 div.sk-parallel::before {content: \"\";position: absolute;border-left: 1px solid gray;box-sizing: border-box;top: 2em;bottom: 0;left: 50%;}#sk-434edc7b-3d76-4cd5-a413-b88f8fd07d14 div.sk-parallel-item {display: flex;flex-direction: column;position: relative;background-color: white;}#sk-434edc7b-3d76-4cd5-a413-b88f8fd07d14 div.sk-parallel-item:first-child::after {align-self: flex-end;width: 50%;}#sk-434edc7b-3d76-4cd5-a413-b88f8fd07d14 div.sk-parallel-item:last-child::after {align-self: flex-start;width: 50%;}#sk-434edc7b-3d76-4cd5-a413-b88f8fd07d14 div.sk-parallel-item:only-child::after {width: 0;}#sk-434edc7b-3d76-4cd5-a413-b88f8fd07d14 div.sk-dashed-wrapped {border: 1px dashed gray;margin: 0 0.4em 0.5em 0.4em;box-sizing: border-box;padding-bottom: 0.4em;background-color: white;position: relative;}#sk-434edc7b-3d76-4cd5-a413-b88f8fd07d14 div.sk-label label {font-family: monospace;font-weight: bold;background-color: white;display: inline-block;line-height: 1.2em;}#sk-434edc7b-3d76-4cd5-a413-b88f8fd07d14 div.sk-label-container {position: relative;z-index: 2;text-align: center;}#sk-434edc7b-3d76-4cd5-a413-b88f8fd07d14 div.sk-container {/* jupyter's `normalize.less` sets `[hidden] { display: none; }` but bootstrap.min.css set `[hidden] { display: none !important; }` so we also need the `!important` here to be able to override the default hidden behavior on the sphinx rendered scikit-learn.org. See: https://github.com/scikit-learn/scikit-learn/issues/21755 */display: inline-block !important;position: relative;}#sk-434edc7b-3d76-4cd5-a413-b88f8fd07d14 div.sk-text-repr-fallback {display: none;}</style><div id=\"sk-434edc7b-3d76-4cd5-a413-b88f8fd07d14\" class=\"sk-top-container\"><div class=\"sk-text-repr-fallback\"><pre>ROCAUC(ax=&lt;AxesSubplot:title={&#x27;center&#x27;:&#x27;ROC Curves for RidgeClassifier&#x27;}, xlabel=&#x27;False Positive Rate&#x27;, ylabel=&#x27;True Positive Rate&#x27;&gt;,\n",
       "       binary=True, estimator=RidgeClassifier(), macro=False, micro=False,\n",
       "       per_class=False)</pre><b>Please rerun this cell to show the HTML repr or trust the notebook.</b></div><div class=\"sk-container\" hidden><div class=\"sk-item sk-dashed-wrapped\"><div class=\"sk-label-container\"><div class=\"sk-label sk-toggleable\"><input class=\"sk-toggleable__control sk-hidden--visually\" id=\"00f5422f-7ec9-4008-bec3-83b27ad3fd95\" type=\"checkbox\" ><label for=\"00f5422f-7ec9-4008-bec3-83b27ad3fd95\" class=\"sk-toggleable__label sk-toggleable__label-arrow\">ROCAUC</label><div class=\"sk-toggleable__content\"><pre>ROCAUC(ax=&lt;AxesSubplot:title={&#x27;center&#x27;:&#x27;ROC Curves for RidgeClassifier&#x27;}, xlabel=&#x27;False Positive Rate&#x27;, ylabel=&#x27;True Positive Rate&#x27;&gt;,\n",
       "       binary=True, estimator=RidgeClassifier(), macro=False, micro=False,\n",
       "       per_class=False)</pre></div></div></div><div class=\"sk-parallel\"><div class=\"sk-parallel-item\"><div class=\"sk-item\"><div class=\"sk-serial\"><div class=\"sk-item\"><div class=\"sk-estimator sk-toggleable\"><input class=\"sk-toggleable__control sk-hidden--visually\" id=\"b2b3d950-8dd4-4add-87b4-f2bb4e926496\" type=\"checkbox\" ><label for=\"b2b3d950-8dd4-4add-87b4-f2bb4e926496\" class=\"sk-toggleable__label sk-toggleable__label-arrow\">RidgeClassifier</label><div class=\"sk-toggleable__content\"><pre>RidgeClassifier()</pre></div></div></div></div></div></div></div></div></div></div>"
      ],
      "text/plain": [
       "ROCAUC(ax=<AxesSubplot:title={'center':'ROC Curves for RidgeClassifier'}, xlabel='False Positive Rate', ylabel='True Positive Rate'>,\n",
       "       binary=True, estimator=RidgeClassifier(), macro=False, micro=False,\n",
       "       per_class=False)"
      ]
     },
     "execution_count": 52,
     "metadata": {},
     "output_type": "execute_result"
    }
   ],
   "source": [
    "from yellowbrick.classifier.rocauc import roc_auc\n",
    "\n",
    "# Instantiate the visualizer with the classification model\n",
    "model = RidgeClassifier()\n",
    "roc_auc(model, X_train=x_train_prep, y_train=y_train, X_test=x_test_prep, y_test=y_test, binary=True)"
   ]
  },
  {
   "cell_type": "markdown",
   "metadata": {},
   "source": [
    "Yellowbrick visualizer a 2 incovenients\n",
    "- il n'accepte pas des pipelines de sampling /preprocessing / feature selection\n",
    "- il faut faire le fit via Yellowbrick (on ne peut pas envoyer les données)"
   ]
  },
  {
   "cell_type": "code",
   "execution_count": null,
   "metadata": {},
   "outputs": [],
   "source": []
  }
 ],
 "metadata": {
  "interpreter": {
   "hash": "9f161018c5e2fdb25091822214a6434325c4d2222b4c3ef81019bf1117201605"
  },
  "kernelspec": {
   "display_name": "Python 3.7.0 ('OC_3')",
   "language": "python",
   "name": "python3"
  },
  "language_info": {
   "codemirror_mode": {
    "name": "ipython",
    "version": 3
   },
   "file_extension": ".py",
   "mimetype": "text/x-python",
   "name": "python",
   "nbconvert_exporter": "python",
   "pygments_lexer": "ipython3",
   "version": "3.7.0"
  },
  "orig_nbformat": 4
 },
 "nbformat": 4,
 "nbformat_minor": 2
}
