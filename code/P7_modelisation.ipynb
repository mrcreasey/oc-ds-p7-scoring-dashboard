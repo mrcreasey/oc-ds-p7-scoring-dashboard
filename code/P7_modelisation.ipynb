{
 "cells": [
  {
   "cell_type": "markdown",
   "metadata": {
    "id": "DFji9bO_eJMR"
   },
   "source": [
    "# Implémentez un modèle de scoring\n",
    "\n",
    "- **Projet 7 du parcours « Data Scientist » d’OpenClassrooms**\n",
    "- **Mark Creasey**\n",
    "\n",
    "## Étape 2 : Modélisation\n"
   ]
  },
  {
   "cell_type": "markdown",
   "metadata": {},
   "source": [
    "## 1.1 Compréhension du problème\n",
    "\n",
    "### 1.1.1 Problématique\n",
    "\n",
    "La société financière, nommée **\"Prêt à dépenser\"**, propose des crédits à la consommation pour des\n",
    "personnes ayant peu ou pas du tout d'historique de prêt.\n",
    "\n",
    "L’entreprise souhaite mettre en œuvre **un outil de “scoring crédit”** pour calculer la qu’un client\n",
    "rembourse son crédit, puis classifie la demande en crédit accordé ou refusé. Elle souhaite donc\n",
    "développer **un algorithme de classification** en s’appuyant sur des sources de données variées (données\n",
    "comportementales, données provenant d'autres institutions financières, etc.).\n",
    "\n",
    "### 1.1.2 Les données\n",
    "\n",
    "Voici [les données](https://www.kaggle.com/c/home-credit-default-risk/data) pour réaliser le\n",
    "dashboard. Pour plus de simplicité, vous pouvez les télécharger à\n",
    "[cette adresse](https://s3-eu-west-1.amazonaws.com/static.oc-static.com/prod/courses/files/Parcours_data_scientist/Projet+-+Impl%C3%A9menter+un+mod%C3%A8le+de+scoring/Projet+Mise+en+prod+-+home-credit-default-risk.zip).\n",
    "\n",
    "### 1.1.1 Mission\n",
    "\n",
    "- Sélectionner un kernel Kaggle pour faciliter la préparation des données nécessaires à l’élaboration du modèle de scoring.\n",
    "- Analyser ce kernel et l’adapter aux besoins de votre mission.\n",
    "\n",
    "Focalise sur :\n",
    "\n",
    "1. La construction d'un **modèle de scoring** qui donnera une prédiction sur la probabilité de faillite\n",
    "   d'un client de façon automatique.\n",
    "   - élaboration\n",
    "   - optimisation\n",
    "   - comprehension (interpretabilité)\n",
    "2. Construction d'un **dashboard interactif** qui montre avec transparence les décisions d’octroi de\n",
    "   crédit, à destination des gestionnaires de la relation client permettant d'interpréter les\n",
    "   prédictions faites par le modèle et d’améliorer la connaissance client des chargés de relation\n",
    "   client.\n"
   ]
  },
  {
   "cell_type": "markdown",
   "metadata": {
    "id": "wM6z7uUfebpT"
   },
   "source": [
    "## 1.2 Definition de l'environnement\n",
    "\n",
    "- `local` : Développement local (avec échantillon de 50 Mo de données)\n",
    "- `colab` : Google Colab\n",
    "- `kaggle` : Kaggle Kernel\n"
   ]
  },
  {
   "cell_type": "code",
   "execution_count": 1,
   "metadata": {
    "colab": {
     "base_uri": "https://localhost:8080/"
    },
    "id": "EMeZBFf2eTfz",
    "outputId": "2657b460-a736-4de6-de5f-1bf9ceb1ea36"
   },
   "outputs": [],
   "source": [
    "ENV = 'local'\n",
    "\n",
    "if ENV == 'local':\n",
    "    # local development\n",
    "    DATA_FOLDER = '../data/raw'\n",
    "    OUT_FOLDER = '../data/out'\n",
    "    IMAGE_FOLDER = '../images/modelisation'\n",
    "\n",
    "if ENV == 'colab':\n",
    "    # Colaboratory - uncomment les 2 lignes suivant pour connecter à votre drive\n",
    "    # from google.colab import drive\n",
    "    # drive.mount('/content/drive')\n",
    "    DATA_FOLDER = '/content/drive/MyDrive/data/OC7'\n",
    "    OUT_FOLDER = '/content/drive/MyDrive/data/OC7'\n",
    "    IMAGE_FOLDER = '/content/drive/MyDrive/images/OC7/modelisation'\n"
   ]
  },
  {
   "cell_type": "markdown",
   "metadata": {
    "id": "HvnInn3XfWQ2"
   },
   "source": [
    "## 1.3 Fichiers de données\n",
    "\n",
    "1. Les données en format CSV (>700Mb compactés) sont à télecharger de ce lien:\n",
    "\n",
    "- https://www.kaggle.com/c/home-credit-default-risk/data\n",
    "- Pour plus de simplicité, vous pouvez les télécharger à [cette adresse.](https://s3-eu-west-1.amazonaws.com/static.oc-static.com/prod/courses/files/Parcours_data_scientist/Projet+-+Impl%C3%A9menter+un+mod%C3%A8le+de+scoring/Projet+Mise+en+prod+-+home-credit-default-risk.zip)\n",
    "\n",
    "2.  Placer le fichier compacté (**.zip**) dans le **DATA_FOLDER** défini ci-dessous\n"
   ]
  },
  {
   "cell_type": "markdown",
   "metadata": {
    "id": "ELwbVYvAgSMU"
   },
   "source": [
    "### Noms des fichiers de données (identique pour nettoyage et l'analyse exploratoire)\n",
    "\n",
    "- Le grand fichier zip des données doit être placé dans `DATA_FOLDER` au préalable\n",
    "- Tous les autres fichiers de données sont téléchargés ou crées pendant le nettoyage, puis enregistrés dans `OUT_FOLDER`\n"
   ]
  },
  {
   "cell_type": "code",
   "execution_count": 2,
   "metadata": {
    "id": "F_iJnVSEfKma"
   },
   "outputs": [],
   "source": [
    "# Données (DATA_FOLDER)\n",
    "ZIPPED_DATA_FILENAME = f'Projet+Mise+en+prod+-+home-credit-default-risk.zip'\n",
    "RAW_DATA_FILENAME = 'HomeCredit_columns_description.csv'\n",
    "SAMPLE_DATA_FILENAME = 'HomeCredit_columns_description.csv'\n",
    "\n",
    "\n",
    "# Données nettoyés (OUT_FOLDER)\n",
    "CLEAN_DATA_FILENAME = 'cleaned_data_scoring.csv'\n",
    "CLEAN_DATA_SAMPLE = 'cleaned_data_sample.csv'  # 100,000 registres\n",
    "CLEAN_DATA_FEATURES = 'cleaned_data_features.csv'  # 100 meilleur features\n",
    "SAMPLE_SIZE = 10000\n"
   ]
  },
  {
   "cell_type": "markdown",
   "metadata": {
    "id": "aMFxPWtagxDT"
   },
   "source": [
    "## 1.4 Requirements: Bibliothèques utilisées dans ce notebook\n",
    "\n",
    "Ce notebook marche a été testé en developpement local, sur Google Colab et Kaggle\n",
    "\n",
    "```txt\n",
    "# copy dans un fichier requirements.txt, puis\n",
    "# !pip install -r requirements.txt\n",
    "```\n"
   ]
  },
  {
   "cell_type": "code",
   "execution_count": 3,
   "metadata": {
    "id": "pIP-XhqSgyC_"
   },
   "outputs": [],
   "source": [
    "# Decommentarise la ligne suivant si vous ne voulez pas changer vos versions existants\n",
    "# !pip install numpy pandas matplotlib seaborn scipy sklearn missingno requests\n"
   ]
  },
  {
   "cell_type": "code",
   "execution_count": 4,
   "metadata": {
    "colab": {
     "base_uri": "https://localhost:8080/"
    },
    "id": "kvsIMU0Ihglo",
    "outputId": "dee247f2-f59d-4167-c0fc-922e84b453fe"
   },
   "outputs": [
    {
     "name": "stdout",
     "output_type": "stream",
     "text": [
      "required modules: ['pandas', 'numpy', 'seaborn', 'matplotlib', 'sklearn']\n",
      "missing modules: []\n"
     ]
    }
   ],
   "source": [
    "# import local functions\n",
    "import outils_io\n",
    "outils_io.install_libraries({'numpy', 'pandas', 'matplotlib',\n",
    "                             'seaborn', 'sklearn'})\n"
   ]
  },
  {
   "cell_type": "markdown",
   "metadata": {
    "id": "s8kXrZGCg6h1"
   },
   "source": [
    "## 1.5 Import dependencies\n"
   ]
  },
  {
   "cell_type": "markdown",
   "metadata": {
    "id": "KPt54cG5g7Up"
   },
   "source": [
    "### 1.5.1 Import des bibliothèques utilisées par ce notebook\n"
   ]
  },
  {
   "cell_type": "code",
   "execution_count": 5,
   "metadata": {
    "id": "XtukhHGIg-Ag"
   },
   "outputs": [],
   "source": [
    "# suppress furture warnings de pandas 1.3.0\n",
    "from contextlib import contextmanager\n",
    "import time\n",
    "import gc\n",
    "import os\n",
    "import warnings\n",
    "import platform\n",
    "warnings.simplefilter(action='ignore', category=FutureWarning)\n"
   ]
  },
  {
   "cell_type": "code",
   "execution_count": 6,
   "metadata": {},
   "outputs": [],
   "source": [
    "import sklearn\n",
    "import seaborn as sns\n",
    "import pandas as pd\n",
    "import numpy as np\n",
    "import matplotlib.pyplot as plt\n",
    "\n",
    "# feature preprocessing\n",
    "from sklearn import impute\n",
    "from sklearn import preprocessing\n",
    "\n",
    "# feature et parameter selection\n",
    "from sklearn.model_selection import train_test_split"
   ]
  },
  {
   "cell_type": "markdown",
   "metadata": {
    "id": "FhE8BZ1ihG2I"
   },
   "source": [
    "### 1.5.2 Liste des versions des bibliothèques utilisées\n"
   ]
  },
  {
   "cell_type": "code",
   "execution_count": 7,
   "metadata": {
    "colab": {
     "base_uri": "https://localhost:8080/"
    },
    "id": "FJXh67-FhIwI",
    "outputId": "cf659d51-6099-46fb-c9fb-56d2067fe4a6"
   },
   "outputs": [
    {
     "name": "stdout",
     "output_type": "stream",
     "text": [
      "python version = 3.7.0\n",
      "versions des bibliothèques utilisées:\n",
      "platform==1.0.8; sklearn==1.0.2; seaborn==0.11.2; pandas==1.1.5; numpy==1.21.5\n"
     ]
    }
   ],
   "source": [
    "print(f'python version = {platform.python_version()}')\n",
    "print('versions des bibliothèques utilisées:')\n",
    "print('; '.join(f'{m.__name__}=={m.__version__}' for m in globals(\n",
    ").values() if getattr(m, '__version__', None)))\n"
   ]
  },
  {
   "cell_type": "markdown",
   "metadata": {
    "id": "5f04qBPghSsr"
   },
   "source": [
    "### 1.5.3 Configuration défauts d'affichage\n"
   ]
  },
  {
   "cell_type": "code",
   "execution_count": 8,
   "metadata": {
    "id": "mIoSzAqXhMEV"
   },
   "outputs": [],
   "source": [
    "pd.set_option('display.max_columns', 200)  # pour afficher toutes les colonnes\n",
    "pd.set_option('display.max_rows', 20)  # pour afficher max 20 lignes\n",
    "pd.set_option('display.max_colwidth', 800)\n",
    "\n",
    "%matplotlib inline\n",
    "sns.set_theme(style=\"white\", context=\"notebook\")\n",
    "sns.set_color_codes(\"pastel\")\n",
    "sns.set_palette(\"tab10\")\n",
    "\n",
    "from sklearn import set_config\n",
    "set_config(display='diagram')\n",
    "# displays HTML representation in a jupyter context"
   ]
  },
  {
   "cell_type": "markdown",
   "metadata": {},
   "source": [
    "### Bibliothèque personelle\n",
    "\n",
    "On utilise un nom non standard\n"
   ]
  },
  {
   "cell_type": "code",
   "execution_count": 9,
   "metadata": {},
   "outputs": [],
   "source": [
    "import outils_io, outils_preprocess, outils_stats, outils_timed, outils_vis\n",
    "\n",
    "# frequently used functions\n",
    "from outils_vis import to_png\n",
    "from outils_timed import timer\n"
   ]
  },
  {
   "cell_type": "markdown",
   "metadata": {},
   "source": [
    "### Configuration personelle\n"
   ]
  },
  {
   "cell_type": "code",
   "execution_count": 10,
   "metadata": {},
   "outputs": [],
   "source": [
    "\n",
    "# Enregistre parametres globals dans outils\n",
    "outils_vis.set_option('IMAGE_FOLDER', IMAGE_FOLDER)\n",
    "outils_vis.set_option('SAVE_IMAGES', True)\n",
    "\n",
    "if ENV != 'kaggle':\n",
    "    outils_io.os_make_dir(DATA_FOLDER)\n",
    "    outils_io.os_make_dir(OUT_FOLDER)\n",
    "\n",
    "outils_io.os_make_dir(IMAGE_FOLDER)\n"
   ]
  },
  {
   "cell_type": "markdown",
   "metadata": {},
   "source": [
    "# Import des données nettoyés\n"
   ]
  },
  {
   "cell_type": "code",
   "execution_count": 11,
   "metadata": {},
   "outputs": [
    {
     "name": "stdout",
     "output_type": "stream",
     "text": [
      "Load cleaned data - done in 0s\n"
     ]
    }
   ],
   "source": [
    "# Set SAMPLE=True for Rapid Development\n",
    "SAMPLE = True\n",
    "\n",
    "full_data_path = f'{OUT_FOLDER}/{CLEAN_DATA_FILENAME}'  # > 700 variables\n",
    "best_data_path = f'{OUT_FOLDER}/{CLEAN_DATA_FEATURES}'  # les top 100 features \n",
    "sample_data_path = f'{OUT_FOLDER}/{CLEAN_DATA_SAMPLE}'  # echantillon pour developpement rapide\n",
    "\n",
    "cleaned_data_path = sample_data_path if SAMPLE else best_data_path\n",
    "with timer('Load cleaned data'):\n",
    "    df_data = pd.read_csv(cleaned_data_path)\n"
   ]
  },
  {
   "cell_type": "code",
   "execution_count": 12,
   "metadata": {},
   "outputs": [
    {
     "name": "stdout",
     "output_type": "stream",
     "text": [
      "Initial df memory usage is 6.49 MB for 85 columns\n",
      "Final memory usage is: 1.88 MB - decreased by 71.0%\n",
      "Reduce memory - done in 0s\n"
     ]
    }
   ],
   "source": [
    "with timer('Reduce memory'):\n",
    "    df_data = outils_preprocess.reduce_memory(df_data)\n"
   ]
  },
  {
   "cell_type": "markdown",
   "metadata": {},
   "source": [
    "## Create X (fields), y (target)\n"
   ]
  },
  {
   "cell_type": "code",
   "execution_count": 13,
   "metadata": {},
   "outputs": [],
   "source": [
    "def create_X_y(df: pd.DataFrame):\n",
    "    target = df['TARGET'].copy()\n",
    "    fields = df.drop(columns=['TARGET', 'SK_ID_CURR'])\n",
    "    return fields, target\n",
    "\n",
    "\n",
    "X, y = create_X_y(df_data)\n"
   ]
  },
  {
   "cell_type": "code",
   "execution_count": 14,
   "metadata": {},
   "outputs": [
    {
     "name": "stdout",
     "output_type": "stream",
     "text": [
      "[0 1]\n"
     ]
    }
   ],
   "source": [
    "TARGET_CLASSES = ['0=repaid', '1=not repaid']\n",
    "le = preprocessing.LabelEncoder()\n",
    "target_classes = le.fit_transform(TARGET_CLASSES)\n",
    "print(target_classes)\n"
   ]
  },
  {
   "cell_type": "markdown",
   "metadata": {},
   "source": [
    "### Split train / test\n"
   ]
  },
  {
   "cell_type": "code",
   "execution_count": 15,
   "metadata": {},
   "outputs": [],
   "source": [
    "# Split the data into train and test sets\n",
    "x_train, x_test, y_train, y_test = train_test_split(\n",
    "    X, y, stratify=y, test_size=0.2)\n"
   ]
  },
  {
   "cell_type": "markdown",
   "metadata": {},
   "source": [
    "## Preprocessing de données\n",
    "\n",
    "On crée un preprocessor pour pouvoir ajuster les paramètres de preprocessing"
   ]
  },
  {
   "cell_type": "code",
   "execution_count": 16,
   "metadata": {},
   "outputs": [
    {
     "name": "stdout",
     "output_type": "stream",
     "text": [
      "numerical_features : 83\n",
      "category_features : 0\n",
      "target_features : TARGET\n"
     ]
    }
   ],
   "source": [
    "from sklearn.compose import make_column_selector\n",
    "\n",
    "cat_selector = make_column_selector(dtype_include=object)\n",
    "num_selector = make_column_selector(dtype_include=np.number)\n",
    "\n",
    "category_features = cat_selector(x_train)\n",
    "numerical_features = num_selector(x_train)\n",
    "target_features = y_train.name\n",
    "\n",
    "print(f'numerical_features : {len(numerical_features)}')\n",
    "print(f'category_features : {len(category_features)}')\n",
    "print(f'target_features : {target_features}')\n"
   ]
  },
  {
   "cell_type": "code",
   "execution_count": 17,
   "metadata": {},
   "outputs": [
    {
     "data": {
      "text/html": [
       "<style>#sk-40b24a22-7b99-484c-b3db-14bb2ae65275 {color: black;background-color: white;}#sk-40b24a22-7b99-484c-b3db-14bb2ae65275 pre{padding: 0;}#sk-40b24a22-7b99-484c-b3db-14bb2ae65275 div.sk-toggleable {background-color: white;}#sk-40b24a22-7b99-484c-b3db-14bb2ae65275 label.sk-toggleable__label {cursor: pointer;display: block;width: 100%;margin-bottom: 0;padding: 0.3em;box-sizing: border-box;text-align: center;}#sk-40b24a22-7b99-484c-b3db-14bb2ae65275 label.sk-toggleable__label-arrow:before {content: \"▸\";float: left;margin-right: 0.25em;color: #696969;}#sk-40b24a22-7b99-484c-b3db-14bb2ae65275 label.sk-toggleable__label-arrow:hover:before {color: black;}#sk-40b24a22-7b99-484c-b3db-14bb2ae65275 div.sk-estimator:hover label.sk-toggleable__label-arrow:before {color: black;}#sk-40b24a22-7b99-484c-b3db-14bb2ae65275 div.sk-toggleable__content {max-height: 0;max-width: 0;overflow: hidden;text-align: left;background-color: #f0f8ff;}#sk-40b24a22-7b99-484c-b3db-14bb2ae65275 div.sk-toggleable__content pre {margin: 0.2em;color: black;border-radius: 0.25em;background-color: #f0f8ff;}#sk-40b24a22-7b99-484c-b3db-14bb2ae65275 input.sk-toggleable__control:checked~div.sk-toggleable__content {max-height: 200px;max-width: 100%;overflow: auto;}#sk-40b24a22-7b99-484c-b3db-14bb2ae65275 input.sk-toggleable__control:checked~label.sk-toggleable__label-arrow:before {content: \"▾\";}#sk-40b24a22-7b99-484c-b3db-14bb2ae65275 div.sk-estimator input.sk-toggleable__control:checked~label.sk-toggleable__label {background-color: #d4ebff;}#sk-40b24a22-7b99-484c-b3db-14bb2ae65275 div.sk-label input.sk-toggleable__control:checked~label.sk-toggleable__label {background-color: #d4ebff;}#sk-40b24a22-7b99-484c-b3db-14bb2ae65275 input.sk-hidden--visually {border: 0;clip: rect(1px 1px 1px 1px);clip: rect(1px, 1px, 1px, 1px);height: 1px;margin: -1px;overflow: hidden;padding: 0;position: absolute;width: 1px;}#sk-40b24a22-7b99-484c-b3db-14bb2ae65275 div.sk-estimator {font-family: monospace;background-color: #f0f8ff;border: 1px dotted black;border-radius: 0.25em;box-sizing: border-box;margin-bottom: 0.5em;}#sk-40b24a22-7b99-484c-b3db-14bb2ae65275 div.sk-estimator:hover {background-color: #d4ebff;}#sk-40b24a22-7b99-484c-b3db-14bb2ae65275 div.sk-parallel-item::after {content: \"\";width: 100%;border-bottom: 1px solid gray;flex-grow: 1;}#sk-40b24a22-7b99-484c-b3db-14bb2ae65275 div.sk-label:hover label.sk-toggleable__label {background-color: #d4ebff;}#sk-40b24a22-7b99-484c-b3db-14bb2ae65275 div.sk-serial::before {content: \"\";position: absolute;border-left: 1px solid gray;box-sizing: border-box;top: 2em;bottom: 0;left: 50%;}#sk-40b24a22-7b99-484c-b3db-14bb2ae65275 div.sk-serial {display: flex;flex-direction: column;align-items: center;background-color: white;padding-right: 0.2em;padding-left: 0.2em;}#sk-40b24a22-7b99-484c-b3db-14bb2ae65275 div.sk-item {z-index: 1;}#sk-40b24a22-7b99-484c-b3db-14bb2ae65275 div.sk-parallel {display: flex;align-items: stretch;justify-content: center;background-color: white;}#sk-40b24a22-7b99-484c-b3db-14bb2ae65275 div.sk-parallel::before {content: \"\";position: absolute;border-left: 1px solid gray;box-sizing: border-box;top: 2em;bottom: 0;left: 50%;}#sk-40b24a22-7b99-484c-b3db-14bb2ae65275 div.sk-parallel-item {display: flex;flex-direction: column;position: relative;background-color: white;}#sk-40b24a22-7b99-484c-b3db-14bb2ae65275 div.sk-parallel-item:first-child::after {align-self: flex-end;width: 50%;}#sk-40b24a22-7b99-484c-b3db-14bb2ae65275 div.sk-parallel-item:last-child::after {align-self: flex-start;width: 50%;}#sk-40b24a22-7b99-484c-b3db-14bb2ae65275 div.sk-parallel-item:only-child::after {width: 0;}#sk-40b24a22-7b99-484c-b3db-14bb2ae65275 div.sk-dashed-wrapped {border: 1px dashed gray;margin: 0 0.4em 0.5em 0.4em;box-sizing: border-box;padding-bottom: 0.4em;background-color: white;position: relative;}#sk-40b24a22-7b99-484c-b3db-14bb2ae65275 div.sk-label label {font-family: monospace;font-weight: bold;background-color: white;display: inline-block;line-height: 1.2em;}#sk-40b24a22-7b99-484c-b3db-14bb2ae65275 div.sk-label-container {position: relative;z-index: 2;text-align: center;}#sk-40b24a22-7b99-484c-b3db-14bb2ae65275 div.sk-container {/* jupyter's `normalize.less` sets `[hidden] { display: none; }` but bootstrap.min.css set `[hidden] { display: none !important; }` so we also need the `!important` here to be able to override the default hidden behavior on the sphinx rendered scikit-learn.org. See: https://github.com/scikit-learn/scikit-learn/issues/21755 */display: inline-block !important;position: relative;}#sk-40b24a22-7b99-484c-b3db-14bb2ae65275 div.sk-text-repr-fallback {display: none;}</style><div id=\"sk-40b24a22-7b99-484c-b3db-14bb2ae65275\" class=\"sk-top-container\"><div class=\"sk-text-repr-fallback\"><pre>ColumnTransformer(remainder=&#x27;passthrough&#x27;,\n",
       "                  transformers=[(&#x27;num&#x27;,\n",
       "                                 Pipeline(steps=[(&#x27;imputer&#x27;,\n",
       "                                                  SimpleImputer(strategy=&#x27;median&#x27;)),\n",
       "                                                 (&#x27;scaler&#x27;, StandardScaler())]),\n",
       "                                 &lt;sklearn.compose._column_transformer.make_column_selector object at 0x0000022289E3A518&gt;),\n",
       "                                (&#x27;cat&#x27;,\n",
       "                                 Pipeline(steps=[(&#x27;imputer&#x27;,\n",
       "                                                  SimpleImputer(fill_value=&#x27;missing&#x27;,\n",
       "                                                                strategy=&#x27;constant&#x27;)),\n",
       "                                                 (&#x27;encoding&#x27;,\n",
       "                                                  OneHotEncoder(dtype=&lt;class &#x27;int&#x27;&gt;,\n",
       "                                                                handle_unknown=&#x27;ignore&#x27;))]),\n",
       "                                 &lt;sklearn.compose._column_transformer.make_column_selector object at 0x0000022289E3A630&gt;)])</pre><b>Please rerun this cell to show the HTML repr or trust the notebook.</b></div><div class=\"sk-container\" hidden><div class=\"sk-item sk-dashed-wrapped\"><div class=\"sk-label-container\"><div class=\"sk-label sk-toggleable\"><input class=\"sk-toggleable__control sk-hidden--visually\" id=\"c68c98cf-66d9-4077-b185-a442da82d450\" type=\"checkbox\" ><label for=\"c68c98cf-66d9-4077-b185-a442da82d450\" class=\"sk-toggleable__label sk-toggleable__label-arrow\">ColumnTransformer</label><div class=\"sk-toggleable__content\"><pre>ColumnTransformer(remainder=&#x27;passthrough&#x27;,\n",
       "                  transformers=[(&#x27;num&#x27;,\n",
       "                                 Pipeline(steps=[(&#x27;imputer&#x27;,\n",
       "                                                  SimpleImputer(strategy=&#x27;median&#x27;)),\n",
       "                                                 (&#x27;scaler&#x27;, StandardScaler())]),\n",
       "                                 &lt;sklearn.compose._column_transformer.make_column_selector object at 0x0000022289E3A518&gt;),\n",
       "                                (&#x27;cat&#x27;,\n",
       "                                 Pipeline(steps=[(&#x27;imputer&#x27;,\n",
       "                                                  SimpleImputer(fill_value=&#x27;missing&#x27;,\n",
       "                                                                strategy=&#x27;constant&#x27;)),\n",
       "                                                 (&#x27;encoding&#x27;,\n",
       "                                                  OneHotEncoder(dtype=&lt;class &#x27;int&#x27;&gt;,\n",
       "                                                                handle_unknown=&#x27;ignore&#x27;))]),\n",
       "                                 &lt;sklearn.compose._column_transformer.make_column_selector object at 0x0000022289E3A630&gt;)])</pre></div></div></div><div class=\"sk-parallel\"><div class=\"sk-parallel-item\"><div class=\"sk-item\"><div class=\"sk-label-container\"><div class=\"sk-label sk-toggleable\"><input class=\"sk-toggleable__control sk-hidden--visually\" id=\"5c03d075-c06b-4de8-a62c-f706ebcbdac2\" type=\"checkbox\" ><label for=\"5c03d075-c06b-4de8-a62c-f706ebcbdac2\" class=\"sk-toggleable__label sk-toggleable__label-arrow\">num</label><div class=\"sk-toggleable__content\"><pre>&lt;sklearn.compose._column_transformer.make_column_selector object at 0x0000022289E3A518&gt;</pre></div></div></div><div class=\"sk-serial\"><div class=\"sk-item\"><div class=\"sk-serial\"><div class=\"sk-item\"><div class=\"sk-estimator sk-toggleable\"><input class=\"sk-toggleable__control sk-hidden--visually\" id=\"cd1ed521-297c-4717-b626-2643bf13442b\" type=\"checkbox\" ><label for=\"cd1ed521-297c-4717-b626-2643bf13442b\" class=\"sk-toggleable__label sk-toggleable__label-arrow\">SimpleImputer</label><div class=\"sk-toggleable__content\"><pre>SimpleImputer(strategy=&#x27;median&#x27;)</pre></div></div></div><div class=\"sk-item\"><div class=\"sk-estimator sk-toggleable\"><input class=\"sk-toggleable__control sk-hidden--visually\" id=\"94bbdb24-ef7b-44b9-a261-8c3bed0839fd\" type=\"checkbox\" ><label for=\"94bbdb24-ef7b-44b9-a261-8c3bed0839fd\" class=\"sk-toggleable__label sk-toggleable__label-arrow\">StandardScaler</label><div class=\"sk-toggleable__content\"><pre>StandardScaler()</pre></div></div></div></div></div></div></div></div><div class=\"sk-parallel-item\"><div class=\"sk-item\"><div class=\"sk-label-container\"><div class=\"sk-label sk-toggleable\"><input class=\"sk-toggleable__control sk-hidden--visually\" id=\"12b66a01-a023-4edf-b0db-dbbbaae03f96\" type=\"checkbox\" ><label for=\"12b66a01-a023-4edf-b0db-dbbbaae03f96\" class=\"sk-toggleable__label sk-toggleable__label-arrow\">cat</label><div class=\"sk-toggleable__content\"><pre>&lt;sklearn.compose._column_transformer.make_column_selector object at 0x0000022289E3A630&gt;</pre></div></div></div><div class=\"sk-serial\"><div class=\"sk-item\"><div class=\"sk-serial\"><div class=\"sk-item\"><div class=\"sk-estimator sk-toggleable\"><input class=\"sk-toggleable__control sk-hidden--visually\" id=\"22990c51-f412-4e2e-a01b-a2fc8269c7c0\" type=\"checkbox\" ><label for=\"22990c51-f412-4e2e-a01b-a2fc8269c7c0\" class=\"sk-toggleable__label sk-toggleable__label-arrow\">SimpleImputer</label><div class=\"sk-toggleable__content\"><pre>SimpleImputer(fill_value=&#x27;missing&#x27;, strategy=&#x27;constant&#x27;)</pre></div></div></div><div class=\"sk-item\"><div class=\"sk-estimator sk-toggleable\"><input class=\"sk-toggleable__control sk-hidden--visually\" id=\"ad41d5d2-034a-4025-8c87-f55a16381e63\" type=\"checkbox\" ><label for=\"ad41d5d2-034a-4025-8c87-f55a16381e63\" class=\"sk-toggleable__label sk-toggleable__label-arrow\">OneHotEncoder</label><div class=\"sk-toggleable__content\"><pre>OneHotEncoder(dtype=&lt;class &#x27;int&#x27;&gt;, handle_unknown=&#x27;ignore&#x27;)</pre></div></div></div></div></div></div></div></div><div class=\"sk-parallel-item\"><div class=\"sk-item\"><div class=\"sk-label-container\"><div class=\"sk-label sk-toggleable\"><input class=\"sk-toggleable__control sk-hidden--visually\" id=\"7d7329d2-7a0f-4328-99ff-548de35697bf\" type=\"checkbox\" ><label for=\"7d7329d2-7a0f-4328-99ff-548de35697bf\" class=\"sk-toggleable__label sk-toggleable__label-arrow\">remainder</label><div class=\"sk-toggleable__content\"><pre></pre></div></div></div><div class=\"sk-serial\"><div class=\"sk-item\"><div class=\"sk-estimator sk-toggleable\"><input class=\"sk-toggleable__control sk-hidden--visually\" id=\"080eeb08-a3ae-42db-b495-78e171290ec4\" type=\"checkbox\" ><label for=\"080eeb08-a3ae-42db-b495-78e171290ec4\" class=\"sk-toggleable__label sk-toggleable__label-arrow\">passthrough</label><div class=\"sk-toggleable__content\"><pre>passthrough</pre></div></div></div></div></div></div></div></div></div></div>"
      ],
      "text/plain": [
       "ColumnTransformer(remainder='passthrough',\n",
       "                  transformers=[('num',\n",
       "                                 Pipeline(steps=[('imputer',\n",
       "                                                  SimpleImputer(strategy='median')),\n",
       "                                                 ('scaler', StandardScaler())]),\n",
       "                                 <sklearn.compose._column_transformer.make_column_selector object at 0x0000022289E3A518>),\n",
       "                                ('cat',\n",
       "                                 Pipeline(steps=[('imputer',\n",
       "                                                  SimpleImputer(fill_value='missing',\n",
       "                                                                strategy='constant')),\n",
       "                                                 ('encoding',\n",
       "                                                  OneHotEncoder(dtype=<class 'int'>,\n",
       "                                                                handle_unknown='ignore'))]),\n",
       "                                 <sklearn.compose._column_transformer.make_column_selector object at 0x0000022289E3A630>)])"
      ]
     },
     "execution_count": 17,
     "metadata": {},
     "output_type": "execute_result"
    }
   ],
   "source": [
    "from sklearn.pipeline import Pipeline\n",
    "from sklearn.preprocessing import MinMaxScaler, StandardScaler, OneHotEncoder\n",
    "from sklearn.compose import ColumnTransformer\n",
    "from sklearn.impute import SimpleImputer\n",
    "\n",
    "def create_preprocessor (num_cols=num_selector, cat_cols=cat_selector):\n",
    "    \"\"\"Preprocessor \"\"\"\n",
    "    num_pipe = Pipeline(steps=[\n",
    "        ('imputer',SimpleImputer(strategy= 'median')),\n",
    "        ('scaler', StandardScaler())\n",
    "    ])\n",
    "    cat_pipe = Pipeline(steps=[\n",
    "        ('imputer',SimpleImputer(strategy='constant', fill_value='missing')),\n",
    "        ('encoding', OneHotEncoder(dtype=int,sparse=True,handle_unknown='ignore'))\n",
    "    ])\n",
    "    preprocessor = ColumnTransformer(transformers=[\n",
    "        ('num',num_pipe,num_cols),\n",
    "        ('cat',cat_pipe,cat_cols)\n",
    "    ],\n",
    "     remainder='passthrough')\n",
    "    return preprocessor\n",
    "\n",
    "preprocessor= create_preprocessor()\n",
    "preprocessor"
   ]
  },
  {
   "cell_type": "code",
   "execution_count": 18,
   "metadata": {},
   "outputs": [
    {
     "data": {
      "text/html": [
       "<style>#sk-1c073ccc-acea-453c-98d2-1046af15000b {color: black;background-color: white;}#sk-1c073ccc-acea-453c-98d2-1046af15000b pre{padding: 0;}#sk-1c073ccc-acea-453c-98d2-1046af15000b div.sk-toggleable {background-color: white;}#sk-1c073ccc-acea-453c-98d2-1046af15000b label.sk-toggleable__label {cursor: pointer;display: block;width: 100%;margin-bottom: 0;padding: 0.3em;box-sizing: border-box;text-align: center;}#sk-1c073ccc-acea-453c-98d2-1046af15000b label.sk-toggleable__label-arrow:before {content: \"▸\";float: left;margin-right: 0.25em;color: #696969;}#sk-1c073ccc-acea-453c-98d2-1046af15000b label.sk-toggleable__label-arrow:hover:before {color: black;}#sk-1c073ccc-acea-453c-98d2-1046af15000b div.sk-estimator:hover label.sk-toggleable__label-arrow:before {color: black;}#sk-1c073ccc-acea-453c-98d2-1046af15000b div.sk-toggleable__content {max-height: 0;max-width: 0;overflow: hidden;text-align: left;background-color: #f0f8ff;}#sk-1c073ccc-acea-453c-98d2-1046af15000b div.sk-toggleable__content pre {margin: 0.2em;color: black;border-radius: 0.25em;background-color: #f0f8ff;}#sk-1c073ccc-acea-453c-98d2-1046af15000b input.sk-toggleable__control:checked~div.sk-toggleable__content {max-height: 200px;max-width: 100%;overflow: auto;}#sk-1c073ccc-acea-453c-98d2-1046af15000b input.sk-toggleable__control:checked~label.sk-toggleable__label-arrow:before {content: \"▾\";}#sk-1c073ccc-acea-453c-98d2-1046af15000b div.sk-estimator input.sk-toggleable__control:checked~label.sk-toggleable__label {background-color: #d4ebff;}#sk-1c073ccc-acea-453c-98d2-1046af15000b div.sk-label input.sk-toggleable__control:checked~label.sk-toggleable__label {background-color: #d4ebff;}#sk-1c073ccc-acea-453c-98d2-1046af15000b input.sk-hidden--visually {border: 0;clip: rect(1px 1px 1px 1px);clip: rect(1px, 1px, 1px, 1px);height: 1px;margin: -1px;overflow: hidden;padding: 0;position: absolute;width: 1px;}#sk-1c073ccc-acea-453c-98d2-1046af15000b div.sk-estimator {font-family: monospace;background-color: #f0f8ff;border: 1px dotted black;border-radius: 0.25em;box-sizing: border-box;margin-bottom: 0.5em;}#sk-1c073ccc-acea-453c-98d2-1046af15000b div.sk-estimator:hover {background-color: #d4ebff;}#sk-1c073ccc-acea-453c-98d2-1046af15000b div.sk-parallel-item::after {content: \"\";width: 100%;border-bottom: 1px solid gray;flex-grow: 1;}#sk-1c073ccc-acea-453c-98d2-1046af15000b div.sk-label:hover label.sk-toggleable__label {background-color: #d4ebff;}#sk-1c073ccc-acea-453c-98d2-1046af15000b div.sk-serial::before {content: \"\";position: absolute;border-left: 1px solid gray;box-sizing: border-box;top: 2em;bottom: 0;left: 50%;}#sk-1c073ccc-acea-453c-98d2-1046af15000b div.sk-serial {display: flex;flex-direction: column;align-items: center;background-color: white;padding-right: 0.2em;padding-left: 0.2em;}#sk-1c073ccc-acea-453c-98d2-1046af15000b div.sk-item {z-index: 1;}#sk-1c073ccc-acea-453c-98d2-1046af15000b div.sk-parallel {display: flex;align-items: stretch;justify-content: center;background-color: white;}#sk-1c073ccc-acea-453c-98d2-1046af15000b div.sk-parallel::before {content: \"\";position: absolute;border-left: 1px solid gray;box-sizing: border-box;top: 2em;bottom: 0;left: 50%;}#sk-1c073ccc-acea-453c-98d2-1046af15000b div.sk-parallel-item {display: flex;flex-direction: column;position: relative;background-color: white;}#sk-1c073ccc-acea-453c-98d2-1046af15000b div.sk-parallel-item:first-child::after {align-self: flex-end;width: 50%;}#sk-1c073ccc-acea-453c-98d2-1046af15000b div.sk-parallel-item:last-child::after {align-self: flex-start;width: 50%;}#sk-1c073ccc-acea-453c-98d2-1046af15000b div.sk-parallel-item:only-child::after {width: 0;}#sk-1c073ccc-acea-453c-98d2-1046af15000b div.sk-dashed-wrapped {border: 1px dashed gray;margin: 0 0.4em 0.5em 0.4em;box-sizing: border-box;padding-bottom: 0.4em;background-color: white;position: relative;}#sk-1c073ccc-acea-453c-98d2-1046af15000b div.sk-label label {font-family: monospace;font-weight: bold;background-color: white;display: inline-block;line-height: 1.2em;}#sk-1c073ccc-acea-453c-98d2-1046af15000b div.sk-label-container {position: relative;z-index: 2;text-align: center;}#sk-1c073ccc-acea-453c-98d2-1046af15000b div.sk-container {/* jupyter's `normalize.less` sets `[hidden] { display: none; }` but bootstrap.min.css set `[hidden] { display: none !important; }` so we also need the `!important` here to be able to override the default hidden behavior on the sphinx rendered scikit-learn.org. See: https://github.com/scikit-learn/scikit-learn/issues/21755 */display: inline-block !important;position: relative;}#sk-1c073ccc-acea-453c-98d2-1046af15000b div.sk-text-repr-fallback {display: none;}</style><div id=\"sk-1c073ccc-acea-453c-98d2-1046af15000b\" class=\"sk-top-container\"><div class=\"sk-text-repr-fallback\"><pre>Pipeline(steps=[(&#x27;preprocessor&#x27;,\n",
       "                 ColumnTransformer(transformers=[(&#x27;num&#x27;,\n",
       "                                                  Pipeline(steps=[(&#x27;imputer&#x27;,\n",
       "                                                                   SimpleImputer(strategy=&#x27;median&#x27;)),\n",
       "                                                                  (&#x27;simple_scale&#x27;,\n",
       "                                                                   StandardScaler())]),\n",
       "                                                  &lt;sklearn.compose._column_transformer.make_column_selector object at 0x0000022289E3A518&gt;)]))])</pre><b>Please rerun this cell to show the HTML repr or trust the notebook.</b></div><div class=\"sk-container\" hidden><div class=\"sk-item sk-dashed-wrapped\"><div class=\"sk-label-container\"><div class=\"sk-label sk-toggleable\"><input class=\"sk-toggleable__control sk-hidden--visually\" id=\"7a0921fb-1903-40e9-8a7d-9a3810045d20\" type=\"checkbox\" ><label for=\"7a0921fb-1903-40e9-8a7d-9a3810045d20\" class=\"sk-toggleable__label sk-toggleable__label-arrow\">Pipeline</label><div class=\"sk-toggleable__content\"><pre>Pipeline(steps=[(&#x27;preprocessor&#x27;,\n",
       "                 ColumnTransformer(transformers=[(&#x27;num&#x27;,\n",
       "                                                  Pipeline(steps=[(&#x27;imputer&#x27;,\n",
       "                                                                   SimpleImputer(strategy=&#x27;median&#x27;)),\n",
       "                                                                  (&#x27;simple_scale&#x27;,\n",
       "                                                                   StandardScaler())]),\n",
       "                                                  &lt;sklearn.compose._column_transformer.make_column_selector object at 0x0000022289E3A518&gt;)]))])</pre></div></div></div><div class=\"sk-serial\"><div class=\"sk-item sk-dashed-wrapped\"><div class=\"sk-label-container\"><div class=\"sk-label sk-toggleable\"><input class=\"sk-toggleable__control sk-hidden--visually\" id=\"aeed1f91-aba2-4866-ad32-c0066a305b47\" type=\"checkbox\" ><label for=\"aeed1f91-aba2-4866-ad32-c0066a305b47\" class=\"sk-toggleable__label sk-toggleable__label-arrow\">preprocessor: ColumnTransformer</label><div class=\"sk-toggleable__content\"><pre>ColumnTransformer(transformers=[(&#x27;num&#x27;,\n",
       "                                 Pipeline(steps=[(&#x27;imputer&#x27;,\n",
       "                                                  SimpleImputer(strategy=&#x27;median&#x27;)),\n",
       "                                                 (&#x27;simple_scale&#x27;,\n",
       "                                                  StandardScaler())]),\n",
       "                                 &lt;sklearn.compose._column_transformer.make_column_selector object at 0x0000022289E3A518&gt;)])</pre></div></div></div><div class=\"sk-parallel\"><div class=\"sk-parallel-item\"><div class=\"sk-item\"><div class=\"sk-label-container\"><div class=\"sk-label sk-toggleable\"><input class=\"sk-toggleable__control sk-hidden--visually\" id=\"5a9e07f4-4a86-4b27-8806-6749b91c8d5a\" type=\"checkbox\" ><label for=\"5a9e07f4-4a86-4b27-8806-6749b91c8d5a\" class=\"sk-toggleable__label sk-toggleable__label-arrow\">num</label><div class=\"sk-toggleable__content\"><pre>&lt;sklearn.compose._column_transformer.make_column_selector object at 0x0000022289E3A518&gt;</pre></div></div></div><div class=\"sk-serial\"><div class=\"sk-item\"><div class=\"sk-serial\"><div class=\"sk-item\"><div class=\"sk-estimator sk-toggleable\"><input class=\"sk-toggleable__control sk-hidden--visually\" id=\"4bb7d4d3-e3e5-4fc6-b1c6-b678421237f0\" type=\"checkbox\" ><label for=\"4bb7d4d3-e3e5-4fc6-b1c6-b678421237f0\" class=\"sk-toggleable__label sk-toggleable__label-arrow\">SimpleImputer</label><div class=\"sk-toggleable__content\"><pre>SimpleImputer(strategy=&#x27;median&#x27;)</pre></div></div></div><div class=\"sk-item\"><div class=\"sk-estimator sk-toggleable\"><input class=\"sk-toggleable__control sk-hidden--visually\" id=\"c325e12a-a23e-43e5-b573-07df8a3655f9\" type=\"checkbox\" ><label for=\"c325e12a-a23e-43e5-b573-07df8a3655f9\" class=\"sk-toggleable__label sk-toggleable__label-arrow\">StandardScaler</label><div class=\"sk-toggleable__content\"><pre>StandardScaler()</pre></div></div></div></div></div></div></div></div></div></div></div></div></div></div>"
      ],
      "text/plain": [
       "Pipeline(steps=[('preprocessor',\n",
       "                 ColumnTransformer(transformers=[('num',\n",
       "                                                  Pipeline(steps=[('imputer',\n",
       "                                                                   SimpleImputer(strategy='median')),\n",
       "                                                                  ('simple_scale',\n",
       "                                                                   StandardScaler())]),\n",
       "                                                  <sklearn.compose._column_transformer.make_column_selector object at 0x0000022289E3A518>)]))])"
      ]
     },
     "execution_count": 18,
     "metadata": {},
     "output_type": "execute_result"
    }
   ],
   "source": [
    "numeric_pipeline = Pipeline(steps=[\n",
    "    ('preprocessor', ColumnTransformer(transformers=[\n",
    "        ('num', Pipeline([\n",
    "            ('imputer', SimpleImputer(strategy=\"median\")),\n",
    "            ('simple_scale', StandardScaler())\n",
    "        ]), num_selector),\n",
    "    ]))\n",
    "])\n",
    "numeric_pipeline"
   ]
  },
  {
   "cell_type": "code",
   "execution_count": 19,
   "metadata": {},
   "outputs": [
    {
     "name": "stdout",
     "output_type": "stream",
     "text": [
      "['EXT_SOURCE_3' 'EXT_SOURCE_2' 'EXT_SOURCE_1' 'PREV_DAYS_DECISION_MIN'\n",
      " 'PREV_AMT_ANNUITY_MEAN']\n"
     ]
    }
   ],
   "source": [
    "numeric_pipeline.fit(x_train)\n",
    "print(numeric_pipeline.feature_names_in_[:5])\n",
    "\n",
    "# Erreur si on essaie de récuperer les noms de colonnes\n",
    "# numeric_pipeline.get_feature_names_out(numeric_pipeline.feature_names_in_)\n"
   ]
  },
  {
   "cell_type": "markdown",
   "metadata": {},
   "source": [
    "### Get feature names pour les preprocessors\n",
    "\n",
    "Pour interpreter les models, il faut savoir les variables après preprocessing.\n",
    "\n",
    "Malheureusement, beaucoup des transformers de `sklearn` perd leurs feature names\n",
    "\n",
    "- SimpleImputer, FunctionTransformer, StandardScalar do not implement `get_feature_names_out`\n",
    "- Ça pose des problèmes pour l'interprétabilité des modèles\n",
    "\n",
    "L'ordre des features dépend des column selectors et l'ordre des ColumnTransformers\n",
    "\n",
    "- Avec des 'named transformers' et 'named steps' dans un ordre spécifique, on peut récupérer les noms des features dans l'ordre"
   ]
  },
  {
   "cell_type": "code",
   "execution_count": 20,
   "metadata": {},
   "outputs": [],
   "source": [
    "def get_features_out(pipe, xtrain_):\n",
    "    \"\"\"\n",
    "    Get column names after preprocessing\n",
    "\n",
    "    assumes (requires preprocessors with following structure):\n",
    "    - all named transformers, if present, are in same order as listed below\n",
    "    - if preprocessor has other transformers, add to list below\n",
    "    - only final transformer (named 'cat') adds columns, via an encoder step named 'ohe'\n",
    "    - if imputer is used, it does not add indicator columns\n",
    "    \"\"\"\n",
    "\n",
    "    def get_features_in_(trans: ColumnTransformer, name=None):\n",
    "        try:\n",
    "            features = list(trans.named_transformers_[name].feature_names_in_)\n",
    "        except:\n",
    "            # named transformer doesn't exist in pipeline, return empty list\n",
    "            features = []\n",
    "        return features\n",
    "\n",
    "    pipe.fit(xtrain_)\n",
    "    if hasattr(pipe, 'named_steps'):\n",
    "        trans: ColumnTransformer = pipe.named_steps['preprocessor']\n",
    "    else:\n",
    "        trans = pipe\n",
    "    # SimpleImputer, FunctionTransformer, StandardScalar do not implement get_feature_names_out\n",
    "\n",
    "    # Get feature names of numeric columns\n",
    "    num_features = get_features_in_(trans, 'num')\n",
    "    scale_features = get_features_in_(trans, 'simple_scale')\n",
    "    log_features = get_features_in_(trans, 'log_scale')\n",
    "    ordinal_features = get_features_in_(trans, 'ordinal')\n",
    "    try:\n",
    "        cat_encoder = trans.named_transformers_['cat']\n",
    "        ohe = cat_encoder.named_steps['ohe']\n",
    "        category_features = list(\n",
    "            ohe.get_feature_names_out(cat_encoder.feature_names_in_))\n",
    "    except:\n",
    "        category_features = []\n",
    "    features_out = (num_features+scale_features + log_features\n",
    "                    + ordinal_features + category_features)\n",
    "    return features_out"
   ]
  },
  {
   "cell_type": "markdown",
   "metadata": {},
   "source": [
    "Test get_features_out"
   ]
  },
  {
   "cell_type": "code",
   "execution_count": 21,
   "metadata": {},
   "outputs": [
    {
     "name": "stdout",
     "output_type": "stream",
     "text": [
      "(8000, 83)\n",
      "83\n",
      "['EXT_SOURCE_3', 'EXT_SOURCE_2', 'EXT_SOURCE_1']\n"
     ]
    }
   ],
   "source": [
    "x_transformed = numeric_pipeline.fit_transform(x_train)\n",
    "x_transformed_columns = get_features_out(numeric_pipeline, x_train)\n",
    "print(x_transformed.shape)\n",
    "print(len(x_transformed_columns))\n",
    "print(x_transformed_columns[:3])"
   ]
  },
  {
   "cell_type": "markdown",
   "metadata": {},
   "source": [
    "#### Preprocessor avec feature names"
   ]
  },
  {
   "cell_type": "code",
   "execution_count": 22,
   "metadata": {},
   "outputs": [],
   "source": [
    "def preprocess(pipe, x_train_, x_test_):\n",
    "    \"\"\"Preprocess x_train et x_test séparament.\n",
    "    Retourner les données transformés comme pandas DataFrames avec feature names\"\"\"\n",
    "    features_out = get_features_out(pipe, x_train_)\n",
    "    x_train_out = pd.DataFrame(pipe.fit_transform(\n",
    "        x_train_), columns=features_out, index=x_train_.index)\n",
    "    x_test_out = pd.DataFrame(pipe.transform(\n",
    "        x_test_), columns=features_out, index=x_test_.index)\n",
    "    return x_train_out, x_test_out\n"
   ]
  },
  {
   "cell_type": "markdown",
   "metadata": {},
   "source": [
    "### Impute NaN avant oversampling\n",
    "\n",
    "Pour oversampling, il ne faut pas avoir des NaN\n",
    "\n",
    "On les remplis avec SimpleImputer (median), puis un rescale\n"
   ]
  },
  {
   "cell_type": "code",
   "execution_count": 23,
   "metadata": {},
   "outputs": [
    {
     "name": "stdout",
     "output_type": "stream",
     "text": [
      "preprocess data - done in 0s\n"
     ]
    }
   ],
   "source": [
    "with timer('preprocess data'):\n",
    "    x_train_prep, x_test_prep = preprocess(preprocessor, x_train, x_test)\n"
   ]
  },
  {
   "cell_type": "markdown",
   "metadata": {},
   "source": [
    "# Ré-equilibration des classes cible\n",
    "\n",
    "Il y a 800 colonnes de données, la plupart seront insignifiant en importance pour la modèle.\n",
    "\n",
    "On peut faire feature selection basé sur les données, mais comme les données sont pour la plupart target = 0, on va favorisé les features plus corrélés avec target = 0.\n",
    "\n",
    "La référence ci-dessous recommande faire la ré-equilibration des classes, via oversampling AVANT feature selection.\n",
    "\n",
    "#### Références\n",
    "\n",
    "- [SMOTE for high-dimensional class-imbalanced data](https://www.ncbi.nlm.nih.gov/pmc/articles/PMC3648438/)\n"
   ]
  }
 ],
 "metadata": {
  "interpreter": {
   "hash": "9f161018c5e2fdb25091822214a6434325c4d2222b4c3ef81019bf1117201605"
  },
  "kernelspec": {
   "display_name": "Python 3.7.0 ('OC_3')",
   "language": "python",
   "name": "python3"
  },
  "language_info": {
   "codemirror_mode": {
    "name": "ipython",
    "version": 3
   },
   "file_extension": ".py",
   "mimetype": "text/x-python",
   "name": "python",
   "nbconvert_exporter": "python",
   "pygments_lexer": "ipython3",
   "version": "3.7.0"
  },
  "orig_nbformat": 4
 },
 "nbformat": 4,
 "nbformat_minor": 2
}
