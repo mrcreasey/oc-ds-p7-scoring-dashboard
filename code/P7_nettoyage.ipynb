{
  "cells": [
    {
      "cell_type": "markdown",
      "metadata": {
        "id": "DFji9bO_eJMR"
      },
      "source": [
        "# Implémentez un modèle de scoring\n",
        "\n",
        "- **Projet 7 du parcours « Data Scientist » d’OpenClassrooms**\n",
        "- **Mark Creasey**\n",
        "\n",
        "## Étape 1 : Préparation du jeu de données et feature engineering\n"
      ]
    },
    {
      "cell_type": "markdown",
      "metadata": {},
      "source": [
        "## 1.1 Compréhension du problème\n",
        "\n",
        "### 1.1.1 Problématique\n",
        "\n",
        "La société financière, nommée **\"Prêt à dépenser\"**, propose des crédits à la consommation pour des\n",
        "personnes ayant peu ou pas du tout d'historique de prêt.\n",
        "\n",
        "L’entreprise souhaite mettre en œuvre **un outil de “scoring crédit”** pour calculer la qu’un client\n",
        "rembourse son crédit, puis classifie la demande en crédit accordé ou refusé. Elle souhaite donc\n",
        "développer **un algorithme de classification** en s’appuyant sur des sources de données variées (données\n",
        "comportementales, données provenant d'autres institutions financières, etc.).\n",
        "\n",
        "### 1.1.2 Les données\n",
        "\n",
        "Voici [les données](https://www.kaggle.com/c/home-credit-default-risk/data) pour réaliser le\n",
        "dashboard. Pour plus de simplicité, vous pouvez les télécharger à\n",
        "[cette adresse](https://s3-eu-west-1.amazonaws.com/static.oc-static.com/prod/courses/files/Parcours_data_scientist/Projet+-+Impl%C3%A9menter+un+mod%C3%A8le+de+scoring/Projet+Mise+en+prod+-+home-credit-default-risk.zip).\n",
        "\n",
        "### 1.1.1 Mission\n",
        "\n",
        "- Sélectionner un kernel Kaggle pour faciliter la préparation des données nécessaires à l’élaboration du modèle de scoring.\n",
        "- Analyser ce kernel et l’adapter aux besoins de votre mission.\n",
        "\n",
        "Focalise sur :\n",
        "\n",
        "1. La construction d'un **modèle de scoring** qui donnera une prédiction sur la probabilité de faillite\n",
        "   d'un client de façon automatique.\n",
        "   - élaboration\n",
        "   - optimisation\n",
        "   - comprehension (interpretabilité)\n",
        "   \n",
        "2. Construction d'un **dashboard interactif** qui montre avec transparence les décisions d’octroi de\n",
        "   crédit, à destination des gestionnaires de la relation client permettant d'interpréter les\n",
        "   prédictions faites par le modèle et d’améliorer la connaissance client des chargés de relation\n",
        "   client.\n"
      ]
    },
    {
      "cell_type": "markdown",
      "metadata": {
        "id": "wM6z7uUfebpT"
      },
      "source": [
        "## 1.2 Definition de l'environnement\n",
        "\n",
        "- `local`  : Développement local (avec échantillon de 50 Mo de données)\n",
        "- `colab`  : Google Colab\n",
        "- `kaggle` : Kaggle Kernel"
      ]
    },
    {
      "cell_type": "code",
      "execution_count": 1,
      "metadata": {
        "colab": {
          "base_uri": "https://localhost:8080/"
        },
        "id": "EMeZBFf2eTfz",
        "outputId": "2657b460-a736-4de6-de5f-1bf9ceb1ea36"
      },
      "outputs": [],
      "source": [
        "ENV='local'\n",
        "\n",
        "if ENV=='local':\n",
        "    # local development\n",
        "    DATA_FOLDER = '../data/raw'\n",
        "    OUT_FOLDER = '../data/out'\n",
        "    IMAGE_FOLDER = '../images/nettoyage'\n",
        "\n",
        "if ENV == 'colab':\n",
        "    # Colaboratory - uncomment les 2 lignes suivant pour connecter à votre drive\n",
        "    # from google.colab import drive\n",
        "    # drive.mount('/content/drive')\n",
        "    DATA_FOLDER = '/content/drive/MyDrive/data/OC7'\n",
        "    OUT_FOLDER = '/content/drive/MyDrive/data/OC7'\n",
        "    IMAGE_FOLDER = '/content/drive/MyDrive/images/OC7/nettoyage'\n",
        "\n"
      ]
    },
    {
      "cell_type": "markdown",
      "metadata": {
        "id": "HvnInn3XfWQ2"
      },
      "source": [
        "## 1.3 Fichiers de données\n",
        "\n",
        "1. Les données en format CSV (>700Mb compactés) sont à télecharger de ce lien: \n",
        "- https://www.kaggle.com/c/home-credit-default-risk/data\n",
        "- Pour plus de simplicité, vous pouvez les télécharger à [cette adresse.](https://s3-eu-west-1.amazonaws.com/static.oc-static.com/prod/courses/files/Parcours_data_scientist/Projet+-+Impl%C3%A9menter+un+mod%C3%A8le+de+scoring/Projet+Mise+en+prod+-+home-credit-default-risk.zip)\n",
        "\n",
        "2.  Placer le fichier compacté (**.zip**) dans le **DATA_FOLDER** défini ci-dessous"
      ]
    },
    {
      "cell_type": "markdown",
      "metadata": {
        "id": "ELwbVYvAgSMU"
      },
      "source": [
        "### Noms des fichiers de données (identique pour nettoyage et l'analyse exploratoire)\n",
        "\n",
        "- Le grand fichier zip des données doit être placé dans `DATA_FOLDER` au préalable \n",
        "- Tous les autres fichiers de données sont téléchargés ou crées pendant le nettoyage, puis enregistrés dans `OUT_FOLDER`"
      ]
    },
    {
      "cell_type": "code",
      "execution_count": 2,
      "metadata": {
        "id": "F_iJnVSEfKma"
      },
      "outputs": [],
      "source": [
        "# Données (DATA_FOLDER)\n",
        "ZIPPED_DATA_FILENAME=f'Projet+Mise+en+prod+-+home-credit-default-risk.zip'\n",
        "RAW_DATA_FILENAME='HomeCredit_columns_description.csv'\n",
        "SAMPLE_DATA_FILENAME='HomeCredit_columns_description.csv'\n",
        "\n",
        "\n",
        "# Données nettoyés (OUT_FOLDER)\n",
        "CLEAN_DATA_FILENAME='cleaned_data_scoring.csv'\n",
        "CLEAN_DATA_SAMPLE='cleaned_data_sample.csv' # 100,000 registres\n",
        "SAMPLE_SIZE=100000"
      ]
    },
    {
      "cell_type": "markdown",
      "metadata": {
        "id": "aMFxPWtagxDT"
      },
      "source": [
        "## 1.4 Requirements: Bibliothèques utilisées dans ce notebook\n",
        "Ce notebook marche a été testé en developpement local, sur Google Colab et Kaggle\n",
        "\n",
        "```txt\n",
        "# copy dans un fichier requirements.txt, puis\n",
        "# !pip install -r requirements.txt\n",
        "python>=3.7,<=3.9\n",
        "numpy>=1.19.5,<=1.21.2\n",
        "pandas>=1.1.5,<=1.3.4 \n",
        "matplotlib>=3.2.2,<=3.5.0\n",
        "seaborn==0.11.2\n",
        "scikit-learn>=1.0.1\n",
        "```"
      ]
    },
    {
      "cell_type": "code",
      "execution_count": 3,
      "metadata": {
        "id": "pIP-XhqSgyC_"
      },
      "outputs": [],
      "source": [
        "# Decommentarise la ligne suivant si vous ne voulez pas changer vos versions existants\n",
        "# !pip install numpy pandas matplotlib seaborn scipy sklearn missingno requests"
      ]
    },
    {
      "cell_type": "markdown",
      "metadata": {
        "id": "s8kXrZGCg6h1"
      },
      "source": [
        "## 1.5 Import dependencies"
      ]
    },
    {
      "cell_type": "markdown",
      "metadata": {
        "id": "KPt54cG5g7Up"
      },
      "source": [
        "### 1.5.1 Import des bibliothèques utilisées par ce notebook"
      ]
    },
    {
      "cell_type": "code",
      "execution_count": 4,
      "metadata": {
        "id": "XtukhHGIg-Ag"
      },
      "outputs": [],
      "source": [
        "# suppress furture warnings de pandas 1.3.0  \n",
        "import warnings\n",
        "warnings.simplefilter(action='ignore', category=FutureWarning)\n",
        "\n",
        "import os\n",
        "import matplotlib.pyplot as plt\n",
        "import numpy as np\n",
        "import pandas as pd\n",
        "import seaborn as sns\n",
        "import sklearn\n",
        "import gc\n",
        "import time\n",
        "from contextlib import contextmanager\n"
      ]
    },
    {
      "cell_type": "markdown",
      "metadata": {
        "id": "FhE8BZ1ihG2I"
      },
      "source": [
        "### 1.5.2 Liste des versions des bibliothèques utilisées"
      ]
    },
    {
      "cell_type": "code",
      "execution_count": 5,
      "metadata": {
        "colab": {
          "base_uri": "https://localhost:8080/"
        },
        "id": "FJXh67-FhIwI",
        "outputId": "cf659d51-6099-46fb-c9fb-56d2067fe4a6"
      },
      "outputs": [
        {
          "name": "stdout",
          "output_type": "stream",
          "text": [
            "Python 3.7.0\n",
            "versions des bibliothèques utilisées:\n",
            "numpy==1.21.5; pandas==1.1.5; seaborn==0.11.2; sklearn==1.0.2\n"
          ]
        }
      ],
      "source": [
        "!python --version\n",
        "print('versions des bibliothèques utilisées:')\n",
        "print('; '.join(f'{m.__name__}=={m.__version__}' for m in globals().values() if getattr(m, '__version__', None)))"
      ]
    },
    {
      "cell_type": "markdown",
      "metadata": {
        "id": "5f04qBPghSsr"
      },
      "source": [
        "### 1.5.3 Configuration défauts d'affichage"
      ]
    },
    {
      "cell_type": "code",
      "execution_count": 6,
      "metadata": {
        "id": "mIoSzAqXhMEV"
      },
      "outputs": [],
      "source": [
        "pd.set_option('display.max_columns', 200)  # pour afficher toutes les colonnes\n",
        "pd.set_option('display.max_rows', 10)  # pour afficher max 10 lignes\n",
        "pd.set_option('display.max_colwidth', 100)\n",
        "\n",
        "%matplotlib inline\n",
        "sns.set_theme(style=\"white\", context=\"notebook\")\n",
        "sns.set_color_codes(\"pastel\")\n",
        "sns.set_palette(\"tab20\")"
      ]
    },
    {
      "cell_type": "markdown",
      "metadata": {
        "id": "M-MCPw5BhZBq"
      },
      "source": [
        "## 1.6 Fonctions utilitaires (make_dirs, savefig)\n",
        "- pour enregistrer les graphiques, define **`SAVE_IMAGES = True`**\n"
      ]
    },
    {
      "cell_type": "code",
      "execution_count": 7,
      "metadata": {
        "id": "02aCvSc1hbKP"
      },
      "outputs": [],
      "source": [
        "def os_make_dir(folder):\n",
        "    if not os.path.exists(folder):\n",
        "        os.makedirs(folder)\n",
        "\n",
        "def os_path_join(folder, file):\n",
        "    \"\"\"remplacement pour `os.path.join(folder, file)` sur windows\"\"\"\n",
        "    return f'{folder}/{file}'\n",
        "\n",
        "if ENV !='kaggle': \n",
        "    os_make_dir(DATA_FOLDER)\n",
        "    os_make_dir(OUT_FOLDER)\n",
        "\n",
        "os_make_dir(IMAGE_FOLDER)\n",
        "SAVE_IMAGES=True\n",
        "def to_png(fig_name):\n",
        "    if SAVE_IMAGES:\n",
        "        \"\"\"Enregistre l'image\"\"\"\n",
        "        plt.gcf().savefig(os_path_join(IMAGE_FOLDER,f'{fig_name}.png'), bbox_inches=\"tight\")"
      ]
    },
    {
      "cell_type": "markdown",
      "metadata": {
        "id": "7mhUYXKehkDI"
      },
      "source": [
        "# 2. Importation des données <a name=\"importation\"></a>"
      ]
    },
    {
      "cell_type": "markdown",
      "metadata": {
        "id": "H9UNgYuvhrRP"
      },
      "source": [
        "## 2.1 Configuration de l'environnement de travail\n",
        "\n",
        "### 2.1.1 Installation des bibliothèques nécessaires pour manipuler les données\n",
        "\n",
        "Pour plusieurs notebooks dans un dossier, enregistre une liste des bibliothèques dans un fichier `requirements.txt`"
      ]
    },
    {
      "cell_type": "code",
      "execution_count": 8,
      "metadata": {
        "colab": {
          "base_uri": "https://localhost:8080/"
        },
        "id": "kvsIMU0Ihglo",
        "outputId": "dee247f2-f59d-4167-c0fc-922e84b453fe"
      },
      "outputs": [
        {
          "name": "stdout",
          "output_type": "stream",
          "text": [
            "required modules: ['missingno', 'matplotlib', 'numpy', 'requests', 'seaborn', 'pandas']\n",
            "missing modules: []\n"
          ]
        }
      ],
      "source": [
        "def install_libraries(required=None) -> None:\n",
        "    \"\"\"\n",
        "    Installer les bibliothèques nécessaires pour ce notebook\n",
        "    - https://stackoverflow.com/questions/44210656/how-to-check-if-a-module-is-installed-in-python-and-if-not-install-it\n",
        "    \"\"\"\n",
        "    if required is None:\n",
        "        required = {'numpy', 'pandas', 'matplotlib', 'seaborn'}\n",
        "    import sys, subprocess, pkg_resources\n",
        "    installed = {pkg.key for pkg in pkg_resources.working_set}\n",
        "    missing = set(required) - set(installed)\n",
        "    print(f'required modules: {list(required)}')\n",
        "    print(f'missing modules: {list(missing)}')\n",
        "    if missing:\n",
        "        python = sys.executable\n",
        "        subprocess.check_call([python, '-m', 'pip', 'install', *missing],\n",
        "                              stdout=subprocess.DEVNULL)\n",
        "\n",
        "\n",
        "install_libraries({'numpy', 'pandas', 'matplotlib', 'seaborn', 'requests', 'missingno'})"
      ]
    },
    {
      "cell_type": "markdown",
      "metadata": {
        "id": "oLoopUM9h3ly"
      },
      "source": [
        "## 2.2 Configuration de l'importation des données\n",
        "\n",
        "### 2.2.1 Choix de fichier à analyser"
      ]
    },
    {
      "cell_type": "code",
      "execution_count": 9,
      "metadata": {
        "colab": {
          "base_uri": "https://localhost:8080/"
        },
        "id": "WvhKfqv8hzTh",
        "outputId": "d48ef236-0027-4832-84c5-f3e7bc5cdb33"
      },
      "outputs": [
        {
          "name": "stdout",
          "output_type": "stream",
          "text": [
            "data file: ../data/raw/HomeCredit_columns_description.csv\n"
          ]
        }
      ],
      "source": [
        "DATA_FILENAME = SAMPLE_DATA_FILENAME if ENV=='local' else RAW_DATA_FILENAME\n",
        "RAW_DATA = os_path_join(DATA_FOLDER, DATA_FILENAME)\n",
        "DATA_ZIPPED = os_path_join(DATA_FOLDER,ZIPPED_DATA_FILENAME)\n",
        "print(f'data file: {RAW_DATA}')"
      ]
    },
    {
      "cell_type": "code",
      "execution_count": 10,
      "metadata": {
        "colab": {
          "base_uri": "https://localhost:8080/"
        },
        "id": "rWaoA47Rh6-o",
        "outputId": "3cf7287f-7fd0-4a2e-d571-3e65e8f5cf92"
      },
      "outputs": [
        {
          "name": "stdout",
          "output_type": "stream",
          "text": [
            "data CSV file exists (../data/raw/HomeCredit_columns_description.csv)\n"
          ]
        }
      ],
      "source": [
        "def unzip_data_si_besoin(env=ENV):\n",
        "    \"\"\"procedure pour unzip sur Google Drive via Google Colab\"\"\"\n",
        "    if os.path.exists(RAW_DATA):\n",
        "        print(f'data CSV file exists ({RAW_DATA})')\n",
        "    else:\n",
        "        print(f'data CSV file does not exist ({RAW_DATA})')\n",
        "        if env=='colab' and os.path.exists(DATA_ZIPPED):\n",
        "            # uncomment les 3 lignes suivants\n",
        "            print (f'unzipping {DATA_ZIPPED}')\n",
        "            !unzip {DATA_ZIPPED} -d {DATA_FOLDER}\n",
        "            print (f'{DATA_ZIPPED} has been unzipped')\n",
        "            if os.path.exists(RAW_DATA):\n",
        "                print(f'data CSV file now exists ({RAW_DATA})')\n",
        "        else:\n",
        "            print(f'zipped data does not exist ({DATA_ZIPPED})')\n",
        "\n",
        "unzip_data_si_besoin(ENV)"
      ]
    },
    {
      "cell_type": "markdown",
      "metadata": {
        "id": "uWAejb0fi55g"
      },
      "source": [
        "### 2.2.2 Information sur le fichier (taille, type, nb. registres, champs)"
      ]
    },
    {
      "cell_type": "code",
      "execution_count": 11,
      "metadata": {
        "colab": {
          "base_uri": "https://localhost:8080/"
        },
        "id": "IE_7aupwiqoS",
        "outputId": "4ee3d60b-77eb-4139-ff14-8b8954c885e1"
      },
      "outputs": [
        {
          "name": "stdout",
          "output_type": "stream",
          "text": [
            "file : application_test.csv : size=25.34 Mo\n",
            "file : application_train.csv : size=158.44 Mo\n",
            "file : bureau.csv : size=162.14 Mo\n",
            "file : bureau_balance.csv : size=358.19 Mo\n",
            "file : credit_card_balance.csv : size=404.91 Mo\n",
            "file : HomeCredit_columns_description.csv : size=36.51 ko\n",
            "file : installments_payments.csv : size=689.62 Mo\n",
            "file : POS_CASH_balance.csv : size=374.51 Mo\n",
            "file : previous_application.csv : size=386.21 Mo\n",
            "file : sample_submission.csv : size=523.63 ko\n"
          ]
        }
      ],
      "source": [
        "def get_size_str(octets):\n",
        "    gb = round(octets / 2 ** 30, 2)\n",
        "    mb = round(octets / 2 ** 20, 2)\n",
        "    kb = round(octets / 2 ** 10, 2)\n",
        "    if gb > 1:\n",
        "        ret = f'{gb} Go'\n",
        "    elif mb > 1:\n",
        "        ret = f'{mb} Mo'\n",
        "    elif kb > 1:\n",
        "        ret = f'{kb} ko'\n",
        "    else:\n",
        "        ret = f'{octets} octets'\n",
        "    return ret\n",
        "\n",
        "def get_filesize(file_path=RAW_DATA):\n",
        "    \"\"\"Taille du fichier\"\"\"\n",
        "    octets = os.stat(file_path).st_size\n",
        "    return get_size_str(octets)\n",
        "\n",
        "for filename in os.listdir(DATA_FOLDER):\n",
        "    if filename.lower().endswith('csv'):\n",
        "        filepath=f'{DATA_FOLDER}/{filename}'\n",
        "        print(f'file : {filename} : size={get_filesize(filepath)}')\n"
      ]
    },
    {
      "cell_type": "markdown",
      "metadata": {
        "id": "FAz4r0D1l_wE"
      },
      "source": [
        "## 2.3 Data schema\n",
        "\n",
        "Le schema et description des données est fourni sur le lien:\n",
        "- https://www.kaggle.com/competitions/home-credit-default-risk/data\n",
        "\n",
        "<p><img title=\"\" alt=\"Data\" src=\"img/home_credit.png\"></p>\n",
        "<em>Original source : https://storage.googleapis.com/kaggle-media/competitions/home-credit/home_credit.png<em>"
      ]
    },
    {
      "cell_type": "markdown",
      "metadata": {
        "id": "mxQnAcG75KaL"
      },
      "source": [
        "### 2.3.1 Description des champs\n",
        "- details sur <https://www.kaggle.com/competitions/home-credit-default-risk/data>"
      ]
    },
    {
      "cell_type": "code",
      "execution_count": 12,
      "metadata": {
        "id": "AIWoT8Ze5HFH"
      },
      "outputs": [
        {
          "data": {
            "text/html": [
              "<div>\n",
              "<style scoped>\n",
              "    .dataframe tbody tr th:only-of-type {\n",
              "        vertical-align: middle;\n",
              "    }\n",
              "\n",
              "    .dataframe tbody tr th {\n",
              "        vertical-align: top;\n",
              "    }\n",
              "\n",
              "    .dataframe thead th {\n",
              "        text-align: right;\n",
              "    }\n",
              "</style>\n",
              "<table border=\"1\" class=\"dataframe\">\n",
              "  <thead>\n",
              "    <tr style=\"text-align: right;\">\n",
              "      <th></th>\n",
              "      <th>Unnamed: 0</th>\n",
              "      <th>Table</th>\n",
              "      <th>Row</th>\n",
              "      <th>Description</th>\n",
              "      <th>Special</th>\n",
              "    </tr>\n",
              "  </thead>\n",
              "  <tbody>\n",
              "    <tr>\n",
              "      <th>0</th>\n",
              "      <td>1</td>\n",
              "      <td>application_{train|test}.csv</td>\n",
              "      <td>SK_ID_CURR</td>\n",
              "      <td>ID of loan in our sample</td>\n",
              "      <td>NaN</td>\n",
              "    </tr>\n",
              "    <tr>\n",
              "      <th>1</th>\n",
              "      <td>2</td>\n",
              "      <td>application_{train|test}.csv</td>\n",
              "      <td>TARGET</td>\n",
              "      <td>Target variable (1 - client with payment difficulties: he/she had late payment more than X days ...</td>\n",
              "      <td>NaN</td>\n",
              "    </tr>\n",
              "    <tr>\n",
              "      <th>2</th>\n",
              "      <td>5</td>\n",
              "      <td>application_{train|test}.csv</td>\n",
              "      <td>NAME_CONTRACT_TYPE</td>\n",
              "      <td>Identification if loan is cash or revolving</td>\n",
              "      <td>NaN</td>\n",
              "    </tr>\n",
              "    <tr>\n",
              "      <th>3</th>\n",
              "      <td>6</td>\n",
              "      <td>application_{train|test}.csv</td>\n",
              "      <td>CODE_GENDER</td>\n",
              "      <td>Gender of the client</td>\n",
              "      <td>NaN</td>\n",
              "    </tr>\n",
              "    <tr>\n",
              "      <th>4</th>\n",
              "      <td>7</td>\n",
              "      <td>application_{train|test}.csv</td>\n",
              "      <td>FLAG_OWN_CAR</td>\n",
              "      <td>Flag if the client owns a car</td>\n",
              "      <td>NaN</td>\n",
              "    </tr>\n",
              "  </tbody>\n",
              "</table>\n",
              "</div>"
            ],
            "text/plain": [
              "   Unnamed: 0                         Table                 Row  \\\n",
              "0           1  application_{train|test}.csv          SK_ID_CURR   \n",
              "1           2  application_{train|test}.csv              TARGET   \n",
              "2           5  application_{train|test}.csv  NAME_CONTRACT_TYPE   \n",
              "3           6  application_{train|test}.csv         CODE_GENDER   \n",
              "4           7  application_{train|test}.csv        FLAG_OWN_CAR   \n",
              "\n",
              "                                                                                           Description  \\\n",
              "0                                                                             ID of loan in our sample   \n",
              "1  Target variable (1 - client with payment difficulties: he/she had late payment more than X days ...   \n",
              "2                                                          Identification if loan is cash or revolving   \n",
              "3                                                                                 Gender of the client   \n",
              "4                                                                        Flag if the client owns a car   \n",
              "\n",
              "  Special  \n",
              "0     NaN  \n",
              "1     NaN  \n",
              "2     NaN  \n",
              "3     NaN  \n",
              "4     NaN  "
            ]
          },
          "execution_count": 12,
          "metadata": {},
          "output_type": "execute_result"
        }
      ],
      "source": [
        "def field_descriptions(data_dir=DATA_FOLDER, num_rows=1000):\n",
        "    df = pd.read_csv(f'{data_dir}/HomeCredit_columns_description.csv', nrows= num_rows, encoding= 'unicode_escape')\n",
        "    return df\n",
        "\n",
        "\n",
        "field_descriptions().head()"
      ]
    }
  ],
  "metadata": {
    "colab": {
      "collapsed_sections": [],
      "name": "P7_nettoyage.ipynb",
      "provenance": [],
      "toc_visible": true
    },
    "interpreter": {
      "hash": "9f161018c5e2fdb25091822214a6434325c4d2222b4c3ef81019bf1117201605"
    },
    "kernelspec": {
      "display_name": "Python 3.7.0 ('OC_3')",
      "language": "python",
      "name": "python3"
    },
    "language_info": {
      "codemirror_mode": {
        "name": "ipython",
        "version": 3
      },
      "file_extension": ".py",
      "mimetype": "text/x-python",
      "name": "python",
      "nbconvert_exporter": "python",
      "pygments_lexer": "ipython3",
      "version": "3.7.0"
    }
  },
  "nbformat": 4,
  "nbformat_minor": 0
}
