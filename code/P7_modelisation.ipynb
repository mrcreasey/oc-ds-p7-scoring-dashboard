{
 "cells": [
  {
   "cell_type": "markdown",
   "metadata": {
    "id": "DFji9bO_eJMR"
   },
   "source": [
    "# Implémentez un modèle de scoring\n",
    "\n",
    "- **Projet 7 du parcours « Data Scientist » d’OpenClassrooms**\n",
    "- **Mark Creasey**\n",
    "\n",
    "## Étape 2 : Modélisation\n"
   ]
  },
  {
   "cell_type": "markdown",
   "metadata": {},
   "source": [
    "## 1.1 Compréhension du problème\n",
    "\n",
    "### 1.1.1 Problématique\n",
    "\n",
    "La société financière, nommée **\"Prêt à dépenser\"**, propose des crédits à la consommation pour des\n",
    "personnes ayant peu ou pas du tout d'historique de prêt.\n",
    "\n",
    "L’entreprise souhaite mettre en œuvre **un outil de “scoring crédit”** pour calculer la qu’un client\n",
    "rembourse son crédit, puis classifie la demande en crédit accordé ou refusé. Elle souhaite donc\n",
    "développer **un algorithme de classification** en s’appuyant sur des sources de données variées (données\n",
    "comportementales, données provenant d'autres institutions financières, etc.).\n",
    "\n",
    "### 1.1.2 Les données\n",
    "\n",
    "Voici [les données](https://www.kaggle.com/c/home-credit-default-risk/data) pour réaliser le\n",
    "dashboard. Pour plus de simplicité, vous pouvez les télécharger à\n",
    "[cette adresse](https://s3-eu-west-1.amazonaws.com/static.oc-static.com/prod/courses/files/Parcours_data_scientist/Projet+-+Impl%C3%A9menter+un+mod%C3%A8le+de+scoring/Projet+Mise+en+prod+-+home-credit-default-risk.zip).\n",
    "\n",
    "### 1.1.1 Mission\n",
    "\n",
    "- Sélectionner un kernel Kaggle pour faciliter la préparation des données nécessaires à l’élaboration du modèle de scoring.\n",
    "- Analyser ce kernel et l’adapter aux besoins de votre mission.\n",
    "\n",
    "Focalise sur :\n",
    "\n",
    "1. La construction d'un **modèle de scoring** qui donnera une prédiction sur la probabilité de faillite\n",
    "   d'un client de façon automatique.\n",
    "   - élaboration\n",
    "   - optimisation\n",
    "   - comprehension (interpretabilité)\n",
    "2. Construction d'un **dashboard interactif** qui montre avec transparence les décisions d’octroi de\n",
    "   crédit, à destination des gestionnaires de la relation client permettant d'interpréter les\n",
    "   prédictions faites par le modèle et d’améliorer la connaissance client des chargés de relation\n",
    "   client.\n"
   ]
  },
  {
   "cell_type": "markdown",
   "metadata": {
    "id": "wM6z7uUfebpT"
   },
   "source": [
    "## 1.2 Definition de l'environnement\n",
    "\n",
    "- `local` : Développement local (avec échantillon de 50 Mo de données)\n",
    "- `colab` : Google Colab\n",
    "- `kaggle` : Kaggle Kernel\n"
   ]
  },
  {
   "cell_type": "code",
   "execution_count": 1,
   "metadata": {
    "colab": {
     "base_uri": "https://localhost:8080/"
    },
    "id": "EMeZBFf2eTfz",
    "outputId": "2657b460-a736-4de6-de5f-1bf9ceb1ea36"
   },
   "outputs": [],
   "source": [
    "ENV = 'local'\n",
    "\n",
    "if ENV == 'local':\n",
    "    # local development\n",
    "    DATA_FOLDER = '../data/raw'\n",
    "    OUT_FOLDER = '../data/out'\n",
    "    IMAGE_FOLDER = '../images/modelisation'\n",
    "\n",
    "if ENV == 'colab':\n",
    "    # Colaboratory - uncomment les 2 lignes suivant pour connecter à votre drive\n",
    "    # from google.colab import drive\n",
    "    # drive.mount('/content/drive')\n",
    "    DATA_FOLDER = '/content/drive/MyDrive/data/OC7'\n",
    "    OUT_FOLDER = '/content/drive/MyDrive/data/OC7'\n",
    "    IMAGE_FOLDER = '/content/drive/MyDrive/images/OC7/modelisation'\n"
   ]
  },
  {
   "cell_type": "markdown",
   "metadata": {
    "id": "HvnInn3XfWQ2"
   },
   "source": [
    "## 1.3 Fichiers de données\n",
    "\n",
    "1. Les données en format CSV (>700Mb compactés) sont à télecharger de ce lien:\n",
    "\n",
    "- https://www.kaggle.com/c/home-credit-default-risk/data\n",
    "- Pour plus de simplicité, vous pouvez les télécharger à [cette adresse.](https://s3-eu-west-1.amazonaws.com/static.oc-static.com/prod/courses/files/Parcours_data_scientist/Projet+-+Impl%C3%A9menter+un+mod%C3%A8le+de+scoring/Projet+Mise+en+prod+-+home-credit-default-risk.zip)\n",
    "\n",
    "2.  Placer le fichier compacté (**.zip**) dans le **DATA_FOLDER** défini ci-dessous\n"
   ]
  },
  {
   "cell_type": "markdown",
   "metadata": {
    "id": "ELwbVYvAgSMU"
   },
   "source": [
    "### Noms des fichiers de données (identique pour nettoyage et l'analyse exploratoire)\n",
    "\n",
    "- Le grand fichier zip des données doit être placé dans `DATA_FOLDER` au préalable\n",
    "- Tous les autres fichiers de données sont téléchargés ou crées pendant le nettoyage, puis enregistrés dans `OUT_FOLDER`\n"
   ]
  },
  {
   "cell_type": "code",
   "execution_count": 2,
   "metadata": {
    "id": "F_iJnVSEfKma"
   },
   "outputs": [],
   "source": [
    "# Données (DATA_FOLDER)\n",
    "ZIPPED_DATA_FILENAME = f'Projet+Mise+en+prod+-+home-credit-default-risk.zip'\n",
    "RAW_DATA_FILENAME = 'HomeCredit_columns_description.csv'\n",
    "SAMPLE_DATA_FILENAME = 'HomeCredit_columns_description.csv'\n",
    "\n",
    "\n",
    "# Données nettoyés (OUT_FOLDER)\n",
    "CLEAN_DATA_FILENAME = 'cleaned_data_scoring.csv'\n",
    "CLEAN_DATA_SAMPLE = 'cleaned_data_sample.csv'  # 100,000 registres\n",
    "CLEAN_DATA_FEATURES = 'cleaned_data_features.csv'  # 100 meilleur features\n",
    "SAMPLE_SIZE = 10000\n"
   ]
  },
  {
   "cell_type": "markdown",
   "metadata": {
    "id": "aMFxPWtagxDT"
   },
   "source": [
    "## 1.4 Requirements: Bibliothèques utilisées dans ce notebook\n",
    "\n",
    "Ce notebook marche a été testé en developpement local, sur Google Colab et Kaggle\n",
    "\n",
    "```txt\n",
    "# copy dans un fichier requirements.txt, puis\n",
    "# !pip install -r requirements.txt\n",
    "```\n"
   ]
  },
  {
   "cell_type": "code",
   "execution_count": 3,
   "metadata": {
    "id": "pIP-XhqSgyC_"
   },
   "outputs": [],
   "source": [
    "# Decommentarise la ligne suivant si vous ne voulez pas changer vos versions existants\n",
    "# !pip install numpy pandas matplotlib seaborn scipy sklearn missingno requests\n"
   ]
  },
  {
   "cell_type": "code",
   "execution_count": 4,
   "metadata": {
    "colab": {
     "base_uri": "https://localhost:8080/"
    },
    "id": "kvsIMU0Ihglo",
    "outputId": "dee247f2-f59d-4167-c0fc-922e84b453fe"
   },
   "outputs": [
    {
     "name": "stdout",
     "output_type": "stream",
     "text": [
      "required modules: ['numpy', 'pandas', 'matplotlib', 'sklearn', 'seaborn']\n",
      "missing modules: []\n"
     ]
    }
   ],
   "source": [
    "# import local functions\n",
    "import outils_io\n",
    "outils_io.install_libraries({'numpy', 'pandas', 'matplotlib',\n",
    "                             'seaborn', 'sklearn'})\n"
   ]
  },
  {
   "cell_type": "markdown",
   "metadata": {
    "id": "s8kXrZGCg6h1"
   },
   "source": [
    "## 1.5 Import dependencies\n"
   ]
  },
  {
   "cell_type": "markdown",
   "metadata": {
    "id": "KPt54cG5g7Up"
   },
   "source": [
    "### 1.5.1 Import des bibliothèques utilisées par ce notebook\n"
   ]
  },
  {
   "cell_type": "code",
   "execution_count": 5,
   "metadata": {
    "id": "XtukhHGIg-Ag"
   },
   "outputs": [],
   "source": [
    "# suppress furture warnings de pandas 1.3.0\n",
    "from contextlib import contextmanager\n",
    "import time as time_module\n",
    "import gc\n",
    "import os\n",
    "import warnings\n",
    "import platform\n",
    "warnings.simplefilter(action='ignore', category=FutureWarning)\n"
   ]
  },
  {
   "cell_type": "code",
   "execution_count": 6,
   "metadata": {},
   "outputs": [],
   "source": [
    "import sklearn\n",
    "import seaborn as sns\n",
    "import pandas as pd\n",
    "import numpy as np\n",
    "import matplotlib.pyplot as plt\n",
    "\n",
    "# feature preprocessing\n",
    "from sklearn import impute\n",
    "from sklearn import preprocessing\n",
    "\n",
    "# feature et parameter selection\n",
    "from sklearn.model_selection import train_test_split, GridSearchCV\n",
    "\n",
    "# Sampling (SMOTE : Synthetic Minority Oversampling TEchnique)\n",
    "from imblearn import pipeline as imbpipeline\n",
    "from imblearn.over_sampling import SMOTE, RandomOverSampler\n",
    "from imblearn.under_sampling import RandomUnderSampler, TomekLinks\n",
    "from imblearn.combine import SMOTETomek\n",
    "\n",
    "# metrics de performance\n",
    "from sklearn import metrics\n",
    "from sklearn.metrics import make_scorer, roc_auc_score\n",
    "\n",
    "\n",
    "# Candidate models\n",
    "from sklearn.base import BaseEstimator\n",
    "from sklearn.dummy import DummyClassifier\n",
    "from sklearn.linear_model import RidgeClassifier\n",
    "from sklearn.linear_model import LogisticRegression\n",
    "from sklearn.naive_bayes import GaussianNB\n",
    "from sklearn.svm import LinearSVC\n",
    "from sklearn.ensemble import RandomForestClassifier\n",
    "from sklearn.ensemble import AdaBoostClassifier\n",
    "from lightgbm import LGBMClassifier\n"
   ]
  },
  {
   "cell_type": "markdown",
   "metadata": {
    "id": "FhE8BZ1ihG2I"
   },
   "source": [
    "### 1.5.2 Liste des versions des bibliothèques utilisées\n"
   ]
  },
  {
   "cell_type": "code",
   "execution_count": 7,
   "metadata": {
    "colab": {
     "base_uri": "https://localhost:8080/"
    },
    "id": "FJXh67-FhIwI",
    "outputId": "cf659d51-6099-46fb-c9fb-56d2067fe4a6"
   },
   "outputs": [
    {
     "name": "stdout",
     "output_type": "stream",
     "text": [
      "python version = 3.7.0\n",
      "versions des bibliothèques utilisées:\n",
      "platform==1.0.8; sklearn==1.0.2; seaborn==0.11.2; pandas==1.1.5; numpy==1.21.5\n"
     ]
    }
   ],
   "source": [
    "print(f'python version = {platform.python_version()}')\n",
    "print('versions des bibliothèques utilisées:')\n",
    "print('; '.join(f'{m.__name__}=={m.__version__}' for m in globals(\n",
    ").values() if getattr(m, '__version__', None)))\n"
   ]
  },
  {
   "cell_type": "markdown",
   "metadata": {
    "id": "5f04qBPghSsr"
   },
   "source": [
    "### 1.5.3 Configuration défauts d'affichage\n"
   ]
  },
  {
   "cell_type": "code",
   "execution_count": 8,
   "metadata": {
    "id": "mIoSzAqXhMEV"
   },
   "outputs": [],
   "source": [
    "from sklearn import set_config\n",
    "pd.set_option('display.max_columns', 200)  # pour afficher toutes les colonnes\n",
    "pd.set_option('display.max_rows', 20)  # pour afficher max 20 lignes\n",
    "pd.set_option('display.max_colwidth', 800)\n",
    "\n",
    "%matplotlib inline\n",
    "sns.set_theme(style=\"white\", context=\"notebook\")\n",
    "sns.set_color_codes(\"pastel\")\n",
    "sns.set_palette(\"tab20\")\n",
    "\n",
    "set_config(display='diagram')\n",
    "# displays HTML representation in a jupyter context\n"
   ]
  },
  {
   "cell_type": "markdown",
   "metadata": {},
   "source": [
    "### Bibliothèque personelle\n",
    "\n",
    "On utilise un nom non standard\n"
   ]
  },
  {
   "cell_type": "code",
   "execution_count": 9,
   "metadata": {},
   "outputs": [],
   "source": [
    "import outils_io\n",
    "import outils_preprocess\n",
    "import outils_stats\n",
    "import outils_timed\n",
    "import outils_vis\n",
    "\n",
    "# frequently used functions\n",
    "from outils_vis import to_png\n",
    "from outils_timed import timer\n"
   ]
  },
  {
   "cell_type": "markdown",
   "metadata": {},
   "source": [
    "### Configuration personelle\n"
   ]
  },
  {
   "cell_type": "code",
   "execution_count": 10,
   "metadata": {},
   "outputs": [],
   "source": [
    "\n",
    "# Enregistre parametres globals dans outils\n",
    "outils_vis.set_option('IMAGE_FOLDER', IMAGE_FOLDER)\n",
    "outils_vis.set_option('SAVE_IMAGES', True)\n",
    "\n",
    "if ENV != 'kaggle':\n",
    "    outils_io.os_make_dir(DATA_FOLDER)\n",
    "    outils_io.os_make_dir(OUT_FOLDER)\n",
    "\n",
    "outils_io.os_make_dir(IMAGE_FOLDER)\n",
    "\n",
    "RANDOM_SEED = 42\n"
   ]
  },
  {
   "cell_type": "markdown",
   "metadata": {},
   "source": [
    "## Fonctions utilitaires\n"
   ]
  },
  {
   "cell_type": "markdown",
   "metadata": {},
   "source": [
    "### Test si un séries est log scale\n",
    "\n",
    "- utilisé pour l'échelle des validation curves des hyperparamètres\n"
   ]
  },
  {
   "cell_type": "code",
   "execution_count": 11,
   "metadata": {},
   "outputs": [
    {
     "name": "stdout",
     "output_type": "stream",
     "text": [
      "False\n",
      "False\n",
      "True\n"
     ]
    }
   ],
   "source": [
    "# import numpy as np\n",
    "def is_log_scale(series):\n",
    "    \"\"\"Test si series est log scale\"\"\"\n",
    "    try:\n",
    "        if isinstance(series, pd.Series):\n",
    "            series = series.values\n",
    "        # suppose les valeurs au fin sont plus grand\n",
    "        dif1 = series[-1] / series[-2]\n",
    "        dif2 = series[-2] / series[-3]\n",
    "        return round(dif1/dif2, 2) == 1.\n",
    "    except:\n",
    "        return False\n",
    "\n",
    "\n",
    "print(is_log_scale([0, 1]))\n",
    "print(is_log_scale(range(1, 10)))\n",
    "print(is_log_scale(np.logspace(2, 8, 10)))\n"
   ]
  },
  {
   "cell_type": "code",
   "execution_count": 12,
   "metadata": {},
   "outputs": [],
   "source": [
    "import math\n",
    "\n",
    "\n",
    "def round_digits(a_number, significant_digits=2):\n",
    "    # https://stackoverflow.com/questions/374316/round-a-double-to-x-significant-figures\n",
    "    return round(a_number, significant_digits - int(math.floor(math.log10(abs(a_number)))) - 1)\n"
   ]
  },
  {
   "cell_type": "code",
   "execution_count": 13,
   "metadata": {},
   "outputs": [],
   "source": [
    "# import time as time_module\n",
    "def get_time():\n",
    "    \"\"\"\n",
    "    return time now, without errors caused by references to time everywhere\n",
    "    \"\"\"\n",
    "    now = time_module.time()\n",
    "    return now\n"
   ]
  },
  {
   "cell_type": "code",
   "execution_count": 75,
   "metadata": {},
   "outputs": [],
   "source": [
    "def add_text(ax, x, y, s, **kwargs):\n",
    "    \"\"\"Ajouter du texte à un plot\"\"\"\n",
    "    ax.text(x, y, s,\n",
    "            verticalalignment='bottom', horizontalalignment='left',\n",
    "            transform=ax.transAxes, **kwargs)"
   ]
  },
  {
   "cell_type": "markdown",
   "metadata": {},
   "source": [
    "# Import des données nettoyés\n"
   ]
  },
  {
   "cell_type": "code",
   "execution_count": 14,
   "metadata": {},
   "outputs": [
    {
     "name": "stdout",
     "output_type": "stream",
     "text": [
      "Load cleaned data - done in 0s\n"
     ]
    }
   ],
   "source": [
    "# Set SAMPLE=True for Rapid Development\n",
    "SAMPLE = True\n",
    "\n",
    "full_data_path = f'{OUT_FOLDER}/{CLEAN_DATA_FILENAME}'  # > 700 variables\n",
    "best_data_path = f'{OUT_FOLDER}/{CLEAN_DATA_FEATURES}'  # les top 100 features\n",
    "# echantillon pour developpement rapide\n",
    "sample_data_path = f'{OUT_FOLDER}/{CLEAN_DATA_SAMPLE}'\n",
    "\n",
    "cleaned_data_path = sample_data_path if SAMPLE else best_data_path\n",
    "with timer('Load cleaned data'):\n",
    "    df_data = pd.read_csv(cleaned_data_path)\n"
   ]
  },
  {
   "cell_type": "code",
   "execution_count": 15,
   "metadata": {},
   "outputs": [
    {
     "name": "stdout",
     "output_type": "stream",
     "text": [
      "Initial df memory usage is 6.49 MB for 85 columns\n",
      "Final memory usage is: 1.88 MB - decreased by 71.0%\n",
      "Reduce memory - done in 0s\n"
     ]
    }
   ],
   "source": [
    "with timer('Reduce memory'):\n",
    "    df_data = outils_preprocess.reduce_memory(df_data)\n"
   ]
  },
  {
   "cell_type": "markdown",
   "metadata": {},
   "source": [
    "## Create X (fields), y (target)\n"
   ]
  },
  {
   "cell_type": "code",
   "execution_count": 16,
   "metadata": {},
   "outputs": [
    {
     "name": "stdout",
     "output_type": "stream",
     "text": [
      "(10000, 83)\n",
      "(10000,)\n"
     ]
    }
   ],
   "source": [
    "def create_X_y(df: pd.DataFrame):\n",
    "    target = df['TARGET'].copy()\n",
    "    fields = df.drop(columns=['TARGET', 'SK_ID_CURR'])\n",
    "    return fields, target\n",
    "\n",
    "\n",
    "X, y = create_X_y(df_data)\n",
    "print(X.shape)\n",
    "print(y.shape)\n"
   ]
  },
  {
   "cell_type": "code",
   "execution_count": 17,
   "metadata": {},
   "outputs": [
    {
     "name": "stdout",
     "output_type": "stream",
     "text": [
      "(1000, 83)\n",
      "(1000,)\n"
     ]
    }
   ],
   "source": [
    "def sample_data(df_x: pd.DataFrame, y_: pd.Series, nb=1000):\n",
    "    \"\"\"\n",
    "    Obtenir un échantillon de X et y pour des statistiques\n",
    "    pour eviter d'alourdir la traitement\n",
    "    \"\"\"\n",
    "    nb = min(nb, len(df_x))\n",
    "    target = y_.name\n",
    "    df_x = df_x.join(y_)\n",
    "    df_sample = df_x.sample(n=nb)\n",
    "    y_sample = df_sample[target]\n",
    "    x_sample = df_sample.drop(columns=target)\n",
    "    return x_sample, y_sample\n",
    "\n",
    "\n",
    "# test\n",
    "x_sample, y_sample = sample_data(X, y)\n",
    "print(x_sample.shape)\n",
    "print(y_sample.shape)\n",
    "\n",
    "# del x_sample,y_sample\n"
   ]
  },
  {
   "cell_type": "code",
   "execution_count": 18,
   "metadata": {},
   "outputs": [
    {
     "name": "stdout",
     "output_type": "stream",
     "text": [
      "[0 1]\n"
     ]
    }
   ],
   "source": [
    "TARGET_CLASSES = ['0=repaid', '1=not repaid']\n",
    "le = preprocessing.LabelEncoder()\n",
    "target_classes = le.fit_transform(TARGET_CLASSES)\n",
    "print(target_classes)\n"
   ]
  },
  {
   "cell_type": "markdown",
   "metadata": {},
   "source": [
    "## Division en jeux de données d'entraînement et de test\n",
    "\n",
    "Avant d'encoder les variables catégoriques, et normaliser les variables, il faut diviser entre données d'entrainement et test, pour éviter 'data leakage' :\n",
    "\n",
    "- Entrainement sur les données train\n",
    "- Utilise les jeux de données test pour simuler des nouvelles observations (donc aucun partage de connaissance entre données train et test)\n",
    "\n",
    "Pour division entre données d'entrainement et test, on a plusieurs stratégies :\n",
    "\n",
    "- une division aléatoire (ex 80% entrainement, 20% test) : Mais on risque de mettre beaucoup de créer de bias dans le jeu d'entrainement si il n'est pas répresentatif des classes à prédire\n",
    "\n",
    "- stratification : Essayer de garantie que le jeu de données d'entrainement ont le même distribution de classes cibles\n",
    "\n",
    "#### Références\n",
    "\n",
    "- <https://scikit-learn.org/stable/common_pitfalls.html#data-leakage>\n",
    "- <https://scikit-learn.org/stable/modules/generated/sklearn.model_selection.train_test_split.html>\n",
    "- <https://towardsdatascience.com/how-to-master-the-subtle-art-of-train-test-set-generation-7a8408bcd578>\n"
   ]
  },
  {
   "cell_type": "code",
   "execution_count": 19,
   "metadata": {},
   "outputs": [],
   "source": [
    "# Split the data into train and test sets\n",
    "x_train, x_test, y_train, y_test = train_test_split(\n",
    "    X, y, stratify=y, test_size=0.2, random_state=RANDOM_SEED)\n"
   ]
  },
  {
   "cell_type": "markdown",
   "metadata": {},
   "source": [
    "Verifier que la stratification a produit l'effet désiré :\n"
   ]
  },
  {
   "cell_type": "code",
   "execution_count": 20,
   "metadata": {},
   "outputs": [
    {
     "name": "stdout",
     "output_type": "stream",
     "text": [
      "0    0.91725\n",
      "1    0.08275\n",
      "Name: TARGET, dtype: float64\n",
      "0    0.9175\n",
      "1    0.0825\n",
      "Name: TARGET, dtype: float64\n"
     ]
    }
   ],
   "source": [
    "print(y_train.value_counts(normalize=True))\n",
    "print(y_test.value_counts(normalize=True))\n"
   ]
  },
  {
   "cell_type": "markdown",
   "metadata": {},
   "source": [
    "# Preprocessing de données\n",
    "\n",
    "On crée un preprocessor pour pouvoir ajuster les paramètres de preprocessing\n"
   ]
  },
  {
   "cell_type": "code",
   "execution_count": 21,
   "metadata": {},
   "outputs": [
    {
     "name": "stdout",
     "output_type": "stream",
     "text": [
      "numerical_features : 83\n",
      "category_features : 0\n",
      "target_features : TARGET\n"
     ]
    }
   ],
   "source": [
    "from sklearn.compose import make_column_selector\n",
    "\n",
    "cat_selector = make_column_selector(dtype_include=object)\n",
    "num_selector = make_column_selector(dtype_include=np.number)\n",
    "\n",
    "category_features = cat_selector(x_train)\n",
    "numerical_features = num_selector(x_train)\n",
    "target_features = y_train.name\n",
    "\n",
    "print(f'numerical_features : {len(numerical_features)}')\n",
    "print(f'category_features : {len(category_features)}')\n",
    "print(f'target_features : {target_features}')\n"
   ]
  },
  {
   "cell_type": "code",
   "execution_count": 22,
   "metadata": {},
   "outputs": [
    {
     "data": {
      "text/html": [
       "<style>#sk-09396eef-f855-4962-b1f1-23482ac1730d {color: black;background-color: white;}#sk-09396eef-f855-4962-b1f1-23482ac1730d pre{padding: 0;}#sk-09396eef-f855-4962-b1f1-23482ac1730d div.sk-toggleable {background-color: white;}#sk-09396eef-f855-4962-b1f1-23482ac1730d label.sk-toggleable__label {cursor: pointer;display: block;width: 100%;margin-bottom: 0;padding: 0.3em;box-sizing: border-box;text-align: center;}#sk-09396eef-f855-4962-b1f1-23482ac1730d label.sk-toggleable__label-arrow:before {content: \"▸\";float: left;margin-right: 0.25em;color: #696969;}#sk-09396eef-f855-4962-b1f1-23482ac1730d label.sk-toggleable__label-arrow:hover:before {color: black;}#sk-09396eef-f855-4962-b1f1-23482ac1730d div.sk-estimator:hover label.sk-toggleable__label-arrow:before {color: black;}#sk-09396eef-f855-4962-b1f1-23482ac1730d div.sk-toggleable__content {max-height: 0;max-width: 0;overflow: hidden;text-align: left;background-color: #f0f8ff;}#sk-09396eef-f855-4962-b1f1-23482ac1730d div.sk-toggleable__content pre {margin: 0.2em;color: black;border-radius: 0.25em;background-color: #f0f8ff;}#sk-09396eef-f855-4962-b1f1-23482ac1730d input.sk-toggleable__control:checked~div.sk-toggleable__content {max-height: 200px;max-width: 100%;overflow: auto;}#sk-09396eef-f855-4962-b1f1-23482ac1730d input.sk-toggleable__control:checked~label.sk-toggleable__label-arrow:before {content: \"▾\";}#sk-09396eef-f855-4962-b1f1-23482ac1730d div.sk-estimator input.sk-toggleable__control:checked~label.sk-toggleable__label {background-color: #d4ebff;}#sk-09396eef-f855-4962-b1f1-23482ac1730d div.sk-label input.sk-toggleable__control:checked~label.sk-toggleable__label {background-color: #d4ebff;}#sk-09396eef-f855-4962-b1f1-23482ac1730d input.sk-hidden--visually {border: 0;clip: rect(1px 1px 1px 1px);clip: rect(1px, 1px, 1px, 1px);height: 1px;margin: -1px;overflow: hidden;padding: 0;position: absolute;width: 1px;}#sk-09396eef-f855-4962-b1f1-23482ac1730d div.sk-estimator {font-family: monospace;background-color: #f0f8ff;border: 1px dotted black;border-radius: 0.25em;box-sizing: border-box;margin-bottom: 0.5em;}#sk-09396eef-f855-4962-b1f1-23482ac1730d div.sk-estimator:hover {background-color: #d4ebff;}#sk-09396eef-f855-4962-b1f1-23482ac1730d div.sk-parallel-item::after {content: \"\";width: 100%;border-bottom: 1px solid gray;flex-grow: 1;}#sk-09396eef-f855-4962-b1f1-23482ac1730d div.sk-label:hover label.sk-toggleable__label {background-color: #d4ebff;}#sk-09396eef-f855-4962-b1f1-23482ac1730d div.sk-serial::before {content: \"\";position: absolute;border-left: 1px solid gray;box-sizing: border-box;top: 2em;bottom: 0;left: 50%;}#sk-09396eef-f855-4962-b1f1-23482ac1730d div.sk-serial {display: flex;flex-direction: column;align-items: center;background-color: white;padding-right: 0.2em;padding-left: 0.2em;}#sk-09396eef-f855-4962-b1f1-23482ac1730d div.sk-item {z-index: 1;}#sk-09396eef-f855-4962-b1f1-23482ac1730d div.sk-parallel {display: flex;align-items: stretch;justify-content: center;background-color: white;}#sk-09396eef-f855-4962-b1f1-23482ac1730d div.sk-parallel::before {content: \"\";position: absolute;border-left: 1px solid gray;box-sizing: border-box;top: 2em;bottom: 0;left: 50%;}#sk-09396eef-f855-4962-b1f1-23482ac1730d div.sk-parallel-item {display: flex;flex-direction: column;position: relative;background-color: white;}#sk-09396eef-f855-4962-b1f1-23482ac1730d div.sk-parallel-item:first-child::after {align-self: flex-end;width: 50%;}#sk-09396eef-f855-4962-b1f1-23482ac1730d div.sk-parallel-item:last-child::after {align-self: flex-start;width: 50%;}#sk-09396eef-f855-4962-b1f1-23482ac1730d div.sk-parallel-item:only-child::after {width: 0;}#sk-09396eef-f855-4962-b1f1-23482ac1730d div.sk-dashed-wrapped {border: 1px dashed gray;margin: 0 0.4em 0.5em 0.4em;box-sizing: border-box;padding-bottom: 0.4em;background-color: white;position: relative;}#sk-09396eef-f855-4962-b1f1-23482ac1730d div.sk-label label {font-family: monospace;font-weight: bold;background-color: white;display: inline-block;line-height: 1.2em;}#sk-09396eef-f855-4962-b1f1-23482ac1730d div.sk-label-container {position: relative;z-index: 2;text-align: center;}#sk-09396eef-f855-4962-b1f1-23482ac1730d div.sk-container {/* jupyter's `normalize.less` sets `[hidden] { display: none; }` but bootstrap.min.css set `[hidden] { display: none !important; }` so we also need the `!important` here to be able to override the default hidden behavior on the sphinx rendered scikit-learn.org. See: https://github.com/scikit-learn/scikit-learn/issues/21755 */display: inline-block !important;position: relative;}#sk-09396eef-f855-4962-b1f1-23482ac1730d div.sk-text-repr-fallback {display: none;}</style><div id=\"sk-09396eef-f855-4962-b1f1-23482ac1730d\" class=\"sk-top-container\"><div class=\"sk-text-repr-fallback\"><pre>ColumnTransformer(remainder=&#x27;passthrough&#x27;,\n",
       "                  transformers=[(&#x27;num&#x27;,\n",
       "                                 Pipeline(steps=[(&#x27;imputer&#x27;,\n",
       "                                                  SimpleImputer(strategy=&#x27;median&#x27;)),\n",
       "                                                 (&#x27;scaler&#x27;, StandardScaler())]),\n",
       "                                 &lt;sklearn.compose._column_transformer.make_column_selector object at 0x0000021FCF158978&gt;),\n",
       "                                (&#x27;cat&#x27;,\n",
       "                                 Pipeline(steps=[(&#x27;imputer&#x27;,\n",
       "                                                  SimpleImputer(fill_value=&#x27;missing&#x27;,\n",
       "                                                                strategy=&#x27;constant&#x27;)),\n",
       "                                                 (&#x27;encoding&#x27;,\n",
       "                                                  OneHotEncoder(dtype=&lt;class &#x27;int&#x27;&gt;,\n",
       "                                                                handle_unknown=&#x27;ignore&#x27;))]),\n",
       "                                 &lt;sklearn.compose._column_transformer.make_column_selector object at 0x0000021FDA7017B8&gt;)])</pre><b>Please rerun this cell to show the HTML repr or trust the notebook.</b></div><div class=\"sk-container\" hidden><div class=\"sk-item sk-dashed-wrapped\"><div class=\"sk-label-container\"><div class=\"sk-label sk-toggleable\"><input class=\"sk-toggleable__control sk-hidden--visually\" id=\"e8d19afd-c323-41fd-9445-096561b0c4f6\" type=\"checkbox\" ><label for=\"e8d19afd-c323-41fd-9445-096561b0c4f6\" class=\"sk-toggleable__label sk-toggleable__label-arrow\">ColumnTransformer</label><div class=\"sk-toggleable__content\"><pre>ColumnTransformer(remainder=&#x27;passthrough&#x27;,\n",
       "                  transformers=[(&#x27;num&#x27;,\n",
       "                                 Pipeline(steps=[(&#x27;imputer&#x27;,\n",
       "                                                  SimpleImputer(strategy=&#x27;median&#x27;)),\n",
       "                                                 (&#x27;scaler&#x27;, StandardScaler())]),\n",
       "                                 &lt;sklearn.compose._column_transformer.make_column_selector object at 0x0000021FCF158978&gt;),\n",
       "                                (&#x27;cat&#x27;,\n",
       "                                 Pipeline(steps=[(&#x27;imputer&#x27;,\n",
       "                                                  SimpleImputer(fill_value=&#x27;missing&#x27;,\n",
       "                                                                strategy=&#x27;constant&#x27;)),\n",
       "                                                 (&#x27;encoding&#x27;,\n",
       "                                                  OneHotEncoder(dtype=&lt;class &#x27;int&#x27;&gt;,\n",
       "                                                                handle_unknown=&#x27;ignore&#x27;))]),\n",
       "                                 &lt;sklearn.compose._column_transformer.make_column_selector object at 0x0000021FDA7017B8&gt;)])</pre></div></div></div><div class=\"sk-parallel\"><div class=\"sk-parallel-item\"><div class=\"sk-item\"><div class=\"sk-label-container\"><div class=\"sk-label sk-toggleable\"><input class=\"sk-toggleable__control sk-hidden--visually\" id=\"9620d34c-b87d-4ebe-9304-944f0eb323f7\" type=\"checkbox\" ><label for=\"9620d34c-b87d-4ebe-9304-944f0eb323f7\" class=\"sk-toggleable__label sk-toggleable__label-arrow\">num</label><div class=\"sk-toggleable__content\"><pre>&lt;sklearn.compose._column_transformer.make_column_selector object at 0x0000021FCF158978&gt;</pre></div></div></div><div class=\"sk-serial\"><div class=\"sk-item\"><div class=\"sk-serial\"><div class=\"sk-item\"><div class=\"sk-estimator sk-toggleable\"><input class=\"sk-toggleable__control sk-hidden--visually\" id=\"e7d9f3f9-cc13-4e7b-abfb-1ba77ae50429\" type=\"checkbox\" ><label for=\"e7d9f3f9-cc13-4e7b-abfb-1ba77ae50429\" class=\"sk-toggleable__label sk-toggleable__label-arrow\">SimpleImputer</label><div class=\"sk-toggleable__content\"><pre>SimpleImputer(strategy=&#x27;median&#x27;)</pre></div></div></div><div class=\"sk-item\"><div class=\"sk-estimator sk-toggleable\"><input class=\"sk-toggleable__control sk-hidden--visually\" id=\"3acad6c4-eb4d-403d-936f-091a674dc313\" type=\"checkbox\" ><label for=\"3acad6c4-eb4d-403d-936f-091a674dc313\" class=\"sk-toggleable__label sk-toggleable__label-arrow\">StandardScaler</label><div class=\"sk-toggleable__content\"><pre>StandardScaler()</pre></div></div></div></div></div></div></div></div><div class=\"sk-parallel-item\"><div class=\"sk-item\"><div class=\"sk-label-container\"><div class=\"sk-label sk-toggleable\"><input class=\"sk-toggleable__control sk-hidden--visually\" id=\"414a0dc1-4e08-4b2b-8d25-c8ca4dbb5347\" type=\"checkbox\" ><label for=\"414a0dc1-4e08-4b2b-8d25-c8ca4dbb5347\" class=\"sk-toggleable__label sk-toggleable__label-arrow\">cat</label><div class=\"sk-toggleable__content\"><pre>&lt;sklearn.compose._column_transformer.make_column_selector object at 0x0000021FDA7017B8&gt;</pre></div></div></div><div class=\"sk-serial\"><div class=\"sk-item\"><div class=\"sk-serial\"><div class=\"sk-item\"><div class=\"sk-estimator sk-toggleable\"><input class=\"sk-toggleable__control sk-hidden--visually\" id=\"2a98a008-2707-4e1d-8184-47ce40261cd3\" type=\"checkbox\" ><label for=\"2a98a008-2707-4e1d-8184-47ce40261cd3\" class=\"sk-toggleable__label sk-toggleable__label-arrow\">SimpleImputer</label><div class=\"sk-toggleable__content\"><pre>SimpleImputer(fill_value=&#x27;missing&#x27;, strategy=&#x27;constant&#x27;)</pre></div></div></div><div class=\"sk-item\"><div class=\"sk-estimator sk-toggleable\"><input class=\"sk-toggleable__control sk-hidden--visually\" id=\"97119cd1-f7ea-4de5-8415-1aada78ffac4\" type=\"checkbox\" ><label for=\"97119cd1-f7ea-4de5-8415-1aada78ffac4\" class=\"sk-toggleable__label sk-toggleable__label-arrow\">OneHotEncoder</label><div class=\"sk-toggleable__content\"><pre>OneHotEncoder(dtype=&lt;class &#x27;int&#x27;&gt;, handle_unknown=&#x27;ignore&#x27;)</pre></div></div></div></div></div></div></div></div><div class=\"sk-parallel-item\"><div class=\"sk-item\"><div class=\"sk-label-container\"><div class=\"sk-label sk-toggleable\"><input class=\"sk-toggleable__control sk-hidden--visually\" id=\"c556cea0-818a-4119-ab24-5f0c60ea498c\" type=\"checkbox\" ><label for=\"c556cea0-818a-4119-ab24-5f0c60ea498c\" class=\"sk-toggleable__label sk-toggleable__label-arrow\">remainder</label><div class=\"sk-toggleable__content\"><pre></pre></div></div></div><div class=\"sk-serial\"><div class=\"sk-item\"><div class=\"sk-estimator sk-toggleable\"><input class=\"sk-toggleable__control sk-hidden--visually\" id=\"cf07ff7a-6243-43db-ac1e-4e06cd910701\" type=\"checkbox\" ><label for=\"cf07ff7a-6243-43db-ac1e-4e06cd910701\" class=\"sk-toggleable__label sk-toggleable__label-arrow\">passthrough</label><div class=\"sk-toggleable__content\"><pre>passthrough</pre></div></div></div></div></div></div></div></div></div></div>"
      ],
      "text/plain": [
       "ColumnTransformer(remainder='passthrough',\n",
       "                  transformers=[('num',\n",
       "                                 Pipeline(steps=[('imputer',\n",
       "                                                  SimpleImputer(strategy='median')),\n",
       "                                                 ('scaler', StandardScaler())]),\n",
       "                                 <sklearn.compose._column_transformer.make_column_selector object at 0x0000021FCF158978>),\n",
       "                                ('cat',\n",
       "                                 Pipeline(steps=[('imputer',\n",
       "                                                  SimpleImputer(fill_value='missing',\n",
       "                                                                strategy='constant')),\n",
       "                                                 ('encoding',\n",
       "                                                  OneHotEncoder(dtype=<class 'int'>,\n",
       "                                                                handle_unknown='ignore'))]),\n",
       "                                 <sklearn.compose._column_transformer.make_column_selector object at 0x0000021FDA7017B8>)])"
      ]
     },
     "execution_count": 22,
     "metadata": {},
     "output_type": "execute_result"
    }
   ],
   "source": [
    "from sklearn.pipeline import Pipeline\n",
    "from sklearn.preprocessing import MinMaxScaler, StandardScaler, OneHotEncoder\n",
    "from sklearn.compose import ColumnTransformer\n",
    "from sklearn.impute import SimpleImputer\n",
    "\n",
    "\n",
    "def create_preprocessor(num_cols=num_selector, cat_cols=cat_selector):\n",
    "    \"\"\"Preprocessor \"\"\"\n",
    "    num_pipe = Pipeline(steps=[\n",
    "        ('imputer', SimpleImputer(strategy='median')),\n",
    "        ('scaler', StandardScaler())\n",
    "    ])\n",
    "    cat_pipe = Pipeline(steps=[\n",
    "        ('imputer', SimpleImputer(strategy='constant', fill_value='missing')),\n",
    "        ('encoding', OneHotEncoder(dtype=int, sparse=True, handle_unknown='ignore'))\n",
    "    ])\n",
    "    preprocessor = ColumnTransformer(transformers=[\n",
    "        ('num', num_pipe, num_cols),\n",
    "        ('cat', cat_pipe, cat_cols)\n",
    "    ],\n",
    "        remainder='passthrough')\n",
    "    return preprocessor\n",
    "\n",
    "\n",
    "preprocessor = create_preprocessor()\n",
    "preprocessor\n"
   ]
  },
  {
   "cell_type": "code",
   "execution_count": 23,
   "metadata": {},
   "outputs": [
    {
     "data": {
      "text/html": [
       "<style>#sk-8612ca8f-9e64-4ea1-8306-565ccef195d3 {color: black;background-color: white;}#sk-8612ca8f-9e64-4ea1-8306-565ccef195d3 pre{padding: 0;}#sk-8612ca8f-9e64-4ea1-8306-565ccef195d3 div.sk-toggleable {background-color: white;}#sk-8612ca8f-9e64-4ea1-8306-565ccef195d3 label.sk-toggleable__label {cursor: pointer;display: block;width: 100%;margin-bottom: 0;padding: 0.3em;box-sizing: border-box;text-align: center;}#sk-8612ca8f-9e64-4ea1-8306-565ccef195d3 label.sk-toggleable__label-arrow:before {content: \"▸\";float: left;margin-right: 0.25em;color: #696969;}#sk-8612ca8f-9e64-4ea1-8306-565ccef195d3 label.sk-toggleable__label-arrow:hover:before {color: black;}#sk-8612ca8f-9e64-4ea1-8306-565ccef195d3 div.sk-estimator:hover label.sk-toggleable__label-arrow:before {color: black;}#sk-8612ca8f-9e64-4ea1-8306-565ccef195d3 div.sk-toggleable__content {max-height: 0;max-width: 0;overflow: hidden;text-align: left;background-color: #f0f8ff;}#sk-8612ca8f-9e64-4ea1-8306-565ccef195d3 div.sk-toggleable__content pre {margin: 0.2em;color: black;border-radius: 0.25em;background-color: #f0f8ff;}#sk-8612ca8f-9e64-4ea1-8306-565ccef195d3 input.sk-toggleable__control:checked~div.sk-toggleable__content {max-height: 200px;max-width: 100%;overflow: auto;}#sk-8612ca8f-9e64-4ea1-8306-565ccef195d3 input.sk-toggleable__control:checked~label.sk-toggleable__label-arrow:before {content: \"▾\";}#sk-8612ca8f-9e64-4ea1-8306-565ccef195d3 div.sk-estimator input.sk-toggleable__control:checked~label.sk-toggleable__label {background-color: #d4ebff;}#sk-8612ca8f-9e64-4ea1-8306-565ccef195d3 div.sk-label input.sk-toggleable__control:checked~label.sk-toggleable__label {background-color: #d4ebff;}#sk-8612ca8f-9e64-4ea1-8306-565ccef195d3 input.sk-hidden--visually {border: 0;clip: rect(1px 1px 1px 1px);clip: rect(1px, 1px, 1px, 1px);height: 1px;margin: -1px;overflow: hidden;padding: 0;position: absolute;width: 1px;}#sk-8612ca8f-9e64-4ea1-8306-565ccef195d3 div.sk-estimator {font-family: monospace;background-color: #f0f8ff;border: 1px dotted black;border-radius: 0.25em;box-sizing: border-box;margin-bottom: 0.5em;}#sk-8612ca8f-9e64-4ea1-8306-565ccef195d3 div.sk-estimator:hover {background-color: #d4ebff;}#sk-8612ca8f-9e64-4ea1-8306-565ccef195d3 div.sk-parallel-item::after {content: \"\";width: 100%;border-bottom: 1px solid gray;flex-grow: 1;}#sk-8612ca8f-9e64-4ea1-8306-565ccef195d3 div.sk-label:hover label.sk-toggleable__label {background-color: #d4ebff;}#sk-8612ca8f-9e64-4ea1-8306-565ccef195d3 div.sk-serial::before {content: \"\";position: absolute;border-left: 1px solid gray;box-sizing: border-box;top: 2em;bottom: 0;left: 50%;}#sk-8612ca8f-9e64-4ea1-8306-565ccef195d3 div.sk-serial {display: flex;flex-direction: column;align-items: center;background-color: white;padding-right: 0.2em;padding-left: 0.2em;}#sk-8612ca8f-9e64-4ea1-8306-565ccef195d3 div.sk-item {z-index: 1;}#sk-8612ca8f-9e64-4ea1-8306-565ccef195d3 div.sk-parallel {display: flex;align-items: stretch;justify-content: center;background-color: white;}#sk-8612ca8f-9e64-4ea1-8306-565ccef195d3 div.sk-parallel::before {content: \"\";position: absolute;border-left: 1px solid gray;box-sizing: border-box;top: 2em;bottom: 0;left: 50%;}#sk-8612ca8f-9e64-4ea1-8306-565ccef195d3 div.sk-parallel-item {display: flex;flex-direction: column;position: relative;background-color: white;}#sk-8612ca8f-9e64-4ea1-8306-565ccef195d3 div.sk-parallel-item:first-child::after {align-self: flex-end;width: 50%;}#sk-8612ca8f-9e64-4ea1-8306-565ccef195d3 div.sk-parallel-item:last-child::after {align-self: flex-start;width: 50%;}#sk-8612ca8f-9e64-4ea1-8306-565ccef195d3 div.sk-parallel-item:only-child::after {width: 0;}#sk-8612ca8f-9e64-4ea1-8306-565ccef195d3 div.sk-dashed-wrapped {border: 1px dashed gray;margin: 0 0.4em 0.5em 0.4em;box-sizing: border-box;padding-bottom: 0.4em;background-color: white;position: relative;}#sk-8612ca8f-9e64-4ea1-8306-565ccef195d3 div.sk-label label {font-family: monospace;font-weight: bold;background-color: white;display: inline-block;line-height: 1.2em;}#sk-8612ca8f-9e64-4ea1-8306-565ccef195d3 div.sk-label-container {position: relative;z-index: 2;text-align: center;}#sk-8612ca8f-9e64-4ea1-8306-565ccef195d3 div.sk-container {/* jupyter's `normalize.less` sets `[hidden] { display: none; }` but bootstrap.min.css set `[hidden] { display: none !important; }` so we also need the `!important` here to be able to override the default hidden behavior on the sphinx rendered scikit-learn.org. See: https://github.com/scikit-learn/scikit-learn/issues/21755 */display: inline-block !important;position: relative;}#sk-8612ca8f-9e64-4ea1-8306-565ccef195d3 div.sk-text-repr-fallback {display: none;}</style><div id=\"sk-8612ca8f-9e64-4ea1-8306-565ccef195d3\" class=\"sk-top-container\"><div class=\"sk-text-repr-fallback\"><pre>Pipeline(steps=[(&#x27;preprocessor&#x27;,\n",
       "                 ColumnTransformer(transformers=[(&#x27;num&#x27;,\n",
       "                                                  Pipeline(steps=[(&#x27;imputer&#x27;,\n",
       "                                                                   SimpleImputer(strategy=&#x27;median&#x27;)),\n",
       "                                                                  (&#x27;simple_scale&#x27;,\n",
       "                                                                   StandardScaler())]),\n",
       "                                                  &lt;sklearn.compose._column_transformer.make_column_selector object at 0x0000021FCF158978&gt;)]))])</pre><b>Please rerun this cell to show the HTML repr or trust the notebook.</b></div><div class=\"sk-container\" hidden><div class=\"sk-item sk-dashed-wrapped\"><div class=\"sk-label-container\"><div class=\"sk-label sk-toggleable\"><input class=\"sk-toggleable__control sk-hidden--visually\" id=\"15089338-568e-4f14-a696-42202f8ad059\" type=\"checkbox\" ><label for=\"15089338-568e-4f14-a696-42202f8ad059\" class=\"sk-toggleable__label sk-toggleable__label-arrow\">Pipeline</label><div class=\"sk-toggleable__content\"><pre>Pipeline(steps=[(&#x27;preprocessor&#x27;,\n",
       "                 ColumnTransformer(transformers=[(&#x27;num&#x27;,\n",
       "                                                  Pipeline(steps=[(&#x27;imputer&#x27;,\n",
       "                                                                   SimpleImputer(strategy=&#x27;median&#x27;)),\n",
       "                                                                  (&#x27;simple_scale&#x27;,\n",
       "                                                                   StandardScaler())]),\n",
       "                                                  &lt;sklearn.compose._column_transformer.make_column_selector object at 0x0000021FCF158978&gt;)]))])</pre></div></div></div><div class=\"sk-serial\"><div class=\"sk-item sk-dashed-wrapped\"><div class=\"sk-label-container\"><div class=\"sk-label sk-toggleable\"><input class=\"sk-toggleable__control sk-hidden--visually\" id=\"c5ea53e7-2388-47dc-8d35-078d048ab64e\" type=\"checkbox\" ><label for=\"c5ea53e7-2388-47dc-8d35-078d048ab64e\" class=\"sk-toggleable__label sk-toggleable__label-arrow\">preprocessor: ColumnTransformer</label><div class=\"sk-toggleable__content\"><pre>ColumnTransformer(transformers=[(&#x27;num&#x27;,\n",
       "                                 Pipeline(steps=[(&#x27;imputer&#x27;,\n",
       "                                                  SimpleImputer(strategy=&#x27;median&#x27;)),\n",
       "                                                 (&#x27;simple_scale&#x27;,\n",
       "                                                  StandardScaler())]),\n",
       "                                 &lt;sklearn.compose._column_transformer.make_column_selector object at 0x0000021FCF158978&gt;)])</pre></div></div></div><div class=\"sk-parallel\"><div class=\"sk-parallel-item\"><div class=\"sk-item\"><div class=\"sk-label-container\"><div class=\"sk-label sk-toggleable\"><input class=\"sk-toggleable__control sk-hidden--visually\" id=\"3d179a13-6891-404d-8421-29ec74704a28\" type=\"checkbox\" ><label for=\"3d179a13-6891-404d-8421-29ec74704a28\" class=\"sk-toggleable__label sk-toggleable__label-arrow\">num</label><div class=\"sk-toggleable__content\"><pre>&lt;sklearn.compose._column_transformer.make_column_selector object at 0x0000021FCF158978&gt;</pre></div></div></div><div class=\"sk-serial\"><div class=\"sk-item\"><div class=\"sk-serial\"><div class=\"sk-item\"><div class=\"sk-estimator sk-toggleable\"><input class=\"sk-toggleable__control sk-hidden--visually\" id=\"3b7b9b9e-b007-4608-bfa1-df9014e567f7\" type=\"checkbox\" ><label for=\"3b7b9b9e-b007-4608-bfa1-df9014e567f7\" class=\"sk-toggleable__label sk-toggleable__label-arrow\">SimpleImputer</label><div class=\"sk-toggleable__content\"><pre>SimpleImputer(strategy=&#x27;median&#x27;)</pre></div></div></div><div class=\"sk-item\"><div class=\"sk-estimator sk-toggleable\"><input class=\"sk-toggleable__control sk-hidden--visually\" id=\"62293db3-27b4-44d2-be19-fb66d2e612ff\" type=\"checkbox\" ><label for=\"62293db3-27b4-44d2-be19-fb66d2e612ff\" class=\"sk-toggleable__label sk-toggleable__label-arrow\">StandardScaler</label><div class=\"sk-toggleable__content\"><pre>StandardScaler()</pre></div></div></div></div></div></div></div></div></div></div></div></div></div></div>"
      ],
      "text/plain": [
       "Pipeline(steps=[('preprocessor',\n",
       "                 ColumnTransformer(transformers=[('num',\n",
       "                                                  Pipeline(steps=[('imputer',\n",
       "                                                                   SimpleImputer(strategy='median')),\n",
       "                                                                  ('simple_scale',\n",
       "                                                                   StandardScaler())]),\n",
       "                                                  <sklearn.compose._column_transformer.make_column_selector object at 0x0000021FCF158978>)]))])"
      ]
     },
     "execution_count": 23,
     "metadata": {},
     "output_type": "execute_result"
    }
   ],
   "source": [
    "numeric_pipeline = Pipeline(steps=[\n",
    "    ('preprocessor', ColumnTransformer(transformers=[\n",
    "        ('num', Pipeline([\n",
    "            ('imputer', SimpleImputer(strategy=\"median\")),\n",
    "            ('simple_scale', StandardScaler())\n",
    "        ]), num_selector),\n",
    "    ]))\n",
    "])\n",
    "numeric_pipeline\n"
   ]
  },
  {
   "cell_type": "code",
   "execution_count": 24,
   "metadata": {},
   "outputs": [
    {
     "name": "stdout",
     "output_type": "stream",
     "text": [
      "['EXT_SOURCE_3' 'EXT_SOURCE_2' 'EXT_SOURCE_1' 'PREV_DAYS_DECISION_MIN'\n",
      " 'PREV_AMT_ANNUITY_MEAN']\n"
     ]
    }
   ],
   "source": [
    "numeric_pipeline.fit(x_train)\n",
    "print(numeric_pipeline.feature_names_in_[:5])\n",
    "\n",
    "# Erreur si on essaie de récuperer les noms de colonnes\n",
    "# numeric_pipeline.get_feature_names_out(numeric_pipeline.feature_names_in_)\n"
   ]
  },
  {
   "cell_type": "markdown",
   "metadata": {},
   "source": [
    "### Get feature names pour les preprocessors\n",
    "\n",
    "Pour interpreter les models, il faut savoir les variables après preprocessing.\n",
    "\n",
    "Malheureusement, beaucoup des transformers de `sklearn` perd leurs feature names\n",
    "\n",
    "- SimpleImputer, FunctionTransformer, StandardScalar do not implement `get_feature_names_out`\n",
    "- Ça pose des problèmes pour l'interprétabilité des modèles\n",
    "\n",
    "L'ordre des features dépend des column selectors et l'ordre des ColumnTransformers\n",
    "\n",
    "- Avec des 'named transformers' et 'named steps' dans un ordre spécifique, on peut récupérer les noms des features dans l'ordre\n"
   ]
  },
  {
   "cell_type": "code",
   "execution_count": 25,
   "metadata": {},
   "outputs": [],
   "source": [
    "def get_features_out(pipe, xtrain_):\n",
    "    \"\"\"\n",
    "    Get column names after preprocessing\n",
    "\n",
    "    assumes (requires preprocessors with following structure):\n",
    "    - all named transformers, if present, are in same order as listed below\n",
    "    - if preprocessor has other transformers, add to list below\n",
    "    - only final transformer (named 'cat') adds columns, via an encoder step named 'ohe'\n",
    "    - if imputer is used, it does not add indicator columns\n",
    "    \"\"\"\n",
    "\n",
    "    def get_features_in_(trans: ColumnTransformer, name=None):\n",
    "        try:\n",
    "            features = list(trans.named_transformers_[name].feature_names_in_)\n",
    "        except:\n",
    "            # named transformer doesn't exist in pipeline, return empty list\n",
    "            features = []\n",
    "        return features\n",
    "\n",
    "    pipe.fit(xtrain_)\n",
    "    if hasattr(pipe, 'named_steps'):\n",
    "        trans: ColumnTransformer = pipe.named_steps['preprocessor']\n",
    "    else:\n",
    "        trans = pipe\n",
    "    # SimpleImputer, FunctionTransformer, StandardScalar do not implement get_feature_names_out\n",
    "\n",
    "    # Get feature names of numeric columns\n",
    "    num_features = get_features_in_(trans, 'num')\n",
    "    scale_features = get_features_in_(trans, 'simple_scale')\n",
    "    log_features = get_features_in_(trans, 'log_scale')\n",
    "    ordinal_features = get_features_in_(trans, 'ordinal')\n",
    "    try:\n",
    "        cat_encoder = trans.named_transformers_['cat']\n",
    "        ohe = cat_encoder.named_steps['ohe']\n",
    "        category_features = list(\n",
    "            ohe.get_feature_names_out(cat_encoder.feature_names_in_))\n",
    "    except:\n",
    "        category_features = []\n",
    "    features_out = (num_features+scale_features + log_features\n",
    "                    + ordinal_features + category_features)\n",
    "    return features_out\n"
   ]
  },
  {
   "cell_type": "markdown",
   "metadata": {},
   "source": [
    "Test get_features_out\n"
   ]
  },
  {
   "cell_type": "code",
   "execution_count": 26,
   "metadata": {},
   "outputs": [
    {
     "name": "stdout",
     "output_type": "stream",
     "text": [
      "(8000, 83)\n",
      "83\n",
      "['EXT_SOURCE_3', 'EXT_SOURCE_2', 'EXT_SOURCE_1']\n"
     ]
    }
   ],
   "source": [
    "x_transformed = numeric_pipeline.fit_transform(x_train)\n",
    "x_transformed_columns = get_features_out(numeric_pipeline, x_train)\n",
    "print(x_transformed.shape)\n",
    "print(len(x_transformed_columns))\n",
    "print(x_transformed_columns[:3])\n"
   ]
  },
  {
   "cell_type": "markdown",
   "metadata": {},
   "source": [
    "#### Preprocessor avec feature names\n"
   ]
  },
  {
   "cell_type": "code",
   "execution_count": 27,
   "metadata": {},
   "outputs": [],
   "source": [
    "def preprocess(pipe: Pipeline, x_train_, x_test_):\n",
    "    \"\"\"Preprocess x_train et x_test séparament.\n",
    "    Exige un pipeline\n",
    "    Retourner les données transformés comme pandas DataFrames avec feature names\"\"\"\n",
    "    features_out = get_features_out(pipe, x_train_)\n",
    "    x_train_out = pd.DataFrame(pipe.fit_transform(\n",
    "        x_train_), columns=features_out, index=x_train_.index)\n",
    "    x_test_out = pd.DataFrame(pipe.transform(\n",
    "        x_test_), columns=features_out, index=x_test_.index)\n",
    "    return x_train_out, x_test_out\n"
   ]
  },
  {
   "cell_type": "code",
   "execution_count": 28,
   "metadata": {},
   "outputs": [],
   "source": [
    "def fit_transform_df(df: pd.DataFrame, processor) -> pd.DataFrame:\n",
    "    \"\"\"\n",
    "    Fit et transform un dataframe, sans changer son shape\n",
    "     Retourner les données transformés comme panda DataFrame\n",
    "     sans perdre les noms de colonnes et index\n",
    "\n",
    "     Note, la plupart de processors (MinMaxScalar, Imputer, ...) \n",
    "     retourne un numpy array\n",
    "     Rapidement on perd les noms des features\n",
    "     \"\"\"\n",
    "    return pd.DataFrame(processor.fit_transform(\n",
    "        df), index=df.index, columns=df.columns)\n"
   ]
  },
  {
   "cell_type": "markdown",
   "metadata": {},
   "source": [
    "### Impute NaN avant oversampling\n",
    "\n",
    "Pour oversampling, il ne faut pas avoir des NaN\n",
    "\n",
    "On les remplis avec SimpleImputer (median), puis un rescale\n"
   ]
  },
  {
   "cell_type": "code",
   "execution_count": 29,
   "metadata": {},
   "outputs": [
    {
     "name": "stdout",
     "output_type": "stream",
     "text": [
      "preprocess data - done in 0s\n"
     ]
    }
   ],
   "source": [
    "with timer('preprocess data'):\n",
    "    x_train_prep, x_test_prep = preprocess(preprocessor, x_train, x_test)\n"
   ]
  },
  {
   "cell_type": "markdown",
   "metadata": {},
   "source": [
    "# Sampling : Ré-equilibration des classes cible\n",
    "\n",
    "Il y a environ 800 colonnes de données, la plupart seront insignifiant en importance pour la modèle.\n",
    "\n",
    "On peut faire feature selection basé sur les données, mais comme les données sont pour la plupart target = 0, ça met plus de poid sur la classe 'loan repaid.\n",
    "\n",
    "La référence ci-dessous recommande faire la ré-equilibration des classes, via oversampling AVANT feature selection.\n",
    "\n",
    "#### Références\n",
    "\n",
    "- [SMOTE for high-dimensional class-imbalanced data](https://www.ncbi.nlm.nih.gov/pmc/articles/PMC3648438/)\n"
   ]
  },
  {
   "cell_type": "markdown",
   "metadata": {},
   "source": [
    "## Options de sampling\n",
    "\n",
    "On a plusieurs stratégies de sampling possible pour équilibré le poid des classes\n",
    "\n",
    "**Weights**\n",
    "\n",
    "- ajout plus de poids pour les observations minoritaires\n",
    "\n",
    "**Random undersampling**\n",
    "\n",
    "- éliminaire aléatoirement des observations majoritaires\n",
    "\n",
    "**Random oversampling**\n",
    "\n",
    "- ajout aleatoirement aux données des copies d'observations minoritaires\n",
    "\n",
    "**Synthetic Minority Oversampling Technique (SMOTE)**\n",
    "\n",
    "- ajout des observations minoritaires similaires mais distinctes des observations minoritaires existantes\n",
    "\n",
    "**SMOTE Tomek**\n",
    "\n",
    "- oversample, puis undersample les bordeline cas\n"
   ]
  },
  {
   "cell_type": "markdown",
   "metadata": {},
   "source": [
    "### Créer des instances des samplers\n"
   ]
  },
  {
   "cell_type": "code",
   "execution_count": 30,
   "metadata": {},
   "outputs": [],
   "source": [
    "# Random undersampling\n",
    "undersampler = RandomUnderSampler(sampling_strategy='majority')\n",
    "\n",
    "# Random oversampling\n",
    "oversampler = RandomOverSampler(sampling_strategy='minority')\n",
    "\n",
    "# Synthetic Minority Oversampling Technique (SMOTE)\n",
    "smote_adasyn = SMOTE(sampling_strategy='ADASYN')\n",
    "\n",
    "# over-sample borderline, then undersample)\n",
    "smote_tomek = SMOTETomek(tomek=TomekLinks(sampling_strategy='majority'))\n"
   ]
  },
  {
   "cell_type": "markdown",
   "metadata": {},
   "source": [
    "### Oversample les données sans valeurs manquantes (NaN)\n"
   ]
  },
  {
   "cell_type": "code",
   "execution_count": 31,
   "metadata": {},
   "outputs": [
    {
     "name": "stdout",
     "output_type": "stream",
     "text": [
      "oversample - done in 0s\n",
      "(10000, 83)\n",
      "(8000, 83)\n",
      "(14676, 83)\n"
     ]
    }
   ],
   "source": [
    "from imblearn import over_sampling\n",
    "\n",
    "oversampler = over_sampling.SMOTE()\n",
    "with timer(title='oversample'):\n",
    "    x_train_smote, y_train_smote = oversampler.fit_resample(\n",
    "        x_train_prep, y_train)\n",
    "\n",
    "\n",
    "print(X.shape)\n",
    "print(x_train.shape)\n",
    "print(x_train_smote.shape)\n"
   ]
  },
  {
   "cell_type": "code",
   "execution_count": 32,
   "metadata": {},
   "outputs": [],
   "source": [
    "\n",
    "undersampler = RandomUnderSampler(sampling_strategy='majority')\n",
    "oversampler = RandomOverSampler(sampling_strategy='minority')\n",
    "\n",
    "# SMOTE :\n",
    "# oversample with ADASYN\n",
    "smote_adasyn = SMOTE(sampling_strategy='ADASYN')\n",
    "\n",
    "\n",
    "# over-sample borderline, then undersample)\n",
    "smote_tomek = SMOTETomek(tomek=TomekLinks(sampling_strategy='majority'))\n"
   ]
  },
  {
   "cell_type": "markdown",
   "metadata": {},
   "source": [
    "## Construction d'un model pipeline avec SMOTE\n",
    "\n",
    "References\n",
    "\n",
    "- <https://towardsdatascience.com/the-right-way-of-using-smote-with-cross-validation-92a8d09d00c7>\n"
   ]
  },
  {
   "cell_type": "code",
   "execution_count": 33,
   "metadata": {},
   "outputs": [
    {
     "data": {
      "text/html": [
       "<style>#sk-bfbe77f2-0f8d-4897-97b7-d2a37a418596 {color: black;background-color: white;}#sk-bfbe77f2-0f8d-4897-97b7-d2a37a418596 pre{padding: 0;}#sk-bfbe77f2-0f8d-4897-97b7-d2a37a418596 div.sk-toggleable {background-color: white;}#sk-bfbe77f2-0f8d-4897-97b7-d2a37a418596 label.sk-toggleable__label {cursor: pointer;display: block;width: 100%;margin-bottom: 0;padding: 0.3em;box-sizing: border-box;text-align: center;}#sk-bfbe77f2-0f8d-4897-97b7-d2a37a418596 label.sk-toggleable__label-arrow:before {content: \"▸\";float: left;margin-right: 0.25em;color: #696969;}#sk-bfbe77f2-0f8d-4897-97b7-d2a37a418596 label.sk-toggleable__label-arrow:hover:before {color: black;}#sk-bfbe77f2-0f8d-4897-97b7-d2a37a418596 div.sk-estimator:hover label.sk-toggleable__label-arrow:before {color: black;}#sk-bfbe77f2-0f8d-4897-97b7-d2a37a418596 div.sk-toggleable__content {max-height: 0;max-width: 0;overflow: hidden;text-align: left;background-color: #f0f8ff;}#sk-bfbe77f2-0f8d-4897-97b7-d2a37a418596 div.sk-toggleable__content pre {margin: 0.2em;color: black;border-radius: 0.25em;background-color: #f0f8ff;}#sk-bfbe77f2-0f8d-4897-97b7-d2a37a418596 input.sk-toggleable__control:checked~div.sk-toggleable__content {max-height: 200px;max-width: 100%;overflow: auto;}#sk-bfbe77f2-0f8d-4897-97b7-d2a37a418596 input.sk-toggleable__control:checked~label.sk-toggleable__label-arrow:before {content: \"▾\";}#sk-bfbe77f2-0f8d-4897-97b7-d2a37a418596 div.sk-estimator input.sk-toggleable__control:checked~label.sk-toggleable__label {background-color: #d4ebff;}#sk-bfbe77f2-0f8d-4897-97b7-d2a37a418596 div.sk-label input.sk-toggleable__control:checked~label.sk-toggleable__label {background-color: #d4ebff;}#sk-bfbe77f2-0f8d-4897-97b7-d2a37a418596 input.sk-hidden--visually {border: 0;clip: rect(1px 1px 1px 1px);clip: rect(1px, 1px, 1px, 1px);height: 1px;margin: -1px;overflow: hidden;padding: 0;position: absolute;width: 1px;}#sk-bfbe77f2-0f8d-4897-97b7-d2a37a418596 div.sk-estimator {font-family: monospace;background-color: #f0f8ff;border: 1px dotted black;border-radius: 0.25em;box-sizing: border-box;margin-bottom: 0.5em;}#sk-bfbe77f2-0f8d-4897-97b7-d2a37a418596 div.sk-estimator:hover {background-color: #d4ebff;}#sk-bfbe77f2-0f8d-4897-97b7-d2a37a418596 div.sk-parallel-item::after {content: \"\";width: 100%;border-bottom: 1px solid gray;flex-grow: 1;}#sk-bfbe77f2-0f8d-4897-97b7-d2a37a418596 div.sk-label:hover label.sk-toggleable__label {background-color: #d4ebff;}#sk-bfbe77f2-0f8d-4897-97b7-d2a37a418596 div.sk-serial::before {content: \"\";position: absolute;border-left: 1px solid gray;box-sizing: border-box;top: 2em;bottom: 0;left: 50%;}#sk-bfbe77f2-0f8d-4897-97b7-d2a37a418596 div.sk-serial {display: flex;flex-direction: column;align-items: center;background-color: white;padding-right: 0.2em;padding-left: 0.2em;}#sk-bfbe77f2-0f8d-4897-97b7-d2a37a418596 div.sk-item {z-index: 1;}#sk-bfbe77f2-0f8d-4897-97b7-d2a37a418596 div.sk-parallel {display: flex;align-items: stretch;justify-content: center;background-color: white;}#sk-bfbe77f2-0f8d-4897-97b7-d2a37a418596 div.sk-parallel::before {content: \"\";position: absolute;border-left: 1px solid gray;box-sizing: border-box;top: 2em;bottom: 0;left: 50%;}#sk-bfbe77f2-0f8d-4897-97b7-d2a37a418596 div.sk-parallel-item {display: flex;flex-direction: column;position: relative;background-color: white;}#sk-bfbe77f2-0f8d-4897-97b7-d2a37a418596 div.sk-parallel-item:first-child::after {align-self: flex-end;width: 50%;}#sk-bfbe77f2-0f8d-4897-97b7-d2a37a418596 div.sk-parallel-item:last-child::after {align-self: flex-start;width: 50%;}#sk-bfbe77f2-0f8d-4897-97b7-d2a37a418596 div.sk-parallel-item:only-child::after {width: 0;}#sk-bfbe77f2-0f8d-4897-97b7-d2a37a418596 div.sk-dashed-wrapped {border: 1px dashed gray;margin: 0 0.4em 0.5em 0.4em;box-sizing: border-box;padding-bottom: 0.4em;background-color: white;position: relative;}#sk-bfbe77f2-0f8d-4897-97b7-d2a37a418596 div.sk-label label {font-family: monospace;font-weight: bold;background-color: white;display: inline-block;line-height: 1.2em;}#sk-bfbe77f2-0f8d-4897-97b7-d2a37a418596 div.sk-label-container {position: relative;z-index: 2;text-align: center;}#sk-bfbe77f2-0f8d-4897-97b7-d2a37a418596 div.sk-container {/* jupyter's `normalize.less` sets `[hidden] { display: none; }` but bootstrap.min.css set `[hidden] { display: none !important; }` so we also need the `!important` here to be able to override the default hidden behavior on the sphinx rendered scikit-learn.org. See: https://github.com/scikit-learn/scikit-learn/issues/21755 */display: inline-block !important;position: relative;}#sk-bfbe77f2-0f8d-4897-97b7-d2a37a418596 div.sk-text-repr-fallback {display: none;}</style><div id=\"sk-bfbe77f2-0f8d-4897-97b7-d2a37a418596\" class=\"sk-top-container\"><div class=\"sk-text-repr-fallback\"><pre>Pipeline(steps=[(&#x27;smote&#x27;, SMOTE(random_state=42)),\n",
       "                (&#x27;preprocess&#x27;,\n",
       "                 ColumnTransformer(remainder=&#x27;passthrough&#x27;,\n",
       "                                   transformers=[(&#x27;num&#x27;,\n",
       "                                                  Pipeline(steps=[(&#x27;imputer&#x27;,\n",
       "                                                                   SimpleImputer(strategy=&#x27;median&#x27;)),\n",
       "                                                                  (&#x27;scaler&#x27;,\n",
       "                                                                   StandardScaler())]),\n",
       "                                                  &lt;sklearn.compose._column_transformer.make_column_selector object at 0x0000021FCF158978&gt;),\n",
       "                                                 (&#x27;cat&#x27;,\n",
       "                                                  Pipeline(steps=[(&#x27;imputer&#x27;,\n",
       "                                                                   SimpleImputer(fill_value=&#x27;missing&#x27;,\n",
       "                                                                                 strategy=&#x27;constant&#x27;)),\n",
       "                                                                  (&#x27;encoding&#x27;,\n",
       "                                                                   OneHotEncoder(dtype=&lt;class &#x27;int&#x27;&gt;,\n",
       "                                                                                 handle_unknown=&#x27;ignore&#x27;))]),\n",
       "                                                  &lt;sklearn.compose._column_transformer.make_column_selector object at 0x0000021FDA7017B8&gt;)])),\n",
       "                (&#x27;feat_select&#x27;, SelectKBest(k=50)),\n",
       "                (&#x27;clf&#x27;, RidgeClassifier())])</pre><b>Please rerun this cell to show the HTML repr or trust the notebook.</b></div><div class=\"sk-container\" hidden><div class=\"sk-item sk-dashed-wrapped\"><div class=\"sk-label-container\"><div class=\"sk-label sk-toggleable\"><input class=\"sk-toggleable__control sk-hidden--visually\" id=\"b1fbe3e9-08db-484a-83d4-9d0f5a606c48\" type=\"checkbox\" ><label for=\"b1fbe3e9-08db-484a-83d4-9d0f5a606c48\" class=\"sk-toggleable__label sk-toggleable__label-arrow\">Pipeline</label><div class=\"sk-toggleable__content\"><pre>Pipeline(steps=[(&#x27;smote&#x27;, SMOTE(random_state=42)),\n",
       "                (&#x27;preprocess&#x27;,\n",
       "                 ColumnTransformer(remainder=&#x27;passthrough&#x27;,\n",
       "                                   transformers=[(&#x27;num&#x27;,\n",
       "                                                  Pipeline(steps=[(&#x27;imputer&#x27;,\n",
       "                                                                   SimpleImputer(strategy=&#x27;median&#x27;)),\n",
       "                                                                  (&#x27;scaler&#x27;,\n",
       "                                                                   StandardScaler())]),\n",
       "                                                  &lt;sklearn.compose._column_transformer.make_column_selector object at 0x0000021FCF158978&gt;),\n",
       "                                                 (&#x27;cat&#x27;,\n",
       "                                                  Pipeline(steps=[(&#x27;imputer&#x27;,\n",
       "                                                                   SimpleImputer(fill_value=&#x27;missing&#x27;,\n",
       "                                                                                 strategy=&#x27;constant&#x27;)),\n",
       "                                                                  (&#x27;encoding&#x27;,\n",
       "                                                                   OneHotEncoder(dtype=&lt;class &#x27;int&#x27;&gt;,\n",
       "                                                                                 handle_unknown=&#x27;ignore&#x27;))]),\n",
       "                                                  &lt;sklearn.compose._column_transformer.make_column_selector object at 0x0000021FDA7017B8&gt;)])),\n",
       "                (&#x27;feat_select&#x27;, SelectKBest(k=50)),\n",
       "                (&#x27;clf&#x27;, RidgeClassifier())])</pre></div></div></div><div class=\"sk-serial\"><div class=\"sk-item\"><div class=\"sk-estimator sk-toggleable\"><input class=\"sk-toggleable__control sk-hidden--visually\" id=\"87b999b8-0491-4002-8046-37f88e3c9b11\" type=\"checkbox\" ><label for=\"87b999b8-0491-4002-8046-37f88e3c9b11\" class=\"sk-toggleable__label sk-toggleable__label-arrow\">SMOTE</label><div class=\"sk-toggleable__content\"><pre>SMOTE(random_state=42)</pre></div></div></div><div class=\"sk-item sk-dashed-wrapped\"><div class=\"sk-label-container\"><div class=\"sk-label sk-toggleable\"><input class=\"sk-toggleable__control sk-hidden--visually\" id=\"bc018f44-0382-492c-a0e6-6bb4a2a4b5d2\" type=\"checkbox\" ><label for=\"bc018f44-0382-492c-a0e6-6bb4a2a4b5d2\" class=\"sk-toggleable__label sk-toggleable__label-arrow\">preprocess: ColumnTransformer</label><div class=\"sk-toggleable__content\"><pre>ColumnTransformer(remainder=&#x27;passthrough&#x27;,\n",
       "                  transformers=[(&#x27;num&#x27;,\n",
       "                                 Pipeline(steps=[(&#x27;imputer&#x27;,\n",
       "                                                  SimpleImputer(strategy=&#x27;median&#x27;)),\n",
       "                                                 (&#x27;scaler&#x27;, StandardScaler())]),\n",
       "                                 &lt;sklearn.compose._column_transformer.make_column_selector object at 0x0000021FCF158978&gt;),\n",
       "                                (&#x27;cat&#x27;,\n",
       "                                 Pipeline(steps=[(&#x27;imputer&#x27;,\n",
       "                                                  SimpleImputer(fill_value=&#x27;missing&#x27;,\n",
       "                                                                strategy=&#x27;constant&#x27;)),\n",
       "                                                 (&#x27;encoding&#x27;,\n",
       "                                                  OneHotEncoder(dtype=&lt;class &#x27;int&#x27;&gt;,\n",
       "                                                                handle_unknown=&#x27;ignore&#x27;))]),\n",
       "                                 &lt;sklearn.compose._column_transformer.make_column_selector object at 0x0000021FDA7017B8&gt;)])</pre></div></div></div><div class=\"sk-parallel\"><div class=\"sk-parallel-item\"><div class=\"sk-item\"><div class=\"sk-label-container\"><div class=\"sk-label sk-toggleable\"><input class=\"sk-toggleable__control sk-hidden--visually\" id=\"4eaba6a6-cec1-4ebe-8b3f-d676efa3ee1c\" type=\"checkbox\" ><label for=\"4eaba6a6-cec1-4ebe-8b3f-d676efa3ee1c\" class=\"sk-toggleable__label sk-toggleable__label-arrow\">num</label><div class=\"sk-toggleable__content\"><pre>&lt;sklearn.compose._column_transformer.make_column_selector object at 0x0000021FCF158978&gt;</pre></div></div></div><div class=\"sk-serial\"><div class=\"sk-item\"><div class=\"sk-serial\"><div class=\"sk-item\"><div class=\"sk-estimator sk-toggleable\"><input class=\"sk-toggleable__control sk-hidden--visually\" id=\"111aaed8-22e2-4216-9193-4daa964b28ac\" type=\"checkbox\" ><label for=\"111aaed8-22e2-4216-9193-4daa964b28ac\" class=\"sk-toggleable__label sk-toggleable__label-arrow\">SimpleImputer</label><div class=\"sk-toggleable__content\"><pre>SimpleImputer(strategy=&#x27;median&#x27;)</pre></div></div></div><div class=\"sk-item\"><div class=\"sk-estimator sk-toggleable\"><input class=\"sk-toggleable__control sk-hidden--visually\" id=\"25089fb7-8f92-42d6-824d-bdd6203ec851\" type=\"checkbox\" ><label for=\"25089fb7-8f92-42d6-824d-bdd6203ec851\" class=\"sk-toggleable__label sk-toggleable__label-arrow\">StandardScaler</label><div class=\"sk-toggleable__content\"><pre>StandardScaler()</pre></div></div></div></div></div></div></div></div><div class=\"sk-parallel-item\"><div class=\"sk-item\"><div class=\"sk-label-container\"><div class=\"sk-label sk-toggleable\"><input class=\"sk-toggleable__control sk-hidden--visually\" id=\"69e4eaa6-093f-428a-9543-7beebaf02ddf\" type=\"checkbox\" ><label for=\"69e4eaa6-093f-428a-9543-7beebaf02ddf\" class=\"sk-toggleable__label sk-toggleable__label-arrow\">cat</label><div class=\"sk-toggleable__content\"><pre>&lt;sklearn.compose._column_transformer.make_column_selector object at 0x0000021FDA7017B8&gt;</pre></div></div></div><div class=\"sk-serial\"><div class=\"sk-item\"><div class=\"sk-serial\"><div class=\"sk-item\"><div class=\"sk-estimator sk-toggleable\"><input class=\"sk-toggleable__control sk-hidden--visually\" id=\"72a4686c-81cd-41ad-8be6-f6557a83f309\" type=\"checkbox\" ><label for=\"72a4686c-81cd-41ad-8be6-f6557a83f309\" class=\"sk-toggleable__label sk-toggleable__label-arrow\">SimpleImputer</label><div class=\"sk-toggleable__content\"><pre>SimpleImputer(fill_value=&#x27;missing&#x27;, strategy=&#x27;constant&#x27;)</pre></div></div></div><div class=\"sk-item\"><div class=\"sk-estimator sk-toggleable\"><input class=\"sk-toggleable__control sk-hidden--visually\" id=\"dae452be-57d8-46e5-ba8b-54992224cb22\" type=\"checkbox\" ><label for=\"dae452be-57d8-46e5-ba8b-54992224cb22\" class=\"sk-toggleable__label sk-toggleable__label-arrow\">OneHotEncoder</label><div class=\"sk-toggleable__content\"><pre>OneHotEncoder(dtype=&lt;class &#x27;int&#x27;&gt;, handle_unknown=&#x27;ignore&#x27;)</pre></div></div></div></div></div></div></div></div><div class=\"sk-parallel-item\"><div class=\"sk-item\"><div class=\"sk-label-container\"><div class=\"sk-label sk-toggleable\"><input class=\"sk-toggleable__control sk-hidden--visually\" id=\"2333f6ae-fd3c-4613-9a8a-6d28ccd3d3eb\" type=\"checkbox\" ><label for=\"2333f6ae-fd3c-4613-9a8a-6d28ccd3d3eb\" class=\"sk-toggleable__label sk-toggleable__label-arrow\">remainder</label><div class=\"sk-toggleable__content\"><pre>[]</pre></div></div></div><div class=\"sk-serial\"><div class=\"sk-item\"><div class=\"sk-estimator sk-toggleable\"><input class=\"sk-toggleable__control sk-hidden--visually\" id=\"50f1c2d3-bf56-40bc-8778-9f2acf0584fd\" type=\"checkbox\" ><label for=\"50f1c2d3-bf56-40bc-8778-9f2acf0584fd\" class=\"sk-toggleable__label sk-toggleable__label-arrow\">passthrough</label><div class=\"sk-toggleable__content\"><pre>passthrough</pre></div></div></div></div></div></div></div></div><div class=\"sk-item\"><div class=\"sk-estimator sk-toggleable\"><input class=\"sk-toggleable__control sk-hidden--visually\" id=\"e82ef5b1-43d8-43e0-9b0c-437f6a60e1ae\" type=\"checkbox\" ><label for=\"e82ef5b1-43d8-43e0-9b0c-437f6a60e1ae\" class=\"sk-toggleable__label sk-toggleable__label-arrow\">SelectKBest</label><div class=\"sk-toggleable__content\"><pre>SelectKBest(k=50)</pre></div></div></div><div class=\"sk-item\"><div class=\"sk-estimator sk-toggleable\"><input class=\"sk-toggleable__control sk-hidden--visually\" id=\"9283b931-5761-4f5f-8d37-7ccc5f5f723a\" type=\"checkbox\" ><label for=\"9283b931-5761-4f5f-8d37-7ccc5f5f723a\" class=\"sk-toggleable__label sk-toggleable__label-arrow\">RidgeClassifier</label><div class=\"sk-toggleable__content\"><pre>RidgeClassifier()</pre></div></div></div></div></div></div></div>"
      ],
      "text/plain": [
       "Pipeline(steps=[('smote', SMOTE(random_state=42)),\n",
       "                ('preprocess',\n",
       "                 ColumnTransformer(remainder='passthrough',\n",
       "                                   transformers=[('num',\n",
       "                                                  Pipeline(steps=[('imputer',\n",
       "                                                                   SimpleImputer(strategy='median')),\n",
       "                                                                  ('scaler',\n",
       "                                                                   StandardScaler())]),\n",
       "                                                  <sklearn.compose._column_transformer.make_column_selector object at 0x0000021FCF158978>),\n",
       "                                                 ('cat',\n",
       "                                                  Pipeline(steps=[('imputer',\n",
       "                                                                   SimpleImputer(fill_value='missing',\n",
       "                                                                                 strategy='constant')),\n",
       "                                                                  ('encoding',\n",
       "                                                                   OneHotEncoder(dtype=<class 'int'>,\n",
       "                                                                                 handle_unknown='ignore'))]),\n",
       "                                                  <sklearn.compose._column_transformer.make_column_selector object at 0x0000021FDA7017B8>)])),\n",
       "                ('feat_select', SelectKBest(k=50)),\n",
       "                ('clf', RidgeClassifier())])"
      ]
     },
     "execution_count": 33,
     "metadata": {},
     "output_type": "execute_result"
    }
   ],
   "source": [
    "from imblearn import pipeline as imbpipeline\n",
    "from sklearn.feature_selection import SelectFromModel, SelectKBest, f_classif, chi2, mutual_info_classif\n",
    "from sklearn.model_selection import StratifiedKFold\n",
    "# from sklearn.svm import LinearSVC\n",
    "# test model pipeline avec un classifier rapide\n",
    "from sklearn.linear_model import RidgeClassifier\n",
    "\n",
    "\n",
    "def create_model(\n",
    "    sampler=SMOTE(random_state=RANDOM_SEED),\n",
    "    preprocessor=numeric_pipeline,\n",
    "    feature_selector=SelectKBest(score_func=f_classif, k=50),\n",
    "    classifier=RidgeClassifier()\n",
    "):\n",
    "    model = imbpipeline.Pipeline(steps=[\n",
    "        ('smote', sampler),\n",
    "        ('preprocess', preprocessor),\n",
    "        ('feat_select', feature_selector),\n",
    "        ('clf', classifier)\n",
    "    ])\n",
    "    # ('feat_select', SelectFromModel(LGBMClassifier, max_features=100)),\n",
    "    return model\n",
    "\n",
    "\n",
    "test_model = create_model(preprocessor=preprocessor)\n",
    "test_model\n"
   ]
  },
  {
   "cell_type": "code",
   "execution_count": 34,
   "metadata": {},
   "outputs": [
    {
     "name": "stdout",
     "output_type": "stream",
     "text": [
      "Fitting 5 folds for each of 7 candidates, totalling 35 fits\n",
      "cv_score : 0.742, test_score : 0.732\n"
     ]
    }
   ],
   "source": [
    "stratified_kfold = StratifiedKFold(n_splits=5,\n",
    "                                   shuffle=True,\n",
    "                                   random_state=11)\n",
    "\n",
    "\n",
    "param_grid = {'clf__alpha': [0.001, 0.01, 0.1, 1, 10, 100, 1000]}\n",
    "grid_search = GridSearchCV(estimator=test_model,\n",
    "                           param_grid=param_grid,\n",
    "                           scoring='roc_auc',\n",
    "                           cv=stratified_kfold,\n",
    "                           verbose=2,\n",
    "                           return_train_score=True,\n",
    "                           n_jobs=-1)\n",
    "\n",
    "\n",
    "grid_search.fit(x_train_prep, y_train)\n",
    "cv_score = grid_search.best_score_\n",
    "test_score = grid_search.score(x_test_prep, y_test)\n",
    "result = {'cv_score': cv_score, 'test_score': test_score}\n",
    "print(f'cv_score : {cv_score:.3f}, test_score : {test_score:.3f}')\n"
   ]
  },
  {
   "cell_type": "markdown",
   "metadata": {},
   "source": [
    "# Feature sélection\n",
    "\n",
    "Les performances des modèles ne peuvent pas être comparés basés sur toutes les features, car un modèle utilisant tous les features risque de faire d'overfit, ou ils auront de la variance ajoutée par des features qui n'ont aucun pouvoir prédictif (du 'bruit')\n",
    "\n",
    "- Filter mèthodes\n",
    "- Embedded mèthodes\n",
    "- Wrapper mèthodes\n"
   ]
  },
  {
   "cell_type": "markdown",
   "metadata": {},
   "source": [
    "### Filter, Embedded et Wrapper Feature Selection\n",
    "\n",
    "Il faut donc appliquer une feature selection **avant**, **pendant** ou **pos entrainement** de chaque modèle pour arriver au _**meilleur modèle**_ pour chaque Classifier :\n",
    "\n",
    "- Pour toutes les modèles, on peut utiliser:\n",
    "- un 'Filter': par exemple `KBest` Features\n",
    "- Pour Ridge et LogisticRegression, le feature sélection est 'Embedded' penalty : L1 ou L2 regularisation\n",
    "- Pour SVC, on peut utiliser 'Wrapper' Recursive Feature Elimination\n",
    "- Les méthodes ensemblistes (RandomForest, LGBM) utilisent 'Embedded' feature importance selection\n"
   ]
  },
  {
   "cell_type": "markdown",
   "metadata": {},
   "source": [
    "Pour n'alourdir pas ce notebook, des tests de feature selection pré-entrainement on été ajoutés au notebook de nettoyage\n"
   ]
  },
  {
   "cell_type": "code",
   "execution_count": 35,
   "metadata": {},
   "outputs": [],
   "source": [
    "from sklearn.feature_selection import SelectKBest, f_classif, mutual_info_classif, chi2\n",
    "\n",
    "\n",
    "def select_k_best_features(x_, y_, k=5, score_func=mutual_info_classif):\n",
    "    # sel_=SelectKBest(mutual_info_regression,k=k)\n",
    "    np.seterr(divide='ignore', invalid='ignore')\n",
    "    sel_ = SelectKBest(score_func=score_func, k=k)\n",
    "    sel_.fit(x_, y_)\n",
    "    np.seterr(divide='warn', invalid='warn')\n",
    "    return x_[x_.columns[sel_.get_support()]]\n"
   ]
  },
  {
   "cell_type": "code",
   "execution_count": 36,
   "metadata": {},
   "outputs": [
    {
     "name": "stdout",
     "output_type": "stream",
     "text": [
      "(14676, 83)\n",
      "(10000, 83)\n",
      "\n",
      "Best 10 features basé sur mutual info classification : \n",
      "['EXT_SOURCE_3', 'PREV_NAME_CONTRACT_STATUS_Approved_MEAN', 'PREV_CNT_PAYMENT_MEAN', 'PAYMENT_RATE', 'BURO_CREDIT_ACTIVE_Closed_MEAN', 'AMT_GOODS_PRICE', 'REGION_POPULATION_RELATIVE', 'PREV_APP_CREDIT_PERC_MEAN', 'POS_MONTHS_BALANCE_SIZE', 'APPROVED_CNT_PAYMENT_SUM']\n",
      "Mutual Info Classification - done in 4s\n",
      "\n",
      "Best 10 features basé sur classifications individuelle : \n",
      "['EXT_SOURCE_3', 'EXT_SOURCE_2', 'EXT_SOURCE_1', 'DAYS_BIRTH', 'BURO_CREDIT_ACTIVE_Closed_MEAN', 'NAME_INCOME_TYPE_Working', 'NAME_EDUCATION_TYPE_Secondary_secondary_special', 'NAME_EDUCATION_TYPE_Higher_education', 'FLAG_DOCUMENT_3', 'EMERGENCYSTATE_MODE_No']\n",
      "F_Classification - done in 0s\n",
      "\n",
      "Best 10 features basé sur chi2 individuelle : \n",
      "['EXT_SOURCE_2', 'CODE_GENDER', 'WALLSMATERIAL_MODE_Panel', 'PREV_NAME_PRODUCT_TYPE_walkin_MEAN', 'OCCUPATION_TYPE_Laborers', 'NAME_INCOME_TYPE_Working', 'NAME_EDUCATION_TYPE_Higher_education', 'NAME_CONTRACT_TYPE_Revolving_loans', 'EMERGENCYSTATE_MODE_No', 'REG_CITY_NOT_WORK_CITY']\n",
      "Chi2 Classification - done in 0s\n"
     ]
    }
   ],
   "source": [
    "x_sample, y_sample = sample_data(x_train_smote, y_train_smote, nb=10000)\n",
    "print(x_train_smote.shape)\n",
    "print(x_sample.shape)\n",
    "# make non_negative for chi2\n",
    "x_sample = fit_transform_df(x_sample, MinMaxScaler())\n",
    "\n",
    "nb = 10\n",
    "# display features\n",
    "with timer('Mutual Info Classification'):\n",
    "    print(f'\\nBest {nb} features basé sur mutual info classification : ')\n",
    "    print(select_k_best_features(x_sample, y_sample, k=nb,\n",
    "          score_func=mutual_info_classif).columns.tolist())\n",
    "\n",
    "with timer('F_Classification'):\n",
    "    print(f'\\nBest {nb} features basé sur classifications individuelle : ')\n",
    "    print(select_k_best_features(x_sample, y_sample,\n",
    "          k=nb, score_func=f_classif).columns.tolist())\n",
    "\n",
    "with timer('Chi2 Classification'):\n",
    "    print(f'\\nBest {nb} features basé sur chi2 individuelle : ')\n",
    "    print(select_k_best_features(x_sample, y_sample,\n",
    "                                 k=nb, score_func=chi2).columns.tolist())\n"
   ]
  },
  {
   "cell_type": "markdown",
   "metadata": {},
   "source": [
    "On voit que la fonction utilisée par KBest change la sélection de features\n",
    "\n",
    "- mutual_info_regression utilise KNN_regressor (non-lineaire)\n",
    "- f_regression utilise LinearRegression\n"
   ]
  },
  {
   "cell_type": "markdown",
   "metadata": {},
   "source": [
    "### Plot mutual information\n"
   ]
  },
  {
   "cell_type": "code",
   "execution_count": 37,
   "metadata": {},
   "outputs": [],
   "source": [
    "from sklearn.feature_selection import mutual_info_classif\n",
    "\n",
    "\n",
    "def plot_mutual_information(x_, y_, sample_size=10000):\n",
    "    \"\"\"Plot mutual information, requires no missing values\"\"\"\n",
    "    # mutual_info_classif peut prend beaucoup de temps\n",
    "    # pour des grands quantités de données\n",
    "    nb = min(sample_size, len(x_))\n",
    "    x_, y_ = sample_data(x_, y_)\n",
    "    mi = pd.DataFrame(\n",
    "        {'mutual information': mutual_info_classif(x_, y_)},\n",
    "        index=x_.columns)\n",
    "    nb = min(len(mi), 20)\n",
    "    mi = mi.sort_values(by='mutual information', ascending=False).head(nb)\n",
    "    sns.barplot(x=mi['mutual information'], y=mi.index)\n",
    "    sns.despine()\n",
    "    plt.grid(axis='x')\n"
   ]
  },
  {
   "cell_type": "code",
   "execution_count": 38,
   "metadata": {},
   "outputs": [
    {
     "name": "stdout",
     "output_type": "stream",
     "text": [
      "Mutual Information - done in 1s\n",
      "\"mutual_info_classification,_x_resampled_vs-_TARGET.png\"\n"
     ]
    },
    {
     "data": {
      "image/png": "[encoded data removed]",
      "text/plain": [
       "<Figure size 432x288 with 1 Axes>"
      ]
     },
     "metadata": {},
     "output_type": "display_data"
    }
   ],
   "source": [
    "with timer('Mutual Information'):\n",
    "    plot_mutual_information(x_sample, y_sample)\n",
    "plt.suptitle(f'mutual info classification, x_resampled vs. TARGET')\n",
    "to_png()\n",
    "plt.show()\n"
   ]
  },
  {
   "cell_type": "markdown",
   "metadata": {},
   "source": [
    "### Influence d'ajouter des features pour chaque model candidat\n",
    "\n",
    "- Dans un premier temps, on essayer de determiner l'effet additif des nouveaux variables sur le score du model\n"
   ]
  },
  {
   "cell_type": "code",
   "execution_count": 39,
   "metadata": {},
   "outputs": [],
   "source": [
    "\n",
    "from sklearn.model_selection import cross_val_score\n",
    "\n",
    "\n",
    "def plot_k_best(model_, x_, y_, kmax=10, scoring_='roc_auc',\n",
    "                kbest_score_func=mutual_info_classif, error_bars=True, show_features=True):\n",
    "    \"\"\"Plot la meilleure features pour un modèle donné, basé sur 10 cross_validations\"\"\"\n",
    "    kmax = min(x_.shape[1], kmax)\n",
    "    k_range = range(1, kmax+1)\n",
    "    scores = pd.DataFrame([], columns={'k', 'col', 'score_mean', 'score_std'})\n",
    "    cols = []\n",
    "    for k in k_range:\n",
    "        x_best = select_k_best_features(x_, y_, k)\n",
    "        new_cols = set(x_best.columns)-set(cols)\n",
    "        # print(f'k={k}, new cols = {new_cols}')\n",
    "        for col in new_cols:\n",
    "            cols.append(col)\n",
    "        cv_scores = cross_val_score(\n",
    "            model_, x_best, y_, cv=10, scoring=scoring_, error_score=0)\n",
    "        score_mean = cv_scores.mean()\n",
    "        score_std = cv_scores.std()\n",
    "        if scoring_ == 'r2':\n",
    "            score_mean *= 100\n",
    "            score_std *= 100\n",
    "        # elif scoring_.startswith('neg_'):\n",
    "        #     score_mean *= -1\n",
    "        scores = scores.append({'k': k, 'col': ','.join(\n",
    "            new_cols), 'score_mean': score_mean, 'score_std': score_std}, ignore_index=True)\n",
    "\n",
    "    if show_features:\n",
    "        sns.scatterplot(data=scores, x='k', y='score_mean', hue='col', alpha=1)\n",
    "        plt.legend(title='variable ajoutée',\n",
    "                   bbox_to_anchor=(1.1, 0.5), loc=\"center left\")\n",
    "    elif error_bars:\n",
    "        plt.errorbar(data=scores, x='k', y='score_mean', yerr='score_std')\n",
    "    else:\n",
    "        sns.scatterplot(data=scores, x='k', y='score_mean')\n",
    "\n",
    "    if scoring_ == 'r2':\n",
    "        plt.ylabel(\"r2 score (% variance explained)\")\n",
    "    # elif scoring_.startswith('neg_'):\n",
    "    #     plt.ylabel(f'score ({scoring_[4:]})')\n",
    "    else:\n",
    "        plt.ylabel(f'score ({scoring_})')\n",
    "\n",
    "    plt.title(\"Performance du modèle en fonction de nombre de variables\")\n",
    "    plt.xlabel(\"nombre de variables sélectionnées (k)\")\n",
    "    sns.despine()\n",
    "    return scores\n"
   ]
  },
  {
   "cell_type": "code",
   "execution_count": 40,
   "metadata": {},
   "outputs": [],
   "source": [
    "def plot_kbest_adaboost():\n",
    "    from sklearn.ensemble import AdaBoostClassifier\n",
    "    with timer('AdaBoost - KBest(f_classif)'):\n",
    "        # quelque minutes\n",
    "        x_sample, y_sample = sample_data(x_train_prep, y_train, nb=10000)\n",
    "        cols = plot_k_best(AdaBoostClassifier(), x_sample,\n",
    "                           y_sample, scoring_='roc_auc', kbest_score_func=f_classif)\n",
    "    print(cols[:5])\n",
    "    plt.suptitle('AdaBoost - KBest(f_classif), scoring = roc_auc')\n",
    "    to_png()\n",
    "\n",
    "# plot_kbest_adaboost()\n"
   ]
  },
  {
   "cell_type": "code",
   "execution_count": 41,
   "metadata": {},
   "outputs": [
    {
     "name": "stdout",
     "output_type": "stream",
     "text": [
      "Ridge - KBest(f_classif) - done in 29s\n",
      "   score_mean                                     col  score_std  k\n",
      "0    0.530613                            PAYMENT_RATE   0.033257  1\n",
      "1    0.651467                            EXT_SOURCE_3   0.038021  2\n",
      "2    0.709650                            EXT_SOURCE_2   0.021686  3\n",
      "3    0.722970                            EXT_SOURCE_1   0.017656  4\n",
      "4    0.709997  AMT_ANNUITY,REGION_POPULATION_RELATIVE   0.021670  5\n",
      "\"RidgeClassifier_-_KBest(f_classif),_scoring_=_roc_auc.png\"\n"
     ]
    },
    {
     "data": {
      "image/png": "[encoded data removed]",
      "text/plain": [
       "<Figure size 432x288 with 1 Axes>"
      ]
     },
     "metadata": {},
     "output_type": "display_data"
    }
   ],
   "source": [
    "def plot_kbest_ridge():\n",
    "    from sklearn.linear_model import RidgeClassifier\n",
    "    with timer('Ridge - KBest(f_classif)'):\n",
    "        # quelque minutes\n",
    "        x_sample, y_sample = sample_data(x_train_prep, y_train, nb=10000)\n",
    "        cols = plot_k_best(RidgeClassifier(), x_sample,\n",
    "                           y_sample, scoring_='roc_auc', kmax=7, kbest_score_func=f_classif)\n",
    "    print(cols[:5])\n",
    "    plt.suptitle('RidgeClassifier - KBest(f_classif), scoring = roc_auc')\n",
    "    to_png()\n",
    "\n",
    "\n",
    "plot_kbest_ridge()\n"
   ]
  },
  {
   "cell_type": "markdown",
   "metadata": {},
   "source": [
    "### Conclusions sur Feature Selection\n",
    "\n",
    "Sans optimisation des hyperparamètres, on voit que 4 ou 5 variables domine la performance des modeles (ROC_AUC)\n"
   ]
  },
  {
   "cell_type": "markdown",
   "metadata": {},
   "source": [
    "# Les métriques d'évaluation\n"
   ]
  },
  {
   "cell_type": "code",
   "execution_count": 42,
   "metadata": {},
   "outputs": [
    {
     "name": "stdout",
     "output_type": "stream",
     "text": [
      "['explained_variance', 'r2', 'max_error', 'neg_median_absolute_error', 'neg_mean_absolute_error', 'neg_mean_absolute_percentage_error', 'neg_mean_squared_error', 'neg_mean_squared_log_error', 'neg_root_mean_squared_error', 'neg_mean_poisson_deviance', 'neg_mean_gamma_deviance', 'accuracy', 'top_k_accuracy', 'roc_auc', 'roc_auc_ovr', 'roc_auc_ovo', 'roc_auc_ovr_weighted', 'roc_auc_ovo_weighted', 'balanced_accuracy', 'average_precision', 'neg_log_loss', 'neg_brier_score', 'adjusted_rand_score', 'rand_score', 'homogeneity_score', 'completeness_score', 'v_measure_score', 'mutual_info_score', 'adjusted_mutual_info_score', 'normalized_mutual_info_score', 'fowlkes_mallows_score', 'precision', 'precision_macro', 'precision_micro', 'precision_samples', 'precision_weighted', 'recall', 'recall_macro', 'recall_micro', 'recall_samples', 'recall_weighted', 'f1', 'f1_macro', 'f1_micro', 'f1_samples', 'f1_weighted', 'jaccard', 'jaccard_macro', 'jaccard_micro', 'jaccard_samples', 'jaccard_weighted']\n"
     ]
    }
   ],
   "source": [
    "from sklearn.metrics import SCORERS\n",
    "\n",
    "print(list(SCORERS))\n"
   ]
  },
  {
   "cell_type": "markdown",
   "metadata": {},
   "source": [
    "Pour la classification binaire, les métriques pour estimer les erreurs entre y_pred et y_test sont :\n",
    "\n",
    "**ROC AUC (Area Under the Curve)**\n",
    "\n",
    "- peut être comparé entre modèles\n",
    "\n",
    "**log loss**\n",
    "\n",
    "- logistic loss or cross-entropy loss. Normalement utilisé s'il y a plus de 2 classes dans TARGET\n",
    "\n",
    "**precision**\n",
    "Quelle portion du target prédit sont du vrai classe ?\n",
    "\n",
    "- precision = TP / (TP + FP)\n",
    "\n",
    "**recall**\n",
    "Quelle portion du vrai classe sont présent dans le classe prédit ?\n",
    "\n",
    "- recall = TP / (TP + FN)\n",
    "\n",
    "**F1-score**\n",
    "Accuracy équilibré\n",
    "\n",
    "- F1 = 2 _ (precision _ recall) / (precision + recall)\n",
    "- F1 = (2 _ TP) / (2 _ TP + FP + FN)\n",
    "\n",
    "**Fbeta-score**\n",
    "Generalisation de F1-score pour mettre plus de poids sur precision (ex beta=0.5), ou pour mettre plus de poid sur recall (ex: beta=2)\n"
   ]
  },
  {
   "cell_type": "markdown",
   "metadata": {},
   "source": [
    "### Custom Credit Scorer\n",
    "\n",
    "Pour la banque, le cout d'un faux positif (donner un prêt à un mauvais payeur) est plus que le cout d'un faux negatif (refuser un prêt à un bon client)\n",
    "\n",
    "Donc, il faut penaliser les faux positif plus que les faux negatif\n"
   ]
  },
  {
   "cell_type": "code",
   "execution_count": 43,
   "metadata": {},
   "outputs": [],
   "source": [
    "def custom_credit_score(y_test, y_pred):\n",
    "    \"\"\"\n",
    "    Penalise les prêts qui ne sont pas repayés (perte plus importante que si on ne prend pas un client bon)\n",
    "    (TN - FP - 3*FN)\n",
    "    \"\"\"\n",
    "    cm = metrics.confusion_matrix(y_test, y_pred)\n",
    "    # y_true=0 (bon), y_pred=0 (bon) - ce que le banque veut donner un pret\n",
    "    TN = cm[0, 0]\n",
    "    # y_true=1 (mauvais), y_pred=1 (bon) - grand perte pour la banque\n",
    "    FN = cm[1, 0]\n",
    "    # y_true=0 (bon), y_pred=1 (mauvais) - petit perte (manque de preter à un bon client\n",
    "    FP = cm[0, 1]\n",
    "    # y_true=1 (mauvais), y_pred=1 (mauvais) - ce que la banque veut refuser\n",
    "    TP = cm[1, 1]\n",
    "    # bank_profit = TN * valeur_par_pret_fait\n",
    "    # bank_loss = FN * grand_pert_mauvais_pret + FP * valeur_par_pret_perdu\n",
    "    # bank_net_profit = bank_profit - bank loss\n",
    "    # bank_net_profit = (TN - FP) * valeur_par_pret - FN * grand_pert_mauvais_pret\n",
    "    # normalise par la taille de l'echantillon (cm.sum())\n",
    "    valeur_par_pret = 1  # suppose la valeur des prêts fait ou perdus sont identiques\n",
    "    # (on suppose que la cout d'un mauvais prêt et 3 fois le rentabilité d'un bon prêt)\n",
    "    grand_pert_mauvais_pret = 3\n",
    "    profit_score = (TN - FP - 3*FN)/cm.sum()\n",
    "    return profit_score\n"
   ]
  },
  {
   "cell_type": "code",
   "execution_count": 44,
   "metadata": {},
   "outputs": [
    {
     "name": "stdout",
     "output_type": "stream",
     "text": [
      "[[1 1]\n",
      " [1 1]]\n",
      "{'roc_auc': 0.5, 'logloss': 17.27, 'precision': 0.5, 'recall': 0.5, 'f1': 0.5, 'f2': 0.5, 'f05': 0.5, 'custom_score': -0.75}\n"
     ]
    }
   ],
   "source": [
    "from sklearn import metrics\n",
    "\n",
    "# mise en constant pour référence ailleurs\n",
    "ROC_AUC = 'roc_auc'\n",
    "\n",
    "\n",
    "def performance_metrics(y_true_, y_pred_):\n",
    "    \"\"\"Plusieurs functions de cout (Loss)\"\"\"\n",
    "    loss = dict(\n",
    "        roc_auc=metrics.roc_auc_score(y_true_, y_pred_),\n",
    "        logloss=metrics.log_loss(y_true_, y_pred_),\n",
    "        precision=metrics.precision_score(y_true_, y_pred_),\n",
    "        recall=metrics.recall_score(y_true_, y_pred_),\n",
    "        f1=metrics.f1_score(y_true_, y_pred_),\n",
    "        f2=metrics.fbeta_score(y_true_, y_pred_, beta=2),\n",
    "        f05=metrics.fbeta_score(y_true_, y_pred_, beta=0.5),\n",
    "        custom_score=custom_credit_score(y_true_, y_pred_),\n",
    "    )\n",
    "    for metric in loss.keys():\n",
    "        loss[metric] = round(loss[metric], 3)\n",
    "    return loss\n",
    "\n",
    "\n",
    "y_true1 = [0, 0, 1, 1]\n",
    "y_pred1 = [0, 1, 0, 1]\n",
    "print(metrics.confusion_matrix(y_true1, y_pred1))\n",
    "print(performance_metrics(y_true1, y_pred1))\n"
   ]
  },
  {
   "cell_type": "markdown",
   "metadata": {},
   "source": [
    "### Accumulation des performances des modèles\n"
   ]
  },
  {
   "cell_type": "code",
   "execution_count": 45,
   "metadata": {},
   "outputs": [
    {
     "data": {
      "text/html": [
       "<div>\n",
       "<style scoped>\n",
       "    .dataframe tbody tr th:only-of-type {\n",
       "        vertical-align: middle;\n",
       "    }\n",
       "\n",
       "    .dataframe tbody tr th {\n",
       "        vertical-align: top;\n",
       "    }\n",
       "\n",
       "    .dataframe thead th {\n",
       "        text-align: right;\n",
       "    }\n",
       "</style>\n",
       "<table border=\"1\" class=\"dataframe\">\n",
       "  <thead>\n",
       "    <tr style=\"text-align: right;\">\n",
       "      <th></th>\n",
       "      <th>model</th>\n",
       "      <th>optimizer</th>\n",
       "    </tr>\n",
       "  </thead>\n",
       "  <tbody>\n",
       "    <tr>\n",
       "      <th>0</th>\n",
       "      <td>none</td>\n",
       "      <td>adam</td>\n",
       "    </tr>\n",
       "  </tbody>\n",
       "</table>\n",
       "</div>"
      ],
      "text/plain": [
       "  model optimizer\n",
       "0  none      adam"
      ]
     },
     "execution_count": 45,
     "metadata": {},
     "output_type": "execute_result"
    }
   ],
   "source": [
    "df_resultats = pd.DataFrame()\n",
    "\n",
    "\n",
    "def add_perf_metrics(df: pd.DataFrame = None, model_name: str = 'none', ARI: float = 0, k: int = 0, **kwargs):\n",
    "    global df_resultats\n",
    "    if df is None:\n",
    "        df = df_resultats\n",
    "    \"\"\"ajout les resultats d'un model \"\"\"\n",
    "    resultats = dict(model=model_name)\n",
    "    resultats = dict(**resultats, **kwargs)\n",
    "    df = df.append(resultats, ignore_index=True)\n",
    "    return df\n",
    "\n",
    "\n",
    "# test\n",
    "add_perf_metrics(pd.DataFrame(), optimizer='adam', k=7)\n"
   ]
  },
  {
   "cell_type": "markdown",
   "metadata": {},
   "source": [
    "## Teste des métriques de performance\n"
   ]
  },
  {
   "cell_type": "code",
   "execution_count": 46,
   "metadata": {},
   "outputs": [
    {
     "data": {
      "text/html": [
       "<div>\n",
       "<style scoped>\n",
       "    .dataframe tbody tr th:only-of-type {\n",
       "        vertical-align: middle;\n",
       "    }\n",
       "\n",
       "    .dataframe tbody tr th {\n",
       "        vertical-align: top;\n",
       "    }\n",
       "\n",
       "    .dataframe thead th {\n",
       "        text-align: right;\n",
       "    }\n",
       "</style>\n",
       "<table border=\"1\" class=\"dataframe\">\n",
       "  <thead>\n",
       "    <tr style=\"text-align: right;\">\n",
       "      <th></th>\n",
       "      <th>custom_score</th>\n",
       "      <th>f05</th>\n",
       "      <th>f1</th>\n",
       "      <th>f2</th>\n",
       "      <th>logloss</th>\n",
       "      <th>model</th>\n",
       "      <th>precision</th>\n",
       "      <th>recall</th>\n",
       "      <th>roc_auc</th>\n",
       "    </tr>\n",
       "  </thead>\n",
       "  <tbody>\n",
       "    <tr>\n",
       "      <th>3</th>\n",
       "      <td>-1.833</td>\n",
       "      <td>0.556</td>\n",
       "      <td>0.333</td>\n",
       "      <td>0.238</td>\n",
       "      <td>23.026</td>\n",
       "      <td>many bad payers</td>\n",
       "      <td>1.000</td>\n",
       "      <td>0.200</td>\n",
       "      <td>0.600</td>\n",
       "    </tr>\n",
       "    <tr>\n",
       "      <th>2</th>\n",
       "      <td>-1.250</td>\n",
       "      <td>0.714</td>\n",
       "      <td>0.500</td>\n",
       "      <td>0.385</td>\n",
       "      <td>17.269</td>\n",
       "      <td>a few bad payers</td>\n",
       "      <td>1.000</td>\n",
       "      <td>0.333</td>\n",
       "      <td>0.667</td>\n",
       "    </tr>\n",
       "    <tr>\n",
       "      <th>1</th>\n",
       "      <td>-0.750</td>\n",
       "      <td>0.500</td>\n",
       "      <td>0.500</td>\n",
       "      <td>0.500</td>\n",
       "      <td>17.270</td>\n",
       "      <td>1-each (TN,FN,FP,TP)</td>\n",
       "      <td>0.500</td>\n",
       "      <td>0.500</td>\n",
       "      <td>0.500</td>\n",
       "    </tr>\n",
       "    <tr>\n",
       "      <th>5</th>\n",
       "      <td>-0.500</td>\n",
       "      <td>0.238</td>\n",
       "      <td>0.333</td>\n",
       "      <td>0.556</td>\n",
       "      <td>23.026</td>\n",
       "      <td>many wrong refusals</td>\n",
       "      <td>0.200</td>\n",
       "      <td>1.000</td>\n",
       "      <td>0.600</td>\n",
       "    </tr>\n",
       "    <tr>\n",
       "      <th>4</th>\n",
       "      <td>-0.250</td>\n",
       "      <td>0.385</td>\n",
       "      <td>0.500</td>\n",
       "      <td>0.714</td>\n",
       "      <td>17.270</td>\n",
       "      <td>a few wrong refusals</td>\n",
       "      <td>0.333</td>\n",
       "      <td>1.000</td>\n",
       "      <td>0.667</td>\n",
       "    </tr>\n",
       "    <tr>\n",
       "      <th>0</th>\n",
       "      <td>0.500</td>\n",
       "      <td>1.000</td>\n",
       "      <td>1.000</td>\n",
       "      <td>1.000</td>\n",
       "      <td>0.000</td>\n",
       "      <td>perfect</td>\n",
       "      <td>1.000</td>\n",
       "      <td>1.000</td>\n",
       "      <td>1.000</td>\n",
       "    </tr>\n",
       "  </tbody>\n",
       "</table>\n",
       "</div>"
      ],
      "text/plain": [
       "   custom_score    f05     f1     f2  logloss                 model  \\\n",
       "3        -1.833  0.556  0.333  0.238   23.026       many bad payers   \n",
       "2        -1.250  0.714  0.500  0.385   17.269      a few bad payers   \n",
       "1        -0.750  0.500  0.500  0.500   17.270  1-each (TN,FN,FP,TP)   \n",
       "5        -0.500  0.238  0.333  0.556   23.026   many wrong refusals   \n",
       "4        -0.250  0.385  0.500  0.714   17.270  a few wrong refusals   \n",
       "0         0.500  1.000  1.000  1.000    0.000               perfect   \n",
       "\n",
       "   precision  recall  roc_auc  \n",
       "3      1.000   0.200    0.600  \n",
       "2      1.000   0.333    0.667  \n",
       "1      0.500   0.500    0.500  \n",
       "5      0.200   1.000    0.600  \n",
       "4      0.333   1.000    0.667  \n",
       "0      1.000   1.000    1.000  "
      ]
     },
     "execution_count": 46,
     "metadata": {},
     "output_type": "execute_result"
    }
   ],
   "source": [
    "y_true1 = [0, 0, 1, 1]\n",
    "y_pred1 = [0, 0, 1, 1]\n",
    "perf = performance_metrics(y_true1, y_pred1)\n",
    "df_temp = add_perf_metrics(pd.DataFrame(), 'perfect', **perf)\n",
    "y_true1 = [0, 0, 1, 1]\n",
    "y_pred1 = [0, 1, 0, 1]\n",
    "perf = performance_metrics(y_true1, y_pred1)\n",
    "df_temp = add_perf_metrics(df_temp, '1-each (TN,FN,FP,TP)', **perf)\n",
    "y_true1 = [1, 1, 0, 1]\n",
    "y_pred1 = [0, 0, 0, 1]\n",
    "perf = performance_metrics(y_true1, y_pred1)\n",
    "df_temp = add_perf_metrics(df_temp, 'a few bad payers', **perf)\n",
    "y_true1 = [1, 1, 1, 1, 0, 1]\n",
    "y_pred1 = [0, 0, 0, 0, 0, 1]\n",
    "perf = performance_metrics(y_true1, y_pred1)\n",
    "df_temp = add_perf_metrics(df_temp, 'many bad payers', **perf)\n",
    "y_true1 = [0, 0, 0, 1]\n",
    "y_pred1 = [0, 1, 1, 1]\n",
    "perf = performance_metrics(y_true1, y_pred1)\n",
    "df_temp = add_perf_metrics(df_temp, 'a few wrong refusals', **perf)\n",
    "y_true1 = [0, 0, 0, 0, 0, 1]\n",
    "y_pred1 = [0, 1, 1, 1, 1, 1]\n",
    "perf = performance_metrics(y_true1, y_pred1)\n",
    "df_temp = add_perf_metrics(df_temp, 'many wrong refusals', **perf)\n",
    "df_temp.sort_values(by='custom_score')\n"
   ]
  },
  {
   "cell_type": "markdown",
   "metadata": {},
   "source": [
    "On voit qu'on peut utiliser F2-score, par exemple, au lieu de custom scorer\n",
    "\n",
    "On essaie d'optimiser roc_auc, en suivant custom_score et f2_score\n"
   ]
  },
  {
   "cell_type": "code",
   "execution_count": 47,
   "metadata": {},
   "outputs": [],
   "source": [
    "custom_scorer = metrics.make_scorer(\n",
    "    custom_credit_score, greater_is_better=True)\n",
    "f2_scorer = metrics.make_scorer(\n",
    "    metrics.fbeta_score, greater_is_better=True, beta=2)\n",
    "\n",
    "# GridsearchCV attend un dictionnaire si on fourni plusieurs scorers\n",
    "CV_SCORERS = {\n",
    "    'roc_auc': 'roc_auc',\n",
    "    'custom_scorer': custom_scorer,\n",
    "    'f2_scorer': f2_scorer\n",
    "}\n"
   ]
  },
  {
   "cell_type": "markdown",
   "metadata": {},
   "source": [
    "# GridSearch et évaluation\n"
   ]
  },
  {
   "cell_type": "markdown",
   "metadata": {},
   "source": [
    "## Gridsearch sur un model pipeline\n",
    "\n",
    "On utilise sklearn pipeline (ou imblearn pipelibe si on ajout de sampling dnas le pipeline)\n"
   ]
  },
  {
   "cell_type": "code",
   "execution_count": 48,
   "metadata": {},
   "outputs": [
    {
     "name": "stdout",
     "output_type": "stream",
     "text": [
      "Fitting 5 folds for each of 7 candidates, totalling 35 fits\n"
     ]
    },
    {
     "data": {
      "text/html": [
       "<div>\n",
       "<style scoped>\n",
       "    .dataframe tbody tr th:only-of-type {\n",
       "        vertical-align: middle;\n",
       "    }\n",
       "\n",
       "    .dataframe tbody tr th {\n",
       "        vertical-align: top;\n",
       "    }\n",
       "\n",
       "    .dataframe thead th {\n",
       "        text-align: right;\n",
       "    }\n",
       "</style>\n",
       "<table border=\"1\" class=\"dataframe\">\n",
       "  <thead>\n",
       "    <tr style=\"text-align: right;\">\n",
       "      <th></th>\n",
       "      <th>mean_fit_time</th>\n",
       "      <th>std_fit_time</th>\n",
       "      <th>mean_score_time</th>\n",
       "      <th>std_score_time</th>\n",
       "      <th>param_clf__alpha</th>\n",
       "      <th>params</th>\n",
       "      <th>split0_test_roc_auc</th>\n",
       "      <th>split1_test_roc_auc</th>\n",
       "      <th>split2_test_roc_auc</th>\n",
       "      <th>split3_test_roc_auc</th>\n",
       "      <th>split4_test_roc_auc</th>\n",
       "      <th>mean_test_roc_auc</th>\n",
       "      <th>std_test_roc_auc</th>\n",
       "      <th>rank_test_roc_auc</th>\n",
       "      <th>split0_train_roc_auc</th>\n",
       "      <th>split1_train_roc_auc</th>\n",
       "      <th>split2_train_roc_auc</th>\n",
       "      <th>split3_train_roc_auc</th>\n",
       "      <th>split4_train_roc_auc</th>\n",
       "      <th>mean_train_roc_auc</th>\n",
       "      <th>std_train_roc_auc</th>\n",
       "      <th>split0_test_custom_scorer</th>\n",
       "      <th>split1_test_custom_scorer</th>\n",
       "      <th>split2_test_custom_scorer</th>\n",
       "      <th>split3_test_custom_scorer</th>\n",
       "      <th>split4_test_custom_scorer</th>\n",
       "      <th>mean_test_custom_scorer</th>\n",
       "      <th>std_test_custom_scorer</th>\n",
       "      <th>rank_test_custom_scorer</th>\n",
       "      <th>split0_train_custom_scorer</th>\n",
       "      <th>split1_train_custom_scorer</th>\n",
       "      <th>split2_train_custom_scorer</th>\n",
       "      <th>split3_train_custom_scorer</th>\n",
       "      <th>split4_train_custom_scorer</th>\n",
       "      <th>mean_train_custom_scorer</th>\n",
       "      <th>std_train_custom_scorer</th>\n",
       "      <th>split0_test_f2_scorer</th>\n",
       "      <th>split1_test_f2_scorer</th>\n",
       "      <th>split2_test_f2_scorer</th>\n",
       "      <th>split3_test_f2_scorer</th>\n",
       "      <th>split4_test_f2_scorer</th>\n",
       "      <th>mean_test_f2_scorer</th>\n",
       "      <th>std_test_f2_scorer</th>\n",
       "      <th>rank_test_f2_scorer</th>\n",
       "      <th>split0_train_f2_scorer</th>\n",
       "      <th>split1_train_f2_scorer</th>\n",
       "      <th>split2_train_f2_scorer</th>\n",
       "      <th>split3_train_f2_scorer</th>\n",
       "      <th>split4_train_f2_scorer</th>\n",
       "      <th>mean_train_f2_scorer</th>\n",
       "      <th>std_train_f2_scorer</th>\n",
       "    </tr>\n",
       "  </thead>\n",
       "  <tbody>\n",
       "    <tr>\n",
       "      <th>0</th>\n",
       "      <td>0.710619</td>\n",
       "      <td>0.170703</td>\n",
       "      <td>0.051387</td>\n",
       "      <td>0.012876</td>\n",
       "      <td>0.001</td>\n",
       "      <td>{'clf__alpha': 0.001}</td>\n",
       "      <td>0.724055</td>\n",
       "      <td>0.720487</td>\n",
       "      <td>0.759196</td>\n",
       "      <td>0.748343</td>\n",
       "      <td>0.746310</td>\n",
       "      <td>0.739678</td>\n",
       "      <td>0.014916</td>\n",
       "      <td>5</td>\n",
       "      <td>0.769567</td>\n",
       "      <td>0.770443</td>\n",
       "      <td>0.763460</td>\n",
       "      <td>0.764231</td>\n",
       "      <td>0.761828</td>\n",
       "      <td>0.765906</td>\n",
       "      <td>0.003447</td>\n",
       "      <td>0.31625</td>\n",
       "      <td>0.236875</td>\n",
       "      <td>0.30875</td>\n",
       "      <td>0.328125</td>\n",
       "      <td>0.30125</td>\n",
       "      <td>0.29825</td>\n",
       "      <td>0.031946</td>\n",
       "      <td>3</td>\n",
       "      <td>0.324219</td>\n",
       "      <td>0.318906</td>\n",
       "      <td>0.314063</td>\n",
       "      <td>0.311719</td>\n",
       "      <td>0.300000</td>\n",
       "      <td>0.313781</td>\n",
       "      <td>0.008117</td>\n",
       "      <td>0.418288</td>\n",
       "      <td>0.404914</td>\n",
       "      <td>0.424301</td>\n",
       "      <td>0.426889</td>\n",
       "      <td>0.421860</td>\n",
       "      <td>0.419250</td>\n",
       "      <td>0.007709</td>\n",
       "      <td>3</td>\n",
       "      <td>0.443451</td>\n",
       "      <td>0.450957</td>\n",
       "      <td>0.442584</td>\n",
       "      <td>0.442721</td>\n",
       "      <td>0.436019</td>\n",
       "      <td>0.443146</td>\n",
       "      <td>0.004741</td>\n",
       "    </tr>\n",
       "    <tr>\n",
       "      <th>1</th>\n",
       "      <td>0.746412</td>\n",
       "      <td>0.133843</td>\n",
       "      <td>0.048671</td>\n",
       "      <td>0.005897</td>\n",
       "      <td>0.01</td>\n",
       "      <td>{'clf__alpha': 0.01}</td>\n",
       "      <td>0.724055</td>\n",
       "      <td>0.720487</td>\n",
       "      <td>0.759196</td>\n",
       "      <td>0.748343</td>\n",
       "      <td>0.746310</td>\n",
       "      <td>0.739678</td>\n",
       "      <td>0.014916</td>\n",
       "      <td>5</td>\n",
       "      <td>0.769567</td>\n",
       "      <td>0.770442</td>\n",
       "      <td>0.763460</td>\n",
       "      <td>0.764231</td>\n",
       "      <td>0.761828</td>\n",
       "      <td>0.765906</td>\n",
       "      <td>0.003447</td>\n",
       "      <td>0.31625</td>\n",
       "      <td>0.236875</td>\n",
       "      <td>0.30875</td>\n",
       "      <td>0.328125</td>\n",
       "      <td>0.30125</td>\n",
       "      <td>0.29825</td>\n",
       "      <td>0.031946</td>\n",
       "      <td>3</td>\n",
       "      <td>0.324219</td>\n",
       "      <td>0.318906</td>\n",
       "      <td>0.314063</td>\n",
       "      <td>0.311719</td>\n",
       "      <td>0.300000</td>\n",
       "      <td>0.313781</td>\n",
       "      <td>0.008117</td>\n",
       "      <td>0.418288</td>\n",
       "      <td>0.404914</td>\n",
       "      <td>0.424301</td>\n",
       "      <td>0.426889</td>\n",
       "      <td>0.421860</td>\n",
       "      <td>0.419250</td>\n",
       "      <td>0.007709</td>\n",
       "      <td>3</td>\n",
       "      <td>0.443451</td>\n",
       "      <td>0.450957</td>\n",
       "      <td>0.442584</td>\n",
       "      <td>0.442721</td>\n",
       "      <td>0.436019</td>\n",
       "      <td>0.443146</td>\n",
       "      <td>0.004741</td>\n",
       "    </tr>\n",
       "    <tr>\n",
       "      <th>2</th>\n",
       "      <td>0.597602</td>\n",
       "      <td>0.057755</td>\n",
       "      <td>0.046277</td>\n",
       "      <td>0.010320</td>\n",
       "      <td>0.1</td>\n",
       "      <td>{'clf__alpha': 0.1}</td>\n",
       "      <td>0.724055</td>\n",
       "      <td>0.720487</td>\n",
       "      <td>0.759196</td>\n",
       "      <td>0.748333</td>\n",
       "      <td>0.746310</td>\n",
       "      <td>0.739676</td>\n",
       "      <td>0.014915</td>\n",
       "      <td>7</td>\n",
       "      <td>0.769568</td>\n",
       "      <td>0.770442</td>\n",
       "      <td>0.763459</td>\n",
       "      <td>0.764232</td>\n",
       "      <td>0.761829</td>\n",
       "      <td>0.765906</td>\n",
       "      <td>0.003447</td>\n",
       "      <td>0.31625</td>\n",
       "      <td>0.236875</td>\n",
       "      <td>0.30875</td>\n",
       "      <td>0.328125</td>\n",
       "      <td>0.30125</td>\n",
       "      <td>0.29825</td>\n",
       "      <td>0.031946</td>\n",
       "      <td>3</td>\n",
       "      <td>0.324219</td>\n",
       "      <td>0.318906</td>\n",
       "      <td>0.314063</td>\n",
       "      <td>0.311719</td>\n",
       "      <td>0.300000</td>\n",
       "      <td>0.313781</td>\n",
       "      <td>0.008117</td>\n",
       "      <td>0.418288</td>\n",
       "      <td>0.404914</td>\n",
       "      <td>0.424301</td>\n",
       "      <td>0.426889</td>\n",
       "      <td>0.421860</td>\n",
       "      <td>0.419250</td>\n",
       "      <td>0.007709</td>\n",
       "      <td>3</td>\n",
       "      <td>0.443451</td>\n",
       "      <td>0.450957</td>\n",
       "      <td>0.442584</td>\n",
       "      <td>0.442721</td>\n",
       "      <td>0.436019</td>\n",
       "      <td>0.443146</td>\n",
       "      <td>0.004741</td>\n",
       "    </tr>\n",
       "    <tr>\n",
       "      <th>3</th>\n",
       "      <td>0.514623</td>\n",
       "      <td>0.021109</td>\n",
       "      <td>0.042086</td>\n",
       "      <td>0.004297</td>\n",
       "      <td>1</td>\n",
       "      <td>{'clf__alpha': 1}</td>\n",
       "      <td>0.724080</td>\n",
       "      <td>0.720498</td>\n",
       "      <td>0.759191</td>\n",
       "      <td>0.748369</td>\n",
       "      <td>0.746315</td>\n",
       "      <td>0.739691</td>\n",
       "      <td>0.014910</td>\n",
       "      <td>4</td>\n",
       "      <td>0.769563</td>\n",
       "      <td>0.770443</td>\n",
       "      <td>0.763455</td>\n",
       "      <td>0.764234</td>\n",
       "      <td>0.761831</td>\n",
       "      <td>0.765905</td>\n",
       "      <td>0.003446</td>\n",
       "      <td>0.31625</td>\n",
       "      <td>0.236875</td>\n",
       "      <td>0.30875</td>\n",
       "      <td>0.328125</td>\n",
       "      <td>0.30125</td>\n",
       "      <td>0.29825</td>\n",
       "      <td>0.031946</td>\n",
       "      <td>3</td>\n",
       "      <td>0.323750</td>\n",
       "      <td>0.318906</td>\n",
       "      <td>0.314063</td>\n",
       "      <td>0.312031</td>\n",
       "      <td>0.300000</td>\n",
       "      <td>0.313750</td>\n",
       "      <td>0.007984</td>\n",
       "      <td>0.418288</td>\n",
       "      <td>0.404914</td>\n",
       "      <td>0.424301</td>\n",
       "      <td>0.426889</td>\n",
       "      <td>0.421860</td>\n",
       "      <td>0.419250</td>\n",
       "      <td>0.007709</td>\n",
       "      <td>3</td>\n",
       "      <td>0.442350</td>\n",
       "      <td>0.450957</td>\n",
       "      <td>0.442584</td>\n",
       "      <td>0.442826</td>\n",
       "      <td>0.436019</td>\n",
       "      <td>0.442947</td>\n",
       "      <td>0.004747</td>\n",
       "    </tr>\n",
       "    <tr>\n",
       "      <th>4</th>\n",
       "      <td>0.494876</td>\n",
       "      <td>0.010525</td>\n",
       "      <td>0.043882</td>\n",
       "      <td>0.003154</td>\n",
       "      <td>10</td>\n",
       "      <td>{'clf__alpha': 10}</td>\n",
       "      <td>0.724096</td>\n",
       "      <td>0.720549</td>\n",
       "      <td>0.759191</td>\n",
       "      <td>0.748390</td>\n",
       "      <td>0.746362</td>\n",
       "      <td>0.739717</td>\n",
       "      <td>0.014900</td>\n",
       "      <td>3</td>\n",
       "      <td>0.769580</td>\n",
       "      <td>0.770454</td>\n",
       "      <td>0.763455</td>\n",
       "      <td>0.764257</td>\n",
       "      <td>0.761841</td>\n",
       "      <td>0.765917</td>\n",
       "      <td>0.003448</td>\n",
       "      <td>0.31625</td>\n",
       "      <td>0.236875</td>\n",
       "      <td>0.30875</td>\n",
       "      <td>0.328125</td>\n",
       "      <td>0.30250</td>\n",
       "      <td>0.29850</td>\n",
       "      <td>0.031973</td>\n",
       "      <td>2</td>\n",
       "      <td>0.324062</td>\n",
       "      <td>0.318906</td>\n",
       "      <td>0.313750</td>\n",
       "      <td>0.311094</td>\n",
       "      <td>0.300625</td>\n",
       "      <td>0.313688</td>\n",
       "      <td>0.007902</td>\n",
       "      <td>0.418288</td>\n",
       "      <td>0.404914</td>\n",
       "      <td>0.424301</td>\n",
       "      <td>0.426889</td>\n",
       "      <td>0.422265</td>\n",
       "      <td>0.419331</td>\n",
       "      <td>0.007738</td>\n",
       "      <td>2</td>\n",
       "      <td>0.442456</td>\n",
       "      <td>0.450957</td>\n",
       "      <td>0.442478</td>\n",
       "      <td>0.440650</td>\n",
       "      <td>0.436226</td>\n",
       "      <td>0.442553</td>\n",
       "      <td>0.004781</td>\n",
       "    </tr>\n",
       "  </tbody>\n",
       "</table>\n",
       "</div>"
      ],
      "text/plain": [
       "   mean_fit_time  std_fit_time  mean_score_time  std_score_time  \\\n",
       "0       0.710619      0.170703         0.051387        0.012876   \n",
       "1       0.746412      0.133843         0.048671        0.005897   \n",
       "2       0.597602      0.057755         0.046277        0.010320   \n",
       "3       0.514623      0.021109         0.042086        0.004297   \n",
       "4       0.494876      0.010525         0.043882        0.003154   \n",
       "\n",
       "  param_clf__alpha                 params  split0_test_roc_auc  \\\n",
       "0            0.001  {'clf__alpha': 0.001}             0.724055   \n",
       "1             0.01   {'clf__alpha': 0.01}             0.724055   \n",
       "2              0.1    {'clf__alpha': 0.1}             0.724055   \n",
       "3                1      {'clf__alpha': 1}             0.724080   \n",
       "4               10     {'clf__alpha': 10}             0.724096   \n",
       "\n",
       "   split1_test_roc_auc  split2_test_roc_auc  split3_test_roc_auc  \\\n",
       "0             0.720487             0.759196             0.748343   \n",
       "1             0.720487             0.759196             0.748343   \n",
       "2             0.720487             0.759196             0.748333   \n",
       "3             0.720498             0.759191             0.748369   \n",
       "4             0.720549             0.759191             0.748390   \n",
       "\n",
       "   split4_test_roc_auc  mean_test_roc_auc  std_test_roc_auc  \\\n",
       "0             0.746310           0.739678          0.014916   \n",
       "1             0.746310           0.739678          0.014916   \n",
       "2             0.746310           0.739676          0.014915   \n",
       "3             0.746315           0.739691          0.014910   \n",
       "4             0.746362           0.739717          0.014900   \n",
       "\n",
       "   rank_test_roc_auc  split0_train_roc_auc  split1_train_roc_auc  \\\n",
       "0                  5              0.769567              0.770443   \n",
       "1                  5              0.769567              0.770442   \n",
       "2                  7              0.769568              0.770442   \n",
       "3                  4              0.769563              0.770443   \n",
       "4                  3              0.769580              0.770454   \n",
       "\n",
       "   split2_train_roc_auc  split3_train_roc_auc  split4_train_roc_auc  \\\n",
       "0              0.763460              0.764231              0.761828   \n",
       "1              0.763460              0.764231              0.761828   \n",
       "2              0.763459              0.764232              0.761829   \n",
       "3              0.763455              0.764234              0.761831   \n",
       "4              0.763455              0.764257              0.761841   \n",
       "\n",
       "   mean_train_roc_auc  std_train_roc_auc  split0_test_custom_scorer  \\\n",
       "0            0.765906           0.003447                    0.31625   \n",
       "1            0.765906           0.003447                    0.31625   \n",
       "2            0.765906           0.003447                    0.31625   \n",
       "3            0.765905           0.003446                    0.31625   \n",
       "4            0.765917           0.003448                    0.31625   \n",
       "\n",
       "   split1_test_custom_scorer  split2_test_custom_scorer  \\\n",
       "0                   0.236875                    0.30875   \n",
       "1                   0.236875                    0.30875   \n",
       "2                   0.236875                    0.30875   \n",
       "3                   0.236875                    0.30875   \n",
       "4                   0.236875                    0.30875   \n",
       "\n",
       "   split3_test_custom_scorer  split4_test_custom_scorer  \\\n",
       "0                   0.328125                    0.30125   \n",
       "1                   0.328125                    0.30125   \n",
       "2                   0.328125                    0.30125   \n",
       "3                   0.328125                    0.30125   \n",
       "4                   0.328125                    0.30250   \n",
       "\n",
       "   mean_test_custom_scorer  std_test_custom_scorer  rank_test_custom_scorer  \\\n",
       "0                  0.29825                0.031946                        3   \n",
       "1                  0.29825                0.031946                        3   \n",
       "2                  0.29825                0.031946                        3   \n",
       "3                  0.29825                0.031946                        3   \n",
       "4                  0.29850                0.031973                        2   \n",
       "\n",
       "   split0_train_custom_scorer  split1_train_custom_scorer  \\\n",
       "0                    0.324219                    0.318906   \n",
       "1                    0.324219                    0.318906   \n",
       "2                    0.324219                    0.318906   \n",
       "3                    0.323750                    0.318906   \n",
       "4                    0.324062                    0.318906   \n",
       "\n",
       "   split2_train_custom_scorer  split3_train_custom_scorer  \\\n",
       "0                    0.314063                    0.311719   \n",
       "1                    0.314063                    0.311719   \n",
       "2                    0.314063                    0.311719   \n",
       "3                    0.314063                    0.312031   \n",
       "4                    0.313750                    0.311094   \n",
       "\n",
       "   split4_train_custom_scorer  mean_train_custom_scorer  \\\n",
       "0                    0.300000                  0.313781   \n",
       "1                    0.300000                  0.313781   \n",
       "2                    0.300000                  0.313781   \n",
       "3                    0.300000                  0.313750   \n",
       "4                    0.300625                  0.313688   \n",
       "\n",
       "   std_train_custom_scorer  split0_test_f2_scorer  split1_test_f2_scorer  \\\n",
       "0                 0.008117               0.418288               0.404914   \n",
       "1                 0.008117               0.418288               0.404914   \n",
       "2                 0.008117               0.418288               0.404914   \n",
       "3                 0.007984               0.418288               0.404914   \n",
       "4                 0.007902               0.418288               0.404914   \n",
       "\n",
       "   split2_test_f2_scorer  split3_test_f2_scorer  split4_test_f2_scorer  \\\n",
       "0               0.424301               0.426889               0.421860   \n",
       "1               0.424301               0.426889               0.421860   \n",
       "2               0.424301               0.426889               0.421860   \n",
       "3               0.424301               0.426889               0.421860   \n",
       "4               0.424301               0.426889               0.422265   \n",
       "\n",
       "   mean_test_f2_scorer  std_test_f2_scorer  rank_test_f2_scorer  \\\n",
       "0             0.419250            0.007709                    3   \n",
       "1             0.419250            0.007709                    3   \n",
       "2             0.419250            0.007709                    3   \n",
       "3             0.419250            0.007709                    3   \n",
       "4             0.419331            0.007738                    2   \n",
       "\n",
       "   split0_train_f2_scorer  split1_train_f2_scorer  split2_train_f2_scorer  \\\n",
       "0                0.443451                0.450957                0.442584   \n",
       "1                0.443451                0.450957                0.442584   \n",
       "2                0.443451                0.450957                0.442584   \n",
       "3                0.442350                0.450957                0.442584   \n",
       "4                0.442456                0.450957                0.442478   \n",
       "\n",
       "   split3_train_f2_scorer  split4_train_f2_scorer  mean_train_f2_scorer  \\\n",
       "0                0.442721                0.436019              0.443146   \n",
       "1                0.442721                0.436019              0.443146   \n",
       "2                0.442721                0.436019              0.443146   \n",
       "3                0.442826                0.436019              0.442947   \n",
       "4                0.440650                0.436226              0.442553   \n",
       "\n",
       "   std_train_f2_scorer  \n",
       "0             0.004741  \n",
       "1             0.004741  \n",
       "2             0.004741  \n",
       "3             0.004747  \n",
       "4             0.004781  "
      ]
     },
     "execution_count": 48,
     "metadata": {},
     "output_type": "execute_result"
    }
   ],
   "source": [
    "# Test GridSearch\n",
    "grid_search = GridSearchCV(estimator=test_model,\n",
    "                           param_grid=param_grid,\n",
    "                           scoring=CV_SCORERS,\n",
    "                           refit='roc_auc',\n",
    "                           cv=stratified_kfold,\n",
    "                           verbose=2,\n",
    "                           return_train_score=True,\n",
    "                           n_jobs=-1)\n",
    "\n",
    "\n",
    "grid_search.fit(x_train_prep, y_train)\n",
    "cv_score = grid_search.best_score_\n",
    "test_score = grid_search.score(x_test_prep, y_test)\n",
    "df_cv = pd.DataFrame(grid_search.cv_results_)\n",
    "df_cv.head()\n"
   ]
  },
  {
   "cell_type": "markdown",
   "metadata": {},
   "source": [
    "## Cross-validation parameter selection\n",
    "\n",
    "- il faut valider les paramètres sélectionnés pendant grid search\n",
    "\n",
    "### Validation curves (pour sélection d'hyperparamètres)\n"
   ]
  },
  {
   "cell_type": "code",
   "execution_count": 49,
   "metadata": {},
   "outputs": [],
   "source": [
    "def plot_best_param_scores(gs, param='alpha', model_name='', score='roc_auc', logx=False):\n",
    "    cv = pd.DataFrame.from_dict(gs.cv_results_)\n",
    "    param_key = f'param_{param}'\n",
    "    if not param_key in cv.columns:\n",
    "        return f'{param_key} not in cross-validation results'\n",
    "\n",
    "    # filter by all best params, except chosen param\n",
    "    filtre = cv.index == cv.index\n",
    "    best_param = gs.best_params_[param]\n",
    "    if not isinstance(best_param, (int, float)):\n",
    "        return 'param is not a number'\n",
    "    for key in gs.best_params_.keys():\n",
    "        # print(f'key={key}, param_key={param_key}')\n",
    "        if key != param:\n",
    "            filtre &= cv[f'param_{key}'] == gs.best_params_[key]\n",
    "\n",
    "    res = cv[filtre]\n",
    "    if len(res) < 3:\n",
    "        print('filter < 3 results')\n",
    "        return res\n",
    "\n",
    "    if f'mean_train_{score}' in res.columns:\n",
    "        plt.errorbar(x=res[param_key], y=res[f'mean_train_{score}'],\n",
    "                     yerr=res[f'std_train_{score}'], label='cv train')\n",
    "    plt.errorbar(x=res[param_key], y=res[f'mean_test_{score}'],\n",
    "                 yerr=res[f'std_test_{score}'], label='cv test')\n",
    "    ax = plt.gca()\n",
    "\n",
    "    y_min, y_max = plt.ylim()\n",
    "    ax.vlines(best_param, y_min, y_max,\n",
    "              label=f'best value : {param} = {best_param:.3f}', linestyle=\"--\", color=\"tab:orange\")\n",
    "    plt.legend(loc='best')\n",
    "    plt.xlabel(f'paramètre : {param}')\n",
    "    if is_log_scale(res[param_key].values) or logx:\n",
    "        plt.xscale('log')\n",
    "    plt.ylabel(f'score ({score})')\n",
    "    plt.suptitle(f'{model_name}')\n",
    "    plt.title(f'Validation Curve (paramètre : {param})')\n",
    "    to_png(f'{model_name} - Validation Curve (paramètre : {param})')\n",
    "    plt.show()\n"
   ]
  },
  {
   "cell_type": "code",
   "execution_count": 50,
   "metadata": {},
   "outputs": [
    {
     "data": {
      "text/html": [
       "<div>\n",
       "<style scoped>\n",
       "    .dataframe tbody tr th:only-of-type {\n",
       "        vertical-align: middle;\n",
       "    }\n",
       "\n",
       "    .dataframe tbody tr th {\n",
       "        vertical-align: top;\n",
       "    }\n",
       "\n",
       "    .dataframe thead th {\n",
       "        text-align: right;\n",
       "    }\n",
       "</style>\n",
       "<table border=\"1\" class=\"dataframe\">\n",
       "  <thead>\n",
       "    <tr style=\"text-align: right;\">\n",
       "      <th></th>\n",
       "      <th>mean_fit_time</th>\n",
       "      <th>std_fit_time</th>\n",
       "      <th>mean_score_time</th>\n",
       "      <th>std_score_time</th>\n",
       "      <th>param_clf__alpha</th>\n",
       "      <th>params</th>\n",
       "      <th>split0_test_roc_auc</th>\n",
       "      <th>split1_test_roc_auc</th>\n",
       "      <th>split2_test_roc_auc</th>\n",
       "      <th>split3_test_roc_auc</th>\n",
       "      <th>split4_test_roc_auc</th>\n",
       "      <th>mean_test_roc_auc</th>\n",
       "      <th>std_test_roc_auc</th>\n",
       "      <th>rank_test_roc_auc</th>\n",
       "      <th>split0_train_roc_auc</th>\n",
       "      <th>split1_train_roc_auc</th>\n",
       "      <th>split2_train_roc_auc</th>\n",
       "      <th>split3_train_roc_auc</th>\n",
       "      <th>split4_train_roc_auc</th>\n",
       "      <th>mean_train_roc_auc</th>\n",
       "      <th>std_train_roc_auc</th>\n",
       "      <th>split0_test_custom_scorer</th>\n",
       "      <th>split1_test_custom_scorer</th>\n",
       "      <th>split2_test_custom_scorer</th>\n",
       "      <th>split3_test_custom_scorer</th>\n",
       "      <th>split4_test_custom_scorer</th>\n",
       "      <th>mean_test_custom_scorer</th>\n",
       "      <th>std_test_custom_scorer</th>\n",
       "      <th>rank_test_custom_scorer</th>\n",
       "      <th>split0_train_custom_scorer</th>\n",
       "      <th>split1_train_custom_scorer</th>\n",
       "      <th>split2_train_custom_scorer</th>\n",
       "      <th>split3_train_custom_scorer</th>\n",
       "      <th>split4_train_custom_scorer</th>\n",
       "      <th>mean_train_custom_scorer</th>\n",
       "      <th>std_train_custom_scorer</th>\n",
       "      <th>split0_test_f2_scorer</th>\n",
       "      <th>split1_test_f2_scorer</th>\n",
       "      <th>split2_test_f2_scorer</th>\n",
       "      <th>split3_test_f2_scorer</th>\n",
       "      <th>split4_test_f2_scorer</th>\n",
       "      <th>mean_test_f2_scorer</th>\n",
       "      <th>std_test_f2_scorer</th>\n",
       "      <th>rank_test_f2_scorer</th>\n",
       "      <th>split0_train_f2_scorer</th>\n",
       "      <th>split1_train_f2_scorer</th>\n",
       "      <th>split2_train_f2_scorer</th>\n",
       "      <th>split3_train_f2_scorer</th>\n",
       "      <th>split4_train_f2_scorer</th>\n",
       "      <th>mean_train_f2_scorer</th>\n",
       "      <th>std_train_f2_scorer</th>\n",
       "    </tr>\n",
       "  </thead>\n",
       "  <tbody>\n",
       "    <tr>\n",
       "      <th>0</th>\n",
       "      <td>0.265479</td>\n",
       "      <td>0.014694</td>\n",
       "      <td>0.020549</td>\n",
       "      <td>0.002152</td>\n",
       "      <td>0.001</td>\n",
       "      <td>{'clf__alpha': 0.001}</td>\n",
       "      <td>0.707326</td>\n",
       "      <td>0.724664</td>\n",
       "      <td>0.790712</td>\n",
       "      <td>0.725771</td>\n",
       "      <td>0.76222</td>\n",
       "      <td>0.742139</td>\n",
       "      <td>0.030159</td>\n",
       "      <td>12</td>\n",
       "      <td>0.770703</td>\n",
       "      <td>0.771634</td>\n",
       "      <td>0.752082</td>\n",
       "      <td>0.771581</td>\n",
       "      <td>0.761210</td>\n",
       "      <td>0.765442</td>\n",
       "      <td>0.007748</td>\n",
       "      <td>0.270625</td>\n",
       "      <td>0.265625</td>\n",
       "      <td>0.325</td>\n",
       "      <td>0.293125</td>\n",
       "      <td>0.305</td>\n",
       "      <td>0.291875</td>\n",
       "      <td>0.021962</td>\n",
       "      <td>8</td>\n",
       "      <td>0.31</td>\n",
       "      <td>0.329375</td>\n",
       "      <td>0.292969</td>\n",
       "      <td>0.329219</td>\n",
       "      <td>0.312812</td>\n",
       "      <td>0.314875</td>\n",
       "      <td>0.013593</td>\n",
       "      <td>0.377268</td>\n",
       "      <td>0.383523</td>\n",
       "      <td>0.474383</td>\n",
       "      <td>0.384615</td>\n",
       "      <td>0.430622</td>\n",
       "      <td>0.410082</td>\n",
       "      <td>0.037382</td>\n",
       "      <td>6</td>\n",
       "      <td>0.43956</td>\n",
       "      <td>0.449927</td>\n",
       "      <td>0.425355</td>\n",
       "      <td>0.444956</td>\n",
       "      <td>0.438428</td>\n",
       "      <td>0.439646</td>\n",
       "      <td>0.008242</td>\n",
       "    </tr>\n",
       "    <tr>\n",
       "      <th>1</th>\n",
       "      <td>0.236562</td>\n",
       "      <td>0.008115</td>\n",
       "      <td>0.021141</td>\n",
       "      <td>0.003806</td>\n",
       "      <td>0.00263665</td>\n",
       "      <td>{'clf__alpha': 0.0026366508987303583}</td>\n",
       "      <td>0.707326</td>\n",
       "      <td>0.724664</td>\n",
       "      <td>0.790712</td>\n",
       "      <td>0.725771</td>\n",
       "      <td>0.76222</td>\n",
       "      <td>0.742139</td>\n",
       "      <td>0.030159</td>\n",
       "      <td>12</td>\n",
       "      <td>0.770703</td>\n",
       "      <td>0.771634</td>\n",
       "      <td>0.752082</td>\n",
       "      <td>0.771581</td>\n",
       "      <td>0.761210</td>\n",
       "      <td>0.765442</td>\n",
       "      <td>0.007747</td>\n",
       "      <td>0.270625</td>\n",
       "      <td>0.265625</td>\n",
       "      <td>0.325</td>\n",
       "      <td>0.293125</td>\n",
       "      <td>0.305</td>\n",
       "      <td>0.291875</td>\n",
       "      <td>0.021962</td>\n",
       "      <td>8</td>\n",
       "      <td>0.31</td>\n",
       "      <td>0.329375</td>\n",
       "      <td>0.292969</td>\n",
       "      <td>0.329219</td>\n",
       "      <td>0.312812</td>\n",
       "      <td>0.314875</td>\n",
       "      <td>0.013593</td>\n",
       "      <td>0.377268</td>\n",
       "      <td>0.383523</td>\n",
       "      <td>0.474383</td>\n",
       "      <td>0.384615</td>\n",
       "      <td>0.430622</td>\n",
       "      <td>0.410082</td>\n",
       "      <td>0.037382</td>\n",
       "      <td>6</td>\n",
       "      <td>0.43956</td>\n",
       "      <td>0.449927</td>\n",
       "      <td>0.425355</td>\n",
       "      <td>0.444956</td>\n",
       "      <td>0.438428</td>\n",
       "      <td>0.439646</td>\n",
       "      <td>0.008242</td>\n",
       "    </tr>\n",
       "    <tr>\n",
       "      <th>2</th>\n",
       "      <td>0.242952</td>\n",
       "      <td>0.004910</td>\n",
       "      <td>0.018556</td>\n",
       "      <td>0.002423</td>\n",
       "      <td>0.00695193</td>\n",
       "      <td>{'clf__alpha': 0.0069519279617756054}</td>\n",
       "      <td>0.707326</td>\n",
       "      <td>0.724664</td>\n",
       "      <td>0.790712</td>\n",
       "      <td>0.725771</td>\n",
       "      <td>0.76222</td>\n",
       "      <td>0.742139</td>\n",
       "      <td>0.030159</td>\n",
       "      <td>12</td>\n",
       "      <td>0.770703</td>\n",
       "      <td>0.771634</td>\n",
       "      <td>0.752082</td>\n",
       "      <td>0.771581</td>\n",
       "      <td>0.761210</td>\n",
       "      <td>0.765442</td>\n",
       "      <td>0.007747</td>\n",
       "      <td>0.270625</td>\n",
       "      <td>0.265625</td>\n",
       "      <td>0.325</td>\n",
       "      <td>0.293125</td>\n",
       "      <td>0.305</td>\n",
       "      <td>0.291875</td>\n",
       "      <td>0.021962</td>\n",
       "      <td>8</td>\n",
       "      <td>0.31</td>\n",
       "      <td>0.329375</td>\n",
       "      <td>0.292969</td>\n",
       "      <td>0.329219</td>\n",
       "      <td>0.312812</td>\n",
       "      <td>0.314875</td>\n",
       "      <td>0.013593</td>\n",
       "      <td>0.377268</td>\n",
       "      <td>0.383523</td>\n",
       "      <td>0.474383</td>\n",
       "      <td>0.384615</td>\n",
       "      <td>0.430622</td>\n",
       "      <td>0.410082</td>\n",
       "      <td>0.037382</td>\n",
       "      <td>6</td>\n",
       "      <td>0.43956</td>\n",
       "      <td>0.449927</td>\n",
       "      <td>0.425355</td>\n",
       "      <td>0.444956</td>\n",
       "      <td>0.438428</td>\n",
       "      <td>0.439646</td>\n",
       "      <td>0.008242</td>\n",
       "    </tr>\n",
       "    <tr>\n",
       "      <th>3</th>\n",
       "      <td>0.242546</td>\n",
       "      <td>0.005057</td>\n",
       "      <td>0.020565</td>\n",
       "      <td>0.002231</td>\n",
       "      <td>0.0183298</td>\n",
       "      <td>{'clf__alpha': 0.018329807108324356}</td>\n",
       "      <td>0.707326</td>\n",
       "      <td>0.724664</td>\n",
       "      <td>0.790712</td>\n",
       "      <td>0.725771</td>\n",
       "      <td>0.76222</td>\n",
       "      <td>0.742139</td>\n",
       "      <td>0.030159</td>\n",
       "      <td>12</td>\n",
       "      <td>0.770703</td>\n",
       "      <td>0.771634</td>\n",
       "      <td>0.752082</td>\n",
       "      <td>0.771582</td>\n",
       "      <td>0.761210</td>\n",
       "      <td>0.765442</td>\n",
       "      <td>0.007747</td>\n",
       "      <td>0.270625</td>\n",
       "      <td>0.265625</td>\n",
       "      <td>0.325</td>\n",
       "      <td>0.293125</td>\n",
       "      <td>0.305</td>\n",
       "      <td>0.291875</td>\n",
       "      <td>0.021962</td>\n",
       "      <td>8</td>\n",
       "      <td>0.31</td>\n",
       "      <td>0.329375</td>\n",
       "      <td>0.292969</td>\n",
       "      <td>0.329219</td>\n",
       "      <td>0.312812</td>\n",
       "      <td>0.314875</td>\n",
       "      <td>0.013593</td>\n",
       "      <td>0.377268</td>\n",
       "      <td>0.383523</td>\n",
       "      <td>0.474383</td>\n",
       "      <td>0.384615</td>\n",
       "      <td>0.430622</td>\n",
       "      <td>0.410082</td>\n",
       "      <td>0.037382</td>\n",
       "      <td>6</td>\n",
       "      <td>0.43956</td>\n",
       "      <td>0.449927</td>\n",
       "      <td>0.425355</td>\n",
       "      <td>0.444956</td>\n",
       "      <td>0.438428</td>\n",
       "      <td>0.439646</td>\n",
       "      <td>0.008242</td>\n",
       "    </tr>\n",
       "    <tr>\n",
       "      <th>4</th>\n",
       "      <td>0.241163</td>\n",
       "      <td>0.004944</td>\n",
       "      <td>0.020347</td>\n",
       "      <td>0.002330</td>\n",
       "      <td>0.0483293</td>\n",
       "      <td>{'clf__alpha': 0.04832930238571752}</td>\n",
       "      <td>0.707326</td>\n",
       "      <td>0.724664</td>\n",
       "      <td>0.790712</td>\n",
       "      <td>0.725771</td>\n",
       "      <td>0.76222</td>\n",
       "      <td>0.742139</td>\n",
       "      <td>0.030159</td>\n",
       "      <td>12</td>\n",
       "      <td>0.770702</td>\n",
       "      <td>0.771634</td>\n",
       "      <td>0.752083</td>\n",
       "      <td>0.771582</td>\n",
       "      <td>0.761209</td>\n",
       "      <td>0.765442</td>\n",
       "      <td>0.007747</td>\n",
       "      <td>0.270625</td>\n",
       "      <td>0.265625</td>\n",
       "      <td>0.325</td>\n",
       "      <td>0.293125</td>\n",
       "      <td>0.305</td>\n",
       "      <td>0.291875</td>\n",
       "      <td>0.021962</td>\n",
       "      <td>8</td>\n",
       "      <td>0.31</td>\n",
       "      <td>0.329375</td>\n",
       "      <td>0.292969</td>\n",
       "      <td>0.329219</td>\n",
       "      <td>0.312812</td>\n",
       "      <td>0.314875</td>\n",
       "      <td>0.013593</td>\n",
       "      <td>0.377268</td>\n",
       "      <td>0.383523</td>\n",
       "      <td>0.474383</td>\n",
       "      <td>0.384615</td>\n",
       "      <td>0.430622</td>\n",
       "      <td>0.410082</td>\n",
       "      <td>0.037382</td>\n",
       "      <td>6</td>\n",
       "      <td>0.43956</td>\n",
       "      <td>0.449927</td>\n",
       "      <td>0.425355</td>\n",
       "      <td>0.444956</td>\n",
       "      <td>0.438428</td>\n",
       "      <td>0.439646</td>\n",
       "      <td>0.008242</td>\n",
       "    </tr>\n",
       "  </tbody>\n",
       "</table>\n",
       "</div>"
      ],
      "text/plain": [
       "   mean_fit_time  std_fit_time  mean_score_time  std_score_time  \\\n",
       "0       0.265479      0.014694         0.020549        0.002152   \n",
       "1       0.236562      0.008115         0.021141        0.003806   \n",
       "2       0.242952      0.004910         0.018556        0.002423   \n",
       "3       0.242546      0.005057         0.020565        0.002231   \n",
       "4       0.241163      0.004944         0.020347        0.002330   \n",
       "\n",
       "  param_clf__alpha                                 params  \\\n",
       "0            0.001                  {'clf__alpha': 0.001}   \n",
       "1       0.00263665  {'clf__alpha': 0.0026366508987303583}   \n",
       "2       0.00695193  {'clf__alpha': 0.0069519279617756054}   \n",
       "3        0.0183298   {'clf__alpha': 0.018329807108324356}   \n",
       "4        0.0483293    {'clf__alpha': 0.04832930238571752}   \n",
       "\n",
       "   split0_test_roc_auc  split1_test_roc_auc  split2_test_roc_auc  \\\n",
       "0             0.707326             0.724664             0.790712   \n",
       "1             0.707326             0.724664             0.790712   \n",
       "2             0.707326             0.724664             0.790712   \n",
       "3             0.707326             0.724664             0.790712   \n",
       "4             0.707326             0.724664             0.790712   \n",
       "\n",
       "   split3_test_roc_auc  split4_test_roc_auc  mean_test_roc_auc  \\\n",
       "0             0.725771              0.76222           0.742139   \n",
       "1             0.725771              0.76222           0.742139   \n",
       "2             0.725771              0.76222           0.742139   \n",
       "3             0.725771              0.76222           0.742139   \n",
       "4             0.725771              0.76222           0.742139   \n",
       "\n",
       "   std_test_roc_auc  rank_test_roc_auc  split0_train_roc_auc  \\\n",
       "0          0.030159                 12              0.770703   \n",
       "1          0.030159                 12              0.770703   \n",
       "2          0.030159                 12              0.770703   \n",
       "3          0.030159                 12              0.770703   \n",
       "4          0.030159                 12              0.770702   \n",
       "\n",
       "   split1_train_roc_auc  split2_train_roc_auc  split3_train_roc_auc  \\\n",
       "0              0.771634              0.752082              0.771581   \n",
       "1              0.771634              0.752082              0.771581   \n",
       "2              0.771634              0.752082              0.771581   \n",
       "3              0.771634              0.752082              0.771582   \n",
       "4              0.771634              0.752083              0.771582   \n",
       "\n",
       "   split4_train_roc_auc  mean_train_roc_auc  std_train_roc_auc  \\\n",
       "0              0.761210            0.765442           0.007748   \n",
       "1              0.761210            0.765442           0.007747   \n",
       "2              0.761210            0.765442           0.007747   \n",
       "3              0.761210            0.765442           0.007747   \n",
       "4              0.761209            0.765442           0.007747   \n",
       "\n",
       "   split0_test_custom_scorer  split1_test_custom_scorer  \\\n",
       "0                   0.270625                   0.265625   \n",
       "1                   0.270625                   0.265625   \n",
       "2                   0.270625                   0.265625   \n",
       "3                   0.270625                   0.265625   \n",
       "4                   0.270625                   0.265625   \n",
       "\n",
       "   split2_test_custom_scorer  split3_test_custom_scorer  \\\n",
       "0                      0.325                   0.293125   \n",
       "1                      0.325                   0.293125   \n",
       "2                      0.325                   0.293125   \n",
       "3                      0.325                   0.293125   \n",
       "4                      0.325                   0.293125   \n",
       "\n",
       "   split4_test_custom_scorer  mean_test_custom_scorer  std_test_custom_scorer  \\\n",
       "0                      0.305                 0.291875                0.021962   \n",
       "1                      0.305                 0.291875                0.021962   \n",
       "2                      0.305                 0.291875                0.021962   \n",
       "3                      0.305                 0.291875                0.021962   \n",
       "4                      0.305                 0.291875                0.021962   \n",
       "\n",
       "   rank_test_custom_scorer  split0_train_custom_scorer  \\\n",
       "0                        8                        0.31   \n",
       "1                        8                        0.31   \n",
       "2                        8                        0.31   \n",
       "3                        8                        0.31   \n",
       "4                        8                        0.31   \n",
       "\n",
       "   split1_train_custom_scorer  split2_train_custom_scorer  \\\n",
       "0                    0.329375                    0.292969   \n",
       "1                    0.329375                    0.292969   \n",
       "2                    0.329375                    0.292969   \n",
       "3                    0.329375                    0.292969   \n",
       "4                    0.329375                    0.292969   \n",
       "\n",
       "   split3_train_custom_scorer  split4_train_custom_scorer  \\\n",
       "0                    0.329219                    0.312812   \n",
       "1                    0.329219                    0.312812   \n",
       "2                    0.329219                    0.312812   \n",
       "3                    0.329219                    0.312812   \n",
       "4                    0.329219                    0.312812   \n",
       "\n",
       "   mean_train_custom_scorer  std_train_custom_scorer  split0_test_f2_scorer  \\\n",
       "0                  0.314875                 0.013593               0.377268   \n",
       "1                  0.314875                 0.013593               0.377268   \n",
       "2                  0.314875                 0.013593               0.377268   \n",
       "3                  0.314875                 0.013593               0.377268   \n",
       "4                  0.314875                 0.013593               0.377268   \n",
       "\n",
       "   split1_test_f2_scorer  split2_test_f2_scorer  split3_test_f2_scorer  \\\n",
       "0               0.383523               0.474383               0.384615   \n",
       "1               0.383523               0.474383               0.384615   \n",
       "2               0.383523               0.474383               0.384615   \n",
       "3               0.383523               0.474383               0.384615   \n",
       "4               0.383523               0.474383               0.384615   \n",
       "\n",
       "   split4_test_f2_scorer  mean_test_f2_scorer  std_test_f2_scorer  \\\n",
       "0               0.430622             0.410082            0.037382   \n",
       "1               0.430622             0.410082            0.037382   \n",
       "2               0.430622             0.410082            0.037382   \n",
       "3               0.430622             0.410082            0.037382   \n",
       "4               0.430622             0.410082            0.037382   \n",
       "\n",
       "   rank_test_f2_scorer  split0_train_f2_scorer  split1_train_f2_scorer  \\\n",
       "0                    6                 0.43956                0.449927   \n",
       "1                    6                 0.43956                0.449927   \n",
       "2                    6                 0.43956                0.449927   \n",
       "3                    6                 0.43956                0.449927   \n",
       "4                    6                 0.43956                0.449927   \n",
       "\n",
       "   split2_train_f2_scorer  split3_train_f2_scorer  split4_train_f2_scorer  \\\n",
       "0                0.425355                0.444956                0.438428   \n",
       "1                0.425355                0.444956                0.438428   \n",
       "2                0.425355                0.444956                0.438428   \n",
       "3                0.425355                0.444956                0.438428   \n",
       "4                0.425355                0.444956                0.438428   \n",
       "\n",
       "   mean_train_f2_scorer  std_train_f2_scorer  \n",
       "0              0.439646             0.008242  \n",
       "1              0.439646             0.008242  \n",
       "2              0.439646             0.008242  \n",
       "3              0.439646             0.008242  \n",
       "4              0.439646             0.008242  "
      ]
     },
     "execution_count": 50,
     "metadata": {},
     "output_type": "execute_result"
    }
   ],
   "source": [
    "# Test\n",
    "from sklearn.model_selection import GridSearchCV\n",
    "from sklearn.linear_model import RidgeClassifier\n",
    "\n",
    "param_grid = {\n",
    "    # 'fit_intercept': [True, False],\n",
    "    # 'clf__class_weight': [None, 'balanced'],\n",
    "    'clf__alpha': np.logspace(-3, 5, 20)\n",
    "},\n",
    "\n",
    "gs = GridSearchCV(test_model,\n",
    "                  param_grid=param_grid,\n",
    "                  return_train_score=True,\n",
    "                  scoring=CV_SCORERS,\n",
    "                  refit='roc_auc')\n",
    "\n",
    "\n",
    "gs.fit(x_train_prep, y_train)\n",
    "gs.score(x_test_prep, y_test)\n",
    "cv = pd.DataFrame.from_dict(gs.cv_results_)\n",
    "cv.head()\n"
   ]
  },
  {
   "cell_type": "code",
   "execution_count": 51,
   "metadata": {},
   "outputs": [
    {
     "name": "stdout",
     "output_type": "stream",
     "text": [
      "\"RidgeClassifier_-_Validation_Curve_(paramètre_-_clf__alpha).png\"\n"
     ]
    },
    {
     "data": {
      "image/png": "[encoded data removed]",
      "text/plain": [
       "<Figure size 432x288 with 1 Axes>"
      ]
     },
     "metadata": {},
     "output_type": "display_data"
    }
   ],
   "source": [
    "# plot_best_param_scores(gs, param='alpha', score='roc_auc', model_name='RidgeClassifier')\n",
    "plot_best_param_scores(\n",
    "    gs, param='clf__alpha', score='custom_scorer', model_name='RidgeClassifier')\n"
   ]
  },
  {
   "cell_type": "markdown",
   "metadata": {},
   "source": [
    "### Time model\n",
    "\n",
    "On ne mesure pas le temp pour le GridSearchCV, car ça dépend du nombre de choix d'hyperparamètres pour chaque modèle\n",
    "\n",
    "On mesure le temp d'entrainement d'un modèle avec des paramètres choisis\n"
   ]
  },
  {
   "cell_type": "markdown",
   "metadata": {},
   "source": [
    "## Trouve le meilleur modèle avec GridSearch\n",
    "\n",
    "### Choix de scorer pour GridSearch\n"
   ]
  },
  {
   "cell_type": "code",
   "execution_count": 52,
   "metadata": {},
   "outputs": [],
   "source": [
    "from sklearn.model_selection import GridSearchCV\n",
    "\n",
    "\n",
    "def search_best_model(model_name, estimator, param_grid,\n",
    "                      x_train, y_train,\n",
    "                      scoring=['roc_auc'],\n",
    "                      refit_scorer='roc_auc'):\n",
    "\n",
    "    gs = GridSearchCV(\n",
    "        estimator=estimator,\n",
    "        param_grid=param_grid,\n",
    "        cv=5, n_jobs=-1,\n",
    "        verbose=1,\n",
    "        scoring=scoring,\n",
    "        refit=refit_scorer,\n",
    "        return_train_score=True)\n",
    "\n",
    "    # lance le gridsearch\n",
    "    start = get_time()\n",
    "    gs.fit(x_train, y_train)\n",
    "    end = get_time()\n",
    "\n",
    "    cv_time = round(end-start, 3)\n",
    "    print(f'GridSearchCV took {cv_time} s')\n",
    "\n",
    "    # plot param_grid curves (verification que les best_params sont trouvés)\n",
    "    for param in gs.best_params_:\n",
    "        print(f'param : {param}')\n",
    "        plot_best_param_scores(gs, param, model_name, score=refit_scorer)\n",
    "        plt.show()\n",
    "\n",
    "    return gs\n"
   ]
  },
  {
   "cell_type": "code",
   "execution_count": 53,
   "metadata": {},
   "outputs": [
    {
     "name": "stdout",
     "output_type": "stream",
     "text": [
      "Fitting 5 folds for each of 20 candidates, totalling 100 fits\n",
      "GridSearchCV took 25.515 s\n",
      "param : clf__alpha\n",
      "\"Test_model_-_Validation_Curve_(paramètre_-_clf__alpha).png\"\n"
     ]
    },
    {
     "data": {
      "image/png": "[encoded data removed]",
      "text/plain": [
       "<Figure size 432x288 with 1 Axes>"
      ]
     },
     "metadata": {},
     "output_type": "display_data"
    },
    {
     "name": "stdout",
     "output_type": "stream",
     "text": [
      "param : clf__fit_intercept\n",
      "filter < 3 results\n",
      "{'clf__alpha': 215.44346900318823, 'clf__fit_intercept': True}\n"
     ]
    }
   ],
   "source": [
    "# Test\n",
    "from sklearn.linear_model import RidgeClassifier\n",
    "\n",
    "\n",
    "param_grid = {\n",
    "    'clf__fit_intercept': [True, False],\n",
    "    'clf__alpha': np.logspace(-3, 5, 10)\n",
    "},\n",
    "\n",
    "gs = search_best_model('Test model', test_model,\n",
    "                       param_grid, x_sample, y_sample)\n",
    "print(gs.best_params_)\n"
   ]
  },
  {
   "cell_type": "markdown",
   "metadata": {},
   "source": [
    "## Propriétés du best modèle\n"
   ]
  },
  {
   "cell_type": "markdown",
   "metadata": {},
   "source": [
    "#### Get estimator\n",
    "\n",
    "Chaque pipeline contient des regressors dans des positions différents:\n",
    "\n",
    "- (estimator) - l'estimator est à la racine\n",
    "  - `gs.best_estimator_`\n",
    "- (clf, estimator) - l'estimator est un named step 'clf'\n",
    "  - `gs.best_estimator_.named_steps['clf']`\n",
    "- (clf, TransformedTargetClassifier(clf=estimator))\n",
    "  - `gs.best_estimator_.named_steps['clf'].regressor_`\n",
    "\n",
    "Pour éviter des erreurs en changeant le pipeline, voici quelques utilitaires pour retourner l'estimateur, son classname, les attributs, les feature*importances*, etc\n"
   ]
  },
  {
   "cell_type": "code",
   "execution_count": 54,
   "metadata": {},
   "outputs": [
    {
     "data": {
      "text/html": [
       "<style>#sk-d1395899-2fcb-43c3-b223-537833cbc327 {color: black;background-color: white;}#sk-d1395899-2fcb-43c3-b223-537833cbc327 pre{padding: 0;}#sk-d1395899-2fcb-43c3-b223-537833cbc327 div.sk-toggleable {background-color: white;}#sk-d1395899-2fcb-43c3-b223-537833cbc327 label.sk-toggleable__label {cursor: pointer;display: block;width: 100%;margin-bottom: 0;padding: 0.3em;box-sizing: border-box;text-align: center;}#sk-d1395899-2fcb-43c3-b223-537833cbc327 label.sk-toggleable__label-arrow:before {content: \"▸\";float: left;margin-right: 0.25em;color: #696969;}#sk-d1395899-2fcb-43c3-b223-537833cbc327 label.sk-toggleable__label-arrow:hover:before {color: black;}#sk-d1395899-2fcb-43c3-b223-537833cbc327 div.sk-estimator:hover label.sk-toggleable__label-arrow:before {color: black;}#sk-d1395899-2fcb-43c3-b223-537833cbc327 div.sk-toggleable__content {max-height: 0;max-width: 0;overflow: hidden;text-align: left;background-color: #f0f8ff;}#sk-d1395899-2fcb-43c3-b223-537833cbc327 div.sk-toggleable__content pre {margin: 0.2em;color: black;border-radius: 0.25em;background-color: #f0f8ff;}#sk-d1395899-2fcb-43c3-b223-537833cbc327 input.sk-toggleable__control:checked~div.sk-toggleable__content {max-height: 200px;max-width: 100%;overflow: auto;}#sk-d1395899-2fcb-43c3-b223-537833cbc327 input.sk-toggleable__control:checked~label.sk-toggleable__label-arrow:before {content: \"▾\";}#sk-d1395899-2fcb-43c3-b223-537833cbc327 div.sk-estimator input.sk-toggleable__control:checked~label.sk-toggleable__label {background-color: #d4ebff;}#sk-d1395899-2fcb-43c3-b223-537833cbc327 div.sk-label input.sk-toggleable__control:checked~label.sk-toggleable__label {background-color: #d4ebff;}#sk-d1395899-2fcb-43c3-b223-537833cbc327 input.sk-hidden--visually {border: 0;clip: rect(1px 1px 1px 1px);clip: rect(1px, 1px, 1px, 1px);height: 1px;margin: -1px;overflow: hidden;padding: 0;position: absolute;width: 1px;}#sk-d1395899-2fcb-43c3-b223-537833cbc327 div.sk-estimator {font-family: monospace;background-color: #f0f8ff;border: 1px dotted black;border-radius: 0.25em;box-sizing: border-box;margin-bottom: 0.5em;}#sk-d1395899-2fcb-43c3-b223-537833cbc327 div.sk-estimator:hover {background-color: #d4ebff;}#sk-d1395899-2fcb-43c3-b223-537833cbc327 div.sk-parallel-item::after {content: \"\";width: 100%;border-bottom: 1px solid gray;flex-grow: 1;}#sk-d1395899-2fcb-43c3-b223-537833cbc327 div.sk-label:hover label.sk-toggleable__label {background-color: #d4ebff;}#sk-d1395899-2fcb-43c3-b223-537833cbc327 div.sk-serial::before {content: \"\";position: absolute;border-left: 1px solid gray;box-sizing: border-box;top: 2em;bottom: 0;left: 50%;}#sk-d1395899-2fcb-43c3-b223-537833cbc327 div.sk-serial {display: flex;flex-direction: column;align-items: center;background-color: white;padding-right: 0.2em;padding-left: 0.2em;}#sk-d1395899-2fcb-43c3-b223-537833cbc327 div.sk-item {z-index: 1;}#sk-d1395899-2fcb-43c3-b223-537833cbc327 div.sk-parallel {display: flex;align-items: stretch;justify-content: center;background-color: white;}#sk-d1395899-2fcb-43c3-b223-537833cbc327 div.sk-parallel::before {content: \"\";position: absolute;border-left: 1px solid gray;box-sizing: border-box;top: 2em;bottom: 0;left: 50%;}#sk-d1395899-2fcb-43c3-b223-537833cbc327 div.sk-parallel-item {display: flex;flex-direction: column;position: relative;background-color: white;}#sk-d1395899-2fcb-43c3-b223-537833cbc327 div.sk-parallel-item:first-child::after {align-self: flex-end;width: 50%;}#sk-d1395899-2fcb-43c3-b223-537833cbc327 div.sk-parallel-item:last-child::after {align-self: flex-start;width: 50%;}#sk-d1395899-2fcb-43c3-b223-537833cbc327 div.sk-parallel-item:only-child::after {width: 0;}#sk-d1395899-2fcb-43c3-b223-537833cbc327 div.sk-dashed-wrapped {border: 1px dashed gray;margin: 0 0.4em 0.5em 0.4em;box-sizing: border-box;padding-bottom: 0.4em;background-color: white;position: relative;}#sk-d1395899-2fcb-43c3-b223-537833cbc327 div.sk-label label {font-family: monospace;font-weight: bold;background-color: white;display: inline-block;line-height: 1.2em;}#sk-d1395899-2fcb-43c3-b223-537833cbc327 div.sk-label-container {position: relative;z-index: 2;text-align: center;}#sk-d1395899-2fcb-43c3-b223-537833cbc327 div.sk-container {/* jupyter's `normalize.less` sets `[hidden] { display: none; }` but bootstrap.min.css set `[hidden] { display: none !important; }` so we also need the `!important` here to be able to override the default hidden behavior on the sphinx rendered scikit-learn.org. See: https://github.com/scikit-learn/scikit-learn/issues/21755 */display: inline-block !important;position: relative;}#sk-d1395899-2fcb-43c3-b223-537833cbc327 div.sk-text-repr-fallback {display: none;}</style><div id=\"sk-d1395899-2fcb-43c3-b223-537833cbc327\" class=\"sk-top-container\"><div class=\"sk-text-repr-fallback\"><pre>RidgeClassifier()</pre><b>Please rerun this cell to show the HTML repr or trust the notebook.</b></div><div class=\"sk-container\" hidden><div class=\"sk-item\"><div class=\"sk-estimator sk-toggleable\"><input class=\"sk-toggleable__control sk-hidden--visually\" id=\"764748d3-31b9-4c88-9018-4c55ccfe844c\" type=\"checkbox\" checked><label for=\"764748d3-31b9-4c88-9018-4c55ccfe844c\" class=\"sk-toggleable__label sk-toggleable__label-arrow\">RidgeClassifier</label><div class=\"sk-toggleable__content\"><pre>RidgeClassifier()</pre></div></div></div></div></div>"
      ],
      "text/plain": [
       "RidgeClassifier()"
      ]
     },
     "execution_count": 54,
     "metadata": {},
     "output_type": "execute_result"
    }
   ],
   "source": [
    "def get_classifier(model):\n",
    "    \"\"\"Trouver le classifier dans un pipeline\"\"\"\n",
    "    if hasattr(model, 'coefs_') or hasattr(model, 'intercept_'):\n",
    "        return model\n",
    "    if hasattr(model, 'feature_importances_'):\n",
    "        return model\n",
    "    if hasattr(model, 'estimators_'):\n",
    "        return model\n",
    "\n",
    "    if hasattr(model, 'regressor_'):\n",
    "        return get_classifier(model.regressor_)\n",
    "\n",
    "    if hasattr(model, 'named_steps'):\n",
    "        try:\n",
    "            clf = model.named_steps['clf']\n",
    "        except:\n",
    "            clf = None\n",
    "        if not clf is None:\n",
    "            return get_classifier(clf)\n",
    "\n",
    "    if hasattr(model, 'clf'):\n",
    "        return get_classifier(model.clf)\n",
    "\n",
    "    if isinstance(model, BaseEstimator):\n",
    "        # if hasattr(model, 'coef_') or hasattr(model, 'feature_importances_'):\n",
    "        return model\n",
    "    else:\n",
    "        return 'classifier not found'\n",
    "\n",
    "\n",
    "# test 1\n",
    "get_classifier(test_model)\n"
   ]
  },
  {
   "cell_type": "code",
   "execution_count": 55,
   "metadata": {},
   "outputs": [
    {
     "data": {
      "text/html": [
       "<style>#sk-1075cd43-b768-48ee-924f-3cd7a6e7990b {color: black;background-color: white;}#sk-1075cd43-b768-48ee-924f-3cd7a6e7990b pre{padding: 0;}#sk-1075cd43-b768-48ee-924f-3cd7a6e7990b div.sk-toggleable {background-color: white;}#sk-1075cd43-b768-48ee-924f-3cd7a6e7990b label.sk-toggleable__label {cursor: pointer;display: block;width: 100%;margin-bottom: 0;padding: 0.3em;box-sizing: border-box;text-align: center;}#sk-1075cd43-b768-48ee-924f-3cd7a6e7990b label.sk-toggleable__label-arrow:before {content: \"▸\";float: left;margin-right: 0.25em;color: #696969;}#sk-1075cd43-b768-48ee-924f-3cd7a6e7990b label.sk-toggleable__label-arrow:hover:before {color: black;}#sk-1075cd43-b768-48ee-924f-3cd7a6e7990b div.sk-estimator:hover label.sk-toggleable__label-arrow:before {color: black;}#sk-1075cd43-b768-48ee-924f-3cd7a6e7990b div.sk-toggleable__content {max-height: 0;max-width: 0;overflow: hidden;text-align: left;background-color: #f0f8ff;}#sk-1075cd43-b768-48ee-924f-3cd7a6e7990b div.sk-toggleable__content pre {margin: 0.2em;color: black;border-radius: 0.25em;background-color: #f0f8ff;}#sk-1075cd43-b768-48ee-924f-3cd7a6e7990b input.sk-toggleable__control:checked~div.sk-toggleable__content {max-height: 200px;max-width: 100%;overflow: auto;}#sk-1075cd43-b768-48ee-924f-3cd7a6e7990b input.sk-toggleable__control:checked~label.sk-toggleable__label-arrow:before {content: \"▾\";}#sk-1075cd43-b768-48ee-924f-3cd7a6e7990b div.sk-estimator input.sk-toggleable__control:checked~label.sk-toggleable__label {background-color: #d4ebff;}#sk-1075cd43-b768-48ee-924f-3cd7a6e7990b div.sk-label input.sk-toggleable__control:checked~label.sk-toggleable__label {background-color: #d4ebff;}#sk-1075cd43-b768-48ee-924f-3cd7a6e7990b input.sk-hidden--visually {border: 0;clip: rect(1px 1px 1px 1px);clip: rect(1px, 1px, 1px, 1px);height: 1px;margin: -1px;overflow: hidden;padding: 0;position: absolute;width: 1px;}#sk-1075cd43-b768-48ee-924f-3cd7a6e7990b div.sk-estimator {font-family: monospace;background-color: #f0f8ff;border: 1px dotted black;border-radius: 0.25em;box-sizing: border-box;margin-bottom: 0.5em;}#sk-1075cd43-b768-48ee-924f-3cd7a6e7990b div.sk-estimator:hover {background-color: #d4ebff;}#sk-1075cd43-b768-48ee-924f-3cd7a6e7990b div.sk-parallel-item::after {content: \"\";width: 100%;border-bottom: 1px solid gray;flex-grow: 1;}#sk-1075cd43-b768-48ee-924f-3cd7a6e7990b div.sk-label:hover label.sk-toggleable__label {background-color: #d4ebff;}#sk-1075cd43-b768-48ee-924f-3cd7a6e7990b div.sk-serial::before {content: \"\";position: absolute;border-left: 1px solid gray;box-sizing: border-box;top: 2em;bottom: 0;left: 50%;}#sk-1075cd43-b768-48ee-924f-3cd7a6e7990b div.sk-serial {display: flex;flex-direction: column;align-items: center;background-color: white;padding-right: 0.2em;padding-left: 0.2em;}#sk-1075cd43-b768-48ee-924f-3cd7a6e7990b div.sk-item {z-index: 1;}#sk-1075cd43-b768-48ee-924f-3cd7a6e7990b div.sk-parallel {display: flex;align-items: stretch;justify-content: center;background-color: white;}#sk-1075cd43-b768-48ee-924f-3cd7a6e7990b div.sk-parallel::before {content: \"\";position: absolute;border-left: 1px solid gray;box-sizing: border-box;top: 2em;bottom: 0;left: 50%;}#sk-1075cd43-b768-48ee-924f-3cd7a6e7990b div.sk-parallel-item {display: flex;flex-direction: column;position: relative;background-color: white;}#sk-1075cd43-b768-48ee-924f-3cd7a6e7990b div.sk-parallel-item:first-child::after {align-self: flex-end;width: 50%;}#sk-1075cd43-b768-48ee-924f-3cd7a6e7990b div.sk-parallel-item:last-child::after {align-self: flex-start;width: 50%;}#sk-1075cd43-b768-48ee-924f-3cd7a6e7990b div.sk-parallel-item:only-child::after {width: 0;}#sk-1075cd43-b768-48ee-924f-3cd7a6e7990b div.sk-dashed-wrapped {border: 1px dashed gray;margin: 0 0.4em 0.5em 0.4em;box-sizing: border-box;padding-bottom: 0.4em;background-color: white;position: relative;}#sk-1075cd43-b768-48ee-924f-3cd7a6e7990b div.sk-label label {font-family: monospace;font-weight: bold;background-color: white;display: inline-block;line-height: 1.2em;}#sk-1075cd43-b768-48ee-924f-3cd7a6e7990b div.sk-label-container {position: relative;z-index: 2;text-align: center;}#sk-1075cd43-b768-48ee-924f-3cd7a6e7990b div.sk-container {/* jupyter's `normalize.less` sets `[hidden] { display: none; }` but bootstrap.min.css set `[hidden] { display: none !important; }` so we also need the `!important` here to be able to override the default hidden behavior on the sphinx rendered scikit-learn.org. See: https://github.com/scikit-learn/scikit-learn/issues/21755 */display: inline-block !important;position: relative;}#sk-1075cd43-b768-48ee-924f-3cd7a6e7990b div.sk-text-repr-fallback {display: none;}</style><div id=\"sk-1075cd43-b768-48ee-924f-3cd7a6e7990b\" class=\"sk-top-container\"><div class=\"sk-text-repr-fallback\"><pre>RidgeClassifier()</pre><b>Please rerun this cell to show the HTML repr or trust the notebook.</b></div><div class=\"sk-container\" hidden><div class=\"sk-item\"><div class=\"sk-estimator sk-toggleable\"><input class=\"sk-toggleable__control sk-hidden--visually\" id=\"73941e63-926b-4993-9052-db64311e95bc\" type=\"checkbox\" checked><label for=\"73941e63-926b-4993-9052-db64311e95bc\" class=\"sk-toggleable__label sk-toggleable__label-arrow\">RidgeClassifier</label><div class=\"sk-toggleable__content\"><pre>RidgeClassifier()</pre></div></div></div></div></div>"
      ],
      "text/plain": [
       "RidgeClassifier()"
      ]
     },
     "execution_count": 55,
     "metadata": {},
     "output_type": "execute_result"
    }
   ],
   "source": [
    "# test 2\n",
    "get_classifier(RidgeClassifier())\n"
   ]
  },
  {
   "cell_type": "code",
   "execution_count": 56,
   "metadata": {},
   "outputs": [
    {
     "data": {
      "text/html": [
       "<style>#sk-16643b67-4342-45fc-a634-43933fb08132 {color: black;background-color: white;}#sk-16643b67-4342-45fc-a634-43933fb08132 pre{padding: 0;}#sk-16643b67-4342-45fc-a634-43933fb08132 div.sk-toggleable {background-color: white;}#sk-16643b67-4342-45fc-a634-43933fb08132 label.sk-toggleable__label {cursor: pointer;display: block;width: 100%;margin-bottom: 0;padding: 0.3em;box-sizing: border-box;text-align: center;}#sk-16643b67-4342-45fc-a634-43933fb08132 label.sk-toggleable__label-arrow:before {content: \"▸\";float: left;margin-right: 0.25em;color: #696969;}#sk-16643b67-4342-45fc-a634-43933fb08132 label.sk-toggleable__label-arrow:hover:before {color: black;}#sk-16643b67-4342-45fc-a634-43933fb08132 div.sk-estimator:hover label.sk-toggleable__label-arrow:before {color: black;}#sk-16643b67-4342-45fc-a634-43933fb08132 div.sk-toggleable__content {max-height: 0;max-width: 0;overflow: hidden;text-align: left;background-color: #f0f8ff;}#sk-16643b67-4342-45fc-a634-43933fb08132 div.sk-toggleable__content pre {margin: 0.2em;color: black;border-radius: 0.25em;background-color: #f0f8ff;}#sk-16643b67-4342-45fc-a634-43933fb08132 input.sk-toggleable__control:checked~div.sk-toggleable__content {max-height: 200px;max-width: 100%;overflow: auto;}#sk-16643b67-4342-45fc-a634-43933fb08132 input.sk-toggleable__control:checked~label.sk-toggleable__label-arrow:before {content: \"▾\";}#sk-16643b67-4342-45fc-a634-43933fb08132 div.sk-estimator input.sk-toggleable__control:checked~label.sk-toggleable__label {background-color: #d4ebff;}#sk-16643b67-4342-45fc-a634-43933fb08132 div.sk-label input.sk-toggleable__control:checked~label.sk-toggleable__label {background-color: #d4ebff;}#sk-16643b67-4342-45fc-a634-43933fb08132 input.sk-hidden--visually {border: 0;clip: rect(1px 1px 1px 1px);clip: rect(1px, 1px, 1px, 1px);height: 1px;margin: -1px;overflow: hidden;padding: 0;position: absolute;width: 1px;}#sk-16643b67-4342-45fc-a634-43933fb08132 div.sk-estimator {font-family: monospace;background-color: #f0f8ff;border: 1px dotted black;border-radius: 0.25em;box-sizing: border-box;margin-bottom: 0.5em;}#sk-16643b67-4342-45fc-a634-43933fb08132 div.sk-estimator:hover {background-color: #d4ebff;}#sk-16643b67-4342-45fc-a634-43933fb08132 div.sk-parallel-item::after {content: \"\";width: 100%;border-bottom: 1px solid gray;flex-grow: 1;}#sk-16643b67-4342-45fc-a634-43933fb08132 div.sk-label:hover label.sk-toggleable__label {background-color: #d4ebff;}#sk-16643b67-4342-45fc-a634-43933fb08132 div.sk-serial::before {content: \"\";position: absolute;border-left: 1px solid gray;box-sizing: border-box;top: 2em;bottom: 0;left: 50%;}#sk-16643b67-4342-45fc-a634-43933fb08132 div.sk-serial {display: flex;flex-direction: column;align-items: center;background-color: white;padding-right: 0.2em;padding-left: 0.2em;}#sk-16643b67-4342-45fc-a634-43933fb08132 div.sk-item {z-index: 1;}#sk-16643b67-4342-45fc-a634-43933fb08132 div.sk-parallel {display: flex;align-items: stretch;justify-content: center;background-color: white;}#sk-16643b67-4342-45fc-a634-43933fb08132 div.sk-parallel::before {content: \"\";position: absolute;border-left: 1px solid gray;box-sizing: border-box;top: 2em;bottom: 0;left: 50%;}#sk-16643b67-4342-45fc-a634-43933fb08132 div.sk-parallel-item {display: flex;flex-direction: column;position: relative;background-color: white;}#sk-16643b67-4342-45fc-a634-43933fb08132 div.sk-parallel-item:first-child::after {align-self: flex-end;width: 50%;}#sk-16643b67-4342-45fc-a634-43933fb08132 div.sk-parallel-item:last-child::after {align-self: flex-start;width: 50%;}#sk-16643b67-4342-45fc-a634-43933fb08132 div.sk-parallel-item:only-child::after {width: 0;}#sk-16643b67-4342-45fc-a634-43933fb08132 div.sk-dashed-wrapped {border: 1px dashed gray;margin: 0 0.4em 0.5em 0.4em;box-sizing: border-box;padding-bottom: 0.4em;background-color: white;position: relative;}#sk-16643b67-4342-45fc-a634-43933fb08132 div.sk-label label {font-family: monospace;font-weight: bold;background-color: white;display: inline-block;line-height: 1.2em;}#sk-16643b67-4342-45fc-a634-43933fb08132 div.sk-label-container {position: relative;z-index: 2;text-align: center;}#sk-16643b67-4342-45fc-a634-43933fb08132 div.sk-container {/* jupyter's `normalize.less` sets `[hidden] { display: none; }` but bootstrap.min.css set `[hidden] { display: none !important; }` so we also need the `!important` here to be able to override the default hidden behavior on the sphinx rendered scikit-learn.org. See: https://github.com/scikit-learn/scikit-learn/issues/21755 */display: inline-block !important;position: relative;}#sk-16643b67-4342-45fc-a634-43933fb08132 div.sk-text-repr-fallback {display: none;}</style><div id=\"sk-16643b67-4342-45fc-a634-43933fb08132\" class=\"sk-top-container\"><div class=\"sk-text-repr-fallback\"><pre>RidgeClassifier(alpha=215.44346900318823)</pre><b>Please rerun this cell to show the HTML repr or trust the notebook.</b></div><div class=\"sk-container\" hidden><div class=\"sk-item\"><div class=\"sk-estimator sk-toggleable\"><input class=\"sk-toggleable__control sk-hidden--visually\" id=\"ef23d227-fcd3-4499-8c77-2cb66db677f3\" type=\"checkbox\" checked><label for=\"ef23d227-fcd3-4499-8c77-2cb66db677f3\" class=\"sk-toggleable__label sk-toggleable__label-arrow\">RidgeClassifier</label><div class=\"sk-toggleable__content\"><pre>RidgeClassifier(alpha=215.44346900318823)</pre></div></div></div></div></div>"
      ],
      "text/plain": [
       "RidgeClassifier(alpha=215.44346900318823)"
      ]
     },
     "execution_count": 56,
     "metadata": {},
     "output_type": "execute_result"
    }
   ],
   "source": [
    "# test 3\n",
    "get_classifier(gs.best_estimator_)\n"
   ]
  },
  {
   "cell_type": "code",
   "execution_count": 57,
   "metadata": {},
   "outputs": [],
   "source": [
    "\n",
    "def get_classname(estimator):\n",
    "    return estimator.__class__.__name__\n",
    "\n",
    "\n",
    "def get_model_classname(model):\n",
    "    estimator = get_classifier(model)\n",
    "    return get_classname(estimator)\n",
    "\n",
    "\n",
    "def get_model_feature_importances(model):\n",
    "    estimator = get_classifier(model)\n",
    "    return getattr(estimator, 'feature_importances_', None)\n",
    "\n",
    "\n",
    "def get_model_estimators(model):\n",
    "    estimator = get_classifier(model)\n",
    "    return getattr(estimator, 'estimators_', None)\n"
   ]
  },
  {
   "cell_type": "code",
   "execution_count": 58,
   "metadata": {},
   "outputs": [],
   "source": [
    "def filtered_list(values, mask):\n",
    "    res = [i for (i, v) in zip(values, mask) if v]\n",
    "    return res\n",
    "\n",
    "\n",
    "def get_step(model, step_name='k_best'):\n",
    "    if hasattr(model, 'named_steps'):\n",
    "        try:\n",
    "            step = model.named_steps[step_name]\n",
    "        except:\n",
    "            step = None\n",
    "        return step\n",
    "    name = get_classname(model)\n",
    "    if name == step_name:\n",
    "        return model\n",
    "    return None\n",
    "\n",
    "\n",
    "def get_kbest_features(model, features_in=None):\n",
    "    \"\"\"cv.best_estimator_.named_steps['k_best'].get_support()\"\"\"\n",
    "    k_best = get_step(model, 'k_best')\n",
    "    if not k_best is None:\n",
    "        if hasattr(k_best, 'get_support'):\n",
    "            mask = k_best.get_support()\n",
    "            if len(mask) == len(features_in):\n",
    "                return filtered_list(features_in, mask)\n",
    "    return None\n"
   ]
  },
  {
   "cell_type": "markdown",
   "metadata": {},
   "source": [
    "### Propriétés du best classifier\n"
   ]
  },
  {
   "cell_type": "code",
   "execution_count": 59,
   "metadata": {},
   "outputs": [
    {
     "name": "stdout",
     "output_type": "stream",
     "text": [
      "['alpha', 'class_weight', 'classes_', 'coef_', 'copy_X', 'decision_function', 'fit', 'fit_intercept', 'get_params', 'intercept_', 'max_iter', 'n_features_in_', 'n_iter_', 'normalize', 'positive', 'predict', 'random_state', 'score', 'set_params', 'solver', 'tol']\n"
     ]
    }
   ],
   "source": [
    "def get_classifier_attributs(gs, public_only=True):\n",
    "    model = get_classifier(gs.best_estimator_)\n",
    "    attributs = dir(model)\n",
    "    if public_only:\n",
    "        attributs = [a for a in attributs if not a.startswith('_')]\n",
    "    print(attributs)\n",
    "\n",
    "\n",
    "get_classifier_attributs(gs)\n"
   ]
  },
  {
   "cell_type": "markdown",
   "metadata": {},
   "source": [
    "## Comparaison des models (score, temps, params)\n"
   ]
  },
  {
   "cell_type": "markdown",
   "metadata": {},
   "source": [
    "### Add Model Score (df_scores)\n",
    "\n",
    "Le score du model est composé de:\n",
    "\n",
    "- paramêtres (nom de model(algorithme/dataset), best_params)\n",
    "- gridsearch scores (train/test) sur x_train, y_train\n",
    "- validation performance metrics sur x_test, y_test\n",
    "\n",
    "Les temps total de gridsearch, plus le temps d'entrainement du model avec best_params sont aussi enregistrés\n"
   ]
  },
  {
   "cell_type": "code",
   "execution_count": 60,
   "metadata": {},
   "outputs": [
    {
     "name": "stdout",
     "output_type": "stream",
     "text": [
      "['model_name', 'params', 'train_time', 'gridsearch_time', 'mean_train_score', 'std_train_score', 'mean_test_score', 'std_test_score', 'roc_auc', 'logloss', 'precision', 'recall', 'f1', 'f2', 'f05', 'custom_score']\n"
     ]
    }
   ],
   "source": [
    "from sklearn.base import BaseEstimator\n",
    "metrics_columns = list(performance_metrics(y_true1, y_pred1).keys())\n",
    "cols = ['model_name', 'params', 'train_time', 'gridsearch_time',\n",
    "        'mean_train_score', 'std_train_score', 'mean_test_score', 'std_test_score'] + metrics_columns\n",
    "print(cols)\n",
    "df_scores = pd.DataFrame(columns=cols)\n",
    "\n",
    "\n",
    "def add_model_score(model_name: str,\n",
    "                    model: BaseEstimator,\n",
    "                    params: dict,\n",
    "                    train_time, gridsearch_time,\n",
    "                    mean_train_score, std_train_score,\n",
    "                    mean_test_score, std_test_score,\n",
    "                    metrics):\n",
    "    \"\"\"Ajouter les resultats de gridsearch sur xtrain,ytrain et score sur xtest,ytest aux scores\"\"\"\n",
    "\n",
    "    global df_scores\n",
    "    print(f'add_model_score, model = {model_name}')\n",
    "\n",
    "    # identification du model\n",
    "    model_keys = dict(\n",
    "        model_name=model_name,\n",
    "        model=model,\n",
    "    )\n",
    "\n",
    "    # params contient gridsearch.best_params_\n",
    "    gridsearch_results = dict(\n",
    "        params=params,\n",
    "        mean_train_score=round_digits(mean_train_score, 3),\n",
    "        std_train_score=round_digits(std_train_score, 3),\n",
    "        mean_test_score=round_digits(mean_test_score, 3),\n",
    "        std_test_score=round_digits(std_test_score, 3),\n",
    "        gridsearch_time=gridsearch_time,\n",
    "        train_time=train_time,\n",
    "\n",
    "    )\n",
    "    # validation scores sont dans metrics\n",
    "\n",
    "    row = dict(**model_keys, **gridsearch_results, **metrics)\n",
    "\n",
    "    df_scores = df_scores.append(row, ignore_index=True)\n",
    "    return df_scores\n"
   ]
  },
  {
   "cell_type": "markdown",
   "metadata": {},
   "source": [
    "### Validation (score) d'un model\n",
    "\n",
    "#### Récupérer les paramêtres / scores de GridSearch et prédire sur le jeu de données \"test\"\n"
   ]
  },
  {
   "cell_type": "code",
   "execution_count": 61,
   "metadata": {},
   "outputs": [
    {
     "name": "stdout",
     "output_type": "stream",
     "text": [
      "Best Parameters: {'clf__alpha': 215.44346900318823, 'clf__fit_intercept': True}\n",
      "Best Training Score (roc_auc): 0.794\n",
      "Best Test Score (roc_auc) : 0.788\n",
      "time_model (test_model; training time = 0.389 s; gridsearch time = 176.06454348564145 s\n",
      "add_model_score, model = test_model\n"
     ]
    }
   ],
   "source": [
    "\n",
    "def score_model(model_name, gs,\n",
    "                x_train_, y_train_, x_test_, y_test_, score='roc_auc') -> pd.Series:\n",
    "    \"\"\"Après grid search, récuperer le best model, fit sur train et score sur test, enregistre dans df_scores\"\"\"\n",
    "    global df_scores\n",
    "    best_model = gs.best_estimator_\n",
    "    best_params = gs.best_params_  # gs.cv_results_[\"params\"][gs.best_index_]\n",
    "    best_cv_score = gs.best_score_  # mean_test_score\n",
    "    refit_time = gs.refit_time_  # train_time\n",
    "    cv = pd.DataFrame(gs.cv_results_)\n",
    "    mean_train_score = cv[f'mean_train_{score}'][gs.best_index_].mean()\n",
    "    std_train_score = cv[f'std_train_{score}'][gs.best_index_].mean()\n",
    "    # gs.best_score_\n",
    "    mean_test_score = cv[f'mean_test_{score}'][gs.best_index_].mean()\n",
    "    std_test_score = cv[f'std_test_{score}'][gs.best_index_].mean()\n",
    "    mean_fit_time = cv[f'mean_fit_time'].mean()\n",
    "    mean_score_time = cv[f'mean_score_time'].mean()\n",
    "    fit_time = len(cv)*mean_fit_time\n",
    "\n",
    "    n_splits = gs.n_splits_  # number of splits of training data\n",
    "    n_iter = len(cv)  # Iterations per split\n",
    "    gridsearch_time = (mean_fit_time + mean_score_time) * n_splits * n_iter\n",
    "\n",
    "    # print(f'Best Estimator: {best_model}')\n",
    "    print(f'Best Parameters: {best_params}')\n",
    "    print(f'Best Training Score ({score}): {mean_train_score:.3f}')\n",
    "    print(f'Best Test Score ({score}) : {mean_test_score:.3f}')\n",
    "\n",
    "    start = get_time()\n",
    "    best_model = gs.best_estimator_\n",
    "    best_model.fit(x_train_, y_train_)\n",
    "    end = get_time()\n",
    "    # temps d'entrainement avec best_params\n",
    "    train_time = round(end-start, 3)\n",
    "    y_pred = best_model.predict(x_test_)\n",
    "\n",
    "    print(\n",
    "        f'time_model ({model_name}; training time = {train_time} s; gridsearch time = {gridsearch_time} s')\n",
    "\n",
    "    metrics = performance_metrics(y_test_, y_pred)\n",
    "\n",
    "    add_model_score(model_name,\n",
    "                    best_model, best_params,\n",
    "                    train_time, gridsearch_time,\n",
    "                    mean_train_score, std_train_score,\n",
    "                    mean_test_score, std_test_score,\n",
    "                    metrics,\n",
    "                    )\n",
    "    return y_pred\n",
    "\n",
    "\n",
    "y_pred = score_model('test_model', gs, x_train_prep,\n",
    "                     y_train, x_test_prep, y_test)\n"
   ]
  },
  {
   "cell_type": "code",
   "execution_count": 62,
   "metadata": {},
   "outputs": [],
   "source": [
    "# test add_model_scores\n"
   ]
  },
  {
   "cell_type": "code",
   "execution_count": 63,
   "metadata": {},
   "outputs": [
    {
     "name": "stdout",
     "output_type": "stream",
     "text": [
      "Fitting 5 folds for each of 20 candidates, totalling 100 fits\n",
      "GridSearchCV took 3.952 s\n",
      "param : clf__alpha\n",
      "\"RidgeClassifier_-_Validation_Curve_(paramètre_-_clf__alpha).png\"\n"
     ]
    },
    {
     "data": {
      "image/png": "[encoded data removed]",
      "text/plain": [
       "<Figure size 432x288 with 1 Axes>"
      ]
     },
     "metadata": {},
     "output_type": "display_data"
    },
    {
     "name": "stdout",
     "output_type": "stream",
     "text": [
      "Best Parameters: {'clf__alpha': 5455.594781168515}\n",
      "Best Training Score (roc_auc): 0.770\n",
      "Best Test Score (roc_auc) : 0.745\n",
      "time_model (RidgeClassifier; training time = 0.118 s; gridsearch time = 23.768144130706794 s\n",
      "add_model_score, model = RidgeClassifier\n"
     ]
    }
   ],
   "source": [
    "model_name = 'RidgeClassifier'\n",
    "smt = SMOTE(random_state=RANDOM_SEED)\n",
    "ridge = RidgeClassifier()\n",
    "model_pipeline = imbpipeline.Pipeline([\n",
    "    ('sampling', smt),\n",
    "    ('clf', ridge)])\n",
    "param_grid = {'clf__alpha': np.logspace(-3, 5, 20)}\n",
    "gs = search_best_model(model_name, model_pipeline,\n",
    "                       param_grid, x_train_prep, y_train)\n",
    "y_pred = score_model(model_name, gs, x_train_prep,\n",
    "                     y_train, x_test_prep, y_test)\n"
   ]
  },
  {
   "cell_type": "markdown",
   "metadata": {},
   "source": [
    "## Visualisations\n"
   ]
  },
  {
   "cell_type": "markdown",
   "metadata": {},
   "source": [
    "### Confusion Matrix\n"
   ]
  },
  {
   "cell_type": "code",
   "execution_count": 64,
   "metadata": {},
   "outputs": [
    {
     "data": {
      "image/png": "[encoded data removed]",
      "text/plain": [
       "<Figure size 216x144 with 2 Axes>"
      ]
     },
     "metadata": {},
     "output_type": "display_data"
    }
   ],
   "source": [
    "Serie = list or np.ndarray or pd.Series\n",
    "\n",
    "\n",
    "def plot_confusion_matrix_heatmap(y_true: Serie, y_pred: Serie, normalize=True,\n",
    "cmap='Blues', ax=None, figsize=(6, 4) ):\n",
    "    \"\"\"\n",
    "    plot confusion matrix as heatmap\n",
    "\n",
    "    Parameters\n",
    "    ----------\n",
    "    y_true : labels (number or string list, 1-d array or series)\n",
    "    y_pred : labels (number or string list, 1-d array or series)\n",
    "    cmap: colors\n",
    "    figsize: figure size\n",
    "    \"\"\"\n",
    "    # df_cm = confusion_matrix_crosstab(y_true, y_pred, normalize=normalize)\n",
    "    df_cm = metrics.confusion_matrix(y_true, y_pred, normalize='true')\n",
    "    if ax is None:\n",
    "        _, ax = plt.subplots(figsize=figsize)\n",
    "    if normalize:\n",
    "        sns.heatmap(df_cm, annot=True, cmap=cmap, fmt='.3f', ax=ax)\n",
    "        plt.title('confusion matrix (frequency)')\n",
    "    else:\n",
    "        sns.heatmap(df_cm, annot=True, cmap=cmap, fmt='.0f',ax=ax)\n",
    "        plt.title('confusion matrix (count)')\n",
    "    plt.xlabel('predicted class')\n",
    "    plt.ylabel('true class')\n",
    "    plt.tight_layout(h_pad=0.2, w_pad=0.2)\n",
    "\n",
    "plot_confusion_matrix_heatmap(y_test,y_pred, figsize=(3,2))"
   ]
  },
  {
   "cell_type": "markdown",
   "metadata": {},
   "source": [
    "### AUC (Area Under the Curve)\n",
    "\n",
    "Comme pour clustering, la bibliothèque Yellowbrick contient des visualisations de ROC AUC curves\n"
   ]
  },
  {
   "cell_type": "code",
   "execution_count": 65,
   "metadata": {},
   "outputs": [
    {
     "data": {
      "image/png": "[encoded data removed]",
      "text/plain": [
       "<Figure size 576x396 with 1 Axes>"
      ]
     },
     "metadata": {},
     "output_type": "display_data"
    },
    {
     "data": {
      "text/plain": [
       "<AxesSubplot:title={'center':'ROC Curves for RidgeClassifier'}, xlabel='False Positive Rate', ylabel='True Positive Rate'>"
      ]
     },
     "execution_count": 65,
     "metadata": {},
     "output_type": "execute_result"
    }
   ],
   "source": [
    "from yellowbrick.classifier import ROCAUC\n",
    "from sklearn.linear_model import RidgeClassifier\n",
    "model = RidgeClassifier()\n",
    "visualizer = ROCAUC(model, classes=['loan repaid', 'bad loan'], binary=True)\n",
    "\n",
    "# Fit the training data to the visualizer\n",
    "visualizer.fit(x_train_smote, y_train_smote)\n",
    "# Evaluate the model on the test data\n",
    "visualizer.score(x_test_prep, y_test)\n",
    "visualizer.show()\n"
   ]
  },
  {
   "cell_type": "code",
   "execution_count": 66,
   "metadata": {},
   "outputs": [
    {
     "data": {
      "image/png": "[encoded data removed]",
      "text/plain": [
       "<Figure size 576x396 with 1 Axes>"
      ]
     },
     "metadata": {},
     "output_type": "display_data"
    },
    {
     "data": {
      "text/html": [
       "<style>#sk-ec4bc9f0-c0e5-45b4-90c4-3d3c185afd86 {color: black;background-color: white;}#sk-ec4bc9f0-c0e5-45b4-90c4-3d3c185afd86 pre{padding: 0;}#sk-ec4bc9f0-c0e5-45b4-90c4-3d3c185afd86 div.sk-toggleable {background-color: white;}#sk-ec4bc9f0-c0e5-45b4-90c4-3d3c185afd86 label.sk-toggleable__label {cursor: pointer;display: block;width: 100%;margin-bottom: 0;padding: 0.3em;box-sizing: border-box;text-align: center;}#sk-ec4bc9f0-c0e5-45b4-90c4-3d3c185afd86 label.sk-toggleable__label-arrow:before {content: \"▸\";float: left;margin-right: 0.25em;color: #696969;}#sk-ec4bc9f0-c0e5-45b4-90c4-3d3c185afd86 label.sk-toggleable__label-arrow:hover:before {color: black;}#sk-ec4bc9f0-c0e5-45b4-90c4-3d3c185afd86 div.sk-estimator:hover label.sk-toggleable__label-arrow:before {color: black;}#sk-ec4bc9f0-c0e5-45b4-90c4-3d3c185afd86 div.sk-toggleable__content {max-height: 0;max-width: 0;overflow: hidden;text-align: left;background-color: #f0f8ff;}#sk-ec4bc9f0-c0e5-45b4-90c4-3d3c185afd86 div.sk-toggleable__content pre {margin: 0.2em;color: black;border-radius: 0.25em;background-color: #f0f8ff;}#sk-ec4bc9f0-c0e5-45b4-90c4-3d3c185afd86 input.sk-toggleable__control:checked~div.sk-toggleable__content {max-height: 200px;max-width: 100%;overflow: auto;}#sk-ec4bc9f0-c0e5-45b4-90c4-3d3c185afd86 input.sk-toggleable__control:checked~label.sk-toggleable__label-arrow:before {content: \"▾\";}#sk-ec4bc9f0-c0e5-45b4-90c4-3d3c185afd86 div.sk-estimator input.sk-toggleable__control:checked~label.sk-toggleable__label {background-color: #d4ebff;}#sk-ec4bc9f0-c0e5-45b4-90c4-3d3c185afd86 div.sk-label input.sk-toggleable__control:checked~label.sk-toggleable__label {background-color: #d4ebff;}#sk-ec4bc9f0-c0e5-45b4-90c4-3d3c185afd86 input.sk-hidden--visually {border: 0;clip: rect(1px 1px 1px 1px);clip: rect(1px, 1px, 1px, 1px);height: 1px;margin: -1px;overflow: hidden;padding: 0;position: absolute;width: 1px;}#sk-ec4bc9f0-c0e5-45b4-90c4-3d3c185afd86 div.sk-estimator {font-family: monospace;background-color: #f0f8ff;border: 1px dotted black;border-radius: 0.25em;box-sizing: border-box;margin-bottom: 0.5em;}#sk-ec4bc9f0-c0e5-45b4-90c4-3d3c185afd86 div.sk-estimator:hover {background-color: #d4ebff;}#sk-ec4bc9f0-c0e5-45b4-90c4-3d3c185afd86 div.sk-parallel-item::after {content: \"\";width: 100%;border-bottom: 1px solid gray;flex-grow: 1;}#sk-ec4bc9f0-c0e5-45b4-90c4-3d3c185afd86 div.sk-label:hover label.sk-toggleable__label {background-color: #d4ebff;}#sk-ec4bc9f0-c0e5-45b4-90c4-3d3c185afd86 div.sk-serial::before {content: \"\";position: absolute;border-left: 1px solid gray;box-sizing: border-box;top: 2em;bottom: 0;left: 50%;}#sk-ec4bc9f0-c0e5-45b4-90c4-3d3c185afd86 div.sk-serial {display: flex;flex-direction: column;align-items: center;background-color: white;padding-right: 0.2em;padding-left: 0.2em;}#sk-ec4bc9f0-c0e5-45b4-90c4-3d3c185afd86 div.sk-item {z-index: 1;}#sk-ec4bc9f0-c0e5-45b4-90c4-3d3c185afd86 div.sk-parallel {display: flex;align-items: stretch;justify-content: center;background-color: white;}#sk-ec4bc9f0-c0e5-45b4-90c4-3d3c185afd86 div.sk-parallel::before {content: \"\";position: absolute;border-left: 1px solid gray;box-sizing: border-box;top: 2em;bottom: 0;left: 50%;}#sk-ec4bc9f0-c0e5-45b4-90c4-3d3c185afd86 div.sk-parallel-item {display: flex;flex-direction: column;position: relative;background-color: white;}#sk-ec4bc9f0-c0e5-45b4-90c4-3d3c185afd86 div.sk-parallel-item:first-child::after {align-self: flex-end;width: 50%;}#sk-ec4bc9f0-c0e5-45b4-90c4-3d3c185afd86 div.sk-parallel-item:last-child::after {align-self: flex-start;width: 50%;}#sk-ec4bc9f0-c0e5-45b4-90c4-3d3c185afd86 div.sk-parallel-item:only-child::after {width: 0;}#sk-ec4bc9f0-c0e5-45b4-90c4-3d3c185afd86 div.sk-dashed-wrapped {border: 1px dashed gray;margin: 0 0.4em 0.5em 0.4em;box-sizing: border-box;padding-bottom: 0.4em;background-color: white;position: relative;}#sk-ec4bc9f0-c0e5-45b4-90c4-3d3c185afd86 div.sk-label label {font-family: monospace;font-weight: bold;background-color: white;display: inline-block;line-height: 1.2em;}#sk-ec4bc9f0-c0e5-45b4-90c4-3d3c185afd86 div.sk-label-container {position: relative;z-index: 2;text-align: center;}#sk-ec4bc9f0-c0e5-45b4-90c4-3d3c185afd86 div.sk-container {/* jupyter's `normalize.less` sets `[hidden] { display: none; }` but bootstrap.min.css set `[hidden] { display: none !important; }` so we also need the `!important` here to be able to override the default hidden behavior on the sphinx rendered scikit-learn.org. See: https://github.com/scikit-learn/scikit-learn/issues/21755 */display: inline-block !important;position: relative;}#sk-ec4bc9f0-c0e5-45b4-90c4-3d3c185afd86 div.sk-text-repr-fallback {display: none;}</style><div id=\"sk-ec4bc9f0-c0e5-45b4-90c4-3d3c185afd86\" class=\"sk-top-container\"><div class=\"sk-text-repr-fallback\"><pre>ROCAUC(ax=&lt;AxesSubplot:title={&#x27;center&#x27;:&#x27;ROC Curves for RidgeClassifier&#x27;}, xlabel=&#x27;False Positive Rate&#x27;, ylabel=&#x27;True Positive Rate&#x27;&gt;,\n",
       "       binary=True, estimator=RidgeClassifier(), macro=False, micro=False,\n",
       "       per_class=False)</pre><b>Please rerun this cell to show the HTML repr or trust the notebook.</b></div><div class=\"sk-container\" hidden><div class=\"sk-item sk-dashed-wrapped\"><div class=\"sk-label-container\"><div class=\"sk-label sk-toggleable\"><input class=\"sk-toggleable__control sk-hidden--visually\" id=\"d375bc50-6d26-4563-81e4-d94e45a6549d\" type=\"checkbox\" ><label for=\"d375bc50-6d26-4563-81e4-d94e45a6549d\" class=\"sk-toggleable__label sk-toggleable__label-arrow\">ROCAUC</label><div class=\"sk-toggleable__content\"><pre>ROCAUC(ax=&lt;AxesSubplot:title={&#x27;center&#x27;:&#x27;ROC Curves for RidgeClassifier&#x27;}, xlabel=&#x27;False Positive Rate&#x27;, ylabel=&#x27;True Positive Rate&#x27;&gt;,\n",
       "       binary=True, estimator=RidgeClassifier(), macro=False, micro=False,\n",
       "       per_class=False)</pre></div></div></div><div class=\"sk-parallel\"><div class=\"sk-parallel-item\"><div class=\"sk-item\"><div class=\"sk-serial\"><div class=\"sk-item\"><div class=\"sk-estimator sk-toggleable\"><input class=\"sk-toggleable__control sk-hidden--visually\" id=\"c90e52ce-2d80-4a7a-a430-0f399e1f81f4\" type=\"checkbox\" ><label for=\"c90e52ce-2d80-4a7a-a430-0f399e1f81f4\" class=\"sk-toggleable__label sk-toggleable__label-arrow\">RidgeClassifier</label><div class=\"sk-toggleable__content\"><pre>RidgeClassifier()</pre></div></div></div></div></div></div></div></div></div></div>"
      ],
      "text/plain": [
       "ROCAUC(ax=<AxesSubplot:title={'center':'ROC Curves for RidgeClassifier'}, xlabel='False Positive Rate', ylabel='True Positive Rate'>,\n",
       "       binary=True, estimator=RidgeClassifier(), macro=False, micro=False,\n",
       "       per_class=False)"
      ]
     },
     "execution_count": 66,
     "metadata": {},
     "output_type": "execute_result"
    }
   ],
   "source": [
    "from yellowbrick.classifier.rocauc import roc_auc\n",
    "\n",
    "# Instantiate the visualizer with the classification model\n",
    "model = RidgeClassifier()\n",
    "roc_auc(model, X_train=x_train_prep, y_train=y_train,\n",
    "        X_test=x_test_prep, y_test=y_test, binary=True)\n"
   ]
  },
  {
   "cell_type": "markdown",
   "metadata": {},
   "source": [
    "Yellowbrick visualizer a 2 inconvenients\n",
    "\n",
    "- il n'accepte pas des pipelines de sampling /preprocessing / feature selection\n",
    "- il faut faire le fit via Yellowbrick (on ne peut pas envoyer les données)\n"
   ]
  },
  {
   "cell_type": "code",
   "execution_count": 80,
   "metadata": {},
   "outputs": [
    {
     "data": {
      "image/png": "[encoded data removed]",
      "text/plain": [
       "<Figure size 576x288 with 3 Axes>"
      ]
     },
     "metadata": {},
     "output_type": "display_data"
    }
   ],
   "source": [
    "def plot_roc_from_clf(clf: BaseEstimator, x_test_, y_test_, **kwargs):\n",
    "    display = metrics.RocCurveDisplay.from_estimator(\n",
    "        clf, x_test_, y_test_, **kwargs)\n",
    "\n",
    "\n",
    "def plot_cm_roc(model:BaseEstimator, gs:GridSearchCV, x_train_, y_train_, x_test_,y_test_):\n",
    "    \"\"\"plot confusion matrix and ROC curve\"\"\"\n",
    "    best_clf: BaseEstimator = get_classifier(gs.best_estimator_)\n",
    "    best_params = gs.best_params_\n",
    "    # model can be a classifier or a pipeline with a classifier\n",
    "    model.set_params(**dict(best_params))\n",
    "    model.fit(x_train_, y_train_)\n",
    "    y_pred_ = model.predict(x_test_)\n",
    "    y_pred_ = model.predict(x_test_)\n",
    "  \n",
    "    auc_test = metrics.roc_auc_score()\n",
    "    fig, _ = plt.subplots(figsize=(8, 4))\n",
    "    gspec = fig.add_gridspec(8,8)\n",
    "    ax = plt.subplot(gspec[2:6, :3])\n",
    "    ax=plot_confusion_matrix_heatmap(y_test_,y_pred_,ax=ax)\n",
    "\n",
    "    ax = plt.subplot(gspec[:, 4:])\n",
    "    train_label= f'train (AUC = {gs.best_score_:.2f})'\n",
    "    auc_test=model.score(x_test_,y_test_)\n",
    "    test_label= f'test (AUC = {auc_test:.2f})'\n",
    "    plot_roc_from_clf(model, x_train_, y_train_, c='g', ls='-.', ax=ax)\n",
    "    ax.plot([0, 1], [0, 1], color='b', ls='--', label='no skill')\n",
    "    add_text(ax,0.05,0.95,train_label, c='g', fontsize=10)\n",
    "    add_text(ax,0.05,0.9,test_label, c='r', fontsize=10)\n",
    "    # ax.grid(False)\n",
    "    plot_roc_from_clf(model, x_test_, y_test_, c='r', ax=ax)\n",
    "\n",
    "plot_cm_roc(test_model,gs,x_train_prep,y_train,x_test_prep,y_test)"
   ]
  },
  {
   "cell_type": "code",
   "execution_count": null,
   "metadata": {},
   "outputs": [],
   "source": []
  }
 ],
 "metadata": {
  "interpreter": {
   "hash": "9f161018c5e2fdb25091822214a6434325c4d2222b4c3ef81019bf1117201605"
  },
  "kernelspec": {
   "display_name": "Python 3.7.0 ('OC_3')",
   "language": "python",
   "name": "python3"
  },
  "language_info": {
   "codemirror_mode": {
    "name": "ipython",
    "version": 3
   },
   "file_extension": ".py",
   "mimetype": "text/x-python",
   "name": "python",
   "nbconvert_exporter": "python",
   "pygments_lexer": "ipython3",
   "version": "3.7.0"
  },
  "orig_nbformat": 4
 },
 "nbformat": 4,
 "nbformat_minor": 2
}
