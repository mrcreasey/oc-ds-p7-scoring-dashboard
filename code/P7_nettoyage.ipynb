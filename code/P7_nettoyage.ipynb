{
  "cells": [
    {
      "cell_type": "markdown",
      "metadata": {
        "id": "DFji9bO_eJMR"
      },
      "source": [
        "# Implémentez un modèle de scoring\n",
        "\n",
        "- **Projet 7 du parcours « Data Scientist » d’OpenClassrooms**\n",
        "- **Mark Creasey**\n",
        "\n",
        "## Étape 1 : Préparation du jeu de données et feature engineering\n"
      ]
    },
    {
      "cell_type": "markdown",
      "metadata": {},
      "source": [
        "## 1.1 Compréhension du problème\n",
        "\n",
        "### 1.1.1 Problématique\n",
        "\n",
        "La société financière, nommée **\"Prêt à dépenser\"**, propose des crédits à la consommation pour des\n",
        "personnes ayant peu ou pas du tout d'historique de prêt.\n",
        "\n",
        "L’entreprise souhaite mettre en œuvre **un outil de “scoring crédit”** pour calculer la qu’un client\n",
        "rembourse son crédit, puis classifie la demande en crédit accordé ou refusé. Elle souhaite donc\n",
        "développer **un algorithme de classification** en s’appuyant sur des sources de données variées (données\n",
        "comportementales, données provenant d'autres institutions financières, etc.).\n",
        "\n",
        "### 1.1.2 Les données\n",
        "\n",
        "Voici [les données](https://www.kaggle.com/c/home-credit-default-risk/data) pour réaliser le\n",
        "dashboard. Pour plus de simplicité, vous pouvez les télécharger à\n",
        "[cette adresse](https://s3-eu-west-1.amazonaws.com/static.oc-static.com/prod/courses/files/Parcours_data_scientist/Projet+-+Impl%C3%A9menter+un+mod%C3%A8le+de+scoring/Projet+Mise+en+prod+-+home-credit-default-risk.zip).\n",
        "\n",
        "### 1.1.1 Mission\n",
        "\n",
        "- Sélectionner un kernel Kaggle pour faciliter la préparation des données nécessaires à l’élaboration du modèle de scoring.\n",
        "- Analyser ce kernel et l’adapter aux besoins de votre mission.\n",
        "\n",
        "Focalise sur :\n",
        "\n",
        "1. La construction d'un **modèle de scoring** qui donnera une prédiction sur la probabilité de faillite\n",
        "   d'un client de façon automatique.\n",
        "   - élaboration\n",
        "   - optimisation\n",
        "   - comprehension (interpretabilité)\n",
        "   \n",
        "2. Construction d'un **dashboard interactif** qui montre avec transparence les décisions d’octroi de\n",
        "   crédit, à destination des gestionnaires de la relation client permettant d'interpréter les\n",
        "   prédictions faites par le modèle et d’améliorer la connaissance client des chargés de relation\n",
        "   client.\n"
      ]
    }
  ],
  "metadata": {
    "colab": {
      "collapsed_sections": [],
      "name": "P7_nettoyage.ipynb",
      "provenance": [],
      "toc_visible": true
    },
    "interpreter": {
      "hash": "9f161018c5e2fdb25091822214a6434325c4d2222b4c3ef81019bf1117201605"
    },
    "kernelspec": {
      "display_name": "Python 3.7.0 ('OC_3')",
      "language": "python",
      "name": "python3"
    },
    "language_info": {
      "codemirror_mode": {
        "name": "ipython",
        "version": 3
      },
      "file_extension": ".py",
      "mimetype": "text/x-python",
      "name": "python",
      "nbconvert_exporter": "python",
      "pygments_lexer": "ipython3",
      "version": "3.7.0"
    }
  },
  "nbformat": 4,
  "nbformat_minor": 0
}
