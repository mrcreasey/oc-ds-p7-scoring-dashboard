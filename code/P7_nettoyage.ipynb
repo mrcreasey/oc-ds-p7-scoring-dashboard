{
  "cells": [
    {
      "cell_type": "markdown",
      "metadata": {
        "id": "DFji9bO_eJMR"
      },
      "source": [
        "# Implémentez un modèle de scoring\n",
        "\n",
        "- **Projet 7 du parcours « Data Scientist » d’OpenClassrooms**\n",
        "- **Mark Creasey**\n",
        "\n",
        "## Étape 1 : Préparation du jeu de données et feature engineering\n"
      ]
    },
    {
      "cell_type": "markdown",
      "metadata": {},
      "source": [
        "## 1.1 Compréhension du problème\n",
        "\n",
        "### 1.1.1 Problématique\n",
        "\n",
        "La société financière, nommée **\"Prêt à dépenser\"**, propose des crédits à la consommation pour des\n",
        "personnes ayant peu ou pas du tout d'historique de prêt.\n",
        "\n",
        "L’entreprise souhaite mettre en œuvre **un outil de “scoring crédit”** pour calculer la qu’un client\n",
        "rembourse son crédit, puis classifie la demande en crédit accordé ou refusé. Elle souhaite donc\n",
        "développer **un algorithme de classification** en s’appuyant sur des sources de données variées (données\n",
        "comportementales, données provenant d'autres institutions financières, etc.).\n",
        "\n",
        "### 1.1.2 Les données\n",
        "\n",
        "Voici [les données](https://www.kaggle.com/c/home-credit-default-risk/data) pour réaliser le\n",
        "dashboard. Pour plus de simplicité, vous pouvez les télécharger à\n",
        "[cette adresse](https://s3-eu-west-1.amazonaws.com/static.oc-static.com/prod/courses/files/Parcours_data_scientist/Projet+-+Impl%C3%A9menter+un+mod%C3%A8le+de+scoring/Projet+Mise+en+prod+-+home-credit-default-risk.zip).\n",
        "\n",
        "### 1.1.1 Mission\n",
        "\n",
        "- Sélectionner un kernel Kaggle pour faciliter la préparation des données nécessaires à l’élaboration du modèle de scoring.\n",
        "- Analyser ce kernel et l’adapter aux besoins de votre mission.\n",
        "\n",
        "Focalise sur :\n",
        "\n",
        "1. La construction d'un **modèle de scoring** qui donnera une prédiction sur la probabilité de faillite\n",
        "   d'un client de façon automatique.\n",
        "   - élaboration\n",
        "   - optimisation\n",
        "   - comprehension (interpretabilité)\n",
        "   \n",
        "2. Construction d'un **dashboard interactif** qui montre avec transparence les décisions d’octroi de\n",
        "   crédit, à destination des gestionnaires de la relation client permettant d'interpréter les\n",
        "   prédictions faites par le modèle et d’améliorer la connaissance client des chargés de relation\n",
        "   client.\n"
      ]
    },
    {
      "cell_type": "markdown",
      "metadata": {
        "id": "wM6z7uUfebpT"
      },
      "source": [
        "## 1.2 Definition de l'environnement\n",
        "\n",
        "- `local`  : Développement local (avec échantillon de 50 Mo de données)\n",
        "- `colab`  : Google Colab\n",
        "- `kaggle` : Kaggle Kernel"
      ]
    },
    {
      "cell_type": "code",
      "execution_count": 1,
      "metadata": {
        "colab": {
          "base_uri": "https://localhost:8080/"
        },
        "id": "EMeZBFf2eTfz",
        "outputId": "2657b460-a736-4de6-de5f-1bf9ceb1ea36"
      },
      "outputs": [],
      "source": [
        "ENV='local'\n",
        "\n",
        "if ENV=='local':\n",
        "    # local development\n",
        "    DATA_FOLDER = '../data/raw'\n",
        "    OUT_FOLDER = '../data/out'\n",
        "    IMAGE_FOLDER = '../images/nettoyage'\n",
        "\n",
        "if ENV == 'colab':\n",
        "    # Colaboratory - uncomment les 2 lignes suivant pour connecter à votre drive\n",
        "    # from google.colab import drive\n",
        "    # drive.mount('/content/drive')\n",
        "    DATA_FOLDER = '/content/drive/MyDrive/data/OC7'\n",
        "    OUT_FOLDER = '/content/drive/MyDrive/data/OC7'\n",
        "    IMAGE_FOLDER = '/content/drive/MyDrive/images/OC7/nettoyage'\n",
        "\n"
      ]
    },
    {
      "cell_type": "markdown",
      "metadata": {
        "id": "HvnInn3XfWQ2"
      },
      "source": [
        "## 1.3 Fichiers de données\n",
        "\n",
        "1. Les données en format CSV (>700Mb compactés) sont à télecharger de ce lien: \n",
        "- https://www.kaggle.com/c/home-credit-default-risk/data\n",
        "- Pour plus de simplicité, vous pouvez les télécharger à [cette adresse.](https://s3-eu-west-1.amazonaws.com/static.oc-static.com/prod/courses/files/Parcours_data_scientist/Projet+-+Impl%C3%A9menter+un+mod%C3%A8le+de+scoring/Projet+Mise+en+prod+-+home-credit-default-risk.zip)\n",
        "\n",
        "2.  Placer le fichier compacté (**.zip**) dans le **DATA_FOLDER** défini ci-dessous"
      ]
    },
    {
      "cell_type": "markdown",
      "metadata": {
        "id": "ELwbVYvAgSMU"
      },
      "source": [
        "### Noms des fichiers de données (identique pour nettoyage et l'analyse exploratoire)\n",
        "\n",
        "- Le grand fichier zip des données doit être placé dans `DATA_FOLDER` au préalable \n",
        "- Tous les autres fichiers de données sont téléchargés ou crées pendant le nettoyage, puis enregistrés dans `OUT_FOLDER`"
      ]
    },
    {
      "cell_type": "code",
      "execution_count": 2,
      "metadata": {
        "id": "F_iJnVSEfKma"
      },
      "outputs": [],
      "source": [
        "# Données (DATA_FOLDER)\n",
        "ZIPPED_DATA_FILENAME=f'Projet+Mise+en+prod+-+home-credit-default-risk.zip'\n",
        "RAW_DATA_FILENAME='HomeCredit_columns_description.csv'\n",
        "SAMPLE_DATA_FILENAME='HomeCredit_columns_description.csv'\n",
        "\n",
        "\n",
        "# Données nettoyés (OUT_FOLDER)\n",
        "CLEAN_DATA_FILENAME='cleaned_data_scoring.csv'\n",
        "CLEAN_DATA_SAMPLE='cleaned_data_sample.csv' # 100,000 registres\n",
        "SAMPLE_SIZE=100000"
      ]
    },
    {
      "cell_type": "markdown",
      "metadata": {
        "id": "aMFxPWtagxDT"
      },
      "source": [
        "## 1.4 Requirements: Bibliothèques utilisées dans ce notebook\n",
        "Ce notebook marche a été testé en developpement local, sur Google Colab et Kaggle\n",
        "\n",
        "```txt\n",
        "# copy dans un fichier requirements.txt, puis\n",
        "# !pip install -r requirements.txt\n",
        "python>=3.7,<=3.9\n",
        "numpy>=1.19.5,<=1.21.2\n",
        "pandas>=1.1.5,<=1.3.4 \n",
        "matplotlib>=3.2.2,<=3.5.0\n",
        "seaborn==0.11.2\n",
        "scikit-learn>=1.0.1\n",
        "```"
      ]
    },
    {
      "cell_type": "code",
      "execution_count": 3,
      "metadata": {
        "id": "pIP-XhqSgyC_"
      },
      "outputs": [],
      "source": [
        "# Decommentarise la ligne suivant si vous ne voulez pas changer vos versions existants\n",
        "# !pip install numpy pandas matplotlib seaborn scipy sklearn missingno requests"
      ]
    },
    {
      "cell_type": "markdown",
      "metadata": {
        "id": "s8kXrZGCg6h1"
      },
      "source": [
        "## 1.5 Import dependencies"
      ]
    },
    {
      "cell_type": "markdown",
      "metadata": {
        "id": "KPt54cG5g7Up"
      },
      "source": [
        "### 1.5.1 Import des bibliothèques utilisées par ce notebook"
      ]
    },
    {
      "cell_type": "code",
      "execution_count": 4,
      "metadata": {
        "id": "XtukhHGIg-Ag"
      },
      "outputs": [],
      "source": [
        "# suppress furture warnings de pandas 1.3.0  \n",
        "import warnings\n",
        "warnings.simplefilter(action='ignore', category=FutureWarning)\n",
        "\n",
        "import os\n",
        "import matplotlib.pyplot as plt\n",
        "import numpy as np\n",
        "import pandas as pd\n",
        "import seaborn as sns\n",
        "import sklearn\n",
        "import gc\n",
        "import time\n",
        "from contextlib import contextmanager\n"
      ]
    },
    {
      "cell_type": "markdown",
      "metadata": {
        "id": "FhE8BZ1ihG2I"
      },
      "source": [
        "### 1.5.2 Liste des versions des bibliothèques utilisées"
      ]
    },
    {
      "cell_type": "code",
      "execution_count": 5,
      "metadata": {
        "colab": {
          "base_uri": "https://localhost:8080/"
        },
        "id": "FJXh67-FhIwI",
        "outputId": "cf659d51-6099-46fb-c9fb-56d2067fe4a6"
      },
      "outputs": [
        {
          "name": "stdout",
          "output_type": "stream",
          "text": [
            "Python 3.7.0 (default, Jun 28 2018, 08:04:48) [MSC v.1912 64 bit (AMD64)]\n",
            "versions des bibliothèques utilisées:\n",
            "numpy==1.21.5; pandas==1.1.5; seaborn==0.11.2; sklearn==1.0.2\n"
          ]
        }
      ],
      "source": [
        "!python --version\n",
        "print('versions des bibliothèques utilisées:')\n",
        "print('; '.join(f'{m.__name__}=={m.__version__}' for m in globals().values() if getattr(m, '__version__', None)))"
      ]
    },
    {
      "cell_type": "markdown",
      "metadata": {
        "id": "5f04qBPghSsr"
      },
      "source": [
        "### 1.5.3 Configuration défauts d'affichage"
      ]
    },
    {
      "cell_type": "code",
      "execution_count": 6,
      "metadata": {
        "id": "mIoSzAqXhMEV"
      },
      "outputs": [],
      "source": [
        "pd.set_option('display.max_columns', 200)  # pour afficher toutes les colonnes\n",
        "pd.set_option('display.max_rows', 10)  # pour afficher max 10 lignes\n",
        "pd.set_option('display.max_colwidth', 100)\n",
        "\n",
        "%matplotlib inline\n",
        "sns.set_theme(style=\"white\", context=\"notebook\")\n",
        "sns.set_color_codes(\"pastel\")\n",
        "sns.set_palette(\"tab20\")"
      ]
    },
    {
      "cell_type": "markdown",
      "metadata": {
        "id": "M-MCPw5BhZBq"
      },
      "source": [
        "## 1.6 Fonctions utilitaires (make_dirs, savefig)\n",
        "- pour enregistrer les graphiques, define **`SAVE_IMAGES = True`**\n"
      ]
    },
    {
      "cell_type": "code",
      "execution_count": 7,
      "metadata": {
        "id": "02aCvSc1hbKP"
      },
      "outputs": [],
      "source": [
        "def os_make_dir(folder):\n",
        "    if not os.path.exists(folder):\n",
        "        os.makedirs(folder)\n",
        "\n",
        "def os_path_join(folder, file):\n",
        "    \"\"\"remplacement pour `os.path.join(folder, file)` sur windows\"\"\"\n",
        "    return f'{folder}/{file}'\n",
        "\n",
        "if ENV !='kaggle': \n",
        "    os_make_dir(DATA_FOLDER)\n",
        "    os_make_dir(OUT_FOLDER)\n",
        "\n",
        "os_make_dir(IMAGE_FOLDER)\n",
        "SAVE_IMAGES=True\n",
        "def to_png(fig_name):\n",
        "    if SAVE_IMAGES:\n",
        "        \"\"\"Enregistre l'image\"\"\"\n",
        "        plt.gcf().savefig(os_path_join(IMAGE_FOLDER,f'{fig_name}.png'), bbox_inches=\"tight\")"
      ]
    }
  ],
  "metadata": {
    "colab": {
      "collapsed_sections": [],
      "name": "P7_nettoyage.ipynb",
      "provenance": [],
      "toc_visible": true
    },
    "interpreter": {
      "hash": "9f161018c5e2fdb25091822214a6434325c4d2222b4c3ef81019bf1117201605"
    },
    "kernelspec": {
      "display_name": "Python 3.7.0 ('OC_3')",
      "language": "python",
      "name": "python3"
    },
    "language_info": {
      "codemirror_mode": {
        "name": "ipython",
        "version": 3
      },
      "file_extension": ".py",
      "mimetype": "text/x-python",
      "name": "python",
      "nbconvert_exporter": "python",
      "pygments_lexer": "ipython3",
      "version": "3.7.0"
    }
  },
  "nbformat": 4,
  "nbformat_minor": 0
}
