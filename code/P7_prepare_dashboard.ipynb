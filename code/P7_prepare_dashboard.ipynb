{
 "cells": [
  {
   "cell_type": "markdown",
   "metadata": {
    "id": "DFji9bO_eJMR"
   },
   "source": [
    "# Implémentez un modèle de scoring\n",
    "\n",
    "- **Projet 7 du parcours « Data Scientist » d'OpenClassrooms**\n",
    "- **Mark Creasey**\n",
    "\n",
    "## Étape 3 : Préparation du dashboard\n"
   ]
  },
  {
   "cell_type": "markdown",
   "metadata": {},
   "source": [
    "## 1.1 Compréhension du problème\n",
    "\n",
    "### 1.1.1 Problématique\n",
    "\n",
    "La société financière, nommée **\"Prêt à dépenser\"**, propose des crédits à la consommation pour des\n",
    "personnes ayant peu ou pas du tout d'historique de prêt.\n",
    "\n",
    "L'entreprise souhaite mettre en œuvre **un outil de “scoring crédit”** pour calculer la qu'un client\n",
    "rembourse son crédit, puis classifie la demande en crédit accordé ou refusé. Elle souhaite donc\n",
    "développer **un algorithme de classification** en s'appuyant sur des sources de données variées (données\n",
    "comportementales, données provenant d'autres institutions financières, etc.).\n",
    "\n",
    "### 1.1.2 Les données\n",
    "\n",
    "Voici [les données](https://www.kaggle.com/c/home-credit-default-risk/data) pour réaliser le\n",
    "dashboard. Pour plus de simplicité, vous pouvez les télécharger à\n",
    "[cette adresse](https://s3-eu-west-1.amazonaws.com/static.oc-static.com/prod/courses/files/Parcours_data_scientist/Projet+-+Impl%C3%A9menter+un+mod%C3%A8le+de+scoring/Projet+Mise+en+prod+-+home-credit-default-risk.zip).\n",
    "\n",
    "### 1.1.1 Mission\n",
    "\n",
    "- Sélectionner un kernel Kaggle pour faciliter la préparation des données nécessaires à l'élaboration du modèle de scoring.\n",
    "- Analyser ce kernel et l'adapter aux besoins de votre mission.\n",
    "\n",
    "Focalise sur :\n",
    "\n",
    "1. La construction d'un **modèle de scoring** qui donnera une prédiction sur la probabilité de faillite\n",
    "   d'un client de façon automatique.\n",
    "   - élaboration\n",
    "   - optimisation\n",
    "   - comprehension (interpretabilité)\n",
    "2. Construction d'un **dashboard interactif** qui montre avec transparence les décisions d'octroi de\n",
    "   crédit, à destination des gestionnaires de la relation client permettant d'interpréter les\n",
    "   prédictions faites par le modèle et d'améliorer la connaissance client des chargés de relation\n",
    "   client.\n"
   ]
  },
  {
   "cell_type": "markdown",
   "metadata": {},
   "source": [
    "## Développement de l'Application Dashboard \n",
    "\n",
    "Le tableau de bord pour le chargé d'étude intégrera au minimum les informations client suivantes :\n",
    "\n",
    "- N° client, crédit accepté ou non, score détaillé sous forme de jauge colorée selon qu'il est en dessous ou au-dessus du seuil : permet de juger s'il est loin du seuil ou non.\n",
    "- Sa feature importance locale sous forme de graphique, qui permet au chargé d'étude de comprendre quelles sont les données du client qui ont le plus influencé le calcul de son score\n",
    "\n",
    "Le tableau de bord présentera également d'autres graphiques sur les autres clients :\n",
    "- Deux graphiques de features sélectionnées dans une liste déroulante, présentant la distribution de la feature selon les classes, ainsi que le positionnement de la valeur du client\n",
    "- Un graphique d'analyse bi-variée entre les deux features sélectionnées, avec un dégradé de couleur selon le score des clients, et le positionnement du client\n",
    "- La feature importance globale"
   ]
  },
  {
   "cell_type": "markdown",
   "metadata": {
    "id": "wM6z7uUfebpT"
   },
   "source": [
    "## 1.2 Definition de l'environnement\n",
    "\n",
    "- `local` : Développement local (avec échantillon de 50 Mo de données)\n",
    "- `colab` : Google Colab\n",
    "- `kaggle` : Kaggle Kernel\n"
   ]
  },
  {
   "cell_type": "code",
   "execution_count": 1,
   "metadata": {
    "colab": {
     "base_uri": "https://localhost:8080/"
    },
    "id": "EMeZBFf2eTfz",
    "outputId": "2657b460-a736-4de6-de5f-1bf9ceb1ea36"
   },
   "outputs": [],
   "source": [
    "ENV = 'local'\n",
    "\n",
    "# if ENV == 'local':\n",
    "# local development\n",
    "DATA_FOLDER = '../data/raw'\n",
    "OUT_FOLDER = '../data/out'\n",
    "IMAGE_FOLDER = '../images/dashboard'\n",
    "MODEL_FOLDER = '../saved_models'\n",
    "\n",
    "if ENV == 'colab':\n",
    "    # Colaboratory - uncomment les 2 lignes suivant pour connecter à votre drive\n",
    "    # from google.colab import drive\n",
    "    # drive.mount('/content/drive')\n",
    "    DATA_FOLDER = '/content/drive/MyDrive/data/OC7'\n",
    "    OUT_FOLDER = '/content/drive/MyDrive/data/OC7'\n",
    "    MODEL_FOLDER = '/content/drive/MyDrive/data/OC7/saved_models'\n",
    "    IMAGE_FOLDER = '/content/drive/MyDrive/images/OC7/dashboard'\n"
   ]
  },
  {
   "cell_type": "markdown",
   "metadata": {
    "id": "HvnInn3XfWQ2"
   },
   "source": [
    "## 1.3 Fichiers de données\n",
    "\n",
    "1. Les données en format CSV (>700Mb compactés) sont à télecharger de ce lien:\n",
    "\n",
    "- https://www.kaggle.com/c/home-credit-default-risk/data\n",
    "- Pour plus de simplicité, vous pouvez les télécharger à [cette adresse.](https://s3-eu-west-1.amazonaws.com/static.oc-static.com/prod/courses/files/Parcours_data_scientist/Projet+-+Impl%C3%A9menter+un+mod%C3%A8le+de+scoring/Projet+Mise+en+prod+-+home-credit-default-risk.zip)\n",
    "\n",
    "2.  Placer le fichier compacté (**.zip**) dans le **DATA_FOLDER** défini ci-dessous\n"
   ]
  },
  {
   "cell_type": "markdown",
   "metadata": {
    "id": "ELwbVYvAgSMU"
   },
   "source": [
    "### Noms des fichiers de données (identique pour nettoyage et l'analyse exploratoire)\n",
    "\n",
    "- Le grand fichier zip des données doit être placé dans `DATA_FOLDER` au préalable\n",
    "- Tous les autres fichiers de données sont téléchargés ou crées pendant le nettoyage, puis enregistrés dans `OUT_FOLDER`\n"
   ]
  },
  {
   "cell_type": "code",
   "execution_count": 2,
   "metadata": {
    "id": "F_iJnVSEfKma"
   },
   "outputs": [],
   "source": [
    "# Données nettoyés (OUT_FOLDER)\n",
    "CLEAN_DATA_FILENAME = 'cleaned_data_scoring.csv' #300000 registres\n",
    "CLEAN_DATA_SAMPLE = 'cleaned_data_sample.csv'  # 10,000 registres\n",
    "CLEAN_DATA_FEATURES = 'cleaned_data_features.csv'  # 100 meilleur features\n",
    "SAMPLE_SIZE = 10000\n"
   ]
  },
  {
   "cell_type": "markdown",
   "metadata": {
    "id": "aMFxPWtagxDT"
   },
   "source": [
    "## 1.4 Requirements: Bibliothèques utilisées dans ce notebook\n",
    "\n",
    "Ce notebook marche a été testé en developpement local, sur Google Colab et Kaggle\n",
    "\n",
    "```txt\n",
    "# copy dans un fichier requirements.txt, puis\n",
    "# !pip install -r requirements.txt\n",
    "```\n"
   ]
  },
  {
   "cell_type": "code",
   "execution_count": 3,
   "metadata": {
    "id": "pIP-XhqSgyC_"
   },
   "outputs": [],
   "source": [
    "# Decommentarise la ligne suivant si vous ne voulez pas changer vos versions existants\n",
    "# !pip install numpy pandas matplotlib seaborn scipy sklearn missingno requests\n"
   ]
  },
  {
   "cell_type": "code",
   "execution_count": 4,
   "metadata": {
    "colab": {
     "base_uri": "https://localhost:8080/"
    },
    "id": "kvsIMU0Ihglo",
    "outputId": "dee247f2-f59d-4167-c0fc-922e84b453fe"
   },
   "outputs": [
    {
     "name": "stdout",
     "output_type": "stream",
     "text": [
      "required modules: ['matplotlib', 'imbalanced-learn', 'shap', 'streamlit', 'numpy', 'scikit-learn', 'pandas', 'lightgbm', 'seaborn']\n",
      "missing modules: []\n"
     ]
    }
   ],
   "source": [
    "# import local functions\n",
    "import outils_io\n",
    "outils_io.install_libraries({'numpy', 'pandas', 'matplotlib',\n",
    "                             'seaborn', 'scikit-learn', 'imbalanced-learn',\n",
    "                              'lightgbm', 'shap', 'streamlit'})\n"
   ]
  },
  {
   "cell_type": "markdown",
   "metadata": {
    "id": "s8kXrZGCg6h1"
   },
   "source": [
    "## 1.5 Import dependencies\n"
   ]
  },
  {
   "cell_type": "markdown",
   "metadata": {
    "id": "KPt54cG5g7Up"
   },
   "source": [
    "### 1.5.1 Import des bibliothèques utilisées par ce notebook\n"
   ]
  },
  {
   "cell_type": "code",
   "execution_count": 5,
   "metadata": {
    "id": "XtukhHGIg-Ag"
   },
   "outputs": [],
   "source": [
    "\n",
    "from contextlib import contextmanager\n",
    "import time\n",
    "import gc\n",
    "import os\n",
    "import warnings\n",
    "import platform\n",
    "# suppress future warnings de pandas 1.3.0\n",
    "warnings.simplefilter(action='ignore', category=FutureWarning)\n"
   ]
  },
  {
   "cell_type": "code",
   "execution_count": 6,
   "metadata": {},
   "outputs": [],
   "source": [
    "import sklearn\n",
    "import seaborn as sns\n",
    "import pandas as pd\n",
    "import numpy as np\n",
    "import matplotlib.pyplot as plt\n",
    "import imblearn\n"
   ]
  },
  {
   "cell_type": "markdown",
   "metadata": {
    "id": "FhE8BZ1ihG2I"
   },
   "source": [
    "### 1.5.2 Liste des versions des bibliothèques utilisées\n"
   ]
  },
  {
   "cell_type": "code",
   "execution_count": 7,
   "metadata": {
    "colab": {
     "base_uri": "https://localhost:8080/"
    },
    "id": "FJXh67-FhIwI",
    "outputId": "cf659d51-6099-46fb-c9fb-56d2067fe4a6"
   },
   "outputs": [
    {
     "name": "stdout",
     "output_type": "stream",
     "text": [
      "python version = 3.7.13\n",
      "versions des bibliothèques utilisées:\n",
      "platform==1.0.8; sklearn==1.0.2; seaborn==0.11.2; pandas==1.3.5; numpy==1.21.6; imblearn==0.9.0\n"
     ]
    }
   ],
   "source": [
    "print(f'python version = {platform.python_version()}')\n",
    "print('versions des bibliothèques utilisées:')\n",
    "print('; '.join(f'{m.__name__}=={m.__version__}' for m in globals(\n",
    ").values() if getattr(m, '__version__', None)))\n"
   ]
  },
  {
   "cell_type": "markdown",
   "metadata": {
    "id": "5f04qBPghSsr"
   },
   "source": [
    "### 1.5.3 Configuration défauts d'affichage\n"
   ]
  },
  {
   "cell_type": "code",
   "execution_count": 8,
   "metadata": {
    "id": "mIoSzAqXhMEV"
   },
   "outputs": [],
   "source": [
    "pd.set_option('display.max_columns', 200)  # pour afficher toutes les colonnes\n",
    "pd.set_option('display.max_rows', 20)  # pour afficher max 20 lignes\n",
    "pd.set_option('display.max_colwidth', 100)\n",
    "\n",
    "%matplotlib inline\n",
    "sns.set_theme(style=\"white\", context=\"notebook\")\n",
    "sns.set_color_codes(\"pastel\")\n",
    "sns.set_palette(\"tab10\")\n",
    "\n",
    "RANDOM_SEED = 42\n"
   ]
  },
  {
   "cell_type": "markdown",
   "metadata": {},
   "source": [
    "### 1.5.4 Bibliothèque personelle\n",
    "\n",
    "On utilise un nom non standard\n"
   ]
  },
  {
   "cell_type": "code",
   "execution_count": 9,
   "metadata": {},
   "outputs": [],
   "source": [
    "import outils_io\n",
    "import outils_preprocess\n",
    "import outils_stats\n",
    "import outils_timed\n",
    "import outils_vis\n",
    "\n",
    "# frequently used functions\n",
    "from outils_vis import to_png\n",
    "from outils_timed import timer\n"
   ]
  },
  {
   "cell_type": "markdown",
   "metadata": {},
   "source": [
    "### 1.5.5 Configuration personelle\n"
   ]
  },
  {
   "cell_type": "code",
   "execution_count": 10,
   "metadata": {},
   "outputs": [],
   "source": [
    "\n",
    "# Enregistre parametres globals dans outils\n",
    "outils_vis.set_option('IMAGE_FOLDER', IMAGE_FOLDER)\n",
    "outils_vis.set_option('SAVE_IMAGES', True)\n",
    "\n",
    "if ENV != 'kaggle':\n",
    "    outils_io.os_make_dir(DATA_FOLDER)\n",
    "    outils_io.os_make_dir(OUT_FOLDER)\n",
    "\n",
    "outils_io.os_make_dir(IMAGE_FOLDER)\n"
   ]
  },
  {
   "cell_type": "markdown",
   "metadata": {
    "id": "7mhUYXKehkDI"
   },
   "source": [
    "# 2. Importation des données \n"
   ]
  },
  {
   "cell_type": "markdown",
   "metadata": {},
   "source": [
    "\n",
    "\n",
    "D'autres graphiques complémentaires, par exemple :\n",
    "\n",
    "Il est attendu de réaliser au moins 2 applications :\n",
    "- Une API qui au minimum renvoie le score d'un client (moteur d'inférence qui réalise le predict à partir du modèle final sauvegardé)\n",
    "- Une application Dashboard qui visualise les informations du client et les graphiques associés, et qui appelle l'API via une url pour récupérer le score du client\n",
    "- Ces applications seront gérées avec un logiciel de gestion de version comme Git (faire des commit), et l'ensemble du code déposé sur Github via push à partir de Git\n",
    "- Les applications (Dashboard et l'API) seront hébergées sur un serveur cloud, idéalement sur un serveur gratuit PythonAnywhere, Heroku, Streamlit, qui doit rester accessible jusqu'au jury de fin de parcours"
   ]
  },
  {
   "cell_type": "markdown",
   "metadata": {},
   "source": [
    "### Gauge\n",
    "- <http://nicolasfauchereau.github.io/climatecode/posts/drawing-a-gauge-with-matplotlib/>"
   ]
  },
  {
   "cell_type": "code",
   "execution_count": 11,
   "metadata": {},
   "outputs": [],
   "source": [
    "import os, sys\n",
    "import matplotlib\n",
    "from matplotlib import cm\n",
    "from matplotlib import pyplot as plt\n",
    "import numpy as np\n",
    "from matplotlib.patches import Circle, Wedge, Rectangle\n",
    "\n",
    "def degree_range(n): \n",
    "    start = np.linspace(0,180,n+1, endpoint=True)[0:-1]\n",
    "    end = np.linspace(0,180,n+1, endpoint=True)[1::]\n",
    "    mid_points = start + ((end-start)/2.)\n",
    "    return np.c_[start, end], mid_points\n",
    "\n",
    "\n",
    "def rot_text(ang): \n",
    "    rotation = np.degrees(np.radians(ang) * np.pi / np.pi - np.radians(90))\n",
    "    return rotation\n"
   ]
  },
  {
   "cell_type": "code",
   "execution_count": 12,
   "metadata": {},
   "outputs": [],
   "source": [
    "def gauge(arrow=0.5, labels=['LOW','MEDIUM','HIGH','EXTREME'], \n",
    "          title='',min_val=0.,max_val=1.,threshold=-1.0,\n",
    "          colors='RdYlGn_r', n_colors=-1, ax=None,figsize=(3,2)): \n",
    "    \n",
    "    N=len(labels)\n",
    "    n_colors = n_colors if n_colors > 0 else N\n",
    "    if isinstance(colors, str):\n",
    "        #  matplotlib colormap\n",
    "        cmap = cm.get_cmap(colors, n_colors)\n",
    "        cmap = cmap(np.arange(n_colors))\n",
    "        # colors = cmap[::-1,:].tolist()\n",
    "        colors = cmap\n",
    "    if isinstance(colors, list): \n",
    "        n_colors= len(colors)\n",
    "    if ax is None:\n",
    "        fig, ax = plt.subplots(figsize=figsize)\n",
    "\n",
    "    ang_range, _ = degree_range(n_colors)\n",
    "    \n",
    "    # plots the sectors and the arcs\n",
    "    for ang, c in zip(ang_range, colors): \n",
    "        ax.add_patch(Wedge((0.,0.), .4, *ang, width=0.10, facecolor='w', lw=2, alpha=0.5))\n",
    "        ax.add_patch(Wedge((0.,0.), .4, *ang, width=0.10, facecolor=c, lw=0, alpha=0.8))\n",
    "\n",
    "    \n",
    "    # labels (e.g. 'LOW','MEDIUM',...)\n",
    "    _, mid_points = degree_range(N)\n",
    "    labels = labels[::-1]\n",
    "    a=0.45\n",
    "    for mid, lab in zip(mid_points, labels): \n",
    "        ax.text(a * np.cos(np.radians(mid)), a * np.sin(np.radians(mid)), lab, \\\n",
    "            horizontalalignment='center', verticalalignment='center', fontsize=12, \\\n",
    "            fontweight='bold', rotation = rot_text(mid))\n",
    "\n",
    "\n",
    "    # bottom banner and title\n",
    "    ax.add_patch(Rectangle((-0.4,-0.1),0.8,0.1, facecolor='w', lw=2))    \n",
    "    ax.text(0, -0.10, title, horizontalalignment='center', verticalalignment='center', fontsize=20, fontweight='bold')\n",
    "    \n",
    "    # threshold\n",
    "    if threshold>min_val and threshold<max_val:\n",
    "        pos=180 * (max_val-threshold)/(max_val-min_val)\n",
    "        a=0.25; b=0.18; x=np.cos(np.radians(pos)); y= np.sin(np.radians(pos))\n",
    "        ax.arrow(a*x, a*y,b*x,b*y, width=0.01, head_width=0.0, head_length=0, ls='--',fc='r', ec='r')\n",
    "\n",
    "    # arrow\n",
    "    pos=180 * (max_val-arrow)/(max_val-min_val)\n",
    "    ax.arrow(0, 0, 0.225 * np.cos(np.radians(pos)), 0.225 * np.sin(np.radians(pos)), \\\n",
    "                 width=0.04, head_width=0.09, head_length=0.1, fc='k', ec='k')\n",
    "    \n",
    "    ax.add_patch(Circle((0, 0), radius=0.02, facecolor='k'))\n",
    "    #ax.add_patch(Circle((0, 0), radius=0.01, facecolor='b', zorder=11))\n",
    "    ax.set_frame_on(False)\n",
    "    ax.axes.set_xticks([])\n",
    "    ax.axes.set_yticks([])\n",
    "    ax.axis('equal')\n",
    "    return ax\n"
   ]
  },
  {
   "cell_type": "code",
   "execution_count": 13,
   "metadata": {},
   "outputs": [
    {
     "data": {
      "text/plain": [
       "<AxesSubplot:>"
      ]
     },
     "execution_count": 13,
     "metadata": {},
     "output_type": "execute_result"
    },
    {
     "data": {
      "image/png": "[encoded data removed]",
      "text/plain": [
       "<Figure size 216x144 with 1 Axes>"
      ]
     },
     "metadata": {},
     "output_type": "display_data"
    }
   ],
   "source": [
    "gauge(colors= 'nipy_spectral', n_colors=80,\n",
    "      arrow=0.1, title='risk', threshold=0.6) "
   ]
  },
  {
   "cell_type": "code",
   "execution_count": null,
   "metadata": {},
   "outputs": [],
   "source": []
  }
 ],
 "metadata": {
  "kernelspec": {
   "display_name": "Python 3.7.13 ('OC_3')",
   "language": "python",
   "name": "python3"
  },
  "language_info": {
   "codemirror_mode": {
    "name": "ipython",
    "version": 3
   },
   "file_extension": ".py",
   "mimetype": "text/x-python",
   "name": "python",
   "nbconvert_exporter": "python",
   "pygments_lexer": "ipython3",
   "version": "3.7.13"
  },
  "orig_nbformat": 4,
  "vscode": {
   "interpreter": {
    "hash": "de73adf3636becfdd28fc3f09c4b7cfc5d68803368fa5cbfa6ecb5d977c6da89"
   }
  }
 },
 "nbformat": 4,
 "nbformat_minor": 2
}
