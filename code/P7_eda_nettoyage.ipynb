{
  "cells": [
    {
      "cell_type": "markdown",
      "metadata": {
        "id": "DFji9bO_eJMR"
      },
      "source": [
        "# Implémentez un modèle de scoring\n",
        "\n",
        "- **Projet 7 du parcours « Data Scientist » d’OpenClassrooms**\n",
        "- **Mark Creasey**\n",
        "\n",
        "## Étape 1 : Préparation du jeu de données et feature engineering\n"
      ]
    },
    {
      "cell_type": "markdown",
      "metadata": {},
      "source": [
        "## 1.1 Compréhension du problème\n",
        "\n",
        "### 1.1.1 Problématique\n",
        "\n",
        "La société financière, nommée **\"Prêt à dépenser\"**, propose des crédits à la consommation pour des\n",
        "personnes ayant peu ou pas du tout d'historique de prêt.\n",
        "\n",
        "L’entreprise souhaite mettre en œuvre **un outil de “scoring crédit”** pour calculer la qu’un client\n",
        "rembourse son crédit, puis classifie la demande en crédit accordé ou refusé. Elle souhaite donc\n",
        "développer **un algorithme de classification** en s’appuyant sur des sources de données variées (données\n",
        "comportementales, données provenant d'autres institutions financières, etc.).\n",
        "\n",
        "### 1.1.2 Les données\n",
        "\n",
        "Voici [les données](https://www.kaggle.com/c/home-credit-default-risk/data) pour réaliser le\n",
        "dashboard. Pour plus de simplicité, vous pouvez les télécharger à\n",
        "[cette adresse](https://s3-eu-west-1.amazonaws.com/static.oc-static.com/prod/courses/files/Parcours_data_scientist/Projet+-+Impl%C3%A9menter+un+mod%C3%A8le+de+scoring/Projet+Mise+en+prod+-+home-credit-default-risk.zip).\n",
        "\n",
        "### 1.1.1 Mission\n",
        "\n",
        "- Sélectionner un kernel Kaggle pour faciliter la préparation des données nécessaires à l’élaboration du modèle de scoring.\n",
        "- Analyser ce kernel et l’adapter aux besoins de votre mission.\n",
        "\n",
        "Focalise sur :\n",
        "\n",
        "1. La construction d'un **modèle de scoring** qui donnera une prédiction sur la probabilité de faillite\n",
        "   d'un client de façon automatique.\n",
        "   - élaboration\n",
        "   - optimisation\n",
        "   - comprehension (interpretabilité)\n",
        "2. Construction d'un **dashboard interactif** qui montre avec transparence les décisions d’octroi de\n",
        "   crédit, à destination des gestionnaires de la relation client permettant d'interpréter les\n",
        "   prédictions faites par le modèle et d’améliorer la connaissance client des chargés de relation\n",
        "   client.\n"
      ]
    },
    {
      "cell_type": "markdown",
      "metadata": {
        "id": "wM6z7uUfebpT"
      },
      "source": [
        "## 1.2 Definition de l'environnement\n",
        "\n",
        "- `local` : Développement local (avec échantillon de 50 Mo de données)\n",
        "- `colab` : Google Colab\n",
        "- `kaggle` : Kaggle Kernel\n"
      ]
    },
    {
      "cell_type": "code",
      "execution_count": 1,
      "metadata": {
        "colab": {
          "base_uri": "https://localhost:8080/"
        },
        "id": "EMeZBFf2eTfz",
        "outputId": "2657b460-a736-4de6-de5f-1bf9ceb1ea36"
      },
      "outputs": [],
      "source": [
        "ENV = 'local'\n",
        "\n",
        "if ENV == 'local':\n",
        "    # local development\n",
        "    DATA_FOLDER = '../data/raw'\n",
        "    OUT_FOLDER = '../data/out'\n",
        "    IMAGE_FOLDER = '../images/nettoyage'\n",
        "\n",
        "if ENV == 'colab':\n",
        "    # Colaboratory - uncomment les 2 lignes suivant pour connecter à votre drive\n",
        "    # from google.colab import drive\n",
        "    # drive.mount('/content/drive')\n",
        "    DATA_FOLDER = '/content/drive/MyDrive/data/OC7'\n",
        "    OUT_FOLDER = '/content/drive/MyDrive/data/OC7'\n",
        "    IMAGE_FOLDER = '/content/drive/MyDrive/images/OC7/nettoyage'\n"
      ]
    },
    {
      "cell_type": "markdown",
      "metadata": {
        "id": "HvnInn3XfWQ2"
      },
      "source": [
        "## 1.3 Fichiers de données\n",
        "\n",
        "1. Les données en format CSV (>700Mb compactés) sont à télecharger de ce lien:\n",
        "\n",
        "- https://www.kaggle.com/c/home-credit-default-risk/data\n",
        "- Pour plus de simplicité, vous pouvez les télécharger à [cette adresse.](https://s3-eu-west-1.amazonaws.com/static.oc-static.com/prod/courses/files/Parcours_data_scientist/Projet+-+Impl%C3%A9menter+un+mod%C3%A8le+de+scoring/Projet+Mise+en+prod+-+home-credit-default-risk.zip)\n",
        "\n",
        "2.  Placer le fichier compacté (**.zip**) dans le **DATA_FOLDER** défini ci-dessous\n"
      ]
    },
    {
      "cell_type": "markdown",
      "metadata": {
        "id": "ELwbVYvAgSMU"
      },
      "source": [
        "### Noms des fichiers de données (identique pour nettoyage et l'analyse exploratoire)\n",
        "\n",
        "- Le grand fichier zip des données doit être placé dans `DATA_FOLDER` au préalable\n",
        "- Tous les autres fichiers de données sont téléchargés ou crées pendant le nettoyage, puis enregistrés dans `OUT_FOLDER`\n"
      ]
    },
    {
      "cell_type": "code",
      "execution_count": 2,
      "metadata": {
        "id": "F_iJnVSEfKma"
      },
      "outputs": [],
      "source": [
        "# Données (DATA_FOLDER)\n",
        "ZIPPED_DATA_FILENAME = f'Projet+Mise+en+prod+-+home-credit-default-risk.zip'\n",
        "RAW_DATA_FILENAME = 'HomeCredit_columns_description.csv'\n",
        "SAMPLE_DATA_FILENAME = 'HomeCredit_columns_description.csv'\n",
        "\n",
        "\n",
        "# Données nettoyés (OUT_FOLDER)\n",
        "CLEAN_DATA_FILENAME = 'cleaned_data_scoring.csv'\n",
        "CLEAN_DATA_SAMPLE = 'cleaned_data_sample.csv'  # 100,000 registres\n",
        "CLEAN_DATA_FEATURES = 'cleaned_data_features.csv'  # 100 meilleur features\n",
        "SAMPLE_SIZE = 10000\n"
      ]
    },
    {
      "cell_type": "markdown",
      "metadata": {
        "id": "aMFxPWtagxDT"
      },
      "source": [
        "## 1.4 Requirements: Bibliothèques utilisées dans ce notebook\n",
        "\n",
        "Ce notebook marche a été testé en developpement local, sur Google Colab et Kaggle\n",
        "\n",
        "```txt\n",
        "# copy dans un fichier requirements.txt, puis\n",
        "# !pip install -r requirements.txt\n",
        "```\n"
      ]
    },
    {
      "cell_type": "code",
      "execution_count": 3,
      "metadata": {
        "id": "pIP-XhqSgyC_"
      },
      "outputs": [],
      "source": [
        "# Decommentarise la ligne suivant si vous ne voulez pas changer vos versions existants\n",
        "# !pip install numpy pandas matplotlib seaborn scipy sklearn missingno requests\n"
      ]
    },
    {
      "cell_type": "code",
      "execution_count": 4,
      "metadata": {
        "colab": {
          "base_uri": "https://localhost:8080/"
        },
        "id": "kvsIMU0Ihglo",
        "outputId": "dee247f2-f59d-4167-c0fc-922e84b453fe"
      },
      "outputs": [
        {
          "name": "stdout",
          "output_type": "stream",
          "text": [
            "required modules: ['sklearn', 'matplotlib', 'requests', 'pandas', 'imblearn', 'seaborn', 'numpy']\n",
            "missing modules: []\n"
          ]
        }
      ],
      "source": [
        "# import local functions\n",
        "import outils_io\n",
        "outils_io.install_libraries({'numpy', 'pandas', 'matplotlib',\n",
        "                             'seaborn', 'requests', 'sklearn', 'imblearn'})\n"
      ]
    },
    {
      "cell_type": "markdown",
      "metadata": {
        "id": "s8kXrZGCg6h1"
      },
      "source": [
        "## 1.5 Import dependencies\n"
      ]
    },
    {
      "cell_type": "markdown",
      "metadata": {
        "id": "KPt54cG5g7Up"
      },
      "source": [
        "### 1.5.1 Import des bibliothèques utilisées par ce notebook\n"
      ]
    },
    {
      "cell_type": "code",
      "execution_count": 5,
      "metadata": {
        "id": "XtukhHGIg-Ag"
      },
      "outputs": [],
      "source": [
        "\n",
        "from contextlib import contextmanager\n",
        "import time\n",
        "import gc\n",
        "import os\n",
        "import warnings\n",
        "import platform\n",
        "# suppress future warnings de pandas 1.3.0\n",
        "warnings.simplefilter(action='ignore', category=FutureWarning)\n"
      ]
    },
    {
      "cell_type": "code",
      "execution_count": 6,
      "metadata": {},
      "outputs": [],
      "source": [
        "import sklearn\n",
        "import seaborn as sns\n",
        "import pandas as pd\n",
        "import numpy as np\n",
        "import matplotlib.pyplot as plt\n",
        "import imblearn\n"
      ]
    },
    {
      "cell_type": "markdown",
      "metadata": {
        "id": "FhE8BZ1ihG2I"
      },
      "source": [
        "### 1.5.2 Liste des versions des bibliothèques utilisées\n"
      ]
    },
    {
      "cell_type": "code",
      "execution_count": 7,
      "metadata": {
        "colab": {
          "base_uri": "https://localhost:8080/"
        },
        "id": "FJXh67-FhIwI",
        "outputId": "cf659d51-6099-46fb-c9fb-56d2067fe4a6"
      },
      "outputs": [
        {
          "name": "stdout",
          "output_type": "stream",
          "text": [
            "python version = 3.7.0\n",
            "versions des bibliothèques utilisées:\n",
            "platform==1.0.8; sklearn==1.0.2; seaborn==0.11.2; pandas==1.1.5; numpy==1.21.5; imblearn==0.9.0\n"
          ]
        }
      ],
      "source": [
        "print(f'python version = {platform.python_version()}')\n",
        "print('versions des bibliothèques utilisées:')\n",
        "print('; '.join(f'{m.__name__}=={m.__version__}' for m in globals(\n",
        ").values() if getattr(m, '__version__', None)))\n"
      ]
    },
    {
      "cell_type": "markdown",
      "metadata": {
        "id": "5f04qBPghSsr"
      },
      "source": [
        "### 1.5.3 Configuration défauts d'affichage\n"
      ]
    },
    {
      "cell_type": "code",
      "execution_count": 8,
      "metadata": {
        "id": "mIoSzAqXhMEV"
      },
      "outputs": [],
      "source": [
        "pd.set_option('display.max_columns', 200)  # pour afficher toutes les colonnes\n",
        "pd.set_option('display.max_rows', 20)  # pour afficher max 20 lignes\n",
        "pd.set_option('display.max_colwidth', 100)\n",
        "\n",
        "%matplotlib inline\n",
        "sns.set_theme(style=\"white\", context=\"notebook\")\n",
        "sns.set_color_codes(\"pastel\")\n",
        "sns.set_palette(\"tab10\")\n",
        "\n",
        "RANDOM_SEED = 42\n"
      ]
    },
    {
      "cell_type": "markdown",
      "metadata": {},
      "source": [
        "### 1.5.4 Bibliothèque personelle\n",
        "\n",
        "On utilise un nom non standard\n"
      ]
    },
    {
      "cell_type": "code",
      "execution_count": 9,
      "metadata": {},
      "outputs": [],
      "source": [
        "import outils_io\n",
        "import outils_preprocess\n",
        "import outils_stats\n",
        "import outils_timed\n",
        "import outils_vis\n",
        "\n",
        "# frequently used functions\n",
        "from outils_vis import to_png\n",
        "from outils_timed import timer\n"
      ]
    },
    {
      "cell_type": "markdown",
      "metadata": {},
      "source": [
        "### 1.5.5 Configuration personelle\n"
      ]
    },
    {
      "cell_type": "code",
      "execution_count": 10,
      "metadata": {},
      "outputs": [],
      "source": [
        "\n",
        "# Enregistre parametres globals dans outils\n",
        "outils_vis.set_option('IMAGE_FOLDER', IMAGE_FOLDER)\n",
        "outils_vis.set_option('SAVE_IMAGES', True)\n",
        "\n",
        "if ENV != 'kaggle':\n",
        "    outils_io.os_make_dir(DATA_FOLDER)\n",
        "    outils_io.os_make_dir(OUT_FOLDER)\n",
        "\n",
        "outils_io.os_make_dir(IMAGE_FOLDER)\n"
      ]
    },
    {
      "cell_type": "markdown",
      "metadata": {
        "id": "7mhUYXKehkDI"
      },
      "source": [
        "# 2. Importation des données <a name=\"importation\"></a>\n"
      ]
    },
    {
      "cell_type": "markdown",
      "metadata": {
        "id": "oLoopUM9h3ly"
      },
      "source": [
        "## 2.1 Configuration de l'importation des données\n",
        "\n",
        "### 2.1.1 Choix de fichier à analyser\n"
      ]
    },
    {
      "cell_type": "code",
      "execution_count": 11,
      "metadata": {
        "colab": {
          "base_uri": "https://localhost:8080/"
        },
        "id": "WvhKfqv8hzTh",
        "outputId": "d48ef236-0027-4832-84c5-f3e7bc5cdb33"
      },
      "outputs": [
        {
          "name": "stdout",
          "output_type": "stream",
          "text": [
            "data file: ../data/raw/HomeCredit_columns_description.csv\n"
          ]
        }
      ],
      "source": [
        "DATA_FILENAME = SAMPLE_DATA_FILENAME if ENV == 'local' else RAW_DATA_FILENAME\n",
        "RAW_DATA = outils_io.os_path_join(DATA_FOLDER, DATA_FILENAME)\n",
        "DATA_ZIPPED = outils_io.os_path_join(DATA_FOLDER, ZIPPED_DATA_FILENAME)\n",
        "print(f'data file: {RAW_DATA}')\n"
      ]
    },
    {
      "cell_type": "code",
      "execution_count": 12,
      "metadata": {
        "colab": {
          "base_uri": "https://localhost:8080/"
        },
        "id": "rWaoA47Rh6-o",
        "outputId": "3cf7287f-7fd0-4a2e-d571-3e65e8f5cf92"
      },
      "outputs": [
        {
          "name": "stdout",
          "output_type": "stream",
          "text": [
            "data CSV file exists (../data/raw/HomeCredit_columns_description.csv)\n"
          ]
        }
      ],
      "source": [
        "def unzip_data_si_besoin(env=ENV):\n",
        "    \"\"\"procedure pour unzip sur Google Drive via Google Colab\"\"\"\n",
        "    if os.path.exists(RAW_DATA):\n",
        "        print(f'data CSV file exists ({RAW_DATA})')\n",
        "    else:\n",
        "        print(f'data CSV file does not exist ({RAW_DATA})')\n",
        "        if env == 'colab' and os.path.exists(DATA_ZIPPED):\n",
        "            # uncomment les 3 lignes suivants\n",
        "            print(f'unzipping {DATA_ZIPPED}')\n",
        "            !unzip {DATA_ZIPPED} - d {DATA_FOLDER}\n",
        "            print(f'{DATA_ZIPPED} has been unzipped')\n",
        "            if os.path.exists(RAW_DATA):\n",
        "                print(f'data CSV file now exists ({RAW_DATA})')\n",
        "        else:\n",
        "            print(f'zipped data does not exist ({DATA_ZIPPED})')\n",
        "\n",
        "\n",
        "unzip_data_si_besoin(ENV)\n"
      ]
    },
    {
      "cell_type": "markdown",
      "metadata": {
        "id": "uWAejb0fi55g"
      },
      "source": [
        "## 2.2 Information sur les fichiers (taille, type, nb. registres, champs)\n"
      ]
    },
    {
      "cell_type": "code",
      "execution_count": 13,
      "metadata": {
        "colab": {
          "base_uri": "https://localhost:8080/"
        },
        "id": "IE_7aupwiqoS",
        "outputId": "4ee3d60b-77eb-4139-ff14-8b8954c885e1"
      },
      "outputs": [
        {
          "name": "stdout",
          "output_type": "stream",
          "text": [
            "file : application_test.csv : size=25.34 Mo\n",
            "file : application_train.csv : size=158.44 Mo\n",
            "file : bureau.csv : size=162.14 Mo\n",
            "file : bureau_balance.csv : size=358.19 Mo\n",
            "file : credit_card_balance.csv : size=404.91 Mo\n",
            "file : HomeCredit_columns_description.csv : size=36.51 ko\n",
            "file : installments_payments.csv : size=689.62 Mo\n",
            "file : POS_CASH_balance.csv : size=374.51 Mo\n",
            "file : previous_application.csv : size=386.21 Mo\n",
            "file : sample_submission.csv : size=523.63 ko\n"
          ]
        }
      ],
      "source": [
        "\n",
        "for filename in os.listdir(DATA_FOLDER):\n",
        "    if filename.lower().endswith('csv'):\n",
        "        filepath = f'{DATA_FOLDER}/{filename}'\n",
        "        print(f'file : {filename} : size={outils_io.get_filesize(filepath)}')\n"
      ]
    },
    {
      "cell_type": "markdown",
      "metadata": {
        "id": "FAz4r0D1l_wE"
      },
      "source": [
        "## 2.3 Data schema\n",
        "\n",
        "Le schema et description des données est fourni sur le lien:\n",
        "\n",
        "- https://www.kaggle.com/competitions/home-credit-default-risk/data\n",
        "\n",
        "<p><img title=\"\" alt=\"Data\" src=\"img/home_credit.png\"></p>\n",
        "<em>Original source : https://storage.googleapis.com/kaggle-media/competitions/home-credit/home_credit.png<em>\n"
      ]
    },
    {
      "cell_type": "markdown",
      "metadata": {
        "id": "mxQnAcG75KaL"
      },
      "source": [
        "### 2.3.1 Description des champs\n",
        "\n",
        "- details sur <https://www.kaggle.com/competitions/home-credit-default-risk/data>\n"
      ]
    },
    {
      "cell_type": "code",
      "execution_count": 14,
      "metadata": {
        "id": "AIWoT8Ze5HFH"
      },
      "outputs": [
        {
          "data": {
            "text/html": [
              "<div>\n",
              "<style scoped>\n",
              "    .dataframe tbody tr th:only-of-type {\n",
              "        vertical-align: middle;\n",
              "    }\n",
              "\n",
              "    .dataframe tbody tr th {\n",
              "        vertical-align: top;\n",
              "    }\n",
              "\n",
              "    .dataframe thead th {\n",
              "        text-align: right;\n",
              "    }\n",
              "</style>\n",
              "<table border=\"1\" class=\"dataframe\">\n",
              "  <thead>\n",
              "    <tr style=\"text-align: right;\">\n",
              "      <th></th>\n",
              "      <th>Unnamed: 0</th>\n",
              "      <th>Table</th>\n",
              "      <th>Row</th>\n",
              "      <th>Description</th>\n",
              "      <th>Special</th>\n",
              "    </tr>\n",
              "  </thead>\n",
              "  <tbody>\n",
              "    <tr>\n",
              "      <th>0</th>\n",
              "      <td>1</td>\n",
              "      <td>application_{train|test}.csv</td>\n",
              "      <td>SK_ID_CURR</td>\n",
              "      <td>ID of loan in our sample</td>\n",
              "      <td>NaN</td>\n",
              "    </tr>\n",
              "    <tr>\n",
              "      <th>1</th>\n",
              "      <td>2</td>\n",
              "      <td>application_{train|test}.csv</td>\n",
              "      <td>TARGET</td>\n",
              "      <td>Target variable (1 - client with payment difficulties: he/she had late payment more than X days ...</td>\n",
              "      <td>NaN</td>\n",
              "    </tr>\n",
              "    <tr>\n",
              "      <th>2</th>\n",
              "      <td>5</td>\n",
              "      <td>application_{train|test}.csv</td>\n",
              "      <td>NAME_CONTRACT_TYPE</td>\n",
              "      <td>Identification if loan is cash or revolving</td>\n",
              "      <td>NaN</td>\n",
              "    </tr>\n",
              "    <tr>\n",
              "      <th>3</th>\n",
              "      <td>6</td>\n",
              "      <td>application_{train|test}.csv</td>\n",
              "      <td>CODE_GENDER</td>\n",
              "      <td>Gender of the client</td>\n",
              "      <td>NaN</td>\n",
              "    </tr>\n",
              "    <tr>\n",
              "      <th>4</th>\n",
              "      <td>7</td>\n",
              "      <td>application_{train|test}.csv</td>\n",
              "      <td>FLAG_OWN_CAR</td>\n",
              "      <td>Flag if the client owns a car</td>\n",
              "      <td>NaN</td>\n",
              "    </tr>\n",
              "  </tbody>\n",
              "</table>\n",
              "</div>"
            ],
            "text/plain": [
              "   Unnamed: 0                         Table                 Row  \\\n",
              "0           1  application_{train|test}.csv          SK_ID_CURR   \n",
              "1           2  application_{train|test}.csv              TARGET   \n",
              "2           5  application_{train|test}.csv  NAME_CONTRACT_TYPE   \n",
              "3           6  application_{train|test}.csv         CODE_GENDER   \n",
              "4           7  application_{train|test}.csv        FLAG_OWN_CAR   \n",
              "\n",
              "                                                                                           Description  \\\n",
              "0                                                                             ID of loan in our sample   \n",
              "1  Target variable (1 - client with payment difficulties: he/she had late payment more than X days ...   \n",
              "2                                                          Identification if loan is cash or revolving   \n",
              "3                                                                                 Gender of the client   \n",
              "4                                                                        Flag if the client owns a car   \n",
              "\n",
              "  Special  \n",
              "0     NaN  \n",
              "1     NaN  \n",
              "2     NaN  \n",
              "3     NaN  \n",
              "4     NaN  "
            ]
          },
          "execution_count": 14,
          "metadata": {},
          "output_type": "execute_result"
        }
      ],
      "source": [
        "def field_descriptions(data_dir=DATA_FOLDER, num_rows=1000):\n",
        "    df = pd.read_csv(f'{data_dir}/HomeCredit_columns_description.csv',\n",
        "                     nrows=num_rows, encoding='unicode_escape')\n",
        "    return df\n",
        "\n",
        "\n",
        "field_descriptions().head()\n"
      ]
    },
    {
      "cell_type": "markdown",
      "metadata": {},
      "source": [
        "# 3. Analyse Exploratoire\n",
        "\n",
        "Plusieurs kernels de Kaggle ont déjà fait l'analyse exploratoire.\n",
        "\n",
        "Ci-dessus, on présent quelques analyses rélevants à ce projet, à partir des kernels :\n",
        "\n",
        "- <https://www.kaggle.com/willkoehrsen/start-here-a-gentle-introduction>\n",
        "- <https://www.kaggle.com/gpreda/home-credit-default-risk-extensive-eda>\n",
        "\n",
        "Ces analyses exploratoires sont très détaillés, donc on ne refaire leur travail ici.\n",
        "\n",
        "Les descriptions des tables en anglais ci-dessous vient de\n",
        "\n",
        "- <https://www.kaggle.com/competitions/home-credit-default-risk/data>\n"
      ]
    },
    {
      "cell_type": "markdown",
      "metadata": {},
      "source": [
        "## 3.1 application_train.csv\n",
        "\n",
        "This is the main table, broken into two files for Train (with TARGET) and Test (without TARGET).\n",
        "\n",
        "Static data for all applications. One row represents one loan in our data sample.\n"
      ]
    },
    {
      "cell_type": "code",
      "execution_count": 15,
      "metadata": {},
      "outputs": [
        {
          "name": "stdout",
          "output_type": "stream",
          "text": [
            "Load app_train - done in 3s\n",
            "<class 'pandas.core.frame.DataFrame'>\n",
            "RangeIndex: 307511 entries, 0 to 307510\n",
            "Columns: 122 entries, SK_ID_CURR to AMT_REQ_CREDIT_BUREAU_YEAR\n",
            "dtypes: float64(65), int64(41), object(16)\n",
            "memory usage: 286.2+ MB\n"
          ]
        }
      ],
      "source": [
        "with timer(title='Load app_train'):\n",
        "    app_train = pd.read_csv(f'{DATA_FOLDER}/application_train.csv')\n",
        "# Number of each type of column\n",
        "app_train.info()\n"
      ]
    },
    {
      "cell_type": "markdown",
      "metadata": {},
      "source": [
        "### Imbalanced target categories\n"
      ]
    },
    {
      "cell_type": "code",
      "execution_count": 16,
      "metadata": {},
      "outputs": [
        {
          "name": "stdout",
          "output_type": "stream",
          "text": [
            "\"Distribution_of_the_Target_Column.png\"\n"
          ]
        },
        {
          "data": {
            "image/png": "[encoded data removed]",
            "text/plain": [
              "<Figure size 432x288 with 1 Axes>"
            ]
          },
          "metadata": {},
          "output_type": "display_data"
        }
      ],
      "source": [
        "sns.countplot(x=app_train['TARGET'])\n",
        "sns.despine()\n",
        "plt.suptitle('Distribution of the Target Column')\n",
        "plt.title('0 = loan was repaid on time,  1 = client had payment difficulties.')\n",
        "to_png()\n"
      ]
    },
    {
      "cell_type": "markdown",
      "metadata": {},
      "source": [
        "From this information, we see this is an [imbalanced class problem](http://www.chioka.in/class-imbalance-problem/). There are far more loans that were repaid on time than loans that were not repaid. Once we get into more sophisticated machine learning models, we can [weight the classes](http://xgboost.readthedocs.io/en/latest/parameter.html) by their representation in the data to reflect this imbalance.\n"
      ]
    },
    {
      "cell_type": "markdown",
      "metadata": {},
      "source": [
        "### Valeurs manquantes\n"
      ]
    },
    {
      "cell_type": "code",
      "execution_count": 17,
      "metadata": {},
      "outputs": [
        {
          "name": "stdout",
          "output_type": "stream",
          "text": [
            "['SK_ID_CURR', 'TARGET', 'NAME_CONTRACT_TYPE', 'CODE_GENDER', 'FLAG_OWN_CAR', 'FLAG_OWN_REALTY', 'CNT_CHILDREN', 'AMT_INCOME_TOTAL', 'AMT_CREDIT', 'NAME_INCOME_TYPE', 'NAME_EDUCATION_TYPE', 'NAME_FAMILY_STATUS', 'NAME_HOUSING_TYPE', 'REGION_POPULATION_RELATIVE', 'DAYS_BIRTH', 'DAYS_EMPLOYED', 'DAYS_REGISTRATION', 'DAYS_ID_PUBLISH', 'FLAG_MOBIL', 'FLAG_EMP_PHONE', 'FLAG_WORK_PHONE', 'FLAG_CONT_MOBILE', 'FLAG_PHONE', 'FLAG_EMAIL', 'REGION_RATING_CLIENT', 'REGION_RATING_CLIENT_W_CITY', 'WEEKDAY_APPR_PROCESS_START', 'HOUR_APPR_PROCESS_START', 'REG_REGION_NOT_LIVE_REGION', 'REG_REGION_NOT_WORK_REGION', 'LIVE_REGION_NOT_WORK_REGION', 'REG_CITY_NOT_LIVE_CITY', 'REG_CITY_NOT_WORK_CITY', 'LIVE_CITY_NOT_WORK_CITY', 'ORGANIZATION_TYPE', 'FLAG_DOCUMENT_2', 'FLAG_DOCUMENT_3', 'FLAG_DOCUMENT_4', 'FLAG_DOCUMENT_5', 'FLAG_DOCUMENT_6', 'FLAG_DOCUMENT_7', 'FLAG_DOCUMENT_8', 'FLAG_DOCUMENT_9', 'FLAG_DOCUMENT_10', 'FLAG_DOCUMENT_11', 'FLAG_DOCUMENT_12', 'FLAG_DOCUMENT_13', 'FLAG_DOCUMENT_14', 'FLAG_DOCUMENT_15', 'FLAG_DOCUMENT_16', 'FLAG_DOCUMENT_17', 'FLAG_DOCUMENT_18', 'FLAG_DOCUMENT_19', 'FLAG_DOCUMENT_20', 'FLAG_DOCUMENT_21']\n"
          ]
        }
      ],
      "source": [
        "print(outils_stats.list_colonnes_remplis(app_train))\n"
      ]
    },
    {
      "cell_type": "code",
      "execution_count": 18,
      "metadata": {},
      "outputs": [
        {
          "data": {
            "image/png": "[encoded data removed]",
            "text/plain": [
              "<Figure size 1080x360 with 1 Axes>"
            ]
          },
          "metadata": {},
          "output_type": "display_data"
        }
      ],
      "source": [
        "outils_stats.plot_bar_remplissage(app_train, figsize=(15, 5), thresh=35)\n"
      ]
    },
    {
      "cell_type": "markdown",
      "metadata": {},
      "source": [
        "### Traitement de valeurs manquantes\n",
        "\n",
        "Models comme XGBoost peuvent accepter des valeurs manquantes\n",
        "\n",
        "Autres models comme RandomForest et LogisticRegression ont besoin de traitement:\n",
        "\n",
        "- Imputation; ou\n",
        "- Supprime colonnes avec haut nombre de valeurs manquantes\n",
        "\n",
        "La suppression des colonnes avec haut nombre de valeurs manquantes est à eviter, car on ne peut pas savoir en avance si ces colonnes seront utile pour le model.\n",
        "\n",
        "C'est particulierment dificil quand il y a très peux de target classe 1 - peut-etre 10% valeurs remplis est suffisant pour les identifier.\n"
      ]
    },
    {
      "cell_type": "markdown",
      "metadata": {},
      "source": [
        "### Categorical variables (OHE)\n"
      ]
    },
    {
      "cell_type": "code",
      "execution_count": 19,
      "metadata": {},
      "outputs": [
        {
          "name": "stdout",
          "output_type": "stream",
          "text": [
            "307511 registres 16 colonnes\n",
            "dtypes=object    16\n",
            "dtype: int64\n"
          ]
        },
        {
          "data": {
            "text/html": [
              "<div>\n",
              "<style scoped>\n",
              "    .dataframe tbody tr th:only-of-type {\n",
              "        vertical-align: middle;\n",
              "    }\n",
              "\n",
              "    .dataframe tbody tr th {\n",
              "        vertical-align: top;\n",
              "    }\n",
              "\n",
              "    .dataframe thead th {\n",
              "        text-align: right;\n",
              "    }\n",
              "</style>\n",
              "<table border=\"1\" class=\"dataframe\">\n",
              "  <thead>\n",
              "    <tr style=\"text-align: right;\">\n",
              "      <th></th>\n",
              "      <th>% manquantes</th>\n",
              "      <th>unique</th>\n",
              "      <th>dtype</th>\n",
              "      <th>min</th>\n",
              "      <th>max</th>\n",
              "      <th>std</th>\n",
              "    </tr>\n",
              "    <tr>\n",
              "      <th>column</th>\n",
              "      <th></th>\n",
              "      <th></th>\n",
              "      <th></th>\n",
              "      <th></th>\n",
              "      <th></th>\n",
              "      <th></th>\n",
              "    </tr>\n",
              "  </thead>\n",
              "  <tbody>\n",
              "    <tr>\n",
              "      <th>NAME_CONTRACT_TYPE</th>\n",
              "      <td>0.000000</td>\n",
              "      <td>2</td>\n",
              "      <td>object</td>\n",
              "      <td>NaN</td>\n",
              "      <td>NaN</td>\n",
              "      <td>NaN</td>\n",
              "    </tr>\n",
              "    <tr>\n",
              "      <th>CODE_GENDER</th>\n",
              "      <td>0.000000</td>\n",
              "      <td>3</td>\n",
              "      <td>object</td>\n",
              "      <td>NaN</td>\n",
              "      <td>NaN</td>\n",
              "      <td>NaN</td>\n",
              "    </tr>\n",
              "    <tr>\n",
              "      <th>FLAG_OWN_CAR</th>\n",
              "      <td>0.000000</td>\n",
              "      <td>2</td>\n",
              "      <td>object</td>\n",
              "      <td>NaN</td>\n",
              "      <td>NaN</td>\n",
              "      <td>NaN</td>\n",
              "    </tr>\n",
              "    <tr>\n",
              "      <th>FLAG_OWN_REALTY</th>\n",
              "      <td>0.000000</td>\n",
              "      <td>2</td>\n",
              "      <td>object</td>\n",
              "      <td>NaN</td>\n",
              "      <td>NaN</td>\n",
              "      <td>NaN</td>\n",
              "    </tr>\n",
              "    <tr>\n",
              "      <th>NAME_TYPE_SUITE</th>\n",
              "      <td>0.420148</td>\n",
              "      <td>7</td>\n",
              "      <td>object</td>\n",
              "      <td>NaN</td>\n",
              "      <td>NaN</td>\n",
              "      <td>NaN</td>\n",
              "    </tr>\n",
              "    <tr>\n",
              "      <th>NAME_INCOME_TYPE</th>\n",
              "      <td>0.000000</td>\n",
              "      <td>8</td>\n",
              "      <td>object</td>\n",
              "      <td>NaN</td>\n",
              "      <td>NaN</td>\n",
              "      <td>NaN</td>\n",
              "    </tr>\n",
              "    <tr>\n",
              "      <th>NAME_EDUCATION_TYPE</th>\n",
              "      <td>0.000000</td>\n",
              "      <td>5</td>\n",
              "      <td>object</td>\n",
              "      <td>NaN</td>\n",
              "      <td>NaN</td>\n",
              "      <td>NaN</td>\n",
              "    </tr>\n",
              "    <tr>\n",
              "      <th>NAME_FAMILY_STATUS</th>\n",
              "      <td>0.000000</td>\n",
              "      <td>6</td>\n",
              "      <td>object</td>\n",
              "      <td>NaN</td>\n",
              "      <td>NaN</td>\n",
              "      <td>NaN</td>\n",
              "    </tr>\n",
              "    <tr>\n",
              "      <th>NAME_HOUSING_TYPE</th>\n",
              "      <td>0.000000</td>\n",
              "      <td>6</td>\n",
              "      <td>object</td>\n",
              "      <td>NaN</td>\n",
              "      <td>NaN</td>\n",
              "      <td>NaN</td>\n",
              "    </tr>\n",
              "    <tr>\n",
              "      <th>OCCUPATION_TYPE</th>\n",
              "      <td>31.345545</td>\n",
              "      <td>18</td>\n",
              "      <td>object</td>\n",
              "      <td>NaN</td>\n",
              "      <td>NaN</td>\n",
              "      <td>NaN</td>\n",
              "    </tr>\n",
              "    <tr>\n",
              "      <th>WEEKDAY_APPR_PROCESS_START</th>\n",
              "      <td>0.000000</td>\n",
              "      <td>7</td>\n",
              "      <td>object</td>\n",
              "      <td>NaN</td>\n",
              "      <td>NaN</td>\n",
              "      <td>NaN</td>\n",
              "    </tr>\n",
              "    <tr>\n",
              "      <th>ORGANIZATION_TYPE</th>\n",
              "      <td>0.000000</td>\n",
              "      <td>58</td>\n",
              "      <td>object</td>\n",
              "      <td>NaN</td>\n",
              "      <td>NaN</td>\n",
              "      <td>NaN</td>\n",
              "    </tr>\n",
              "    <tr>\n",
              "      <th>FONDKAPREMONT_MODE</th>\n",
              "      <td>68.386172</td>\n",
              "      <td>4</td>\n",
              "      <td>object</td>\n",
              "      <td>NaN</td>\n",
              "      <td>NaN</td>\n",
              "      <td>NaN</td>\n",
              "    </tr>\n",
              "    <tr>\n",
              "      <th>HOUSETYPE_MODE</th>\n",
              "      <td>50.176091</td>\n",
              "      <td>3</td>\n",
              "      <td>object</td>\n",
              "      <td>NaN</td>\n",
              "      <td>NaN</td>\n",
              "      <td>NaN</td>\n",
              "    </tr>\n",
              "    <tr>\n",
              "      <th>WALLSMATERIAL_MODE</th>\n",
              "      <td>50.840783</td>\n",
              "      <td>7</td>\n",
              "      <td>object</td>\n",
              "      <td>NaN</td>\n",
              "      <td>NaN</td>\n",
              "      <td>NaN</td>\n",
              "    </tr>\n",
              "    <tr>\n",
              "      <th>EMERGENCYSTATE_MODE</th>\n",
              "      <td>47.398304</td>\n",
              "      <td>2</td>\n",
              "      <td>object</td>\n",
              "      <td>NaN</td>\n",
              "      <td>NaN</td>\n",
              "      <td>NaN</td>\n",
              "    </tr>\n",
              "  </tbody>\n",
              "</table>\n",
              "</div>"
            ],
            "text/plain": [
              "                            % manquantes  unique   dtype  min  max  std\n",
              "column                                                                 \n",
              "NAME_CONTRACT_TYPE              0.000000       2  object  NaN  NaN  NaN\n",
              "CODE_GENDER                     0.000000       3  object  NaN  NaN  NaN\n",
              "FLAG_OWN_CAR                    0.000000       2  object  NaN  NaN  NaN\n",
              "FLAG_OWN_REALTY                 0.000000       2  object  NaN  NaN  NaN\n",
              "NAME_TYPE_SUITE                 0.420148       7  object  NaN  NaN  NaN\n",
              "NAME_INCOME_TYPE                0.000000       8  object  NaN  NaN  NaN\n",
              "NAME_EDUCATION_TYPE             0.000000       5  object  NaN  NaN  NaN\n",
              "NAME_FAMILY_STATUS              0.000000       6  object  NaN  NaN  NaN\n",
              "NAME_HOUSING_TYPE               0.000000       6  object  NaN  NaN  NaN\n",
              "OCCUPATION_TYPE                31.345545      18  object  NaN  NaN  NaN\n",
              "WEEKDAY_APPR_PROCESS_START      0.000000       7  object  NaN  NaN  NaN\n",
              "ORGANIZATION_TYPE               0.000000      58  object  NaN  NaN  NaN\n",
              "FONDKAPREMONT_MODE             68.386172       4  object  NaN  NaN  NaN\n",
              "HOUSETYPE_MODE                 50.176091       3  object  NaN  NaN  NaN\n",
              "WALLSMATERIAL_MODE             50.840783       7  object  NaN  NaN  NaN\n",
              "EMERGENCYSTATE_MODE            47.398304       2  object  NaN  NaN  NaN"
            ]
          },
          "execution_count": 19,
          "metadata": {},
          "output_type": "execute_result"
        }
      ],
      "source": [
        "df_categ = outils_stats.decrire_dataframe(app_train.select_dtypes('object'))\n",
        "df_categ\n"
      ]
    },
    {
      "cell_type": "code",
      "execution_count": 20,
      "metadata": {},
      "outputs": [
        {
          "name": "stdout",
          "output_type": "stream",
          "text": [
            "total categories  140\n"
          ]
        }
      ],
      "source": [
        "print('total categories ', df_categ['unique'].sum())\n"
      ]
    },
    {
      "cell_type": "markdown",
      "metadata": {},
      "source": [
        "Pour machine learning, on va encoder ces catégories avec one_hot_encoder (140 catégories)\n"
      ]
    },
    {
      "cell_type": "markdown",
      "metadata": {},
      "source": [
        "### Defaults de paiement par categorie\n"
      ]
    },
    {
      "cell_type": "code",
      "execution_count": 21,
      "metadata": {},
      "outputs": [
        {
          "name": "stdout",
          "output_type": "stream",
          "text": [
            "\"Payment_defaults_by_category.png\"\n"
          ]
        },
        {
          "data": {
            "image/png": "[encoded data removed]",
            "text/plain": [
              "<Figure size 1152x1152 with 16 Axes>"
            ]
          },
          "metadata": {},
          "output_type": "display_data"
        }
      ],
      "source": [
        "def plot_loan_defaults_by_categ(df):\n",
        "    categorical_cols = list(df.select_dtypes(object).columns)\n",
        "    n_cols = min(4, len(categorical_cols))\n",
        "    n_rows = len(categorical_cols) // n_cols + \\\n",
        "        (len(categorical_cols) % n_cols > 0)\n",
        "    fig = plt.figure(figsize=(n_cols*4, n_rows*4))\n",
        "\n",
        "    for n, feature in enumerate(categorical_cols):\n",
        "        ax = plt.subplot(n_rows, n_cols, n + 1)\n",
        "        # Calculate the percentage of target=1 per category value\n",
        "        cat_perc = df[[feature, 'TARGET']].fillna(\n",
        "            \"Unknown\").groupby([feature], as_index=False).mean()\n",
        "        # cat_perc.sort_values(by='TARGET', ascending=False, inplace=True)\n",
        "        cat_perc.sort_values(by=feature, inplace=True)\n",
        "        sns.barplot(ax=ax, x=feature, y='TARGET',\n",
        "                    order=cat_perc[feature], data=cat_perc)\n",
        "        plt.xlabel('')\n",
        "        plt.ylabel('% loans with target=1')\n",
        "        plt.title(feature)\n",
        "        if len(cat_perc) > 20:\n",
        "            ax.xaxis.set_ticklabels([])\n",
        "        plt.xticks(rotation=90)\n",
        "\n",
        "    plt.subplots_adjust(hspace=1.5, wspace=0.5)\n",
        "\n",
        "\n",
        "plot_loan_defaults_by_categ(app_train)\n",
        "plt.subplots_adjust(hspace=1.5, wspace=0.5)\n",
        "plt.suptitle('Payment defaults by category', fontsize=20)\n",
        "to_png()\n"
      ]
    },
    {
      "cell_type": "markdown",
      "metadata": {},
      "source": [
        "Du point de vue du banque, on voit que les catégories qui gerent la plus de problêmes de paiement sont :\n",
        "\n",
        "- cash loans\n",
        "- males (vs females)\n",
        "- chomeurs et femmes en congé maternité\n",
        "- personnes de bas niveaux de scolarité\n",
        "- personnes en occupations de bas competences\n",
        "- personnes en location ou vivant avec des parents\n"
      ]
    },
    {
      "cell_type": "markdown",
      "metadata": {},
      "source": [
        "### Tables de contingence\n",
        "\n",
        "Les pourcentages de chaque catégorie qui ont des contracts sans (0) ou avec (1) problèmes de paiement\n"
      ]
    },
    {
      "cell_type": "code",
      "execution_count": 22,
      "metadata": {},
      "outputs": [
        {
          "data": {
            "text/html": [
              "<div>\n",
              "<style scoped>\n",
              "    .dataframe tbody tr th:only-of-type {\n",
              "        vertical-align: middle;\n",
              "    }\n",
              "\n",
              "    .dataframe tbody tr th {\n",
              "        vertical-align: top;\n",
              "    }\n",
              "\n",
              "    .dataframe thead th {\n",
              "        text-align: right;\n",
              "    }\n",
              "</style>\n",
              "<table border=\"1\" class=\"dataframe\">\n",
              "  <thead>\n",
              "    <tr style=\"text-align: right;\">\n",
              "      <th>TARGET</th>\n",
              "      <th>0</th>\n",
              "      <th>1</th>\n",
              "    </tr>\n",
              "    <tr>\n",
              "      <th>CODE_GENDER</th>\n",
              "      <th></th>\n",
              "      <th></th>\n",
              "    </tr>\n",
              "  </thead>\n",
              "  <tbody>\n",
              "    <tr>\n",
              "      <th>F</th>\n",
              "      <td>93.000672</td>\n",
              "      <td>6.999328</td>\n",
              "    </tr>\n",
              "    <tr>\n",
              "      <th>M</th>\n",
              "      <td>89.858080</td>\n",
              "      <td>10.141920</td>\n",
              "    </tr>\n",
              "    <tr>\n",
              "      <th>XNA</th>\n",
              "      <td>100.000000</td>\n",
              "      <td>0.000000</td>\n",
              "    </tr>\n",
              "  </tbody>\n",
              "</table>\n",
              "</div>"
            ],
            "text/plain": [
              "TARGET                0          1\n",
              "CODE_GENDER                       \n",
              "F             93.000672   6.999328\n",
              "M             89.858080  10.141920\n",
              "XNA          100.000000   0.000000"
            ]
          },
          "execution_count": 22,
          "metadata": {},
          "output_type": "execute_result"
        }
      ],
      "source": [
        "(pd.crosstab(app_train['CODE_GENDER'],\n",
        " app_train['TARGET'], normalize='index', dropna=False)*100)\n"
      ]
    },
    {
      "cell_type": "markdown",
      "metadata": {},
      "source": [
        "On interesse sur la pourcentage de chaque catégorie qui ont des problèmes de paiement des contrats\n"
      ]
    },
    {
      "cell_type": "code",
      "execution_count": 23,
      "metadata": {},
      "outputs": [
        {
          "data": {
            "text/html": [
              "<div>\n",
              "<style scoped>\n",
              "    .dataframe tbody tr th:only-of-type {\n",
              "        vertical-align: middle;\n",
              "    }\n",
              "\n",
              "    .dataframe tbody tr th {\n",
              "        vertical-align: top;\n",
              "    }\n",
              "\n",
              "    .dataframe thead th {\n",
              "        text-align: right;\n",
              "    }\n",
              "</style>\n",
              "<table border=\"1\" class=\"dataframe\">\n",
              "  <thead>\n",
              "    <tr style=\"text-align: right;\">\n",
              "      <th></th>\n",
              "      <th>CODE_GENDER</th>\n",
              "      <th>TARGET</th>\n",
              "    </tr>\n",
              "  </thead>\n",
              "  <tbody>\n",
              "    <tr>\n",
              "      <th>0</th>\n",
              "      <td>F</td>\n",
              "      <td>6.999328</td>\n",
              "    </tr>\n",
              "    <tr>\n",
              "      <th>1</th>\n",
              "      <td>M</td>\n",
              "      <td>10.141920</td>\n",
              "    </tr>\n",
              "    <tr>\n",
              "      <th>2</th>\n",
              "      <td>XNA</td>\n",
              "      <td>0.000000</td>\n",
              "    </tr>\n",
              "  </tbody>\n",
              "</table>\n",
              "</div>"
            ],
            "text/plain": [
              "  CODE_GENDER     TARGET\n",
              "0           F   6.999328\n",
              "1           M  10.141920\n",
              "2         XNA   0.000000"
            ]
          },
          "execution_count": 23,
          "metadata": {},
          "output_type": "execute_result"
        }
      ],
      "source": [
        "# Calculate the percentage of each category with target=1\n",
        "percent_target = (app_train[['CODE_GENDER', 'TARGET']].fillna(\"Unknown\")\n",
        "                  .groupby(['CODE_GENDER'], as_index=False).mean())\n",
        "percent_target['TARGET'] *= 100\n",
        "percent_target\n"
      ]
    },
    {
      "cell_type": "code",
      "execution_count": 24,
      "metadata": {},
      "outputs": [],
      "source": [
        "def plot_p_stats(df:pd.DataFrame,feature:str,label_rotation=False,horizontal_layout=True):\n",
        "    \"\"\"\n",
        "    Plot side-by-side:  % of each category for feature, and % of loans with target=1.\n",
        "    based on :https://www.kaggle.com/code/gpreda/home-credit-default-risk-extensive-eda/notebook\n",
        "    \"\"\"\n",
        "    temp = df[feature].fillna('Unknown').value_counts()\n",
        "    df1 = pd.DataFrame({feature: temp.index,'Number of contracts': temp.values})\n",
        "    df1.sort_values(by=feature, inplace=True)\n",
        "\n",
        "    # Calculate the percentage of each category with target=1\n",
        "    cat_perc = df[[feature, 'TARGET']].fillna(\"Unknown\").groupby([feature],as_index=False).mean()\n",
        "    cat_perc['TARGET']*=100\n",
        "    cat_perc.sort_values(by=feature, inplace=True)\n",
        "    \n",
        "    if(horizontal_layout):\n",
        "        fig, (ax1, ax2) = plt.subplots(ncols=2, figsize=(12,6))\n",
        "    else:\n",
        "        fig, (ax1, ax2) = plt.subplots(nrows=2, figsize=(12,14))\n",
        "    s = sns.barplot(ax=ax1, x = feature, y=\"Number of contracts\",data=df1)\n",
        "    if(label_rotation):\n",
        "        s.set_xticklabels(s.get_xticklabels(),rotation=90)\n",
        "    ax1.set_title('Count of contracts by category')\n",
        "    sns.despine()\n",
        "\n",
        "    s = sns.barplot(ax=ax2, x = feature, y='TARGET', order=cat_perc[feature], data=cat_perc)\n",
        "    if(label_rotation):\n",
        "        s.set_xticklabels(s.get_xticklabels(),rotation=90)\n",
        "    ax2.set_ylabel('Percent of category with target value 1 [%]')\n",
        "    # plt.tick_params(axis='both', which='major', labelsize=10)\n",
        "    ax2.set_title('Percent of loans with default of payments')\n",
        "    sns.despine()\n",
        "\n",
        "    plt.suptitle(f\"Contracts by category for feature '{feature}'\")\n",
        "    "
      ]
    },
    {
      "cell_type": "code",
      "execution_count": 25,
      "metadata": {},
      "outputs": [
        {
          "name": "stdout",
          "output_type": "stream",
          "text": [
            "\"Contracts_by_category_for_feature_'CODE_GENDER'.png\"\n"
          ]
        },
        {
          "data": {
            "image/png": "[encoded data removed]",
            "text/plain": [
              "<Figure size 864x432 with 2 Axes>"
            ]
          },
          "metadata": {},
          "output_type": "display_data"
        }
      ],
      "source": [
        "plot_p_stats(app_train, 'CODE_GENDER')\n",
        "to_png()\n"
      ]
    },
    {
      "cell_type": "markdown",
      "metadata": {},
      "source": [
        "#### Type de contract\n"
      ]
    },
    {
      "cell_type": "code",
      "execution_count": 26,
      "metadata": {},
      "outputs": [
        {
          "name": "stdout",
          "output_type": "stream",
          "text": [
            "\"Contracts_by_category_for_feature_'NAME_CONTRACT_TYPE'.png\"\n"
          ]
        },
        {
          "data": {
            "image/png": "[encoded data removed]",
            "text/plain": [
              "<Figure size 864x432 with 2 Axes>"
            ]
          },
          "metadata": {},
          "output_type": "display_data"
        }
      ],
      "source": [
        "plot_p_stats(app_train, 'NAME_CONTRACT_TYPE')\n",
        "to_png()\n"
      ]
    },
    {
      "cell_type": "markdown",
      "metadata": {},
      "source": [
        "## Exploration des variables numériques\n"
      ]
    },
    {
      "cell_type": "code",
      "execution_count": 27,
      "metadata": {},
      "outputs": [],
      "source": [
        "def plot_distribution(feature, color):\n",
        "    \"\"\"Plot distribution of one feature\n",
        "    https://www.kaggle.com/code/gpreda/home-credit-default-risk-extensive-eda/notebook\n",
        "    \"\"\"\n",
        "    plt.figure(figsize=(10, 6))\n",
        "    plt.title(f'Distribution of {feature}')\n",
        "    sns.distplot(application_train[feature].dropna(),\n",
        "                 color=color, kde=True, bins=100)\n",
        "    plt.show()\n"
      ]
    },
    {
      "cell_type": "code",
      "execution_count": 28,
      "metadata": {},
      "outputs": [
        {
          "data": {
            "image/png": "[encoded data removed]",
            "text/plain": [
              "<Figure size 432x288 with 1 Axes>"
            ]
          },
          "metadata": {},
          "output_type": "display_data"
        }
      ],
      "source": [
        "def plot_distribution_comp(df, feature, ax=None):\n",
        "    repaid = df['TARGET'] == 0\n",
        "    not_repaid = df['TARGET'] == 1\n",
        "    repaid_feature = df[df['TARGET'].astype(int) == 0][feature]\n",
        "    not_repaid_feature = df[df['TARGET'].astype(int) == 1][feature]\n",
        "    nunique = df[feature].nunique()\n",
        "    if nunique == 2:\n",
        "        sns.histplot(repaid_feature,\n",
        "                     label=f'TARGET = 0 (n={len(repaid_feature)})', color='#3274A1', alpha=0.5, ax=ax)\n",
        "        sns.histplot(not_repaid_feature,\n",
        "                     label=f'TARGET = 1 (n={len(not_repaid_feature)})', color='#E1812C', alpha=0.5, ax=ax)\n",
        "        plt.ylabel('Histogram plot', fontsize=12)\n",
        "    else:\n",
        "        sns.kdeplot(repaid_feature,\n",
        "                    label=f'TARGET = 0 (n={len(repaid_feature)})', ax=ax)\n",
        "        sns.kdeplot(not_repaid_feature,\n",
        "                    label=f'TARGET = 1 (n={len(not_repaid_feature)})', ax=ax)\n",
        "        plt.ylabel('Density plot', fontsize=12)\n",
        "    plt.xlabel(feature, fontsize=12)\n",
        "    locs, labels = plt.xticks()\n",
        "    plt.tick_params(axis='both', which='major', labelsize=12)\n",
        "    plt.title(f'Distribution of {feature}')\n",
        "    plt.legend()\n",
        "    sns.despine()\n",
        "\n",
        "\n",
        "app_train['AGE_YEARS'] = - app_train['DAYS_BIRTH']/365\n",
        "plot_distribution_comp(app_train, 'AGE_YEARS')\n"
      ]
    },
    {
      "cell_type": "markdown",
      "metadata": {},
      "source": [
        "Les personnes moins de 40 ans ont plus de risque de non-paiement\n"
      ]
    },
    {
      "cell_type": "markdown",
      "metadata": {},
      "source": [
        "### Afficher les déscriptions des champs\n"
      ]
    },
    {
      "cell_type": "code",
      "execution_count": 29,
      "metadata": {},
      "outputs": [],
      "source": [
        "import textwrap\n",
        "df_desc = field_descriptions()\n",
        "feature_descript_map = dict(zip(df_desc['Row'], df_desc['Description']))\n",
        "\n",
        "\n",
        "def add_text(ax, x, y, s, **kwargs):\n",
        "    \"\"\"Ajouter du texte à un plot\"\"\"\n",
        "    s = textwrap.fill(s, 64)\n",
        "    ax.text(x, y, s, verticalalignment='bottom',\n",
        "            horizontalalignment='left', transform=ax.transAxes, **kwargs)\n"
      ]
    },
    {
      "cell_type": "code",
      "execution_count": 30,
      "metadata": {},
      "outputs": [
        {
          "data": {
            "image/png": "[encoded data removed]",
            "text/plain": [
              "<Figure size 864x864 with 4 Axes>"
            ]
          },
          "metadata": {},
          "output_type": "display_data"
        }
      ],
      "source": [
        "\n",
        "# Plot distribution of multiple features, with TARGET = 1/0 on the same graph\n",
        "def plot_distributions(df: pd.DataFrame, features: list, nrow=2):\n",
        "\n",
        "    fig, ax = plt.subplots(nrow, 2, figsize=(12, 6*nrow))\n",
        "\n",
        "    for i, feature in enumerate(features):\n",
        "        ax = plt.subplot(nrow, 2, i+1)\n",
        "        plot_distribution_comp(df, feature, ax)\n",
        "\n",
        "\n",
        "# Plot distribution of multiple features, with TARGET = 1/0 on the same graph\n",
        "def plot_distributions(df: pd.DataFrame, features: list, nrow=2, feature_description_map: dict = None):\n",
        "\n",
        "    fig, ax = plt.subplots(nrow, 2, figsize=(12, 6*nrow))\n",
        "\n",
        "    for i, feature in enumerate(features):\n",
        "        ax = plt.subplot(nrow, 2, i+1)\n",
        "        plot_distribution_comp(df, feature, ax)\n",
        "        if feature_description_map:\n",
        "            description = feature_description_map.get(feature, '')\n",
        "            add_text(ax, 0, 0.75, description, style='italic', fontsize=10)\n",
        "\n",
        "\n",
        "plot_distributions(app_train,\n",
        "                   ['DAYS_BIRTH', 'DAYS_EMPLOYED',\n",
        "                       'DAYS_REGISTRATION', 'DAYS_ID_PUBLISH'],\n",
        "                   feature_description_map=feature_descript_map\n",
        "                   )\n"
      ]
    },
    {
      "cell_type": "markdown",
      "metadata": {},
      "source": [
        "Pour les 'DAYS_EMPLOYED' > 60 ans (> 30000 jours) , remplace par NaN\n"
      ]
    },
    {
      "cell_type": "markdown",
      "metadata": {},
      "source": [
        "On peut répeter l'analyse exploratoire pour les > 200 variables.\n",
        "\n",
        "Cette analyse est déja fait dans plusieurs kernels référencés dans ce notebook.\n",
        "\n",
        "On fait le préprocessing, puis un analyse des variables les plus prometeurs\n"
      ]
    },
    {
      "cell_type": "markdown",
      "metadata": {},
      "source": [
        "# 4. Nettoyage / Preprocessing\n",
        "\n",
        "## 4.1 Preprocessing et Fusion des tables\n",
        "\n",
        "Comme indiqué dans la cahier de charges, on sélectionne un kernel Kaggle pour faciliter la préparation des données nécessaires à l’élaboration du modèle de scoring.\n",
        "\n",
        "Les procédures de fusion des tables ci-dessous sont basés sur le pipeline de feature engineering présenté dans :\n",
        "\n",
        "- <https://www.kaggle.com/code/jsaguiar/lightgbm-with-simple-features/script>\n"
      ]
    },
    {
      "cell_type": "markdown",
      "metadata": {
        "id": "XGl_W-mgp1BN"
      },
      "source": [
        "### 4.1.1 One-hot encoding for categorical columns\n"
      ]
    },
    {
      "cell_type": "code",
      "execution_count": 31,
      "metadata": {
        "id": "D9OiYAGhp1Ml"
      },
      "outputs": [],
      "source": [
        "# One-hot encoding for categorical columns with get_dummies\n",
        "def one_hot_encoder(df, nan_as_category=True):\n",
        "    original_columns = list(df.columns)\n",
        "    categorical_columns = [\n",
        "        col for col in df.columns if df[col].dtype == 'object']\n",
        "    df = pd.get_dummies(df, columns=categorical_columns,\n",
        "                        dummy_na=nan_as_category)\n",
        "    new_columns = [c for c in df.columns if c not in original_columns]\n",
        "    return df, new_columns\n"
      ]
    },
    {
      "cell_type": "markdown",
      "metadata": {},
      "source": [
        "### 4.1.2 Preprocess application_train.csv\n"
      ]
    },
    {
      "cell_type": "code",
      "execution_count": 32,
      "metadata": {},
      "outputs": [],
      "source": [
        "def application_train(data_dir='data', num_rows=None, nan_as_category=False):\n",
        "    # Read data\n",
        "    print(f'application_train, data_dir = {data_dir}')\n",
        "    df = pd.read_csv(f'{data_dir}/application_train.csv', nrows=num_rows)\n",
        "    print(f'Train samples: {len(df)} rows, {len(df.columns)} columns')\n",
        "\n",
        "    # Optional: Remove 4 applications with XNA CODE_GENDER (train set)\n",
        "    df = df[df['CODE_GENDER'] != 'XNA']\n",
        "\n",
        "    # Categorical features with Binary encode (0 or 1; two categories)\n",
        "    for bin_feature in ['CODE_GENDER', 'FLAG_OWN_CAR', 'FLAG_OWN_REALTY']:\n",
        "        df[bin_feature], uniques = pd.factorize(df[bin_feature])\n",
        "    # Categorical features with One-Hot encode\n",
        "    df, cat_cols = one_hot_encoder(df, nan_as_category)\n",
        "\n",
        "    # NaN values for DAYS_EMPLOYED: 365.243 -> nan\n",
        "    df['DAYS_EMPLOYED'].replace(365243, np.nan, inplace=True)\n",
        "    # Some simple new features (percentages)\n",
        "    df['DAYS_EMPLOYED_PERC'] = df['DAYS_EMPLOYED'] / df['DAYS_BIRTH']\n",
        "    df['INCOME_CREDIT_PERC'] = df['AMT_INCOME_TOTAL'] / df['AMT_CREDIT']\n",
        "    df['INCOME_PER_PERSON'] = df['AMT_INCOME_TOTAL'] / df['CNT_FAM_MEMBERS']\n",
        "    df['ANNUITY_INCOME_PERC'] = df['AMT_ANNUITY'] / df['AMT_INCOME_TOTAL']\n",
        "    df['PAYMENT_RATE'] = df['AMT_ANNUITY'] / df['AMT_CREDIT']\n",
        "    gc.collect()\n",
        "    return df\n"
      ]
    },
    {
      "cell_type": "code",
      "execution_count": 33,
      "metadata": {},
      "outputs": [
        {
          "name": "stdout",
          "output_type": "stream",
          "text": [
            "application_train, data_dir = ../data/raw\n",
            "Train samples: 1000 rows, 122 columns\n",
            "Number of columns output : 233\n",
            "['SK_ID_CURR', 'TARGET', 'CODE_GENDER', 'FLAG_OWN_CAR', 'FLAG_OWN_REALTY', 'CNT_CHILDREN', 'AMT_INCOME_TOTAL', 'AMT_CREDIT', 'AMT_ANNUITY', 'AMT_GOODS_PRICE', 'REGION_POPULATION_RELATIVE', 'DAYS_BIRTH', 'DAYS_EMPLOYED', 'DAYS_REGISTRATION', 'DAYS_ID_PUBLISH', 'OWN_CAR_AGE', 'FLAG_MOBIL', 'FLAG_EMP_PHONE', 'FLAG_WORK_PHONE', 'FLAG_CONT_MOBILE', 'FLAG_PHONE', 'FLAG_EMAIL', 'CNT_FAM_MEMBERS', 'REGION_RATING_CLIENT', 'REGION_RATING_CLIENT_W_CITY', 'HOUR_APPR_PROCESS_START', 'REG_REGION_NOT_LIVE_REGION', 'REG_REGION_NOT_WORK_REGION', 'LIVE_REGION_NOT_WORK_REGION', 'REG_CITY_NOT_LIVE_CITY', 'REG_CITY_NOT_WORK_CITY', 'LIVE_CITY_NOT_WORK_CITY', 'EXT_SOURCE_1', 'EXT_SOURCE_2', 'EXT_SOURCE_3', 'APARTMENTS_AVG', 'BASEMENTAREA_AVG', 'YEARS_BEGINEXPLUATATION_AVG', 'YEARS_BUILD_AVG', 'COMMONAREA_AVG', 'ELEVATORS_AVG', 'ENTRANCES_AVG', 'FLOORSMAX_AVG', 'FLOORSMIN_AVG', 'LANDAREA_AVG', 'LIVINGAPARTMENTS_AVG', 'LIVINGAREA_AVG', 'NONLIVINGAPARTMENTS_AVG', 'NONLIVINGAREA_AVG', 'APARTMENTS_MODE', 'BASEMENTAREA_MODE', 'YEARS_BEGINEXPLUATATION_MODE', 'YEARS_BUILD_MODE', 'COMMONAREA_MODE', 'ELEVATORS_MODE', 'ENTRANCES_MODE', 'FLOORSMAX_MODE', 'FLOORSMIN_MODE', 'LANDAREA_MODE', 'LIVINGAPARTMENTS_MODE', 'LIVINGAREA_MODE', 'NONLIVINGAPARTMENTS_MODE', 'NONLIVINGAREA_MODE', 'APARTMENTS_MEDI', 'BASEMENTAREA_MEDI', 'YEARS_BEGINEXPLUATATION_MEDI', 'YEARS_BUILD_MEDI', 'COMMONAREA_MEDI', 'ELEVATORS_MEDI', 'ENTRANCES_MEDI', 'FLOORSMAX_MEDI', 'FLOORSMIN_MEDI', 'LANDAREA_MEDI', 'LIVINGAPARTMENTS_MEDI', 'LIVINGAREA_MEDI', 'NONLIVINGAPARTMENTS_MEDI', 'NONLIVINGAREA_MEDI', 'TOTALAREA_MODE', 'OBS_30_CNT_SOCIAL_CIRCLE', 'DEF_30_CNT_SOCIAL_CIRCLE', 'OBS_60_CNT_SOCIAL_CIRCLE', 'DEF_60_CNT_SOCIAL_CIRCLE', 'DAYS_LAST_PHONE_CHANGE', 'FLAG_DOCUMENT_2', 'FLAG_DOCUMENT_3', 'FLAG_DOCUMENT_4', 'FLAG_DOCUMENT_5', 'FLAG_DOCUMENT_6', 'FLAG_DOCUMENT_7', 'FLAG_DOCUMENT_8', 'FLAG_DOCUMENT_9', 'FLAG_DOCUMENT_10', 'FLAG_DOCUMENT_11', 'FLAG_DOCUMENT_12', 'FLAG_DOCUMENT_13', 'FLAG_DOCUMENT_14', 'FLAG_DOCUMENT_15', 'FLAG_DOCUMENT_16', 'FLAG_DOCUMENT_17', 'FLAG_DOCUMENT_18', 'FLAG_DOCUMENT_19', 'FLAG_DOCUMENT_20', 'FLAG_DOCUMENT_21', 'AMT_REQ_CREDIT_BUREAU_HOUR', 'AMT_REQ_CREDIT_BUREAU_DAY', 'AMT_REQ_CREDIT_BUREAU_WEEK', 'AMT_REQ_CREDIT_BUREAU_MON', 'AMT_REQ_CREDIT_BUREAU_QRT', 'AMT_REQ_CREDIT_BUREAU_YEAR', 'NAME_CONTRACT_TYPE_Cash loans', 'NAME_CONTRACT_TYPE_Revolving loans', 'NAME_TYPE_SUITE_Children', 'NAME_TYPE_SUITE_Family', 'NAME_TYPE_SUITE_Group of people', 'NAME_TYPE_SUITE_Other_A', 'NAME_TYPE_SUITE_Other_B', 'NAME_TYPE_SUITE_Spouse, partner', 'NAME_TYPE_SUITE_Unaccompanied', 'NAME_INCOME_TYPE_Commercial associate', 'NAME_INCOME_TYPE_Pensioner', 'NAME_INCOME_TYPE_State servant', 'NAME_INCOME_TYPE_Working', 'NAME_EDUCATION_TYPE_Higher education', 'NAME_EDUCATION_TYPE_Incomplete higher', 'NAME_EDUCATION_TYPE_Lower secondary', 'NAME_EDUCATION_TYPE_Secondary / secondary special', 'NAME_FAMILY_STATUS_Civil marriage', 'NAME_FAMILY_STATUS_Married', 'NAME_FAMILY_STATUS_Separated', 'NAME_FAMILY_STATUS_Single / not married', 'NAME_FAMILY_STATUS_Widow', 'NAME_HOUSING_TYPE_Co-op apartment', 'NAME_HOUSING_TYPE_House / apartment', 'NAME_HOUSING_TYPE_Municipal apartment', 'NAME_HOUSING_TYPE_Office apartment', 'NAME_HOUSING_TYPE_Rented apartment', 'NAME_HOUSING_TYPE_With parents', 'OCCUPATION_TYPE_Accountants', 'OCCUPATION_TYPE_Cleaning staff', 'OCCUPATION_TYPE_Cooking staff', 'OCCUPATION_TYPE_Core staff', 'OCCUPATION_TYPE_Drivers', 'OCCUPATION_TYPE_HR staff', 'OCCUPATION_TYPE_High skill tech staff', 'OCCUPATION_TYPE_IT staff', 'OCCUPATION_TYPE_Laborers', 'OCCUPATION_TYPE_Low-skill Laborers', 'OCCUPATION_TYPE_Managers', 'OCCUPATION_TYPE_Medicine staff', 'OCCUPATION_TYPE_Private service staff', 'OCCUPATION_TYPE_Realty agents', 'OCCUPATION_TYPE_Sales staff', 'OCCUPATION_TYPE_Secretaries', 'OCCUPATION_TYPE_Security staff', 'OCCUPATION_TYPE_Waiters/barmen staff', 'WEEKDAY_APPR_PROCESS_START_FRIDAY', 'WEEKDAY_APPR_PROCESS_START_MONDAY', 'WEEKDAY_APPR_PROCESS_START_SATURDAY', 'WEEKDAY_APPR_PROCESS_START_SUNDAY', 'WEEKDAY_APPR_PROCESS_START_THURSDAY', 'WEEKDAY_APPR_PROCESS_START_TUESDAY', 'WEEKDAY_APPR_PROCESS_START_WEDNESDAY', 'ORGANIZATION_TYPE_Advertising', 'ORGANIZATION_TYPE_Agriculture', 'ORGANIZATION_TYPE_Bank', 'ORGANIZATION_TYPE_Business Entity Type 1', 'ORGANIZATION_TYPE_Business Entity Type 2', 'ORGANIZATION_TYPE_Business Entity Type 3', 'ORGANIZATION_TYPE_Construction', 'ORGANIZATION_TYPE_Culture', 'ORGANIZATION_TYPE_Electricity', 'ORGANIZATION_TYPE_Emergency', 'ORGANIZATION_TYPE_Government', 'ORGANIZATION_TYPE_Hotel', 'ORGANIZATION_TYPE_Housing', 'ORGANIZATION_TYPE_Industry: type 1', 'ORGANIZATION_TYPE_Industry: type 10', 'ORGANIZATION_TYPE_Industry: type 11', 'ORGANIZATION_TYPE_Industry: type 12', 'ORGANIZATION_TYPE_Industry: type 2', 'ORGANIZATION_TYPE_Industry: type 3', 'ORGANIZATION_TYPE_Industry: type 4', 'ORGANIZATION_TYPE_Industry: type 5', 'ORGANIZATION_TYPE_Industry: type 7', 'ORGANIZATION_TYPE_Industry: type 9', 'ORGANIZATION_TYPE_Insurance', 'ORGANIZATION_TYPE_Kindergarten', 'ORGANIZATION_TYPE_Legal Services', 'ORGANIZATION_TYPE_Medicine', 'ORGANIZATION_TYPE_Military', 'ORGANIZATION_TYPE_Mobile', 'ORGANIZATION_TYPE_Other', 'ORGANIZATION_TYPE_Police', 'ORGANIZATION_TYPE_Postal', 'ORGANIZATION_TYPE_Religion', 'ORGANIZATION_TYPE_Restaurant', 'ORGANIZATION_TYPE_School', 'ORGANIZATION_TYPE_Security', 'ORGANIZATION_TYPE_Security Ministries', 'ORGANIZATION_TYPE_Self-employed', 'ORGANIZATION_TYPE_Services', 'ORGANIZATION_TYPE_Trade: type 1', 'ORGANIZATION_TYPE_Trade: type 2', 'ORGANIZATION_TYPE_Trade: type 3', 'ORGANIZATION_TYPE_Trade: type 6', 'ORGANIZATION_TYPE_Trade: type 7', 'ORGANIZATION_TYPE_Transport: type 1', 'ORGANIZATION_TYPE_Transport: type 2', 'ORGANIZATION_TYPE_Transport: type 3', 'ORGANIZATION_TYPE_Transport: type 4', 'ORGANIZATION_TYPE_University', 'ORGANIZATION_TYPE_XNA', 'FONDKAPREMONT_MODE_not specified', 'FONDKAPREMONT_MODE_org spec account', 'FONDKAPREMONT_MODE_reg oper account', 'FONDKAPREMONT_MODE_reg oper spec account', 'HOUSETYPE_MODE_block of flats', 'HOUSETYPE_MODE_specific housing', 'HOUSETYPE_MODE_terraced house', 'WALLSMATERIAL_MODE_Block', 'WALLSMATERIAL_MODE_Mixed', 'WALLSMATERIAL_MODE_Monolithic', 'WALLSMATERIAL_MODE_Others', 'WALLSMATERIAL_MODE_Panel', 'WALLSMATERIAL_MODE_Stone, brick', 'WALLSMATERIAL_MODE_Wooden', 'EMERGENCYSTATE_MODE_No', 'EMERGENCYSTATE_MODE_Yes', 'DAYS_EMPLOYED_PERC', 'INCOME_CREDIT_PERC', 'INCOME_PER_PERSON', 'ANNUITY_INCOME_PERC', 'PAYMENT_RATE']\n"
          ]
        }
      ],
      "source": [
        "def check_columns_out(prep_fn=application_train,\n",
        "                      data_dir=DATA_FOLDER, num_rows=1000, nan_as_category=False):\n",
        "    \"\"\"Check columns out\"\"\"\n",
        "    list_cols_output = prep_fn(\n",
        "        data_dir, num_rows, nan_as_category).columns.tolist()\n",
        "    print(f'Number of columns output : {len(list_cols_output)}')\n",
        "    print(list_cols_output)\n",
        "\n",
        "\n",
        "check_columns_out(application_train)\n"
      ]
    },
    {
      "cell_type": "markdown",
      "metadata": {
        "id": "yp3pFMJd1s-8"
      },
      "source": [
        "### 4.1.3 Preprocess bureau.csv and bureau_balance.csv\n",
        "\n",
        "#### bureau.csv\n",
        "\n",
        "All client's previous credits provided by other financial institutions that were reported to Credit Bureau (for clients who have a loan in our sample).\n",
        "\n",
        "For every loan in our sample, there are as many rows as number of credits the client had in Credit Bureau before the application date.\n",
        "\n",
        "#### bureau_balance.csv\n",
        "\n",
        "Monthly balances of previous credits in Credit Bureau.\n",
        "\n",
        "This table has one row for each month of history of every previous credit reported to Credit Bureau – i.e the table has\n",
        "`(#loans in sample * # of relative previous credits * # of months where we have some history observable for the previous credits) rows`.\n"
      ]
    },
    {
      "cell_type": "code",
      "execution_count": 34,
      "metadata": {
        "id": "s5XZtAG41tKv"
      },
      "outputs": [],
      "source": [
        "# Preprocess bureau.csv and bureau_balance.csv\n",
        "def bureau_and_balance(data_dir='data', num_rows=None, nan_as_category=True):\n",
        "    bureau = pd.read_csv(f'{data_dir}/bureau.csv', nrows=num_rows)\n",
        "    print(\n",
        "        f'Read bureau samples: {len(bureau)} rows, {len(bureau.columns)} columns')\n",
        "    bb = pd.read_csv(f'{data_dir}/bureau_balance.csv', nrows=num_rows)\n",
        "    print(\n",
        "        f'Read bureau balance samples: {len(bb)} rows, {len(bb.columns)} columns')\n",
        "    bb, bb_cat = one_hot_encoder(bb, nan_as_category)\n",
        "    bureau, bureau_cat = one_hot_encoder(bureau, nan_as_category)\n",
        "\n",
        "    # Bureau balance: Perform aggregations and merge with bureau.csv\n",
        "    bb_aggregations = {'MONTHS_BALANCE': ['min', 'max', 'size']}\n",
        "    for col in bb_cat:\n",
        "        bb_aggregations[col] = ['mean']\n",
        "    bb_agg = bb.groupby('SK_ID_BUREAU').agg(bb_aggregations)\n",
        "    bb_agg.columns = pd.Index([e[0] + \"_\" + e[1].upper()\n",
        "                              for e in bb_agg.columns.tolist()])\n",
        "    bureau = bureau.join(bb_agg, how='left', on='SK_ID_BUREAU')\n",
        "    bureau.drop(['SK_ID_BUREAU'], axis=1, inplace=True)\n",
        "    del bb, bb_agg\n",
        "    gc.collect()\n",
        "\n",
        "    # Bureau and bureau_balance numeric features\n",
        "    num_aggregations = {\n",
        "        'DAYS_CREDIT': ['min', 'max', 'mean', 'var'],\n",
        "        'DAYS_CREDIT_ENDDATE': ['min', 'max', 'mean'],\n",
        "        'DAYS_CREDIT_UPDATE': ['mean'],\n",
        "        'CREDIT_DAY_OVERDUE': ['max', 'mean'],\n",
        "        'AMT_CREDIT_MAX_OVERDUE': ['mean'],\n",
        "        'AMT_CREDIT_SUM': ['max', 'mean', 'sum'],\n",
        "        'AMT_CREDIT_SUM_DEBT': ['max', 'mean', 'sum'],\n",
        "        'AMT_CREDIT_SUM_OVERDUE': ['mean'],\n",
        "        'AMT_CREDIT_SUM_LIMIT': ['mean', 'sum'],\n",
        "        'AMT_ANNUITY': ['max', 'mean'],\n",
        "        'CNT_CREDIT_PROLONG': ['sum'],\n",
        "        'MONTHS_BALANCE_MIN': ['min'],\n",
        "        'MONTHS_BALANCE_MAX': ['max'],\n",
        "        'MONTHS_BALANCE_SIZE': ['mean', 'sum']\n",
        "    }\n",
        "    # Bureau and bureau_balance categorical features\n",
        "    cat_aggregations = {}\n",
        "    for cat in bureau_cat:\n",
        "        cat_aggregations[cat] = ['mean']\n",
        "    for cat in bb_cat:\n",
        "        cat_aggregations[cat + \"_MEAN\"] = ['mean']\n",
        "\n",
        "    bureau_agg = bureau.groupby('SK_ID_CURR').agg(\n",
        "        {**num_aggregations, **cat_aggregations})\n",
        "    bureau_agg.columns = pd.Index(\n",
        "        ['BURO_' + e[0] + \"_\" + e[1].upper() for e in bureau_agg.columns.tolist()])\n",
        "    # Bureau: Active credits - using only numerical aggregations\n",
        "    active = bureau[bureau['CREDIT_ACTIVE_Active'] == 1]\n",
        "    active_agg = active.groupby('SK_ID_CURR').agg(num_aggregations)\n",
        "    active_agg.columns = pd.Index(\n",
        "        ['ACTIVE_' + e[0] + \"_\" + e[1].upper() for e in active_agg.columns.tolist()])\n",
        "    bureau_agg = bureau_agg.join(active_agg, how='left', on='SK_ID_CURR')\n",
        "    del active, active_agg\n",
        "    gc.collect()\n",
        "    # Bureau: Closed credits - using only numerical aggregations\n",
        "    closed = bureau[bureau['CREDIT_ACTIVE_Closed'] == 1]\n",
        "    closed_agg = closed.groupby('SK_ID_CURR').agg(num_aggregations)\n",
        "    closed_agg.columns = pd.Index(\n",
        "        ['CLOSED_' + e[0] + \"_\" + e[1].upper() for e in closed_agg.columns.tolist()])\n",
        "    bureau_agg = bureau_agg.join(closed_agg, how='left', on='SK_ID_CURR')\n",
        "    del closed, closed_agg, bureau\n",
        "    gc.collect()\n",
        "    return bureau_agg\n"
      ]
    },
    {
      "cell_type": "code",
      "execution_count": 35,
      "metadata": {},
      "outputs": [
        {
          "name": "stdout",
          "output_type": "stream",
          "text": [
            "Read bureau samples: 1000 rows, 17 columns\n",
            "Read bureau balance samples: 1000 rows, 3 columns\n",
            "Number of columns output : 95\n",
            "['BURO_DAYS_CREDIT_MIN', 'BURO_DAYS_CREDIT_MAX', 'BURO_DAYS_CREDIT_MEAN', 'BURO_DAYS_CREDIT_VAR', 'BURO_DAYS_CREDIT_ENDDATE_MIN', 'BURO_DAYS_CREDIT_ENDDATE_MAX', 'BURO_DAYS_CREDIT_ENDDATE_MEAN', 'BURO_DAYS_CREDIT_UPDATE_MEAN', 'BURO_CREDIT_DAY_OVERDUE_MAX', 'BURO_CREDIT_DAY_OVERDUE_MEAN', 'BURO_AMT_CREDIT_MAX_OVERDUE_MEAN', 'BURO_AMT_CREDIT_SUM_MAX', 'BURO_AMT_CREDIT_SUM_MEAN', 'BURO_AMT_CREDIT_SUM_SUM', 'BURO_AMT_CREDIT_SUM_DEBT_MAX', 'BURO_AMT_CREDIT_SUM_DEBT_MEAN', 'BURO_AMT_CREDIT_SUM_DEBT_SUM', 'BURO_AMT_CREDIT_SUM_OVERDUE_MEAN', 'BURO_AMT_CREDIT_SUM_LIMIT_MEAN', 'BURO_AMT_CREDIT_SUM_LIMIT_SUM', 'BURO_AMT_ANNUITY_MAX', 'BURO_AMT_ANNUITY_MEAN', 'BURO_CNT_CREDIT_PROLONG_SUM', 'BURO_MONTHS_BALANCE_MIN_MIN', 'BURO_MONTHS_BALANCE_MAX_MAX', 'BURO_MONTHS_BALANCE_SIZE_MEAN', 'BURO_MONTHS_BALANCE_SIZE_SUM', 'BURO_CREDIT_ACTIVE_Active_MEAN', 'BURO_CREDIT_ACTIVE_Closed_MEAN', 'BURO_CREDIT_ACTIVE_Sold_MEAN', 'BURO_CREDIT_CURRENCY_currency 1_MEAN', 'BURO_CREDIT_TYPE_Car loan_MEAN', 'BURO_CREDIT_TYPE_Consumer credit_MEAN', 'BURO_CREDIT_TYPE_Credit card_MEAN', 'BURO_CREDIT_TYPE_Microloan_MEAN', 'BURO_CREDIT_TYPE_Mortgage_MEAN', 'BURO_STATUS_0_MEAN_MEAN', 'BURO_STATUS_1_MEAN_MEAN', 'BURO_STATUS_2_MEAN_MEAN', 'BURO_STATUS_C_MEAN_MEAN', 'BURO_STATUS_X_MEAN_MEAN', 'ACTIVE_DAYS_CREDIT_MIN', 'ACTIVE_DAYS_CREDIT_MAX', 'ACTIVE_DAYS_CREDIT_MEAN', 'ACTIVE_DAYS_CREDIT_VAR', 'ACTIVE_DAYS_CREDIT_ENDDATE_MIN', 'ACTIVE_DAYS_CREDIT_ENDDATE_MAX', 'ACTIVE_DAYS_CREDIT_ENDDATE_MEAN', 'ACTIVE_DAYS_CREDIT_UPDATE_MEAN', 'ACTIVE_CREDIT_DAY_OVERDUE_MAX', 'ACTIVE_CREDIT_DAY_OVERDUE_MEAN', 'ACTIVE_AMT_CREDIT_MAX_OVERDUE_MEAN', 'ACTIVE_AMT_CREDIT_SUM_MAX', 'ACTIVE_AMT_CREDIT_SUM_MEAN', 'ACTIVE_AMT_CREDIT_SUM_SUM', 'ACTIVE_AMT_CREDIT_SUM_DEBT_MAX', 'ACTIVE_AMT_CREDIT_SUM_DEBT_MEAN', 'ACTIVE_AMT_CREDIT_SUM_DEBT_SUM', 'ACTIVE_AMT_CREDIT_SUM_OVERDUE_MEAN', 'ACTIVE_AMT_CREDIT_SUM_LIMIT_MEAN', 'ACTIVE_AMT_CREDIT_SUM_LIMIT_SUM', 'ACTIVE_AMT_ANNUITY_MAX', 'ACTIVE_AMT_ANNUITY_MEAN', 'ACTIVE_CNT_CREDIT_PROLONG_SUM', 'ACTIVE_MONTHS_BALANCE_MIN_MIN', 'ACTIVE_MONTHS_BALANCE_MAX_MAX', 'ACTIVE_MONTHS_BALANCE_SIZE_MEAN', 'ACTIVE_MONTHS_BALANCE_SIZE_SUM', 'CLOSED_DAYS_CREDIT_MIN', 'CLOSED_DAYS_CREDIT_MAX', 'CLOSED_DAYS_CREDIT_MEAN', 'CLOSED_DAYS_CREDIT_VAR', 'CLOSED_DAYS_CREDIT_ENDDATE_MIN', 'CLOSED_DAYS_CREDIT_ENDDATE_MAX', 'CLOSED_DAYS_CREDIT_ENDDATE_MEAN', 'CLOSED_DAYS_CREDIT_UPDATE_MEAN', 'CLOSED_CREDIT_DAY_OVERDUE_MAX', 'CLOSED_CREDIT_DAY_OVERDUE_MEAN', 'CLOSED_AMT_CREDIT_MAX_OVERDUE_MEAN', 'CLOSED_AMT_CREDIT_SUM_MAX', 'CLOSED_AMT_CREDIT_SUM_MEAN', 'CLOSED_AMT_CREDIT_SUM_SUM', 'CLOSED_AMT_CREDIT_SUM_DEBT_MAX', 'CLOSED_AMT_CREDIT_SUM_DEBT_MEAN', 'CLOSED_AMT_CREDIT_SUM_DEBT_SUM', 'CLOSED_AMT_CREDIT_SUM_OVERDUE_MEAN', 'CLOSED_AMT_CREDIT_SUM_LIMIT_MEAN', 'CLOSED_AMT_CREDIT_SUM_LIMIT_SUM', 'CLOSED_AMT_ANNUITY_MAX', 'CLOSED_AMT_ANNUITY_MEAN', 'CLOSED_CNT_CREDIT_PROLONG_SUM', 'CLOSED_MONTHS_BALANCE_MIN_MIN', 'CLOSED_MONTHS_BALANCE_MAX_MAX', 'CLOSED_MONTHS_BALANCE_SIZE_MEAN', 'CLOSED_MONTHS_BALANCE_SIZE_SUM']\n"
          ]
        }
      ],
      "source": [
        "check_columns_out(bureau_and_balance)\n"
      ]
    },
    {
      "cell_type": "markdown",
      "metadata": {
        "id": "5sDwgwuC1_Eu"
      },
      "source": [
        "### 4.1.4 Preprocess previous_applications.csv\n",
        "\n",
        "#### previous_application.csv\n",
        "\n",
        "All previous applications for Home Credit loans of clients who have loans in our sample.\n",
        "\n",
        "There is one row for each previous application related to loans in our data sample.\n"
      ]
    },
    {
      "cell_type": "code",
      "execution_count": 36,
      "metadata": {
        "id": "As3XXgPz1_Pa"
      },
      "outputs": [],
      "source": [
        "\n",
        "def previous_applications(data_dir='data', num_rows=None, nan_as_category=True):\n",
        "    prev = pd.read_csv(f'{data_dir}/previous_application.csv', nrows=num_rows)\n",
        "    print(\n",
        "        f'Read previous application samples: {len(prev)} rows, {len(prev.columns)} columns')\n",
        "    prev, cat_cols = one_hot_encoder(prev, nan_as_category=True)\n",
        "    # Days 365.243 values -> nan\n",
        "    prev['DAYS_FIRST_DRAWING'].replace(365243, np.nan, inplace=True)\n",
        "    prev['DAYS_FIRST_DUE'].replace(365243, np.nan, inplace=True)\n",
        "    prev['DAYS_LAST_DUE_1ST_VERSION'].replace(365243, np.nan, inplace=True)\n",
        "    prev['DAYS_LAST_DUE'].replace(365243, np.nan, inplace=True)\n",
        "    prev['DAYS_TERMINATION'].replace(365243, np.nan, inplace=True)\n",
        "    # Add feature: value ask / value received percentage\n",
        "    prev['APP_CREDIT_PERC'] = prev['AMT_APPLICATION'] / prev['AMT_CREDIT']\n",
        "    # Previous applications numeric features\n",
        "    num_aggregations = {\n",
        "        'AMT_ANNUITY': ['min', 'max', 'mean'],\n",
        "        'AMT_APPLICATION': ['min', 'max', 'mean'],\n",
        "        'AMT_CREDIT': ['min', 'max', 'mean'],\n",
        "        'APP_CREDIT_PERC': ['min', 'max', 'mean', 'var'],\n",
        "        'AMT_DOWN_PAYMENT': ['min', 'max', 'mean'],\n",
        "        'AMT_GOODS_PRICE': ['min', 'max', 'mean'],\n",
        "        'HOUR_APPR_PROCESS_START': ['min', 'max', 'mean'],\n",
        "        'RATE_DOWN_PAYMENT': ['min', 'max', 'mean'],\n",
        "        'DAYS_DECISION': ['min', 'max', 'mean'],\n",
        "        'CNT_PAYMENT': ['mean', 'sum'],\n",
        "    }\n",
        "    # Previous applications categorical features\n",
        "    cat_aggregations = {}\n",
        "    for cat in cat_cols:\n",
        "        cat_aggregations[cat] = ['mean']\n",
        "\n",
        "    prev_agg = prev.groupby('SK_ID_CURR').agg(\n",
        "        {**num_aggregations, **cat_aggregations})\n",
        "    prev_agg.columns = pd.Index(\n",
        "        ['PREV_' + e[0] + \"_\" + e[1].upper() for e in prev_agg.columns.tolist()])\n",
        "    # Previous Applications: Approved Applications - only numerical features\n",
        "    approved = prev[prev['NAME_CONTRACT_STATUS_Approved'] == 1]\n",
        "    approved_agg = approved.groupby('SK_ID_CURR').agg(num_aggregations)\n",
        "    approved_agg.columns = pd.Index(\n",
        "        ['APPROVED_' + e[0] + \"_\" + e[1].upper() for e in approved_agg.columns.tolist()])\n",
        "    prev_agg = prev_agg.join(approved_agg, how='left', on='SK_ID_CURR')\n",
        "    # Previous Applications: Refused Applications - only numerical features\n",
        "    refused = prev[prev['NAME_CONTRACT_STATUS_Refused'] == 1]\n",
        "    refused_agg = refused.groupby('SK_ID_CURR').agg(num_aggregations)\n",
        "    refused_agg.columns = pd.Index(\n",
        "        ['REFUSED_' + e[0] + \"_\" + e[1].upper() for e in refused_agg.columns.tolist()])\n",
        "    prev_agg = prev_agg.join(refused_agg, how='left', on='SK_ID_CURR')\n",
        "    del refused, refused_agg, approved, approved_agg, prev\n",
        "    gc.collect()\n",
        "    return prev_agg\n"
      ]
    },
    {
      "cell_type": "code",
      "execution_count": 37,
      "metadata": {},
      "outputs": [
        {
          "name": "stdout",
          "output_type": "stream",
          "text": [
            "Read previous application samples: 1000 rows, 37 columns\n",
            "Number of columns output : 221\n",
            "['PREV_AMT_ANNUITY_MIN', 'PREV_AMT_ANNUITY_MAX', 'PREV_AMT_ANNUITY_MEAN', 'PREV_AMT_APPLICATION_MIN', 'PREV_AMT_APPLICATION_MAX', 'PREV_AMT_APPLICATION_MEAN', 'PREV_AMT_CREDIT_MIN', 'PREV_AMT_CREDIT_MAX', 'PREV_AMT_CREDIT_MEAN', 'PREV_APP_CREDIT_PERC_MIN', 'PREV_APP_CREDIT_PERC_MAX', 'PREV_APP_CREDIT_PERC_MEAN', 'PREV_APP_CREDIT_PERC_VAR', 'PREV_AMT_DOWN_PAYMENT_MIN', 'PREV_AMT_DOWN_PAYMENT_MAX', 'PREV_AMT_DOWN_PAYMENT_MEAN', 'PREV_AMT_GOODS_PRICE_MIN', 'PREV_AMT_GOODS_PRICE_MAX', 'PREV_AMT_GOODS_PRICE_MEAN', 'PREV_HOUR_APPR_PROCESS_START_MIN', 'PREV_HOUR_APPR_PROCESS_START_MAX', 'PREV_HOUR_APPR_PROCESS_START_MEAN', 'PREV_RATE_DOWN_PAYMENT_MIN', 'PREV_RATE_DOWN_PAYMENT_MAX', 'PREV_RATE_DOWN_PAYMENT_MEAN', 'PREV_DAYS_DECISION_MIN', 'PREV_DAYS_DECISION_MAX', 'PREV_DAYS_DECISION_MEAN', 'PREV_CNT_PAYMENT_MEAN', 'PREV_CNT_PAYMENT_SUM', 'PREV_NAME_CONTRACT_TYPE_Cash loans_MEAN', 'PREV_NAME_CONTRACT_TYPE_Consumer loans_MEAN', 'PREV_NAME_CONTRACT_TYPE_Revolving loans_MEAN', 'PREV_NAME_CONTRACT_TYPE_nan_MEAN', 'PREV_WEEKDAY_APPR_PROCESS_START_FRIDAY_MEAN', 'PREV_WEEKDAY_APPR_PROCESS_START_MONDAY_MEAN', 'PREV_WEEKDAY_APPR_PROCESS_START_SATURDAY_MEAN', 'PREV_WEEKDAY_APPR_PROCESS_START_SUNDAY_MEAN', 'PREV_WEEKDAY_APPR_PROCESS_START_THURSDAY_MEAN', 'PREV_WEEKDAY_APPR_PROCESS_START_TUESDAY_MEAN', 'PREV_WEEKDAY_APPR_PROCESS_START_WEDNESDAY_MEAN', 'PREV_WEEKDAY_APPR_PROCESS_START_nan_MEAN', 'PREV_FLAG_LAST_APPL_PER_CONTRACT_N_MEAN', 'PREV_FLAG_LAST_APPL_PER_CONTRACT_Y_MEAN', 'PREV_FLAG_LAST_APPL_PER_CONTRACT_nan_MEAN', 'PREV_NAME_CASH_LOAN_PURPOSE_Building a house or an annex_MEAN', 'PREV_NAME_CASH_LOAN_PURPOSE_Car repairs_MEAN', 'PREV_NAME_CASH_LOAN_PURPOSE_Everyday expenses_MEAN', 'PREV_NAME_CASH_LOAN_PURPOSE_Journey_MEAN', 'PREV_NAME_CASH_LOAN_PURPOSE_Medicine_MEAN', 'PREV_NAME_CASH_LOAN_PURPOSE_Other_MEAN', 'PREV_NAME_CASH_LOAN_PURPOSE_Payments on other loans_MEAN', 'PREV_NAME_CASH_LOAN_PURPOSE_Purchase of electronic equipment_MEAN', 'PREV_NAME_CASH_LOAN_PURPOSE_Repairs_MEAN', 'PREV_NAME_CASH_LOAN_PURPOSE_Urgent needs_MEAN', 'PREV_NAME_CASH_LOAN_PURPOSE_XAP_MEAN', 'PREV_NAME_CASH_LOAN_PURPOSE_XNA_MEAN', 'PREV_NAME_CASH_LOAN_PURPOSE_nan_MEAN', 'PREV_NAME_CONTRACT_STATUS_Approved_MEAN', 'PREV_NAME_CONTRACT_STATUS_Canceled_MEAN', 'PREV_NAME_CONTRACT_STATUS_Refused_MEAN', 'PREV_NAME_CONTRACT_STATUS_Unused offer_MEAN', 'PREV_NAME_CONTRACT_STATUS_nan_MEAN', 'PREV_NAME_PAYMENT_TYPE_Cash through the bank_MEAN', 'PREV_NAME_PAYMENT_TYPE_Cashless from the account of the employer_MEAN', 'PREV_NAME_PAYMENT_TYPE_Non-cash from your account_MEAN', 'PREV_NAME_PAYMENT_TYPE_XNA_MEAN', 'PREV_NAME_PAYMENT_TYPE_nan_MEAN', 'PREV_CODE_REJECT_REASON_CLIENT_MEAN', 'PREV_CODE_REJECT_REASON_HC_MEAN', 'PREV_CODE_REJECT_REASON_LIMIT_MEAN', 'PREV_CODE_REJECT_REASON_SCO_MEAN', 'PREV_CODE_REJECT_REASON_SCOFR_MEAN', 'PREV_CODE_REJECT_REASON_XAP_MEAN', 'PREV_CODE_REJECT_REASON_XNA_MEAN', 'PREV_CODE_REJECT_REASON_nan_MEAN', 'PREV_NAME_TYPE_SUITE_Children_MEAN', 'PREV_NAME_TYPE_SUITE_Family_MEAN', 'PREV_NAME_TYPE_SUITE_Group of people_MEAN', 'PREV_NAME_TYPE_SUITE_Other_A_MEAN', 'PREV_NAME_TYPE_SUITE_Other_B_MEAN', 'PREV_NAME_TYPE_SUITE_Spouse, partner_MEAN', 'PREV_NAME_TYPE_SUITE_Unaccompanied_MEAN', 'PREV_NAME_TYPE_SUITE_nan_MEAN', 'PREV_NAME_CLIENT_TYPE_New_MEAN', 'PREV_NAME_CLIENT_TYPE_Refreshed_MEAN', 'PREV_NAME_CLIENT_TYPE_Repeater_MEAN', 'PREV_NAME_CLIENT_TYPE_XNA_MEAN', 'PREV_NAME_CLIENT_TYPE_nan_MEAN', 'PREV_NAME_GOODS_CATEGORY_Audio/Video_MEAN', 'PREV_NAME_GOODS_CATEGORY_Auto Accessories_MEAN', 'PREV_NAME_GOODS_CATEGORY_Clothing and Accessories_MEAN', 'PREV_NAME_GOODS_CATEGORY_Computers_MEAN', 'PREV_NAME_GOODS_CATEGORY_Construction Materials_MEAN', 'PREV_NAME_GOODS_CATEGORY_Consumer Electronics_MEAN', 'PREV_NAME_GOODS_CATEGORY_Direct Sales_MEAN', 'PREV_NAME_GOODS_CATEGORY_Education_MEAN', 'PREV_NAME_GOODS_CATEGORY_Furniture_MEAN', 'PREV_NAME_GOODS_CATEGORY_Gardening_MEAN', 'PREV_NAME_GOODS_CATEGORY_Homewares_MEAN', 'PREV_NAME_GOODS_CATEGORY_Jewelry_MEAN', 'PREV_NAME_GOODS_CATEGORY_Medical Supplies_MEAN', 'PREV_NAME_GOODS_CATEGORY_Medicine_MEAN', 'PREV_NAME_GOODS_CATEGORY_Mobile_MEAN', 'PREV_NAME_GOODS_CATEGORY_Other_MEAN', 'PREV_NAME_GOODS_CATEGORY_Photo / Cinema Equipment_MEAN', 'PREV_NAME_GOODS_CATEGORY_Sport and Leisure_MEAN', 'PREV_NAME_GOODS_CATEGORY_Vehicles_MEAN', 'PREV_NAME_GOODS_CATEGORY_XNA_MEAN', 'PREV_NAME_GOODS_CATEGORY_nan_MEAN', 'PREV_NAME_PORTFOLIO_Cards_MEAN', 'PREV_NAME_PORTFOLIO_Cash_MEAN', 'PREV_NAME_PORTFOLIO_POS_MEAN', 'PREV_NAME_PORTFOLIO_XNA_MEAN', 'PREV_NAME_PORTFOLIO_nan_MEAN', 'PREV_NAME_PRODUCT_TYPE_XNA_MEAN', 'PREV_NAME_PRODUCT_TYPE_walk-in_MEAN', 'PREV_NAME_PRODUCT_TYPE_x-sell_MEAN', 'PREV_NAME_PRODUCT_TYPE_nan_MEAN', 'PREV_CHANNEL_TYPE_AP+ (Cash loan)_MEAN', 'PREV_CHANNEL_TYPE_Channel of corporate sales_MEAN', 'PREV_CHANNEL_TYPE_Contact center_MEAN', 'PREV_CHANNEL_TYPE_Country-wide_MEAN', 'PREV_CHANNEL_TYPE_Credit and cash offices_MEAN', 'PREV_CHANNEL_TYPE_Regional / Local_MEAN', 'PREV_CHANNEL_TYPE_Stone_MEAN', 'PREV_CHANNEL_TYPE_nan_MEAN', 'PREV_NAME_SELLER_INDUSTRY_Auto technology_MEAN', 'PREV_NAME_SELLER_INDUSTRY_Clothing_MEAN', 'PREV_NAME_SELLER_INDUSTRY_Connectivity_MEAN', 'PREV_NAME_SELLER_INDUSTRY_Construction_MEAN', 'PREV_NAME_SELLER_INDUSTRY_Consumer electronics_MEAN', 'PREV_NAME_SELLER_INDUSTRY_Furniture_MEAN', 'PREV_NAME_SELLER_INDUSTRY_Industry_MEAN', 'PREV_NAME_SELLER_INDUSTRY_Jewelry_MEAN', 'PREV_NAME_SELLER_INDUSTRY_MLM partners_MEAN', 'PREV_NAME_SELLER_INDUSTRY_XNA_MEAN', 'PREV_NAME_SELLER_INDUSTRY_nan_MEAN', 'PREV_NAME_YIELD_GROUP_XNA_MEAN', 'PREV_NAME_YIELD_GROUP_high_MEAN', 'PREV_NAME_YIELD_GROUP_low_action_MEAN', 'PREV_NAME_YIELD_GROUP_low_normal_MEAN', 'PREV_NAME_YIELD_GROUP_middle_MEAN', 'PREV_NAME_YIELD_GROUP_nan_MEAN', 'PREV_PRODUCT_COMBINATION_Card Street_MEAN', 'PREV_PRODUCT_COMBINATION_Card X-Sell_MEAN', 'PREV_PRODUCT_COMBINATION_Cash_MEAN', 'PREV_PRODUCT_COMBINATION_Cash Street: high_MEAN', 'PREV_PRODUCT_COMBINATION_Cash Street: low_MEAN', 'PREV_PRODUCT_COMBINATION_Cash Street: middle_MEAN', 'PREV_PRODUCT_COMBINATION_Cash X-Sell: high_MEAN', 'PREV_PRODUCT_COMBINATION_Cash X-Sell: low_MEAN', 'PREV_PRODUCT_COMBINATION_Cash X-Sell: middle_MEAN', 'PREV_PRODUCT_COMBINATION_POS household with interest_MEAN', 'PREV_PRODUCT_COMBINATION_POS household without interest_MEAN', 'PREV_PRODUCT_COMBINATION_POS industry with interest_MEAN', 'PREV_PRODUCT_COMBINATION_POS industry without interest_MEAN', 'PREV_PRODUCT_COMBINATION_POS mobile with interest_MEAN', 'PREV_PRODUCT_COMBINATION_POS mobile without interest_MEAN', 'PREV_PRODUCT_COMBINATION_POS other with interest_MEAN', 'PREV_PRODUCT_COMBINATION_nan_MEAN', 'APPROVED_AMT_ANNUITY_MIN', 'APPROVED_AMT_ANNUITY_MAX', 'APPROVED_AMT_ANNUITY_MEAN', 'APPROVED_AMT_APPLICATION_MIN', 'APPROVED_AMT_APPLICATION_MAX', 'APPROVED_AMT_APPLICATION_MEAN', 'APPROVED_AMT_CREDIT_MIN', 'APPROVED_AMT_CREDIT_MAX', 'APPROVED_AMT_CREDIT_MEAN', 'APPROVED_APP_CREDIT_PERC_MIN', 'APPROVED_APP_CREDIT_PERC_MAX', 'APPROVED_APP_CREDIT_PERC_MEAN', 'APPROVED_APP_CREDIT_PERC_VAR', 'APPROVED_AMT_DOWN_PAYMENT_MIN', 'APPROVED_AMT_DOWN_PAYMENT_MAX', 'APPROVED_AMT_DOWN_PAYMENT_MEAN', 'APPROVED_AMT_GOODS_PRICE_MIN', 'APPROVED_AMT_GOODS_PRICE_MAX', 'APPROVED_AMT_GOODS_PRICE_MEAN', 'APPROVED_HOUR_APPR_PROCESS_START_MIN', 'APPROVED_HOUR_APPR_PROCESS_START_MAX', 'APPROVED_HOUR_APPR_PROCESS_START_MEAN', 'APPROVED_RATE_DOWN_PAYMENT_MIN', 'APPROVED_RATE_DOWN_PAYMENT_MAX', 'APPROVED_RATE_DOWN_PAYMENT_MEAN', 'APPROVED_DAYS_DECISION_MIN', 'APPROVED_DAYS_DECISION_MAX', 'APPROVED_DAYS_DECISION_MEAN', 'APPROVED_CNT_PAYMENT_MEAN', 'APPROVED_CNT_PAYMENT_SUM', 'REFUSED_AMT_ANNUITY_MIN', 'REFUSED_AMT_ANNUITY_MAX', 'REFUSED_AMT_ANNUITY_MEAN', 'REFUSED_AMT_APPLICATION_MIN', 'REFUSED_AMT_APPLICATION_MAX', 'REFUSED_AMT_APPLICATION_MEAN', 'REFUSED_AMT_CREDIT_MIN', 'REFUSED_AMT_CREDIT_MAX', 'REFUSED_AMT_CREDIT_MEAN', 'REFUSED_APP_CREDIT_PERC_MIN', 'REFUSED_APP_CREDIT_PERC_MAX', 'REFUSED_APP_CREDIT_PERC_MEAN', 'REFUSED_APP_CREDIT_PERC_VAR', 'REFUSED_AMT_DOWN_PAYMENT_MIN', 'REFUSED_AMT_DOWN_PAYMENT_MAX', 'REFUSED_AMT_DOWN_PAYMENT_MEAN', 'REFUSED_AMT_GOODS_PRICE_MIN', 'REFUSED_AMT_GOODS_PRICE_MAX', 'REFUSED_AMT_GOODS_PRICE_MEAN', 'REFUSED_HOUR_APPR_PROCESS_START_MIN', 'REFUSED_HOUR_APPR_PROCESS_START_MAX', 'REFUSED_HOUR_APPR_PROCESS_START_MEAN', 'REFUSED_RATE_DOWN_PAYMENT_MIN', 'REFUSED_RATE_DOWN_PAYMENT_MAX', 'REFUSED_RATE_DOWN_PAYMENT_MEAN', 'REFUSED_DAYS_DECISION_MIN', 'REFUSED_DAYS_DECISION_MAX', 'REFUSED_DAYS_DECISION_MEAN', 'REFUSED_CNT_PAYMENT_MEAN', 'REFUSED_CNT_PAYMENT_SUM']\n"
          ]
        }
      ],
      "source": [
        "check_columns_out(previous_applications)\n"
      ]
    },
    {
      "cell_type": "markdown",
      "metadata": {
        "id": "1nnrxj-O2IFq"
      },
      "source": [
        "### 4.1.5 Preprocess POS_CASH_balance.csv\n",
        "\n",
        "#### POS_CASH_balance.csv\n",
        "\n",
        "Monthly balance snapshots of previous POS (point of sales) and cash loans that the applicant had with Home Credit.\n",
        "\n",
        "This table has one row for each month of history of every previous credit in Home Credit (consumer credit and cash loans) related to loans in our sample – i.e. the table has `(#loans in sample * # of relative previous credits * # of months in which we have some history observable for the previous credits) rows`.\n"
      ]
    },
    {
      "cell_type": "code",
      "execution_count": 38,
      "metadata": {
        "id": "OeDdStMY2Ixf"
      },
      "outputs": [],
      "source": [
        "\n",
        "def pos_cash(data_dir='data', num_rows=None, nan_as_category=True):\n",
        "    pos = pd.read_csv(f'{data_dir}/POS_CASH_balance.csv', nrows=num_rows)\n",
        "    print(\n",
        "        f'Read POS cash balance samples: {len(pos)} rows, {len(pos.columns)} columns')\n",
        "    pos, cat_cols = one_hot_encoder(pos, nan_as_category=True)\n",
        "    # Features\n",
        "    aggregations = {\n",
        "        'MONTHS_BALANCE': ['max', 'mean', 'size'],\n",
        "        'SK_DPD': ['max', 'mean'],\n",
        "        'SK_DPD_DEF': ['max', 'mean']\n",
        "    }\n",
        "    for cat in cat_cols:\n",
        "        aggregations[cat] = ['mean']\n",
        "\n",
        "    pos_agg = pos.groupby('SK_ID_CURR').agg(aggregations)\n",
        "    pos_agg.columns = pd.Index(\n",
        "        ['POS_' + e[0] + \"_\" + e[1].upper() for e in pos_agg.columns.tolist()])\n",
        "    # Count pos cash accounts\n",
        "    pos_agg['POS_COUNT'] = pos.groupby('SK_ID_CURR').size()\n",
        "    del pos\n",
        "    gc.collect()\n",
        "    return pos_agg\n"
      ]
    },
    {
      "cell_type": "code",
      "execution_count": 39,
      "metadata": {},
      "outputs": [
        {
          "name": "stdout",
          "output_type": "stream",
          "text": [
            "Read POS cash balance samples: 1000 rows, 8 columns\n",
            "Number of columns output : 12\n",
            "['POS_MONTHS_BALANCE_MAX', 'POS_MONTHS_BALANCE_MEAN', 'POS_MONTHS_BALANCE_SIZE', 'POS_SK_DPD_MAX', 'POS_SK_DPD_MEAN', 'POS_SK_DPD_DEF_MAX', 'POS_SK_DPD_DEF_MEAN', 'POS_NAME_CONTRACT_STATUS_Active_MEAN', 'POS_NAME_CONTRACT_STATUS_Completed_MEAN', 'POS_NAME_CONTRACT_STATUS_Signed_MEAN', 'POS_NAME_CONTRACT_STATUS_nan_MEAN', 'POS_COUNT']\n"
          ]
        }
      ],
      "source": [
        "check_columns_out(pos_cash)\n"
      ]
    },
    {
      "cell_type": "markdown",
      "metadata": {
        "id": "6V0nHJlK2Yrg"
      },
      "source": [
        "### 4.1.6 Preprocess installments_payments.csv\n",
        "\n",
        "#### installments_payments.csv\n",
        "\n",
        "Repayment history for the previously disbursed credits in Home Credit related to the loans in our sample.\n",
        "\n",
        "There is a) one row for every payment that was made plus b) one row each for missed payment.\n",
        "\n",
        "One row is equivalent to one payment of one installment OR one installment corresponding to one payment of one previous Home Credit credit related to loans in our sample.\n"
      ]
    },
    {
      "cell_type": "code",
      "execution_count": 40,
      "metadata": {
        "id": "FtSh-YfQ2ZJj"
      },
      "outputs": [],
      "source": [
        "\n",
        "def installments_payments(data_dir='data', num_rows=None, nan_as_category=True):\n",
        "    ins = pd.read_csv(f'{data_dir}/installments_payments.csv', nrows=num_rows)\n",
        "    print(\n",
        "        f'Read installments payments samples: {len(ins)} rows, {len(ins.columns)} columns')\n",
        "    ins, cat_cols = one_hot_encoder(ins, nan_as_category=True)\n",
        "    # Percentage and difference paid in each installment (amount paid and installment value)\n",
        "    ins['PAYMENT_PERC'] = ins['AMT_PAYMENT'] / ins['AMT_INSTALMENT']\n",
        "    ins['PAYMENT_DIFF'] = ins['AMT_INSTALMENT'] - ins['AMT_PAYMENT']\n",
        "    # Days past due and days before due (no negative values)\n",
        "    ins['DPD'] = ins['DAYS_ENTRY_PAYMENT'] - ins['DAYS_INSTALMENT']\n",
        "    ins['DBD'] = ins['DAYS_INSTALMENT'] - ins['DAYS_ENTRY_PAYMENT']\n",
        "    ins['DPD'] = ins['DPD'].apply(lambda x: x if x > 0 else 0)\n",
        "    ins['DBD'] = ins['DBD'].apply(lambda x: x if x > 0 else 0)\n",
        "    # Features: Perform aggregations\n",
        "    aggregations = {\n",
        "        'NUM_INSTALMENT_VERSION': ['nunique'],\n",
        "        'DPD': ['max', 'mean', 'sum'],\n",
        "        'DBD': ['max', 'mean', 'sum'],\n",
        "        'PAYMENT_PERC': ['max', 'mean', 'sum', 'var'],\n",
        "        'PAYMENT_DIFF': ['max', 'mean', 'sum', 'var'],\n",
        "        'AMT_INSTALMENT': ['max', 'mean', 'sum'],\n",
        "        'AMT_PAYMENT': ['min', 'max', 'mean', 'sum'],\n",
        "        'DAYS_ENTRY_PAYMENT': ['max', 'mean', 'sum']\n",
        "    }\n",
        "    for cat in cat_cols:\n",
        "        aggregations[cat] = ['mean']\n",
        "    ins_agg = ins.groupby('SK_ID_CURR').agg(aggregations)\n",
        "    ins_agg.columns = pd.Index(\n",
        "        ['INSTAL_' + e[0] + \"_\" + e[1].upper() for e in ins_agg.columns.tolist()])\n",
        "    # Count installments accounts\n",
        "    ins_agg['INSTAL_COUNT'] = ins.groupby('SK_ID_CURR').size()\n",
        "    del ins\n",
        "    gc.collect()\n",
        "    return ins_agg\n"
      ]
    },
    {
      "cell_type": "code",
      "execution_count": 41,
      "metadata": {},
      "outputs": [
        {
          "name": "stdout",
          "output_type": "stream",
          "text": [
            "Read installments payments samples: 1000 rows, 8 columns\n",
            "Number of columns output : 26\n",
            "['INSTAL_NUM_INSTALMENT_VERSION_NUNIQUE', 'INSTAL_DPD_MAX', 'INSTAL_DPD_MEAN', 'INSTAL_DPD_SUM', 'INSTAL_DBD_MAX', 'INSTAL_DBD_MEAN', 'INSTAL_DBD_SUM', 'INSTAL_PAYMENT_PERC_MAX', 'INSTAL_PAYMENT_PERC_MEAN', 'INSTAL_PAYMENT_PERC_SUM', 'INSTAL_PAYMENT_PERC_VAR', 'INSTAL_PAYMENT_DIFF_MAX', 'INSTAL_PAYMENT_DIFF_MEAN', 'INSTAL_PAYMENT_DIFF_SUM', 'INSTAL_PAYMENT_DIFF_VAR', 'INSTAL_AMT_INSTALMENT_MAX', 'INSTAL_AMT_INSTALMENT_MEAN', 'INSTAL_AMT_INSTALMENT_SUM', 'INSTAL_AMT_PAYMENT_MIN', 'INSTAL_AMT_PAYMENT_MAX', 'INSTAL_AMT_PAYMENT_MEAN', 'INSTAL_AMT_PAYMENT_SUM', 'INSTAL_DAYS_ENTRY_PAYMENT_MAX', 'INSTAL_DAYS_ENTRY_PAYMENT_MEAN', 'INSTAL_DAYS_ENTRY_PAYMENT_SUM', 'INSTAL_COUNT']\n"
          ]
        }
      ],
      "source": [
        "check_columns_out(installments_payments)\n"
      ]
    },
    {
      "cell_type": "markdown",
      "metadata": {
        "id": "2-73oY8Z2h6W"
      },
      "source": [
        "### 4.1.7 Preprocess credit_card_balance.csv\n",
        "\n",
        "#### credit_card_balance.csv\n",
        "\n",
        "Monthly balance snapshots of previous credit cards that the applicant has with Home Credit.\n",
        "\n",
        "This table has one row for each month of history of every previous credit in Home Credit (consumer credit and cash loans) related to loans in our sample – i.e. the table has `(#loans in sample * # of relative previous credit cards * # of months where we have some history observable for the previous credit card) rows`.\n"
      ]
    },
    {
      "cell_type": "code",
      "execution_count": 42,
      "metadata": {
        "id": "Fqvktcyy2iI9"
      },
      "outputs": [],
      "source": [
        "\n",
        "def credit_card_balance(data_dir='data', num_rows=None, nan_as_category=True):\n",
        "    cc = pd.read_csv(f'{data_dir}/credit_card_balance.csv', nrows=num_rows)\n",
        "    print(\n",
        "        f'Read credit card balance samples: {len(cc)} rows, {len(cc.columns)} columns')\n",
        "    cc, cat_cols = one_hot_encoder(cc, nan_as_category=True)\n",
        "    # General aggregations\n",
        "    cc.drop(['SK_ID_PREV'], axis=1, inplace=True)\n",
        "    cc_agg = cc.groupby('SK_ID_CURR').agg(['min', 'max', 'mean', 'sum', 'var'])\n",
        "    cc_agg.columns = pd.Index(['CC_' + e[0] + \"_\" + e[1].upper()\n",
        "                              for e in cc_agg.columns.tolist()])\n",
        "    # Count credit card lines\n",
        "    cc_agg['CC_COUNT'] = cc.groupby('SK_ID_CURR').size()\n",
        "    del cc\n",
        "    gc.collect()\n",
        "    return cc_agg\n"
      ]
    },
    {
      "cell_type": "code",
      "execution_count": 43,
      "metadata": {},
      "outputs": [
        {
          "name": "stdout",
          "output_type": "stream",
          "text": [
            "Read credit card balance samples: 1000 rows, 23 columns\n",
            "Number of columns output : 116\n",
            "['CC_MONTHS_BALANCE_MIN', 'CC_MONTHS_BALANCE_MAX', 'CC_MONTHS_BALANCE_MEAN', 'CC_MONTHS_BALANCE_SUM', 'CC_MONTHS_BALANCE_VAR', 'CC_AMT_BALANCE_MIN', 'CC_AMT_BALANCE_MAX', 'CC_AMT_BALANCE_MEAN', 'CC_AMT_BALANCE_SUM', 'CC_AMT_BALANCE_VAR', 'CC_AMT_CREDIT_LIMIT_ACTUAL_MIN', 'CC_AMT_CREDIT_LIMIT_ACTUAL_MAX', 'CC_AMT_CREDIT_LIMIT_ACTUAL_MEAN', 'CC_AMT_CREDIT_LIMIT_ACTUAL_SUM', 'CC_AMT_CREDIT_LIMIT_ACTUAL_VAR', 'CC_AMT_DRAWINGS_ATM_CURRENT_MIN', 'CC_AMT_DRAWINGS_ATM_CURRENT_MAX', 'CC_AMT_DRAWINGS_ATM_CURRENT_MEAN', 'CC_AMT_DRAWINGS_ATM_CURRENT_SUM', 'CC_AMT_DRAWINGS_ATM_CURRENT_VAR', 'CC_AMT_DRAWINGS_CURRENT_MIN', 'CC_AMT_DRAWINGS_CURRENT_MAX', 'CC_AMT_DRAWINGS_CURRENT_MEAN', 'CC_AMT_DRAWINGS_CURRENT_SUM', 'CC_AMT_DRAWINGS_CURRENT_VAR', 'CC_AMT_DRAWINGS_OTHER_CURRENT_MIN', 'CC_AMT_DRAWINGS_OTHER_CURRENT_MAX', 'CC_AMT_DRAWINGS_OTHER_CURRENT_MEAN', 'CC_AMT_DRAWINGS_OTHER_CURRENT_SUM', 'CC_AMT_DRAWINGS_OTHER_CURRENT_VAR', 'CC_AMT_DRAWINGS_POS_CURRENT_MIN', 'CC_AMT_DRAWINGS_POS_CURRENT_MAX', 'CC_AMT_DRAWINGS_POS_CURRENT_MEAN', 'CC_AMT_DRAWINGS_POS_CURRENT_SUM', 'CC_AMT_DRAWINGS_POS_CURRENT_VAR', 'CC_AMT_INST_MIN_REGULARITY_MIN', 'CC_AMT_INST_MIN_REGULARITY_MAX', 'CC_AMT_INST_MIN_REGULARITY_MEAN', 'CC_AMT_INST_MIN_REGULARITY_SUM', 'CC_AMT_INST_MIN_REGULARITY_VAR', 'CC_AMT_PAYMENT_CURRENT_MIN', 'CC_AMT_PAYMENT_CURRENT_MAX', 'CC_AMT_PAYMENT_CURRENT_MEAN', 'CC_AMT_PAYMENT_CURRENT_SUM', 'CC_AMT_PAYMENT_CURRENT_VAR', 'CC_AMT_PAYMENT_TOTAL_CURRENT_MIN', 'CC_AMT_PAYMENT_TOTAL_CURRENT_MAX', 'CC_AMT_PAYMENT_TOTAL_CURRENT_MEAN', 'CC_AMT_PAYMENT_TOTAL_CURRENT_SUM', 'CC_AMT_PAYMENT_TOTAL_CURRENT_VAR', 'CC_AMT_RECEIVABLE_PRINCIPAL_MIN', 'CC_AMT_RECEIVABLE_PRINCIPAL_MAX', 'CC_AMT_RECEIVABLE_PRINCIPAL_MEAN', 'CC_AMT_RECEIVABLE_PRINCIPAL_SUM', 'CC_AMT_RECEIVABLE_PRINCIPAL_VAR', 'CC_AMT_RECIVABLE_MIN', 'CC_AMT_RECIVABLE_MAX', 'CC_AMT_RECIVABLE_MEAN', 'CC_AMT_RECIVABLE_SUM', 'CC_AMT_RECIVABLE_VAR', 'CC_AMT_TOTAL_RECEIVABLE_MIN', 'CC_AMT_TOTAL_RECEIVABLE_MAX', 'CC_AMT_TOTAL_RECEIVABLE_MEAN', 'CC_AMT_TOTAL_RECEIVABLE_SUM', 'CC_AMT_TOTAL_RECEIVABLE_VAR', 'CC_CNT_DRAWINGS_ATM_CURRENT_MIN', 'CC_CNT_DRAWINGS_ATM_CURRENT_MAX', 'CC_CNT_DRAWINGS_ATM_CURRENT_MEAN', 'CC_CNT_DRAWINGS_ATM_CURRENT_SUM', 'CC_CNT_DRAWINGS_ATM_CURRENT_VAR', 'CC_CNT_DRAWINGS_CURRENT_MIN', 'CC_CNT_DRAWINGS_CURRENT_MAX', 'CC_CNT_DRAWINGS_CURRENT_MEAN', 'CC_CNT_DRAWINGS_CURRENT_SUM', 'CC_CNT_DRAWINGS_CURRENT_VAR', 'CC_CNT_DRAWINGS_OTHER_CURRENT_MIN', 'CC_CNT_DRAWINGS_OTHER_CURRENT_MAX', 'CC_CNT_DRAWINGS_OTHER_CURRENT_MEAN', 'CC_CNT_DRAWINGS_OTHER_CURRENT_SUM', 'CC_CNT_DRAWINGS_OTHER_CURRENT_VAR', 'CC_CNT_DRAWINGS_POS_CURRENT_MIN', 'CC_CNT_DRAWINGS_POS_CURRENT_MAX', 'CC_CNT_DRAWINGS_POS_CURRENT_MEAN', 'CC_CNT_DRAWINGS_POS_CURRENT_SUM', 'CC_CNT_DRAWINGS_POS_CURRENT_VAR', 'CC_CNT_INSTALMENT_MATURE_CUM_MIN', 'CC_CNT_INSTALMENT_MATURE_CUM_MAX', 'CC_CNT_INSTALMENT_MATURE_CUM_MEAN', 'CC_CNT_INSTALMENT_MATURE_CUM_SUM', 'CC_CNT_INSTALMENT_MATURE_CUM_VAR', 'CC_SK_DPD_MIN', 'CC_SK_DPD_MAX', 'CC_SK_DPD_MEAN', 'CC_SK_DPD_SUM', 'CC_SK_DPD_VAR', 'CC_SK_DPD_DEF_MIN', 'CC_SK_DPD_DEF_MAX', 'CC_SK_DPD_DEF_MEAN', 'CC_SK_DPD_DEF_SUM', 'CC_SK_DPD_DEF_VAR', 'CC_NAME_CONTRACT_STATUS_Active_MIN', 'CC_NAME_CONTRACT_STATUS_Active_MAX', 'CC_NAME_CONTRACT_STATUS_Active_MEAN', 'CC_NAME_CONTRACT_STATUS_Active_SUM', 'CC_NAME_CONTRACT_STATUS_Active_VAR', 'CC_NAME_CONTRACT_STATUS_Completed_MIN', 'CC_NAME_CONTRACT_STATUS_Completed_MAX', 'CC_NAME_CONTRACT_STATUS_Completed_MEAN', 'CC_NAME_CONTRACT_STATUS_Completed_SUM', 'CC_NAME_CONTRACT_STATUS_Completed_VAR', 'CC_NAME_CONTRACT_STATUS_nan_MIN', 'CC_NAME_CONTRACT_STATUS_nan_MAX', 'CC_NAME_CONTRACT_STATUS_nan_MEAN', 'CC_NAME_CONTRACT_STATUS_nan_SUM', 'CC_NAME_CONTRACT_STATUS_nan_VAR', 'CC_COUNT']\n"
          ]
        }
      ],
      "source": [
        "check_columns_out(credit_card_balance)\n"
      ]
    },
    {
      "cell_type": "markdown",
      "metadata": {
        "id": "8iTDmtfq3POX"
      },
      "source": [
        "## 4.2 Preprocessing (aggregation / merge) pipeline\n"
      ]
    },
    {
      "cell_type": "markdown",
      "metadata": {
        "id": "DfPMSbOd4GnL"
      },
      "source": [
        "### Run pre-processing pipeline for merging tables\n"
      ]
    },
    {
      "cell_type": "code",
      "execution_count": 44,
      "metadata": {
        "id": "ojnUOSN93Paf"
      },
      "outputs": [],
      "source": [
        "def preprocess_pipeline(data_dir=DATA_FOLDER, num_rows=None, debug=False):\n",
        "    # num_rows = 10000 if debug else None\n",
        "    print(f'data_dir={data_dir}')\n",
        "    df = application_train(data_dir, num_rows)\n",
        "    start = time.time()\n",
        "    with timer(\"Process bureau and bureau_balance\"):\n",
        "        bureau = bureau_and_balance(data_dir, num_rows)\n",
        "        print(\"Bureau df shape:\", bureau.shape)\n",
        "        df = df.join(bureau, how='left', on='SK_ID_CURR')\n",
        "        del bureau\n",
        "        gc.collect()\n",
        "    with timer(\"Process previous_applications\"):\n",
        "        prev = previous_applications(data_dir, num_rows)\n",
        "        print(\"Previous applications df shape:\", prev.shape)\n",
        "        df = df.join(prev, how='left', on='SK_ID_CURR')\n",
        "        del prev\n",
        "        gc.collect()\n",
        "    with timer(\"Process POS-CASH balance\"):\n",
        "        pos = pos_cash(data_dir, num_rows)\n",
        "        print(\"Pos-cash balance df shape:\", pos.shape)\n",
        "        df = df.join(pos, how='left', on='SK_ID_CURR')\n",
        "        del pos\n",
        "        gc.collect()\n",
        "    with timer(\"Process installments payments\"):\n",
        "        ins = installments_payments(data_dir, num_rows)\n",
        "        print(\"Installments payments df shape:\", ins.shape)\n",
        "        df = df.join(ins, how='left', on='SK_ID_CURR')\n",
        "        del ins\n",
        "        gc.collect()\n",
        "    with timer(\"Process credit card balance\"):\n",
        "        cc = credit_card_balance(data_dir, num_rows)\n",
        "        print(\"Credit card balance df shape:\", cc.shape)\n",
        "        df = df.join(cc, how='left', on='SK_ID_CURR')\n",
        "        del cc\n",
        "        gc.collect()\n",
        "\n",
        "    # with timer(\"Reduce field sizes\"):\n",
        "        # fonction reduce_memory a des effets bizarres sur seaborn plots - on la desactive\n",
        "        # df = outils_preprocess.reduce_memory(df)\n",
        "\n",
        "    time_taken = time.time() - start\n",
        "    print(f'preprocessing completed in {time_taken:.0f} s')\n",
        "    return df\n"
      ]
    },
    {
      "cell_type": "markdown",
      "metadata": {},
      "source": [
        "### Run preprocessing ou récuperer données suite au (aggregation/fusion) pre-processing pipeline précedent\n",
        "\n",
        "Pour éviter de répeter l'aggregation, merge de 3Go à chaque run, on charge le précedent preprocessing si rien a changé\n"
      ]
    },
    {
      "cell_type": "code",
      "execution_count": 45,
      "metadata": {},
      "outputs": [
        {
          "name": "stdout",
          "output_type": "stream",
          "text": [
            "reloading preprocessed_data (preprocess pipeline has not been modified since last edit)\n",
            "df_data.shape = (307507, 797)\n"
          ]
        }
      ],
      "source": [
        "savepath = f'{OUT_FOLDER}/{CLEAN_DATA_FILENAME}'\n",
        "if os.path.exists(savepath):\n",
        "    # reload preprocessed data (< 1 minute)\n",
        "    print('reloading preprocessed_data (preprocess pipeline has not been modified since last edit)')\n",
        "    df_data = pd.read_csv(savepath)\n",
        "else:\n",
        "    # preprocess pipeline takes several minutes\n",
        "    df_data = preprocess_pipeline(\n",
        "        data_dir=DATA_FOLDER, num_rows=None, debug=False)\n",
        "\n",
        "\n",
        "print(f'df_data.shape = {df_data.shape}')\n"
      ]
    },
    {
      "cell_type": "markdown",
      "metadata": {},
      "source": [
        "## 4.3 Suppression des valeurs infinis\n",
        "\n",
        "Colonnes avec des valeurs infinis empêche de mettre à l'echelle ou calculer la coefficient de correlation\n"
      ]
    },
    {
      "cell_type": "code",
      "execution_count": 46,
      "metadata": {},
      "outputs": [
        {
          "data": {
            "text/html": [
              "<div>\n",
              "<style scoped>\n",
              "    .dataframe tbody tr th:only-of-type {\n",
              "        vertical-align: middle;\n",
              "    }\n",
              "\n",
              "    .dataframe tbody tr th {\n",
              "        vertical-align: top;\n",
              "    }\n",
              "\n",
              "    .dataframe thead th {\n",
              "        text-align: right;\n",
              "    }\n",
              "</style>\n",
              "<table border=\"1\" class=\"dataframe\">\n",
              "  <thead>\n",
              "    <tr style=\"text-align: right;\">\n",
              "      <th></th>\n",
              "      <th>colonne</th>\n",
              "      <th>inf_count</th>\n",
              "    </tr>\n",
              "  </thead>\n",
              "  <tbody>\n",
              "    <tr>\n",
              "      <th>0</th>\n",
              "      <td>PREV_APP_CREDIT_PERC_MAX</td>\n",
              "      <td>1.0</td>\n",
              "    </tr>\n",
              "    <tr>\n",
              "      <th>1</th>\n",
              "      <td>PREV_APP_CREDIT_PERC_MEAN</td>\n",
              "      <td>1.0</td>\n",
              "    </tr>\n",
              "    <tr>\n",
              "      <th>2</th>\n",
              "      <td>REFUSED_APP_CREDIT_PERC_MAX</td>\n",
              "      <td>1.0</td>\n",
              "    </tr>\n",
              "    <tr>\n",
              "      <th>3</th>\n",
              "      <td>REFUSED_APP_CREDIT_PERC_MEAN</td>\n",
              "      <td>1.0</td>\n",
              "    </tr>\n",
              "    <tr>\n",
              "      <th>4</th>\n",
              "      <td>INSTAL_PAYMENT_PERC_MAX</td>\n",
              "      <td>18.0</td>\n",
              "    </tr>\n",
              "    <tr>\n",
              "      <th>5</th>\n",
              "      <td>INSTAL_PAYMENT_PERC_MEAN</td>\n",
              "      <td>18.0</td>\n",
              "    </tr>\n",
              "    <tr>\n",
              "      <th>6</th>\n",
              "      <td>INSTAL_PAYMENT_PERC_SUM</td>\n",
              "      <td>18.0</td>\n",
              "    </tr>\n",
              "  </tbody>\n",
              "</table>\n",
              "</div>"
            ],
            "text/plain": [
              "                        colonne  inf_count\n",
              "0      PREV_APP_CREDIT_PERC_MAX        1.0\n",
              "1     PREV_APP_CREDIT_PERC_MEAN        1.0\n",
              "2   REFUSED_APP_CREDIT_PERC_MAX        1.0\n",
              "3  REFUSED_APP_CREDIT_PERC_MEAN        1.0\n",
              "4       INSTAL_PAYMENT_PERC_MAX       18.0\n",
              "5      INSTAL_PAYMENT_PERC_MEAN       18.0\n",
              "6       INSTAL_PAYMENT_PERC_SUM       18.0"
            ]
          },
          "execution_count": 46,
          "metadata": {},
          "output_type": "execute_result"
        }
      ],
      "source": [
        "def get_columns_with_infinite_values(df):\n",
        "    res = pd.DataFrame()\n",
        "    inf_cols = df.columns[np.isinf(df).any()]\n",
        "    for col in inf_cols:\n",
        "        inf_rows = np.isinf(df[col]).sum()\n",
        "        res = res.append(\n",
        "            {'colonne': col, 'inf_count': inf_rows}, ignore_index=True)\n",
        "    return res\n",
        "\n",
        "\n",
        "get_columns_with_infinite_values(df_data)\n"
      ]
    },
    {
      "cell_type": "code",
      "execution_count": 47,
      "metadata": {},
      "outputs": [
        {
          "name": "stdout",
          "output_type": "stream",
          "text": [
            "[5687, 60475, 79075, 89015, 98506, 126765, 128788, 140423, 152084, 167133, 199099, 201082, 236160, 238377, 272825, 277958, 287296, 292848, 305369]\n"
          ]
        }
      ],
      "source": [
        "def get_rows_with_infinite_values(df, inf_cols=None):\n",
        "    if inf_cols is None:\n",
        "        inf_cols = df.columns[np.isinf(df).any()]\n",
        "    inf_rows = df.index[np.isinf(df[inf_cols]).any(1)]\n",
        "    return inf_rows.tolist()\n",
        "\n",
        "\n",
        "print(get_rows_with_infinite_values(df_data))\n"
      ]
    },
    {
      "cell_type": "markdown",
      "metadata": {},
      "source": [
        "On n'a pas le temps d'investiguer pourquoi ces 19 lignes sont eronnées - on remplace les valeurs infinies avec np.nan\n"
      ]
    },
    {
      "cell_type": "code",
      "execution_count": 48,
      "metadata": {},
      "outputs": [
        {
          "name": "stdout",
          "output_type": "stream",
          "text": [
            "replace_infinite_values_with_nan\n"
          ]
        }
      ],
      "source": [
        "\n",
        "def replace_infinite_values_with_nan(df: pd.DataFrame):\n",
        "    print(f'replace_infinite_values_with_nan')\n",
        "    return df.replace([np.inf, -np.inf], np.nan)\n",
        "\n",
        "\n",
        "df_data = replace_infinite_values_with_nan(df_data)\n"
      ]
    },
    {
      "cell_type": "markdown",
      "metadata": {},
      "source": [
        "## 4.4 Filtrer variables avec une seule valeur\n",
        "\n",
        "Les colonnes avec seulement une valeur ne sont pas discriminatoire : le coefficient de correlation sera NaN, et l'imputation pour les modèles donne une variable qui est constante.\n"
      ]
    },
    {
      "cell_type": "code",
      "execution_count": 49,
      "metadata": {},
      "outputs": [
        {
          "name": "stdout",
          "output_type": "stream",
          "text": [
            "[278, 283, 299, 308, 397, 405, 408, 434, 439, 444, 454, 467, 482, 496, 502, 506, 515, 527, 533, 628, 746, 751, 761, 771, 776, 781, 791, 792, 793, 794, 795]\n"
          ]
        }
      ],
      "source": [
        "def col_indexes(df: pd.DataFrame, col_names):\n",
        "    \"\"\"convert list of column names to list of column indexes\"\"\"\n",
        "    return [df.columns.get_loc(c) for c in col_names if c in df]\n",
        "\n",
        "\n",
        "def get_single_value_cols(df: pd.DataFrame):\n",
        "    unique_vals = df.nunique()\n",
        "    return unique_vals[unique_vals == 1].index.to_list()\n",
        "\n",
        "\n",
        "single_val_cols = get_single_value_cols(df_data)\n",
        "print(col_indexes(df_data, single_val_cols))\n"
      ]
    },
    {
      "cell_type": "code",
      "execution_count": 50,
      "metadata": {},
      "outputs": [
        {
          "name": "stdout",
          "output_type": "stream",
          "text": [
            "[278, 283, 299, 308, 397, 405, 408, 434, 439, 444, 454, 467, 482, 496, 502, 506, 515, 527, 533, 628, 746, 751, 761, 771, 776, 781, 791, 792, 793, 794, 795]\n"
          ]
        }
      ],
      "source": [
        "def get_non_var_columns(df: pd.DataFrame):\n",
        "    std_dev = df.std()\n",
        "    return std_dev[std_dev == 0].index.to_list()\n",
        "\n",
        "\n",
        "non_var_cols = get_non_var_columns(df_data)\n",
        "print(col_indexes(df_data, non_var_cols))\n"
      ]
    },
    {
      "cell_type": "code",
      "execution_count": 51,
      "metadata": {},
      "outputs": [
        {
          "name": "stdout",
          "output_type": "stream",
          "text": [
            "drop_single_value_cols, nb.cols = 31\n"
          ]
        }
      ],
      "source": [
        "def drop_single_value_cols(df: pd.DataFrame, cols_to_drop=None):\n",
        "    if cols_to_drop is None:\n",
        "        cols_to_drop = get_single_value_cols(df)\n",
        "    if len(cols_to_drop) > 0:\n",
        "        print(f'drop_single_value_cols, nb.cols = {len(cols_to_drop)}')\n",
        "        return df.drop(columns=cols_to_drop)\n",
        "    return df\n",
        "\n",
        "\n",
        "# df_data=drop_single_value_cols(df_data,cols_to_drop=single_val_cols)\n",
        "df_data = drop_single_value_cols(df_data)\n"
      ]
    },
    {
      "cell_type": "markdown",
      "metadata": {},
      "source": [
        "## 4.3 Enregistre les données suite au (aggregation/fusion/pre-nettoyage) pre-processing pipeline\n",
        "\n",
        "On enregistre les données après nettoyage des valeurs infinis et colonnes sans variation\n",
        "\n",
        "Pour refaire le preprocessing complet, il suffit de supprimer les données nettoyés dans **savepath**\n"
      ]
    },
    {
      "cell_type": "code",
      "execution_count": 52,
      "metadata": {},
      "outputs": [
        {
          "name": "stdout",
          "output_type": "stream",
          "text": [
            "not saving - preprocess pipeline has not been modified since last edit\n",
            "df_data.shape = (307507, 766)\n"
          ]
        }
      ],
      "source": [
        "savepath = f'{OUT_FOLDER}/{CLEAN_DATA_FILENAME}'\n",
        "if os.path.exists(savepath):\n",
        "    print('not saving - preprocess pipeline has not been modified since last edit')\n",
        "else:\n",
        "    print('saving preprocessed_data')\n",
        "    with timer(f'Save to {savepath}'):\n",
        "        df_data.to_csv(savepath, index=False)\n",
        "\n",
        "print(f'df_data.shape = {df_data.shape}')\n"
      ]
    },
    {
      "cell_type": "code",
      "execution_count": 53,
      "metadata": {},
      "outputs": [],
      "source": [
        "if len(df_data) > SAMPLE_SIZE:\n",
        "    samplepath = f'{OUT_FOLDER}/{CLEAN_DATA_SAMPLE}'\n",
        "    if not os.path.exists(samplepath):\n",
        "        with timer(f'Save sample (nb = {SAMPLE_SIZE}) to {samplepath}'):\n",
        "            df_data.sample(SAMPLE_SIZE).to_csv(\n",
        "                samplepath, index=False)\n"
      ]
    },
    {
      "cell_type": "markdown",
      "metadata": {
        "id": "tF-TKxkBBMC3"
      },
      "source": [
        "### Taille des fichiers préprocessés\n"
      ]
    },
    {
      "cell_type": "code",
      "execution_count": 54,
      "metadata": {
        "colab": {
          "base_uri": "https://localhost:8080/"
        },
        "id": "Huo2gSCr7Ya9",
        "outputId": "d703255e-730b-4b00-b0a2-aa458400b3d6"
      },
      "outputs": [
        {
          "name": "stdout",
          "output_type": "stream",
          "text": [
            "file : cleaned_data_scoring.csv : size=919.9 Mo\n",
            "file : cleaned_data_sample.csv : size=29.87 Mo\n"
          ]
        }
      ],
      "source": [
        "for filename in [CLEAN_DATA_FILENAME, CLEAN_DATA_SAMPLE]:\n",
        "    filepath = f'{OUT_FOLDER}/{filename}'\n",
        "    print(f'file : {filename} : size={outils_io.get_filesize(filepath)}')\n"
      ]
    },
    {
      "cell_type": "markdown",
      "metadata": {},
      "source": [
        "## Créer feature_description_map\n",
        "\n",
        "Les nouvelles champs non pas des descriptions, car ils sont des aggregations (MAX, MIN, MEAN), ou des categories individuelles extraits des champs catégoriques.\n",
        "\n",
        "On peut attribuer des descriptions, car le nom du champ contient le nom du champ original, parfois avec un prefix (nom du table original), ou un suffix (catégorie ou type d'aggregation)\n"
      ]
    },
    {
      "cell_type": "code",
      "execution_count": 55,
      "metadata": {},
      "outputs": [
        {
          "data": {
            "text/html": [
              "<div>\n",
              "<style scoped>\n",
              "    .dataframe tbody tr th:only-of-type {\n",
              "        vertical-align: middle;\n",
              "    }\n",
              "\n",
              "    .dataframe tbody tr th {\n",
              "        vertical-align: top;\n",
              "    }\n",
              "\n",
              "    .dataframe thead th {\n",
              "        text-align: right;\n",
              "    }\n",
              "</style>\n",
              "<table border=\"1\" class=\"dataframe\">\n",
              "  <thead>\n",
              "    <tr style=\"text-align: right;\">\n",
              "      <th></th>\n",
              "      <th>Row</th>\n",
              "      <th>col</th>\n",
              "      <th>Unnamed: 0</th>\n",
              "      <th>Table</th>\n",
              "      <th>Description</th>\n",
              "      <th>Special</th>\n",
              "      <th>row_len</th>\n",
              "    </tr>\n",
              "  </thead>\n",
              "  <tbody>\n",
              "    <tr>\n",
              "      <th>1003</th>\n",
              "      <td>NAME_CONTRACT_STATUS</td>\n",
              "      <td>CC_NAME_CONTRACT_STATUS_Signed_SUM</td>\n",
              "      <td>173.0</td>\n",
              "      <td>credit_card_balance.csv</td>\n",
              "      <td>Contract status (active signed,...) on the previous credit</td>\n",
              "      <td>NaN</td>\n",
              "      <td>20.0</td>\n",
              "    </tr>\n",
              "    <tr>\n",
              "      <th>1004</th>\n",
              "      <td>NAME_CONTRACT_STATUS</td>\n",
              "      <td>CC_NAME_CONTRACT_STATUS_Signed_VAR</td>\n",
              "      <td>150.0</td>\n",
              "      <td>POS_CASH_balance.csv</td>\n",
              "      <td>Contract status during the month</td>\n",
              "      <td>NaN</td>\n",
              "      <td>20.0</td>\n",
              "    </tr>\n",
              "    <tr>\n",
              "      <th>1005</th>\n",
              "      <td>NAME_CONTRACT_STATUS</td>\n",
              "      <td>CC_NAME_CONTRACT_STATUS_Signed_VAR</td>\n",
              "      <td>193.0</td>\n",
              "      <td>previous_application.csv</td>\n",
              "      <td>Contract status (approved, cancelled, ...) of previous application</td>\n",
              "      <td>NaN</td>\n",
              "      <td>20.0</td>\n",
              "    </tr>\n",
              "    <tr>\n",
              "      <th>1006</th>\n",
              "      <td>NAME_CONTRACT_STATUS</td>\n",
              "      <td>CC_NAME_CONTRACT_STATUS_Signed_VAR</td>\n",
              "      <td>173.0</td>\n",
              "      <td>credit_card_balance.csv</td>\n",
              "      <td>Contract status (active signed,...) on the previous credit</td>\n",
              "      <td>NaN</td>\n",
              "      <td>20.0</td>\n",
              "    </tr>\n",
              "    <tr>\n",
              "      <th>1007</th>\n",
              "      <td>_new_col</td>\n",
              "      <td>CC_COUNT</td>\n",
              "      <td>NaN</td>\n",
              "      <td>NaN</td>\n",
              "      <td>NaN</td>\n",
              "      <td>NaN</td>\n",
              "      <td>NaN</td>\n",
              "    </tr>\n",
              "  </tbody>\n",
              "</table>\n",
              "</div>"
            ],
            "text/plain": [
              "                       Row                                 col  Unnamed: 0  \\\n",
              "1003  NAME_CONTRACT_STATUS  CC_NAME_CONTRACT_STATUS_Signed_SUM       173.0   \n",
              "1004  NAME_CONTRACT_STATUS  CC_NAME_CONTRACT_STATUS_Signed_VAR       150.0   \n",
              "1005  NAME_CONTRACT_STATUS  CC_NAME_CONTRACT_STATUS_Signed_VAR       193.0   \n",
              "1006  NAME_CONTRACT_STATUS  CC_NAME_CONTRACT_STATUS_Signed_VAR       173.0   \n",
              "1007              _new_col                            CC_COUNT         NaN   \n",
              "\n",
              "                         Table  \\\n",
              "1003   credit_card_balance.csv   \n",
              "1004      POS_CASH_balance.csv   \n",
              "1005  previous_application.csv   \n",
              "1006   credit_card_balance.csv   \n",
              "1007                       NaN   \n",
              "\n",
              "                                                             Description  \\\n",
              "1003          Contract status (active signed,...) on the previous credit   \n",
              "1004                                    Contract status during the month   \n",
              "1005  Contract status (approved, cancelled, ...) of previous application   \n",
              "1006          Contract status (active signed,...) on the previous credit   \n",
              "1007                                                                 NaN   \n",
              "\n",
              "     Special  row_len  \n",
              "1003     NaN     20.0  \n",
              "1004     NaN     20.0  \n",
              "1005     NaN     20.0  \n",
              "1006     NaN     20.0  \n",
              "1007     NaN      NaN  "
            ]
          },
          "execution_count": 55,
          "metadata": {},
          "output_type": "execute_result"
        }
      ],
      "source": [
        "def create_field_descriptions(new_names: pd.Series = None) -> pd.DataFrame:\n",
        "    \"\"\"Créer un nouvel liste de descriptions, basé sur la liste de new names\"\"\"\n",
        "    # Sort original field names by field_name length (longest field names first)\n",
        "    descr: pd.DataFrame = field_descriptions()\n",
        "    descr['row_len'] = descr['Row'].str.len()\n",
        "    descr = descr.sort_values(by='row_len', ascending=False)\n",
        "    orig_cols: pd.Series = descr['Row']\n",
        "\n",
        "    def get_orig_column_name(new_name: str, orig_names: pd.Series):\n",
        "        \"\"\"orig_names should be in order of length, with longest names first\"\"\"\n",
        "        for name in orig_names:\n",
        "            if name in new_name:\n",
        "                return name\n",
        "        return '_new_col'\n",
        "\n",
        "    # Create mapping of new fields to original field\n",
        "    # most new fields have either\n",
        "    # a prefix (tablename), or a suffix (_MIN, _MAX, etc), or both\n",
        "    res = pd.DataFrame()\n",
        "    for new_feature in new_names:\n",
        "        res = res.append(\n",
        "            {'col': new_feature,\n",
        "             'Row': get_orig_column_name(new_feature, orig_cols)},\n",
        "            ignore_index=True)\n",
        "\n",
        "    # join new result on original field descriptions\n",
        "    df_new_descr = pd.merge(left=res, right=descr, on='Row', how='left')\n",
        "    return df_new_descr\n",
        "\n",
        "\n",
        "def create_field_description_map(df_new_descr: pd.DataFrame = None, new_names: pd.Series = None) -> dict:\n",
        "    if df_new_descr is None:\n",
        "        df_new_descr = create_field_descriptions(new_names)\n",
        "    if 'col' in df_new_descr.columns:\n",
        "        return dict(zip(list(df_new_descr['col']), list(df_new_descr['Description'])))\n",
        "    else:\n",
        "        return dict(zip(list(df_new_descr['Row']), list(df_new_descr['Description'])))\n",
        "\n",
        "\n",
        "new_feature_descriptions = create_field_descriptions(list(df_data.columns))\n",
        "new_feature_descriptions.tail()\n",
        "# feature_description_map=create_field_description_map(df_data.columns)\n"
      ]
    },
    {
      "cell_type": "markdown",
      "metadata": {},
      "source": [
        "# 5. Vérification des données\n",
        "\n",
        "Nous avons utilisés un preprocessing qui a donné un bon score sur LightGBM\n"
      ]
    },
    {
      "cell_type": "code",
      "execution_count": 56,
      "metadata": {},
      "outputs": [
        {
          "name": "stdout",
          "output_type": "stream",
          "text": [
            "(307507, 766)\n"
          ]
        }
      ],
      "source": [
        "print(df_data.shape)\n"
      ]
    },
    {
      "cell_type": "code",
      "execution_count": 57,
      "metadata": {},
      "outputs": [
        {
          "data": {
            "image/png": "[encoded data removed]",
            "text/plain": [
              "<Figure size 864x864 with 4 Axes>"
            ]
          },
          "metadata": {},
          "output_type": "display_data"
        }
      ],
      "source": [
        "plot_distributions(df_data, ['DAYS_BIRTH', 'DAYS_EMPLOYED',\n",
        "                             'CODE_GENDER', 'DAYS_ID_PUBLISH'])\n"
      ]
    },
    {
      "cell_type": "markdown",
      "metadata": {},
      "source": [
        "## 5.1 Colonnes avec des valeurs NaN\n",
        "\n",
        "Le framework [LightGBM](https://lightgbm.readthedocs.io/en/latest/) accepte les valeurs NaN, et même les utilise pour aider la classification\n",
        "\n",
        "Autres classificateurs ne peuvent pas traité des valeurs NaNs, comme:\n",
        "\n",
        "- [Random Forest](https://scikit-learn.org/stable/modules/generated/sklearn.ensemble.RandomForestClassifier.html)\n",
        "- [Logistic Regression](https://scikit-learn.org/stable/modules/generated/sklearn.linear_model.LogisticRegression.html)\n",
        "- [Naive Bayes](https://scikit-learn.org/stable/modules/generated/sklearn.naive_bayes.GaussianNB.html#sklearn.naive_bayes.GaussianNB)\n",
        "\n",
        "On regarde le nombre de valeurs NaN\n"
      ]
    },
    {
      "cell_type": "code",
      "execution_count": 58,
      "metadata": {},
      "outputs": [
        {
          "name": "stdout",
          "output_type": "stream",
          "text": [
            "Nombre de colonnes avec NaN values : 585\n"
          ]
        }
      ],
      "source": [
        "def list_nan_columns(df):\n",
        "    return [i for i in df.columns if df[i].isnull().any()]\n",
        "\n",
        "\n",
        "nan_colonnes = list_nan_columns(df_data)\n",
        "print(f'Nombre de colonnes avec NaN values : {len(nan_colonnes)}')\n"
      ]
    },
    {
      "cell_type": "markdown",
      "metadata": {},
      "source": [
        "Presque toutes les colonnes contient les NaNs\n",
        "\n",
        "On regarde le pourcentage remplissage\n"
      ]
    },
    {
      "cell_type": "code",
      "execution_count": 59,
      "metadata": {},
      "outputs": [
        {
          "name": "stdout",
          "output_type": "stream",
          "text": [
            "307507 registres 766 colonnes\n",
            "dtypes=float64    723\n",
            "int64       43\n",
            "dtype: int64\n"
          ]
        },
        {
          "data": {
            "text/html": [
              "<div>\n",
              "<style scoped>\n",
              "    .dataframe tbody tr th:only-of-type {\n",
              "        vertical-align: middle;\n",
              "    }\n",
              "\n",
              "    .dataframe tbody tr th {\n",
              "        vertical-align: top;\n",
              "    }\n",
              "\n",
              "    .dataframe thead th {\n",
              "        text-align: right;\n",
              "    }\n",
              "</style>\n",
              "<table border=\"1\" class=\"dataframe\">\n",
              "  <thead>\n",
              "    <tr style=\"text-align: right;\">\n",
              "      <th></th>\n",
              "      <th>% manquantes</th>\n",
              "      <th>unique</th>\n",
              "      <th>dtype</th>\n",
              "      <th>min</th>\n",
              "      <th>max</th>\n",
              "      <th>std</th>\n",
              "    </tr>\n",
              "    <tr>\n",
              "      <th>column</th>\n",
              "      <th></th>\n",
              "      <th></th>\n",
              "      <th></th>\n",
              "      <th></th>\n",
              "      <th></th>\n",
              "      <th></th>\n",
              "    </tr>\n",
              "  </thead>\n",
              "  <tbody>\n",
              "    <tr>\n",
              "      <th>SK_ID_CURR</th>\n",
              "      <td>0.0</td>\n",
              "      <td>307507</td>\n",
              "      <td>int64</td>\n",
              "      <td>100002.0</td>\n",
              "      <td>456255.0</td>\n",
              "      <td>102790.132982</td>\n",
              "    </tr>\n",
              "    <tr>\n",
              "      <th>TARGET</th>\n",
              "      <td>0.0</td>\n",
              "      <td>2</td>\n",
              "      <td>int64</td>\n",
              "      <td>0.0</td>\n",
              "      <td>1.0</td>\n",
              "      <td>0.272420</td>\n",
              "    </tr>\n",
              "    <tr>\n",
              "      <th>CODE_GENDER</th>\n",
              "      <td>0.0</td>\n",
              "      <td>2</td>\n",
              "      <td>int64</td>\n",
              "      <td>0.0</td>\n",
              "      <td>1.0</td>\n",
              "      <td>0.474263</td>\n",
              "    </tr>\n",
              "    <tr>\n",
              "      <th>FLAG_OWN_CAR</th>\n",
              "      <td>0.0</td>\n",
              "      <td>2</td>\n",
              "      <td>int64</td>\n",
              "      <td>0.0</td>\n",
              "      <td>1.0</td>\n",
              "      <td>0.473745</td>\n",
              "    </tr>\n",
              "    <tr>\n",
              "      <th>FLAG_OWN_REALTY</th>\n",
              "      <td>0.0</td>\n",
              "      <td>2</td>\n",
              "      <td>int64</td>\n",
              "      <td>0.0</td>\n",
              "      <td>1.0</td>\n",
              "      <td>0.460970</td>\n",
              "    </tr>\n",
              "  </tbody>\n",
              "</table>\n",
              "</div>"
            ],
            "text/plain": [
              "                 % manquantes  unique  dtype       min       max  \\\n",
              "column                                                             \n",
              "SK_ID_CURR                0.0  307507  int64  100002.0  456255.0   \n",
              "TARGET                    0.0       2  int64       0.0       1.0   \n",
              "CODE_GENDER               0.0       2  int64       0.0       1.0   \n",
              "FLAG_OWN_CAR              0.0       2  int64       0.0       1.0   \n",
              "FLAG_OWN_REALTY           0.0       2  int64       0.0       1.0   \n",
              "\n",
              "                           std  \n",
              "column                          \n",
              "SK_ID_CURR       102790.132982  \n",
              "TARGET                0.272420  \n",
              "CODE_GENDER           0.474263  \n",
              "FLAG_OWN_CAR          0.473745  \n",
              "FLAG_OWN_REALTY       0.460970  "
            ]
          },
          "execution_count": 59,
          "metadata": {},
          "output_type": "execute_result"
        }
      ],
      "source": [
        "df_remplissage = outils_stats.decrire_dataframe(df_data)\n",
        "df_remplissage.head()\n"
      ]
    },
    {
      "cell_type": "code",
      "execution_count": 60,
      "metadata": {},
      "outputs": [
        {
          "data": {
            "text/plain": [
              "count    766.000000\n",
              "mean      25.686262\n",
              "std       30.362631\n",
              "min        0.000000\n",
              "25%        0.332025\n",
              "50%        5.577109\n",
              "75%       67.386108\n",
              "max       85.311554\n",
              "Name: % manquantes, dtype: float64"
            ]
          },
          "execution_count": 60,
          "metadata": {},
          "output_type": "execute_result"
        }
      ],
      "source": [
        "df_remplissage['% manquantes'].describe()\n"
      ]
    },
    {
      "cell_type": "markdown",
      "metadata": {},
      "source": [
        "- Plus que le moitié des colonnes ont moins que 6% des valeurs manquantes\n",
        "- Un quart des colonnes ont plus que 67% des données manquantes\n",
        "\n",
        "Si on décide qu'il faut un minimum de 70% de remplissage, combien de colonnes sont exclus?\n"
      ]
    },
    {
      "cell_type": "code",
      "execution_count": 61,
      "metadata": {},
      "outputs": [
        {
          "name": "stdout",
          "output_type": "stream",
          "text": [
            "% colonnes avec plus de 30% manquantes = 31 %\n"
          ]
        }
      ],
      "source": [
        "def proportion_cols_unfilled(df, col='% manquantes', threshold=30):\n",
        "    nb_cols = len(df)\n",
        "    cols_unfilled = (df[col] > threshold).sum()\n",
        "    proportion = cols_unfilled/nb_cols\n",
        "    return proportion\n",
        "\n",
        "\n",
        "prop_cols = proportion_cols_unfilled(df_remplissage)\n",
        "print(f'% colonnes avec plus de 30% manquantes = {(prop_cols*100):.0f} %')\n"
      ]
    },
    {
      "cell_type": "markdown",
      "metadata": {},
      "source": [
        "On visualise sur des graphiques\n"
      ]
    },
    {
      "cell_type": "code",
      "execution_count": 62,
      "metadata": {},
      "outputs": [
        {
          "name": "stdout",
          "output_type": "stream",
          "text": [
            "\"Colonnes_cumulatives_en_fonction_de_valeurs_manquantes.png\"\n"
          ]
        },
        {
          "data": {
            "image/png": "[encoded data removed]",
            "text/plain": [
              "<Figure size 360x360 with 1 Axes>"
            ]
          },
          "metadata": {},
          "output_type": "display_data"
        }
      ],
      "source": [
        "sns.displot(data=df_remplissage, x='% manquantes', kind='ecdf')\n",
        "plt.axvline(70, label='threshold = 70% manquantes', ls='--', c='r')\n",
        "plt.xlabel('données manquantes (%)')\n",
        "plt.ylabel('proportion de colonnes')\n",
        "plt.legend()\n",
        "plt.title('Colonnes cumulatives en fonction de valeurs manquantes')\n",
        "to_png()\n"
      ]
    },
    {
      "cell_type": "markdown",
      "metadata": {},
      "source": [
        "## 5.2 Elimine colonnes avec plus de 70% données manquantes\n",
        "\n",
        "70% manquante = 30% remplis = threshold(notnull) > 0.3\n"
      ]
    },
    {
      "cell_type": "code",
      "execution_count": 63,
      "metadata": {},
      "outputs": [
        {
          "name": "stdout",
          "output_type": "stream",
          "text": [
            "(307507, 766)\n",
            "drop_colonnes_trop_vides, threshold =0.3, drop colonnes : ['BURO_AMT_ANNUITY_MAX', 'BURO_AMT_ANNUITY_MEAN', 'BURO_MONTHS_BALANCE_MIN_MIN', 'BURO_MONTHS_BALANCE_MAX_MAX', 'BURO_MONTHS_BALANCE_SIZE_MEAN', 'BURO_STATUS_0_MEAN_MEAN', 'BURO_STATUS_1_MEAN_MEAN', 'BURO_STATUS_2_MEAN_MEAN', 'BURO_STATUS_3_MEAN_MEAN', 'BURO_STATUS_4_MEAN_MEAN', 'BURO_STATUS_5_MEAN_MEAN', 'BURO_STATUS_C_MEAN_MEAN', 'BURO_STATUS_X_MEAN_MEAN', 'ACTIVE_AMT_ANNUITY_MAX', 'ACTIVE_AMT_ANNUITY_MEAN', 'ACTIVE_MONTHS_BALANCE_MIN_MIN', 'ACTIVE_MONTHS_BALANCE_MAX_MAX', 'ACTIVE_MONTHS_BALANCE_SIZE_MEAN', 'CLOSED_AMT_ANNUITY_MAX', 'CLOSED_AMT_ANNUITY_MEAN', 'CLOSED_MONTHS_BALANCE_MIN_MIN', 'CLOSED_MONTHS_BALANCE_MAX_MAX', 'CLOSED_MONTHS_BALANCE_SIZE_MEAN', 'REFUSED_AMT_ANNUITY_MIN', 'REFUSED_AMT_ANNUITY_MAX', 'REFUSED_AMT_ANNUITY_MEAN', 'REFUSED_APP_CREDIT_PERC_VAR', 'REFUSED_AMT_DOWN_PAYMENT_MIN', 'REFUSED_AMT_DOWN_PAYMENT_MAX', 'REFUSED_AMT_DOWN_PAYMENT_MEAN', 'REFUSED_RATE_DOWN_PAYMENT_MIN', 'REFUSED_RATE_DOWN_PAYMENT_MAX', 'REFUSED_RATE_DOWN_PAYMENT_MEAN', 'REFUSED_CNT_PAYMENT_MEAN', 'CC_MONTHS_BALANCE_MIN', 'CC_MONTHS_BALANCE_MAX', 'CC_MONTHS_BALANCE_MEAN', 'CC_MONTHS_BALANCE_SUM', 'CC_MONTHS_BALANCE_VAR', 'CC_AMT_BALANCE_MIN', 'CC_AMT_BALANCE_MAX', 'CC_AMT_BALANCE_MEAN', 'CC_AMT_BALANCE_SUM', 'CC_AMT_BALANCE_VAR', 'CC_AMT_CREDIT_LIMIT_ACTUAL_MIN', 'CC_AMT_CREDIT_LIMIT_ACTUAL_MAX', 'CC_AMT_CREDIT_LIMIT_ACTUAL_MEAN', 'CC_AMT_CREDIT_LIMIT_ACTUAL_SUM', 'CC_AMT_CREDIT_LIMIT_ACTUAL_VAR', 'CC_AMT_DRAWINGS_ATM_CURRENT_MIN', 'CC_AMT_DRAWINGS_ATM_CURRENT_MAX', 'CC_AMT_DRAWINGS_ATM_CURRENT_MEAN', 'CC_AMT_DRAWINGS_ATM_CURRENT_SUM', 'CC_AMT_DRAWINGS_ATM_CURRENT_VAR', 'CC_AMT_DRAWINGS_CURRENT_MIN', 'CC_AMT_DRAWINGS_CURRENT_MAX', 'CC_AMT_DRAWINGS_CURRENT_MEAN', 'CC_AMT_DRAWINGS_CURRENT_SUM', 'CC_AMT_DRAWINGS_CURRENT_VAR', 'CC_AMT_DRAWINGS_OTHER_CURRENT_MIN', 'CC_AMT_DRAWINGS_OTHER_CURRENT_MAX', 'CC_AMT_DRAWINGS_OTHER_CURRENT_MEAN', 'CC_AMT_DRAWINGS_OTHER_CURRENT_SUM', 'CC_AMT_DRAWINGS_OTHER_CURRENT_VAR', 'CC_AMT_DRAWINGS_POS_CURRENT_MIN', 'CC_AMT_DRAWINGS_POS_CURRENT_MAX', 'CC_AMT_DRAWINGS_POS_CURRENT_MEAN', 'CC_AMT_DRAWINGS_POS_CURRENT_SUM', 'CC_AMT_DRAWINGS_POS_CURRENT_VAR', 'CC_AMT_INST_MIN_REGULARITY_MIN', 'CC_AMT_INST_MIN_REGULARITY_MAX', 'CC_AMT_INST_MIN_REGULARITY_MEAN', 'CC_AMT_INST_MIN_REGULARITY_SUM', 'CC_AMT_INST_MIN_REGULARITY_VAR', 'CC_AMT_PAYMENT_CURRENT_MIN', 'CC_AMT_PAYMENT_CURRENT_MAX', 'CC_AMT_PAYMENT_CURRENT_MEAN', 'CC_AMT_PAYMENT_CURRENT_SUM', 'CC_AMT_PAYMENT_CURRENT_VAR', 'CC_AMT_PAYMENT_TOTAL_CURRENT_MIN', 'CC_AMT_PAYMENT_TOTAL_CURRENT_MAX', 'CC_AMT_PAYMENT_TOTAL_CURRENT_MEAN', 'CC_AMT_PAYMENT_TOTAL_CURRENT_SUM', 'CC_AMT_PAYMENT_TOTAL_CURRENT_VAR', 'CC_AMT_RECEIVABLE_PRINCIPAL_MIN', 'CC_AMT_RECEIVABLE_PRINCIPAL_MAX', 'CC_AMT_RECEIVABLE_PRINCIPAL_MEAN', 'CC_AMT_RECEIVABLE_PRINCIPAL_SUM', 'CC_AMT_RECEIVABLE_PRINCIPAL_VAR', 'CC_AMT_RECIVABLE_MIN', 'CC_AMT_RECIVABLE_MAX', 'CC_AMT_RECIVABLE_MEAN', 'CC_AMT_RECIVABLE_SUM', 'CC_AMT_RECIVABLE_VAR', 'CC_AMT_TOTAL_RECEIVABLE_MIN', 'CC_AMT_TOTAL_RECEIVABLE_MAX', 'CC_AMT_TOTAL_RECEIVABLE_MEAN', 'CC_AMT_TOTAL_RECEIVABLE_SUM', 'CC_AMT_TOTAL_RECEIVABLE_VAR', 'CC_CNT_DRAWINGS_ATM_CURRENT_MIN', 'CC_CNT_DRAWINGS_ATM_CURRENT_MAX', 'CC_CNT_DRAWINGS_ATM_CURRENT_MEAN', 'CC_CNT_DRAWINGS_ATM_CURRENT_SUM', 'CC_CNT_DRAWINGS_ATM_CURRENT_VAR', 'CC_CNT_DRAWINGS_CURRENT_MIN', 'CC_CNT_DRAWINGS_CURRENT_MAX', 'CC_CNT_DRAWINGS_CURRENT_MEAN', 'CC_CNT_DRAWINGS_CURRENT_SUM', 'CC_CNT_DRAWINGS_CURRENT_VAR', 'CC_CNT_DRAWINGS_OTHER_CURRENT_MIN', 'CC_CNT_DRAWINGS_OTHER_CURRENT_MAX', 'CC_CNT_DRAWINGS_OTHER_CURRENT_MEAN', 'CC_CNT_DRAWINGS_OTHER_CURRENT_SUM', 'CC_CNT_DRAWINGS_OTHER_CURRENT_VAR', 'CC_CNT_DRAWINGS_POS_CURRENT_MIN', 'CC_CNT_DRAWINGS_POS_CURRENT_MAX', 'CC_CNT_DRAWINGS_POS_CURRENT_MEAN', 'CC_CNT_DRAWINGS_POS_CURRENT_SUM', 'CC_CNT_DRAWINGS_POS_CURRENT_VAR', 'CC_CNT_INSTALMENT_MATURE_CUM_MIN', 'CC_CNT_INSTALMENT_MATURE_CUM_MAX', 'CC_CNT_INSTALMENT_MATURE_CUM_MEAN', 'CC_CNT_INSTALMENT_MATURE_CUM_SUM', 'CC_CNT_INSTALMENT_MATURE_CUM_VAR', 'CC_SK_DPD_MAX', 'CC_SK_DPD_MEAN', 'CC_SK_DPD_SUM', 'CC_SK_DPD_VAR', 'CC_SK_DPD_DEF_MAX', 'CC_SK_DPD_DEF_MEAN', 'CC_SK_DPD_DEF_SUM', 'CC_SK_DPD_DEF_VAR', 'CC_NAME_CONTRACT_STATUS_Active_MIN', 'CC_NAME_CONTRACT_STATUS_Active_MAX', 'CC_NAME_CONTRACT_STATUS_Active_MEAN', 'CC_NAME_CONTRACT_STATUS_Active_SUM', 'CC_NAME_CONTRACT_STATUS_Active_VAR', 'CC_NAME_CONTRACT_STATUS_Approved_MAX', 'CC_NAME_CONTRACT_STATUS_Approved_MEAN', 'CC_NAME_CONTRACT_STATUS_Approved_SUM', 'CC_NAME_CONTRACT_STATUS_Approved_VAR', 'CC_NAME_CONTRACT_STATUS_Completed_MIN', 'CC_NAME_CONTRACT_STATUS_Completed_MAX', 'CC_NAME_CONTRACT_STATUS_Completed_MEAN', 'CC_NAME_CONTRACT_STATUS_Completed_SUM', 'CC_NAME_CONTRACT_STATUS_Completed_VAR', 'CC_NAME_CONTRACT_STATUS_Demand_MAX', 'CC_NAME_CONTRACT_STATUS_Demand_MEAN', 'CC_NAME_CONTRACT_STATUS_Demand_SUM', 'CC_NAME_CONTRACT_STATUS_Demand_VAR', 'CC_NAME_CONTRACT_STATUS_Refused_MAX', 'CC_NAME_CONTRACT_STATUS_Refused_MEAN', 'CC_NAME_CONTRACT_STATUS_Refused_SUM', 'CC_NAME_CONTRACT_STATUS_Refused_VAR', 'CC_NAME_CONTRACT_STATUS_Sent proposal_MAX', 'CC_NAME_CONTRACT_STATUS_Sent proposal_MEAN', 'CC_NAME_CONTRACT_STATUS_Sent proposal_SUM', 'CC_NAME_CONTRACT_STATUS_Sent proposal_VAR', 'CC_NAME_CONTRACT_STATUS_Signed_MIN', 'CC_NAME_CONTRACT_STATUS_Signed_MAX', 'CC_NAME_CONTRACT_STATUS_Signed_MEAN', 'CC_NAME_CONTRACT_STATUS_Signed_SUM', 'CC_NAME_CONTRACT_STATUS_Signed_VAR', 'CC_COUNT']\n",
            "(307507, 602)\n",
            "(307507, 602)\n",
            "drop_colonnes_trop_vides, threshold =0.3, drop colonnes : []\n"
          ]
        }
      ],
      "source": [
        "def drop_colonnes_trop_vides(df, threshold=0.3):\n",
        "    freq = df.notnull().mean()\n",
        "    print(\n",
        "        f'drop_colonnes_trop_vides, threshold ={threshold}, drop colonnes : {list(df.columns[freq < threshold])}')\n",
        "    return df[df.columns[freq > threshold]]\n",
        "\n",
        "\n",
        "print(df_data.shape)\n",
        "df_data = drop_colonnes_trop_vides(df_data)\n",
        "print(df_data.shape)\n",
        "df_data.notnull().mean().sort_values()[:5]\n",
        "\n",
        "\n",
        "print(df_data.shape)\n",
        "df_data = drop_colonnes_trop_vides(df_data)\n"
      ]
    },
    {
      "cell_type": "code",
      "execution_count": 64,
      "metadata": {},
      "outputs": [
        {
          "name": "stdout",
          "output_type": "stream",
          "text": [
            "(307507, 602)\n"
          ]
        },
        {
          "data": {
            "text/plain": [
              "COMMONAREA_MEDI                 0.301278\n",
              "COMMONAREA_AVG                  0.301278\n",
              "COMMONAREA_MODE                 0.301278\n",
              "REFUSED_AMT_GOODS_PRICE_MEAN    0.303177\n",
              "REFUSED_AMT_GOODS_PRICE_MAX     0.303177\n",
              "dtype: float64"
            ]
          },
          "execution_count": 64,
          "metadata": {},
          "output_type": "execute_result"
        }
      ],
      "source": [
        "print(df_data.shape)\n",
        "df_data.notnull().mean().sort_values()[:5]\n"
      ]
    },
    {
      "cell_type": "markdown",
      "metadata": {},
      "source": [
        "Visualise remplissage aprés suppression de colonnes plus de 70% vides\n"
      ]
    },
    {
      "cell_type": "code",
      "execution_count": 65,
      "metadata": {},
      "outputs": [
        {
          "name": "stdout",
          "output_type": "stream",
          "text": [
            "307507 registres 602 colonnes\n",
            "dtypes=float64    559\n",
            "int64       43\n",
            "dtype: int64\n",
            "\"Colonnes_cumulatives_en_fonction_de_valeurs_manquantes_(après_suppression_lt.30_%_remplis).png\"\n"
          ]
        },
        {
          "data": {
            "image/png": "[encoded data removed]",
            "text/plain": [
              "<Figure size 360x360 with 1 Axes>"
            ]
          },
          "metadata": {},
          "output_type": "display_data"
        }
      ],
      "source": [
        "df_remplissage = outils_stats.decrire_dataframe(df_data)\n",
        "sns.displot(data=df_remplissage, x='% manquantes', kind='ecdf')\n",
        "plt.axvline(65, label='threshold = 70% manquantes', ls='--', c='r')\n",
        "plt.xlabel('données manquantes (%)')\n",
        "plt.ylabel('proportion de colonnes')\n",
        "plt.legend()\n",
        "plt.title('Colonnes cumulatives en fonction de valeurs manquantes (après suppression <30 % remplis)')\n",
        "to_png()\n"
      ]
    },
    {
      "cell_type": "markdown",
      "metadata": {},
      "source": [
        "# 6. Feature selection\n",
        "\n",
        "On considere feature sélection comme partie du modélisation.\n",
        "\n",
        "Pourtant, on a toujours environ 600 colonnes de données, qui va ralenti beaucoup la modélisation.\n",
        "\n",
        "La plupart seront insignifiant en importance pour la modèle.\n",
        "\n",
        "Donc, on va sélectionner les 100 'best' features dans ce notebook de nettoyage, puis laisser la modélisation determiner les importances rélatives de ces 100 features.\n"
      ]
    },
    {
      "cell_type": "markdown",
      "metadata": {},
      "source": [
        "### Stratégies pour pré-sélectionner les features les plus importantes\n",
        "\n",
        "On a plusieurs stratégies pour réduire le nombre de variables :\n",
        "\n",
        "**Filter**\n",
        "\n",
        "1. Pearson Correlation\n",
        "2. Select KBest(f_classif) - fast(anova)\n",
        "3. Select KBest(mutual_info_classif) - nearest neighbours\n",
        "4. Select KBest(Chi-2) - (exige filled, non-negative)\n",
        "5. Variance Influence Factor < 5\n",
        "\n",
        "**Wrapper**\n",
        "\n",
        "1. RFE (sur Logistic Regression par exemple)\n",
        "\n",
        "**Embedded**\n",
        "\n",
        "1. LightGBM\n",
        "2. Random Forest\n",
        "3. Logistics Regression L1\n",
        "\n",
        "La réference ci-dessous donne un exemple de comment mettre en place 6 de ces méthodes pour les champs d'application_train\n",
        "\n",
        "### Référence\n",
        "\n",
        "- <https://www.kaggle.com/code/sz8416/6-ways-for-feature-selection/>\n",
        "- [Laborda, Juan & Ryoo, Seyong. (2021). Feature Selection in a Credit Scoring Model (Mathematics ISSN 2227-7390). 9 (7). 10.3390/math9070746.](https://www.researchgate.net/publication/350525439_Feature_Selection_in_a_Credit_Scoring_Model_Mathematics_ISSN_2227-7390)\n"
      ]
    },
    {
      "cell_type": "markdown",
      "metadata": {},
      "source": [
        "Pour simplicité, on utilise une ensemble de méthodes pour sélectionner les 100 features les plus importants\n",
        "\n",
        "On va comparer les feature importances (LGBM Classifier)\n",
        "(a) sur les données nettoyés\n",
        "(b) sur les données avec undersampling\n"
      ]
    },
    {
      "cell_type": "markdown",
      "metadata": {},
      "source": [
        "### 6.1.1 Rename fields\n",
        "\n",
        "LightGBMClassifier ne support pas certain caracteres dans le nom des champs.\n",
        "\n",
        "- <https://stackoverflow.com/questions/60582050/lightgbmerror-do-not-support-special-json-characters-in-feature-name-the-same>\n",
        "\n",
        "On standardise les noms des colonnes pour résoudre ce problème.\n"
      ]
    },
    {
      "cell_type": "code",
      "execution_count": 66,
      "metadata": {},
      "outputs": [
        {
          "data": {
            "text/plain": [
              "'ages_93_years'"
            ]
          },
          "execution_count": 66,
          "metadata": {},
          "output_type": "execute_result"
        }
      ],
      "source": [
        "import re\n",
        "# https://stackoverflow.com/questions/60582050/lightgbmerror-do-not-support-special-json-characters-in-feature-name-the-same\n",
        "\n",
        "\n",
        "def clean_name(old_name):\n",
        "    old_name = old_name.replace(' ', '_')\n",
        "    old_name = re.sub('[^A-Za-z0-9_]+', '', old_name)\n",
        "    old_name = old_name.replace('__', '_')\n",
        "    return old_name\n",
        "\n",
        "\n",
        "# test avec nom temoin\n",
        "clean_name('ages - (93_years)')\n"
      ]
    },
    {
      "cell_type": "code",
      "execution_count": 67,
      "metadata": {},
      "outputs": [
        {
          "name": "stdout",
          "output_type": "stream",
          "text": [
            "                                                          orig  \\\n",
            "109                              NAME_CONTRACT_TYPE_Cash loans   \n",
            "110                         NAME_CONTRACT_TYPE_Revolving loans   \n",
            "113                            NAME_TYPE_SUITE_Group of people   \n",
            "116                            NAME_TYPE_SUITE_Spouse, partner   \n",
            "119                      NAME_INCOME_TYPE_Commercial associate   \n",
            "..                                                         ...   \n",
            "506  PREV_PRODUCT_COMBINATION_POS mobile without interest_MEAN   \n",
            "507      PREV_PRODUCT_COMBINATION_POS other with interest_MEAN   \n",
            "508  PREV_PRODUCT_COMBINATION_POS others without interest_MEAN   \n",
            "567               POS_NAME_CONTRACT_STATUS_Amortized debt_MEAN   \n",
            "572        POS_NAME_CONTRACT_STATUS_Returned to the store_MEAN   \n",
            "\n",
            "                                                           new  \n",
            "109                              NAME_CONTRACT_TYPE_Cash_loans  \n",
            "110                         NAME_CONTRACT_TYPE_Revolving_loans  \n",
            "113                            NAME_TYPE_SUITE_Group_of_people  \n",
            "116                             NAME_TYPE_SUITE_Spouse_partner  \n",
            "119                      NAME_INCOME_TYPE_Commercial_associate  \n",
            "..                                                         ...  \n",
            "506  PREV_PRODUCT_COMBINATION_POS_mobile_without_interest_MEAN  \n",
            "507      PREV_PRODUCT_COMBINATION_POS_other_with_interest_MEAN  \n",
            "508  PREV_PRODUCT_COMBINATION_POS_others_without_interest_MEAN  \n",
            "567               POS_NAME_CONTRACT_STATUS_Amortized_debt_MEAN  \n",
            "572        POS_NAME_CONTRACT_STATUS_Returned_to_the_store_MEAN  \n",
            "\n",
            "[155 rows x 2 columns]\n"
          ]
        }
      ],
      "source": [
        "def clean_column_names(df: pd.DataFrame) -> pd.DataFrame:\n",
        "    cols_orig = df.columns\n",
        "    cols_new = [clean_name(col) for col in cols_orig]\n",
        "    df = df.copy()\n",
        "    df.columns = cols_new\n",
        "    cols_new = df.columns\n",
        "    cols_diff = (cols_orig != cols_new)\n",
        "    if cols_diff.sum() > 0:\n",
        "        cols = pd.concat([pd.Series(cols_orig), pd.Series(cols_new)], axis=1)\n",
        "        cols = cols[cols_diff]\n",
        "        cols.columns = ['orig', 'new']\n",
        "        print(cols)\n",
        "    return df\n",
        "\n",
        "\n",
        "df_data = df_data.pipe(clean_column_names)\n"
      ]
    },
    {
      "cell_type": "markdown",
      "metadata": {},
      "source": [
        "### 6.1.2 Create X (fields), y (target)\n"
      ]
    },
    {
      "cell_type": "code",
      "execution_count": 68,
      "metadata": {},
      "outputs": [
        {
          "data": {
            "text/plain": [
              "[]"
            ]
          },
          "execution_count": 68,
          "metadata": {},
          "output_type": "execute_result"
        }
      ],
      "source": [
        "\n",
        "def create_X_y(df: pd.DataFrame, drop_cols=None):\n",
        "    target = df['TARGET'].copy()\n",
        "    if not drop_cols is None:\n",
        "        df = df.drop(columns=drop_cols)\n",
        "    fields = df.drop(columns=['TARGET'])\n",
        "    return fields, target\n",
        "\n",
        "\n",
        "X, y = create_X_y(df_data)\n",
        "get_non_var_columns(X)\n"
      ]
    },
    {
      "cell_type": "markdown",
      "metadata": {},
      "source": [
        "### 6.1.3 Random Undersample\n",
        "\n",
        "Les données sont 92% de target==0 (très désequilibré)\n",
        "\n",
        "On fait un simple 'undersample' aléatoire pour avoir la même nombre de target==0 et target ==1 pendant feature selection.\n"
      ]
    },
    {
      "cell_type": "code",
      "execution_count": 69,
      "metadata": {},
      "outputs": [
        {
          "name": "stdout",
          "output_type": "stream",
          "text": [
            "<class 'pandas.core.frame.DataFrame'> (307507, 601)\n",
            "<class 'pandas.core.frame.DataFrame'> (49650, 601)\n",
            "<class 'pandas.core.series.Series'> (307507,)\n",
            "<class 'pandas.core.series.Series'> (49650,)\n",
            "\n",
            "y value counts :\n",
            "0    91.927013\n",
            "1     8.072987\n",
            "Name: TARGET, dtype: float64\n",
            "\n",
            "y_resampled value counts :\n",
            "1    50.0\n",
            "0    50.0\n",
            "Name: TARGET, dtype: float64\n"
          ]
        }
      ],
      "source": [
        "rus = imblearn.under_sampling.RandomUnderSampler(random_state=RANDOM_SEED)\n",
        "X_resampled, y_resampled = rus.fit_resample(X, y)\n",
        "print(type(X), X.shape)\n",
        "print(type(X_resampled), X_resampled.shape)\n",
        "print(type(y), y.shape)\n",
        "print(type(y_resampled), y_resampled.shape)\n",
        "\n",
        "print(f'\\ny value counts :')\n",
        "print(y.value_counts(normalize=True)*100)\n",
        "print(f'\\ny_resampled value counts :')\n",
        "print(y_resampled.value_counts(normalize=True)*100)\n"
      ]
    },
    {
      "cell_type": "markdown",
      "metadata": {},
      "source": [
        "Vérifier que les colonnes des données resampled ont toujours des variations de données\n"
      ]
    },
    {
      "cell_type": "code",
      "execution_count": 70,
      "metadata": {},
      "outputs": [
        {
          "data": {
            "text/plain": [
              "['FLAG_MOBIL',\n",
              " 'FLAG_DOCUMENT_10',\n",
              " 'FLAG_DOCUMENT_12',\n",
              " 'NAME_INCOME_TYPE_Businessman',\n",
              " 'NAME_FAMILY_STATUS_Unknown',\n",
              " 'BURO_CREDIT_CURRENCY_currency_4_MEAN',\n",
              " 'BURO_CREDIT_TYPE_Interbank_credit_MEAN',\n",
              " 'BURO_CREDIT_TYPE_Loan_for_purchase_of_shares_margin_lending_MEAN',\n",
              " 'BURO_CREDIT_TYPE_Mobile_operator_loan_MEAN',\n",
              " 'PREV_NAME_GOODS_CATEGORY_Animals_MEAN',\n",
              " 'POS_NAME_CONTRACT_STATUS_XNA_MEAN']"
            ]
          },
          "execution_count": 70,
          "metadata": {},
          "output_type": "execute_result"
        }
      ],
      "source": [
        "non_var_cols = get_non_var_columns(X_resampled)\n",
        "non_var_cols\n"
      ]
    },
    {
      "cell_type": "markdown",
      "metadata": {},
      "source": [
        "Drop colonnes qui ne varie pas après réequilibrage de targets\n"
      ]
    },
    {
      "cell_type": "code",
      "execution_count": 71,
      "metadata": {},
      "outputs": [
        {
          "name": "stdout",
          "output_type": "stream",
          "text": [
            "drop_single_value_cols, nb.cols = 11\n"
          ]
        }
      ],
      "source": [
        "X_resampled = drop_single_value_cols(X_resampled)\n",
        "X = X.drop(columns=non_var_cols)\n",
        "df_data = df_data.drop(columns=non_var_cols)\n"
      ]
    },
    {
      "cell_type": "markdown",
      "metadata": {},
      "source": [
        "### Fill missing values\n",
        "\n",
        "La plupart des modèles ont besoin des données sans NaN\n",
        "\n",
        "Pour simplicité, comme beaucoup des distributions sont très assymetrique, on remplis les valeurs NaN avec la médiane.\n",
        "\n",
        "Après fit du modèle, on peut re'évaluer si on peut améliorer les prédictions\n",
        "\n",
        "- avec KNNImputer pour les features les plus importantes (par exemple),\n",
        "\n",
        "mais c'est plus dificil a justifier ce type d'imputation au client.\n"
      ]
    },
    {
      "cell_type": "code",
      "execution_count": 72,
      "metadata": {},
      "outputs": [],
      "source": [
        "from sklearn.impute import SimpleImputer\n",
        "\n",
        "\n",
        "def fill_missing_values(df, strategy='median'):\n",
        "    \"\"\"\n",
        "    impute missing values, returning a dataframe\n",
        "    Sklearn's SimpleImputer does not currently implement get_features_out, \n",
        "    so cannot easily be used in a pipeline \n",
        "    (otherwise we loose capacity to get feature importances from final classifier)\n",
        "    Impute missing values before pipeline\n",
        "    \"\"\"\n",
        "    imputer = SimpleImputer(strategy='median')\n",
        "    return pd.DataFrame(imputer.fit_transform(df), index=df.index, columns=df.columns)\n",
        "\n",
        "\n",
        "X_filled = fill_missing_values(X_resampled)\n"
      ]
    },
    {
      "cell_type": "code",
      "execution_count": 73,
      "metadata": {},
      "outputs": [
        {
          "data": {
            "text/plain": [
              "[]"
            ]
          },
          "execution_count": 73,
          "metadata": {},
          "output_type": "execute_result"
        }
      ],
      "source": [
        "get_non_var_columns(X_filled)\n"
      ]
    },
    {
      "cell_type": "markdown",
      "metadata": {},
      "source": [
        "Mettre les valeurs de tous les colonnes au même échelle\n"
      ]
    },
    {
      "cell_type": "code",
      "execution_count": 74,
      "metadata": {},
      "outputs": [],
      "source": [
        "from sklearn import preprocessing\n",
        "\n",
        "\n",
        "def scale_dataframe(df: pd.DataFrame, scaler=None) -> pd.DataFrame:\n",
        "    if scaler is None:\n",
        "        scaler = preprocessing.StandardScaler()\n",
        "    return pd.DataFrame(scaler.fit_transform(df), index=df.index, columns=df.columns)\n",
        "\n",
        "\n",
        "X_scaled = scale_dataframe(X_filled, scaler=preprocessing.MinMaxScaler())\n"
      ]
    },
    {
      "cell_type": "markdown",
      "metadata": {},
      "source": [
        "## Ensemble feature selection\n",
        "\n",
        "On peut préselectionner le nombre de features des données à fournir au modélisation.\n",
        "\n",
        "Si MAX_FEATURES = 600, tous les features seront utilisés (trop de bruit)\n",
        "\n",
        "Dans un premier temps, on fix au 100 features sélectionnés les plus souvent par un ensemble de méthodes de feature selection.\n"
      ]
    },
    {
      "cell_type": "code",
      "execution_count": 75,
      "metadata": {},
      "outputs": [],
      "source": [
        "MAX_FEATURES = 100\n"
      ]
    },
    {
      "cell_type": "markdown",
      "metadata": {},
      "source": [
        "### Filter\n",
        "\n",
        "documentation for SelectKBest: http://scikit-learn.org/stable/modules/generated/sklearn.feature_selection.SelectKBest.html\n",
        "\n",
        "### 1.1 Pearson Correlation\n",
        "\n",
        "Les filtres basés sur corrélation suppose un rélation linéaire entre les variables.\n",
        "\n",
        "Comme il y a seulement 2 classes de cible (0 ou 1), on peut considerer le cible comme une variable ordinale, donc on peut utiliser la correlation avec la cible comme un indicateur d'importance du feature.\n",
        "\n",
        "Note\n",
        "\n",
        "- Normalization: no\n",
        "- Impute missing values: yes\n"
      ]
    },
    {
      "cell_type": "code",
      "execution_count": 76,
      "metadata": {},
      "outputs": [
        {
          "name": "stdout",
          "output_type": "stream",
          "text": [
            "Correlation - done in 1s\n",
            "100 selected features\n"
          ]
        }
      ],
      "source": [
        "def cor_selector(X_, y_):\n",
        "    cor_list = []\n",
        "    # calculate the correlation with y for each feature\n",
        "    feature_names = X.columns.tolist()\n",
        "    for feature in feature_names:\n",
        "        cor = np.corrcoef(X_[feature], y_)[0, 1]\n",
        "        cor_list.append(cor)\n",
        "    # replace NaN with 0\n",
        "    cor_list = [0 if np.isnan(i) else i for i in cor_list]\n",
        "    # feature name\n",
        "    cor_feature = X_.iloc[:, np.argsort(\n",
        "        np.abs(cor_list))[-MAX_FEATURES:]].columns.tolist()\n",
        "    # feature selection? 0 for not select, 1 for select\n",
        "    cor_support = [\n",
        "        True if feature in cor_feature else False for feature in feature_names]\n",
        "    return cor_support, cor_feature\n",
        "\n",
        "\n",
        "with timer('Correlation'):\n",
        "    cor_support, cor_feature = cor_selector(X_filled, y_resampled)\n",
        "print(str(len(cor_feature)), 'selected features')\n"
      ]
    },
    {
      "cell_type": "markdown",
      "metadata": {},
      "source": [
        "### 1.2 Chi-2\n",
        "\n",
        "Note\n",
        "\n",
        "- Normalization: MinMaxScaler (values should be bigger than 0)\n",
        "- Impute missing values: yes\n"
      ]
    },
    {
      "cell_type": "code",
      "execution_count": 77,
      "metadata": {},
      "outputs": [
        {
          "name": "stdout",
          "output_type": "stream",
          "text": [
            "Chi_selector - done in 0s\n",
            "100 selected features\n"
          ]
        }
      ],
      "source": [
        "from sklearn.feature_selection import SelectKBest\n",
        "from sklearn.feature_selection import chi2\n",
        "from sklearn.preprocessing import MinMaxScaler\n",
        "\n",
        "chi_selector = SelectKBest(chi2, k=MAX_FEATURES)\n",
        "with timer('Chi_selector'):\n",
        "    chi_selector.fit(X_scaled, y_resampled)\n",
        "chi_support = chi_selector.get_support()\n",
        "chi_feature = X_scaled.loc[:, chi_support].columns.tolist()\n",
        "print(str(len(chi_feature)), 'selected features')\n"
      ]
    },
    {
      "cell_type": "markdown",
      "metadata": {},
      "source": [
        "### 2. Wrapper\n",
        "\n",
        "documentation for RFE: http://scikit-learn.org/stable/modules/generated/sklearn.feature_selection.RFE.html\n",
        "\n",
        "Note:\n",
        "\n",
        "- Normalization: depend on the used model; yes for LR\n",
        "- Impute missing values: depend on the used model; yes for LR\n"
      ]
    },
    {
      "cell_type": "code",
      "execution_count": 81,
      "metadata": {},
      "outputs": [
        {
          "name": "stdout",
          "output_type": "stream",
          "text": [
            "Recursive Feature Elimination (RidgeClassifier) - done in 28s\n",
            "100 selected features\n"
          ]
        }
      ],
      "source": [
        "from sklearn.feature_selection import RFE\n",
        "from sklearn.linear_model import RidgeClassifier\n",
        "\n",
        "# Utilise un autre Classifier pour meilleur résultats\n",
        "# On utilise RidgeClassifier ici pour vitesse, car RFE peut être très chronophage\n",
        "rfe_selector = RFE(estimator=RidgeClassifier(alpha=2000),\n",
        "                   n_features_to_select=MAX_FEATURES,\n",
        "                   step=10, verbose=False)\n",
        "with timer('Recursive Feature Elimination (RidgeClassifier)'):\n",
        "    rfe_selector.fit(X_scaled, y_resampled)\n",
        "rfe_support = rfe_selector.get_support()\n",
        "rfe_feature = X_scaled.loc[:, rfe_support].columns.tolist()\n",
        "print(str(len(rfe_feature)), 'selected features')\n"
      ]
    },
    {
      "cell_type": "markdown",
      "metadata": {},
      "source": [
        "### 3. Embedded\n",
        "\n",
        "documentation for SelectFromModel: http://scikit-learn.org/stable/modules/generated/sklearn.feature_selection.SelectFromModel.html\n",
        "\n",
        "### 3.1 Logistics Regression L1\n",
        "\n",
        "Note\n",
        "\n",
        "- Normalization: Yes\n",
        "- Impute missing values: Yes\n"
      ]
    },
    {
      "cell_type": "code",
      "execution_count": 84,
      "metadata": {},
      "outputs": [
        {
          "name": "stdout",
          "output_type": "stream",
          "text": [
            "LogisticRegression - done in 147s\n",
            "100 selected features\n"
          ]
        }
      ],
      "source": [
        "from sklearn.feature_selection import SelectFromModel\n",
        "from sklearn.linear_model import LogisticRegression\n",
        "\n",
        "embedded_lr_selector = SelectFromModel(LogisticRegression(penalty='l1', solver='liblinear'), max_features=MAX_FEATURES)\n",
        "with timer('LogisticRegression'):\n",
        "    embedded_lr_selector.fit(X_scaled, y_resampled)\n",
        "embedded_lr_support = embedded_lr_selector.get_support()\n",
        "embedded_lr_feature = X_scaled.loc[:, embedded_lr_support].columns.tolist()\n",
        "print(str(len(embedded_lr_feature)), 'selected features')\n"
      ]
    },
    {
      "cell_type": "markdown",
      "metadata": {},
      "source": [
        "### 3.2 Random Forest\n",
        "\n",
        "Note\n",
        "\n",
        "- Normalization: No\n",
        "- Impute missing values: Yes\n"
      ]
    },
    {
      "cell_type": "code",
      "execution_count": 85,
      "metadata": {},
      "outputs": [
        {
          "name": "stdout",
          "output_type": "stream",
          "text": [
            "Random Forest - done in 51s\n",
            "100 selected features\n"
          ]
        }
      ],
      "source": [
        "from sklearn.feature_selection import SelectFromModel\n",
        "from sklearn.ensemble import RandomForestClassifier\n",
        "\n",
        "embedded_rf_selector = SelectFromModel(RandomForestClassifier(\n",
        "    n_estimators=100), max_features=MAX_FEATURES)\n",
        "with timer('Random Forest'):\n",
        "    embedded_rf_selector.fit(X_filled, y_resampled)\n",
        "embedded_rf_support = embedded_rf_selector.get_support()\n",
        "embedded_rf_feature = X_filled.loc[:, embedded_rf_support].columns.tolist()\n",
        "print(str(len(embedded_rf_feature)), 'selected features')\n"
      ]
    },
    {
      "cell_type": "markdown",
      "metadata": {},
      "source": [
        "### 3.3 LightGBM\n",
        "\n",
        "Note\n",
        "\n",
        "- Normalization: No\n",
        "- Impute missing values: No\n"
      ]
    },
    {
      "cell_type": "code",
      "execution_count": 86,
      "metadata": {},
      "outputs": [
        {
          "name": "stdout",
          "output_type": "stream",
          "text": [
            "LightGBM - done in 30s\n",
            "100 selected features\n"
          ]
        }
      ],
      "source": [
        "from sklearn.feature_selection import SelectFromModel\n",
        "from lightgbm import LGBMClassifier\n",
        "\n",
        "lgbc = LGBMClassifier(n_estimators=500, learning_rate=0.05, num_leaves=32, colsample_bytree=0.2,\n",
        "                      reg_alpha=3, reg_lambda=1, min_split_gain=0.01, min_child_weight=40)\n",
        "\n",
        "embedded_lgb_selector = SelectFromModel(lgbc, max_features=MAX_FEATURES)\n",
        "with timer('LightGBM'):\n",
        "    embedded_lgb_selector.fit(X_resampled, y_resampled)\n",
        "embedded_lgb_support = embedded_lgb_selector.get_support()\n",
        "embedded_lgb_feature = X_resampled.loc[:, embedded_lgb_support].columns.tolist()\n",
        "print(str(len(embedded_lgb_feature)), 'selected features')\n"
      ]
    },
    {
      "cell_type": "markdown",
      "metadata": {},
      "source": [
        "## Comparaison des 100 'best' features selectionnés\n"
      ]
    },
    {
      "cell_type": "code",
      "execution_count": 87,
      "metadata": {},
      "outputs": [
        {
          "data": {
            "text/html": [
              "<div>\n",
              "<style scoped>\n",
              "    .dataframe tbody tr th:only-of-type {\n",
              "        vertical-align: middle;\n",
              "    }\n",
              "\n",
              "    .dataframe tbody tr th {\n",
              "        vertical-align: top;\n",
              "    }\n",
              "\n",
              "    .dataframe thead th {\n",
              "        text-align: right;\n",
              "    }\n",
              "</style>\n",
              "<table border=\"1\" class=\"dataframe\">\n",
              "  <thead>\n",
              "    <tr style=\"text-align: right;\">\n",
              "      <th></th>\n",
              "      <th>Feature</th>\n",
              "      <th>Pearson</th>\n",
              "      <th>Chi-2</th>\n",
              "      <th>RFE</th>\n",
              "      <th>Logistics</th>\n",
              "      <th>Random Forest</th>\n",
              "      <th>LightGBM</th>\n",
              "      <th>Total</th>\n",
              "    </tr>\n",
              "  </thead>\n",
              "  <tbody>\n",
              "    <tr>\n",
              "      <th>1</th>\n",
              "      <td>EXT_SOURCE_3</td>\n",
              "      <td>True</td>\n",
              "      <td>True</td>\n",
              "      <td>True</td>\n",
              "      <td>True</td>\n",
              "      <td>True</td>\n",
              "      <td>True</td>\n",
              "      <td>6</td>\n",
              "    </tr>\n",
              "    <tr>\n",
              "      <th>2</th>\n",
              "      <td>EXT_SOURCE_2</td>\n",
              "      <td>True</td>\n",
              "      <td>True</td>\n",
              "      <td>True</td>\n",
              "      <td>True</td>\n",
              "      <td>True</td>\n",
              "      <td>True</td>\n",
              "      <td>6</td>\n",
              "    </tr>\n",
              "    <tr>\n",
              "      <th>3</th>\n",
              "      <td>EXT_SOURCE_1</td>\n",
              "      <td>True</td>\n",
              "      <td>True</td>\n",
              "      <td>True</td>\n",
              "      <td>True</td>\n",
              "      <td>True</td>\n",
              "      <td>True</td>\n",
              "      <td>6</td>\n",
              "    </tr>\n",
              "    <tr>\n",
              "      <th>4</th>\n",
              "      <td>PREV_DAYS_DECISION_MIN</td>\n",
              "      <td>True</td>\n",
              "      <td>True</td>\n",
              "      <td>True</td>\n",
              "      <td>False</td>\n",
              "      <td>True</td>\n",
              "      <td>True</td>\n",
              "      <td>5</td>\n",
              "    </tr>\n",
              "    <tr>\n",
              "      <th>5</th>\n",
              "      <td>PREV_AMT_ANNUITY_MEAN</td>\n",
              "      <td>True</td>\n",
              "      <td>False</td>\n",
              "      <td>True</td>\n",
              "      <td>True</td>\n",
              "      <td>True</td>\n",
              "      <td>True</td>\n",
              "      <td>5</td>\n",
              "    </tr>\n",
              "    <tr>\n",
              "      <th>6</th>\n",
              "      <td>DAYS_ID_PUBLISH</td>\n",
              "      <td>True</td>\n",
              "      <td>True</td>\n",
              "      <td>True</td>\n",
              "      <td>False</td>\n",
              "      <td>True</td>\n",
              "      <td>True</td>\n",
              "      <td>5</td>\n",
              "    </tr>\n",
              "    <tr>\n",
              "      <th>7</th>\n",
              "      <td>DAYS_EMPLOYED_PERC</td>\n",
              "      <td>True</td>\n",
              "      <td>True</td>\n",
              "      <td>True</td>\n",
              "      <td>False</td>\n",
              "      <td>True</td>\n",
              "      <td>True</td>\n",
              "      <td>5</td>\n",
              "    </tr>\n",
              "    <tr>\n",
              "      <th>8</th>\n",
              "      <td>DAYS_EMPLOYED</td>\n",
              "      <td>True</td>\n",
              "      <td>False</td>\n",
              "      <td>True</td>\n",
              "      <td>True</td>\n",
              "      <td>True</td>\n",
              "      <td>True</td>\n",
              "      <td>5</td>\n",
              "    </tr>\n",
              "    <tr>\n",
              "      <th>9</th>\n",
              "      <td>DAYS_BIRTH</td>\n",
              "      <td>True</td>\n",
              "      <td>True</td>\n",
              "      <td>True</td>\n",
              "      <td>False</td>\n",
              "      <td>True</td>\n",
              "      <td>True</td>\n",
              "      <td>5</td>\n",
              "    </tr>\n",
              "    <tr>\n",
              "      <th>10</th>\n",
              "      <td>CLOSED_DAYS_CREDIT_MIN</td>\n",
              "      <td>True</td>\n",
              "      <td>True</td>\n",
              "      <td>True</td>\n",
              "      <td>False</td>\n",
              "      <td>True</td>\n",
              "      <td>True</td>\n",
              "      <td>5</td>\n",
              "    </tr>\n",
              "    <tr>\n",
              "      <th>11</th>\n",
              "      <td>BURO_DAYS_CREDIT_MEAN</td>\n",
              "      <td>True</td>\n",
              "      <td>True</td>\n",
              "      <td>True</td>\n",
              "      <td>False</td>\n",
              "      <td>True</td>\n",
              "      <td>True</td>\n",
              "      <td>5</td>\n",
              "    </tr>\n",
              "    <tr>\n",
              "      <th>12</th>\n",
              "      <td>APPROVED_DAYS_DECISION_MIN</td>\n",
              "      <td>True</td>\n",
              "      <td>True</td>\n",
              "      <td>True</td>\n",
              "      <td>True</td>\n",
              "      <td>True</td>\n",
              "      <td>False</td>\n",
              "      <td>5</td>\n",
              "    </tr>\n",
              "    <tr>\n",
              "      <th>13</th>\n",
              "      <td>APPROVED_AMT_ANNUITY_MEAN</td>\n",
              "      <td>True</td>\n",
              "      <td>False</td>\n",
              "      <td>True</td>\n",
              "      <td>True</td>\n",
              "      <td>True</td>\n",
              "      <td>True</td>\n",
              "      <td>5</td>\n",
              "    </tr>\n",
              "    <tr>\n",
              "      <th>14</th>\n",
              "      <td>APPROVED_AMT_ANNUITY_MAX</td>\n",
              "      <td>True</td>\n",
              "      <td>False</td>\n",
              "      <td>True</td>\n",
              "      <td>True</td>\n",
              "      <td>True</td>\n",
              "      <td>True</td>\n",
              "      <td>5</td>\n",
              "    </tr>\n",
              "    <tr>\n",
              "      <th>15</th>\n",
              "      <td>ACTIVE_DAYS_CREDIT_MEAN</td>\n",
              "      <td>True</td>\n",
              "      <td>False</td>\n",
              "      <td>True</td>\n",
              "      <td>True</td>\n",
              "      <td>True</td>\n",
              "      <td>True</td>\n",
              "      <td>5</td>\n",
              "    </tr>\n",
              "    <tr>\n",
              "      <th>16</th>\n",
              "      <td>ACTIVE_DAYS_CREDIT_ENDDATE_MAX</td>\n",
              "      <td>True</td>\n",
              "      <td>False</td>\n",
              "      <td>True</td>\n",
              "      <td>True</td>\n",
              "      <td>True</td>\n",
              "      <td>True</td>\n",
              "      <td>5</td>\n",
              "    </tr>\n",
              "    <tr>\n",
              "      <th>17</th>\n",
              "      <td>PREV_PRODUCT_COMBINATION_Cash_XSell_low_MEAN</td>\n",
              "      <td>True</td>\n",
              "      <td>True</td>\n",
              "      <td>True</td>\n",
              "      <td>True</td>\n",
              "      <td>False</td>\n",
              "      <td>False</td>\n",
              "      <td>4</td>\n",
              "    </tr>\n",
              "    <tr>\n",
              "      <th>18</th>\n",
              "      <td>PREV_NAME_YIELD_GROUP_high_MEAN</td>\n",
              "      <td>True</td>\n",
              "      <td>True</td>\n",
              "      <td>True</td>\n",
              "      <td>False</td>\n",
              "      <td>False</td>\n",
              "      <td>True</td>\n",
              "      <td>4</td>\n",
              "    </tr>\n",
              "    <tr>\n",
              "      <th>19</th>\n",
              "      <td>PREV_NAME_CONTRACT_STATUS_Approved_MEAN</td>\n",
              "      <td>True</td>\n",
              "      <td>True</td>\n",
              "      <td>True</td>\n",
              "      <td>False</td>\n",
              "      <td>False</td>\n",
              "      <td>True</td>\n",
              "      <td>4</td>\n",
              "    </tr>\n",
              "    <tr>\n",
              "      <th>20</th>\n",
              "      <td>PREV_CNT_PAYMENT_MEAN</td>\n",
              "      <td>False</td>\n",
              "      <td>False</td>\n",
              "      <td>True</td>\n",
              "      <td>True</td>\n",
              "      <td>True</td>\n",
              "      <td>True</td>\n",
              "      <td>4</td>\n",
              "    </tr>\n",
              "    <tr>\n",
              "      <th>21</th>\n",
              "      <td>PREV_AMT_ANNUITY_MIN</td>\n",
              "      <td>True</td>\n",
              "      <td>False</td>\n",
              "      <td>True</td>\n",
              "      <td>False</td>\n",
              "      <td>True</td>\n",
              "      <td>True</td>\n",
              "      <td>4</td>\n",
              "    </tr>\n",
              "    <tr>\n",
              "      <th>22</th>\n",
              "      <td>PAYMENT_RATE</td>\n",
              "      <td>False</td>\n",
              "      <td>False</td>\n",
              "      <td>True</td>\n",
              "      <td>True</td>\n",
              "      <td>True</td>\n",
              "      <td>True</td>\n",
              "      <td>4</td>\n",
              "    </tr>\n",
              "    <tr>\n",
              "      <th>23</th>\n",
              "      <td>INSTAL_PAYMENT_DIFF_SUM</td>\n",
              "      <td>True</td>\n",
              "      <td>False</td>\n",
              "      <td>True</td>\n",
              "      <td>True</td>\n",
              "      <td>False</td>\n",
              "      <td>True</td>\n",
              "      <td>4</td>\n",
              "    </tr>\n",
              "    <tr>\n",
              "      <th>24</th>\n",
              "      <td>INSTAL_PAYMENT_DIFF_MEAN</td>\n",
              "      <td>True</td>\n",
              "      <td>False</td>\n",
              "      <td>False</td>\n",
              "      <td>True</td>\n",
              "      <td>True</td>\n",
              "      <td>True</td>\n",
              "      <td>4</td>\n",
              "    </tr>\n",
              "    <tr>\n",
              "      <th>25</th>\n",
              "      <td>INSTAL_DAYS_ENTRY_PAYMENT_SUM</td>\n",
              "      <td>True</td>\n",
              "      <td>False</td>\n",
              "      <td>False</td>\n",
              "      <td>True</td>\n",
              "      <td>True</td>\n",
              "      <td>True</td>\n",
              "      <td>4</td>\n",
              "    </tr>\n",
              "    <tr>\n",
              "      <th>26</th>\n",
              "      <td>INSTAL_DAYS_ENTRY_PAYMENT_MEAN</td>\n",
              "      <td>True</td>\n",
              "      <td>False</td>\n",
              "      <td>False</td>\n",
              "      <td>True</td>\n",
              "      <td>True</td>\n",
              "      <td>True</td>\n",
              "      <td>4</td>\n",
              "    </tr>\n",
              "    <tr>\n",
              "      <th>27</th>\n",
              "      <td>INSTAL_DAYS_ENTRY_PAYMENT_MAX</td>\n",
              "      <td>False</td>\n",
              "      <td>False</td>\n",
              "      <td>True</td>\n",
              "      <td>True</td>\n",
              "      <td>True</td>\n",
              "      <td>True</td>\n",
              "      <td>4</td>\n",
              "    </tr>\n",
              "    <tr>\n",
              "      <th>28</th>\n",
              "      <td>INSTAL_AMT_PAYMENT_MAX</td>\n",
              "      <td>False</td>\n",
              "      <td>False</td>\n",
              "      <td>True</td>\n",
              "      <td>True</td>\n",
              "      <td>True</td>\n",
              "      <td>True</td>\n",
              "      <td>4</td>\n",
              "    </tr>\n",
              "    <tr>\n",
              "      <th>29</th>\n",
              "      <td>DAYS_REGISTRATION</td>\n",
              "      <td>True</td>\n",
              "      <td>False</td>\n",
              "      <td>True</td>\n",
              "      <td>False</td>\n",
              "      <td>True</td>\n",
              "      <td>True</td>\n",
              "      <td>4</td>\n",
              "    </tr>\n",
              "    <tr>\n",
              "      <th>30</th>\n",
              "      <td>DAYS_LAST_PHONE_CHANGE</td>\n",
              "      <td>True</td>\n",
              "      <td>False</td>\n",
              "      <td>True</td>\n",
              "      <td>False</td>\n",
              "      <td>True</td>\n",
              "      <td>True</td>\n",
              "      <td>4</td>\n",
              "    </tr>\n",
              "    <tr>\n",
              "      <th>31</th>\n",
              "      <td>CODE_GENDER</td>\n",
              "      <td>True</td>\n",
              "      <td>True</td>\n",
              "      <td>True</td>\n",
              "      <td>False</td>\n",
              "      <td>False</td>\n",
              "      <td>True</td>\n",
              "      <td>4</td>\n",
              "    </tr>\n",
              "    <tr>\n",
              "      <th>32</th>\n",
              "      <td>BURO_DAYS_CREDIT_MIN</td>\n",
              "      <td>True</td>\n",
              "      <td>True</td>\n",
              "      <td>False</td>\n",
              "      <td>False</td>\n",
              "      <td>True</td>\n",
              "      <td>True</td>\n",
              "      <td>4</td>\n",
              "    </tr>\n",
              "    <tr>\n",
              "      <th>33</th>\n",
              "      <td>BURO_CREDIT_ACTIVE_Closed_MEAN</td>\n",
              "      <td>True</td>\n",
              "      <td>True</td>\n",
              "      <td>True</td>\n",
              "      <td>False</td>\n",
              "      <td>True</td>\n",
              "      <td>False</td>\n",
              "      <td>4</td>\n",
              "    </tr>\n",
              "    <tr>\n",
              "      <th>34</th>\n",
              "      <td>ANNUITY_INCOME_PERC</td>\n",
              "      <td>False</td>\n",
              "      <td>False</td>\n",
              "      <td>True</td>\n",
              "      <td>True</td>\n",
              "      <td>True</td>\n",
              "      <td>True</td>\n",
              "      <td>4</td>\n",
              "    </tr>\n",
              "    <tr>\n",
              "      <th>35</th>\n",
              "      <td>AMT_GOODS_PRICE</td>\n",
              "      <td>True</td>\n",
              "      <td>False</td>\n",
              "      <td>False</td>\n",
              "      <td>True</td>\n",
              "      <td>True</td>\n",
              "      <td>True</td>\n",
              "      <td>4</td>\n",
              "    </tr>\n",
              "    <tr>\n",
              "      <th>36</th>\n",
              "      <td>AMT_CREDIT</td>\n",
              "      <td>True</td>\n",
              "      <td>False</td>\n",
              "      <td>False</td>\n",
              "      <td>True</td>\n",
              "      <td>True</td>\n",
              "      <td>True</td>\n",
              "      <td>4</td>\n",
              "    </tr>\n",
              "    <tr>\n",
              "      <th>37</th>\n",
              "      <td>ACTIVE_DAYS_CREDIT_MAX</td>\n",
              "      <td>True</td>\n",
              "      <td>False</td>\n",
              "      <td>True</td>\n",
              "      <td>False</td>\n",
              "      <td>True</td>\n",
              "      <td>True</td>\n",
              "      <td>4</td>\n",
              "    </tr>\n",
              "    <tr>\n",
              "      <th>38</th>\n",
              "      <td>WALLSMATERIAL_MODE_Panel</td>\n",
              "      <td>True</td>\n",
              "      <td>True</td>\n",
              "      <td>True</td>\n",
              "      <td>False</td>\n",
              "      <td>False</td>\n",
              "      <td>False</td>\n",
              "      <td>3</td>\n",
              "    </tr>\n",
              "    <tr>\n",
              "      <th>39</th>\n",
              "      <td>REG_CITY_NOT_LIVE_CITY</td>\n",
              "      <td>True</td>\n",
              "      <td>True</td>\n",
              "      <td>True</td>\n",
              "      <td>False</td>\n",
              "      <td>False</td>\n",
              "      <td>False</td>\n",
              "      <td>3</td>\n",
              "    </tr>\n",
              "    <tr>\n",
              "      <th>40</th>\n",
              "      <td>REGION_RATING_CLIENT_W_CITY</td>\n",
              "      <td>True</td>\n",
              "      <td>True</td>\n",
              "      <td>True</td>\n",
              "      <td>False</td>\n",
              "      <td>False</td>\n",
              "      <td>False</td>\n",
              "      <td>3</td>\n",
              "    </tr>\n",
              "    <tr>\n",
              "      <th>41</th>\n",
              "      <td>REGION_RATING_CLIENT</td>\n",
              "      <td>True</td>\n",
              "      <td>True</td>\n",
              "      <td>True</td>\n",
              "      <td>False</td>\n",
              "      <td>False</td>\n",
              "      <td>False</td>\n",
              "      <td>3</td>\n",
              "    </tr>\n",
              "    <tr>\n",
              "      <th>42</th>\n",
              "      <td>REGION_POPULATION_RELATIVE</td>\n",
              "      <td>True</td>\n",
              "      <td>False</td>\n",
              "      <td>False</td>\n",
              "      <td>False</td>\n",
              "      <td>True</td>\n",
              "      <td>True</td>\n",
              "      <td>3</td>\n",
              "    </tr>\n",
              "    <tr>\n",
              "      <th>43</th>\n",
              "      <td>PREV_PRODUCT_COMBINATION_POS_industry_with_interest_MEAN</td>\n",
              "      <td>True</td>\n",
              "      <td>True</td>\n",
              "      <td>True</td>\n",
              "      <td>False</td>\n",
              "      <td>False</td>\n",
              "      <td>False</td>\n",
              "      <td>3</td>\n",
              "    </tr>\n",
              "    <tr>\n",
              "      <th>44</th>\n",
              "      <td>PREV_NAME_SELLER_INDUSTRY_Furniture_MEAN</td>\n",
              "      <td>True</td>\n",
              "      <td>True</td>\n",
              "      <td>True</td>\n",
              "      <td>False</td>\n",
              "      <td>False</td>\n",
              "      <td>False</td>\n",
              "      <td>3</td>\n",
              "    </tr>\n",
              "    <tr>\n",
              "      <th>45</th>\n",
              "      <td>PREV_NAME_PRODUCT_TYPE_walkin_MEAN</td>\n",
              "      <td>True</td>\n",
              "      <td>True</td>\n",
              "      <td>True</td>\n",
              "      <td>False</td>\n",
              "      <td>False</td>\n",
              "      <td>False</td>\n",
              "      <td>3</td>\n",
              "    </tr>\n",
              "    <tr>\n",
              "      <th>46</th>\n",
              "      <td>PREV_NAME_PORTFOLIO_Cards_MEAN</td>\n",
              "      <td>True</td>\n",
              "      <td>True</td>\n",
              "      <td>True</td>\n",
              "      <td>False</td>\n",
              "      <td>False</td>\n",
              "      <td>False</td>\n",
              "      <td>3</td>\n",
              "    </tr>\n",
              "    <tr>\n",
              "      <th>47</th>\n",
              "      <td>PREV_NAME_GOODS_CATEGORY_Furniture_MEAN</td>\n",
              "      <td>True</td>\n",
              "      <td>True</td>\n",
              "      <td>True</td>\n",
              "      <td>False</td>\n",
              "      <td>False</td>\n",
              "      <td>False</td>\n",
              "      <td>3</td>\n",
              "    </tr>\n",
              "    <tr>\n",
              "      <th>48</th>\n",
              "      <td>PREV_NAME_CONTRACT_TYPE_Revolving_loans_MEAN</td>\n",
              "      <td>True</td>\n",
              "      <td>True</td>\n",
              "      <td>True</td>\n",
              "      <td>False</td>\n",
              "      <td>False</td>\n",
              "      <td>False</td>\n",
              "      <td>3</td>\n",
              "    </tr>\n",
              "    <tr>\n",
              "      <th>49</th>\n",
              "      <td>PREV_NAME_CONTRACT_STATUS_Refused_MEAN</td>\n",
              "      <td>True</td>\n",
              "      <td>True</td>\n",
              "      <td>True</td>\n",
              "      <td>False</td>\n",
              "      <td>False</td>\n",
              "      <td>False</td>\n",
              "      <td>3</td>\n",
              "    </tr>\n",
              "    <tr>\n",
              "      <th>50</th>\n",
              "      <td>PREV_DAYS_DECISION_MEAN</td>\n",
              "      <td>True</td>\n",
              "      <td>False</td>\n",
              "      <td>False</td>\n",
              "      <td>False</td>\n",
              "      <td>True</td>\n",
              "      <td>True</td>\n",
              "      <td>3</td>\n",
              "    </tr>\n",
              "    <tr>\n",
              "      <th>51</th>\n",
              "      <td>PREV_CODE_REJECT_REASON_XAP_MEAN</td>\n",
              "      <td>True</td>\n",
              "      <td>True</td>\n",
              "      <td>True</td>\n",
              "      <td>False</td>\n",
              "      <td>False</td>\n",
              "      <td>False</td>\n",
              "      <td>3</td>\n",
              "    </tr>\n",
              "    <tr>\n",
              "      <th>52</th>\n",
              "      <td>PREV_CODE_REJECT_REASON_LIMIT_MEAN</td>\n",
              "      <td>True</td>\n",
              "      <td>True</td>\n",
              "      <td>True</td>\n",
              "      <td>False</td>\n",
              "      <td>False</td>\n",
              "      <td>False</td>\n",
              "      <td>3</td>\n",
              "    </tr>\n",
              "    <tr>\n",
              "      <th>53</th>\n",
              "      <td>PREV_CODE_REJECT_REASON_HC_MEAN</td>\n",
              "      <td>True</td>\n",
              "      <td>True</td>\n",
              "      <td>True</td>\n",
              "      <td>False</td>\n",
              "      <td>False</td>\n",
              "      <td>False</td>\n",
              "      <td>3</td>\n",
              "    </tr>\n",
              "    <tr>\n",
              "      <th>54</th>\n",
              "      <td>PREV_CHANNEL_TYPE_AP_Cash_loan_MEAN</td>\n",
              "      <td>True</td>\n",
              "      <td>True</td>\n",
              "      <td>True</td>\n",
              "      <td>False</td>\n",
              "      <td>False</td>\n",
              "      <td>False</td>\n",
              "      <td>3</td>\n",
              "    </tr>\n",
              "    <tr>\n",
              "      <th>55</th>\n",
              "      <td>PREV_APP_CREDIT_PERC_MEAN</td>\n",
              "      <td>True</td>\n",
              "      <td>False</td>\n",
              "      <td>False</td>\n",
              "      <td>False</td>\n",
              "      <td>True</td>\n",
              "      <td>True</td>\n",
              "      <td>3</td>\n",
              "    </tr>\n",
              "    <tr>\n",
              "      <th>56</th>\n",
              "      <td>PREV_AMT_GOODS_PRICE_MEAN</td>\n",
              "      <td>False</td>\n",
              "      <td>False</td>\n",
              "      <td>False</td>\n",
              "      <td>True</td>\n",
              "      <td>True</td>\n",
              "      <td>True</td>\n",
              "      <td>3</td>\n",
              "    </tr>\n",
              "    <tr>\n",
              "      <th>57</th>\n",
              "      <td>POS_MONTHS_BALANCE_SIZE</td>\n",
              "      <td>False</td>\n",
              "      <td>False</td>\n",
              "      <td>False</td>\n",
              "      <td>True</td>\n",
              "      <td>True</td>\n",
              "      <td>True</td>\n",
              "      <td>3</td>\n",
              "    </tr>\n",
              "    <tr>\n",
              "      <th>58</th>\n",
              "      <td>POS_COUNT</td>\n",
              "      <td>False</td>\n",
              "      <td>False</td>\n",
              "      <td>False</td>\n",
              "      <td>True</td>\n",
              "      <td>True</td>\n",
              "      <td>True</td>\n",
              "      <td>3</td>\n",
              "    </tr>\n",
              "    <tr>\n",
              "      <th>59</th>\n",
              "      <td>OWN_CAR_AGE</td>\n",
              "      <td>False</td>\n",
              "      <td>False</td>\n",
              "      <td>True</td>\n",
              "      <td>True</td>\n",
              "      <td>False</td>\n",
              "      <td>True</td>\n",
              "      <td>3</td>\n",
              "    </tr>\n",
              "    <tr>\n",
              "      <th>60</th>\n",
              "      <td>ORGANIZATION_TYPE_Military</td>\n",
              "      <td>False</td>\n",
              "      <td>True</td>\n",
              "      <td>True</td>\n",
              "      <td>True</td>\n",
              "      <td>False</td>\n",
              "      <td>False</td>\n",
              "      <td>3</td>\n",
              "    </tr>\n",
              "    <tr>\n",
              "      <th>61</th>\n",
              "      <td>OCCUPATION_TYPE_Laborers</td>\n",
              "      <td>True</td>\n",
              "      <td>True</td>\n",
              "      <td>True</td>\n",
              "      <td>False</td>\n",
              "      <td>False</td>\n",
              "      <td>False</td>\n",
              "      <td>3</td>\n",
              "    </tr>\n",
              "    <tr>\n",
              "      <th>62</th>\n",
              "      <td>NAME_INCOME_TYPE_Working</td>\n",
              "      <td>True</td>\n",
              "      <td>True</td>\n",
              "      <td>True</td>\n",
              "      <td>False</td>\n",
              "      <td>False</td>\n",
              "      <td>False</td>\n",
              "      <td>3</td>\n",
              "    </tr>\n",
              "    <tr>\n",
              "      <th>63</th>\n",
              "      <td>NAME_INCOME_TYPE_Pensioner</td>\n",
              "      <td>True</td>\n",
              "      <td>True</td>\n",
              "      <td>False</td>\n",
              "      <td>True</td>\n",
              "      <td>False</td>\n",
              "      <td>False</td>\n",
              "      <td>3</td>\n",
              "    </tr>\n",
              "    <tr>\n",
              "      <th>64</th>\n",
              "      <td>NAME_EDUCATION_TYPE_Secondary_secondary_special</td>\n",
              "      <td>True</td>\n",
              "      <td>True</td>\n",
              "      <td>True</td>\n",
              "      <td>False</td>\n",
              "      <td>False</td>\n",
              "      <td>False</td>\n",
              "      <td>3</td>\n",
              "    </tr>\n",
              "    <tr>\n",
              "      <th>65</th>\n",
              "      <td>NAME_EDUCATION_TYPE_Higher_education</td>\n",
              "      <td>True</td>\n",
              "      <td>True</td>\n",
              "      <td>True</td>\n",
              "      <td>False</td>\n",
              "      <td>False</td>\n",
              "      <td>False</td>\n",
              "      <td>3</td>\n",
              "    </tr>\n",
              "    <tr>\n",
              "      <th>66</th>\n",
              "      <td>NAME_CONTRACT_TYPE_Revolving_loans</td>\n",
              "      <td>True</td>\n",
              "      <td>True</td>\n",
              "      <td>True</td>\n",
              "      <td>False</td>\n",
              "      <td>False</td>\n",
              "      <td>False</td>\n",
              "      <td>3</td>\n",
              "    </tr>\n",
              "    <tr>\n",
              "      <th>67</th>\n",
              "      <td>INSTAL_DBD_SUM</td>\n",
              "      <td>False</td>\n",
              "      <td>False</td>\n",
              "      <td>False</td>\n",
              "      <td>True</td>\n",
              "      <td>True</td>\n",
              "      <td>True</td>\n",
              "      <td>3</td>\n",
              "    </tr>\n",
              "    <tr>\n",
              "      <th>68</th>\n",
              "      <td>INSTAL_DBD_MEAN</td>\n",
              "      <td>False</td>\n",
              "      <td>False</td>\n",
              "      <td>False</td>\n",
              "      <td>True</td>\n",
              "      <td>True</td>\n",
              "      <td>True</td>\n",
              "      <td>3</td>\n",
              "    </tr>\n",
              "    <tr>\n",
              "      <th>69</th>\n",
              "      <td>INSTAL_AMT_PAYMENT_SUM</td>\n",
              "      <td>False</td>\n",
              "      <td>False</td>\n",
              "      <td>False</td>\n",
              "      <td>True</td>\n",
              "      <td>True</td>\n",
              "      <td>True</td>\n",
              "      <td>3</td>\n",
              "    </tr>\n",
              "    <tr>\n",
              "      <th>70</th>\n",
              "      <td>INSTAL_AMT_PAYMENT_MIN</td>\n",
              "      <td>False</td>\n",
              "      <td>False</td>\n",
              "      <td>False</td>\n",
              "      <td>True</td>\n",
              "      <td>True</td>\n",
              "      <td>True</td>\n",
              "      <td>3</td>\n",
              "    </tr>\n",
              "    <tr>\n",
              "      <th>71</th>\n",
              "      <td>INSTAL_AMT_PAYMENT_MEAN</td>\n",
              "      <td>False</td>\n",
              "      <td>False</td>\n",
              "      <td>False</td>\n",
              "      <td>True</td>\n",
              "      <td>True</td>\n",
              "      <td>True</td>\n",
              "      <td>3</td>\n",
              "    </tr>\n",
              "    <tr>\n",
              "      <th>72</th>\n",
              "      <td>INSTAL_AMT_INSTALMENT_MAX</td>\n",
              "      <td>False</td>\n",
              "      <td>False</td>\n",
              "      <td>True</td>\n",
              "      <td>False</td>\n",
              "      <td>True</td>\n",
              "      <td>True</td>\n",
              "      <td>3</td>\n",
              "    </tr>\n",
              "    <tr>\n",
              "      <th>73</th>\n",
              "      <td>FLAG_EMP_PHONE</td>\n",
              "      <td>True</td>\n",
              "      <td>True</td>\n",
              "      <td>False</td>\n",
              "      <td>True</td>\n",
              "      <td>False</td>\n",
              "      <td>False</td>\n",
              "      <td>3</td>\n",
              "    </tr>\n",
              "    <tr>\n",
              "      <th>74</th>\n",
              "      <td>FLAG_DOCUMENT_3</td>\n",
              "      <td>True</td>\n",
              "      <td>True</td>\n",
              "      <td>True</td>\n",
              "      <td>False</td>\n",
              "      <td>False</td>\n",
              "      <td>False</td>\n",
              "      <td>3</td>\n",
              "    </tr>\n",
              "    <tr>\n",
              "      <th>75</th>\n",
              "      <td>FLAG_DOCUMENT_16</td>\n",
              "      <td>False</td>\n",
              "      <td>True</td>\n",
              "      <td>True</td>\n",
              "      <td>True</td>\n",
              "      <td>False</td>\n",
              "      <td>False</td>\n",
              "      <td>3</td>\n",
              "    </tr>\n",
              "    <tr>\n",
              "      <th>76</th>\n",
              "      <td>EMERGENCYSTATE_MODE_No</td>\n",
              "      <td>True</td>\n",
              "      <td>True</td>\n",
              "      <td>True</td>\n",
              "      <td>False</td>\n",
              "      <td>False</td>\n",
              "      <td>False</td>\n",
              "      <td>3</td>\n",
              "    </tr>\n",
              "    <tr>\n",
              "      <th>77</th>\n",
              "      <td>DEF_60_CNT_SOCIAL_CIRCLE</td>\n",
              "      <td>False</td>\n",
              "      <td>True</td>\n",
              "      <td>True</td>\n",
              "      <td>True</td>\n",
              "      <td>False</td>\n",
              "      <td>False</td>\n",
              "      <td>3</td>\n",
              "    </tr>\n",
              "    <tr>\n",
              "      <th>78</th>\n",
              "      <td>CLOSED_DAYS_CREDIT_UPDATE_MEAN</td>\n",
              "      <td>True</td>\n",
              "      <td>False</td>\n",
              "      <td>False</td>\n",
              "      <td>False</td>\n",
              "      <td>True</td>\n",
              "      <td>True</td>\n",
              "      <td>3</td>\n",
              "    </tr>\n",
              "    <tr>\n",
              "      <th>79</th>\n",
              "      <td>CLOSED_DAYS_CREDIT_MEAN</td>\n",
              "      <td>True</td>\n",
              "      <td>False</td>\n",
              "      <td>False</td>\n",
              "      <td>False</td>\n",
              "      <td>True</td>\n",
              "      <td>True</td>\n",
              "      <td>3</td>\n",
              "    </tr>\n",
              "    <tr>\n",
              "      <th>80</th>\n",
              "      <td>CLOSED_AMT_CREDIT_SUM_SUM</td>\n",
              "      <td>True</td>\n",
              "      <td>False</td>\n",
              "      <td>False</td>\n",
              "      <td>False</td>\n",
              "      <td>True</td>\n",
              "      <td>True</td>\n",
              "      <td>3</td>\n",
              "    </tr>\n",
              "    <tr>\n",
              "      <th>81</th>\n",
              "      <td>CLOSED_AMT_CREDIT_SUM_MAX</td>\n",
              "      <td>True</td>\n",
              "      <td>False</td>\n",
              "      <td>False</td>\n",
              "      <td>False</td>\n",
              "      <td>True</td>\n",
              "      <td>True</td>\n",
              "      <td>3</td>\n",
              "    </tr>\n",
              "    <tr>\n",
              "      <th>82</th>\n",
              "      <td>BURO_DAYS_CREDIT_VAR</td>\n",
              "      <td>True</td>\n",
              "      <td>False</td>\n",
              "      <td>False</td>\n",
              "      <td>False</td>\n",
              "      <td>True</td>\n",
              "      <td>True</td>\n",
              "      <td>3</td>\n",
              "    </tr>\n",
              "    <tr>\n",
              "      <th>83</th>\n",
              "      <td>BURO_DAYS_CREDIT_UPDATE_MEAN</td>\n",
              "      <td>True</td>\n",
              "      <td>False</td>\n",
              "      <td>False</td>\n",
              "      <td>False</td>\n",
              "      <td>True</td>\n",
              "      <td>True</td>\n",
              "      <td>3</td>\n",
              "    </tr>\n",
              "    <tr>\n",
              "      <th>84</th>\n",
              "      <td>BURO_DAYS_CREDIT_MAX</td>\n",
              "      <td>True</td>\n",
              "      <td>False</td>\n",
              "      <td>False</td>\n",
              "      <td>False</td>\n",
              "      <td>True</td>\n",
              "      <td>True</td>\n",
              "      <td>3</td>\n",
              "    </tr>\n",
              "    <tr>\n",
              "      <th>85</th>\n",
              "      <td>BURO_DAYS_CREDIT_ENDDATE_MEAN</td>\n",
              "      <td>True</td>\n",
              "      <td>False</td>\n",
              "      <td>False</td>\n",
              "      <td>False</td>\n",
              "      <td>True</td>\n",
              "      <td>True</td>\n",
              "      <td>3</td>\n",
              "    </tr>\n",
              "    <tr>\n",
              "      <th>86</th>\n",
              "      <td>BURO_DAYS_CREDIT_ENDDATE_MAX</td>\n",
              "      <td>False</td>\n",
              "      <td>False</td>\n",
              "      <td>False</td>\n",
              "      <td>True</td>\n",
              "      <td>True</td>\n",
              "      <td>True</td>\n",
              "      <td>3</td>\n",
              "    </tr>\n",
              "    <tr>\n",
              "      <th>87</th>\n",
              "      <td>BURO_CREDIT_TYPE_Mortgage_MEAN</td>\n",
              "      <td>False</td>\n",
              "      <td>True</td>\n",
              "      <td>True</td>\n",
              "      <td>True</td>\n",
              "      <td>False</td>\n",
              "      <td>False</td>\n",
              "      <td>3</td>\n",
              "    </tr>\n",
              "    <tr>\n",
              "      <th>88</th>\n",
              "      <td>BURO_CREDIT_TYPE_Microloan_MEAN</td>\n",
              "      <td>False</td>\n",
              "      <td>True</td>\n",
              "      <td>True</td>\n",
              "      <td>True</td>\n",
              "      <td>False</td>\n",
              "      <td>False</td>\n",
              "      <td>3</td>\n",
              "    </tr>\n",
              "    <tr>\n",
              "      <th>89</th>\n",
              "      <td>BURO_CREDIT_TYPE_Car_loan_MEAN</td>\n",
              "      <td>False</td>\n",
              "      <td>True</td>\n",
              "      <td>True</td>\n",
              "      <td>True</td>\n",
              "      <td>False</td>\n",
              "      <td>False</td>\n",
              "      <td>3</td>\n",
              "    </tr>\n",
              "    <tr>\n",
              "      <th>90</th>\n",
              "      <td>BURO_CREDIT_ACTIVE_Active_MEAN</td>\n",
              "      <td>True</td>\n",
              "      <td>True</td>\n",
              "      <td>True</td>\n",
              "      <td>False</td>\n",
              "      <td>False</td>\n",
              "      <td>False</td>\n",
              "      <td>3</td>\n",
              "    </tr>\n",
              "    <tr>\n",
              "      <th>91</th>\n",
              "      <td>BURO_AMT_CREDIT_SUM_MAX</td>\n",
              "      <td>False</td>\n",
              "      <td>False</td>\n",
              "      <td>False</td>\n",
              "      <td>True</td>\n",
              "      <td>True</td>\n",
              "      <td>True</td>\n",
              "      <td>3</td>\n",
              "    </tr>\n",
              "    <tr>\n",
              "      <th>92</th>\n",
              "      <td>APPROVED_DAYS_DECISION_MEAN</td>\n",
              "      <td>True</td>\n",
              "      <td>False</td>\n",
              "      <td>False</td>\n",
              "      <td>True</td>\n",
              "      <td>True</td>\n",
              "      <td>False</td>\n",
              "      <td>3</td>\n",
              "    </tr>\n",
              "    <tr>\n",
              "      <th>93</th>\n",
              "      <td>APPROVED_CNT_PAYMENT_SUM</td>\n",
              "      <td>False</td>\n",
              "      <td>False</td>\n",
              "      <td>True</td>\n",
              "      <td>True</td>\n",
              "      <td>False</td>\n",
              "      <td>True</td>\n",
              "      <td>3</td>\n",
              "    </tr>\n",
              "    <tr>\n",
              "      <th>94</th>\n",
              "      <td>AMT_ANNUITY</td>\n",
              "      <td>False</td>\n",
              "      <td>False</td>\n",
              "      <td>False</td>\n",
              "      <td>True</td>\n",
              "      <td>True</td>\n",
              "      <td>True</td>\n",
              "      <td>3</td>\n",
              "    </tr>\n",
              "    <tr>\n",
              "      <th>95</th>\n",
              "      <td>SK_ID_CURR</td>\n",
              "      <td>False</td>\n",
              "      <td>False</td>\n",
              "      <td>False</td>\n",
              "      <td>False</td>\n",
              "      <td>True</td>\n",
              "      <td>True</td>\n",
              "      <td>2</td>\n",
              "    </tr>\n",
              "    <tr>\n",
              "      <th>96</th>\n",
              "      <td>REG_CITY_NOT_WORK_CITY</td>\n",
              "      <td>True</td>\n",
              "      <td>True</td>\n",
              "      <td>False</td>\n",
              "      <td>False</td>\n",
              "      <td>False</td>\n",
              "      <td>False</td>\n",
              "      <td>2</td>\n",
              "    </tr>\n",
              "    <tr>\n",
              "      <th>97</th>\n",
              "      <td>PREV_RATE_DOWN_PAYMENT_MEAN</td>\n",
              "      <td>True</td>\n",
              "      <td>False</td>\n",
              "      <td>True</td>\n",
              "      <td>False</td>\n",
              "      <td>False</td>\n",
              "      <td>False</td>\n",
              "      <td>2</td>\n",
              "    </tr>\n",
              "    <tr>\n",
              "      <th>98</th>\n",
              "      <td>PREV_RATE_DOWN_PAYMENT_MAX</td>\n",
              "      <td>True</td>\n",
              "      <td>False</td>\n",
              "      <td>True</td>\n",
              "      <td>False</td>\n",
              "      <td>False</td>\n",
              "      <td>False</td>\n",
              "      <td>2</td>\n",
              "    </tr>\n",
              "    <tr>\n",
              "      <th>99</th>\n",
              "      <td>PREV_PRODUCT_COMBINATION_Cash_XSell_high_MEAN</td>\n",
              "      <td>False</td>\n",
              "      <td>True</td>\n",
              "      <td>True</td>\n",
              "      <td>False</td>\n",
              "      <td>False</td>\n",
              "      <td>False</td>\n",
              "      <td>2</td>\n",
              "    </tr>\n",
              "    <tr>\n",
              "      <th>100</th>\n",
              "      <td>PREV_PRODUCT_COMBINATION_Card_Street_MEAN</td>\n",
              "      <td>True</td>\n",
              "      <td>True</td>\n",
              "      <td>False</td>\n",
              "      <td>False</td>\n",
              "      <td>False</td>\n",
              "      <td>False</td>\n",
              "      <td>2</td>\n",
              "    </tr>\n",
              "  </tbody>\n",
              "</table>\n",
              "</div>"
            ],
            "text/plain": [
              "                                                      Feature  Pearson  Chi-2  \\\n",
              "1                                                EXT_SOURCE_3     True   True   \n",
              "2                                                EXT_SOURCE_2     True   True   \n",
              "3                                                EXT_SOURCE_1     True   True   \n",
              "4                                      PREV_DAYS_DECISION_MIN     True   True   \n",
              "5                                       PREV_AMT_ANNUITY_MEAN     True  False   \n",
              "6                                             DAYS_ID_PUBLISH     True   True   \n",
              "7                                          DAYS_EMPLOYED_PERC     True   True   \n",
              "8                                               DAYS_EMPLOYED     True  False   \n",
              "9                                                  DAYS_BIRTH     True   True   \n",
              "10                                     CLOSED_DAYS_CREDIT_MIN     True   True   \n",
              "11                                      BURO_DAYS_CREDIT_MEAN     True   True   \n",
              "12                                 APPROVED_DAYS_DECISION_MIN     True   True   \n",
              "13                                  APPROVED_AMT_ANNUITY_MEAN     True  False   \n",
              "14                                   APPROVED_AMT_ANNUITY_MAX     True  False   \n",
              "15                                    ACTIVE_DAYS_CREDIT_MEAN     True  False   \n",
              "16                             ACTIVE_DAYS_CREDIT_ENDDATE_MAX     True  False   \n",
              "17               PREV_PRODUCT_COMBINATION_Cash_XSell_low_MEAN     True   True   \n",
              "18                            PREV_NAME_YIELD_GROUP_high_MEAN     True   True   \n",
              "19                    PREV_NAME_CONTRACT_STATUS_Approved_MEAN     True   True   \n",
              "20                                      PREV_CNT_PAYMENT_MEAN    False  False   \n",
              "21                                       PREV_AMT_ANNUITY_MIN     True  False   \n",
              "22                                               PAYMENT_RATE    False  False   \n",
              "23                                    INSTAL_PAYMENT_DIFF_SUM     True  False   \n",
              "24                                   INSTAL_PAYMENT_DIFF_MEAN     True  False   \n",
              "25                              INSTAL_DAYS_ENTRY_PAYMENT_SUM     True  False   \n",
              "26                             INSTAL_DAYS_ENTRY_PAYMENT_MEAN     True  False   \n",
              "27                              INSTAL_DAYS_ENTRY_PAYMENT_MAX    False  False   \n",
              "28                                     INSTAL_AMT_PAYMENT_MAX    False  False   \n",
              "29                                          DAYS_REGISTRATION     True  False   \n",
              "30                                     DAYS_LAST_PHONE_CHANGE     True  False   \n",
              "31                                                CODE_GENDER     True   True   \n",
              "32                                       BURO_DAYS_CREDIT_MIN     True   True   \n",
              "33                             BURO_CREDIT_ACTIVE_Closed_MEAN     True   True   \n",
              "34                                        ANNUITY_INCOME_PERC    False  False   \n",
              "35                                            AMT_GOODS_PRICE     True  False   \n",
              "36                                                 AMT_CREDIT     True  False   \n",
              "37                                     ACTIVE_DAYS_CREDIT_MAX     True  False   \n",
              "38                                   WALLSMATERIAL_MODE_Panel     True   True   \n",
              "39                                     REG_CITY_NOT_LIVE_CITY     True   True   \n",
              "40                                REGION_RATING_CLIENT_W_CITY     True   True   \n",
              "41                                       REGION_RATING_CLIENT     True   True   \n",
              "42                                 REGION_POPULATION_RELATIVE     True  False   \n",
              "43   PREV_PRODUCT_COMBINATION_POS_industry_with_interest_MEAN     True   True   \n",
              "44                   PREV_NAME_SELLER_INDUSTRY_Furniture_MEAN     True   True   \n",
              "45                         PREV_NAME_PRODUCT_TYPE_walkin_MEAN     True   True   \n",
              "46                             PREV_NAME_PORTFOLIO_Cards_MEAN     True   True   \n",
              "47                    PREV_NAME_GOODS_CATEGORY_Furniture_MEAN     True   True   \n",
              "48               PREV_NAME_CONTRACT_TYPE_Revolving_loans_MEAN     True   True   \n",
              "49                     PREV_NAME_CONTRACT_STATUS_Refused_MEAN     True   True   \n",
              "50                                    PREV_DAYS_DECISION_MEAN     True  False   \n",
              "51                           PREV_CODE_REJECT_REASON_XAP_MEAN     True   True   \n",
              "52                         PREV_CODE_REJECT_REASON_LIMIT_MEAN     True   True   \n",
              "53                            PREV_CODE_REJECT_REASON_HC_MEAN     True   True   \n",
              "54                        PREV_CHANNEL_TYPE_AP_Cash_loan_MEAN     True   True   \n",
              "55                                  PREV_APP_CREDIT_PERC_MEAN     True  False   \n",
              "56                                  PREV_AMT_GOODS_PRICE_MEAN    False  False   \n",
              "57                                    POS_MONTHS_BALANCE_SIZE    False  False   \n",
              "58                                                  POS_COUNT    False  False   \n",
              "59                                                OWN_CAR_AGE    False  False   \n",
              "60                                 ORGANIZATION_TYPE_Military    False   True   \n",
              "61                                   OCCUPATION_TYPE_Laborers     True   True   \n",
              "62                                   NAME_INCOME_TYPE_Working     True   True   \n",
              "63                                 NAME_INCOME_TYPE_Pensioner     True   True   \n",
              "64            NAME_EDUCATION_TYPE_Secondary_secondary_special     True   True   \n",
              "65                       NAME_EDUCATION_TYPE_Higher_education     True   True   \n",
              "66                         NAME_CONTRACT_TYPE_Revolving_loans     True   True   \n",
              "67                                             INSTAL_DBD_SUM    False  False   \n",
              "68                                            INSTAL_DBD_MEAN    False  False   \n",
              "69                                     INSTAL_AMT_PAYMENT_SUM    False  False   \n",
              "70                                     INSTAL_AMT_PAYMENT_MIN    False  False   \n",
              "71                                    INSTAL_AMT_PAYMENT_MEAN    False  False   \n",
              "72                                  INSTAL_AMT_INSTALMENT_MAX    False  False   \n",
              "73                                             FLAG_EMP_PHONE     True   True   \n",
              "74                                            FLAG_DOCUMENT_3     True   True   \n",
              "75                                           FLAG_DOCUMENT_16    False   True   \n",
              "76                                     EMERGENCYSTATE_MODE_No     True   True   \n",
              "77                                   DEF_60_CNT_SOCIAL_CIRCLE    False   True   \n",
              "78                             CLOSED_DAYS_CREDIT_UPDATE_MEAN     True  False   \n",
              "79                                    CLOSED_DAYS_CREDIT_MEAN     True  False   \n",
              "80                                  CLOSED_AMT_CREDIT_SUM_SUM     True  False   \n",
              "81                                  CLOSED_AMT_CREDIT_SUM_MAX     True  False   \n",
              "82                                       BURO_DAYS_CREDIT_VAR     True  False   \n",
              "83                               BURO_DAYS_CREDIT_UPDATE_MEAN     True  False   \n",
              "84                                       BURO_DAYS_CREDIT_MAX     True  False   \n",
              "85                              BURO_DAYS_CREDIT_ENDDATE_MEAN     True  False   \n",
              "86                               BURO_DAYS_CREDIT_ENDDATE_MAX    False  False   \n",
              "87                             BURO_CREDIT_TYPE_Mortgage_MEAN    False   True   \n",
              "88                            BURO_CREDIT_TYPE_Microloan_MEAN    False   True   \n",
              "89                             BURO_CREDIT_TYPE_Car_loan_MEAN    False   True   \n",
              "90                             BURO_CREDIT_ACTIVE_Active_MEAN     True   True   \n",
              "91                                    BURO_AMT_CREDIT_SUM_MAX    False  False   \n",
              "92                                APPROVED_DAYS_DECISION_MEAN     True  False   \n",
              "93                                   APPROVED_CNT_PAYMENT_SUM    False  False   \n",
              "94                                                AMT_ANNUITY    False  False   \n",
              "95                                                 SK_ID_CURR    False  False   \n",
              "96                                     REG_CITY_NOT_WORK_CITY     True   True   \n",
              "97                                PREV_RATE_DOWN_PAYMENT_MEAN     True  False   \n",
              "98                                 PREV_RATE_DOWN_PAYMENT_MAX     True  False   \n",
              "99              PREV_PRODUCT_COMBINATION_Cash_XSell_high_MEAN    False   True   \n",
              "100                 PREV_PRODUCT_COMBINATION_Card_Street_MEAN     True   True   \n",
              "\n",
              "       RFE  Logistics  Random Forest  LightGBM  Total  \n",
              "1     True       True           True      True      6  \n",
              "2     True       True           True      True      6  \n",
              "3     True       True           True      True      6  \n",
              "4     True      False           True      True      5  \n",
              "5     True       True           True      True      5  \n",
              "6     True      False           True      True      5  \n",
              "7     True      False           True      True      5  \n",
              "8     True       True           True      True      5  \n",
              "9     True      False           True      True      5  \n",
              "10    True      False           True      True      5  \n",
              "11    True      False           True      True      5  \n",
              "12    True       True           True     False      5  \n",
              "13    True       True           True      True      5  \n",
              "14    True       True           True      True      5  \n",
              "15    True       True           True      True      5  \n",
              "16    True       True           True      True      5  \n",
              "17    True       True          False     False      4  \n",
              "18    True      False          False      True      4  \n",
              "19    True      False          False      True      4  \n",
              "20    True       True           True      True      4  \n",
              "21    True      False           True      True      4  \n",
              "22    True       True           True      True      4  \n",
              "23    True       True          False      True      4  \n",
              "24   False       True           True      True      4  \n",
              "25   False       True           True      True      4  \n",
              "26   False       True           True      True      4  \n",
              "27    True       True           True      True      4  \n",
              "28    True       True           True      True      4  \n",
              "29    True      False           True      True      4  \n",
              "30    True      False           True      True      4  \n",
              "31    True      False          False      True      4  \n",
              "32   False      False           True      True      4  \n",
              "33    True      False           True     False      4  \n",
              "34    True       True           True      True      4  \n",
              "35   False       True           True      True      4  \n",
              "36   False       True           True      True      4  \n",
              "37    True      False           True      True      4  \n",
              "38    True      False          False     False      3  \n",
              "39    True      False          False     False      3  \n",
              "40    True      False          False     False      3  \n",
              "41    True      False          False     False      3  \n",
              "42   False      False           True      True      3  \n",
              "43    True      False          False     False      3  \n",
              "44    True      False          False     False      3  \n",
              "45    True      False          False     False      3  \n",
              "46    True      False          False     False      3  \n",
              "47    True      False          False     False      3  \n",
              "48    True      False          False     False      3  \n",
              "49    True      False          False     False      3  \n",
              "50   False      False           True      True      3  \n",
              "51    True      False          False     False      3  \n",
              "52    True      False          False     False      3  \n",
              "53    True      False          False     False      3  \n",
              "54    True      False          False     False      3  \n",
              "55   False      False           True      True      3  \n",
              "56   False       True           True      True      3  \n",
              "57   False       True           True      True      3  \n",
              "58   False       True           True      True      3  \n",
              "59    True       True          False      True      3  \n",
              "60    True       True          False     False      3  \n",
              "61    True      False          False     False      3  \n",
              "62    True      False          False     False      3  \n",
              "63   False       True          False     False      3  \n",
              "64    True      False          False     False      3  \n",
              "65    True      False          False     False      3  \n",
              "66    True      False          False     False      3  \n",
              "67   False       True           True      True      3  \n",
              "68   False       True           True      True      3  \n",
              "69   False       True           True      True      3  \n",
              "70   False       True           True      True      3  \n",
              "71   False       True           True      True      3  \n",
              "72    True      False           True      True      3  \n",
              "73   False       True          False     False      3  \n",
              "74    True      False          False     False      3  \n",
              "75    True       True          False     False      3  \n",
              "76    True      False          False     False      3  \n",
              "77    True       True          False     False      3  \n",
              "78   False      False           True      True      3  \n",
              "79   False      False           True      True      3  \n",
              "80   False      False           True      True      3  \n",
              "81   False      False           True      True      3  \n",
              "82   False      False           True      True      3  \n",
              "83   False      False           True      True      3  \n",
              "84   False      False           True      True      3  \n",
              "85   False      False           True      True      3  \n",
              "86   False       True           True      True      3  \n",
              "87    True       True          False     False      3  \n",
              "88    True       True          False     False      3  \n",
              "89    True       True          False     False      3  \n",
              "90    True      False          False     False      3  \n",
              "91   False       True           True      True      3  \n",
              "92   False       True           True     False      3  \n",
              "93    True       True          False      True      3  \n",
              "94   False       True           True      True      3  \n",
              "95   False      False           True      True      2  \n",
              "96   False      False          False     False      2  \n",
              "97    True      False          False     False      2  \n",
              "98    True      False          False     False      2  \n",
              "99    True      False          False     False      2  \n",
              "100  False      False          False     False      2  "
            ]
          },
          "execution_count": 87,
          "metadata": {},
          "output_type": "execute_result"
        }
      ],
      "source": [
        "pd.set_option('display.max_rows', None)\n",
        "# put all selection together\n",
        "feature_names = X.columns.tolist()\n",
        "feature_selection_df = pd.DataFrame({'Feature': feature_names, 'Pearson': cor_support, 'Chi-2': chi_support, 'RFE': rfe_support, 'Logistics': embedded_lr_support,\n",
        "                                    'Random Forest': embedded_rf_support, 'LightGBM': embedded_lgb_support})\n",
        "# count the selected times for each feature\n",
        "feature_selection_df['Total'] = np.sum(feature_selection_df, axis=1)\n",
        "# display the top 100\n",
        "feature_selection_df = feature_selection_df.sort_values(\n",
        "    ['Total', 'Feature'], ascending=False)\n",
        "feature_selection_df.index = range(1, len(feature_selection_df)+1)\n",
        "feature_selection_df.head(100)\n"
      ]
    },
    {
      "cell_type": "markdown",
      "metadata": {},
      "source": [
        "## Drop colonnes qui ne sont pas dans les 100 'best' features\n"
      ]
    },
    {
      "cell_type": "code",
      "execution_count": 88,
      "metadata": {},
      "outputs": [],
      "source": [
        "best_features = list(feature_selection_df['Feature'])[:MAX_FEATURES]\n",
        "if not 'SK_ID_CURR' in best_features:\n",
        "    best_features = ['SK_ID_CURR', *best_features]\n",
        "new_columns = [*best_features, 'TARGET']\n"
      ]
    },
    {
      "cell_type": "code",
      "execution_count": 89,
      "metadata": {},
      "outputs": [],
      "source": [
        "df_data = df_data[new_columns]\n",
        "\n",
        "# on selectionne les best features pour un analyse des features seléctionnés\n",
        "X = X[best_features]\n",
        "X_filled = X_filled[best_features]\n",
        "X_scaled = X_scaled[best_features]\n"
      ]
    },
    {
      "cell_type": "markdown",
      "metadata": {},
      "source": [
        "## Enregistre les best features nettoyés"
      ]
    },
    {
      "cell_type": "code",
      "execution_count": 90,
      "metadata": {},
      "outputs": [
        {
          "name": "stdout",
          "output_type": "stream",
          "text": [
            "Save to ../data/out/cleaned_data_features.csv - done in 28s\n"
          ]
        }
      ],
      "source": [
        "best_features_path = f'{OUT_FOLDER}/{CLEAN_DATA_FEATURES}'\n",
        "with timer(f'Save to {best_features_path}'):\n",
        "    df_data.to_csv(best_features_path, index=False)\n"
      ]
    },
    {
      "cell_type": "code",
      "execution_count": 92,
      "metadata": {},
      "outputs": [
        {
          "name": "stdout",
          "output_type": "stream",
          "text": [
            "Save sample (nb = 10000) to ../data/out/cleaned_data_sample.csv - done in 1s\n"
          ]
        }
      ],
      "source": [
        "if len(df_data) > SAMPLE_SIZE:\n",
        "    samplepath = f'{OUT_FOLDER}/{CLEAN_DATA_SAMPLE}'\n",
        "    with timer(f'Save sample (nb = {SAMPLE_SIZE}) to {samplepath}'):\n",
        "        df_data.sample(SAMPLE_SIZE).to_csv(\n",
        "            samplepath, index=False)\n"
      ]
    },
    {
      "cell_type": "code",
      "execution_count": 91,
      "metadata": {},
      "outputs": [
        {
          "name": "stdout",
          "output_type": "stream",
          "text": [
            "(307507, 101)\n"
          ]
        }
      ],
      "source": [
        "print (df_data.shape)"
      ]
    },
    {
      "cell_type": "markdown",
      "metadata": {},
      "source": [
        "### Taille des fichiers des best features"
      ]
    },
    {
      "cell_type": "code",
      "execution_count": 93,
      "metadata": {},
      "outputs": [
        {
          "name": "stdout",
          "output_type": "stream",
          "text": [
            "file : cleaned_data_features.csv : size=171.26 Mo\n",
            "file : cleaned_data_sample.csv : size=5.58 Mo\n"
          ]
        }
      ],
      "source": [
        "for filename in [CLEAN_DATA_FEATURES, CLEAN_DATA_SAMPLE]:\n",
        "    filepath = f'{OUT_FOLDER}/{filename}'\n",
        "    print(f'file : {filename} : size={outils_io.get_filesize(filepath)}')"
      ]
    },
    {
      "cell_type": "markdown",
      "metadata": {},
      "source": [
        "## Filter features based on correlation\n",
        "\n",
        "800 colonnes ralenti la modélisation.\n",
        "\n",
        "Dans une prémier temps, on élimine les colonnes avec un très bas corrélation avec le target\n",
        "\n",
        "Pour calculer un valeur de corrélation entre -1 et +1:\n",
        "\n",
        "- il faut qu'il n'y a pas de NaN (dropna pendant le calcul)\n",
        "- il faut plus d'un valeur (sinon, correlation = NaN)\n",
        "- il faut qu'il n'y a pas des valeurs infinit\n"
      ]
    },
    {
      "cell_type": "code",
      "execution_count": 94,
      "metadata": {},
      "outputs": [
        {
          "name": "stdout",
          "output_type": "stream",
          "text": [
            "Calculating correlations - done in 3s\n",
            "Most Positive Correlations:\n",
            "                                        col  correlation\n",
            "10                   BURO_DAYS_CREDIT_MEAN     0.089730\n",
            "8                               DAYS_BIRTH     0.078242\n",
            "48  PREV_NAME_CONTRACT_STATUS_Refused_MEAN     0.077681\n",
            "89          BURO_CREDIT_ACTIVE_Active_MEAN     0.077357\n",
            "31                    BURO_DAYS_CREDIT_MIN     0.075248\n",
            "7                            DAYS_EMPLOYED     0.074956\n",
            "82            BURO_DAYS_CREDIT_UPDATE_MEAN     0.068928\n",
            "14                 ACTIVE_DAYS_CREDIT_MEAN     0.064040\n",
            "9                   CLOSED_DAYS_CREDIT_MIN     0.061194\n",
            "39             REGION_RATING_CLIENT_W_CITY     0.060895\n",
            "36                  ACTIVE_DAYS_CREDIT_MAX     0.060414\n",
            "40                    REGION_RATING_CLIENT     0.058901\n",
            "78                 CLOSED_DAYS_CREDIT_MEAN     0.058492\n",
            "61                NAME_INCOME_TYPE_Working     0.057483\n",
            "44      PREV_NAME_PRODUCT_TYPE_walkin_MEAN     0.057411\n",
            "\n",
            "Most Negative Correlations:\n",
            "                                         col  correlation\n",
            "34                          AMT_GOODS_PRICE    -0.039647\n",
            "96               PREV_RATE_DOWN_PAYMENT_MAX    -0.040093\n",
            "75                   EMERGENCYSTATE_MODE_No    -0.042200\n",
            "13                 APPROVED_AMT_ANNUITY_MAX    -0.043916\n",
            "12                APPROVED_AMT_ANNUITY_MEAN    -0.044499\n",
            "62               NAME_INCOME_TYPE_Pensioner    -0.046211\n",
            "30                              CODE_GENDER    -0.054710\n",
            "64     NAME_EDUCATION_TYPE_Higher_education    -0.056593\n",
            "18  PREV_NAME_CONTRACT_STATUS_Approved_MEAN    -0.063525\n",
            "6                        DAYS_EMPLOYED_PERC    -0.067950\n",
            "50         PREV_CODE_REJECT_REASON_XAP_MEAN    -0.073937\n",
            "32           BURO_CREDIT_ACTIVE_Closed_MEAN    -0.079369\n",
            "2                              EXT_SOURCE_1    -0.155318\n",
            "1                              EXT_SOURCE_2    -0.160470\n",
            "0                              EXT_SOURCE_3    -0.178926\n"
          ]
        }
      ],
      "source": [
        "def target_correlations(df, target_col='TARGET', exclude_cols=['SK_ID_CURR']):\n",
        "    \"\"\"Find correlations with the target and sort\"\"\"\n",
        "    if len(exclude_cols) > 0:\n",
        "        df = df.drop(columns=exclude_cols)\n",
        "    res = pd.DataFrame()\n",
        "    for col in df.columns:\n",
        "        if col != target_col:\n",
        "            data = df[[col, target_col]].dropna()\n",
        "            corrln = data[col].corr(data[target_col])\n",
        "            res = res.append(\n",
        "                {'col': col, 'correlation': corrln}, ignore_index=True)\n",
        "    return res.sort_values(by='correlation', ascending=False)\n",
        "\n",
        "\n",
        "with timer(title='Calculating correlations'):\n",
        "    correlations = target_correlations(df_data)\n",
        "\n",
        "# Display correlations\n",
        "print('Most Positive Correlations:\\n', correlations.head(15))\n",
        "print('\\nMost Negative Correlations:\\n', correlations.tail(15))\n"
      ]
    },
    {
      "cell_type": "markdown",
      "metadata": {},
      "source": [
        "On ajout une colonne avec la valeur absolute de correlation\n"
      ]
    },
    {
      "cell_type": "code",
      "execution_count": null,
      "metadata": {},
      "outputs": [],
      "source": [
        "correlations['abs_corr'] = np.abs(correlations['correlation'])\n"
      ]
    },
    {
      "cell_type": "code",
      "execution_count": null,
      "metadata": {},
      "outputs": [],
      "source": []
    }
  ],
  "metadata": {
    "colab": {
      "collapsed_sections": [],
      "name": "P7_nettoyage.ipynb",
      "provenance": [],
      "toc_visible": true
    },
    "interpreter": {
      "hash": "9f161018c5e2fdb25091822214a6434325c4d2222b4c3ef81019bf1117201605"
    },
    "kernelspec": {
      "display_name": "Python 3.7.0 ('OC_3')",
      "language": "python",
      "name": "python3"
    },
    "language_info": {
      "codemirror_mode": {
        "name": "ipython",
        "version": 3
      },
      "file_extension": ".py",
      "mimetype": "text/x-python",
      "name": "python",
      "nbconvert_exporter": "python",
      "pygments_lexer": "ipython3",
      "version": "3.7.0"
    }
  },
  "nbformat": 4,
  "nbformat_minor": 0
}
