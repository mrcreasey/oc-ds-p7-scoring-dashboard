{
 "cells": [
  {
   "cell_type": "markdown",
   "metadata": {
    "id": "DFji9bO_eJMR"
   },
   "source": [
    "# Implémentez un modèle de scoring\n",
    "\n",
    "- **Projet 7 du parcours « Data Scientist » d’OpenClassrooms**\n",
    "- **Mark Creasey**\n",
    "\n",
    "## Étape 2 : Modélisation\n"
   ]
  },
  {
   "cell_type": "markdown",
   "metadata": {},
   "source": [
    "## 1.1 Compréhension du problème\n",
    "\n",
    "### 1.1.1 Problématique\n",
    "\n",
    "La société financière, nommée **\"Prêt à dépenser\"**, propose des crédits à la consommation pour des\n",
    "personnes ayant peu ou pas du tout d'historique de prêt.\n",
    "\n",
    "L’entreprise souhaite mettre en œuvre **un outil de “scoring crédit”** pour calculer la qu’un client\n",
    "rembourse son crédit, puis classifie la demande en crédit accordé ou refusé. Elle souhaite donc\n",
    "développer **un algorithme de classification** en s’appuyant sur des sources de données variées (données\n",
    "comportementales, données provenant d'autres institutions financières, etc.).\n",
    "\n",
    "### 1.1.2 Les données\n",
    "\n",
    "Voici [les données](https://www.kaggle.com/c/home-credit-default-risk/data) pour réaliser le\n",
    "dashboard. Pour plus de simplicité, vous pouvez les télécharger à\n",
    "[cette adresse](https://s3-eu-west-1.amazonaws.com/static.oc-static.com/prod/courses/files/Parcours_data_scientist/Projet+-+Impl%C3%A9menter+un+mod%C3%A8le+de+scoring/Projet+Mise+en+prod+-+home-credit-default-risk.zip).\n",
    "\n",
    "### 1.1.1 Mission\n",
    "\n",
    "- Sélectionner un kernel Kaggle pour faciliter la préparation des données nécessaires à l’élaboration du modèle de scoring.\n",
    "- Analyser ce kernel et l’adapter aux besoins de votre mission.\n",
    "\n",
    "Focalise sur :\n",
    "\n",
    "1. La construction d'un **modèle de scoring** qui donnera une prédiction sur la probabilité de faillite\n",
    "   d'un client de façon automatique.\n",
    "   - élaboration\n",
    "   - optimisation\n",
    "   - comprehension (interpretabilité)\n",
    "2. Construction d'un **dashboard interactif** qui montre avec transparence les décisions d’octroi de\n",
    "   crédit, à destination des gestionnaires de la relation client permettant d'interpréter les\n",
    "   prédictions faites par le modèle et d’améliorer la connaissance client des chargés de relation\n",
    "   client.\n"
   ]
  },
  {
   "cell_type": "markdown",
   "metadata": {
    "id": "wM6z7uUfebpT"
   },
   "source": [
    "## 1.2 Definition de l'environnement\n",
    "\n",
    "- `local` : Développement local (avec échantillon de 50 Mo de données)\n",
    "- `colab` : Google Colab\n",
    "- `kaggle` : Kaggle Kernel\n"
   ]
  },
  {
   "cell_type": "code",
   "execution_count": 1,
   "metadata": {
    "colab": {
     "base_uri": "https://localhost:8080/"
    },
    "id": "EMeZBFf2eTfz",
    "outputId": "2657b460-a736-4de6-de5f-1bf9ceb1ea36"
   },
   "outputs": [],
   "source": [
    "ENV = 'local'\n",
    "\n",
    "if ENV == 'local':\n",
    "    # local development\n",
    "    DATA_FOLDER = '../data/raw'\n",
    "    OUT_FOLDER = '../data/out'\n",
    "    IMAGE_FOLDER = '../images/modelisation'\n",
    "\n",
    "if ENV == 'colab':\n",
    "    # Colaboratory - uncomment les 2 lignes suivant pour connecter à votre drive\n",
    "    # from google.colab import drive\n",
    "    # drive.mount('/content/drive')\n",
    "    DATA_FOLDER = '/content/drive/MyDrive/data/OC7'\n",
    "    OUT_FOLDER = '/content/drive/MyDrive/data/OC7'\n",
    "    IMAGE_FOLDER = '/content/drive/MyDrive/images/OC7/modelisation'\n"
   ]
  },
  {
   "cell_type": "markdown",
   "metadata": {
    "id": "HvnInn3XfWQ2"
   },
   "source": [
    "## 1.3 Fichiers de données\n",
    "\n",
    "1. Les données en format CSV (>700Mb compactés) sont à télecharger de ce lien:\n",
    "\n",
    "- https://www.kaggle.com/c/home-credit-default-risk/data\n",
    "- Pour plus de simplicité, vous pouvez les télécharger à [cette adresse.](https://s3-eu-west-1.amazonaws.com/static.oc-static.com/prod/courses/files/Parcours_data_scientist/Projet+-+Impl%C3%A9menter+un+mod%C3%A8le+de+scoring/Projet+Mise+en+prod+-+home-credit-default-risk.zip)\n",
    "\n",
    "2.  Placer le fichier compacté (**.zip**) dans le **DATA_FOLDER** défini ci-dessous\n"
   ]
  },
  {
   "cell_type": "markdown",
   "metadata": {
    "id": "ELwbVYvAgSMU"
   },
   "source": [
    "### Noms des fichiers de données (identique pour nettoyage et l'analyse exploratoire)\n",
    "\n",
    "- Le grand fichier zip des données doit être placé dans `DATA_FOLDER` au préalable\n",
    "- Tous les autres fichiers de données sont téléchargés ou crées pendant le nettoyage, puis enregistrés dans `OUT_FOLDER`\n"
   ]
  },
  {
   "cell_type": "code",
   "execution_count": 2,
   "metadata": {
    "id": "F_iJnVSEfKma"
   },
   "outputs": [],
   "source": [
    "# Données (DATA_FOLDER)\n",
    "ZIPPED_DATA_FILENAME = f'Projet+Mise+en+prod+-+home-credit-default-risk.zip'\n",
    "RAW_DATA_FILENAME = 'HomeCredit_columns_description.csv'\n",
    "SAMPLE_DATA_FILENAME = 'HomeCredit_columns_description.csv'\n",
    "\n",
    "\n",
    "# Données nettoyés (OUT_FOLDER)\n",
    "CLEAN_DATA_FILENAME = 'cleaned_data_scoring.csv'\n",
    "CLEAN_DATA_SAMPLE = 'cleaned_data_sample.csv'  # 100,000 registres\n",
    "CLEAN_DATA_FEATURES = 'cleaned_data_features.csv'  # 100 meilleur features\n",
    "SAMPLE_SIZE = 10000\n"
   ]
  },
  {
   "cell_type": "markdown",
   "metadata": {
    "id": "aMFxPWtagxDT"
   },
   "source": [
    "## 1.4 Requirements: Bibliothèques utilisées dans ce notebook\n",
    "\n",
    "Ce notebook marche a été testé en developpement local, sur Google Colab et Kaggle\n",
    "\n",
    "```txt\n",
    "# copy dans un fichier requirements.txt, puis\n",
    "# !pip install -r requirements.txt\n",
    "```\n"
   ]
  },
  {
   "cell_type": "code",
   "execution_count": 3,
   "metadata": {
    "id": "pIP-XhqSgyC_"
   },
   "outputs": [],
   "source": [
    "# Decommentarise la ligne suivant si vous ne voulez pas changer vos versions existants\n",
    "# !pip install numpy pandas matplotlib seaborn scipy sklearn missingno requests\n"
   ]
  },
  {
   "cell_type": "code",
   "execution_count": 4,
   "metadata": {
    "colab": {
     "base_uri": "https://localhost:8080/"
    },
    "id": "kvsIMU0Ihglo",
    "outputId": "dee247f2-f59d-4167-c0fc-922e84b453fe"
   },
   "outputs": [
    {
     "name": "stdout",
     "output_type": "stream",
     "text": [
      "required modules: ['seaborn', 'numpy', 'pandas', 'matplotlib', 'sklearn']\n",
      "missing modules: []\n"
     ]
    }
   ],
   "source": [
    "# import local functions\n",
    "import outils_io\n",
    "outils_io.install_libraries({'numpy', 'pandas', 'matplotlib',\n",
    "                             'seaborn', 'sklearn'})\n"
   ]
  },
  {
   "cell_type": "markdown",
   "metadata": {
    "id": "s8kXrZGCg6h1"
   },
   "source": [
    "## 1.5 Import dependencies\n"
   ]
  },
  {
   "cell_type": "markdown",
   "metadata": {
    "id": "KPt54cG5g7Up"
   },
   "source": [
    "### 1.5.1 Import des bibliothèques utilisées par ce notebook\n"
   ]
  },
  {
   "cell_type": "code",
   "execution_count": 5,
   "metadata": {
    "id": "XtukhHGIg-Ag"
   },
   "outputs": [],
   "source": [
    "# suppress furture warnings de pandas 1.3.0\n",
    "from contextlib import contextmanager\n",
    "import time\n",
    "import gc\n",
    "import os\n",
    "import warnings\n",
    "import platform\n",
    "warnings.simplefilter(action='ignore', category=FutureWarning)\n"
   ]
  },
  {
   "cell_type": "code",
   "execution_count": 6,
   "metadata": {},
   "outputs": [],
   "source": [
    "import sklearn\n",
    "import seaborn as sns\n",
    "import pandas as pd\n",
    "import numpy as np\n",
    "import matplotlib.pyplot as plt\n",
    "\n",
    "# feature preprocessing\n",
    "from sklearn import impute\n",
    "from sklearn import preprocessing\n",
    "\n",
    "# feature et parameter selection\n",
    "from sklearn.model_selection import train_test_split, GridSearchCV\n",
    "\n",
    "# Sampling (SMOTE : Synthetic Minority Oversampling TEchnique)\n",
    "import imblearn\n",
    "from imblearn.over_sampling import SMOTE, RandomOverSampler\n",
    "from imblearn.under_sampling import RandomUnderSampler, TomekLinks\n",
    "from imblearn.combine import SMOTETomek\n"
   ]
  },
  {
   "cell_type": "markdown",
   "metadata": {
    "id": "FhE8BZ1ihG2I"
   },
   "source": [
    "### 1.5.2 Liste des versions des bibliothèques utilisées\n"
   ]
  },
  {
   "cell_type": "code",
   "execution_count": 7,
   "metadata": {
    "colab": {
     "base_uri": "https://localhost:8080/"
    },
    "id": "FJXh67-FhIwI",
    "outputId": "cf659d51-6099-46fb-c9fb-56d2067fe4a6"
   },
   "outputs": [
    {
     "name": "stdout",
     "output_type": "stream",
     "text": [
      "python version = 3.7.0\n",
      "versions des bibliothèques utilisées:\n",
      "platform==1.0.8; sklearn==1.0.2; seaborn==0.11.2; pandas==1.1.5; numpy==1.21.5; imblearn==0.9.0\n"
     ]
    }
   ],
   "source": [
    "print(f'python version = {platform.python_version()}')\n",
    "print('versions des bibliothèques utilisées:')\n",
    "print('; '.join(f'{m.__name__}=={m.__version__}' for m in globals(\n",
    ").values() if getattr(m, '__version__', None)))\n"
   ]
  },
  {
   "cell_type": "markdown",
   "metadata": {
    "id": "5f04qBPghSsr"
   },
   "source": [
    "### 1.5.3 Configuration défauts d'affichage\n"
   ]
  },
  {
   "cell_type": "code",
   "execution_count": 8,
   "metadata": {
    "id": "mIoSzAqXhMEV"
   },
   "outputs": [],
   "source": [
    "from sklearn import set_config\n",
    "pd.set_option('display.max_columns', 200)  # pour afficher toutes les colonnes\n",
    "pd.set_option('display.max_rows', 20)  # pour afficher max 20 lignes\n",
    "pd.set_option('display.max_colwidth', 800)\n",
    "\n",
    "%matplotlib inline\n",
    "sns.set_theme(style=\"white\", context=\"notebook\")\n",
    "sns.set_color_codes(\"pastel\")\n",
    "sns.set_palette(\"tab10\")\n",
    "\n",
    "set_config(display='diagram')\n",
    "# displays HTML representation in a jupyter context\n"
   ]
  },
  {
   "cell_type": "markdown",
   "metadata": {},
   "source": [
    "### Bibliothèque personelle\n",
    "\n",
    "On utilise un nom non standard\n"
   ]
  },
  {
   "cell_type": "code",
   "execution_count": 9,
   "metadata": {},
   "outputs": [],
   "source": [
    "import outils_io\n",
    "import outils_preprocess\n",
    "import outils_stats\n",
    "import outils_timed\n",
    "import outils_vis\n",
    "\n",
    "# frequently used functions\n",
    "from outils_vis import to_png\n",
    "from outils_timed import timer\n"
   ]
  },
  {
   "cell_type": "markdown",
   "metadata": {},
   "source": [
    "### Configuration personelle\n"
   ]
  },
  {
   "cell_type": "code",
   "execution_count": 10,
   "metadata": {},
   "outputs": [],
   "source": [
    "\n",
    "# Enregistre parametres globals dans outils\n",
    "outils_vis.set_option('IMAGE_FOLDER', IMAGE_FOLDER)\n",
    "outils_vis.set_option('SAVE_IMAGES', True)\n",
    "\n",
    "if ENV != 'kaggle':\n",
    "    outils_io.os_make_dir(DATA_FOLDER)\n",
    "    outils_io.os_make_dir(OUT_FOLDER)\n",
    "\n",
    "outils_io.os_make_dir(IMAGE_FOLDER)\n"
   ]
  },
  {
   "cell_type": "markdown",
   "metadata": {},
   "source": [
    "# Import des données nettoyés\n"
   ]
  },
  {
   "cell_type": "code",
   "execution_count": 11,
   "metadata": {},
   "outputs": [
    {
     "name": "stdout",
     "output_type": "stream",
     "text": [
      "Load cleaned data - done in 0s\n"
     ]
    }
   ],
   "source": [
    "# Set SAMPLE=True for Rapid Development\n",
    "SAMPLE = True\n",
    "\n",
    "full_data_path = f'{OUT_FOLDER}/{CLEAN_DATA_FILENAME}'  # > 700 variables\n",
    "best_data_path = f'{OUT_FOLDER}/{CLEAN_DATA_FEATURES}'  # les top 100 features\n",
    "# echantillon pour developpement rapide\n",
    "sample_data_path = f'{OUT_FOLDER}/{CLEAN_DATA_SAMPLE}'\n",
    "\n",
    "cleaned_data_path = sample_data_path if SAMPLE else best_data_path\n",
    "with timer('Load cleaned data'):\n",
    "    df_data = pd.read_csv(cleaned_data_path)\n"
   ]
  },
  {
   "cell_type": "code",
   "execution_count": 12,
   "metadata": {},
   "outputs": [
    {
     "name": "stdout",
     "output_type": "stream",
     "text": [
      "Initial df memory usage is 6.49 MB for 85 columns\n",
      "Final memory usage is: 1.88 MB - decreased by 71.0%\n",
      "Reduce memory - done in 0s\n"
     ]
    }
   ],
   "source": [
    "with timer('Reduce memory'):\n",
    "    df_data = outils_preprocess.reduce_memory(df_data)\n"
   ]
  },
  {
   "cell_type": "markdown",
   "metadata": {},
   "source": [
    "## Create X (fields), y (target)\n"
   ]
  },
  {
   "cell_type": "code",
   "execution_count": 13,
   "metadata": {},
   "outputs": [],
   "source": [
    "def create_X_y(df: pd.DataFrame):\n",
    "    target = df['TARGET'].copy()\n",
    "    fields = df.drop(columns=['TARGET', 'SK_ID_CURR'])\n",
    "    return fields, target\n",
    "\n",
    "\n",
    "X, y = create_X_y(df_data)\n"
   ]
  },
  {
   "cell_type": "code",
   "execution_count": 14,
   "metadata": {},
   "outputs": [
    {
     "name": "stdout",
     "output_type": "stream",
     "text": [
      "[0 1]\n"
     ]
    }
   ],
   "source": [
    "TARGET_CLASSES = ['0=repaid', '1=not repaid']\n",
    "le = preprocessing.LabelEncoder()\n",
    "target_classes = le.fit_transform(TARGET_CLASSES)\n",
    "print(target_classes)\n"
   ]
  },
  {
   "cell_type": "markdown",
   "metadata": {},
   "source": [
    "### Split train / test\n"
   ]
  },
  {
   "cell_type": "code",
   "execution_count": 15,
   "metadata": {},
   "outputs": [],
   "source": [
    "# Split the data into train and test sets\n",
    "x_train, x_test, y_train, y_test = train_test_split(\n",
    "    X, y, stratify=y, test_size=0.2)\n"
   ]
  },
  {
   "cell_type": "markdown",
   "metadata": {},
   "source": [
    "## Preprocessing de données\n",
    "\n",
    "On crée un preprocessor pour pouvoir ajuster les paramètres de preprocessing\n"
   ]
  },
  {
   "cell_type": "code",
   "execution_count": 16,
   "metadata": {},
   "outputs": [
    {
     "name": "stdout",
     "output_type": "stream",
     "text": [
      "numerical_features : 83\n",
      "category_features : 0\n",
      "target_features : TARGET\n"
     ]
    }
   ],
   "source": [
    "from sklearn.compose import make_column_selector\n",
    "\n",
    "cat_selector = make_column_selector(dtype_include=object)\n",
    "num_selector = make_column_selector(dtype_include=np.number)\n",
    "\n",
    "category_features = cat_selector(x_train)\n",
    "numerical_features = num_selector(x_train)\n",
    "target_features = y_train.name\n",
    "\n",
    "print(f'numerical_features : {len(numerical_features)}')\n",
    "print(f'category_features : {len(category_features)}')\n",
    "print(f'target_features : {target_features}')\n"
   ]
  },
  {
   "cell_type": "code",
   "execution_count": 17,
   "metadata": {},
   "outputs": [
    {
     "data": {
      "text/html": [
       "<style>#sk-a817dd70-8ba6-4ed1-81fc-0972429281f2 {color: black;background-color: white;}#sk-a817dd70-8ba6-4ed1-81fc-0972429281f2 pre{padding: 0;}#sk-a817dd70-8ba6-4ed1-81fc-0972429281f2 div.sk-toggleable {background-color: white;}#sk-a817dd70-8ba6-4ed1-81fc-0972429281f2 label.sk-toggleable__label {cursor: pointer;display: block;width: 100%;margin-bottom: 0;padding: 0.3em;box-sizing: border-box;text-align: center;}#sk-a817dd70-8ba6-4ed1-81fc-0972429281f2 label.sk-toggleable__label-arrow:before {content: \"▸\";float: left;margin-right: 0.25em;color: #696969;}#sk-a817dd70-8ba6-4ed1-81fc-0972429281f2 label.sk-toggleable__label-arrow:hover:before {color: black;}#sk-a817dd70-8ba6-4ed1-81fc-0972429281f2 div.sk-estimator:hover label.sk-toggleable__label-arrow:before {color: black;}#sk-a817dd70-8ba6-4ed1-81fc-0972429281f2 div.sk-toggleable__content {max-height: 0;max-width: 0;overflow: hidden;text-align: left;background-color: #f0f8ff;}#sk-a817dd70-8ba6-4ed1-81fc-0972429281f2 div.sk-toggleable__content pre {margin: 0.2em;color: black;border-radius: 0.25em;background-color: #f0f8ff;}#sk-a817dd70-8ba6-4ed1-81fc-0972429281f2 input.sk-toggleable__control:checked~div.sk-toggleable__content {max-height: 200px;max-width: 100%;overflow: auto;}#sk-a817dd70-8ba6-4ed1-81fc-0972429281f2 input.sk-toggleable__control:checked~label.sk-toggleable__label-arrow:before {content: \"▾\";}#sk-a817dd70-8ba6-4ed1-81fc-0972429281f2 div.sk-estimator input.sk-toggleable__control:checked~label.sk-toggleable__label {background-color: #d4ebff;}#sk-a817dd70-8ba6-4ed1-81fc-0972429281f2 div.sk-label input.sk-toggleable__control:checked~label.sk-toggleable__label {background-color: #d4ebff;}#sk-a817dd70-8ba6-4ed1-81fc-0972429281f2 input.sk-hidden--visually {border: 0;clip: rect(1px 1px 1px 1px);clip: rect(1px, 1px, 1px, 1px);height: 1px;margin: -1px;overflow: hidden;padding: 0;position: absolute;width: 1px;}#sk-a817dd70-8ba6-4ed1-81fc-0972429281f2 div.sk-estimator {font-family: monospace;background-color: #f0f8ff;border: 1px dotted black;border-radius: 0.25em;box-sizing: border-box;margin-bottom: 0.5em;}#sk-a817dd70-8ba6-4ed1-81fc-0972429281f2 div.sk-estimator:hover {background-color: #d4ebff;}#sk-a817dd70-8ba6-4ed1-81fc-0972429281f2 div.sk-parallel-item::after {content: \"\";width: 100%;border-bottom: 1px solid gray;flex-grow: 1;}#sk-a817dd70-8ba6-4ed1-81fc-0972429281f2 div.sk-label:hover label.sk-toggleable__label {background-color: #d4ebff;}#sk-a817dd70-8ba6-4ed1-81fc-0972429281f2 div.sk-serial::before {content: \"\";position: absolute;border-left: 1px solid gray;box-sizing: border-box;top: 2em;bottom: 0;left: 50%;}#sk-a817dd70-8ba6-4ed1-81fc-0972429281f2 div.sk-serial {display: flex;flex-direction: column;align-items: center;background-color: white;padding-right: 0.2em;padding-left: 0.2em;}#sk-a817dd70-8ba6-4ed1-81fc-0972429281f2 div.sk-item {z-index: 1;}#sk-a817dd70-8ba6-4ed1-81fc-0972429281f2 div.sk-parallel {display: flex;align-items: stretch;justify-content: center;background-color: white;}#sk-a817dd70-8ba6-4ed1-81fc-0972429281f2 div.sk-parallel::before {content: \"\";position: absolute;border-left: 1px solid gray;box-sizing: border-box;top: 2em;bottom: 0;left: 50%;}#sk-a817dd70-8ba6-4ed1-81fc-0972429281f2 div.sk-parallel-item {display: flex;flex-direction: column;position: relative;background-color: white;}#sk-a817dd70-8ba6-4ed1-81fc-0972429281f2 div.sk-parallel-item:first-child::after {align-self: flex-end;width: 50%;}#sk-a817dd70-8ba6-4ed1-81fc-0972429281f2 div.sk-parallel-item:last-child::after {align-self: flex-start;width: 50%;}#sk-a817dd70-8ba6-4ed1-81fc-0972429281f2 div.sk-parallel-item:only-child::after {width: 0;}#sk-a817dd70-8ba6-4ed1-81fc-0972429281f2 div.sk-dashed-wrapped {border: 1px dashed gray;margin: 0 0.4em 0.5em 0.4em;box-sizing: border-box;padding-bottom: 0.4em;background-color: white;position: relative;}#sk-a817dd70-8ba6-4ed1-81fc-0972429281f2 div.sk-label label {font-family: monospace;font-weight: bold;background-color: white;display: inline-block;line-height: 1.2em;}#sk-a817dd70-8ba6-4ed1-81fc-0972429281f2 div.sk-label-container {position: relative;z-index: 2;text-align: center;}#sk-a817dd70-8ba6-4ed1-81fc-0972429281f2 div.sk-container {/* jupyter's `normalize.less` sets `[hidden] { display: none; }` but bootstrap.min.css set `[hidden] { display: none !important; }` so we also need the `!important` here to be able to override the default hidden behavior on the sphinx rendered scikit-learn.org. See: https://github.com/scikit-learn/scikit-learn/issues/21755 */display: inline-block !important;position: relative;}#sk-a817dd70-8ba6-4ed1-81fc-0972429281f2 div.sk-text-repr-fallback {display: none;}</style><div id=\"sk-a817dd70-8ba6-4ed1-81fc-0972429281f2\" class=\"sk-top-container\"><div class=\"sk-text-repr-fallback\"><pre>ColumnTransformer(remainder=&#x27;passthrough&#x27;,\n",
       "                  transformers=[(&#x27;num&#x27;,\n",
       "                                 Pipeline(steps=[(&#x27;imputer&#x27;,\n",
       "                                                  SimpleImputer(strategy=&#x27;median&#x27;)),\n",
       "                                                 (&#x27;scaler&#x27;, StandardScaler())]),\n",
       "                                 &lt;sklearn.compose._column_transformer.make_column_selector object at 0x0000024525255198&gt;),\n",
       "                                (&#x27;cat&#x27;,\n",
       "                                 Pipeline(steps=[(&#x27;imputer&#x27;,\n",
       "                                                  SimpleImputer(fill_value=&#x27;missing&#x27;,\n",
       "                                                                strategy=&#x27;constant&#x27;)),\n",
       "                                                 (&#x27;encoding&#x27;,\n",
       "                                                  OneHotEncoder(dtype=&lt;class &#x27;int&#x27;&gt;,\n",
       "                                                                handle_unknown=&#x27;ignore&#x27;))]),\n",
       "                                 &lt;sklearn.compose._column_transformer.make_column_selector object at 0x0000024523573D30&gt;)])</pre><b>Please rerun this cell to show the HTML repr or trust the notebook.</b></div><div class=\"sk-container\" hidden><div class=\"sk-item sk-dashed-wrapped\"><div class=\"sk-label-container\"><div class=\"sk-label sk-toggleable\"><input class=\"sk-toggleable__control sk-hidden--visually\" id=\"efe36bcf-08ac-4418-aa68-08c0af4ea199\" type=\"checkbox\" ><label for=\"efe36bcf-08ac-4418-aa68-08c0af4ea199\" class=\"sk-toggleable__label sk-toggleable__label-arrow\">ColumnTransformer</label><div class=\"sk-toggleable__content\"><pre>ColumnTransformer(remainder=&#x27;passthrough&#x27;,\n",
       "                  transformers=[(&#x27;num&#x27;,\n",
       "                                 Pipeline(steps=[(&#x27;imputer&#x27;,\n",
       "                                                  SimpleImputer(strategy=&#x27;median&#x27;)),\n",
       "                                                 (&#x27;scaler&#x27;, StandardScaler())]),\n",
       "                                 &lt;sklearn.compose._column_transformer.make_column_selector object at 0x0000024525255198&gt;),\n",
       "                                (&#x27;cat&#x27;,\n",
       "                                 Pipeline(steps=[(&#x27;imputer&#x27;,\n",
       "                                                  SimpleImputer(fill_value=&#x27;missing&#x27;,\n",
       "                                                                strategy=&#x27;constant&#x27;)),\n",
       "                                                 (&#x27;encoding&#x27;,\n",
       "                                                  OneHotEncoder(dtype=&lt;class &#x27;int&#x27;&gt;,\n",
       "                                                                handle_unknown=&#x27;ignore&#x27;))]),\n",
       "                                 &lt;sklearn.compose._column_transformer.make_column_selector object at 0x0000024523573D30&gt;)])</pre></div></div></div><div class=\"sk-parallel\"><div class=\"sk-parallel-item\"><div class=\"sk-item\"><div class=\"sk-label-container\"><div class=\"sk-label sk-toggleable\"><input class=\"sk-toggleable__control sk-hidden--visually\" id=\"6efa3820-5b62-46b5-807e-e541edcd06a0\" type=\"checkbox\" ><label for=\"6efa3820-5b62-46b5-807e-e541edcd06a0\" class=\"sk-toggleable__label sk-toggleable__label-arrow\">num</label><div class=\"sk-toggleable__content\"><pre>&lt;sklearn.compose._column_transformer.make_column_selector object at 0x0000024525255198&gt;</pre></div></div></div><div class=\"sk-serial\"><div class=\"sk-item\"><div class=\"sk-serial\"><div class=\"sk-item\"><div class=\"sk-estimator sk-toggleable\"><input class=\"sk-toggleable__control sk-hidden--visually\" id=\"a9f99604-6095-4d78-b815-41abd0f065dc\" type=\"checkbox\" ><label for=\"a9f99604-6095-4d78-b815-41abd0f065dc\" class=\"sk-toggleable__label sk-toggleable__label-arrow\">SimpleImputer</label><div class=\"sk-toggleable__content\"><pre>SimpleImputer(strategy=&#x27;median&#x27;)</pre></div></div></div><div class=\"sk-item\"><div class=\"sk-estimator sk-toggleable\"><input class=\"sk-toggleable__control sk-hidden--visually\" id=\"62d4cc3f-542a-4f6c-a981-eb2355b719d5\" type=\"checkbox\" ><label for=\"62d4cc3f-542a-4f6c-a981-eb2355b719d5\" class=\"sk-toggleable__label sk-toggleable__label-arrow\">StandardScaler</label><div class=\"sk-toggleable__content\"><pre>StandardScaler()</pre></div></div></div></div></div></div></div></div><div class=\"sk-parallel-item\"><div class=\"sk-item\"><div class=\"sk-label-container\"><div class=\"sk-label sk-toggleable\"><input class=\"sk-toggleable__control sk-hidden--visually\" id=\"a7b4d1ca-6454-4ec5-a8c7-243c7a041f14\" type=\"checkbox\" ><label for=\"a7b4d1ca-6454-4ec5-a8c7-243c7a041f14\" class=\"sk-toggleable__label sk-toggleable__label-arrow\">cat</label><div class=\"sk-toggleable__content\"><pre>&lt;sklearn.compose._column_transformer.make_column_selector object at 0x0000024523573D30&gt;</pre></div></div></div><div class=\"sk-serial\"><div class=\"sk-item\"><div class=\"sk-serial\"><div class=\"sk-item\"><div class=\"sk-estimator sk-toggleable\"><input class=\"sk-toggleable__control sk-hidden--visually\" id=\"87f1195a-724c-40e9-9f4b-d55bb104ce1f\" type=\"checkbox\" ><label for=\"87f1195a-724c-40e9-9f4b-d55bb104ce1f\" class=\"sk-toggleable__label sk-toggleable__label-arrow\">SimpleImputer</label><div class=\"sk-toggleable__content\"><pre>SimpleImputer(fill_value=&#x27;missing&#x27;, strategy=&#x27;constant&#x27;)</pre></div></div></div><div class=\"sk-item\"><div class=\"sk-estimator sk-toggleable\"><input class=\"sk-toggleable__control sk-hidden--visually\" id=\"dbcb21ae-4a71-4b3e-9f71-8816bafd4ff1\" type=\"checkbox\" ><label for=\"dbcb21ae-4a71-4b3e-9f71-8816bafd4ff1\" class=\"sk-toggleable__label sk-toggleable__label-arrow\">OneHotEncoder</label><div class=\"sk-toggleable__content\"><pre>OneHotEncoder(dtype=&lt;class &#x27;int&#x27;&gt;, handle_unknown=&#x27;ignore&#x27;)</pre></div></div></div></div></div></div></div></div><div class=\"sk-parallel-item\"><div class=\"sk-item\"><div class=\"sk-label-container\"><div class=\"sk-label sk-toggleable\"><input class=\"sk-toggleable__control sk-hidden--visually\" id=\"aaa0802c-214d-4873-8b58-3e9c439817c0\" type=\"checkbox\" ><label for=\"aaa0802c-214d-4873-8b58-3e9c439817c0\" class=\"sk-toggleable__label sk-toggleable__label-arrow\">remainder</label><div class=\"sk-toggleable__content\"><pre></pre></div></div></div><div class=\"sk-serial\"><div class=\"sk-item\"><div class=\"sk-estimator sk-toggleable\"><input class=\"sk-toggleable__control sk-hidden--visually\" id=\"23b9a3b0-1db0-4ab2-972d-cfd4f828c6fa\" type=\"checkbox\" ><label for=\"23b9a3b0-1db0-4ab2-972d-cfd4f828c6fa\" class=\"sk-toggleable__label sk-toggleable__label-arrow\">passthrough</label><div class=\"sk-toggleable__content\"><pre>passthrough</pre></div></div></div></div></div></div></div></div></div></div>"
      ],
      "text/plain": [
       "ColumnTransformer(remainder='passthrough',\n",
       "                  transformers=[('num',\n",
       "                                 Pipeline(steps=[('imputer',\n",
       "                                                  SimpleImputer(strategy='median')),\n",
       "                                                 ('scaler', StandardScaler())]),\n",
       "                                 <sklearn.compose._column_transformer.make_column_selector object at 0x0000024525255198>),\n",
       "                                ('cat',\n",
       "                                 Pipeline(steps=[('imputer',\n",
       "                                                  SimpleImputer(fill_value='missing',\n",
       "                                                                strategy='constant')),\n",
       "                                                 ('encoding',\n",
       "                                                  OneHotEncoder(dtype=<class 'int'>,\n",
       "                                                                handle_unknown='ignore'))]),\n",
       "                                 <sklearn.compose._column_transformer.make_column_selector object at 0x0000024523573D30>)])"
      ]
     },
     "execution_count": 17,
     "metadata": {},
     "output_type": "execute_result"
    }
   ],
   "source": [
    "from sklearn.pipeline import Pipeline\n",
    "from sklearn.preprocessing import MinMaxScaler, StandardScaler, OneHotEncoder\n",
    "from sklearn.compose import ColumnTransformer\n",
    "from sklearn.impute import SimpleImputer\n",
    "\n",
    "\n",
    "def create_preprocessor(num_cols=num_selector, cat_cols=cat_selector):\n",
    "    \"\"\"Preprocessor \"\"\"\n",
    "    num_pipe = Pipeline(steps=[\n",
    "        ('imputer', SimpleImputer(strategy='median')),\n",
    "        ('scaler', StandardScaler())\n",
    "    ])\n",
    "    cat_pipe = Pipeline(steps=[\n",
    "        ('imputer', SimpleImputer(strategy='constant', fill_value='missing')),\n",
    "        ('encoding', OneHotEncoder(dtype=int, sparse=True, handle_unknown='ignore'))\n",
    "    ])\n",
    "    preprocessor = ColumnTransformer(transformers=[\n",
    "        ('num', num_pipe, num_cols),\n",
    "        ('cat', cat_pipe, cat_cols)\n",
    "    ],\n",
    "        remainder='passthrough')\n",
    "    return preprocessor\n",
    "\n",
    "\n",
    "preprocessor = create_preprocessor()\n",
    "preprocessor\n"
   ]
  },
  {
   "cell_type": "code",
   "execution_count": 18,
   "metadata": {},
   "outputs": [
    {
     "data": {
      "text/html": [
       "<style>#sk-dc46ce19-351f-4fcd-b25d-d5a6eb09281d {color: black;background-color: white;}#sk-dc46ce19-351f-4fcd-b25d-d5a6eb09281d pre{padding: 0;}#sk-dc46ce19-351f-4fcd-b25d-d5a6eb09281d div.sk-toggleable {background-color: white;}#sk-dc46ce19-351f-4fcd-b25d-d5a6eb09281d label.sk-toggleable__label {cursor: pointer;display: block;width: 100%;margin-bottom: 0;padding: 0.3em;box-sizing: border-box;text-align: center;}#sk-dc46ce19-351f-4fcd-b25d-d5a6eb09281d label.sk-toggleable__label-arrow:before {content: \"▸\";float: left;margin-right: 0.25em;color: #696969;}#sk-dc46ce19-351f-4fcd-b25d-d5a6eb09281d label.sk-toggleable__label-arrow:hover:before {color: black;}#sk-dc46ce19-351f-4fcd-b25d-d5a6eb09281d div.sk-estimator:hover label.sk-toggleable__label-arrow:before {color: black;}#sk-dc46ce19-351f-4fcd-b25d-d5a6eb09281d div.sk-toggleable__content {max-height: 0;max-width: 0;overflow: hidden;text-align: left;background-color: #f0f8ff;}#sk-dc46ce19-351f-4fcd-b25d-d5a6eb09281d div.sk-toggleable__content pre {margin: 0.2em;color: black;border-radius: 0.25em;background-color: #f0f8ff;}#sk-dc46ce19-351f-4fcd-b25d-d5a6eb09281d input.sk-toggleable__control:checked~div.sk-toggleable__content {max-height: 200px;max-width: 100%;overflow: auto;}#sk-dc46ce19-351f-4fcd-b25d-d5a6eb09281d input.sk-toggleable__control:checked~label.sk-toggleable__label-arrow:before {content: \"▾\";}#sk-dc46ce19-351f-4fcd-b25d-d5a6eb09281d div.sk-estimator input.sk-toggleable__control:checked~label.sk-toggleable__label {background-color: #d4ebff;}#sk-dc46ce19-351f-4fcd-b25d-d5a6eb09281d div.sk-label input.sk-toggleable__control:checked~label.sk-toggleable__label {background-color: #d4ebff;}#sk-dc46ce19-351f-4fcd-b25d-d5a6eb09281d input.sk-hidden--visually {border: 0;clip: rect(1px 1px 1px 1px);clip: rect(1px, 1px, 1px, 1px);height: 1px;margin: -1px;overflow: hidden;padding: 0;position: absolute;width: 1px;}#sk-dc46ce19-351f-4fcd-b25d-d5a6eb09281d div.sk-estimator {font-family: monospace;background-color: #f0f8ff;border: 1px dotted black;border-radius: 0.25em;box-sizing: border-box;margin-bottom: 0.5em;}#sk-dc46ce19-351f-4fcd-b25d-d5a6eb09281d div.sk-estimator:hover {background-color: #d4ebff;}#sk-dc46ce19-351f-4fcd-b25d-d5a6eb09281d div.sk-parallel-item::after {content: \"\";width: 100%;border-bottom: 1px solid gray;flex-grow: 1;}#sk-dc46ce19-351f-4fcd-b25d-d5a6eb09281d div.sk-label:hover label.sk-toggleable__label {background-color: #d4ebff;}#sk-dc46ce19-351f-4fcd-b25d-d5a6eb09281d div.sk-serial::before {content: \"\";position: absolute;border-left: 1px solid gray;box-sizing: border-box;top: 2em;bottom: 0;left: 50%;}#sk-dc46ce19-351f-4fcd-b25d-d5a6eb09281d div.sk-serial {display: flex;flex-direction: column;align-items: center;background-color: white;padding-right: 0.2em;padding-left: 0.2em;}#sk-dc46ce19-351f-4fcd-b25d-d5a6eb09281d div.sk-item {z-index: 1;}#sk-dc46ce19-351f-4fcd-b25d-d5a6eb09281d div.sk-parallel {display: flex;align-items: stretch;justify-content: center;background-color: white;}#sk-dc46ce19-351f-4fcd-b25d-d5a6eb09281d div.sk-parallel::before {content: \"\";position: absolute;border-left: 1px solid gray;box-sizing: border-box;top: 2em;bottom: 0;left: 50%;}#sk-dc46ce19-351f-4fcd-b25d-d5a6eb09281d div.sk-parallel-item {display: flex;flex-direction: column;position: relative;background-color: white;}#sk-dc46ce19-351f-4fcd-b25d-d5a6eb09281d div.sk-parallel-item:first-child::after {align-self: flex-end;width: 50%;}#sk-dc46ce19-351f-4fcd-b25d-d5a6eb09281d div.sk-parallel-item:last-child::after {align-self: flex-start;width: 50%;}#sk-dc46ce19-351f-4fcd-b25d-d5a6eb09281d div.sk-parallel-item:only-child::after {width: 0;}#sk-dc46ce19-351f-4fcd-b25d-d5a6eb09281d div.sk-dashed-wrapped {border: 1px dashed gray;margin: 0 0.4em 0.5em 0.4em;box-sizing: border-box;padding-bottom: 0.4em;background-color: white;position: relative;}#sk-dc46ce19-351f-4fcd-b25d-d5a6eb09281d div.sk-label label {font-family: monospace;font-weight: bold;background-color: white;display: inline-block;line-height: 1.2em;}#sk-dc46ce19-351f-4fcd-b25d-d5a6eb09281d div.sk-label-container {position: relative;z-index: 2;text-align: center;}#sk-dc46ce19-351f-4fcd-b25d-d5a6eb09281d div.sk-container {/* jupyter's `normalize.less` sets `[hidden] { display: none; }` but bootstrap.min.css set `[hidden] { display: none !important; }` so we also need the `!important` here to be able to override the default hidden behavior on the sphinx rendered scikit-learn.org. See: https://github.com/scikit-learn/scikit-learn/issues/21755 */display: inline-block !important;position: relative;}#sk-dc46ce19-351f-4fcd-b25d-d5a6eb09281d div.sk-text-repr-fallback {display: none;}</style><div id=\"sk-dc46ce19-351f-4fcd-b25d-d5a6eb09281d\" class=\"sk-top-container\"><div class=\"sk-text-repr-fallback\"><pre>Pipeline(steps=[(&#x27;preprocessor&#x27;,\n",
       "                 ColumnTransformer(transformers=[(&#x27;num&#x27;,\n",
       "                                                  Pipeline(steps=[(&#x27;imputer&#x27;,\n",
       "                                                                   SimpleImputer(strategy=&#x27;median&#x27;)),\n",
       "                                                                  (&#x27;simple_scale&#x27;,\n",
       "                                                                   StandardScaler())]),\n",
       "                                                  &lt;sklearn.compose._column_transformer.make_column_selector object at 0x0000024525255198&gt;)]))])</pre><b>Please rerun this cell to show the HTML repr or trust the notebook.</b></div><div class=\"sk-container\" hidden><div class=\"sk-item sk-dashed-wrapped\"><div class=\"sk-label-container\"><div class=\"sk-label sk-toggleable\"><input class=\"sk-toggleable__control sk-hidden--visually\" id=\"00f445a9-fbca-4ca8-993c-fb62b83ea2da\" type=\"checkbox\" ><label for=\"00f445a9-fbca-4ca8-993c-fb62b83ea2da\" class=\"sk-toggleable__label sk-toggleable__label-arrow\">Pipeline</label><div class=\"sk-toggleable__content\"><pre>Pipeline(steps=[(&#x27;preprocessor&#x27;,\n",
       "                 ColumnTransformer(transformers=[(&#x27;num&#x27;,\n",
       "                                                  Pipeline(steps=[(&#x27;imputer&#x27;,\n",
       "                                                                   SimpleImputer(strategy=&#x27;median&#x27;)),\n",
       "                                                                  (&#x27;simple_scale&#x27;,\n",
       "                                                                   StandardScaler())]),\n",
       "                                                  &lt;sklearn.compose._column_transformer.make_column_selector object at 0x0000024525255198&gt;)]))])</pre></div></div></div><div class=\"sk-serial\"><div class=\"sk-item sk-dashed-wrapped\"><div class=\"sk-label-container\"><div class=\"sk-label sk-toggleable\"><input class=\"sk-toggleable__control sk-hidden--visually\" id=\"b7ebb45c-4e35-4a3b-a9ee-b5164de26f01\" type=\"checkbox\" ><label for=\"b7ebb45c-4e35-4a3b-a9ee-b5164de26f01\" class=\"sk-toggleable__label sk-toggleable__label-arrow\">preprocessor: ColumnTransformer</label><div class=\"sk-toggleable__content\"><pre>ColumnTransformer(transformers=[(&#x27;num&#x27;,\n",
       "                                 Pipeline(steps=[(&#x27;imputer&#x27;,\n",
       "                                                  SimpleImputer(strategy=&#x27;median&#x27;)),\n",
       "                                                 (&#x27;simple_scale&#x27;,\n",
       "                                                  StandardScaler())]),\n",
       "                                 &lt;sklearn.compose._column_transformer.make_column_selector object at 0x0000024525255198&gt;)])</pre></div></div></div><div class=\"sk-parallel\"><div class=\"sk-parallel-item\"><div class=\"sk-item\"><div class=\"sk-label-container\"><div class=\"sk-label sk-toggleable\"><input class=\"sk-toggleable__control sk-hidden--visually\" id=\"6825348c-30d5-4538-b3c1-ddb1b1f9f9f1\" type=\"checkbox\" ><label for=\"6825348c-30d5-4538-b3c1-ddb1b1f9f9f1\" class=\"sk-toggleable__label sk-toggleable__label-arrow\">num</label><div class=\"sk-toggleable__content\"><pre>&lt;sklearn.compose._column_transformer.make_column_selector object at 0x0000024525255198&gt;</pre></div></div></div><div class=\"sk-serial\"><div class=\"sk-item\"><div class=\"sk-serial\"><div class=\"sk-item\"><div class=\"sk-estimator sk-toggleable\"><input class=\"sk-toggleable__control sk-hidden--visually\" id=\"8f4ea78a-03fc-4ec1-9564-ad0040d9ac32\" type=\"checkbox\" ><label for=\"8f4ea78a-03fc-4ec1-9564-ad0040d9ac32\" class=\"sk-toggleable__label sk-toggleable__label-arrow\">SimpleImputer</label><div class=\"sk-toggleable__content\"><pre>SimpleImputer(strategy=&#x27;median&#x27;)</pre></div></div></div><div class=\"sk-item\"><div class=\"sk-estimator sk-toggleable\"><input class=\"sk-toggleable__control sk-hidden--visually\" id=\"e3501e17-9c0d-4f6d-9e52-1e6054c77eda\" type=\"checkbox\" ><label for=\"e3501e17-9c0d-4f6d-9e52-1e6054c77eda\" class=\"sk-toggleable__label sk-toggleable__label-arrow\">StandardScaler</label><div class=\"sk-toggleable__content\"><pre>StandardScaler()</pre></div></div></div></div></div></div></div></div></div></div></div></div></div></div>"
      ],
      "text/plain": [
       "Pipeline(steps=[('preprocessor',\n",
       "                 ColumnTransformer(transformers=[('num',\n",
       "                                                  Pipeline(steps=[('imputer',\n",
       "                                                                   SimpleImputer(strategy='median')),\n",
       "                                                                  ('simple_scale',\n",
       "                                                                   StandardScaler())]),\n",
       "                                                  <sklearn.compose._column_transformer.make_column_selector object at 0x0000024525255198>)]))])"
      ]
     },
     "execution_count": 18,
     "metadata": {},
     "output_type": "execute_result"
    }
   ],
   "source": [
    "numeric_pipeline = Pipeline(steps=[\n",
    "    ('preprocessor', ColumnTransformer(transformers=[\n",
    "        ('num', Pipeline([\n",
    "            ('imputer', SimpleImputer(strategy=\"median\")),\n",
    "            ('simple_scale', StandardScaler())\n",
    "        ]), num_selector),\n",
    "    ]))\n",
    "])\n",
    "numeric_pipeline\n"
   ]
  },
  {
   "cell_type": "code",
   "execution_count": 19,
   "metadata": {},
   "outputs": [
    {
     "name": "stdout",
     "output_type": "stream",
     "text": [
      "['EXT_SOURCE_3' 'EXT_SOURCE_2' 'EXT_SOURCE_1' 'PREV_DAYS_DECISION_MIN'\n",
      " 'PREV_AMT_ANNUITY_MEAN']\n"
     ]
    }
   ],
   "source": [
    "numeric_pipeline.fit(x_train)\n",
    "print(numeric_pipeline.feature_names_in_[:5])\n",
    "\n",
    "# Erreur si on essaie de récuperer les noms de colonnes\n",
    "# numeric_pipeline.get_feature_names_out(numeric_pipeline.feature_names_in_)\n"
   ]
  },
  {
   "cell_type": "markdown",
   "metadata": {},
   "source": [
    "### Get feature names pour les preprocessors\n",
    "\n",
    "Pour interpreter les models, il faut savoir les variables après preprocessing.\n",
    "\n",
    "Malheureusement, beaucoup des transformers de `sklearn` perd leurs feature names\n",
    "\n",
    "- SimpleImputer, FunctionTransformer, StandardScalar do not implement `get_feature_names_out`\n",
    "- Ça pose des problèmes pour l'interprétabilité des modèles\n",
    "\n",
    "L'ordre des features dépend des column selectors et l'ordre des ColumnTransformers\n",
    "\n",
    "- Avec des 'named transformers' et 'named steps' dans un ordre spécifique, on peut récupérer les noms des features dans l'ordre\n"
   ]
  },
  {
   "cell_type": "code",
   "execution_count": 20,
   "metadata": {},
   "outputs": [],
   "source": [
    "def get_features_out(pipe, xtrain_):\n",
    "    \"\"\"\n",
    "    Get column names after preprocessing\n",
    "\n",
    "    assumes (requires preprocessors with following structure):\n",
    "    - all named transformers, if present, are in same order as listed below\n",
    "    - if preprocessor has other transformers, add to list below\n",
    "    - only final transformer (named 'cat') adds columns, via an encoder step named 'ohe'\n",
    "    - if imputer is used, it does not add indicator columns\n",
    "    \"\"\"\n",
    "\n",
    "    def get_features_in_(trans: ColumnTransformer, name=None):\n",
    "        try:\n",
    "            features = list(trans.named_transformers_[name].feature_names_in_)\n",
    "        except:\n",
    "            # named transformer doesn't exist in pipeline, return empty list\n",
    "            features = []\n",
    "        return features\n",
    "\n",
    "    pipe.fit(xtrain_)\n",
    "    if hasattr(pipe, 'named_steps'):\n",
    "        trans: ColumnTransformer = pipe.named_steps['preprocessor']\n",
    "    else:\n",
    "        trans = pipe\n",
    "    # SimpleImputer, FunctionTransformer, StandardScalar do not implement get_feature_names_out\n",
    "\n",
    "    # Get feature names of numeric columns\n",
    "    num_features = get_features_in_(trans, 'num')\n",
    "    scale_features = get_features_in_(trans, 'simple_scale')\n",
    "    log_features = get_features_in_(trans, 'log_scale')\n",
    "    ordinal_features = get_features_in_(trans, 'ordinal')\n",
    "    try:\n",
    "        cat_encoder = trans.named_transformers_['cat']\n",
    "        ohe = cat_encoder.named_steps['ohe']\n",
    "        category_features = list(\n",
    "            ohe.get_feature_names_out(cat_encoder.feature_names_in_))\n",
    "    except:\n",
    "        category_features = []\n",
    "    features_out = (num_features+scale_features + log_features\n",
    "                    + ordinal_features + category_features)\n",
    "    return features_out\n"
   ]
  },
  {
   "cell_type": "markdown",
   "metadata": {},
   "source": [
    "Test get_features_out\n"
   ]
  },
  {
   "cell_type": "code",
   "execution_count": 21,
   "metadata": {},
   "outputs": [
    {
     "name": "stdout",
     "output_type": "stream",
     "text": [
      "(8000, 83)\n",
      "83\n",
      "['EXT_SOURCE_3', 'EXT_SOURCE_2', 'EXT_SOURCE_1']\n"
     ]
    }
   ],
   "source": [
    "x_transformed = numeric_pipeline.fit_transform(x_train)\n",
    "x_transformed_columns = get_features_out(numeric_pipeline, x_train)\n",
    "print(x_transformed.shape)\n",
    "print(len(x_transformed_columns))\n",
    "print(x_transformed_columns[:3])\n"
   ]
  },
  {
   "cell_type": "markdown",
   "metadata": {},
   "source": [
    "#### Preprocessor avec feature names\n"
   ]
  },
  {
   "cell_type": "code",
   "execution_count": 22,
   "metadata": {},
   "outputs": [],
   "source": [
    "def preprocess(pipe, x_train_, x_test_):\n",
    "    \"\"\"Preprocess x_train et x_test séparament.\n",
    "    Retourner les données transformés comme pandas DataFrames avec feature names\"\"\"\n",
    "    features_out = get_features_out(pipe, x_train_)\n",
    "    x_train_out = pd.DataFrame(pipe.fit_transform(\n",
    "        x_train_), columns=features_out, index=x_train_.index)\n",
    "    x_test_out = pd.DataFrame(pipe.transform(\n",
    "        x_test_), columns=features_out, index=x_test_.index)\n",
    "    return x_train_out, x_test_out\n"
   ]
  },
  {
   "cell_type": "markdown",
   "metadata": {},
   "source": [
    "### Impute NaN avant oversampling\n",
    "\n",
    "Pour oversampling, il ne faut pas avoir des NaN\n",
    "\n",
    "On les remplis avec SimpleImputer (median), puis un rescale\n"
   ]
  },
  {
   "cell_type": "code",
   "execution_count": 23,
   "metadata": {},
   "outputs": [
    {
     "name": "stdout",
     "output_type": "stream",
     "text": [
      "preprocess data - done in 0s\n"
     ]
    }
   ],
   "source": [
    "with timer('preprocess data'):\n",
    "    x_train_prep, x_test_prep = preprocess(preprocessor, x_train, x_test)\n"
   ]
  },
  {
   "cell_type": "markdown",
   "metadata": {},
   "source": [
    "## Options de sampling : Ré-equilibration des classes cible\n",
    "\n",
    "Il y a environ 800 colonnes de données, la plupart seront insignifiant en importance pour la modèle.\n",
    "\n",
    "On peut faire feature selection basé sur les données, mais comme les données sont pour la plupart target = 0, ça met plus de poid sur la classe 'loan repaid.\n",
    "\n",
    "La référence ci-dessous recommande faire la ré-equilibration des classes, via oversampling AVANT feature selection.\n",
    "\n",
    "#### Références\n",
    "\n",
    "- [SMOTE for high-dimensional class-imbalanced data](https://www.ncbi.nlm.nih.gov/pmc/articles/PMC3648438/)\n"
   ]
  },
  {
   "cell_type": "markdown",
   "metadata": {},
   "source": [
    "### Oversample les données sans valeurs manquantes (NaN)\n"
   ]
  },
  {
   "cell_type": "markdown",
   "metadata": {},
   "source": [
    "On a plusieurs stratégies de sampling possible pour équilibré le poid des classes\n",
    "\n",
    "**Weights**\n",
    "\n",
    "- ajout plus de poids pour les observations minoritaires\n",
    "\n",
    "**Random undersampling**\n",
    "\n",
    "- éliminaire aléatoirement des observations majoritaires\n",
    "\n",
    "**Random oversampling**\n",
    "\n",
    "- ajout aleatoirement aux données des copies d'observations minoritaires\n",
    "\n",
    "**Synthetic Minority Oversampling Technique (SMOTE)**\n",
    "\n",
    "- ajout des observations minoritaires similaires mais distinctes des observations minoritaires existantes\n",
    "\n",
    "**SMOTE Tomek**\n",
    "\n",
    "- oversample, puis undersample les bordeline cas\n"
   ]
  },
  {
   "cell_type": "markdown",
   "metadata": {},
   "source": [
    "# Créer des instances des samplers\n"
   ]
  },
  {
   "cell_type": "code",
   "execution_count": 24,
   "metadata": {},
   "outputs": [],
   "source": [
    "# Random undersampling\n",
    "undersampler = RandomUnderSampler(sampling_strategy='majority')\n",
    "\n",
    "# Random oversampling\n",
    "oversampler = RandomOverSampler(sampling_strategy='minority')\n",
    "\n",
    "# Synthetic Minority Oversampling Technique (SMOTE)\n",
    "smote_adasyn = SMOTE(sampling_strategy='ADASYN')\n",
    "\n",
    "# over-sample borderline, then undersample)\n",
    "smote_tomek = SMOTETomek(tomek=TomekLinks(sampling_strategy='majority'))\n"
   ]
  },
  {
   "cell_type": "code",
   "execution_count": 25,
   "metadata": {},
   "outputs": [
    {
     "name": "stdout",
     "output_type": "stream",
     "text": [
      "oversample - done in 0s\n",
      "(10000, 83)\n",
      "(8000, 83)\n",
      "(14676, 83)\n"
     ]
    }
   ],
   "source": [
    "from imblearn import over_sampling\n",
    "\n",
    "oversampler = over_sampling.SMOTE()\n",
    "with timer(title='oversample'):\n",
    "    x_train_smote, y_train_smote = oversampler.fit_resample(\n",
    "        x_train_prep, y_train)\n",
    "\n",
    "\n",
    "print(X.shape)\n",
    "print(x_train.shape)\n",
    "print(x_train_smote.shape)\n"
   ]
  },
  {
   "cell_type": "code",
   "execution_count": 26,
   "metadata": {},
   "outputs": [],
   "source": [
    "\n",
    "undersampler = RandomUnderSampler(sampling_strategy='majority')\n",
    "oversampler = RandomOverSampler(sampling_strategy='minority')\n",
    "\n",
    "# SMOTE :\n",
    "# oversample with ADASYN\n",
    "smote_adasyn = SMOTE(sampling_strategy='ADASYN')\n",
    "\n",
    "\n",
    "# over-sample borderline, then undersample)\n",
    "smote_tomek = SMOTETomek(tomek=TomekLinks(sampling_strategy='majority'))\n"
   ]
  },
  {
   "cell_type": "markdown",
   "metadata": {},
   "source": [
    "## Construction d'un model pipeline avec SMOTE\n",
    "\n",
    "References\n",
    "\n",
    "- <https://towardsdatascience.com/the-right-way-of-using-smote-with-cross-validation-92a8d09d00c7>\n"
   ]
  },
  {
   "cell_type": "code",
   "execution_count": 27,
   "metadata": {},
   "outputs": [
    {
     "data": {
      "text/html": [
       "<style>#sk-5f860552-8767-4838-bdd3-233b381f909e {color: black;background-color: white;}#sk-5f860552-8767-4838-bdd3-233b381f909e pre{padding: 0;}#sk-5f860552-8767-4838-bdd3-233b381f909e div.sk-toggleable {background-color: white;}#sk-5f860552-8767-4838-bdd3-233b381f909e label.sk-toggleable__label {cursor: pointer;display: block;width: 100%;margin-bottom: 0;padding: 0.3em;box-sizing: border-box;text-align: center;}#sk-5f860552-8767-4838-bdd3-233b381f909e label.sk-toggleable__label-arrow:before {content: \"▸\";float: left;margin-right: 0.25em;color: #696969;}#sk-5f860552-8767-4838-bdd3-233b381f909e label.sk-toggleable__label-arrow:hover:before {color: black;}#sk-5f860552-8767-4838-bdd3-233b381f909e div.sk-estimator:hover label.sk-toggleable__label-arrow:before {color: black;}#sk-5f860552-8767-4838-bdd3-233b381f909e div.sk-toggleable__content {max-height: 0;max-width: 0;overflow: hidden;text-align: left;background-color: #f0f8ff;}#sk-5f860552-8767-4838-bdd3-233b381f909e div.sk-toggleable__content pre {margin: 0.2em;color: black;border-radius: 0.25em;background-color: #f0f8ff;}#sk-5f860552-8767-4838-bdd3-233b381f909e input.sk-toggleable__control:checked~div.sk-toggleable__content {max-height: 200px;max-width: 100%;overflow: auto;}#sk-5f860552-8767-4838-bdd3-233b381f909e input.sk-toggleable__control:checked~label.sk-toggleable__label-arrow:before {content: \"▾\";}#sk-5f860552-8767-4838-bdd3-233b381f909e div.sk-estimator input.sk-toggleable__control:checked~label.sk-toggleable__label {background-color: #d4ebff;}#sk-5f860552-8767-4838-bdd3-233b381f909e div.sk-label input.sk-toggleable__control:checked~label.sk-toggleable__label {background-color: #d4ebff;}#sk-5f860552-8767-4838-bdd3-233b381f909e input.sk-hidden--visually {border: 0;clip: rect(1px 1px 1px 1px);clip: rect(1px, 1px, 1px, 1px);height: 1px;margin: -1px;overflow: hidden;padding: 0;position: absolute;width: 1px;}#sk-5f860552-8767-4838-bdd3-233b381f909e div.sk-estimator {font-family: monospace;background-color: #f0f8ff;border: 1px dotted black;border-radius: 0.25em;box-sizing: border-box;margin-bottom: 0.5em;}#sk-5f860552-8767-4838-bdd3-233b381f909e div.sk-estimator:hover {background-color: #d4ebff;}#sk-5f860552-8767-4838-bdd3-233b381f909e div.sk-parallel-item::after {content: \"\";width: 100%;border-bottom: 1px solid gray;flex-grow: 1;}#sk-5f860552-8767-4838-bdd3-233b381f909e div.sk-label:hover label.sk-toggleable__label {background-color: #d4ebff;}#sk-5f860552-8767-4838-bdd3-233b381f909e div.sk-serial::before {content: \"\";position: absolute;border-left: 1px solid gray;box-sizing: border-box;top: 2em;bottom: 0;left: 50%;}#sk-5f860552-8767-4838-bdd3-233b381f909e div.sk-serial {display: flex;flex-direction: column;align-items: center;background-color: white;padding-right: 0.2em;padding-left: 0.2em;}#sk-5f860552-8767-4838-bdd3-233b381f909e div.sk-item {z-index: 1;}#sk-5f860552-8767-4838-bdd3-233b381f909e div.sk-parallel {display: flex;align-items: stretch;justify-content: center;background-color: white;}#sk-5f860552-8767-4838-bdd3-233b381f909e div.sk-parallel::before {content: \"\";position: absolute;border-left: 1px solid gray;box-sizing: border-box;top: 2em;bottom: 0;left: 50%;}#sk-5f860552-8767-4838-bdd3-233b381f909e div.sk-parallel-item {display: flex;flex-direction: column;position: relative;background-color: white;}#sk-5f860552-8767-4838-bdd3-233b381f909e div.sk-parallel-item:first-child::after {align-self: flex-end;width: 50%;}#sk-5f860552-8767-4838-bdd3-233b381f909e div.sk-parallel-item:last-child::after {align-self: flex-start;width: 50%;}#sk-5f860552-8767-4838-bdd3-233b381f909e div.sk-parallel-item:only-child::after {width: 0;}#sk-5f860552-8767-4838-bdd3-233b381f909e div.sk-dashed-wrapped {border: 1px dashed gray;margin: 0 0.4em 0.5em 0.4em;box-sizing: border-box;padding-bottom: 0.4em;background-color: white;position: relative;}#sk-5f860552-8767-4838-bdd3-233b381f909e div.sk-label label {font-family: monospace;font-weight: bold;background-color: white;display: inline-block;line-height: 1.2em;}#sk-5f860552-8767-4838-bdd3-233b381f909e div.sk-label-container {position: relative;z-index: 2;text-align: center;}#sk-5f860552-8767-4838-bdd3-233b381f909e div.sk-container {/* jupyter's `normalize.less` sets `[hidden] { display: none; }` but bootstrap.min.css set `[hidden] { display: none !important; }` so we also need the `!important` here to be able to override the default hidden behavior on the sphinx rendered scikit-learn.org. See: https://github.com/scikit-learn/scikit-learn/issues/21755 */display: inline-block !important;position: relative;}#sk-5f860552-8767-4838-bdd3-233b381f909e div.sk-text-repr-fallback {display: none;}</style><div id=\"sk-5f860552-8767-4838-bdd3-233b381f909e\" class=\"sk-top-container\"><div class=\"sk-text-repr-fallback\"><pre>Pipeline(steps=[(&#x27;smote&#x27;, SMOTE(random_state=11)),\n",
       "                (&#x27;preprocess&#x27;,\n",
       "                 ColumnTransformer(remainder=&#x27;passthrough&#x27;,\n",
       "                                   transformers=[(&#x27;num&#x27;,\n",
       "                                                  Pipeline(steps=[(&#x27;imputer&#x27;,\n",
       "                                                                   SimpleImputer(strategy=&#x27;median&#x27;)),\n",
       "                                                                  (&#x27;scaler&#x27;,\n",
       "                                                                   StandardScaler())]),\n",
       "                                                  &lt;sklearn.compose._column_transformer.make_column_selector object at 0x0000024525255198&gt;),\n",
       "                                                 (&#x27;cat&#x27;,\n",
       "                                                  Pipeline(steps=[(&#x27;imputer&#x27;,\n",
       "                                                                   SimpleImputer(fill_value=&#x27;missing&#x27;,\n",
       "                                                                                 strategy=&#x27;constant&#x27;)),\n",
       "                                                                  (&#x27;encoding&#x27;,\n",
       "                                                                   OneHotEncoder(dtype=&lt;class &#x27;int&#x27;&gt;,\n",
       "                                                                                 handle_unknown=&#x27;ignore&#x27;))]),\n",
       "                                                  &lt;sklearn.compose._column_transformer.make_column_selector object at 0x0000024523573D30&gt;)])),\n",
       "                (&#x27;feat_select&#x27;, SelectKBest(k=50)),\n",
       "                (&#x27;clf&#x27;, RidgeClassifier())])</pre><b>Please rerun this cell to show the HTML repr or trust the notebook.</b></div><div class=\"sk-container\" hidden><div class=\"sk-item sk-dashed-wrapped\"><div class=\"sk-label-container\"><div class=\"sk-label sk-toggleable\"><input class=\"sk-toggleable__control sk-hidden--visually\" id=\"3260e271-8b0a-4dc5-80fd-f37398deb53f\" type=\"checkbox\" ><label for=\"3260e271-8b0a-4dc5-80fd-f37398deb53f\" class=\"sk-toggleable__label sk-toggleable__label-arrow\">Pipeline</label><div class=\"sk-toggleable__content\"><pre>Pipeline(steps=[(&#x27;smote&#x27;, SMOTE(random_state=11)),\n",
       "                (&#x27;preprocess&#x27;,\n",
       "                 ColumnTransformer(remainder=&#x27;passthrough&#x27;,\n",
       "                                   transformers=[(&#x27;num&#x27;,\n",
       "                                                  Pipeline(steps=[(&#x27;imputer&#x27;,\n",
       "                                                                   SimpleImputer(strategy=&#x27;median&#x27;)),\n",
       "                                                                  (&#x27;scaler&#x27;,\n",
       "                                                                   StandardScaler())]),\n",
       "                                                  &lt;sklearn.compose._column_transformer.make_column_selector object at 0x0000024525255198&gt;),\n",
       "                                                 (&#x27;cat&#x27;,\n",
       "                                                  Pipeline(steps=[(&#x27;imputer&#x27;,\n",
       "                                                                   SimpleImputer(fill_value=&#x27;missing&#x27;,\n",
       "                                                                                 strategy=&#x27;constant&#x27;)),\n",
       "                                                                  (&#x27;encoding&#x27;,\n",
       "                                                                   OneHotEncoder(dtype=&lt;class &#x27;int&#x27;&gt;,\n",
       "                                                                                 handle_unknown=&#x27;ignore&#x27;))]),\n",
       "                                                  &lt;sklearn.compose._column_transformer.make_column_selector object at 0x0000024523573D30&gt;)])),\n",
       "                (&#x27;feat_select&#x27;, SelectKBest(k=50)),\n",
       "                (&#x27;clf&#x27;, RidgeClassifier())])</pre></div></div></div><div class=\"sk-serial\"><div class=\"sk-item\"><div class=\"sk-estimator sk-toggleable\"><input class=\"sk-toggleable__control sk-hidden--visually\" id=\"82ed17bd-d1d2-4592-8b19-98d32ede2348\" type=\"checkbox\" ><label for=\"82ed17bd-d1d2-4592-8b19-98d32ede2348\" class=\"sk-toggleable__label sk-toggleable__label-arrow\">SMOTE</label><div class=\"sk-toggleable__content\"><pre>SMOTE(random_state=11)</pre></div></div></div><div class=\"sk-item sk-dashed-wrapped\"><div class=\"sk-label-container\"><div class=\"sk-label sk-toggleable\"><input class=\"sk-toggleable__control sk-hidden--visually\" id=\"fe207e9b-4e7d-418e-aaa8-34b7c4de032d\" type=\"checkbox\" ><label for=\"fe207e9b-4e7d-418e-aaa8-34b7c4de032d\" class=\"sk-toggleable__label sk-toggleable__label-arrow\">preprocess: ColumnTransformer</label><div class=\"sk-toggleable__content\"><pre>ColumnTransformer(remainder=&#x27;passthrough&#x27;,\n",
       "                  transformers=[(&#x27;num&#x27;,\n",
       "                                 Pipeline(steps=[(&#x27;imputer&#x27;,\n",
       "                                                  SimpleImputer(strategy=&#x27;median&#x27;)),\n",
       "                                                 (&#x27;scaler&#x27;, StandardScaler())]),\n",
       "                                 &lt;sklearn.compose._column_transformer.make_column_selector object at 0x0000024525255198&gt;),\n",
       "                                (&#x27;cat&#x27;,\n",
       "                                 Pipeline(steps=[(&#x27;imputer&#x27;,\n",
       "                                                  SimpleImputer(fill_value=&#x27;missing&#x27;,\n",
       "                                                                strategy=&#x27;constant&#x27;)),\n",
       "                                                 (&#x27;encoding&#x27;,\n",
       "                                                  OneHotEncoder(dtype=&lt;class &#x27;int&#x27;&gt;,\n",
       "                                                                handle_unknown=&#x27;ignore&#x27;))]),\n",
       "                                 &lt;sklearn.compose._column_transformer.make_column_selector object at 0x0000024523573D30&gt;)])</pre></div></div></div><div class=\"sk-parallel\"><div class=\"sk-parallel-item\"><div class=\"sk-item\"><div class=\"sk-label-container\"><div class=\"sk-label sk-toggleable\"><input class=\"sk-toggleable__control sk-hidden--visually\" id=\"762ad136-503a-4a9b-9d2d-acd70f075aa8\" type=\"checkbox\" ><label for=\"762ad136-503a-4a9b-9d2d-acd70f075aa8\" class=\"sk-toggleable__label sk-toggleable__label-arrow\">num</label><div class=\"sk-toggleable__content\"><pre>&lt;sklearn.compose._column_transformer.make_column_selector object at 0x0000024525255198&gt;</pre></div></div></div><div class=\"sk-serial\"><div class=\"sk-item\"><div class=\"sk-serial\"><div class=\"sk-item\"><div class=\"sk-estimator sk-toggleable\"><input class=\"sk-toggleable__control sk-hidden--visually\" id=\"fad7cd12-032a-4abe-8f0a-f986fdaf143b\" type=\"checkbox\" ><label for=\"fad7cd12-032a-4abe-8f0a-f986fdaf143b\" class=\"sk-toggleable__label sk-toggleable__label-arrow\">SimpleImputer</label><div class=\"sk-toggleable__content\"><pre>SimpleImputer(strategy=&#x27;median&#x27;)</pre></div></div></div><div class=\"sk-item\"><div class=\"sk-estimator sk-toggleable\"><input class=\"sk-toggleable__control sk-hidden--visually\" id=\"8270ebed-04e6-4f24-8cfd-caf2aee656bc\" type=\"checkbox\" ><label for=\"8270ebed-04e6-4f24-8cfd-caf2aee656bc\" class=\"sk-toggleable__label sk-toggleable__label-arrow\">StandardScaler</label><div class=\"sk-toggleable__content\"><pre>StandardScaler()</pre></div></div></div></div></div></div></div></div><div class=\"sk-parallel-item\"><div class=\"sk-item\"><div class=\"sk-label-container\"><div class=\"sk-label sk-toggleable\"><input class=\"sk-toggleable__control sk-hidden--visually\" id=\"2d7f1ef7-ce9e-4bd9-be1a-3f9658f2d0c6\" type=\"checkbox\" ><label for=\"2d7f1ef7-ce9e-4bd9-be1a-3f9658f2d0c6\" class=\"sk-toggleable__label sk-toggleable__label-arrow\">cat</label><div class=\"sk-toggleable__content\"><pre>&lt;sklearn.compose._column_transformer.make_column_selector object at 0x0000024523573D30&gt;</pre></div></div></div><div class=\"sk-serial\"><div class=\"sk-item\"><div class=\"sk-serial\"><div class=\"sk-item\"><div class=\"sk-estimator sk-toggleable\"><input class=\"sk-toggleable__control sk-hidden--visually\" id=\"4174c6f9-3cc0-4c18-8c80-8ffab1caf79d\" type=\"checkbox\" ><label for=\"4174c6f9-3cc0-4c18-8c80-8ffab1caf79d\" class=\"sk-toggleable__label sk-toggleable__label-arrow\">SimpleImputer</label><div class=\"sk-toggleable__content\"><pre>SimpleImputer(fill_value=&#x27;missing&#x27;, strategy=&#x27;constant&#x27;)</pre></div></div></div><div class=\"sk-item\"><div class=\"sk-estimator sk-toggleable\"><input class=\"sk-toggleable__control sk-hidden--visually\" id=\"dbed31ec-f714-4029-925d-cb130bc5d516\" type=\"checkbox\" ><label for=\"dbed31ec-f714-4029-925d-cb130bc5d516\" class=\"sk-toggleable__label sk-toggleable__label-arrow\">OneHotEncoder</label><div class=\"sk-toggleable__content\"><pre>OneHotEncoder(dtype=&lt;class &#x27;int&#x27;&gt;, handle_unknown=&#x27;ignore&#x27;)</pre></div></div></div></div></div></div></div></div><div class=\"sk-parallel-item\"><div class=\"sk-item\"><div class=\"sk-label-container\"><div class=\"sk-label sk-toggleable\"><input class=\"sk-toggleable__control sk-hidden--visually\" id=\"491abd5d-9f13-4f37-bf23-3f59a4f08b2a\" type=\"checkbox\" ><label for=\"491abd5d-9f13-4f37-bf23-3f59a4f08b2a\" class=\"sk-toggleable__label sk-toggleable__label-arrow\">remainder</label><div class=\"sk-toggleable__content\"><pre>[]</pre></div></div></div><div class=\"sk-serial\"><div class=\"sk-item\"><div class=\"sk-estimator sk-toggleable\"><input class=\"sk-toggleable__control sk-hidden--visually\" id=\"f78facf0-b409-4d01-b9e8-6a91fc707eeb\" type=\"checkbox\" ><label for=\"f78facf0-b409-4d01-b9e8-6a91fc707eeb\" class=\"sk-toggleable__label sk-toggleable__label-arrow\">passthrough</label><div class=\"sk-toggleable__content\"><pre>passthrough</pre></div></div></div></div></div></div></div></div><div class=\"sk-item\"><div class=\"sk-estimator sk-toggleable\"><input class=\"sk-toggleable__control sk-hidden--visually\" id=\"088ab071-7bcb-4094-802e-e88bbd5a23b5\" type=\"checkbox\" ><label for=\"088ab071-7bcb-4094-802e-e88bbd5a23b5\" class=\"sk-toggleable__label sk-toggleable__label-arrow\">SelectKBest</label><div class=\"sk-toggleable__content\"><pre>SelectKBest(k=50)</pre></div></div></div><div class=\"sk-item\"><div class=\"sk-estimator sk-toggleable\"><input class=\"sk-toggleable__control sk-hidden--visually\" id=\"bdc6d3be-8b27-4e27-82c9-eb46483738c9\" type=\"checkbox\" ><label for=\"bdc6d3be-8b27-4e27-82c9-eb46483738c9\" class=\"sk-toggleable__label sk-toggleable__label-arrow\">RidgeClassifier</label><div class=\"sk-toggleable__content\"><pre>RidgeClassifier()</pre></div></div></div></div></div></div></div>"
      ],
      "text/plain": [
       "Pipeline(steps=[('smote', SMOTE(random_state=11)),\n",
       "                ('preprocess',\n",
       "                 ColumnTransformer(remainder='passthrough',\n",
       "                                   transformers=[('num',\n",
       "                                                  Pipeline(steps=[('imputer',\n",
       "                                                                   SimpleImputer(strategy='median')),\n",
       "                                                                  ('scaler',\n",
       "                                                                   StandardScaler())]),\n",
       "                                                  <sklearn.compose._column_transformer.make_column_selector object at 0x0000024525255198>),\n",
       "                                                 ('cat',\n",
       "                                                  Pipeline(steps=[('imputer',\n",
       "                                                                   SimpleImputer(fill_value='missing',\n",
       "                                                                                 strategy='constant')),\n",
       "                                                                  ('encoding',\n",
       "                                                                   OneHotEncoder(dtype=<class 'int'>,\n",
       "                                                                                 handle_unknown='ignore'))]),\n",
       "                                                  <sklearn.compose._column_transformer.make_column_selector object at 0x0000024523573D30>)])),\n",
       "                ('feat_select', SelectKBest(k=50)),\n",
       "                ('clf', RidgeClassifier())])"
      ]
     },
     "execution_count": 27,
     "metadata": {},
     "output_type": "execute_result"
    }
   ],
   "source": [
    "from imblearn import pipeline as imbpipeline\n",
    "from sklearn.feature_selection import SelectFromModel, SelectKBest, f_classif, chi2, mutual_info_classif\n",
    "from sklearn.model_selection import StratifiedKFold\n",
    "# from sklearn.svm import LinearSVC\n",
    "# test model pipeline avec un classifier rapide\n",
    "from sklearn.linear_model import RidgeClassifier\n",
    "\n",
    "\n",
    "def create_model(\n",
    "    sampler=SMOTE(random_state=11),\n",
    "    preprocessor=numeric_pipeline,\n",
    "    feature_selector=SelectKBest(score_func=f_classif, k=50),\n",
    "    classifier=RidgeClassifier()\n",
    "):\n",
    "    model = imbpipeline.Pipeline(steps=[\n",
    "        ('smote', sampler),\n",
    "        ('preprocess', preprocessor),\n",
    "        ('feat_select', feature_selector),\n",
    "        ('clf', classifier)\n",
    "    ])\n",
    "    # ('feat_select', SelectFromModel(LGBMClassifier, max_features=100)),\n",
    "    return model\n",
    "\n",
    "\n",
    "test_model = create_model(preprocessor=preprocessor)\n",
    "test_model\n"
   ]
  },
  {
   "cell_type": "code",
   "execution_count": 28,
   "metadata": {},
   "outputs": [
    {
     "name": "stdout",
     "output_type": "stream",
     "text": [
      "Fitting 5 folds for each of 7 candidates, totalling 35 fits\n"
     ]
    }
   ],
   "source": [
    "\n",
    "\n",
    "stratified_kfold = StratifiedKFold(n_splits=5,\n",
    "                                   shuffle=True,\n",
    "                                   random_state=11)\n",
    "\n",
    "\n",
    "param_grid = {'clf__alpha': [0.001, 0.01, 0.1, 1, 10, 100, 1000]}\n",
    "grid_search = GridSearchCV(estimator=test_model,\n",
    "                           param_grid=param_grid,\n",
    "                           scoring='roc_auc',\n",
    "                           cv=stratified_kfold,\n",
    "                           verbose=2,\n",
    "                           return_train_score=True,\n",
    "                           n_jobs=-1)\n",
    "\n",
    "\n",
    "grid_search.fit(x_train_prep, y_train)\n",
    "cv_score = grid_search.best_score_\n",
    "test_score = grid_search.score(x_test_prep, y_test)\n",
    "# return {'cv_score':cv_score, 'test_score':test_score}\n"
   ]
  },
  {
   "cell_type": "markdown",
   "metadata": {},
   "source": [
    "# Les métriques d'évaluation\n",
    "\n",
    "Pour la classification binaire, les métriques pour estimer les erreurs entre y_pred et y_test sont :\n",
    "\n",
    "**ROC AUC (Area Under the Curve)**\n",
    "- peut être comparé entre modèles\n",
    "\n",
    "**log loss**\n",
    "- logistic loss or cross-entropy loss. Normalement utilisé s'il y a plus de 2 classes dans TARGET\n",
    "\n",
    "**precision**\n",
    "Quelle portion du target prédit sont du vrai classe ? \n",
    "- precision = TP / (TP + FP)\n",
    "\n",
    "**recall**\n",
    "Quelle portion du vrai classe sont présent dans le classe prédit ?\n",
    "- recall = TP / (TP + FN)\n",
    "\n",
    "**F1-score**\n",
    "Accuracy équilibré\n",
    "- F1 = 2 * (precision * recall) / (precision + recall)\n",
    "- F1 = (2 * TP) / (2 * TP + FP + FN)\n",
    "\n",
    "**Fbeta-score**\n",
    "Generalisation de F1-score pour mettre plus de poids sur precision (ex beta=0.5), ou pour mettre plus de poid sur recall (ex: beta=2) \n",
    "\n"
   ]
  },
  {
   "cell_type": "markdown",
   "metadata": {},
   "source": [
    "### Custom Credit Scorer\n",
    "\n",
    "Pour la banque, le cout d'un faux positif (donner un prêt à un mauvais payeur) est plus que le cout d'un faux negatif (refuser un prêt à un bon client)\n",
    "\n",
    "Donc, il faut penaliser les faux positif plus que les faux negatif \n",
    "\n"
   ]
  },
  {
   "cell_type": "code",
   "execution_count": 29,
   "metadata": {},
   "outputs": [],
   "source": [
    "def custom_credit_score(y_test, y_pred):\n",
    "    \"\"\"\n",
    "    Penalise les prêts qui ne sont pas repayés (perte plus importante que si on ne prend pas un client bon)\n",
    "    (TN - FP - 3*FN)\n",
    "    \"\"\"\n",
    "    cm = metrics.confusion_matrix(y_test, y_pred)\n",
    "    TN = cm[0, 0] # y_true=0 (bon), y_pred=0 (bon) - ce que le banque veut donner un pret\n",
    "    FN = cm[1, 0] # y_true=1 (mauvais), y_pred=1 (bon) - grand perte pour la banque\n",
    "    FP = cm[0, 1] # y_true=0 (bon), y_pred=1 (mauvais) - petit perte (manque de preter à un bon client\n",
    "    TP = cm[1, 1] # y_true=1 (mauvais), y_pred=1 (mauvais) - ce que la banque veut refuser\n",
    "    # bank_profit = TN * valeur_par_pret_fait\n",
    "    # bank_loss = FN * grand_pert_mauvais_pret + FP * valeur_par_pret_perdu\n",
    "    # bank_net_profit = bank_profit - bank loss\n",
    "    # bank_net_profit = (TN - FP) * valeur_par_pret - FN * grand_pert_mauvais_pret\n",
    "    # normalise par la taille de l'echantillon (cm.sum())\n",
    "    valeur_par_pret=1 # suppose la valeur des prêts fait ou perdus sont identiques\n",
    "    grand_pert_mauvais_pret = 3 # (on suppose que la cout d'un mauvais prêt et 3 fois le rentabilité d'un bon prêt)\n",
    "    profit_score=(TN - FP - 3*FN)/cm.sum()\n",
    "    return profit_score\n"
   ]
  },
  {
   "cell_type": "code",
   "execution_count": 30,
   "metadata": {},
   "outputs": [
    {
     "name": "stdout",
     "output_type": "stream",
     "text": [
      "[[1 1]\n",
      " [1 1]]\n",
      "{'roc_auc': 0.5, 'logloss': 17.27, 'precision': 0.5, 'recall': 0.5, 'f1': 0.5, 'f2': 0.5, 'f05': 0.5, 'custom_score': -0.75}\n"
     ]
    }
   ],
   "source": [
    "from sklearn import metrics\n",
    "\n",
    "# mise en constant pour référence ailleurs\n",
    "ROC_AUC = 'roc_auc'\n",
    "CV_SCORING = ''\n",
    "\n",
    "\n",
    "def performance_metrics(y_true_, y_pred_):\n",
    "    \"\"\"Plusieurs functions de cout (Loss)\"\"\"\n",
    "    loss = dict(\n",
    "        roc_auc=metrics.roc_auc_score(y_true_, y_pred_),\n",
    "        logloss=metrics.log_loss(y_true_, y_pred_),\n",
    "        precision=metrics.precision_score(y_true_,y_pred_),\n",
    "        recall=metrics.recall_score(y_true_,y_pred_),\n",
    "        f1 = metrics.f1_score(y_true_,y_pred_),\n",
    "        f2 = metrics.fbeta_score(y_true_,y_pred_,beta=2),\n",
    "        f05 = metrics.fbeta_score(y_true_,y_pred_,beta=0.5),\n",
    "        custom_score=custom_credit_score(y_true_,y_pred_),\n",
    "    )\n",
    "    for metric in loss.keys():\n",
    "        loss[metric] = round(loss[metric], 3)\n",
    "    return loss\n",
    "\n",
    "y_true1=[0,0,1,1]\n",
    "y_pred1=[0,1,0,1]\n",
    "print(metrics.confusion_matrix(y_true1,y_pred1))\n",
    "print(performance_metrics(y_true1,y_pred1))\n",
    "\n",
    "\n"
   ]
  },
  {
   "cell_type": "markdown",
   "metadata": {},
   "source": [
    "\n",
    "### Accumulation des performances des modèles"
   ]
  },
  {
   "cell_type": "code",
   "execution_count": 31,
   "metadata": {},
   "outputs": [
    {
     "data": {
      "text/html": [
       "<div>\n",
       "<style scoped>\n",
       "    .dataframe tbody tr th:only-of-type {\n",
       "        vertical-align: middle;\n",
       "    }\n",
       "\n",
       "    .dataframe tbody tr th {\n",
       "        vertical-align: top;\n",
       "    }\n",
       "\n",
       "    .dataframe thead th {\n",
       "        text-align: right;\n",
       "    }\n",
       "</style>\n",
       "<table border=\"1\" class=\"dataframe\">\n",
       "  <thead>\n",
       "    <tr style=\"text-align: right;\">\n",
       "      <th></th>\n",
       "      <th>model</th>\n",
       "      <th>optimizer</th>\n",
       "    </tr>\n",
       "  </thead>\n",
       "  <tbody>\n",
       "    <tr>\n",
       "      <th>0</th>\n",
       "      <td>none</td>\n",
       "      <td>adam</td>\n",
       "    </tr>\n",
       "  </tbody>\n",
       "</table>\n",
       "</div>"
      ],
      "text/plain": [
       "  model optimizer\n",
       "0  none      adam"
      ]
     },
     "execution_count": 31,
     "metadata": {},
     "output_type": "execute_result"
    }
   ],
   "source": [
    "df_resultats = pd.DataFrame()\n",
    "\n",
    "\n",
    "def add_model_score(df: pd.DataFrame = None, model_name: str = 'none', ARI: float = 0, k: int = 0, **kwargs):\n",
    "    global df_resultats\n",
    "    if df is None:\n",
    "        df = df_resultats\n",
    "    \"\"\"ajout les resultats d'un model \"\"\"\n",
    "    resultats = dict(model=model_name)\n",
    "    resultats = dict(**resultats, **kwargs)\n",
    "    df = df.append(resultats, ignore_index=True)\n",
    "    return df\n",
    "\n",
    "\n",
    "# test\n",
    "add_model_score(pd.DataFrame(), optimizer='adam', k=7)\n"
   ]
  },
  {
   "cell_type": "markdown",
   "metadata": {},
   "source": [
    "## Teste des métriques de performance"
   ]
  },
  {
   "cell_type": "code",
   "execution_count": 32,
   "metadata": {},
   "outputs": [
    {
     "data": {
      "text/html": [
       "<div>\n",
       "<style scoped>\n",
       "    .dataframe tbody tr th:only-of-type {\n",
       "        vertical-align: middle;\n",
       "    }\n",
       "\n",
       "    .dataframe tbody tr th {\n",
       "        vertical-align: top;\n",
       "    }\n",
       "\n",
       "    .dataframe thead th {\n",
       "        text-align: right;\n",
       "    }\n",
       "</style>\n",
       "<table border=\"1\" class=\"dataframe\">\n",
       "  <thead>\n",
       "    <tr style=\"text-align: right;\">\n",
       "      <th></th>\n",
       "      <th>custom_score</th>\n",
       "      <th>f05</th>\n",
       "      <th>f1</th>\n",
       "      <th>f2</th>\n",
       "      <th>logloss</th>\n",
       "      <th>model</th>\n",
       "      <th>precision</th>\n",
       "      <th>recall</th>\n",
       "      <th>roc_auc</th>\n",
       "    </tr>\n",
       "  </thead>\n",
       "  <tbody>\n",
       "    <tr>\n",
       "      <th>3</th>\n",
       "      <td>-1.833</td>\n",
       "      <td>0.556</td>\n",
       "      <td>0.333</td>\n",
       "      <td>0.238</td>\n",
       "      <td>23.026</td>\n",
       "      <td>many bad payers</td>\n",
       "      <td>1.000</td>\n",
       "      <td>0.200</td>\n",
       "      <td>0.600</td>\n",
       "    </tr>\n",
       "    <tr>\n",
       "      <th>2</th>\n",
       "      <td>-1.250</td>\n",
       "      <td>0.714</td>\n",
       "      <td>0.500</td>\n",
       "      <td>0.385</td>\n",
       "      <td>17.269</td>\n",
       "      <td>a few bad payers</td>\n",
       "      <td>1.000</td>\n",
       "      <td>0.333</td>\n",
       "      <td>0.667</td>\n",
       "    </tr>\n",
       "    <tr>\n",
       "      <th>1</th>\n",
       "      <td>-0.750</td>\n",
       "      <td>0.500</td>\n",
       "      <td>0.500</td>\n",
       "      <td>0.500</td>\n",
       "      <td>17.270</td>\n",
       "      <td>1-each (TN,FN,FP,TP)</td>\n",
       "      <td>0.500</td>\n",
       "      <td>0.500</td>\n",
       "      <td>0.500</td>\n",
       "    </tr>\n",
       "    <tr>\n",
       "      <th>5</th>\n",
       "      <td>-0.500</td>\n",
       "      <td>0.238</td>\n",
       "      <td>0.333</td>\n",
       "      <td>0.556</td>\n",
       "      <td>23.026</td>\n",
       "      <td>many wrong refusals</td>\n",
       "      <td>0.200</td>\n",
       "      <td>1.000</td>\n",
       "      <td>0.600</td>\n",
       "    </tr>\n",
       "    <tr>\n",
       "      <th>4</th>\n",
       "      <td>-0.250</td>\n",
       "      <td>0.385</td>\n",
       "      <td>0.500</td>\n",
       "      <td>0.714</td>\n",
       "      <td>17.270</td>\n",
       "      <td>a few wrong refusals</td>\n",
       "      <td>0.333</td>\n",
       "      <td>1.000</td>\n",
       "      <td>0.667</td>\n",
       "    </tr>\n",
       "    <tr>\n",
       "      <th>0</th>\n",
       "      <td>0.500</td>\n",
       "      <td>1.000</td>\n",
       "      <td>1.000</td>\n",
       "      <td>1.000</td>\n",
       "      <td>0.000</td>\n",
       "      <td>perfect</td>\n",
       "      <td>1.000</td>\n",
       "      <td>1.000</td>\n",
       "      <td>1.000</td>\n",
       "    </tr>\n",
       "  </tbody>\n",
       "</table>\n",
       "</div>"
      ],
      "text/plain": [
       "   custom_score    f05     f1     f2  logloss                 model  \\\n",
       "3        -1.833  0.556  0.333  0.238   23.026       many bad payers   \n",
       "2        -1.250  0.714  0.500  0.385   17.269      a few bad payers   \n",
       "1        -0.750  0.500  0.500  0.500   17.270  1-each (TN,FN,FP,TP)   \n",
       "5        -0.500  0.238  0.333  0.556   23.026   many wrong refusals   \n",
       "4        -0.250  0.385  0.500  0.714   17.270  a few wrong refusals   \n",
       "0         0.500  1.000  1.000  1.000    0.000               perfect   \n",
       "\n",
       "   precision  recall  roc_auc  \n",
       "3      1.000   0.200    0.600  \n",
       "2      1.000   0.333    0.667  \n",
       "1      0.500   0.500    0.500  \n",
       "5      0.200   1.000    0.600  \n",
       "4      0.333   1.000    0.667  \n",
       "0      1.000   1.000    1.000  "
      ]
     },
     "execution_count": 32,
     "metadata": {},
     "output_type": "execute_result"
    }
   ],
   "source": [
    "y_true1=[0,0,1,1]\n",
    "y_pred1=[0,0,1,1]\n",
    "perf=performance_metrics(y_true1,y_pred1)\n",
    "df_test=add_model_score(pd.DataFrame(),'perfect',**perf)\n",
    "y_true1=[0,0,1,1]\n",
    "y_pred1=[0,1,0,1]\n",
    "perf=performance_metrics(y_true1,y_pred1)\n",
    "df_test=add_model_score(df_test,'1-each (TN,FN,FP,TP)',**perf)\n",
    "y_true1=[1,1,0,1]\n",
    "y_pred1=[0,0,0,1]\n",
    "perf=performance_metrics(y_true1,y_pred1)\n",
    "df_test=add_model_score(df_test,'a few bad payers',**perf)\n",
    "y_true1=[1,1,1,1,0,1]\n",
    "y_pred1=[0,0,0,0,0,1]\n",
    "perf=performance_metrics(y_true1,y_pred1)\n",
    "df_test=add_model_score(df_test,'many bad payers',**perf)\n",
    "y_true1=[0,0,0,1]\n",
    "y_pred1=[0,1,1,1]\n",
    "perf=performance_metrics(y_true1,y_pred1)\n",
    "df_test=add_model_score(df_test,'a few wrong refusals',**perf)\n",
    "y_true1=[0,0,0,0,0,1]\n",
    "y_pred1=[0,1,1,1,1,1]\n",
    "perf=performance_metrics(y_true1,y_pred1)\n",
    "df_test=add_model_score(df_test,'many wrong refusals',**perf)\n",
    "df_test.sort_values(by='custom_score')"
   ]
  },
  {
   "cell_type": "markdown",
   "metadata": {},
   "source": [
    "On voit qu'on peut utiliser F2-score, par exemple, au lieu de custom scorer\n",
    "\n",
    "On essaie d'optimiser roc_auc, en suivant custom_score et f2_score"
   ]
  },
  {
   "cell_type": "code",
   "execution_count": 33,
   "metadata": {},
   "outputs": [],
   "source": [
    "custom_scorer=metrics.make_scorer(custom_credit_score,greater_is_better=True)\n",
    "f2_scorer=metrics.make_scorer(metrics.fbeta_score,greater_is_better=True, beta=2)\n",
    "\n",
    "# GridsearchCV attend un dictionnaire si on fourni plusieurs scorers \n",
    "CV_SCORERS= {\n",
    "    'roc_auc':'roc_auc',\n",
    "    'custom_scorer': custom_scorer,\n",
    "    'f2_scorer':f2_scorer\n",
    "}\n"
   ]
  },
  {
   "cell_type": "code",
   "execution_count": 35,
   "metadata": {},
   "outputs": [
    {
     "name": "stdout",
     "output_type": "stream",
     "text": [
      "Fitting 5 folds for each of 7 candidates, totalling 35 fits\n"
     ]
    },
    {
     "data": {
      "text/html": [
       "<div>\n",
       "<style scoped>\n",
       "    .dataframe tbody tr th:only-of-type {\n",
       "        vertical-align: middle;\n",
       "    }\n",
       "\n",
       "    .dataframe tbody tr th {\n",
       "        vertical-align: top;\n",
       "    }\n",
       "\n",
       "    .dataframe thead th {\n",
       "        text-align: right;\n",
       "    }\n",
       "</style>\n",
       "<table border=\"1\" class=\"dataframe\">\n",
       "  <thead>\n",
       "    <tr style=\"text-align: right;\">\n",
       "      <th></th>\n",
       "      <th>mean_fit_time</th>\n",
       "      <th>std_fit_time</th>\n",
       "      <th>mean_score_time</th>\n",
       "      <th>std_score_time</th>\n",
       "      <th>param_clf__alpha</th>\n",
       "      <th>params</th>\n",
       "      <th>split0_test_roc_auc</th>\n",
       "      <th>split1_test_roc_auc</th>\n",
       "      <th>split2_test_roc_auc</th>\n",
       "      <th>split3_test_roc_auc</th>\n",
       "      <th>split4_test_roc_auc</th>\n",
       "      <th>mean_test_roc_auc</th>\n",
       "      <th>std_test_roc_auc</th>\n",
       "      <th>rank_test_roc_auc</th>\n",
       "      <th>split0_train_roc_auc</th>\n",
       "      <th>split1_train_roc_auc</th>\n",
       "      <th>split2_train_roc_auc</th>\n",
       "      <th>split3_train_roc_auc</th>\n",
       "      <th>split4_train_roc_auc</th>\n",
       "      <th>mean_train_roc_auc</th>\n",
       "      <th>std_train_roc_auc</th>\n",
       "      <th>split0_test_custom_scorer</th>\n",
       "      <th>split1_test_custom_scorer</th>\n",
       "      <th>split2_test_custom_scorer</th>\n",
       "      <th>split3_test_custom_scorer</th>\n",
       "      <th>split4_test_custom_scorer</th>\n",
       "      <th>mean_test_custom_scorer</th>\n",
       "      <th>std_test_custom_scorer</th>\n",
       "      <th>rank_test_custom_scorer</th>\n",
       "      <th>split0_train_custom_scorer</th>\n",
       "      <th>split1_train_custom_scorer</th>\n",
       "      <th>split2_train_custom_scorer</th>\n",
       "      <th>split3_train_custom_scorer</th>\n",
       "      <th>split4_train_custom_scorer</th>\n",
       "      <th>mean_train_custom_scorer</th>\n",
       "      <th>std_train_custom_scorer</th>\n",
       "      <th>split0_test_f2_scorer</th>\n",
       "      <th>split1_test_f2_scorer</th>\n",
       "      <th>split2_test_f2_scorer</th>\n",
       "      <th>split3_test_f2_scorer</th>\n",
       "      <th>split4_test_f2_scorer</th>\n",
       "      <th>mean_test_f2_scorer</th>\n",
       "      <th>std_test_f2_scorer</th>\n",
       "      <th>rank_test_f2_scorer</th>\n",
       "      <th>split0_train_f2_scorer</th>\n",
       "      <th>split1_train_f2_scorer</th>\n",
       "      <th>split2_train_f2_scorer</th>\n",
       "      <th>split3_train_f2_scorer</th>\n",
       "      <th>split4_train_f2_scorer</th>\n",
       "      <th>mean_train_f2_scorer</th>\n",
       "      <th>std_train_f2_scorer</th>\n",
       "    </tr>\n",
       "  </thead>\n",
       "  <tbody>\n",
       "    <tr>\n",
       "      <th>0</th>\n",
       "      <td>0.586068</td>\n",
       "      <td>0.065218</td>\n",
       "      <td>0.050962</td>\n",
       "      <td>0.009222</td>\n",
       "      <td>0.001</td>\n",
       "      <td>{'clf__alpha': 0.001}</td>\n",
       "      <td>0.705082</td>\n",
       "      <td>0.730214</td>\n",
       "      <td>0.730560</td>\n",
       "      <td>0.757922</td>\n",
       "      <td>0.711523</td>\n",
       "      <td>0.727060</td>\n",
       "      <td>0.018434</td>\n",
       "      <td>7</td>\n",
       "      <td>0.762292</td>\n",
       "      <td>0.754394</td>\n",
       "      <td>0.751582</td>\n",
       "      <td>0.753257</td>\n",
       "      <td>0.761558</td>\n",
       "      <td>0.756617</td>\n",
       "      <td>0.004432</td>\n",
       "      <td>0.24875</td>\n",
       "      <td>0.28125</td>\n",
       "      <td>0.304375</td>\n",
       "      <td>0.261875</td>\n",
       "      <td>0.257500</td>\n",
       "      <td>0.270750</td>\n",
       "      <td>0.019896</td>\n",
       "      <td>3</td>\n",
       "      <td>0.305781</td>\n",
       "      <td>0.299531</td>\n",
       "      <td>0.280625</td>\n",
       "      <td>0.287500</td>\n",
       "      <td>0.309531</td>\n",
       "      <td>0.296594</td>\n",
       "      <td>0.010937</td>\n",
       "      <td>0.375587</td>\n",
       "      <td>0.400381</td>\n",
       "      <td>0.411423</td>\n",
       "      <td>0.426997</td>\n",
       "      <td>0.384977</td>\n",
       "      <td>0.399873</td>\n",
       "      <td>0.018336</td>\n",
       "      <td>2</td>\n",
       "      <td>0.435145</td>\n",
       "      <td>0.43308</td>\n",
       "      <td>0.42603</td>\n",
       "      <td>0.430285</td>\n",
       "      <td>0.434731</td>\n",
       "      <td>0.431854</td>\n",
       "      <td>0.003376</td>\n",
       "    </tr>\n",
       "    <tr>\n",
       "      <th>1</th>\n",
       "      <td>0.576810</td>\n",
       "      <td>0.093513</td>\n",
       "      <td>0.042363</td>\n",
       "      <td>0.002741</td>\n",
       "      <td>0.01</td>\n",
       "      <td>{'clf__alpha': 0.01}</td>\n",
       "      <td>0.705082</td>\n",
       "      <td>0.730214</td>\n",
       "      <td>0.730560</td>\n",
       "      <td>0.757928</td>\n",
       "      <td>0.711523</td>\n",
       "      <td>0.727061</td>\n",
       "      <td>0.018436</td>\n",
       "      <td>5</td>\n",
       "      <td>0.762292</td>\n",
       "      <td>0.754394</td>\n",
       "      <td>0.751582</td>\n",
       "      <td>0.753257</td>\n",
       "      <td>0.761559</td>\n",
       "      <td>0.756617</td>\n",
       "      <td>0.004432</td>\n",
       "      <td>0.24875</td>\n",
       "      <td>0.28125</td>\n",
       "      <td>0.304375</td>\n",
       "      <td>0.261875</td>\n",
       "      <td>0.257500</td>\n",
       "      <td>0.270750</td>\n",
       "      <td>0.019896</td>\n",
       "      <td>3</td>\n",
       "      <td>0.305781</td>\n",
       "      <td>0.299531</td>\n",
       "      <td>0.280625</td>\n",
       "      <td>0.287500</td>\n",
       "      <td>0.309531</td>\n",
       "      <td>0.296594</td>\n",
       "      <td>0.010937</td>\n",
       "      <td>0.375587</td>\n",
       "      <td>0.400381</td>\n",
       "      <td>0.411423</td>\n",
       "      <td>0.426997</td>\n",
       "      <td>0.384977</td>\n",
       "      <td>0.399873</td>\n",
       "      <td>0.018336</td>\n",
       "      <td>2</td>\n",
       "      <td>0.435145</td>\n",
       "      <td>0.43308</td>\n",
       "      <td>0.42603</td>\n",
       "      <td>0.430285</td>\n",
       "      <td>0.434731</td>\n",
       "      <td>0.431854</td>\n",
       "      <td>0.003376</td>\n",
       "    </tr>\n",
       "    <tr>\n",
       "      <th>2</th>\n",
       "      <td>0.474728</td>\n",
       "      <td>0.014682</td>\n",
       "      <td>0.042973</td>\n",
       "      <td>0.003599</td>\n",
       "      <td>0.1</td>\n",
       "      <td>{'clf__alpha': 0.1}</td>\n",
       "      <td>0.705082</td>\n",
       "      <td>0.730214</td>\n",
       "      <td>0.730560</td>\n",
       "      <td>0.757928</td>\n",
       "      <td>0.711523</td>\n",
       "      <td>0.727061</td>\n",
       "      <td>0.018436</td>\n",
       "      <td>5</td>\n",
       "      <td>0.762293</td>\n",
       "      <td>0.754395</td>\n",
       "      <td>0.751581</td>\n",
       "      <td>0.753258</td>\n",
       "      <td>0.761557</td>\n",
       "      <td>0.756617</td>\n",
       "      <td>0.004432</td>\n",
       "      <td>0.24875</td>\n",
       "      <td>0.28125</td>\n",
       "      <td>0.304375</td>\n",
       "      <td>0.261875</td>\n",
       "      <td>0.257500</td>\n",
       "      <td>0.270750</td>\n",
       "      <td>0.019896</td>\n",
       "      <td>3</td>\n",
       "      <td>0.305469</td>\n",
       "      <td>0.299531</td>\n",
       "      <td>0.280625</td>\n",
       "      <td>0.287500</td>\n",
       "      <td>0.309531</td>\n",
       "      <td>0.296531</td>\n",
       "      <td>0.010885</td>\n",
       "      <td>0.375587</td>\n",
       "      <td>0.400381</td>\n",
       "      <td>0.411423</td>\n",
       "      <td>0.426997</td>\n",
       "      <td>0.384977</td>\n",
       "      <td>0.399873</td>\n",
       "      <td>0.018336</td>\n",
       "      <td>2</td>\n",
       "      <td>0.435042</td>\n",
       "      <td>0.43308</td>\n",
       "      <td>0.42603</td>\n",
       "      <td>0.430285</td>\n",
       "      <td>0.434731</td>\n",
       "      <td>0.431833</td>\n",
       "      <td>0.003356</td>\n",
       "    </tr>\n",
       "    <tr>\n",
       "      <th>3</th>\n",
       "      <td>0.480906</td>\n",
       "      <td>0.016891</td>\n",
       "      <td>0.040064</td>\n",
       "      <td>0.001939</td>\n",
       "      <td>1</td>\n",
       "      <td>{'clf__alpha': 1}</td>\n",
       "      <td>0.705123</td>\n",
       "      <td>0.730235</td>\n",
       "      <td>0.730560</td>\n",
       "      <td>0.757948</td>\n",
       "      <td>0.711513</td>\n",
       "      <td>0.727076</td>\n",
       "      <td>0.018435</td>\n",
       "      <td>4</td>\n",
       "      <td>0.762288</td>\n",
       "      <td>0.754396</td>\n",
       "      <td>0.751579</td>\n",
       "      <td>0.753253</td>\n",
       "      <td>0.761555</td>\n",
       "      <td>0.756614</td>\n",
       "      <td>0.004431</td>\n",
       "      <td>0.24875</td>\n",
       "      <td>0.28125</td>\n",
       "      <td>0.304375</td>\n",
       "      <td>0.261875</td>\n",
       "      <td>0.257500</td>\n",
       "      <td>0.270750</td>\n",
       "      <td>0.019896</td>\n",
       "      <td>3</td>\n",
       "      <td>0.305156</td>\n",
       "      <td>0.299531</td>\n",
       "      <td>0.280625</td>\n",
       "      <td>0.287500</td>\n",
       "      <td>0.309531</td>\n",
       "      <td>0.296469</td>\n",
       "      <td>0.010835</td>\n",
       "      <td>0.375587</td>\n",
       "      <td>0.400381</td>\n",
       "      <td>0.411423</td>\n",
       "      <td>0.426997</td>\n",
       "      <td>0.384977</td>\n",
       "      <td>0.399873</td>\n",
       "      <td>0.018336</td>\n",
       "      <td>2</td>\n",
       "      <td>0.434938</td>\n",
       "      <td>0.43308</td>\n",
       "      <td>0.42603</td>\n",
       "      <td>0.430285</td>\n",
       "      <td>0.434731</td>\n",
       "      <td>0.431813</td>\n",
       "      <td>0.003337</td>\n",
       "    </tr>\n",
       "    <tr>\n",
       "      <th>4</th>\n",
       "      <td>0.480822</td>\n",
       "      <td>0.017333</td>\n",
       "      <td>0.040093</td>\n",
       "      <td>0.001485</td>\n",
       "      <td>10</td>\n",
       "      <td>{'clf__alpha': 10}</td>\n",
       "      <td>0.705191</td>\n",
       "      <td>0.730312</td>\n",
       "      <td>0.730565</td>\n",
       "      <td>0.758015</td>\n",
       "      <td>0.711533</td>\n",
       "      <td>0.727123</td>\n",
       "      <td>0.018441</td>\n",
       "      <td>3</td>\n",
       "      <td>0.762283</td>\n",
       "      <td>0.754405</td>\n",
       "      <td>0.751566</td>\n",
       "      <td>0.753262</td>\n",
       "      <td>0.761559</td>\n",
       "      <td>0.756615</td>\n",
       "      <td>0.004432</td>\n",
       "      <td>0.24875</td>\n",
       "      <td>0.28125</td>\n",
       "      <td>0.305625</td>\n",
       "      <td>0.261875</td>\n",
       "      <td>0.253125</td>\n",
       "      <td>0.270125</td>\n",
       "      <td>0.020966</td>\n",
       "      <td>7</td>\n",
       "      <td>0.305156</td>\n",
       "      <td>0.299531</td>\n",
       "      <td>0.280938</td>\n",
       "      <td>0.288125</td>\n",
       "      <td>0.309219</td>\n",
       "      <td>0.296594</td>\n",
       "      <td>0.010566</td>\n",
       "      <td>0.375587</td>\n",
       "      <td>0.400381</td>\n",
       "      <td>0.411822</td>\n",
       "      <td>0.426997</td>\n",
       "      <td>0.379925</td>\n",
       "      <td>0.398942</td>\n",
       "      <td>0.019299</td>\n",
       "      <td>7</td>\n",
       "      <td>0.434938</td>\n",
       "      <td>0.43308</td>\n",
       "      <td>0.42613</td>\n",
       "      <td>0.430487</td>\n",
       "      <td>0.434626</td>\n",
       "      <td>0.431852</td>\n",
       "      <td>0.003266</td>\n",
       "    </tr>\n",
       "  </tbody>\n",
       "</table>\n",
       "</div>"
      ],
      "text/plain": [
       "   mean_fit_time  std_fit_time  mean_score_time  std_score_time  \\\n",
       "0       0.586068      0.065218         0.050962        0.009222   \n",
       "1       0.576810      0.093513         0.042363        0.002741   \n",
       "2       0.474728      0.014682         0.042973        0.003599   \n",
       "3       0.480906      0.016891         0.040064        0.001939   \n",
       "4       0.480822      0.017333         0.040093        0.001485   \n",
       "\n",
       "  param_clf__alpha                 params  split0_test_roc_auc  \\\n",
       "0            0.001  {'clf__alpha': 0.001}             0.705082   \n",
       "1             0.01   {'clf__alpha': 0.01}             0.705082   \n",
       "2              0.1    {'clf__alpha': 0.1}             0.705082   \n",
       "3                1      {'clf__alpha': 1}             0.705123   \n",
       "4               10     {'clf__alpha': 10}             0.705191   \n",
       "\n",
       "   split1_test_roc_auc  split2_test_roc_auc  split3_test_roc_auc  \\\n",
       "0             0.730214             0.730560             0.757922   \n",
       "1             0.730214             0.730560             0.757928   \n",
       "2             0.730214             0.730560             0.757928   \n",
       "3             0.730235             0.730560             0.757948   \n",
       "4             0.730312             0.730565             0.758015   \n",
       "\n",
       "   split4_test_roc_auc  mean_test_roc_auc  std_test_roc_auc  \\\n",
       "0             0.711523           0.727060          0.018434   \n",
       "1             0.711523           0.727061          0.018436   \n",
       "2             0.711523           0.727061          0.018436   \n",
       "3             0.711513           0.727076          0.018435   \n",
       "4             0.711533           0.727123          0.018441   \n",
       "\n",
       "   rank_test_roc_auc  split0_train_roc_auc  split1_train_roc_auc  \\\n",
       "0                  7              0.762292              0.754394   \n",
       "1                  5              0.762292              0.754394   \n",
       "2                  5              0.762293              0.754395   \n",
       "3                  4              0.762288              0.754396   \n",
       "4                  3              0.762283              0.754405   \n",
       "\n",
       "   split2_train_roc_auc  split3_train_roc_auc  split4_train_roc_auc  \\\n",
       "0              0.751582              0.753257              0.761558   \n",
       "1              0.751582              0.753257              0.761559   \n",
       "2              0.751581              0.753258              0.761557   \n",
       "3              0.751579              0.753253              0.761555   \n",
       "4              0.751566              0.753262              0.761559   \n",
       "\n",
       "   mean_train_roc_auc  std_train_roc_auc  split0_test_custom_scorer  \\\n",
       "0            0.756617           0.004432                    0.24875   \n",
       "1            0.756617           0.004432                    0.24875   \n",
       "2            0.756617           0.004432                    0.24875   \n",
       "3            0.756614           0.004431                    0.24875   \n",
       "4            0.756615           0.004432                    0.24875   \n",
       "\n",
       "   split1_test_custom_scorer  split2_test_custom_scorer  \\\n",
       "0                    0.28125                   0.304375   \n",
       "1                    0.28125                   0.304375   \n",
       "2                    0.28125                   0.304375   \n",
       "3                    0.28125                   0.304375   \n",
       "4                    0.28125                   0.305625   \n",
       "\n",
       "   split3_test_custom_scorer  split4_test_custom_scorer  \\\n",
       "0                   0.261875                   0.257500   \n",
       "1                   0.261875                   0.257500   \n",
       "2                   0.261875                   0.257500   \n",
       "3                   0.261875                   0.257500   \n",
       "4                   0.261875                   0.253125   \n",
       "\n",
       "   mean_test_custom_scorer  std_test_custom_scorer  rank_test_custom_scorer  \\\n",
       "0                 0.270750                0.019896                        3   \n",
       "1                 0.270750                0.019896                        3   \n",
       "2                 0.270750                0.019896                        3   \n",
       "3                 0.270750                0.019896                        3   \n",
       "4                 0.270125                0.020966                        7   \n",
       "\n",
       "   split0_train_custom_scorer  split1_train_custom_scorer  \\\n",
       "0                    0.305781                    0.299531   \n",
       "1                    0.305781                    0.299531   \n",
       "2                    0.305469                    0.299531   \n",
       "3                    0.305156                    0.299531   \n",
       "4                    0.305156                    0.299531   \n",
       "\n",
       "   split2_train_custom_scorer  split3_train_custom_scorer  \\\n",
       "0                    0.280625                    0.287500   \n",
       "1                    0.280625                    0.287500   \n",
       "2                    0.280625                    0.287500   \n",
       "3                    0.280625                    0.287500   \n",
       "4                    0.280938                    0.288125   \n",
       "\n",
       "   split4_train_custom_scorer  mean_train_custom_scorer  \\\n",
       "0                    0.309531                  0.296594   \n",
       "1                    0.309531                  0.296594   \n",
       "2                    0.309531                  0.296531   \n",
       "3                    0.309531                  0.296469   \n",
       "4                    0.309219                  0.296594   \n",
       "\n",
       "   std_train_custom_scorer  split0_test_f2_scorer  split1_test_f2_scorer  \\\n",
       "0                 0.010937               0.375587               0.400381   \n",
       "1                 0.010937               0.375587               0.400381   \n",
       "2                 0.010885               0.375587               0.400381   \n",
       "3                 0.010835               0.375587               0.400381   \n",
       "4                 0.010566               0.375587               0.400381   \n",
       "\n",
       "   split2_test_f2_scorer  split3_test_f2_scorer  split4_test_f2_scorer  \\\n",
       "0               0.411423               0.426997               0.384977   \n",
       "1               0.411423               0.426997               0.384977   \n",
       "2               0.411423               0.426997               0.384977   \n",
       "3               0.411423               0.426997               0.384977   \n",
       "4               0.411822               0.426997               0.379925   \n",
       "\n",
       "   mean_test_f2_scorer  std_test_f2_scorer  rank_test_f2_scorer  \\\n",
       "0             0.399873            0.018336                    2   \n",
       "1             0.399873            0.018336                    2   \n",
       "2             0.399873            0.018336                    2   \n",
       "3             0.399873            0.018336                    2   \n",
       "4             0.398942            0.019299                    7   \n",
       "\n",
       "   split0_train_f2_scorer  split1_train_f2_scorer  split2_train_f2_scorer  \\\n",
       "0                0.435145                 0.43308                 0.42603   \n",
       "1                0.435145                 0.43308                 0.42603   \n",
       "2                0.435042                 0.43308                 0.42603   \n",
       "3                0.434938                 0.43308                 0.42603   \n",
       "4                0.434938                 0.43308                 0.42613   \n",
       "\n",
       "   split3_train_f2_scorer  split4_train_f2_scorer  mean_train_f2_scorer  \\\n",
       "0                0.430285                0.434731              0.431854   \n",
       "1                0.430285                0.434731              0.431854   \n",
       "2                0.430285                0.434731              0.431833   \n",
       "3                0.430285                0.434731              0.431813   \n",
       "4                0.430487                0.434626              0.431852   \n",
       "\n",
       "   std_train_f2_scorer  \n",
       "0             0.003376  \n",
       "1             0.003376  \n",
       "2             0.003356  \n",
       "3             0.003337  \n",
       "4             0.003266  "
      ]
     },
     "execution_count": 35,
     "metadata": {},
     "output_type": "execute_result"
    }
   ],
   "source": [
    "# Test GridSearch\n",
    "grid_search = GridSearchCV(estimator=test_model,\n",
    "                           param_grid=param_grid,\n",
    "                           scoring=CV_SCORERS,\n",
    "                           refit='roc_auc',\n",
    "                           cv=stratified_kfold,\n",
    "                           verbose=2,\n",
    "                           return_train_score=True,\n",
    "                           n_jobs=-1)\n",
    "\n",
    "\n",
    "grid_search.fit(x_train_prep, y_train)\n",
    "cv_score = grid_search.best_score_\n",
    "test_score = grid_search.score(x_test_prep, y_test)\n",
    "df_cv=pd.DataFrame(grid_search.cv_results_)\n",
    "df_cv.head()"
   ]
  },
  {
   "cell_type": "code",
   "execution_count": null,
   "metadata": {},
   "outputs": [],
   "source": []
  }
 ],
 "metadata": {
  "interpreter": {
   "hash": "9f161018c5e2fdb25091822214a6434325c4d2222b4c3ef81019bf1117201605"
  },
  "kernelspec": {
   "display_name": "Python 3.7.0 ('OC_3')",
   "language": "python",
   "name": "python3"
  },
  "language_info": {
   "codemirror_mode": {
    "name": "ipython",
    "version": 3
   },
   "file_extension": ".py",
   "mimetype": "text/x-python",
   "name": "python",
   "nbconvert_exporter": "python",
   "pygments_lexer": "ipython3",
   "version": "3.7.0"
  },
  "orig_nbformat": 4
 },
 "nbformat": 4,
 "nbformat_minor": 2
}
