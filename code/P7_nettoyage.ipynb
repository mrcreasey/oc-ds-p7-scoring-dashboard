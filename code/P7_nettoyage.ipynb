{
  "cells": [
    {
      "cell_type": "markdown",
      "metadata": {
        "id": "DFji9bO_eJMR"
      },
      "source": [
        "# Implémentez un modèle de scoring\n",
        "\n",
        "- **Projet 7 du parcours « Data Scientist » d’OpenClassrooms**\n",
        "- **Mark Creasey**\n",
        "\n",
        "## Étape 1 : Préparation du jeu de données et feature engineering\n"
      ]
    },
    {
      "cell_type": "markdown",
      "metadata": {},
      "source": [
        "## 1.1 Compréhension du problème\n",
        "\n",
        "### 1.1.1 Problématique\n",
        "\n",
        "La société financière, nommée **\"Prêt à dépenser\"**, propose des crédits à la consommation pour des\n",
        "personnes ayant peu ou pas du tout d'historique de prêt.\n",
        "\n",
        "L’entreprise souhaite mettre en œuvre **un outil de “scoring crédit”** pour calculer la qu’un client\n",
        "rembourse son crédit, puis classifie la demande en crédit accordé ou refusé. Elle souhaite donc\n",
        "développer **un algorithme de classification** en s’appuyant sur des sources de données variées (données\n",
        "comportementales, données provenant d'autres institutions financières, etc.).\n",
        "\n",
        "### 1.1.2 Les données\n",
        "\n",
        "Voici [les données](https://www.kaggle.com/c/home-credit-default-risk/data) pour réaliser le\n",
        "dashboard. Pour plus de simplicité, vous pouvez les télécharger à\n",
        "[cette adresse](https://s3-eu-west-1.amazonaws.com/static.oc-static.com/prod/courses/files/Parcours_data_scientist/Projet+-+Impl%C3%A9menter+un+mod%C3%A8le+de+scoring/Projet+Mise+en+prod+-+home-credit-default-risk.zip).\n",
        "\n",
        "### 1.1.1 Mission\n",
        "\n",
        "- Sélectionner un kernel Kaggle pour faciliter la préparation des données nécessaires à l’élaboration du modèle de scoring.\n",
        "- Analyser ce kernel et l’adapter aux besoins de votre mission.\n",
        "\n",
        "Focalise sur :\n",
        "\n",
        "1. La construction d'un **modèle de scoring** qui donnera une prédiction sur la probabilité de faillite\n",
        "   d'un client de façon automatique.\n",
        "   - élaboration\n",
        "   - optimisation\n",
        "   - comprehension (interpretabilité)\n",
        "2. Construction d'un **dashboard interactif** qui montre avec transparence les décisions d’octroi de\n",
        "   crédit, à destination des gestionnaires de la relation client permettant d'interpréter les\n",
        "   prédictions faites par le modèle et d’améliorer la connaissance client des chargés de relation\n",
        "   client.\n"
      ]
    },
    {
      "cell_type": "markdown",
      "metadata": {
        "id": "wM6z7uUfebpT"
      },
      "source": [
        "## 1.2 Definition de l'environnement\n",
        "\n",
        "- `local` : Développement local (avec échantillon de 50 Mo de données)\n",
        "- `colab` : Google Colab\n",
        "- `kaggle` : Kaggle Kernel\n"
      ]
    },
    {
      "cell_type": "code",
      "execution_count": 1,
      "metadata": {
        "colab": {
          "base_uri": "https://localhost:8080/"
        },
        "id": "EMeZBFf2eTfz",
        "outputId": "2657b460-a736-4de6-de5f-1bf9ceb1ea36"
      },
      "outputs": [],
      "source": [
        "ENV = 'local'\n",
        "\n",
        "if ENV == 'local':\n",
        "    # local development\n",
        "    DATA_FOLDER = '../data/raw'\n",
        "    OUT_FOLDER = '../data/out'\n",
        "    IMAGE_FOLDER = '../images/nettoyage'\n",
        "\n",
        "if ENV == 'colab':\n",
        "    # Colaboratory - uncomment les 2 lignes suivant pour connecter à votre drive\n",
        "    # from google.colab import drive\n",
        "    # drive.mount('/content/drive')\n",
        "    DATA_FOLDER = '/content/drive/MyDrive/data/OC7'\n",
        "    OUT_FOLDER = '/content/drive/MyDrive/data/OC7'\n",
        "    IMAGE_FOLDER = '/content/drive/MyDrive/images/OC7/nettoyage'\n"
      ]
    },
    {
      "cell_type": "markdown",
      "metadata": {
        "id": "HvnInn3XfWQ2"
      },
      "source": [
        "## 1.3 Fichiers de données\n",
        "\n",
        "1. Les données en format CSV (>700Mb compactés) sont à télecharger de ce lien:\n",
        "\n",
        "- https://www.kaggle.com/c/home-credit-default-risk/data\n",
        "- Pour plus de simplicité, vous pouvez les télécharger à [cette adresse.](https://s3-eu-west-1.amazonaws.com/static.oc-static.com/prod/courses/files/Parcours_data_scientist/Projet+-+Impl%C3%A9menter+un+mod%C3%A8le+de+scoring/Projet+Mise+en+prod+-+home-credit-default-risk.zip)\n",
        "\n",
        "2.  Placer le fichier compacté (**.zip**) dans le **DATA_FOLDER** défini ci-dessous\n"
      ]
    },
    {
      "cell_type": "markdown",
      "metadata": {
        "id": "ELwbVYvAgSMU"
      },
      "source": [
        "### Noms des fichiers de données (identique pour nettoyage et l'analyse exploratoire)\n",
        "\n",
        "- Le grand fichier zip des données doit être placé dans `DATA_FOLDER` au préalable\n",
        "- Tous les autres fichiers de données sont téléchargés ou crées pendant le nettoyage, puis enregistrés dans `OUT_FOLDER`\n"
      ]
    },
    {
      "cell_type": "code",
      "execution_count": 2,
      "metadata": {
        "id": "F_iJnVSEfKma"
      },
      "outputs": [],
      "source": [
        "# Données (DATA_FOLDER)\n",
        "ZIPPED_DATA_FILENAME = f'Projet+Mise+en+prod+-+home-credit-default-risk.zip'\n",
        "RAW_DATA_FILENAME = 'HomeCredit_columns_description.csv'\n",
        "SAMPLE_DATA_FILENAME = 'HomeCredit_columns_description.csv'\n",
        "\n",
        "\n",
        "# Données nettoyés (OUT_FOLDER)\n",
        "CLEAN_DATA_FILENAME = 'cleaned_data_scoring.csv'\n",
        "CLEAN_DATA_SAMPLE = 'cleaned_data_sample.csv'  # 100,000 registres\n",
        "SAMPLE_SIZE = 100000\n"
      ]
    },
    {
      "cell_type": "markdown",
      "metadata": {
        "id": "aMFxPWtagxDT"
      },
      "source": [
        "## 1.4 Requirements: Bibliothèques utilisées dans ce notebook\n",
        "\n",
        "Ce notebook marche a été testé en developpement local, sur Google Colab et Kaggle\n",
        "\n",
        "```txt\n",
        "# copy dans un fichier requirements.txt, puis\n",
        "# !pip install -r requirements.txt\n",
        "python>=3.7,<=3.9\n",
        "numpy>=1.19.5,<=1.21.2\n",
        "pandas>=1.1.5,<=1.3.4\n",
        "matplotlib>=3.2.2,<=3.5.0\n",
        "seaborn==0.11.2\n",
        "scikit-learn>=1.0.1\n",
        "```\n"
      ]
    },
    {
      "cell_type": "code",
      "execution_count": 3,
      "metadata": {
        "id": "pIP-XhqSgyC_"
      },
      "outputs": [],
      "source": [
        "# Decommentarise la ligne suivant si vous ne voulez pas changer vos versions existants\n",
        "# !pip install numpy pandas matplotlib seaborn scipy sklearn missingno requests\n"
      ]
    },
    {
      "cell_type": "markdown",
      "metadata": {
        "id": "s8kXrZGCg6h1"
      },
      "source": [
        "## 1.5 Import dependencies\n"
      ]
    },
    {
      "cell_type": "markdown",
      "metadata": {
        "id": "KPt54cG5g7Up"
      },
      "source": [
        "### 1.5.1 Import des bibliothèques utilisées par ce notebook\n"
      ]
    },
    {
      "cell_type": "code",
      "execution_count": 4,
      "metadata": {
        "id": "XtukhHGIg-Ag"
      },
      "outputs": [],
      "source": [
        "# suppress furture warnings de pandas 1.3.0\n",
        "from contextlib import contextmanager\n",
        "import time\n",
        "import gc\n",
        "import sklearn\n",
        "import seaborn as sns\n",
        "import pandas as pd\n",
        "import numpy as np\n",
        "import matplotlib.pyplot as plt\n",
        "import os\n",
        "import warnings\n",
        "import platform\n",
        "warnings.simplefilter(action='ignore', category=FutureWarning)\n"
      ]
    },
    {
      "cell_type": "markdown",
      "metadata": {
        "id": "FhE8BZ1ihG2I"
      },
      "source": [
        "### 1.5.2 Liste des versions des bibliothèques utilisées\n"
      ]
    },
    {
      "cell_type": "code",
      "execution_count": 5,
      "metadata": {
        "colab": {
          "base_uri": "https://localhost:8080/"
        },
        "id": "FJXh67-FhIwI",
        "outputId": "cf659d51-6099-46fb-c9fb-56d2067fe4a6"
      },
      "outputs": [
        {
          "name": "stdout",
          "output_type": "stream",
          "text": [
            "python version = 3.7.0\n",
            "versions des bibliothèques utilisées:\n",
            "sklearn==1.0.2; seaborn==0.11.2; pandas==1.1.5; numpy==1.21.5; platform==1.0.8\n"
          ]
        }
      ],
      "source": [
        "print(f'python version = {platform.python_version()}')\n",
        "print('versions des bibliothèques utilisées:')\n",
        "print('; '.join(f'{m.__name__}=={m.__version__}' for m in globals(\n",
        ").values() if getattr(m, '__version__', None)))\n"
      ]
    },
    {
      "cell_type": "markdown",
      "metadata": {
        "id": "5f04qBPghSsr"
      },
      "source": [
        "### 1.5.3 Configuration défauts d'affichage\n"
      ]
    },
    {
      "cell_type": "code",
      "execution_count": 6,
      "metadata": {
        "id": "mIoSzAqXhMEV"
      },
      "outputs": [],
      "source": [
        "pd.set_option('display.max_columns', 200)  # pour afficher toutes les colonnes\n",
        "pd.set_option('display.max_rows', 20)  # pour afficher max 20 lignes\n",
        "pd.set_option('display.max_colwidth', 100)\n",
        "\n",
        "%matplotlib inline\n",
        "sns.set_theme(style=\"white\", context=\"notebook\")\n",
        "sns.set_color_codes(\"pastel\")\n",
        "sns.set_palette(\"tab10\")\n"
      ]
    },
    {
      "cell_type": "markdown",
      "metadata": {},
      "source": [
        "### Bibliothèque personelle\n",
        "\n",
        "On utilise un nom non standard\n"
      ]
    },
    {
      "cell_type": "code",
      "execution_count": 7,
      "metadata": {},
      "outputs": [],
      "source": [
        "import outils_io, outils_preprocess, outils_stats, outils_timed, outils_vis\n",
        "\n",
        "# frequently used functions\n",
        "from outils_vis import to_png\n",
        "from outils_timed import timer\n",
        "\n"
      ]
    },
    {
      "cell_type": "markdown",
      "metadata": {},
      "source": [
        "### Configuration personelle\n"
      ]
    },
    {
      "cell_type": "code",
      "execution_count": 8,
      "metadata": {},
      "outputs": [],
      "source": [
        "\n",
        "# Enregistre parametres globals dans outils\n",
        "outils_vis.set_option('IMAGE_FOLDER', IMAGE_FOLDER)\n",
        "outils_vis.set_option('SAVE_IMAGES', True)\n",
        "\n",
        "if ENV != 'kaggle':\n",
        "    outils_io.os_make_dir(DATA_FOLDER)\n",
        "    outils_io.os_make_dir(OUT_FOLDER)\n",
        "\n",
        "outils_io.os_make_dir(IMAGE_FOLDER)\n"
      ]
    },
    {
      "cell_type": "markdown",
      "metadata": {
        "id": "7mhUYXKehkDI"
      },
      "source": [
        "# 2. Importation des données <a name=\"importation\"></a>\n"
      ]
    },
    {
      "cell_type": "markdown",
      "metadata": {
        "id": "H9UNgYuvhrRP"
      },
      "source": [
        "## 2.1 Configuration de l'environnement de travail\n",
        "\n",
        "### 2.1.1 Installation des bibliothèques nécessaires pour manipuler les données\n",
        "\n",
        "Pour plusieurs notebooks dans un dossier, enregistre une liste des bibliothèques dans un fichier `requirements.txt`\n"
      ]
    },
    {
      "cell_type": "code",
      "execution_count": 9,
      "metadata": {
        "colab": {
          "base_uri": "https://localhost:8080/"
        },
        "id": "kvsIMU0Ihglo",
        "outputId": "dee247f2-f59d-4167-c0fc-922e84b453fe"
      },
      "outputs": [
        {
          "name": "stdout",
          "output_type": "stream",
          "text": [
            "required modules: ['numpy', 'matplotlib', 'requests', 'pandas', 'missingno', 'seaborn']\n",
            "missing modules: []\n"
          ]
        }
      ],
      "source": [
        "outils_io.install_libraries({'numpy', 'pandas', 'matplotlib',\n",
        "                                'seaborn', 'requests', 'missingno'})\n"
      ]
    },
    {
      "cell_type": "markdown",
      "metadata": {
        "id": "oLoopUM9h3ly"
      },
      "source": [
        "## 2.2 Configuration de l'importation des données\n",
        "\n",
        "### 2.2.1 Choix de fichier à analyser\n"
      ]
    },
    {
      "cell_type": "code",
      "execution_count": 10,
      "metadata": {
        "colab": {
          "base_uri": "https://localhost:8080/"
        },
        "id": "WvhKfqv8hzTh",
        "outputId": "d48ef236-0027-4832-84c5-f3e7bc5cdb33"
      },
      "outputs": [
        {
          "name": "stdout",
          "output_type": "stream",
          "text": [
            "data file: ../data/raw/HomeCredit_columns_description.csv\n"
          ]
        }
      ],
      "source": [
        "DATA_FILENAME = SAMPLE_DATA_FILENAME if ENV == 'local' else RAW_DATA_FILENAME\n",
        "RAW_DATA = outils_io.os_path_join(DATA_FOLDER, DATA_FILENAME)\n",
        "DATA_ZIPPED = outils_io.os_path_join(DATA_FOLDER, ZIPPED_DATA_FILENAME)\n",
        "print(f'data file: {RAW_DATA}')\n"
      ]
    },
    {
      "cell_type": "code",
      "execution_count": 11,
      "metadata": {
        "colab": {
          "base_uri": "https://localhost:8080/"
        },
        "id": "rWaoA47Rh6-o",
        "outputId": "3cf7287f-7fd0-4a2e-d571-3e65e8f5cf92"
      },
      "outputs": [
        {
          "name": "stdout",
          "output_type": "stream",
          "text": [
            "data CSV file exists (../data/raw/HomeCredit_columns_description.csv)\n"
          ]
        }
      ],
      "source": [
        "def unzip_data_si_besoin(env=ENV):\n",
        "    \"\"\"procedure pour unzip sur Google Drive via Google Colab\"\"\"\n",
        "    if os.path.exists(RAW_DATA):\n",
        "        print(f'data CSV file exists ({RAW_DATA})')\n",
        "    else:\n",
        "        print(f'data CSV file does not exist ({RAW_DATA})')\n",
        "        if env == 'colab' and os.path.exists(DATA_ZIPPED):\n",
        "            # uncomment les 3 lignes suivants\n",
        "            print(f'unzipping {DATA_ZIPPED}')\n",
        "            !unzip {DATA_ZIPPED} - d {DATA_FOLDER}\n",
        "            print(f'{DATA_ZIPPED} has been unzipped')\n",
        "            if os.path.exists(RAW_DATA):\n",
        "                print(f'data CSV file now exists ({RAW_DATA})')\n",
        "        else:\n",
        "            print(f'zipped data does not exist ({DATA_ZIPPED})')\n",
        "\n",
        "\n",
        "unzip_data_si_besoin(ENV)\n"
      ]
    },
    {
      "cell_type": "markdown",
      "metadata": {
        "id": "uWAejb0fi55g"
      },
      "source": [
        "### 2.2.2 Information sur le fichier (taille, type, nb. registres, champs)\n"
      ]
    },
    {
      "cell_type": "code",
      "execution_count": 12,
      "metadata": {
        "colab": {
          "base_uri": "https://localhost:8080/"
        },
        "id": "IE_7aupwiqoS",
        "outputId": "4ee3d60b-77eb-4139-ff14-8b8954c885e1"
      },
      "outputs": [
        {
          "name": "stdout",
          "output_type": "stream",
          "text": [
            "file : application_test.csv : size=25.34 Mo\n",
            "file : application_train.csv : size=158.44 Mo\n",
            "file : bureau.csv : size=162.14 Mo\n",
            "file : bureau_balance.csv : size=358.19 Mo\n",
            "file : credit_card_balance.csv : size=404.91 Mo\n",
            "file : HomeCredit_columns_description.csv : size=36.51 ko\n",
            "file : installments_payments.csv : size=689.62 Mo\n",
            "file : POS_CASH_balance.csv : size=374.51 Mo\n",
            "file : previous_application.csv : size=386.21 Mo\n",
            "file : sample_submission.csv : size=523.63 ko\n"
          ]
        }
      ],
      "source": [
        "\n",
        "for filename in os.listdir(DATA_FOLDER):\n",
        "    if filename.lower().endswith('csv'):\n",
        "        filepath = f'{DATA_FOLDER}/{filename}'\n",
        "        print(f'file : {filename} : size={outils_io.get_filesize(filepath)}')\n"
      ]
    },
    {
      "cell_type": "markdown",
      "metadata": {
        "id": "FAz4r0D1l_wE"
      },
      "source": [
        "## 2.3 Data schema\n",
        "\n",
        "Le schema et description des données est fourni sur le lien:\n",
        "\n",
        "- https://www.kaggle.com/competitions/home-credit-default-risk/data\n",
        "\n",
        "<p><img title=\"\" alt=\"Data\" src=\"img/home_credit.png\"></p>\n",
        "<em>Original source : https://storage.googleapis.com/kaggle-media/competitions/home-credit/home_credit.png<em>\n"
      ]
    },
    {
      "cell_type": "markdown",
      "metadata": {
        "id": "mxQnAcG75KaL"
      },
      "source": [
        "### 2.3.1 Description des champs\n",
        "\n",
        "- details sur <https://www.kaggle.com/competitions/home-credit-default-risk/data>\n"
      ]
    },
    {
      "cell_type": "code",
      "execution_count": 13,
      "metadata": {
        "id": "AIWoT8Ze5HFH"
      },
      "outputs": [
        {
          "data": {
            "text/html": [
              "<div>\n",
              "<style scoped>\n",
              "    .dataframe tbody tr th:only-of-type {\n",
              "        vertical-align: middle;\n",
              "    }\n",
              "\n",
              "    .dataframe tbody tr th {\n",
              "        vertical-align: top;\n",
              "    }\n",
              "\n",
              "    .dataframe thead th {\n",
              "        text-align: right;\n",
              "    }\n",
              "</style>\n",
              "<table border=\"1\" class=\"dataframe\">\n",
              "  <thead>\n",
              "    <tr style=\"text-align: right;\">\n",
              "      <th></th>\n",
              "      <th>Unnamed: 0</th>\n",
              "      <th>Table</th>\n",
              "      <th>Row</th>\n",
              "      <th>Description</th>\n",
              "      <th>Special</th>\n",
              "    </tr>\n",
              "  </thead>\n",
              "  <tbody>\n",
              "    <tr>\n",
              "      <th>0</th>\n",
              "      <td>1</td>\n",
              "      <td>application_{train|test}.csv</td>\n",
              "      <td>SK_ID_CURR</td>\n",
              "      <td>ID of loan in our sample</td>\n",
              "      <td>NaN</td>\n",
              "    </tr>\n",
              "    <tr>\n",
              "      <th>1</th>\n",
              "      <td>2</td>\n",
              "      <td>application_{train|test}.csv</td>\n",
              "      <td>TARGET</td>\n",
              "      <td>Target variable (1 - client with payment difficulties: he/she had late payment more than X days ...</td>\n",
              "      <td>NaN</td>\n",
              "    </tr>\n",
              "    <tr>\n",
              "      <th>2</th>\n",
              "      <td>5</td>\n",
              "      <td>application_{train|test}.csv</td>\n",
              "      <td>NAME_CONTRACT_TYPE</td>\n",
              "      <td>Identification if loan is cash or revolving</td>\n",
              "      <td>NaN</td>\n",
              "    </tr>\n",
              "    <tr>\n",
              "      <th>3</th>\n",
              "      <td>6</td>\n",
              "      <td>application_{train|test}.csv</td>\n",
              "      <td>CODE_GENDER</td>\n",
              "      <td>Gender of the client</td>\n",
              "      <td>NaN</td>\n",
              "    </tr>\n",
              "    <tr>\n",
              "      <th>4</th>\n",
              "      <td>7</td>\n",
              "      <td>application_{train|test}.csv</td>\n",
              "      <td>FLAG_OWN_CAR</td>\n",
              "      <td>Flag if the client owns a car</td>\n",
              "      <td>NaN</td>\n",
              "    </tr>\n",
              "  </tbody>\n",
              "</table>\n",
              "</div>"
            ],
            "text/plain": [
              "   Unnamed: 0                         Table                 Row  \\\n",
              "0           1  application_{train|test}.csv          SK_ID_CURR   \n",
              "1           2  application_{train|test}.csv              TARGET   \n",
              "2           5  application_{train|test}.csv  NAME_CONTRACT_TYPE   \n",
              "3           6  application_{train|test}.csv         CODE_GENDER   \n",
              "4           7  application_{train|test}.csv        FLAG_OWN_CAR   \n",
              "\n",
              "                                                                                           Description  \\\n",
              "0                                                                             ID of loan in our sample   \n",
              "1  Target variable (1 - client with payment difficulties: he/she had late payment more than X days ...   \n",
              "2                                                          Identification if loan is cash or revolving   \n",
              "3                                                                                 Gender of the client   \n",
              "4                                                                        Flag if the client owns a car   \n",
              "\n",
              "  Special  \n",
              "0     NaN  \n",
              "1     NaN  \n",
              "2     NaN  \n",
              "3     NaN  \n",
              "4     NaN  "
            ]
          },
          "execution_count": 13,
          "metadata": {},
          "output_type": "execute_result"
        }
      ],
      "source": [
        "def field_descriptions(data_dir=DATA_FOLDER, num_rows=1000):\n",
        "    df = pd.read_csv(f'{data_dir}/HomeCredit_columns_description.csv',\n",
        "                     nrows=num_rows, encoding='unicode_escape')\n",
        "    return df\n",
        "\n",
        "\n",
        "field_descriptions().head()\n"
      ]
    },
    {
      "cell_type": "markdown",
      "metadata": {},
      "source": [
        "## 2.4 Fusion des tables\n",
        "\n",
        "Comme indiqué dans la cahier de charges, on sélectionne un kernel Kaggle pour faciliter la préparation des données nécessaires à l’élaboration du modèle de scoring.\n",
        "\n",
        "Les procédures de fusion des tables ci-dessous sont basés sur le pipeline de feature engineering présenté dans :\n",
        "\n",
        "- <https://www.kaggle.com/code/jsaguiar/lightgbm-with-simple-features/script>\n"
      ]
    },
    {
      "cell_type": "markdown",
      "metadata": {
        "id": "XGl_W-mgp1BN"
      },
      "source": [
        "### One-hot encoding for categorical columns\n"
      ]
    },
    {
      "cell_type": "code",
      "execution_count": 14,
      "metadata": {
        "id": "D9OiYAGhp1Ml"
      },
      "outputs": [],
      "source": [
        "# One-hot encoding for categorical columns with get_dummies\n",
        "def one_hot_encoder(df, nan_as_category=True):\n",
        "    original_columns = list(df.columns)\n",
        "    categorical_columns = [\n",
        "        col for col in df.columns if df[col].dtype == 'object']\n",
        "    df = pd.get_dummies(df, columns=categorical_columns,\n",
        "                        dummy_na=nan_as_category)\n",
        "    new_columns = [c for c in df.columns if c not in original_columns]\n",
        "    return df, new_columns\n"
      ]
    },
    {
      "cell_type": "markdown",
      "metadata": {},
      "source": [
        "### Preprocess application_train.csv\n",
        "\n",
        "#### [application\\_{train|test}.csv](https://www.kaggle.com/competitions/home-credit-default-risk/data)\n",
        "\n",
        "This is the main table, broken into two files for Train (with TARGET) and Test (without TARGET).\n",
        "\n",
        "Static data for all applications. One row represents one loan in our data sample.\n"
      ]
    },
    {
      "cell_type": "code",
      "execution_count": 15,
      "metadata": {},
      "outputs": [],
      "source": [
        "def application_train(data_dir='data', num_rows=None, nan_as_category=False):\n",
        "    # Read data\n",
        "    print(f'application_train, data_dir = {data_dir}')\n",
        "    df = pd.read_csv(f'{data_dir}/application_train.csv', nrows=num_rows)\n",
        "    print(f'Train samples: {len(df)}')\n",
        "\n",
        "    # Optional: Remove 4 applications with XNA CODE_GENDER (train set)\n",
        "    df = df[df['CODE_GENDER'] != 'XNA']\n",
        "\n",
        "    # Categorical features with Binary encode (0 or 1; two categories)\n",
        "    for bin_feature in ['CODE_GENDER', 'FLAG_OWN_CAR', 'FLAG_OWN_REALTY']:\n",
        "        df[bin_feature], uniques = pd.factorize(df[bin_feature])\n",
        "    # Categorical features with One-Hot encode\n",
        "    df, cat_cols = one_hot_encoder(df, nan_as_category)\n",
        "\n",
        "    # NaN values for DAYS_EMPLOYED: 365.243 -> nan\n",
        "    df['DAYS_EMPLOYED'].replace(365243, np.nan, inplace=True)\n",
        "    # Some simple new features (percentages)\n",
        "    df['DAYS_EMPLOYED_PERC'] = df['DAYS_EMPLOYED'] / df['DAYS_BIRTH']\n",
        "    df['INCOME_CREDIT_PERC'] = df['AMT_INCOME_TOTAL'] / df['AMT_CREDIT']\n",
        "    df['INCOME_PER_PERSON'] = df['AMT_INCOME_TOTAL'] / df['CNT_FAM_MEMBERS']\n",
        "    df['ANNUITY_INCOME_PERC'] = df['AMT_ANNUITY'] / df['AMT_INCOME_TOTAL']\n",
        "    df['PAYMENT_RATE'] = df['AMT_ANNUITY'] / df['AMT_CREDIT']\n",
        "    gc.collect()\n",
        "    return df\n"
      ]
    },
    {
      "cell_type": "markdown",
      "metadata": {
        "id": "yp3pFMJd1s-8"
      },
      "source": [
        "### Preprocess bureau.csv and bureau_balance.csv\n",
        "\n",
        "#### bureau.csv\n",
        "\n",
        "All client's previous credits provided by other financial institutions that were reported to Credit Bureau (for clients who have a loan in our sample).\n",
        "\n",
        "For every loan in our sample, there are as many rows as number of credits the client had in Credit Bureau before the application date.\n",
        "\n",
        "#### bureau_balance.csv\n",
        "\n",
        "Monthly balances of previous credits in Credit Bureau.\n",
        "\n",
        "This table has one row for each month of history of every previous credit reported to Credit Bureau – i.e the table has\n",
        "`(#loans in sample * # of relative previous credits * # of months where we have some history observable for the previous credits) rows`.\n"
      ]
    },
    {
      "cell_type": "code",
      "execution_count": 16,
      "metadata": {
        "id": "s5XZtAG41tKv"
      },
      "outputs": [],
      "source": [
        "# Preprocess bureau.csv and bureau_balance.csv\n",
        "def bureau_and_balance(data_dir='data', num_rows=None, nan_as_category=True):\n",
        "    bureau = pd.read_csv(f'{data_dir}/bureau.csv', nrows=num_rows)\n",
        "    bb = pd.read_csv(f'{data_dir}/bureau_balance.csv', nrows=num_rows)\n",
        "    bb, bb_cat = one_hot_encoder(bb, nan_as_category)\n",
        "    bureau, bureau_cat = one_hot_encoder(bureau, nan_as_category)\n",
        "\n",
        "    # Bureau balance: Perform aggregations and merge with bureau.csv\n",
        "    bb_aggregations = {'MONTHS_BALANCE': ['min', 'max', 'size']}\n",
        "    for col in bb_cat:\n",
        "        bb_aggregations[col] = ['mean']\n",
        "    bb_agg = bb.groupby('SK_ID_BUREAU').agg(bb_aggregations)\n",
        "    bb_agg.columns = pd.Index([e[0] + \"_\" + e[1].upper()\n",
        "                              for e in bb_agg.columns.tolist()])\n",
        "    bureau = bureau.join(bb_agg, how='left', on='SK_ID_BUREAU')\n",
        "    bureau.drop(['SK_ID_BUREAU'], axis=1, inplace=True)\n",
        "    del bb, bb_agg\n",
        "    gc.collect()\n",
        "\n",
        "    # Bureau and bureau_balance numeric features\n",
        "    num_aggregations = {\n",
        "        'DAYS_CREDIT': ['min', 'max', 'mean', 'var'],\n",
        "        'DAYS_CREDIT_ENDDATE': ['min', 'max', 'mean'],\n",
        "        'DAYS_CREDIT_UPDATE': ['mean'],\n",
        "        'CREDIT_DAY_OVERDUE': ['max', 'mean'],\n",
        "        'AMT_CREDIT_MAX_OVERDUE': ['mean'],\n",
        "        'AMT_CREDIT_SUM': ['max', 'mean', 'sum'],\n",
        "        'AMT_CREDIT_SUM_DEBT': ['max', 'mean', 'sum'],\n",
        "        'AMT_CREDIT_SUM_OVERDUE': ['mean'],\n",
        "        'AMT_CREDIT_SUM_LIMIT': ['mean', 'sum'],\n",
        "        'AMT_ANNUITY': ['max', 'mean'],\n",
        "        'CNT_CREDIT_PROLONG': ['sum'],\n",
        "        'MONTHS_BALANCE_MIN': ['min'],\n",
        "        'MONTHS_BALANCE_MAX': ['max'],\n",
        "        'MONTHS_BALANCE_SIZE': ['mean', 'sum']\n",
        "    }\n",
        "    # Bureau and bureau_balance categorical features\n",
        "    cat_aggregations = {}\n",
        "    for cat in bureau_cat:\n",
        "        cat_aggregations[cat] = ['mean']\n",
        "    for cat in bb_cat:\n",
        "        cat_aggregations[cat + \"_MEAN\"] = ['mean']\n",
        "\n",
        "    bureau_agg = bureau.groupby('SK_ID_CURR').agg(\n",
        "        {**num_aggregations, **cat_aggregations})\n",
        "    bureau_agg.columns = pd.Index(\n",
        "        ['BURO_' + e[0] + \"_\" + e[1].upper() for e in bureau_agg.columns.tolist()])\n",
        "    # Bureau: Active credits - using only numerical aggregations\n",
        "    active = bureau[bureau['CREDIT_ACTIVE_Active'] == 1]\n",
        "    active_agg = active.groupby('SK_ID_CURR').agg(num_aggregations)\n",
        "    active_agg.columns = pd.Index(\n",
        "        ['ACTIVE_' + e[0] + \"_\" + e[1].upper() for e in active_agg.columns.tolist()])\n",
        "    bureau_agg = bureau_agg.join(active_agg, how='left', on='SK_ID_CURR')\n",
        "    del active, active_agg\n",
        "    gc.collect()\n",
        "    # Bureau: Closed credits - using only numerical aggregations\n",
        "    closed = bureau[bureau['CREDIT_ACTIVE_Closed'] == 1]\n",
        "    closed_agg = closed.groupby('SK_ID_CURR').agg(num_aggregations)\n",
        "    closed_agg.columns = pd.Index(\n",
        "        ['CLOSED_' + e[0] + \"_\" + e[1].upper() for e in closed_agg.columns.tolist()])\n",
        "    bureau_agg = bureau_agg.join(closed_agg, how='left', on='SK_ID_CURR')\n",
        "    del closed, closed_agg, bureau\n",
        "    gc.collect()\n",
        "    return bureau_agg\n"
      ]
    },
    {
      "cell_type": "markdown",
      "metadata": {
        "id": "5sDwgwuC1_Eu"
      },
      "source": [
        "### Preprocess previous_applications.csv\n",
        "\n",
        "#### previous_application.csv\n",
        "\n",
        "All previous applications for Home Credit loans of clients who have loans in our sample.\n",
        "\n",
        "There is one row for each previous application related to loans in our data sample.\n"
      ]
    },
    {
      "cell_type": "code",
      "execution_count": 17,
      "metadata": {
        "id": "As3XXgPz1_Pa"
      },
      "outputs": [],
      "source": [
        "\n",
        "def previous_applications(data_dir='data', num_rows=None, nan_as_category=True):\n",
        "    prev = pd.read_csv(f'{data_dir}/previous_application.csv', nrows=num_rows)\n",
        "    prev, cat_cols = one_hot_encoder(prev, nan_as_category=True)\n",
        "    # Days 365.243 values -> nan\n",
        "    prev['DAYS_FIRST_DRAWING'].replace(365243, np.nan, inplace=True)\n",
        "    prev['DAYS_FIRST_DUE'].replace(365243, np.nan, inplace=True)\n",
        "    prev['DAYS_LAST_DUE_1ST_VERSION'].replace(365243, np.nan, inplace=True)\n",
        "    prev['DAYS_LAST_DUE'].replace(365243, np.nan, inplace=True)\n",
        "    prev['DAYS_TERMINATION'].replace(365243, np.nan, inplace=True)\n",
        "    # Add feature: value ask / value received percentage\n",
        "    prev['APP_CREDIT_PERC'] = prev['AMT_APPLICATION'] / prev['AMT_CREDIT']\n",
        "    # Previous applications numeric features\n",
        "    num_aggregations = {\n",
        "        'AMT_ANNUITY': ['min', 'max', 'mean'],\n",
        "        'AMT_APPLICATION': ['min', 'max', 'mean'],\n",
        "        'AMT_CREDIT': ['min', 'max', 'mean'],\n",
        "        'APP_CREDIT_PERC': ['min', 'max', 'mean', 'var'],\n",
        "        'AMT_DOWN_PAYMENT': ['min', 'max', 'mean'],\n",
        "        'AMT_GOODS_PRICE': ['min', 'max', 'mean'],\n",
        "        'HOUR_APPR_PROCESS_START': ['min', 'max', 'mean'],\n",
        "        'RATE_DOWN_PAYMENT': ['min', 'max', 'mean'],\n",
        "        'DAYS_DECISION': ['min', 'max', 'mean'],\n",
        "        'CNT_PAYMENT': ['mean', 'sum'],\n",
        "    }\n",
        "    # Previous applications categorical features\n",
        "    cat_aggregations = {}\n",
        "    for cat in cat_cols:\n",
        "        cat_aggregations[cat] = ['mean']\n",
        "\n",
        "    prev_agg = prev.groupby('SK_ID_CURR').agg(\n",
        "        {**num_aggregations, **cat_aggregations})\n",
        "    prev_agg.columns = pd.Index(\n",
        "        ['PREV_' + e[0] + \"_\" + e[1].upper() for e in prev_agg.columns.tolist()])\n",
        "    # Previous Applications: Approved Applications - only numerical features\n",
        "    approved = prev[prev['NAME_CONTRACT_STATUS_Approved'] == 1]\n",
        "    approved_agg = approved.groupby('SK_ID_CURR').agg(num_aggregations)\n",
        "    approved_agg.columns = pd.Index(\n",
        "        ['APPROVED_' + e[0] + \"_\" + e[1].upper() for e in approved_agg.columns.tolist()])\n",
        "    prev_agg = prev_agg.join(approved_agg, how='left', on='SK_ID_CURR')\n",
        "    # Previous Applications: Refused Applications - only numerical features\n",
        "    refused = prev[prev['NAME_CONTRACT_STATUS_Refused'] == 1]\n",
        "    refused_agg = refused.groupby('SK_ID_CURR').agg(num_aggregations)\n",
        "    refused_agg.columns = pd.Index(\n",
        "        ['REFUSED_' + e[0] + \"_\" + e[1].upper() for e in refused_agg.columns.tolist()])\n",
        "    prev_agg = prev_agg.join(refused_agg, how='left', on='SK_ID_CURR')\n",
        "    del refused, refused_agg, approved, approved_agg, prev\n",
        "    gc.collect()\n",
        "    return prev_agg\n"
      ]
    },
    {
      "cell_type": "markdown",
      "metadata": {
        "id": "1nnrxj-O2IFq"
      },
      "source": [
        "### Preprocess POS_CASH_balance.csv\n",
        "\n",
        "#### POS_CASH_balance.csv\n",
        "\n",
        "Monthly balance snapshots of previous POS (point of sales) and cash loans that the applicant had with Home Credit.\n",
        "\n",
        "This table has one row for each month of history of every previous credit in Home Credit (consumer credit and cash loans) related to loans in our sample – i.e. the table has `(#loans in sample * # of relative previous credits * # of months in which we have some history observable for the previous credits) rows`.\n"
      ]
    },
    {
      "cell_type": "code",
      "execution_count": 18,
      "metadata": {
        "id": "OeDdStMY2Ixf"
      },
      "outputs": [],
      "source": [
        "\n",
        "def pos_cash(data_dir='data', num_rows=None, nan_as_category=True):\n",
        "    pos = pd.read_csv(f'{data_dir}/POS_CASH_balance.csv', nrows=num_rows)\n",
        "    pos, cat_cols = one_hot_encoder(pos, nan_as_category=True)\n",
        "    # Features\n",
        "    aggregations = {\n",
        "        'MONTHS_BALANCE': ['max', 'mean', 'size'],\n",
        "        'SK_DPD': ['max', 'mean'],\n",
        "        'SK_DPD_DEF': ['max', 'mean']\n",
        "    }\n",
        "    for cat in cat_cols:\n",
        "        aggregations[cat] = ['mean']\n",
        "\n",
        "    pos_agg = pos.groupby('SK_ID_CURR').agg(aggregations)\n",
        "    pos_agg.columns = pd.Index(\n",
        "        ['POS_' + e[0] + \"_\" + e[1].upper() for e in pos_agg.columns.tolist()])\n",
        "    # Count pos cash accounts\n",
        "    pos_agg['POS_COUNT'] = pos.groupby('SK_ID_CURR').size()\n",
        "    del pos\n",
        "    gc.collect()\n",
        "    return pos_agg\n"
      ]
    },
    {
      "cell_type": "markdown",
      "metadata": {
        "id": "6V0nHJlK2Yrg"
      },
      "source": [
        "### Preprocess installments_payments.csv\n",
        "\n",
        "#### installments_payments.csv\n",
        "\n",
        "Repayment history for the previously disbursed credits in Home Credit related to the loans in our sample.\n",
        "\n",
        "There is a) one row for every payment that was made plus b) one row each for missed payment.\n",
        "\n",
        "One row is equivalent to one payment of one installment OR one installment corresponding to one payment of one previous Home Credit credit related to loans in our sample.\n"
      ]
    },
    {
      "cell_type": "code",
      "execution_count": 19,
      "metadata": {
        "id": "FtSh-YfQ2ZJj"
      },
      "outputs": [],
      "source": [
        "\n",
        "def installments_payments(data_dir='data', num_rows=None, nan_as_category=True):\n",
        "    ins = pd.read_csv(f'{data_dir}/installments_payments.csv', nrows=num_rows)\n",
        "    ins, cat_cols = one_hot_encoder(ins, nan_as_category=True)\n",
        "    # Percentage and difference paid in each installment (amount paid and installment value)\n",
        "    ins['PAYMENT_PERC'] = ins['AMT_PAYMENT'] / ins['AMT_INSTALMENT']\n",
        "    ins['PAYMENT_DIFF'] = ins['AMT_INSTALMENT'] - ins['AMT_PAYMENT']\n",
        "    # Days past due and days before due (no negative values)\n",
        "    ins['DPD'] = ins['DAYS_ENTRY_PAYMENT'] - ins['DAYS_INSTALMENT']\n",
        "    ins['DBD'] = ins['DAYS_INSTALMENT'] - ins['DAYS_ENTRY_PAYMENT']\n",
        "    ins['DPD'] = ins['DPD'].apply(lambda x: x if x > 0 else 0)\n",
        "    ins['DBD'] = ins['DBD'].apply(lambda x: x if x > 0 else 0)\n",
        "    # Features: Perform aggregations\n",
        "    aggregations = {\n",
        "        'NUM_INSTALMENT_VERSION': ['nunique'],\n",
        "        'DPD': ['max', 'mean', 'sum'],\n",
        "        'DBD': ['max', 'mean', 'sum'],\n",
        "        'PAYMENT_PERC': ['max', 'mean', 'sum', 'var'],\n",
        "        'PAYMENT_DIFF': ['max', 'mean', 'sum', 'var'],\n",
        "        'AMT_INSTALMENT': ['max', 'mean', 'sum'],\n",
        "        'AMT_PAYMENT': ['min', 'max', 'mean', 'sum'],\n",
        "        'DAYS_ENTRY_PAYMENT': ['max', 'mean', 'sum']\n",
        "    }\n",
        "    for cat in cat_cols:\n",
        "        aggregations[cat] = ['mean']\n",
        "    ins_agg = ins.groupby('SK_ID_CURR').agg(aggregations)\n",
        "    ins_agg.columns = pd.Index(\n",
        "        ['INSTAL_' + e[0] + \"_\" + e[1].upper() for e in ins_agg.columns.tolist()])\n",
        "    # Count installments accounts\n",
        "    ins_agg['INSTAL_COUNT'] = ins.groupby('SK_ID_CURR').size()\n",
        "    del ins\n",
        "    gc.collect()\n",
        "    return ins_agg\n"
      ]
    },
    {
      "cell_type": "markdown",
      "metadata": {
        "id": "2-73oY8Z2h6W"
      },
      "source": [
        "### Preprocess credit_card_balance.csv\n",
        "\n",
        "#### credit_card_balance.csv\n",
        "\n",
        "Monthly balance snapshots of previous credit cards that the applicant has with Home Credit.\n",
        "\n",
        "This table has one row for each month of history of every previous credit in Home Credit (consumer credit and cash loans) related to loans in our sample – i.e. the table has `(#loans in sample * # of relative previous credit cards * # of months where we have some history observable for the previous credit card) rows`.\n"
      ]
    },
    {
      "cell_type": "code",
      "execution_count": 20,
      "metadata": {
        "id": "Fqvktcyy2iI9"
      },
      "outputs": [],
      "source": [
        "\n",
        "def credit_card_balance(data_dir='data', num_rows=None, nan_as_category=True):\n",
        "    cc = pd.read_csv(f'{data_dir}/credit_card_balance.csv', nrows=num_rows)\n",
        "    cc, cat_cols = one_hot_encoder(cc, nan_as_category=True)\n",
        "    # General aggregations\n",
        "    cc.drop(['SK_ID_PREV'], axis=1, inplace=True)\n",
        "    cc_agg = cc.groupby('SK_ID_CURR').agg(['min', 'max', 'mean', 'sum', 'var'])\n",
        "    cc_agg.columns = pd.Index(['CC_' + e[0] + \"_\" + e[1].upper()\n",
        "                              for e in cc_agg.columns.tolist()])\n",
        "    # Count credit card lines\n",
        "    cc_agg['CC_COUNT'] = cc.groupby('SK_ID_CURR').size()\n",
        "    del cc\n",
        "    gc.collect()\n",
        "    return cc_agg\n"
      ]
    },
    {
      "cell_type": "markdown",
      "metadata": {
        "id": "8iTDmtfq3POX"
      },
      "source": [
        "## 2.5 Preprocessing pipeline\n"
      ]
    },
    {
      "cell_type": "code",
      "execution_count": 21,
      "metadata": {
        "id": "ojnUOSN93Paf"
      },
      "outputs": [],
      "source": [
        "def preprocess_pipeline(data_dir=DATA_FOLDER, num_rows=None, debug=False):\n",
        "    # num_rows = 10000 if debug else None\n",
        "    print(f'data_dir={data_dir}')\n",
        "    df = application_train(data_dir, num_rows)\n",
        "    start = time.time()\n",
        "    with timer(\"Process bureau and bureau_balance\"):\n",
        "        bureau = bureau_and_balance(data_dir, num_rows)\n",
        "        print(\"Bureau df shape:\", bureau.shape)\n",
        "        df = df.join(bureau, how='left', on='SK_ID_CURR')\n",
        "        del bureau\n",
        "        gc.collect()\n",
        "    with timer(\"Process previous_applications\"):\n",
        "        prev = previous_applications(data_dir, num_rows)\n",
        "        print(\"Previous applications df shape:\", prev.shape)\n",
        "        df = df.join(prev, how='left', on='SK_ID_CURR')\n",
        "        del prev\n",
        "        gc.collect()\n",
        "    with timer(\"Process POS-CASH balance\"):\n",
        "        pos = pos_cash(data_dir, num_rows)\n",
        "        print(\"Pos-cash balance df shape:\", pos.shape)\n",
        "        df = df.join(pos, how='left', on='SK_ID_CURR')\n",
        "        del pos\n",
        "        gc.collect()\n",
        "    with timer(\"Process installments payments\"):\n",
        "        ins = installments_payments(data_dir, num_rows)\n",
        "        print(\"Installments payments df shape:\", ins.shape)\n",
        "        df = df.join(ins, how='left', on='SK_ID_CURR')\n",
        "        del ins\n",
        "        gc.collect()\n",
        "    with timer(\"Process credit card balance\"):\n",
        "        cc = credit_card_balance(data_dir, num_rows)\n",
        "        print(\"Credit card balance df shape:\", cc.shape)\n",
        "        df = df.join(cc, how='left', on='SK_ID_CURR')\n",
        "        del cc\n",
        "        gc.collect()\n",
        "\n",
        "    with timer(\"Reduce field sizes\"):\n",
        "        df=outils_preprocess.reduce_memory(df)\n",
        "    \n",
        "    time_taken = time.time() - start\n",
        "    print(f'preprocessing completed in {time_taken:.0f} s')\n",
        "    return df\n"
      ]
    },
    {
      "cell_type": "markdown",
      "metadata": {
        "id": "DfPMSbOd4GnL"
      },
      "source": [
        "### Test pre-processing pipeline\n"
      ]
    },
    {
      "cell_type": "code",
      "execution_count": 22,
      "metadata": {
        "colab": {
          "base_uri": "https://localhost:8080/"
        },
        "id": "sJe_vR_Y3k90",
        "outputId": "9d092f3d-60dd-4d6c-aeda-af415993a1db"
      },
      "outputs": [],
      "source": [
        "savepath = f'{OUT_FOLDER}/{CLEAN_DATA_FILENAME}'\n",
        "if os.path.exists(savepath):\n",
        "    df_data = pd.read_csv(savepath)\n",
        "else:\n",
        "    df_data = preprocess_pipeline(data_dir=DATA_FOLDER, num_rows=None, debug=False)\n"
      ]
    },
    {
      "cell_type": "code",
      "execution_count": 23,
      "metadata": {},
      "outputs": [],
      "source": [
        "if not os.path.exists(savepath):\n",
        "    with timer(f'Save to {savepath}'):\n",
        "        df_data.to_csv(savepath, encoding='UTF-8', sep='\\t', index=False)\n"
      ]
    },
    {
      "cell_type": "code",
      "execution_count": 24,
      "metadata": {},
      "outputs": [],
      "source": [
        "if len(df_data) > SAMPLE_SIZE:\n",
        "    samplepath = f'{OUT_FOLDER}/{CLEAN_DATA_SAMPLE}'\n",
        "    if not os.path.exists(samplepath):\n",
        "        with timer(f'Save sample (nb = {SAMPLE_SIZE}) to {samplepath}'):\n",
        "            df_data.sample(SAMPLE_SIZE).to_csv(\n",
        "                samplepath, encoding='UTF-8', sep='\\t', index=False)\n"
      ]
    },
    {
      "cell_type": "markdown",
      "metadata": {
        "id": "tF-TKxkBBMC3"
      },
      "source": [
        "### Taille des fichiers préprocessés\n"
      ]
    },
    {
      "cell_type": "code",
      "execution_count": 25,
      "metadata": {
        "colab": {
          "base_uri": "https://localhost:8080/"
        },
        "id": "Huo2gSCr7Ya9",
        "outputId": "d703255e-730b-4b00-b0a2-aa458400b3d6"
      },
      "outputs": [
        {
          "name": "stdout",
          "output_type": "stream",
          "text": [
            "file : cleaned_data_scoring.csv : size=919.9 Mo\n",
            "file : cleaned_data_sample.csv : size=299.01 Mo\n"
          ]
        }
      ],
      "source": [
        "for filename in [CLEAN_DATA_FILENAME, CLEAN_DATA_SAMPLE]:\n",
        "    filepath = f'{OUT_FOLDER}/{filename}'\n",
        "    print(f'file : {filename} : size={outils_io.get_filesize(filepath)}')\n"
      ]
    },
    {
      "cell_type": "markdown",
      "metadata": {},
      "source": [
        "# 3. Vérification des données\n",
        "\n",
        "Nous avons utilisés un preprocessing qui a donné un bon score sur LightGBM\n"
      ]
    },
    {
      "cell_type": "code",
      "execution_count": 26,
      "metadata": {},
      "outputs": [
        {
          "name": "stdout",
          "output_type": "stream",
          "text": [
            "(307507, 4)\n"
          ]
        }
      ],
      "source": [
        "print(df_data.shape)\n"
      ]
    },
    {
      "cell_type": "markdown",
      "metadata": {},
      "source": [
        "## 3.1 Colonnes avec des valeurs NaN\n",
        "\n",
        "Le framework [LightGBM](https://lightgbm.readthedocs.io/en/latest/) accepte les valeurs NaN, et même les utilise pour aider la classification\n",
        "\n",
        "Autres classificateurs ne peuvent pas traité des valeurs NaNs, comme:\n",
        "- [Random Forest](https://scikit-learn.org/stable/modules/generated/sklearn.ensemble.RandomForestClassifier.html) \n",
        "- [Logistic Regression](https://scikit-learn.org/stable/modules/generated/sklearn.linear_model.LogisticRegression.html)\n",
        "- [Naive Bayes](https://scikit-learn.org/stable/modules/generated/sklearn.naive_bayes.GaussianNB.html#sklearn.naive_bayes.GaussianNB)\n",
        "\n",
        "On regarde le nombre de valeurs NaN"
      ]
    },
    {
      "cell_type": "code",
      "execution_count": 27,
      "metadata": {},
      "outputs": [
        {
          "name": "stdout",
          "output_type": "stream",
          "text": [
            "Nombre de colonnes avec NaN values : 3\n"
          ]
        }
      ],
      "source": [
        "def list_nan_columns(df):\n",
        "    return [i for i in df.columns if df[i].isnull().any()]\n",
        "\n",
        "nan_colonnes = list_nan_columns(df_data)\n",
        "print(f'Nombre de colonnes avec NaN values : {len(nan_colonnes)}')"
      ]
    },
    {
      "cell_type": "markdown",
      "metadata": {},
      "source": [
        "Presque toutes les colonnes contient les NaNs\n",
        "\n",
        "On regarde le pourcentage remplissage\n",
        "\n"
      ]
    },
    {
      "cell_type": "code",
      "execution_count": 28,
      "metadata": {},
      "outputs": [
        {
          "name": "stdout",
          "output_type": "stream",
          "text": [
            "307507 registres 4 colonnes\n",
            "dtypes=float64    3\n",
            "object     1\n",
            "dtype: int64\n"
          ]
        },
        {
          "data": {
            "text/html": [
              "<div>\n",
              "<style scoped>\n",
              "    .dataframe tbody tr th:only-of-type {\n",
              "        vertical-align: middle;\n",
              "    }\n",
              "\n",
              "    .dataframe tbody tr th {\n",
              "        vertical-align: top;\n",
              "    }\n",
              "\n",
              "    .dataframe thead th {\n",
              "        text-align: right;\n",
              "    }\n",
              "</style>\n",
              "<table border=\"1\" class=\"dataframe\">\n",
              "  <thead>\n",
              "    <tr style=\"text-align: right;\">\n",
              "      <th></th>\n",
              "      <th>% manquantes</th>\n",
              "      <th>unique</th>\n",
              "      <th>dtype</th>\n",
              "      <th>min</th>\n",
              "      <th>max</th>\n",
              "      <th>std</th>\n",
              "    </tr>\n",
              "    <tr>\n",
              "      <th>column</th>\n",
              "      <th></th>\n",
              "      <th></th>\n",
              "      <th></th>\n",
              "      <th></th>\n",
              "      <th></th>\n",
              "      <th></th>\n",
              "    </tr>\n",
              "  </thead>\n",
              "  <tbody>\n",
              "    <tr>\n",
              "      <th>SK_ID_CURR\\tTARGET\\tCODE_GENDER\\tFLAG_OWN_CAR\\tFLAG_OWN_REALTY\\tCNT_CHILDREN\\tAMT_INCOME_TOTAL\\tAMT_CREDIT\\tAMT_ANNUITY\\tAMT_GOODS_PRICE\\tREGION_POPULATION_RELATIVE\\tDAYS_BIRTH\\tDAYS_EMPLOYED\\tDAYS_REGISTRATION\\tDAYS_ID_PUBLISH\\tOWN_CAR_AGE\\tFLAG_MOBIL\\tFLAG_EMP_PHONE\\tFLAG_WORK_PHONE\\tFLAG_CONT_MOBILE\\tFLAG_PHONE\\tFLAG_EMAIL\\tCNT_FAM_MEMBERS\\tREGION_RATING_CLIENT\\tREGION_RATING_CLIENT_W_CITY\\tHOUR_APPR_PROCESS_START\\tREG_REGION_NOT_LIVE_REGION\\tREG_REGION_NOT_WORK_REGION\\tLIVE_REGION_NOT_WORK_REGION\\tREG_CITY_NOT_LIVE_CITY\\tREG_CITY_NOT_WORK_CITY\\tLIVE_CITY_NOT_WORK_CITY\\tEXT_SOURCE_1\\tEXT_SOURCE_2\\tEXT_SOURCE_3\\tAPARTMENTS_AVG\\tBASEMENTAREA_AVG\\tYEARS_BEGINEXPLUATATION_AVG\\tYEARS_BUILD_AVG\\tCOMMONAREA_AVG\\tELEVATORS_AVG\\tENTRANCES_AVG\\tFLOORSMAX_AVG\\tFLOORSMIN_AVG\\tLANDAREA_AVG\\tLIVINGAPARTMENTS_AVG\\tLIVINGAREA_AVG\\tNONLIVINGAPARTMENTS_AVG\\tNONLIVINGAREA_AVG\\tAPARTMENTS_MODE\\tBASEMENTAREA_MODE\\tYEARS_BEGINEXPLUATATION_MODE\\tYEARS_BUILD_MODE\\tCOMMONAREA_MODE\\tELEVATORS_MODE\\tENTRANCES_MODE\\tFLOORSMAX_MODE\\tFLOORSMIN_MODE\\tLANDAREA_MODE\\tLIVINGAPARTMENTS_MODE\\tLIVINGAREA_MODE\\tNONLIVINGAPARTMENTS_MODE\\tNONLIVINGAREA_MODE\\tAPARTMENTS_MEDI\\tBASEMENTAREA_MEDI\\tYEARS_BEGINEXPLUATATION_MEDI\\tYEARS_BUILD_MEDI\\tCOMMONAREA_MEDI\\tELEVATORS_MEDI\\tENTRANCES_MEDI\\tFLOORSMAX_MEDI\\tFLOORSMIN_MEDI\\tLANDAREA_MEDI\\tLIVINGAPARTMENTS_MEDI\\tLIVINGAREA_MEDI\\tNONLIVINGAPARTMENTS_MEDI\\tNONLIVINGAREA_MEDI\\tTOTALAREA_MODE\\tOBS_30_CNT_SOCIAL_CIRCLE\\tDEF_30_CNT_SOCIAL_CIRCLE\\tOBS_60_CNT_SOCIAL_CIRCLE\\tDEF_60_CNT_SOCIAL_CIRCLE\\tDAYS_LAST_PHONE_CHANGE\\tFLAG_DOCUMENT_2\\tFLAG_DOCUMENT_3\\tFLAG_DOCUMENT_4\\tFLAG_DOCUMENT_5\\tFLAG_DOCUMENT_6\\tFLAG_DOCUMENT_7\\tFLAG_DOCUMENT_8\\tFLAG_DOCUMENT_9\\tFLAG_DOCUMENT_10\\tFLAG_DOCUMENT_11\\tFLAG_DOCUMENT_12\\tFLAG_DOCUMENT_13\\tFLAG_DOCUMENT_14\\tFLAG_DOCUMENT_15\\tFLAG_DOCUMENT_16\\tFLAG_DOCUMENT_17\\tFLAG_DOCUMENT_18\\tFLAG_DOCUMENT_19\\tFLAG_DOCUMENT_20\\tFLAG_DOCUMENT_21\\tAMT_REQ_CREDIT_BUREAU_HOUR\\tAMT_REQ_CREDIT_BUREAU_DAY\\tAMT_REQ_CREDIT_BUREAU_WEEK\\tAMT_REQ_CREDIT_BUREAU_MON\\tAMT_REQ_CREDIT_BUREAU_QRT\\tAMT_REQ_CREDIT_BUREAU_YEAR\\tNAME_CONTRACT_TYPE_Cash loans\\tNAME_CONTRACT_TYPE_Revolving loans\\tNAME_TYPE_SUITE_Children\\tNAME_TYPE_SUITE_Family\\tNAME_TYPE_SUITE_Group of people\\tNAME_TYPE_SUITE_Other_A\\tNAME_TYPE_SUITE_Other_B\\tNAME_TYPE_SUITE_Spouse</th>\n",
              "      <td>0.0</td>\n",
              "      <td>307507</td>\n",
              "      <td>object</td>\n",
              "      <td>100002\\t1\\t0\\t0\\t0\\t0\\t202500.0\\t406597.5\\t24700.5\\t351000.0\\t0.0188\\t-9461\\t-637.0\\t-3648.0\\t-2...</td>\n",
              "      <td>456255\\t0\\t1\\t0\\t1\\t0\\t157500.0\\t675000.0\\t49117.5\\t675000.0\\t0.04623\\t-16856\\t-1262.0\\t-5130.0\\...</td>\n",
              "      <td>NaN</td>\n",
              "    </tr>\n",
              "    <tr>\n",
              "      <th>partner\\tNAME_TYPE_SUITE_Unaccompanied\\tNAME_INCOME_TYPE_Businessman\\tNAME_INCOME_TYPE_Commercial associate\\tNAME_INCOME_TYPE_Maternity leave\\tNAME_INCOME_TYPE_Pensioner\\tNAME_INCOME_TYPE_State servant\\tNAME_INCOME_TYPE_Student\\tNAME_INCOME_TYPE_Unemployed\\tNAME_INCOME_TYPE_Working\\tNAME_EDUCATION_TYPE_Academic degree\\tNAME_EDUCATION_TYPE_Higher education\\tNAME_EDUCATION_TYPE_Incomplete higher\\tNAME_EDUCATION_TYPE_Lower secondary\\tNAME_EDUCATION_TYPE_Secondary / secondary special\\tNAME_FAMILY_STATUS_Civil marriage\\tNAME_FAMILY_STATUS_Married\\tNAME_FAMILY_STATUS_Separated\\tNAME_FAMILY_STATUS_Single / not married\\tNAME_FAMILY_STATUS_Unknown\\tNAME_FAMILY_STATUS_Widow\\tNAME_HOUSING_TYPE_Co-op apartment\\tNAME_HOUSING_TYPE_House / apartment\\tNAME_HOUSING_TYPE_Municipal apartment\\tNAME_HOUSING_TYPE_Office apartment\\tNAME_HOUSING_TYPE_Rented apartment\\tNAME_HOUSING_TYPE_With parents\\tOCCUPATION_TYPE_Accountants\\tOCCUPATION_TYPE_Cleaning staff\\tOCCUPATION_TYPE_Cooking staff\\tOCCUPATION_TYPE_Core staff\\tOCCUPATION_TYPE_Drivers\\tOCCUPATION_TYPE_HR staff\\tOCCUPATION_TYPE_High skill tech staff\\tOCCUPATION_TYPE_IT staff\\tOCCUPATION_TYPE_Laborers\\tOCCUPATION_TYPE_Low-skill Laborers\\tOCCUPATION_TYPE_Managers\\tOCCUPATION_TYPE_Medicine staff\\tOCCUPATION_TYPE_Private service staff\\tOCCUPATION_TYPE_Realty agents\\tOCCUPATION_TYPE_Sales staff\\tOCCUPATION_TYPE_Secretaries\\tOCCUPATION_TYPE_Security staff\\tOCCUPATION_TYPE_Waiters/barmen staff\\tWEEKDAY_APPR_PROCESS_START_FRIDAY\\tWEEKDAY_APPR_PROCESS_START_MONDAY\\tWEEKDAY_APPR_PROCESS_START_SATURDAY\\tWEEKDAY_APPR_PROCESS_START_SUNDAY\\tWEEKDAY_APPR_PROCESS_START_THURSDAY\\tWEEKDAY_APPR_PROCESS_START_TUESDAY\\tWEEKDAY_APPR_PROCESS_START_WEDNESDAY\\tORGANIZATION_TYPE_Advertising\\tORGANIZATION_TYPE_Agriculture\\tORGANIZATION_TYPE_Bank\\tORGANIZATION_TYPE_Business Entity Type 1\\tORGANIZATION_TYPE_Business Entity Type 2\\tORGANIZATION_TYPE_Business Entity Type 3\\tORGANIZATION_TYPE_Cleaning\\tORGANIZATION_TYPE_Construction\\tORGANIZATION_TYPE_Culture\\tORGANIZATION_TYPE_Electricity\\tORGANIZATION_TYPE_Emergency\\tORGANIZATION_TYPE_Government\\tORGANIZATION_TYPE_Hotel\\tORGANIZATION_TYPE_Housing\\tORGANIZATION_TYPE_Industry: type 1\\tORGANIZATION_TYPE_Industry: type 10\\tORGANIZATION_TYPE_Industry: type 11\\tORGANIZATION_TYPE_Industry: type 12\\tORGANIZATION_TYPE_Industry: type 13\\tORGANIZATION_TYPE_Industry: type 2\\tORGANIZATION_TYPE_Industry: type 3\\tORGANIZATION_TYPE_Industry: type 4\\tORGANIZATION_TYPE_Industry: type 5\\tORGANIZATION_TYPE_Industry: type 6\\tORGANIZATION_TYPE_Industry: type 7\\tORGANIZATION_TYPE_Industry: type 8\\tORGANIZATION_TYPE_Industry: type 9\\tORGANIZATION_TYPE_Insurance\\tORGANIZATION_TYPE_Kindergarten\\tORGANIZATION_TYPE_Legal Services\\tORGANIZATION_TYPE_Medicine\\tORGANIZATION_TYPE_Military\\tORGANIZATION_TYPE_Mobile\\tORGANIZATION_TYPE_Other\\tORGANIZATION_TYPE_Police\\tORGANIZATION_TYPE_Postal\\tORGANIZATION_TYPE_Realtor\\tORGANIZATION_TYPE_Religion\\tORGANIZATION_TYPE_Restaurant\\tORGANIZATION_TYPE_School\\tORGANIZATION_TYPE_Security\\tORGANIZATION_TYPE_Security Ministries\\tORGANIZATION_TYPE_Self-employed\\tORGANIZATION_TYPE_Services\\tORGANIZATION_TYPE_Telecom\\tORGANIZATION_TYPE_Trade: type 1\\tORGANIZATION_TYPE_Trade: type 2\\tORGANIZATION_TYPE_Trade: type 3\\tORGANIZATION_TYPE_Trade: type 4\\tORGANIZATION_TYPE_Trade: type 5\\tORGANIZATION_TYPE_Trade: type 6\\tORGANIZATION_TYPE_Trade: type 7\\tORGANIZATION_TYPE_Transport: type 1\\tORGANIZATION_TYPE_Transport: type 2\\tORGANIZATION_TYPE_Transport: type 3\\tORGANIZATION_TYPE_Transport: type 4\\tORGANIZATION_TYPE_University\\tORGANIZATION_TYPE_XNA\\tFONDKAPREMONT_MODE_not specified\\tFONDKAPREMONT_MODE_org spec account\\tFONDKAPREMONT_MODE_reg oper account\\tFONDKAPREMONT_MODE_reg oper spec account\\tHOUSETYPE_MODE_block of flats\\tHOUSETYPE_MODE_specific housing\\tHOUSETYPE_MODE_terraced house\\tWALLSMATERIAL_MODE_Block\\tWALLSMATERIAL_MODE_Mixed\\tWALLSMATERIAL_MODE_Monolithic\\tWALLSMATERIAL_MODE_Others\\tWALLSMATERIAL_MODE_Panel\\tWALLSMATERIAL_MODE_Stone</th>\n",
              "      <td>100.0</td>\n",
              "      <td>0</td>\n",
              "      <td>float64</td>\n",
              "      <td>NaN</td>\n",
              "      <td>NaN</td>\n",
              "      <td>NaN</td>\n",
              "    </tr>\n",
              "    <tr>\n",
              "      <th>brick\\tWALLSMATERIAL_MODE_Wooden\\tEMERGENCYSTATE_MODE_No\\tEMERGENCYSTATE_MODE_Yes\\tDAYS_EMPLOYED_PERC\\tINCOME_CREDIT_PERC\\tINCOME_PER_PERSON\\tANNUITY_INCOME_PERC\\tPAYMENT_RATE\\tBURO_DAYS_CREDIT_MIN\\tBURO_DAYS_CREDIT_MAX\\tBURO_DAYS_CREDIT_MEAN\\tBURO_DAYS_CREDIT_VAR\\tBURO_DAYS_CREDIT_ENDDATE_MIN\\tBURO_DAYS_CREDIT_ENDDATE_MAX\\tBURO_DAYS_CREDIT_ENDDATE_MEAN\\tBURO_DAYS_CREDIT_UPDATE_MEAN\\tBURO_CREDIT_DAY_OVERDUE_MAX\\tBURO_CREDIT_DAY_OVERDUE_MEAN\\tBURO_AMT_CREDIT_MAX_OVERDUE_MEAN\\tBURO_AMT_CREDIT_SUM_MAX\\tBURO_AMT_CREDIT_SUM_MEAN\\tBURO_AMT_CREDIT_SUM_SUM\\tBURO_AMT_CREDIT_SUM_DEBT_MAX\\tBURO_AMT_CREDIT_SUM_DEBT_MEAN\\tBURO_AMT_CREDIT_SUM_DEBT_SUM\\tBURO_AMT_CREDIT_SUM_OVERDUE_MEAN\\tBURO_AMT_CREDIT_SUM_LIMIT_MEAN\\tBURO_AMT_CREDIT_SUM_LIMIT_SUM\\tBURO_AMT_ANNUITY_MAX\\tBURO_AMT_ANNUITY_MEAN\\tBURO_CNT_CREDIT_PROLONG_SUM\\tBURO_MONTHS_BALANCE_MIN_MIN\\tBURO_MONTHS_BALANCE_MAX_MAX\\tBURO_MONTHS_BALANCE_SIZE_MEAN\\tBURO_MONTHS_BALANCE_SIZE_SUM\\tBURO_CREDIT_ACTIVE_Active_MEAN\\tBURO_CREDIT_ACTIVE_Bad debt_MEAN\\tBURO_CREDIT_ACTIVE_Closed_MEAN\\tBURO_CREDIT_ACTIVE_Sold_MEAN\\tBURO_CREDIT_ACTIVE_nan_MEAN\\tBURO_CREDIT_CURRENCY_currency 1_MEAN\\tBURO_CREDIT_CURRENCY_currency 2_MEAN\\tBURO_CREDIT_CURRENCY_currency 3_MEAN\\tBURO_CREDIT_CURRENCY_currency 4_MEAN\\tBURO_CREDIT_CURRENCY_nan_MEAN\\tBURO_CREDIT_TYPE_Another type of loan_MEAN\\tBURO_CREDIT_TYPE_Car loan_MEAN\\tBURO_CREDIT_TYPE_Cash loan (non-earmarked)_MEAN\\tBURO_CREDIT_TYPE_Consumer credit_MEAN\\tBURO_CREDIT_TYPE_Credit card_MEAN\\tBURO_CREDIT_TYPE_Interbank credit_MEAN\\tBURO_CREDIT_TYPE_Loan for business development_MEAN\\tBURO_CREDIT_TYPE_Loan for purchase of shares (margin lending)_MEAN\\tBURO_CREDIT_TYPE_Loan for the purchase of equipment_MEAN\\tBURO_CREDIT_TYPE_Loan for working capital replenishment_MEAN\\tBURO_CREDIT_TYPE_Microloan_MEAN\\tBURO_CREDIT_TYPE_Mobile operator loan_MEAN\\tBURO_CREDIT_TYPE_Mortgage_MEAN\\tBURO_CREDIT_TYPE_Real estate loan_MEAN\\tBURO_CREDIT_TYPE_Unknown type of loan_MEAN\\tBURO_CREDIT_TYPE_nan_MEAN\\tBURO_STATUS_0_MEAN_MEAN\\tBURO_STATUS_1_MEAN_MEAN\\tBURO_STATUS_2_MEAN_MEAN\\tBURO_STATUS_3_MEAN_MEAN\\tBURO_STATUS_4_MEAN_MEAN\\tBURO_STATUS_5_MEAN_MEAN\\tBURO_STATUS_C_MEAN_MEAN\\tBURO_STATUS_X_MEAN_MEAN\\tBURO_STATUS_nan_MEAN_MEAN\\tACTIVE_DAYS_CREDIT_MIN\\tACTIVE_DAYS_CREDIT_MAX\\tACTIVE_DAYS_CREDIT_MEAN\\tACTIVE_DAYS_CREDIT_VAR\\tACTIVE_DAYS_CREDIT_ENDDATE_MIN\\tACTIVE_DAYS_CREDIT_ENDDATE_MAX\\tACTIVE_DAYS_CREDIT_ENDDATE_MEAN\\tACTIVE_DAYS_CREDIT_UPDATE_MEAN\\tACTIVE_CREDIT_DAY_OVERDUE_MAX\\tACTIVE_CREDIT_DAY_OVERDUE_MEAN\\tACTIVE_AMT_CREDIT_MAX_OVERDUE_MEAN\\tACTIVE_AMT_CREDIT_SUM_MAX\\tACTIVE_AMT_CREDIT_SUM_MEAN\\tACTIVE_AMT_CREDIT_SUM_SUM\\tACTIVE_AMT_CREDIT_SUM_DEBT_MAX\\tACTIVE_AMT_CREDIT_SUM_DEBT_MEAN\\tACTIVE_AMT_CREDIT_SUM_DEBT_SUM\\tACTIVE_AMT_CREDIT_SUM_OVERDUE_MEAN\\tACTIVE_AMT_CREDIT_SUM_LIMIT_MEAN\\tACTIVE_AMT_CREDIT_SUM_LIMIT_SUM\\tACTIVE_AMT_ANNUITY_MAX\\tACTIVE_AMT_ANNUITY_MEAN\\tACTIVE_CNT_CREDIT_PROLONG_SUM\\tACTIVE_MONTHS_BALANCE_MIN_MIN\\tACTIVE_MONTHS_BALANCE_MAX_MAX\\tACTIVE_MONTHS_BALANCE_SIZE_MEAN\\tACTIVE_MONTHS_BALANCE_SIZE_SUM\\tCLOSED_DAYS_CREDIT_MIN\\tCLOSED_DAYS_CREDIT_MAX\\tCLOSED_DAYS_CREDIT_MEAN\\tCLOSED_DAYS_CREDIT_VAR\\tCLOSED_DAYS_CREDIT_ENDDATE_MIN\\tCLOSED_DAYS_CREDIT_ENDDATE_MAX\\tCLOSED_DAYS_CREDIT_ENDDATE_MEAN\\tCLOSED_DAYS_CREDIT_UPDATE_MEAN\\tCLOSED_CREDIT_DAY_OVERDUE_MAX\\tCLOSED_CREDIT_DAY_OVERDUE_MEAN\\tCLOSED_AMT_CREDIT_MAX_OVERDUE_MEAN\\tCLOSED_AMT_CREDIT_SUM_MAX\\tCLOSED_AMT_CREDIT_SUM_MEAN\\tCLOSED_AMT_CREDIT_SUM_SUM\\tCLOSED_AMT_CREDIT_SUM_DEBT_MAX\\tCLOSED_AMT_CREDIT_SUM_DEBT_MEAN\\tCLOSED_AMT_CREDIT_SUM_DEBT_SUM\\tCLOSED_AMT_CREDIT_SUM_OVERDUE_MEAN\\tCLOSED_AMT_CREDIT_SUM_LIMIT_MEAN\\tCLOSED_AMT_CREDIT_SUM_LIMIT_SUM\\tCLOSED_AMT_ANNUITY_MAX\\tCLOSED_AMT_ANNUITY_MEAN\\tCLOSED_CNT_CREDIT_PROLONG_SUM\\tCLOSED_MONTHS_BALANCE_MIN_MIN\\tCLOSED_MONTHS_BALANCE_MAX_MAX\\tCLOSED_MONTHS_BALANCE_SIZE_MEAN\\tCLOSED_MONTHS_BALANCE_SIZE_SUM\\tPREV_AMT_ANNUITY_MIN\\tPREV_AMT_ANNUITY_MAX\\tPREV_AMT_ANNUITY_MEAN\\tPREV_AMT_APPLICATION_MIN\\tPREV_AMT_APPLICATION_MAX\\tPREV_AMT_APPLICATION_MEAN\\tPREV_AMT_CREDIT_MIN\\tPREV_AMT_CREDIT_MAX\\tPREV_AMT_CREDIT_MEAN\\tPREV_APP_CREDIT_PERC_MIN\\tPREV_APP_CREDIT_PERC_MAX\\tPREV_APP_CREDIT_PERC_MEAN\\tPREV_APP_CREDIT_PERC_VAR\\tPREV_AMT_DOWN_PAYMENT_MIN\\tPREV_AMT_DOWN_PAYMENT_MAX\\tPREV_AMT_DOWN_PAYMENT_MEAN\\tPREV_AMT_GOODS_PRICE_MIN\\tPREV_AMT_GOODS_PRICE_MAX\\tPREV_AMT_GOODS_PRICE_MEAN\\tPREV_HOUR_APPR_PROCESS_START_MIN\\tPREV_HOUR_APPR_PROCESS_START_MAX\\tPREV_HOUR_APPR_PROCESS_START_MEAN\\tPREV_RATE_DOWN_PAYMENT_MIN\\tPREV_RATE_DOWN_PAYMENT_MAX\\tPREV_RATE_DOWN_PAYMENT_MEAN\\tPREV_DAYS_DECISION_MIN\\tPREV_DAYS_DECISION_MAX\\tPREV_DAYS_DECISION_MEAN\\tPREV_CNT_PAYMENT_MEAN\\tPREV_CNT_PAYMENT_SUM\\tPREV_NAME_CONTRACT_TYPE_Cash loans_MEAN\\tPREV_NAME_CONTRACT_TYPE_Consumer loans_MEAN\\tPREV_NAME_CONTRACT_TYPE_Revolving loans_MEAN\\tPREV_NAME_CONTRACT_TYPE_XNA_MEAN\\tPREV_NAME_CONTRACT_TYPE_nan_MEAN\\tPREV_WEEKDAY_APPR_PROCESS_START_FRIDAY_MEAN\\tPREV_WEEKDAY_APPR_PROCESS_START_MONDAY_MEAN\\tPREV_WEEKDAY_APPR_PROCESS_START_SATURDAY_MEAN\\tPREV_WEEKDAY_APPR_PROCESS_START_SUNDAY_MEAN\\tPREV_WEEKDAY_APPR_PROCESS_START_THURSDAY_MEAN\\tPREV_WEEKDAY_APPR_PROCESS_START_TUESDAY_MEAN\\tPREV_WEEKDAY_APPR_PROCESS_START_WEDNESDAY_MEAN\\tPREV_WEEKDAY_APPR_PROCESS_START_nan_MEAN\\tPREV_FLAG_LAST_APPL_PER_CONTRACT_N_MEAN\\tPREV_FLAG_LAST_APPL_PER_CONTRACT_Y_MEAN\\tPREV_FLAG_LAST_APPL_PER_CONTRACT_nan_MEAN\\tPREV_NAME_CASH_LOAN_PURPOSE_Building a house or an annex_MEAN\\tPREV_NAME_CASH_LOAN_PURPOSE_Business development_MEAN\\tPREV_NAME_CASH_LOAN_PURPOSE_Buying a garage_MEAN\\tPREV_NAME_CASH_LOAN_PURPOSE_Buying a holiday home / land_MEAN\\tPREV_NAME_CASH_LOAN_PURPOSE_Buying a home_MEAN\\tPREV_NAME_CASH_LOAN_PURPOSE_Buying a new car_MEAN\\tPREV_NAME_CASH_LOAN_PURPOSE_Buying a used car_MEAN\\tPREV_NAME_CASH_LOAN_PURPOSE_Car repairs_MEAN\\tPREV_NAME_CASH_LOAN_PURPOSE_Education_MEAN\\tPREV_NAME_CASH_LOAN_PURPOSE_Everyday expenses_MEAN\\tPREV_NAME_CASH_LOAN_PURPOSE_Furniture_MEAN\\tPREV_NAME_CASH_LOAN_PURPOSE_Gasification / water supply_MEAN\\tPREV_NAME_CASH_LOAN_PURPOSE_Hobby_MEAN\\tPREV_NAME_CASH_LOAN_PURPOSE_Journey_MEAN\\tPREV_NAME_CASH_LOAN_PURPOSE_Medicine_MEAN\\tPREV_NAME_CASH_LOAN_PURPOSE_Money for a third person_MEAN\\tPREV_NAME_CASH_LOAN_PURPOSE_Other_MEAN\\tPREV_NAME_CASH_LOAN_PURPOSE_Payments on other loans_MEAN\\tPREV_NAME_CASH_LOAN_PURPOSE_Purchase of electronic equipment_MEAN\\tPREV_NAME_CASH_LOAN_PURPOSE_Refusal to name the goal_MEAN\\tPREV_NAME_CASH_LOAN_PURPOSE_Repairs_MEAN\\tPREV_NAME_CASH_LOAN_PURPOSE_Urgent needs_MEAN\\tPREV_NAME_CASH_LOAN_PURPOSE_Wedding / gift / holiday_MEAN\\tPREV_NAME_CASH_LOAN_PURPOSE_XAP_MEAN\\tPREV_NAME_CASH_LOAN_PURPOSE_XNA_MEAN\\tPREV_NAME_CASH_LOAN_PURPOSE_nan_MEAN\\tPREV_NAME_CONTRACT_STATUS_Approved_MEAN\\tPREV_NAME_CONTRACT_STATUS_Canceled_MEAN\\tPREV_NAME_CONTRACT_STATUS_Refused_MEAN\\tPREV_NAME_CONTRACT_STATUS_Unused offer_MEAN\\tPREV_NAME_CONTRACT_STATUS_nan_MEAN\\tPREV_NAME_PAYMENT_TYPE_Cash through the bank_MEAN\\tPREV_NAME_PAYMENT_TYPE_Cashless from the account of the employer_MEAN\\tPREV_NAME_PAYMENT_TYPE_Non-cash from your account_MEAN\\tPREV_NAME_PAYMENT_TYPE_XNA_MEAN\\tPREV_NAME_PAYMENT_TYPE_nan_MEAN\\tPREV_CODE_REJECT_REASON_CLIENT_MEAN\\tPREV_CODE_REJECT_REASON_HC_MEAN\\tPREV_CODE_REJECT_REASON_LIMIT_MEAN\\tPREV_CODE_REJECT_REASON_SCO_MEAN\\tPREV_CODE_REJECT_REASON_SCOFR_MEAN\\tPREV_CODE_REJECT_REASON_SYSTEM_MEAN\\tPREV_CODE_REJECT_REASON_VERIF_MEAN\\tPREV_CODE_REJECT_REASON_XAP_MEAN\\tPREV_CODE_REJECT_REASON_XNA_MEAN\\tPREV_CODE_REJECT_REASON_nan_MEAN\\tPREV_NAME_TYPE_SUITE_Children_MEAN\\tPREV_NAME_TYPE_SUITE_Family_MEAN\\tPREV_NAME_TYPE_SUITE_Group of people_MEAN\\tPREV_NAME_TYPE_SUITE_Other_A_MEAN\\tPREV_NAME_TYPE_SUITE_Other_B_MEAN\\tPREV_NAME_TYPE_SUITE_Spouse</th>\n",
              "      <td>100.0</td>\n",
              "      <td>0</td>\n",
              "      <td>float64</td>\n",
              "      <td>NaN</td>\n",
              "      <td>NaN</td>\n",
              "      <td>NaN</td>\n",
              "    </tr>\n",
              "    <tr>\n",
              "      <th>partner_MEAN\\tPREV_NAME_TYPE_SUITE_Unaccompanied_MEAN\\tPREV_NAME_TYPE_SUITE_nan_MEAN\\tPREV_NAME_CLIENT_TYPE_New_MEAN\\tPREV_NAME_CLIENT_TYPE_Refreshed_MEAN\\tPREV_NAME_CLIENT_TYPE_Repeater_MEAN\\tPREV_NAME_CLIENT_TYPE_XNA_MEAN\\tPREV_NAME_CLIENT_TYPE_nan_MEAN\\tPREV_NAME_GOODS_CATEGORY_Additional Service_MEAN\\tPREV_NAME_GOODS_CATEGORY_Animals_MEAN\\tPREV_NAME_GOODS_CATEGORY_Audio/Video_MEAN\\tPREV_NAME_GOODS_CATEGORY_Auto Accessories_MEAN\\tPREV_NAME_GOODS_CATEGORY_Clothing and Accessories_MEAN\\tPREV_NAME_GOODS_CATEGORY_Computers_MEAN\\tPREV_NAME_GOODS_CATEGORY_Construction Materials_MEAN\\tPREV_NAME_GOODS_CATEGORY_Consumer Electronics_MEAN\\tPREV_NAME_GOODS_CATEGORY_Direct Sales_MEAN\\tPREV_NAME_GOODS_CATEGORY_Education_MEAN\\tPREV_NAME_GOODS_CATEGORY_Fitness_MEAN\\tPREV_NAME_GOODS_CATEGORY_Furniture_MEAN\\tPREV_NAME_GOODS_CATEGORY_Gardening_MEAN\\tPREV_NAME_GOODS_CATEGORY_Homewares_MEAN\\tPREV_NAME_GOODS_CATEGORY_House Construction_MEAN\\tPREV_NAME_GOODS_CATEGORY_Insurance_MEAN\\tPREV_NAME_GOODS_CATEGORY_Jewelry_MEAN\\tPREV_NAME_GOODS_CATEGORY_Medical Supplies_MEAN\\tPREV_NAME_GOODS_CATEGORY_Medicine_MEAN\\tPREV_NAME_GOODS_CATEGORY_Mobile_MEAN\\tPREV_NAME_GOODS_CATEGORY_Office Appliances_MEAN\\tPREV_NAME_GOODS_CATEGORY_Other_MEAN\\tPREV_NAME_GOODS_CATEGORY_Photo / Cinema Equipment_MEAN\\tPREV_NAME_GOODS_CATEGORY_Sport and Leisure_MEAN\\tPREV_NAME_GOODS_CATEGORY_Tourism_MEAN\\tPREV_NAME_GOODS_CATEGORY_Vehicles_MEAN\\tPREV_NAME_GOODS_CATEGORY_Weapon_MEAN\\tPREV_NAME_GOODS_CATEGORY_XNA_MEAN\\tPREV_NAME_GOODS_CATEGORY_nan_MEAN\\tPREV_NAME_PORTFOLIO_Cards_MEAN\\tPREV_NAME_PORTFOLIO_Cars_MEAN\\tPREV_NAME_PORTFOLIO_Cash_MEAN\\tPREV_NAME_PORTFOLIO_POS_MEAN\\tPREV_NAME_PORTFOLIO_XNA_MEAN\\tPREV_NAME_PORTFOLIO_nan_MEAN\\tPREV_NAME_PRODUCT_TYPE_XNA_MEAN\\tPREV_NAME_PRODUCT_TYPE_walk-in_MEAN\\tPREV_NAME_PRODUCT_TYPE_x-sell_MEAN\\tPREV_NAME_PRODUCT_TYPE_nan_MEAN\\tPREV_CHANNEL_TYPE_AP+ (Cash loan)_MEAN\\tPREV_CHANNEL_TYPE_Car dealer_MEAN\\tPREV_CHANNEL_TYPE_Channel of corporate sales_MEAN\\tPREV_CHANNEL_TYPE_Contact center_MEAN\\tPREV_CHANNEL_TYPE_Country-wide_MEAN\\tPREV_CHANNEL_TYPE_Credit and cash offices_MEAN\\tPREV_CHANNEL_TYPE_Regional / Local_MEAN\\tPREV_CHANNEL_TYPE_Stone_MEAN\\tPREV_CHANNEL_TYPE_nan_MEAN\\tPREV_NAME_SELLER_INDUSTRY_Auto technology_MEAN\\tPREV_NAME_SELLER_INDUSTRY_Clothing_MEAN\\tPREV_NAME_SELLER_INDUSTRY_Connectivity_MEAN\\tPREV_NAME_SELLER_INDUSTRY_Construction_MEAN\\tPREV_NAME_SELLER_INDUSTRY_Consumer electronics_MEAN\\tPREV_NAME_SELLER_INDUSTRY_Furniture_MEAN\\tPREV_NAME_SELLER_INDUSTRY_Industry_MEAN\\tPREV_NAME_SELLER_INDUSTRY_Jewelry_MEAN\\tPREV_NAME_SELLER_INDUSTRY_MLM partners_MEAN\\tPREV_NAME_SELLER_INDUSTRY_Tourism_MEAN\\tPREV_NAME_SELLER_INDUSTRY_XNA_MEAN\\tPREV_NAME_SELLER_INDUSTRY_nan_MEAN\\tPREV_NAME_YIELD_GROUP_XNA_MEAN\\tPREV_NAME_YIELD_GROUP_high_MEAN\\tPREV_NAME_YIELD_GROUP_low_action_MEAN\\tPREV_NAME_YIELD_GROUP_low_normal_MEAN\\tPREV_NAME_YIELD_GROUP_middle_MEAN\\tPREV_NAME_YIELD_GROUP_nan_MEAN\\tPREV_PRODUCT_COMBINATION_Card Street_MEAN\\tPREV_PRODUCT_COMBINATION_Card X-Sell_MEAN\\tPREV_PRODUCT_COMBINATION_Cash_MEAN\\tPREV_PRODUCT_COMBINATION_Cash Street: high_MEAN\\tPREV_PRODUCT_COMBINATION_Cash Street: low_MEAN\\tPREV_PRODUCT_COMBINATION_Cash Street: middle_MEAN\\tPREV_PRODUCT_COMBINATION_Cash X-Sell: high_MEAN\\tPREV_PRODUCT_COMBINATION_Cash X-Sell: low_MEAN\\tPREV_PRODUCT_COMBINATION_Cash X-Sell: middle_MEAN\\tPREV_PRODUCT_COMBINATION_POS household with interest_MEAN\\tPREV_PRODUCT_COMBINATION_POS household without interest_MEAN\\tPREV_PRODUCT_COMBINATION_POS industry with interest_MEAN\\tPREV_PRODUCT_COMBINATION_POS industry without interest_MEAN\\tPREV_PRODUCT_COMBINATION_POS mobile with interest_MEAN\\tPREV_PRODUCT_COMBINATION_POS mobile without interest_MEAN\\tPREV_PRODUCT_COMBINATION_POS other with interest_MEAN\\tPREV_PRODUCT_COMBINATION_POS others without interest_MEAN\\tPREV_PRODUCT_COMBINATION_nan_MEAN\\tAPPROVED_AMT_ANNUITY_MIN\\tAPPROVED_AMT_ANNUITY_MAX\\tAPPROVED_AMT_ANNUITY_MEAN\\tAPPROVED_AMT_APPLICATION_MIN\\tAPPROVED_AMT_APPLICATION_MAX\\tAPPROVED_AMT_APPLICATION_MEAN\\tAPPROVED_AMT_CREDIT_MIN\\tAPPROVED_AMT_CREDIT_MAX\\tAPPROVED_AMT_CREDIT_MEAN\\tAPPROVED_APP_CREDIT_PERC_MIN\\tAPPROVED_APP_CREDIT_PERC_MAX\\tAPPROVED_APP_CREDIT_PERC_MEAN\\tAPPROVED_APP_CREDIT_PERC_VAR\\tAPPROVED_AMT_DOWN_PAYMENT_MIN\\tAPPROVED_AMT_DOWN_PAYMENT_MAX\\tAPPROVED_AMT_DOWN_PAYMENT_MEAN\\tAPPROVED_AMT_GOODS_PRICE_MIN\\tAPPROVED_AMT_GOODS_PRICE_MAX\\tAPPROVED_AMT_GOODS_PRICE_MEAN\\tAPPROVED_HOUR_APPR_PROCESS_START_MIN\\tAPPROVED_HOUR_APPR_PROCESS_START_MAX\\tAPPROVED_HOUR_APPR_PROCESS_START_MEAN\\tAPPROVED_RATE_DOWN_PAYMENT_MIN\\tAPPROVED_RATE_DOWN_PAYMENT_MAX\\tAPPROVED_RATE_DOWN_PAYMENT_MEAN\\tAPPROVED_DAYS_DECISION_MIN\\tAPPROVED_DAYS_DECISION_MAX\\tAPPROVED_DAYS_DECISION_MEAN\\tAPPROVED_CNT_PAYMENT_MEAN\\tAPPROVED_CNT_PAYMENT_SUM\\tREFUSED_AMT_ANNUITY_MIN\\tREFUSED_AMT_ANNUITY_MAX\\tREFUSED_AMT_ANNUITY_MEAN\\tREFUSED_AMT_APPLICATION_MIN\\tREFUSED_AMT_APPLICATION_MAX\\tREFUSED_AMT_APPLICATION_MEAN\\tREFUSED_AMT_CREDIT_MIN\\tREFUSED_AMT_CREDIT_MAX\\tREFUSED_AMT_CREDIT_MEAN\\tREFUSED_APP_CREDIT_PERC_MIN\\tREFUSED_APP_CREDIT_PERC_MAX\\tREFUSED_APP_CREDIT_PERC_MEAN\\tREFUSED_APP_CREDIT_PERC_VAR\\tREFUSED_AMT_DOWN_PAYMENT_MIN\\tREFUSED_AMT_DOWN_PAYMENT_MAX\\tREFUSED_AMT_DOWN_PAYMENT_MEAN\\tREFUSED_AMT_GOODS_PRICE_MIN\\tREFUSED_AMT_GOODS_PRICE_MAX\\tREFUSED_AMT_GOODS_PRICE_MEAN\\tREFUSED_HOUR_APPR_PROCESS_START_MIN\\tREFUSED_HOUR_APPR_PROCESS_START_MAX\\tREFUSED_HOUR_APPR_PROCESS_START_MEAN\\tREFUSED_RATE_DOWN_PAYMENT_MIN\\tREFUSED_RATE_DOWN_PAYMENT_MAX\\tREFUSED_RATE_DOWN_PAYMENT_MEAN\\tREFUSED_DAYS_DECISION_MIN\\tREFUSED_DAYS_DECISION_MAX\\tREFUSED_DAYS_DECISION_MEAN\\tREFUSED_CNT_PAYMENT_MEAN\\tREFUSED_CNT_PAYMENT_SUM\\tPOS_MONTHS_BALANCE_MAX\\tPOS_MONTHS_BALANCE_MEAN\\tPOS_MONTHS_BALANCE_SIZE\\tPOS_SK_DPD_MAX\\tPOS_SK_DPD_MEAN\\tPOS_SK_DPD_DEF_MAX\\tPOS_SK_DPD_DEF_MEAN\\tPOS_NAME_CONTRACT_STATUS_Active_MEAN\\tPOS_NAME_CONTRACT_STATUS_Amortized debt_MEAN\\tPOS_NAME_CONTRACT_STATUS_Approved_MEAN\\tPOS_NAME_CONTRACT_STATUS_Canceled_MEAN\\tPOS_NAME_CONTRACT_STATUS_Completed_MEAN\\tPOS_NAME_CONTRACT_STATUS_Demand_MEAN\\tPOS_NAME_CONTRACT_STATUS_Returned to the store_MEAN\\tPOS_NAME_CONTRACT_STATUS_Signed_MEAN\\tPOS_NAME_CONTRACT_STATUS_XNA_MEAN\\tPOS_NAME_CONTRACT_STATUS_nan_MEAN\\tPOS_COUNT\\tINSTAL_NUM_INSTALMENT_VERSION_NUNIQUE\\tINSTAL_DPD_MAX\\tINSTAL_DPD_MEAN\\tINSTAL_DPD_SUM\\tINSTAL_DBD_MAX\\tINSTAL_DBD_MEAN\\tINSTAL_DBD_SUM\\tINSTAL_PAYMENT_PERC_MAX\\tINSTAL_PAYMENT_PERC_MEAN\\tINSTAL_PAYMENT_PERC_SUM\\tINSTAL_PAYMENT_PERC_VAR\\tINSTAL_PAYMENT_DIFF_MAX\\tINSTAL_PAYMENT_DIFF_MEAN\\tINSTAL_PAYMENT_DIFF_SUM\\tINSTAL_PAYMENT_DIFF_VAR\\tINSTAL_AMT_INSTALMENT_MAX\\tINSTAL_AMT_INSTALMENT_MEAN\\tINSTAL_AMT_INSTALMENT_SUM\\tINSTAL_AMT_PAYMENT_MIN\\tINSTAL_AMT_PAYMENT_MAX\\tINSTAL_AMT_PAYMENT_MEAN\\tINSTAL_AMT_PAYMENT_SUM\\tINSTAL_DAYS_ENTRY_PAYMENT_MAX\\tINSTAL_DAYS_ENTRY_PAYMENT_MEAN\\tINSTAL_DAYS_ENTRY_PAYMENT_SUM\\tINSTAL_COUNT\\tCC_MONTHS_BALANCE_MIN\\tCC_MONTHS_BALANCE_MAX\\tCC_MONTHS_BALANCE_MEAN\\tCC_MONTHS_BALANCE_SUM\\tCC_MONTHS_BALANCE_VAR\\tCC_AMT_BALANCE_MIN\\tCC_AMT_BALANCE_MAX\\tCC_AMT_BALANCE_MEAN\\tCC_AMT_BALANCE_SUM\\tCC_AMT_BALANCE_VAR\\tCC_AMT_CREDIT_LIMIT_ACTUAL_MIN\\tCC_AMT_CREDIT_LIMIT_ACTUAL_MAX\\tCC_AMT_CREDIT_LIMIT_ACTUAL_MEAN\\tCC_AMT_CREDIT_LIMIT_ACTUAL_SUM\\tCC_AMT_CREDIT_LIMIT_ACTUAL_VAR\\tCC_AMT_DRAWINGS_ATM_CURRENT_MIN\\tCC_AMT_DRAWINGS_ATM_CURRENT_MAX\\tCC_AMT_DRAWINGS_ATM_CURRENT_MEAN\\tCC_AMT_DRAWINGS_ATM_CURRENT_SUM\\tCC_AMT_DRAWINGS_ATM_CURRENT_VAR\\tCC_AMT_DRAWINGS_CURRENT_MIN\\tCC_AMT_DRAWINGS_CURRENT_MAX\\tCC_AMT_DRAWINGS_CURRENT_MEAN\\tCC_AMT_DRAWINGS_CURRENT_SUM\\tCC_AMT_DRAWINGS_CURRENT_VAR\\tCC_AMT_DRAWINGS_OTHER_CURRENT_MIN\\tCC_AMT_DRAWINGS_OTHER_CURRENT_MAX\\tCC_AMT_DRAWINGS_OTHER_CURRENT_MEAN\\tCC_AMT_DRAWINGS_OTHER_CURRENT_SUM\\tCC_AMT_DRAWINGS_OTHER_CURRENT_VAR\\tCC_AMT_DRAWINGS_POS_CURRENT_MIN\\tCC_AMT_DRAWINGS_POS_CURRENT_MAX\\tCC_AMT_DRAWINGS_POS_CURRENT_MEAN\\tCC_AMT_DRAWINGS_POS_CURRENT_SUM\\tCC_AMT_DRAWINGS_POS_CURRENT_VAR\\tCC_AMT_INST_MIN_REGULARITY_MIN\\tCC_AMT_INST_MIN_REGULARITY_MAX\\tCC_AMT_INST_MIN_REGULARITY_MEAN\\tCC_AMT_INST_MIN_REGULARITY_SUM\\tCC_AMT_INST_MIN_REGULARITY_VAR\\tCC_AMT_PAYMENT_CURRENT_MIN\\tCC_AMT_PAYMENT_CURRENT_MAX\\tCC_AMT_PAYMENT_CURRENT_MEAN\\tCC_AMT_PAYMENT_CURRENT_SUM\\tCC_AMT_PAYMENT_CURRENT_VAR\\tCC_AMT_PAYMENT_TOTAL_CURRENT_MIN\\tCC_AMT_PAYMENT_TOTAL_CURRENT_MAX\\tCC_AMT_PAYMENT_TOTAL_CURRENT_MEAN\\tCC_AMT_PAYMENT_TOTAL_CURRENT_SUM\\tCC_AMT_PAYMENT_TOTAL_CURRENT_VAR\\tCC_AMT_RECEIVABLE_PRINCIPAL_MIN\\tCC_AMT_RECEIVABLE_PRINCIPAL_MAX\\tCC_AMT_RECEIVABLE_PRINCIPAL_MEAN\\tCC_AMT_RECEIVABLE_PRINCIPAL_SUM\\tCC_AMT_RECEIVABLE_PRINCIPAL_VAR\\tCC_AMT_RECIVABLE_MIN\\tCC_AMT_RECIVABLE_MAX\\tCC_AMT_RECIVABLE_MEAN\\tCC_AMT_RECIVABLE_SUM\\tCC_AMT_RECIVABLE_VAR\\tCC_AMT_TOTAL_RECEIVABLE_MIN\\tCC_AMT_TOTAL_RECEIVABLE_MAX\\tCC_AMT_TOTAL_RECEIVABLE_MEAN\\tCC_AMT_TOTAL_RECEIVABLE_SUM\\tCC_AMT_TOTAL_RECEIVABLE_VAR\\tCC_CNT_DRAWINGS_ATM_CURRENT_MIN\\tCC_CNT_DRAWINGS_ATM_CURRENT_MAX\\tCC_CNT_DRAWINGS_ATM_CURRENT_MEAN\\tCC_CNT_DRAWINGS_ATM_CURRENT_SUM\\tCC_CNT_DRAWINGS_ATM_CURRENT_VAR\\tCC_CNT_DRAWINGS_CURRENT_MIN\\tCC_CNT_DRAWINGS_CURRENT_MAX\\tCC_CNT_DRAWINGS_CURRENT_MEAN\\tCC_CNT_DRAWINGS_CURRENT_SUM\\tCC_CNT_DRAWINGS_CURRENT_VAR\\tCC_CNT_DRAWINGS_OTHER_CURRENT_MIN\\tCC_CNT_DRAWINGS_OTHER_CURRENT_MAX\\tCC_CNT_DRAWINGS_OTHER_CURRENT_MEAN\\tCC_CNT_DRAWINGS_OTHER_CURRENT_SUM\\tCC_CNT_DRAWINGS_OTHER_CURRENT_VAR\\tCC_CNT_DRAWINGS_POS_CURRENT_MIN\\tCC_CNT_DRAWINGS_POS_CURRENT_MAX\\tCC_CNT_DRAWINGS_POS_CURRENT_MEAN\\tCC_CNT_DRAWINGS_POS_CURRENT_SUM\\tCC_CNT_DRAWINGS_POS_CURRENT_VAR\\tCC_CNT_INSTALMENT_MATURE_CUM_MIN\\tCC_CNT_INSTALMENT_MATURE_CUM_MAX\\tCC_CNT_INSTALMENT_MATURE_CUM_MEAN\\tCC_CNT_INSTALMENT_MATURE_CUM_SUM\\tCC_CNT_INSTALMENT_MATURE_CUM_VAR\\tCC_SK_DPD_MIN\\tCC_SK_DPD_MAX\\tCC_SK_DPD_MEAN\\tCC_SK_DPD_SUM\\tCC_SK_DPD_VAR\\tCC_SK_DPD_DEF_MIN\\tCC_SK_DPD_DEF_MAX\\tCC_SK_DPD_DEF_MEAN\\tCC_SK_DPD_DEF_SUM\\tCC_SK_DPD_DEF_VAR\\tCC_NAME_CONTRACT_STATUS_Active_MIN\\tCC_NAME_CONTRACT_STATUS_Active_MAX\\tCC_NAME_CONTRACT_STATUS_Active_MEAN\\tCC_NAME_CONTRACT_STATUS_Active_SUM\\tCC_NAME_CONTRACT_STATUS_Active_VAR\\tCC_NAME_CONTRACT_STATUS_Approved_MIN\\tCC_NAME_CONTRACT_STATUS_Approved_MAX\\tCC_NAME_CONTRACT_STATUS_Approved_MEAN\\tCC_NAME_CONTRACT_STATUS_Approved_SUM\\tCC_NAME_CONTRACT_STATUS_Approved_VAR\\tCC_NAME_CONTRACT_STATUS_Completed_MIN\\tCC_NAME_CONTRACT_STATUS_Completed_MAX\\tCC_NAME_CONTRACT_STATUS_Completed_MEAN\\tCC_NAME_CONTRACT_STATUS_Completed_SUM\\tCC_NAME_CONTRACT_STATUS_Completed_VAR\\tCC_NAME_CONTRACT_STATUS_Demand_MIN\\tCC_NAME_CONTRACT_STATUS_Demand_MAX\\tCC_NAME_CONTRACT_STATUS_Demand_MEAN\\tCC_NAME_CONTRACT_STATUS_Demand_SUM\\tCC_NAME_CONTRACT_STATUS_Demand_VAR\\tCC_NAME_CONTRACT_STATUS_Refused_MIN\\tCC_NAME_CONTRACT_STATUS_Refused_MAX\\tCC_NAME_CONTRACT_STATUS_Refused_MEAN\\tCC_NAME_CONTRACT_STATUS_Refused_SUM\\tCC_NAME_CONTRACT_STATUS_Refused_VAR\\tCC_NAME_CONTRACT_STATUS_Sent proposal_MIN\\tCC_NAME_CONTRACT_STATUS_Sent proposal_MAX\\tCC_NAME_CONTRACT_STATUS_Sent proposal_MEAN\\tCC_NAME_CONTRACT_STATUS_Sent proposal_SUM\\tCC_NAME_CONTRACT_STATUS_Sent proposal_VAR\\tCC_NAME_CONTRACT_STATUS_Signed_MIN\\tCC_NAME_CONTRACT_STATUS_Signed_MAX\\tCC_NAME_CONTRACT_STATUS_Signed_MEAN\\tCC_NAME_CONTRACT_STATUS_Signed_SUM\\tCC_NAME_CONTRACT_STATUS_Signed_VAR\\tCC_NAME_CONTRACT_STATUS_nan_MIN\\tCC_NAME_CONTRACT_STATUS_nan_MAX\\tCC_NAME_CONTRACT_STATUS_nan_MEAN\\tCC_NAME_CONTRACT_STATUS_nan_SUM\\tCC_NAME_CONTRACT_STATUS_nan_VAR\\tCC_COUNT</th>\n",
              "      <td>100.0</td>\n",
              "      <td>0</td>\n",
              "      <td>float64</td>\n",
              "      <td>NaN</td>\n",
              "      <td>NaN</td>\n",
              "      <td>NaN</td>\n",
              "    </tr>\n",
              "  </tbody>\n",
              "</table>\n",
              "</div>"
            ],
            "text/plain": [
              "                                                                                                      % manquantes  \\\n",
              "column                                                                                                               \n",
              "SK_ID_CURR\\tTARGET\\tCODE_GENDER\\tFLAG_OWN_CAR\\tFLAG_OWN_REALTY\\tCNT_CHILDREN\\tAMT_INCOME_TOTAL\\tA...           0.0   \n",
              " partner\\tNAME_TYPE_SUITE_Unaccompanied\\tNAME_INCOME_TYPE_Businessman\\tNAME_INCOME_TYPE_Commercia...         100.0   \n",
              " brick\\tWALLSMATERIAL_MODE_Wooden\\tEMERGENCYSTATE_MODE_No\\tEMERGENCYSTATE_MODE_Yes\\tDAYS_EMPLOYED...         100.0   \n",
              " partner_MEAN\\tPREV_NAME_TYPE_SUITE_Unaccompanied_MEAN\\tPREV_NAME_TYPE_SUITE_nan_MEAN\\tPREV_NAME_...         100.0   \n",
              "\n",
              "                                                                                                      unique  \\\n",
              "column                                                                                                         \n",
              "SK_ID_CURR\\tTARGET\\tCODE_GENDER\\tFLAG_OWN_CAR\\tFLAG_OWN_REALTY\\tCNT_CHILDREN\\tAMT_INCOME_TOTAL\\tA...  307507   \n",
              " partner\\tNAME_TYPE_SUITE_Unaccompanied\\tNAME_INCOME_TYPE_Businessman\\tNAME_INCOME_TYPE_Commercia...       0   \n",
              " brick\\tWALLSMATERIAL_MODE_Wooden\\tEMERGENCYSTATE_MODE_No\\tEMERGENCYSTATE_MODE_Yes\\tDAYS_EMPLOYED...       0   \n",
              " partner_MEAN\\tPREV_NAME_TYPE_SUITE_Unaccompanied_MEAN\\tPREV_NAME_TYPE_SUITE_nan_MEAN\\tPREV_NAME_...       0   \n",
              "\n",
              "                                                                                                        dtype  \\\n",
              "column                                                                                                          \n",
              "SK_ID_CURR\\tTARGET\\tCODE_GENDER\\tFLAG_OWN_CAR\\tFLAG_OWN_REALTY\\tCNT_CHILDREN\\tAMT_INCOME_TOTAL\\tA...   object   \n",
              " partner\\tNAME_TYPE_SUITE_Unaccompanied\\tNAME_INCOME_TYPE_Businessman\\tNAME_INCOME_TYPE_Commercia...  float64   \n",
              " brick\\tWALLSMATERIAL_MODE_Wooden\\tEMERGENCYSTATE_MODE_No\\tEMERGENCYSTATE_MODE_Yes\\tDAYS_EMPLOYED...  float64   \n",
              " partner_MEAN\\tPREV_NAME_TYPE_SUITE_Unaccompanied_MEAN\\tPREV_NAME_TYPE_SUITE_nan_MEAN\\tPREV_NAME_...  float64   \n",
              "\n",
              "                                                                                                                                                                                                      min  \\\n",
              "column                                                                                                                                                                                                      \n",
              "SK_ID_CURR\\tTARGET\\tCODE_GENDER\\tFLAG_OWN_CAR\\tFLAG_OWN_REALTY\\tCNT_CHILDREN\\tAMT_INCOME_TOTAL\\tA...  100002\\t1\\t0\\t0\\t0\\t0\\t202500.0\\t406597.5\\t24700.5\\t351000.0\\t0.0188\\t-9461\\t-637.0\\t-3648.0\\t-2...   \n",
              " partner\\tNAME_TYPE_SUITE_Unaccompanied\\tNAME_INCOME_TYPE_Businessman\\tNAME_INCOME_TYPE_Commercia...                                                                                                  NaN   \n",
              " brick\\tWALLSMATERIAL_MODE_Wooden\\tEMERGENCYSTATE_MODE_No\\tEMERGENCYSTATE_MODE_Yes\\tDAYS_EMPLOYED...                                                                                                  NaN   \n",
              " partner_MEAN\\tPREV_NAME_TYPE_SUITE_Unaccompanied_MEAN\\tPREV_NAME_TYPE_SUITE_nan_MEAN\\tPREV_NAME_...                                                                                                  NaN   \n",
              "\n",
              "                                                                                                                                                                                                      max  \\\n",
              "column                                                                                                                                                                                                      \n",
              "SK_ID_CURR\\tTARGET\\tCODE_GENDER\\tFLAG_OWN_CAR\\tFLAG_OWN_REALTY\\tCNT_CHILDREN\\tAMT_INCOME_TOTAL\\tA...  456255\\t0\\t1\\t0\\t1\\t0\\t157500.0\\t675000.0\\t49117.5\\t675000.0\\t0.04623\\t-16856\\t-1262.0\\t-5130.0\\...   \n",
              " partner\\tNAME_TYPE_SUITE_Unaccompanied\\tNAME_INCOME_TYPE_Businessman\\tNAME_INCOME_TYPE_Commercia...                                                                                                  NaN   \n",
              " brick\\tWALLSMATERIAL_MODE_Wooden\\tEMERGENCYSTATE_MODE_No\\tEMERGENCYSTATE_MODE_Yes\\tDAYS_EMPLOYED...                                                                                                  NaN   \n",
              " partner_MEAN\\tPREV_NAME_TYPE_SUITE_Unaccompanied_MEAN\\tPREV_NAME_TYPE_SUITE_nan_MEAN\\tPREV_NAME_...                                                                                                  NaN   \n",
              "\n",
              "                                                                                                      std  \n",
              "column                                                                                                     \n",
              "SK_ID_CURR\\tTARGET\\tCODE_GENDER\\tFLAG_OWN_CAR\\tFLAG_OWN_REALTY\\tCNT_CHILDREN\\tAMT_INCOME_TOTAL\\tA...  NaN  \n",
              " partner\\tNAME_TYPE_SUITE_Unaccompanied\\tNAME_INCOME_TYPE_Businessman\\tNAME_INCOME_TYPE_Commercia...  NaN  \n",
              " brick\\tWALLSMATERIAL_MODE_Wooden\\tEMERGENCYSTATE_MODE_No\\tEMERGENCYSTATE_MODE_Yes\\tDAYS_EMPLOYED...  NaN  \n",
              " partner_MEAN\\tPREV_NAME_TYPE_SUITE_Unaccompanied_MEAN\\tPREV_NAME_TYPE_SUITE_nan_MEAN\\tPREV_NAME_...  NaN  "
            ]
          },
          "execution_count": 28,
          "metadata": {},
          "output_type": "execute_result"
        }
      ],
      "source": [
        "df_remplissage= outils_stats.decrire_dataframe(df_data)\n",
        "df_remplissage.head()"
      ]
    },
    {
      "cell_type": "code",
      "execution_count": 29,
      "metadata": {},
      "outputs": [
        {
          "data": {
            "text/plain": [
              "count      4.0\n",
              "mean      75.0\n",
              "std       50.0\n",
              "min        0.0\n",
              "25%       75.0\n",
              "50%      100.0\n",
              "75%      100.0\n",
              "max      100.0\n",
              "Name: % manquantes, dtype: float64"
            ]
          },
          "execution_count": 29,
          "metadata": {},
          "output_type": "execute_result"
        }
      ],
      "source": [
        "df_remplissage['% manquantes'].describe()"
      ]
    },
    {
      "cell_type": "markdown",
      "metadata": {},
      "source": [
        "- Plus que le moitié des colonnes ont moins que 6% des valeurs manquantes\n",
        "- Un quart des colonnes ont plus que 67% des données manquantes\n",
        "\n",
        "Si on décide qu'il faut un minimum de 70% de remplissage, combien de colonnes sont exclus?"
      ]
    },
    {
      "cell_type": "code",
      "execution_count": 30,
      "metadata": {},
      "outputs": [
        {
          "name": "stdout",
          "output_type": "stream",
          "text": [
            "% colonnes avec plus de 30% manquantes = 75 %\n"
          ]
        }
      ],
      "source": [
        "def proportion_cols_unfilled(df,col='% manquantes',threshold=30):\n",
        "    nb_cols= len(df)\n",
        "    cols_unfilled= (df[col]>threshold).sum()\n",
        "    proportion = cols_unfilled/nb_cols\n",
        "    return proportion\n",
        "prop_cols=proportion_cols_unfilled(df_remplissage)\n",
        "print(f'% colonnes avec plus de 30% manquantes = {(prop_cols*100):.0f} %')"
      ]
    },
    {
      "cell_type": "markdown",
      "metadata": {},
      "source": [
        "On visualise sur des graphiques"
      ]
    },
    {
      "cell_type": "code",
      "execution_count": 31,
      "metadata": {},
      "outputs": [
        {
          "data": {
            "text/plain": [
              "<matplotlib.legend.Legend at 0x18d0f4dde80>"
            ]
          },
          "execution_count": 31,
          "metadata": {},
          "output_type": "execute_result"
        },
        {
          "data": {
            "image/png": "[encoded data removed]",
            "text/plain": [
              "<Figure size 360x360 with 1 Axes>"
            ]
          },
          "metadata": {},
          "output_type": "display_data"
        }
      ],
      "source": [
        "sns.displot(data=df_remplissage, x='% manquantes', kind= 'ecdf')\n",
        "plt.axvline(35, label='threshold = 30% manquantes', ls='--',c='r')\n",
        "plt.xlabel('données manquantes (%)')\n",
        "plt.ylabel('proportion de colonnes')\n",
        "plt.legend()"
      ]
    }
  ],
  "metadata": {
    "colab": {
      "collapsed_sections": [],
      "name": "P7_nettoyage.ipynb",
      "provenance": [],
      "toc_visible": true
    },
    "interpreter": {
      "hash": "9f161018c5e2fdb25091822214a6434325c4d2222b4c3ef81019bf1117201605"
    },
    "kernelspec": {
      "display_name": "Python 3.7.0 ('OC_3')",
      "language": "python",
      "name": "python3"
    },
    "language_info": {
      "codemirror_mode": {
        "name": "ipython",
        "version": 3
      },
      "file_extension": ".py",
      "mimetype": "text/x-python",
      "name": "python",
      "nbconvert_exporter": "python",
      "pygments_lexer": "ipython3",
      "version": "3.7.0"
    }
  },
  "nbformat": 4,
  "nbformat_minor": 0
}
